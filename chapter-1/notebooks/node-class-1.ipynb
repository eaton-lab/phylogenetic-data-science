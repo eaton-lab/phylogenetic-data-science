{
 "cells": [
  {
   "cell_type": "markdown",
   "id": "13fabb9f",
   "metadata": {},
   "source": [
    "# 1.5 - Code - Node class\n",
    "\n",
    "This notebook can be used to following along with the reading in chapter 1.5."
   ]
  },
  {
   "cell_type": "markdown",
   "id": "d9a6c2da",
   "metadata": {},
   "source": [
    "## Node class (simple)"
   ]
  },
  {
   "cell_type": "code",
   "execution_count": 273,
   "id": "bc826931",
   "metadata": {},
   "outputs": [],
   "source": [
    "class Node:\n",
    "    def __init__(self, name):\n",
    "        self.name = name\n",
    "        self.children = ()\n",
    "        self.up = None"
   ]
  },
  {
   "cell_type": "code",
   "execution_count": 274,
   "id": "6a5eaa67",
   "metadata": {},
   "outputs": [
    {
     "name": "stdout",
     "output_type": "stream",
     "text": [
      "<__main__.Node object at 0x7fa222207d90>\n"
     ]
    }
   ],
   "source": [
    "node_A = Node(name=\"A\")\n",
    "print(node_A)"
   ]
  },
  {
   "cell_type": "markdown",
   "id": "66a5476c",
   "metadata": {},
   "source": [
    "## Class Style"
   ]
  },
  {
   "cell_type": "code",
   "execution_count": 275,
   "id": "b5320eaa",
   "metadata": {},
   "outputs": [],
   "source": [
    "from typing import Tuple, Optional\n",
    "\n",
    "class Node:\n",
    "    \"\"\"A single Node that connects to other Nodes to create a tree structure.\n",
    "\n",
    "    Parameters\n",
    "    ----------\n",
    "    name: str\n",
    "        A string label applied to this Node.\n",
    "\n",
    "    Attributes\n",
    "    ----------\n",
    "    children: Tuple of Nodes\n",
    "        An ordered tuple of Nodes directly descended (children) of this Node.\n",
    "    up: Node or None\n",
    "        The parent (ancestor) of this Node\n",
    "\n",
    "    Examples\n",
    "    --------\n",
    "    >>> node_a = Node(name=\"A\")\n",
    "    >>> node_b = Node(name=\"B\")\n",
    "    >>> node_a.children = (node_b,)\n",
    "    >>> node_b.up = node_a\n",
    "    \"\"\"\n",
    "    def __init__(self, name: str):\n",
    "        self.name = name\n",
    "\n",
    "        # attributes to be updated after init to form connections.\n",
    "        self.children: Tuple['Node'] = ()\n",
    "        self.up: Optional['Node'] = None"
   ]
  },
  {
   "cell_type": "markdown",
   "id": "1d57c7ac",
   "metadata": {},
   "source": [
    "## Connecting Nodes"
   ]
  },
  {
   "cell_type": "code",
   "execution_count": 276,
   "id": "9299400f",
   "metadata": {},
   "outputs": [],
   "source": [
    "# create several Node instances\n",
    "node_a = Node(name=\"A\")\n",
    "node_b = Node(name=\"B\")\n",
    "node_c = Node(name=\"C\")\n",
    "\n",
    "# connect them by setting their children and/or up attributes\n",
    "node_a.children = (node_b, node_c)\n",
    "node_b.up = node_a\n",
    "node_c.up = node_a"
   ]
  },
  {
   "cell_type": "code",
   "execution_count": 278,
   "id": "f371825e",
   "metadata": {},
   "outputs": [
    {
     "name": "stdout",
     "output_type": "stream",
     "text": [
      "A --> B\n",
      "A --> C\n"
     ]
    }
   ],
   "source": [
    "# e.g., get edge information from Nodes .children attributes\n",
    "for node in (node_a, node_b, node_c):\n",
    "    for child in node.children:\n",
    "        print(node.name, \"-->\", child.name)"
   ]
  },
  {
   "cell_type": "code",
   "execution_count": 279,
   "id": "52848da3",
   "metadata": {},
   "outputs": [
    {
     "name": "stdout",
     "output_type": "stream",
     "text": [
      "A --> B\n",
      "A --> C\n"
     ]
    }
   ],
   "source": [
    "# e.g., get edge information from Nodes .up attributes\n",
    "for node in (node_a, node_b, node_c):\n",
    "    if node.up:\n",
    "        print(node.up.name, \"-->\", node.name)"
   ]
  },
  {
   "cell_type": "markdown",
   "id": "67a2b08c",
   "metadata": {},
   "source": [
    "## Object-oriented programming"
   ]
  },
  {
   "cell_type": "code",
   "execution_count": 280,
   "id": "48ea85bf",
   "metadata": {},
   "outputs": [],
   "source": [
    "class Node:\n",
    "    \"\"\"A Node instance that includes a method as an example.\"\"\"\n",
    "    def __init__(self, name: str):\n",
    "        self.name = name\n",
    "        self.children: Tuple[\"Node\"] = ()\n",
    "        self.up: Optional[\"Node\"] = None\n",
    "\n",
    "    def add_child(self, name: str) -> None:\n",
    "        \"\"\"Creates a new Node and connects it as a child to this Node.\"\"\"\n",
    "        new_node = Node(name=name)\n",
    "        new_node.up = self\n",
    "        self.children += (new_node, )"
   ]
  },
  {
   "cell_type": "code",
   "execution_count": 281,
   "id": "1b4532a2",
   "metadata": {},
   "outputs": [],
   "source": [
    "node_a = Node(\"A\")\n",
    "node_a.add_child(\"B\")\n",
    "node_a.add_child(\"C\")"
   ]
  },
  {
   "cell_type": "markdown",
   "id": "e2cdd565",
   "metadata": {},
   "source": [
    "## Node class (advanced)"
   ]
  },
  {
   "cell_type": "code",
   "execution_count": 282,
   "id": "6b313f46",
   "metadata": {},
   "outputs": [],
   "source": [
    "class Node:\n",
    "    \"\"\"A Node instance that can connect with other Nodes to form a Tree.\n",
    "\n",
    "    Parameters\n",
    "    ----------\n",
    "    name: str\n",
    "        A name string associated with a Node when printed or visualized.\n",
    "    dist: float\n",
    "        A float value as the distance between this Node and its parent (up)\n",
    "\n",
    "    Attributes\n",
    "    ----------\n",
    "    children: Tuple\n",
    "        A tuple of Node instances that are descended from this Node.\n",
    "    up: Node or None\n",
    "        A Node that is ancestral to this Node, or None if this Node is root.\n",
    "    \"\"\"\n",
    "    def __init__(self, name: str=\"\", dist: float=0.):\n",
    "        self.name = str(name)\n",
    "        self.dist = float(dist)\n",
    "        self.children: Tuple['Node'] = ()\n",
    "        self.up: Optional['Node'] = None\n",
    "\n",
    "    def __repr__(self) -> str:\n",
    "        \"\"\"Return string representation as Node(name).\"\"\"\n",
    "        return f\"Node({self.name})\"\n",
    "\n",
    "    def is_leaf(self) -> bool:\n",
    "        \"\"\"Return True if Node is a leaf (i.e., has no children).\"\"\"\n",
    "        return not bool(self.children)\n",
    "\n",
    "    def is_root(self) -> bool:\n",
    "        \"\"\"Return True if Node is the root (i.e., has no ancestor).\"\"\"\n",
    "        return bool(self.up is None)\n",
    "\n",
    "    def add_child(self, name: str=\"\", dist: float=0.) -> \"Node\":\n",
    "        \"\"\"Add a Node as a child to this one.\"\"\"\n",
    "        new_node = Node(name=name, dist=dist)\n",
    "        new_node.up = self\n",
    "        self.children += (new_node,)\n",
    "        return new_node"
   ]
  },
  {
   "cell_type": "code",
   "execution_count": 285,
   "id": "17b1bdc0",
   "metadata": {},
   "outputs": [
    {
     "name": "stdout",
     "output_type": "stream",
     "text": [
      "Node(A) A 0.0 False True (Node(B), Node(C))\n",
      "Node(B) B 1.0 True False ()\n",
      "Node(C) C 2.0 True False ()\n"
     ]
    }
   ],
   "source": [
    "# create three connected Nodes\n",
    "node_a = Node(\"A\", dist=0)\n",
    "node_b = node_a.add_child(\"B\", dist=1)\n",
    "node_c = node_a.add_child(\"C\", dist=2)\n",
    "\n",
    "# iteratate over Nodes and print information\n",
    "for node in (node_a, node_b, node_c):\n",
    "    print(node, node.name, node.dist, node.is_leaf(), node.is_root(), node.children)"
   ]
  },
  {
   "cell_type": "markdown",
   "id": "5194ee92",
   "metadata": {},
   "source": [
    "## Class inheritance"
   ]
  },
  {
   "cell_type": "code",
   "execution_count": 286,
   "id": "60cb5abc",
   "metadata": {},
   "outputs": [],
   "source": [
    "class BiNode(Node):\n",
    "    \"\"\"A subclass of Node that cannot add >2 children to a BiNode.\"\"\"\n",
    "\n",
    "    def __repr__(self):\n",
    "        \"\"\"Return string representation of this class instance\"\"\"\n",
    "        return f\"BiNode({self.name})\"\n",
    "\n",
    "    def add_child(self, name: str, dist: float=0.) -> 'BiNode':\n",
    "        \"\"\"Creates a new BiNode and connects it as a child to this BiNode.\"\"\"\n",
    "        # raise an exception if the BiNode already has 2 children.\n",
    "        if len(self.children) >= 2:\n",
    "            raise ValueError(\"Cannot add >2 children to a BiNode.\")\n",
    "        # else, create and connect the new BiNode\n",
    "        new_node = BiNode(name=name, dist=dist)\n",
    "        new_node.up = self\n",
    "        self.children += (new_node, )\n",
    "        return new_node"
   ]
  },
  {
   "cell_type": "code",
   "execution_count": 287,
   "id": "fc614fcd",
   "metadata": {},
   "outputs": [
    {
     "name": "stdout",
     "output_type": "stream",
     "text": [
      "BiNode(A) A 0.0 False True (BiNode(B), BiNode(C))\n",
      "BiNode(B) B 1.0 True False ()\n",
      "BiNode(C) C 2.0 True False ()\n"
     ]
    }
   ],
   "source": [
    "# create three connected BiNodes\n",
    "node_a = BiNode(\"A\", dist=0)\n",
    "node_b = node_a.add_child(\"B\", dist=1)\n",
    "node_c = node_a.add_child(\"C\", dist=2)\n",
    "\n",
    "# iteratate over BiNodes and print information\n",
    "for node in (node_a, node_b, node_c):\n",
    "    print(node, node.name, node.dist, node.is_leaf(), node.is_root(), node.children)"
   ]
  },
  {
   "cell_type": "code",
   "execution_count": 288,
   "id": "b0635d34",
   "metadata": {},
   "outputs": [],
   "source": [
    "## uncomment and execute the code below to raise an Exception\n",
    "# node_a.add_child(\"D\")"
   ]
  }
 ],
 "metadata": {
  "kernelspec": {
   "display_name": "Python 3 (ipykernel)",
   "language": "python",
   "name": "python3"
  },
  "language_info": {
   "codemirror_mode": {
    "name": "ipython",
    "version": 3
   },
   "file_extension": ".py",
   "mimetype": "text/x-python",
   "name": "python",
   "nbconvert_exporter": "python",
   "pygments_lexer": "ipython3",
   "version": "3.9.7"
  }
 },
 "nbformat": 4,
 "nbformat_minor": 5
}
