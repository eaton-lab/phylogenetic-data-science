{
 "cells": [
  {
   "cell_type": "markdown",
   "id": "f08b6c9d-730e-4862-a4c4-ab233622137d",
   "metadata": {
    "tags": []
   },
   "source": [
    "# Iterator\n",
    "Iterators are a type of object in Python containing other types of data (iterables) and can traverse all values using the method `__next__` or the function `next()`.  They can be defined using the function `iter()`, and they also can be the result of other functions found in Python.\n",
    "\n",
    "The biggest difference between an iterator with an iterable (like a list, tuple, dictionary, or sets) is that the latter is just a container.\n",
    "\n",
    "Let's define one iterator from a simple list:"
   ]
  },
  {
   "cell_type": "code",
   "execution_count": 113,
   "id": "0215af03-7526-40d8-9a73-6a6f1a865b33",
   "metadata": {},
   "outputs": [],
   "source": [
    "my_list = [\"a\", 2, 3, 4, 5, 6]\n",
    "\n",
    "my_iterator = iter(my_list)"
   ]
  },
  {
   "cell_type": "markdown",
   "id": "35c7155c-f358-4b47-b15f-b9acd45f1f4d",
   "metadata": {},
   "source": [
    "You can traverse through all the value only using the function `next()`. You can see this when you run the following cell multiple times. Notice how the element returned will change every time you call `next`."
   ]
  },
  {
   "cell_type": "code",
   "execution_count": 110,
   "id": "a2b7e1f8-fddb-4e47-929b-b77d7424fc82",
   "metadata": {},
   "outputs": [
    {
     "data": {
      "text/plain": [
       "5"
      ]
     },
     "execution_count": 110,
     "metadata": {},
     "output_type": "execute_result"
    }
   ],
   "source": [
    "next(my_iterator)\n",
    "# or using my_iterator.__next__()"
   ]
  },
  {
   "cell_type": "markdown",
   "id": "f1ec82e0-ec7e-400c-a818-508a7f6691ec",
   "metadata": {},
   "source": [
    "This is what a `for` statement does. It creates an iterator from an iterable and executes the method `__next__` for each loop.\n",
    "\n",
    "You can convert an iterator in an interable using the proper function. For example, in the following code, we will transform our iterator into a set:"
   ]
  },
  {
   "cell_type": "code",
   "execution_count": 111,
   "id": "d2acff10-4431-4c75-aed5-3a5c96c2be52",
   "metadata": {},
   "outputs": [
    {
     "data": {
      "text/plain": [
       "{6}"
      ]
     },
     "execution_count": 111,
     "metadata": {},
     "output_type": "execute_result"
    }
   ],
   "source": [
    "set(my_iterator)"
   ]
  },
  {
   "cell_type": "markdown",
   "id": "70eeac52-e671-420b-b4f9-2391b5e04fdb",
   "metadata": {},
   "source": [
    "Keep in mind that only the remaining elements in our iterator will be shown in our previous set.\n",
    "\n",
    "One advantage of iterators is that they only store one value at a time in memory. This is especially valuable when you design custom iterators using rules to define the next value instead of just giving a list of elements. Check the differences in the size of our list and our iterator."
   ]
  },
  {
   "cell_type": "code",
   "execution_count": 114,
   "id": "26b6e3cc-996a-4e19-9d8a-bd44a2ac1801",
   "metadata": {},
   "outputs": [
    {
     "name": "stdout",
     "output_type": "stream",
     "text": [
      "104\n",
      "48\n"
     ]
    }
   ],
   "source": [
    "from sys import getsizeof\n",
    "\n",
    "print(getsizeof(my_list))\n",
    "print(getsizeof(my_iterator))"
   ]
  },
  {
   "cell_type": "markdown",
   "id": "46c391ce-97b6-4830-af43-a31365f7a019",
   "metadata": {},
   "source": [
    "## Combinatorics in Python"
   ]
  },
  {
   "cell_type": "markdown",
   "id": "862403b8-045e-4c01-af5a-466cd696ccc7",
   "metadata": {},
   "source": [
    "Python also has some iterators that simplify some combinatoric tasks such as combinations, permutations, or cartesian products. These came in a Python module called `itertools`.\n",
    "\n",
    "This module contains various methods that allow us to produce some particular type of iterators. Imagine you want to get all possible combinations of elements within a given list. You can do it manually using a loop inside another loop to get all possible possibilities. "
   ]
  },
  {
   "cell_type": "code",
   "execution_count": null,
   "id": "76c3c1c6-e0fa-43bf-9a11-f0c89d9adc5f",
   "metadata": {},
   "outputs": [],
   "source": [
    "import itertools\n",
    "result = itertools.combinations([\"a\",\"b\",\"c\"], 2)"
   ]
  },
  {
   "cell_type": "markdown",
   "id": "ef3360be-9025-417d-b4ba-1f6493694fb7",
   "metadata": {},
   "source": [
    "We can iterate over each of the elements in results in the same way we did for our simple iterator. Run the following cell multiple times to see it."
   ]
  },
  {
   "cell_type": "code",
   "execution_count": null,
   "id": "6d75a1be-ef79-4823-92f0-4c3bdfb21d2e",
   "metadata": {},
   "outputs": [],
   "source": [
    "result.__next__()"
   ]
  },
  {
   "cell_type": "markdown",
   "id": "7b56e4c2-d6ef-41ac-a47b-8506b353a767",
   "metadata": {},
   "source": [
    "Let's create a single function that allows us to use four methods included in this module.\n",
    "\n",
    "You can achieve this goal in multiple ways; that is the beauty of coding -- diversity. Some codes are more efficient regarding memory, while others speed. In the following function, we used a dictionary to hold our operations."
   ]
  },
  {
   "cell_type": "code",
   "execution_count": 117,
   "id": "c79bff7b-31bc-4422-85d4-b87ea5d8b7ca",
   "metadata": {},
   "outputs": [],
   "source": [
    "# A suggestion for Function 1.1.1.A. \n",
    "import itertools\n",
    "def combinatoric(list1,\n",
    "                 list2=[],\n",
    "                 length=None,\n",
    "                 operation=\"co\" \n",
    "                ):\n",
    "    \"\"\"Function to apply some combinatoric operation using\n",
    "    predefined iterators included in itertools module.\n",
    "    \n",
    "    Parameters\n",
    "    ----------\n",
    "    list1 : iterable\n",
    "        List of element to pass as iterable to iterators.\n",
    "    list2 : iterable, optional\n",
    "        Optional iist of element to pass as iterable only for produc iterators.\n",
    "    length : int\n",
    "        Desired length of each iterator result. By default it is the length \n",
    "        of list1.\n",
    "    operation : str\n",
    "        String that control which iterator apply. It should be one of the \n",
    "        following: \n",
    "            \"co\": combination. Default option\n",
    "            \"cr\": combination with replacement\n",
    "            \"pe\": permutation\n",
    "            \"pr\": product\n",
    "        \n",
    "    Returns\n",
    "    -------\n",
    "    list\n",
    "        Return a list with the results of a given combinatoric iterator.\n",
    "    \"\"\"\n",
    "    \n",
    "    # define default length\n",
    "    if not length:\n",
    "        length = len(list1)\n",
    "        \n",
    "    # define dictionary with different functions\n",
    "    main_dict = {\"co\": itertools.combinations(list1, length),\n",
    "                 \"cr\": itertools.combinations_with_replacement(list1, length),\n",
    "                 \"pe\": itertools.permutations(list1, length),\n",
    "                 \"pr\": itertools.product(list1, list2),\n",
    "    }\n",
    "    \n",
    "    # exe\n",
    "    result = main_dict[operation]\n",
    "    \n",
    "    return result\n",
    "    "
   ]
  },
  {
   "cell_type": "markdown",
   "id": "e8e86b2a-1d3f-4070-8234-52b99fbd4ebe",
   "metadata": {},
   "source": [
    "Test the function:"
   ]
  },
  {
   "cell_type": "code",
   "execution_count": 118,
   "id": "b9e8e16a-afdd-4319-b55c-d9c7eb8a56f6",
   "metadata": {},
   "outputs": [
    {
     "data": {
      "text/plain": [
       "<itertools.combinations at 0x7fba42e8f180>"
      ]
     },
     "execution_count": 118,
     "metadata": {},
     "output_type": "execute_result"
    }
   ],
   "source": [
    "combinatoric(\"abcd\", length=2, operation=\"co\")"
   ]
  },
  {
   "cell_type": "markdown",
   "id": "9dca0545-edf4-4814-b075-b60d09488c59",
   "metadata": {},
   "source": [
    "Let's see the content of this iterator:"
   ]
  },
  {
   "cell_type": "code",
   "execution_count": 120,
   "id": "59197628-1e8e-4574-9a59-2467b2ac19df",
   "metadata": {},
   "outputs": [
    {
     "data": {
      "text/plain": [
       "{('a', 'x'),\n",
       " ('a', 'y'),\n",
       " ('a', 'z'),\n",
       " ('b', 'x'),\n",
       " ('b', 'y'),\n",
       " ('b', 'z'),\n",
       " ('c', 'x'),\n",
       " ('c', 'y'),\n",
       " ('c', 'z'),\n",
       " ('d', 'x'),\n",
       " ('d', 'y'),\n",
       " ('d', 'z')}"
      ]
     },
     "execution_count": 120,
     "metadata": {},
     "output_type": "execute_result"
    }
   ],
   "source": [
    "set(combinatoric(\"abcd\", \"xyz\", operation=\"pr\"))"
   ]
  }
 ],
 "metadata": {
  "kernelspec": {
   "display_name": "Python 3 (ipykernel)",
   "language": "python",
   "name": "python3"
  },
  "language_info": {
   "codemirror_mode": {
    "name": "ipython",
    "version": 3
   },
   "file_extension": ".py",
   "mimetype": "text/x-python",
   "name": "python",
   "nbconvert_exporter": "python",
   "pygments_lexer": "ipython3",
   "version": "3.8.10"
  }
 },
 "nbformat": 4,
 "nbformat_minor": 5
}
