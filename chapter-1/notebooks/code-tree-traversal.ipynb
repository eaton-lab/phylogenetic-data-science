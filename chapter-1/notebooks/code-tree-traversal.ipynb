{
 "cells": [
  {
   "cell_type": "markdown",
   "id": "9a458b71",
   "metadata": {},
   "source": [
    "# Code tree traversal"
   ]
  },
  {
   "cell_type": "markdown",
   "id": "88e4bc05",
   "metadata": {},
   "source": [
    "## Node class"
   ]
  },
  {
   "cell_type": "code",
   "execution_count": 967,
   "id": "d02360a9",
   "metadata": {},
   "outputs": [],
   "source": [
    "from typing import Iterator\n",
    "\n",
    "class Tree:\n",
    "    \"\"\"A Tree is a collection of Nodes with cached traversal data.\n",
    "\n",
    "    A Tree is initialized from a root Node, where upon it will perform a\n",
    "    tree traversal to cache Node data and store the idxorder traversal. \n",
    "    This cache will be auto-updated if the tree topology is changed.\n",
    "\n",
    "    Parameters\n",
    "    ----------\n",
    "    treenode: Node\n",
    "        The root Node of a tree data structure of Nodes.\n",
    "\n",
    "    Attributes\n",
    "    ----------\n",
    "    nnodes: int\n",
    "        The number of total Nodes in the tree.\n",
    "    ntips: int\n",
    "        The number of tip Nodes in the tree.\n",
    "    \n",
    "    Examples\n",
    "    --------\n",
    "    >>> treenode = get_random_tree(ntips=20)\n",
    "    >>> tree = Tree(treenode)\n",
    "    >>> print(tree)\n",
    "    \"\"\"\n",
    "    def __init__(self, treenode: \"Node\"):\n",
    "        self.treenode = treenode\n",
    "\n",
    "        # attributes to be filled: cached traversal data\n",
    "        self.nnodes: int = 0\n",
    "        self.ntips: int = 0\n",
    "        self._idx_dict: Dict[int, 'Node'] = {}\n",
    "\n",
    "        # run caching of Node data.\n",
    "        self._update_cache()\n",
    "\n",
    "    def __repr__(self) -> str:\n",
    "        \"\"\"Return a representation of the tree as a string.\"\"\"\n",
    "        tip_name_string = str([self[i].name for i in range(5)])[:20] + \", ...]\"\n",
    "        return f\"<Tree ntips={self.ntips}, tips={tip_name_string}>\"\n",
    "\n",
    "    def __getitem__(self, idx: int) -> \"Node\":\n",
    "        \"\"\"Return a Node by its cached idxorder label (idx)\"\"\"\n",
    "        return self._idx_dict[idx]  \n",
    "\n",
    "    def __iter__(self) -> Iterator[\"Node\"]:\n",
    "        \"\"\"Return an iterator over Nodes in idxorder.\"\"\"\n",
    "        return (self[i] for i in range(self.nnodes))\n",
    "\n",
    "    def _update_cache(self) -> Iterator['Node']:\n",
    "        \"\"\"Yield Nodes in idxorder, fills ._idx_dict cache, and sets Node.idx.\n",
    "\n",
    "        This function must be called anytime the tree structure is modified\n",
    "        by including it at the end of a function that modifies the tree.\n",
    "        \"\"\"\n",
    "        # reset values\n",
    "        self.nnodes = 0\n",
    "        self.ntips = 0\n",
    "        self._idx_dict.clear()\n",
    "        \n",
    "        # iterate in idxorder to set Node.idx attributes and counters\n",
    "        for idx, node in enumerate(self.traverse('idxorder')):\n",
    "            node._idx = idx\n",
    "            self._idx_dict[node._idx] = node\n",
    "            self.nnodes += 1\n",
    "            if node.is_leaf():\n",
    "                self.ntips += 1\n",
    "\n",
    "    def traverse(self, strategy: str=\"idxorder\") -> Iterator['Node']:\n",
    "        \"\"\"See :meth:`Node.traverse` docstring.\"\"\"\n",
    "        return self.treenode.traverse(strategy)\n",
    "\n",
    "    \n",
    "Tree.traverse.__doc__ = Node.traverse.__doc__\n"
   ]
  },
  {
   "cell_type": "code",
   "execution_count": 971,
   "id": "e02f9e3d",
   "metadata": {},
   "outputs": [
    {
     "name": "stdout",
     "output_type": "stream",
     "text": [
      "27.9 µs ± 576 ns per loop (mean ± std. dev. of 7 runs, 10,000 loops each)\n"
     ]
    }
   ],
   "source": [
    "%%timeit\n",
    "[i for i in t.traverse(\"levelorder\")]"
   ]
  },
  {
   "cell_type": "code",
   "execution_count": 972,
   "id": "f401e07b",
   "metadata": {},
   "outputs": [
    {
     "name": "stdout",
     "output_type": "stream",
     "text": [
      "4.5 µs ± 90.5 ns per loop (mean ± std. dev. of 7 runs, 100,000 loops each)\n"
     ]
    }
   ],
   "source": [
    "%%timeit\n",
    "[i for i in t._idx_dict.values()]"
   ]
  },
  {
   "cell_type": "code",
   "execution_count": null,
   "id": "aa3e4a6e",
   "metadata": {},
   "outputs": [],
   "source": []
  },
  {
   "cell_type": "code",
   "execution_count": 966,
   "id": "9429924d",
   "metadata": {},
   "outputs": [],
   "source": [
    "t = Tree(root_node)\n",
    "t.traverse?"
   ]
  },
  {
   "cell_type": "code",
   "execution_count": 961,
   "id": "2cf4db58",
   "metadata": {},
   "outputs": [
    {
     "name": "stdout",
     "output_type": "stream",
     "text": [
      "Object `traverse` not found.\n"
     ]
    }
   ],
   "source": [
    "Tree(root_node).traverse?"
   ]
  },
  {
   "cell_type": "code",
   "execution_count": null,
   "id": "45abda8c",
   "metadata": {},
   "outputs": [],
   "source": [
    "Tree(root_node).traverse"
   ]
  },
  {
   "cell_type": "code",
   "execution_count": null,
   "id": "5d8a5a61",
   "metadata": {},
   "outputs": [],
   "source": [
    "Tree(root_node).traverse"
   ]
  },
  {
   "cell_type": "code",
   "execution_count": null,
   "id": "c4781179",
   "metadata": {},
   "outputs": [],
   "source": []
  },
  {
   "cell_type": "code",
   "execution_count": null,
   "id": "8fccd315",
   "metadata": {},
   "outputs": [],
   "source": []
  },
  {
   "cell_type": "code",
   "execution_count": 818,
   "id": "f217eadd",
   "metadata": {},
   "outputs": [],
   "source": [
    "\n",
    "    from typing import Tuple, Optional, Iterator\n",
    "    from collections import deque\n",
    "\n",
    "    class Node:\n",
    "        \"\"\"A Node instance that can connect with other Nodes to form a Tree.\n",
    "\n",
    "        Parameters\n",
    "        ----------\n",
    "        name: str\n",
    "            A name string associated with a Node when printed or visualized.\n",
    "        dist: float\n",
    "            A float value as the distance between this Node and its parent (up)\n",
    "\n",
    "        Attributes\n",
    "        ----------\n",
    "        children: Tuple\n",
    "            A tuple of Node instances that are descended from this Node.\n",
    "        up: Node or None\n",
    "            A Node that is ancestral to this Node, or None if this Node is root.\n",
    "\n",
    "        Examples\n",
    "        --------\n",
    "        >>> node = Node(\"A\")\n",
    "        >>> node.add_child(\"B\")\n",
    "        >>> print(node.name, node.children)\n",
    "        \"\"\"\n",
    "        def __init__(self, name: str=\"\", dist: float=0.):\n",
    "            self.name = str(name)\n",
    "            self.dist = float(dist)\n",
    "            self.children: Tuple['Node'] = ()\n",
    "            self.up: Optional['Node'] = None\n",
    "\n",
    "        def __repr__(self) -> str:\n",
    "            \"\"\"Return string representation as Node(name).\"\"\"\n",
    "            return f\"Node({self.name})\"\n",
    "\n",
    "        def is_leaf(self) -> bool:\n",
    "            \"\"\"Return True if Node is a leaf (i.e., has no children).\"\"\"\n",
    "            return not bool(self.children)\n",
    "\n",
    "        def is_root(self) -> bool:\n",
    "            \"\"\"Return True if Node is the root (i.e., has no ancestor).\"\"\"\n",
    "            return bool(self.up is None)\n",
    "\n",
    "        def add_child(self, name: str=\"\", dist: float=0.) -> \"Node\":\n",
    "            \"\"\"Add a Node as a child to this one.\"\"\"\n",
    "            new_node = Node(name=name, dist=dist)\n",
    "            new_node.up = self\n",
    "            self.children += (new_node,)\n",
    "            return new_node\n",
    "\n",
    "        ############################################################\n",
    "        ## TRAVERSAL FUNCTIONS                                    ##\n",
    "        ############################################################\n",
    "\n",
    "        def traverse(self, strategy: str=\"levelorder\") -> Iterator['Node']:\n",
    "            \"\"\"Return a generator over all Nodes using a tree traversal strategy.\n",
    "\n",
    "            Parameters\n",
    "            ----------\n",
    "            strategy: str\n",
    "                A traversal strategy for the order in which nodes will\n",
    "                be visited: 'preorder', 'postorder', 'levelorder',\n",
    "                'inorder', or 'idxorder'.\n",
    "\n",
    "            Notes\n",
    "            -----\n",
    "            preorder:\n",
    "                Parents are visited before children. Traverses all the way\n",
    "                down each left subtree before backtracking to right subtree.\n",
    "            postorder:\n",
    "                Children are visited before parents. The left subtree is\n",
    "                visited, then right, then the parent.\n",
    "            levelorder:\n",
    "                Nodes the same depth from root are visited left to\n",
    "                right, before descending to next level.\n",
    "            idxorder:\n",
    "                Leaf nodes are visited left to right, followed by internal\n",
    "                nodes in postorder traversal order.\n",
    "            \"\"\"\n",
    "            if strategy == \"preorder\":\n",
    "                return self._traverse_preorder()\n",
    "            if strategy == \"levelorder\":\n",
    "                return self._traverse_levelorder()\n",
    "            if strategy == \"postorder\":\n",
    "                return self._traverse_postorder()\n",
    "            if strategy == \"idxorder\":\n",
    "                return self._traverse_idxorder()\n",
    "            raise ValueError(\n",
    "                f\"strategy {strategy} is not a supported traversal algorithm\")\n",
    "\n",
    "        def _traverse_preorder(self) -> Iterator['Node']:\n",
    "            \"\"\"Iterate over all nodes by 'preorder' traversal.\"\"\"\n",
    "            queue = deque([self])\n",
    "            while queue:\n",
    "                node = queue.pop()\n",
    "                yield node\n",
    "                queue.extend(node.children[::-1])\n",
    "\n",
    "        def _traverse_levelorder(self) -> Iterator['Node']:\n",
    "            \"\"\"Iterate over all desdecendant nodes in levelorder.\"\"\"\n",
    "            queue = deque([self])\n",
    "            while queue:\n",
    "                node = queue.popleft()\n",
    "                yield node\n",
    "                queue.extend(node.children)\n",
    "\n",
    "        def _traverse_postorder(self) -> Iterator['Node']:\n",
    "            \"\"\"Iterate over all descendant nodes in tip-to-root order.\"\"\"\n",
    "            queue = deque([self])\n",
    "            stack = deque()\n",
    "            while queue:\n",
    "                # get node from queue and add to the output stack\n",
    "                node = queue.pop()\n",
    "                stack.append(node)\n",
    "                # add node's children to the queue\n",
    "                queue.extend(node.children)\n",
    "            # yield nodes in reverse order they were added to stack\n",
    "            while stack:\n",
    "                yield stack.pop()\n",
    "\n",
    "        def _traverse_idxorder(self) -> Iterator['Node']:\n",
    "            \"\"\"Iterates over all nodes in 'idx' order.\"\"\"\n",
    "            queue = deque([self])\n",
    "            inner_stack = deque()\n",
    "            outer_stack = deque()\n",
    "            node = self\n",
    "            while queue:\n",
    "\n",
    "                # get node from end of the queue\n",
    "                node = queue.pop()\n",
    "\n",
    "                # if node is leaf insert to output stack ntips from right\n",
    "                if node.is_leaf():\n",
    "                    outer_stack.append(node)\n",
    "\n",
    "                # if not leaf then insert to output stack...\n",
    "                else:\n",
    "                    inner_stack.append(node)\n",
    "\n",
    "                # add node's children to the queue\n",
    "                queue.extend(node.children)\n",
    "\n",
    "            # return nodes in reverse order they were added to stack\n",
    "            while outer_stack:\n",
    "                yield outer_stack.pop()\n",
    "            while inner_stack:\n",
    "                yield inner_stack.pop()\n",
    "\n",
    "        ######################################################\n",
    "        ## LEAF AND NAME RETRIEVAL                          ##\n",
    "        ######################################################\n",
    "\n",
    "        def _iter_leaves(self) -> Iterator['Node']:\n",
    "            \"\"\"Return a Generator of leaves descended from this node in\n",
    "            idxorder.\"\"\"\n",
    "            for node in self.traverse(strategy=\"idxorder\"):\n",
    "                if not node.children:\n",
    "                    yield node\n",
    "\n",
    "        def get_leaves(self) -> Tuple['Node']:\n",
    "            \"\"\"Return a list of leaf nodes descended from this node in\n",
    "            idxorder.\"\"\"\n",
    "            return tuple(self._iter_leaves())\n",
    "\n",
    "        def _iter_leaf_names(self) -> Iterator[str]:\n",
    "            \"\"\"Return a Generator of names of Nodes descended from this\n",
    "            node in idxorder.\"\"\"\n",
    "            for node in self._iter_leaves():\n",
    "                yield node.name\n",
    "\n",
    "        def get_leaf_names(self) -> Tuple[str]:\n",
    "            \"\"\"Return a list of names of Nodes descended from this node\n",
    "            in idxorder.\"\"\"\n",
    "            return tuple(self._iter_leaf_names())\n",
    "\n",
    "        #################################################\n",
    "        ## NODE RELATIVE RETRIEVAL / TRAVERSAL\n",
    "        #################################################\n",
    "\n",
    "        def _iter_sisters(self) -> Iterator['Node']:\n",
    "            \"\"\"Return a Generator to iterate over sister nodes.\"\"\"\n",
    "            if self.up:\n",
    "                for child in self.up.children:\n",
    "                    if child != self:\n",
    "                        yield child\n",
    "\n",
    "        def get_sisters(self) -> Tuple['Node']:\n",
    "            \"\"\"Return list of other Nodes that are children of same parent.\"\"\"\n",
    "            return tuple(self._iter_sisters())\n",
    "\n",
    "        def _iter_descendants(self, strategy: str=\"levelorder\") -> Iterator['Node']:\n",
    "            \"\"\"Return a Generator of descendant Nodes (not including self).\"\"\"\n",
    "            for node in self.traverse(strategy=strategy):\n",
    "                yield node\n",
    "\n",
    "        def get_descendants(self, strategy: str=\"levelorder\") -> Tuple['Node']:\n",
    "            \"\"\"Return a list of descendant Nodes (not including self).\"\"\"\n",
    "            return tuple(self._iter_descendants(strategy=strategy))\n",
    "\n",
    "        def _iter_ancestors(self) -> Iterator['Node']:\n",
    "            \"\"\"Return a Generator of Nodes on path from this node to root.\"\"\"\n",
    "            node = self\n",
    "            while node.up:\n",
    "                yield node\n",
    "\n",
    "        def get_ancestors(self) -> Tuple['Node']:\n",
    "            \"\"\"Return a list of Nodes on path from this node to root.\"\"\"\n",
    "            return tuple(self._iter_ancestors())            \n"
   ]
  },
  {
   "cell_type": "code",
   "execution_count": 824,
   "id": "e4b7513f",
   "metadata": {},
   "outputs": [
    {
     "name": "stdout",
     "output_type": "stream",
     "text": [
      "levelorder [Node(root), Node(left1), Node(right1), Node(left3), Node(right3), Node(left2), Node(right2), Node(left5), Node(right5), Node(left4), Node(right4)]\n",
      "postorder [Node(left5), Node(right5), Node(left3), Node(left4), Node(right4), Node(right3), Node(left1), Node(left2), Node(right2), Node(right1), Node(root)]\n",
      "preorder [Node(root), Node(left1), Node(left3), Node(left5), Node(right5), Node(right3), Node(left4), Node(right4), Node(right1), Node(left2), Node(right2)]\n",
      "idxorder [Node(left5), Node(right5), Node(left4), Node(right4), Node(left2), Node(right2), Node(left3), Node(right3), Node(left1), Node(right1), Node(root)]\n",
      "Node(root):\ttips=('left5', 'right5', 'left4', 'right4', 'left2', 'right2')\n",
      "Node(left1):\ttips=('left5', 'right5', 'left4', 'right4')\n",
      "Node(right1):\ttips=('left2', 'right2')\n",
      "Node(left3):\ttips=('left5', 'right5')\n",
      "Node(right3):\ttips=('left4', 'right4')\n",
      "Node(left2):\ttips=('left2',)\n",
      "Node(right2):\ttips=('right2',)\n",
      "Node(left5):\ttips=('left5',)\n",
      "Node(right5):\ttips=('right5',)\n",
      "Node(left4):\ttips=('left4',)\n",
      "Node(right4):\ttips=('right4',)\n"
     ]
    }
   ],
   "source": [
    "# get a random 10-tip tree of connected Nodes\n",
    "root_node = get_random_tree(ntips=6, seed=123)\n",
    "\n",
    "# print Nodes in each traversal order\n",
    "for strategy in [\"levelorder\", \"postorder\", \"preorder\", \"idxorder\"]:\n",
    "    order = root_node.traverse(strategy=strategy)\n",
    "    print(strategy, list(order))\n",
    "\n",
    "    \n",
    "# example: print each Node and its descendants\n",
    "for node in root_node.traverse(\"levelorder\"):\n",
    "    print(f\"{node}:\\ttips={node.get_leaf_names()}\")"
   ]
  },
  {
   "cell_type": "code",
   "execution_count": null,
   "id": "7e6b2185",
   "metadata": {},
   "outputs": [],
   "source": []
  },
  {
   "cell_type": "code",
   "execution_count": 808,
   "id": "99df3cf4",
   "metadata": {},
   "outputs": [],
   "source": [
    "from collections import deque\n",
    "a = list(get_random_tree(5, seed=123)._traverse_postorder())\n",
    "b = list(get_random_tree(5, seed=123)._traverse_postorder2())"
   ]
  },
  {
   "cell_type": "code",
   "execution_count": 815,
   "id": "5be626e6",
   "metadata": {},
   "outputs": [
    {
     "ename": "TypeError",
     "evalue": "'generator' object is not subscriptable",
     "output_type": "error",
     "traceback": [
      "\u001b[0;31m---------------------------------------------------------------------------\u001b[0m",
      "\u001b[0;31mTypeError\u001b[0m                                 Traceback (most recent call last)",
      "Input \u001b[0;32mIn [815]\u001b[0m, in \u001b[0;36m<module>\u001b[0;34m\u001b[0m\n\u001b[1;32m      1\u001b[0m t \u001b[38;5;241m=\u001b[39m get_random_tree(\u001b[38;5;241m5\u001b[39m)\n\u001b[0;32m----> 2\u001b[0m \u001b[43mt\u001b[49m\u001b[38;5;241;43m.\u001b[39;49m\u001b[43m_traverse_levelorder\u001b[49m\u001b[43m(\u001b[49m\u001b[43m)\u001b[49m\u001b[43m[\u001b[49m\u001b[43m:\u001b[49m\u001b[43m:\u001b[49m\u001b[38;5;241;43m-\u001b[39;49m\u001b[38;5;241;43m1\u001b[39;49m\u001b[43m]\u001b[49m\n",
      "\u001b[0;31mTypeError\u001b[0m: 'generator' object is not subscriptable"
     ]
    }
   ],
   "source": [
    "t = get_random_tree(5)\n",
    "t._traverse_levelorder()"
   ]
  },
  {
   "cell_type": "code",
   "execution_count": 811,
   "id": "5d3fdc28",
   "metadata": {},
   "outputs": [
    {
     "data": {
      "text/plain": [
       "[Node(left3),\n",
       " Node(left4),\n",
       " Node(right4),\n",
       " Node(right3),\n",
       " Node(left1),\n",
       " Node(left2),\n",
       " Node(right2),\n",
       " Node(right1),\n",
       " Node(root)]"
      ]
     },
     "execution_count": 811,
     "metadata": {},
     "output_type": "execute_result"
    }
   ],
   "source": [
    "list(b)"
   ]
  },
  {
   "cell_type": "markdown",
   "id": "391767b4",
   "metadata": {},
   "source": [
    "## Generating trees"
   ]
  },
  {
   "cell_type": "code",
   "execution_count": 12,
   "id": "7db842a1",
   "metadata": {},
   "outputs": [],
   "source": [
    "def get_ladder_tree(ntips: int) -> \"Node\":\n",
    "    \"\"\"Return a ladder-like tree of Node objects with 'ntips' tip Nodes.\n",
    "\n",
    "    Parameters\n",
    "    ----------\n",
    "    ntips: int\n",
    "        The number of tip Nodes that must exist before the tree is returned.\n",
    "\n",
    "    Returns\n",
    "    -------\n",
    "    Node\n",
    "        The root Node of the set of connected Nodes is returned.\n",
    "    \"\"\"\n",
    "    # create root Node with name=root and store as current node variable\n",
    "    node = root = Node(name=\"root\", dist=0)\n",
    "\n",
    "    for idx in range(0, ntips, 2):\n",
    "        # add two children to the focal node\n",
    "        child0 = node.add_child(name=str(idx), dist=1)\n",
    "        child1 = node.add_child(name=str(idx + 1), dist=1)\n",
    "\n",
    "        # make right child the new focal node\n",
    "        node = child1\n",
    "    return root"
   ]
  },
  {
   "cell_type": "code",
   "execution_count": 88,
   "id": "a3c2d35e",
   "metadata": {},
   "outputs": [],
   "source": [
    "def get_ladder_tree(ntips: int) -> \"Node\":\n",
    "    \"\"\"Return a ladder-like tree of Node objects with 'ntips' tip Nodes.\n",
    "\n",
    "    Parameters\n",
    "    ----------\n",
    "    ntips: int\n",
    "        The number of tip Nodes that must exist before the tree is returned.\n",
    "\n",
    "    Returns\n",
    "    -------\n",
    "    Node\n",
    "        The root Node of the set of connected Nodes is returned.\n",
    "    \"\"\"\n",
    "    # create root Node with name=root and store as current node variable\n",
    "    node = root = Node(name=\"root\", dist=0)\n",
    "\n",
    "    # loop to add children until ntips is reached\n",
    "    nnodes = 1\n",
    "    while nnodes < ntips * 2 - 1:\n",
    "        # add child to the current node variable\n",
    "        child = node.add_child(name=str(nnodes), dist=1)\n",
    "        \n",
    "        # advance the counter of nnodes\n",
    "        nnodes += 1\n",
    "        \n",
    "        # if this is the second child, then make it the new 'current' node.\n",
    "        if len(node.children) == 2:\n",
    "            node = child\n",
    "    return root"
   ]
  },
  {
   "cell_type": "code",
   "execution_count": 197,
   "id": "d589cf2b",
   "metadata": {},
   "outputs": [],
   "source": [
    "def get_ladder_tree(ntips: int) -> \"Node\":\n",
    "    \"\"\"Return a ladder-like tree of Node objects with 'ntips' tip Nodes.\n",
    "\n",
    "    Parameters\n",
    "    ----------\n",
    "    ntips: int\n",
    "        The number of tip Nodes that must exist before the tree is returned.\n",
    "\n",
    "    Returns\n",
    "    -------\n",
    "    Node\n",
    "        The root Node of the set of connected Nodes is returned.\n",
    "    \"\"\"\n",
    "    # create root Node with name=root and store as current node variable\n",
    "    node = root = Node(name=\"root\", dist=0)\n",
    "\n",
    "    # add tip Nodes by splitting current 'node' into a bifurcation until ntips exist.\n",
    "    for idx in range(1, ntips):\n",
    "        child_l = node.add_child(name=f\"{idx}-l\", dist=1)\n",
    "        child_r = node.add_child(name=f\"{idx}-r\", dist=1)        \n",
    "\n",
    "        # make right child the new focal node\n",
    "        node = child_r\n",
    "    \n",
    "    # return root Node that now has ntips descended tip Nodes\n",
    "    return root"
   ]
  },
  {
   "cell_type": "code",
   "execution_count": 247,
   "id": "fc61c4d9",
   "metadata": {},
   "outputs": [],
   "source": [
    "root = get_ladder_tree(5)"
   ]
  },
  {
   "cell_type": "code",
   "execution_count": 756,
   "id": "7f8929dc",
   "metadata": {},
   "outputs": [
    {
     "name": "stdout",
     "output_type": "stream",
     "text": [
      "left3 size= 1\n",
      "left4 size= 1\n",
      "right4 size= 1\n",
      "right3 size= 3\n",
      "left1 size= 5\n",
      "left2 size= 1\n",
      "right2 size= 1\n",
      "right1 size= 3\n",
      "root size= 9\n"
     ]
    },
    {
     "data": {
      "text/plain": [
       "9"
      ]
     },
     "execution_count": 756,
     "metadata": {},
     "output_type": "execute_result"
    }
   ],
   "source": [
    "def recursive_count(node) -> int:\n",
    "    \"\"\"Return the number of Nodes descended from a Node object.\"\"\"\n",
    "    clens = sum(recursive_count(child) for child in node.children)\n",
    "    print(node.name, \"size=\", 1 + clens)\n",
    "    return 1 + clens\n",
    "    \n",
    "recursive_count(root)"
   ]
  },
  {
   "cell_type": "code",
   "execution_count": 755,
   "id": "74c301ca",
   "metadata": {},
   "outputs": [
    {
     "data": {
      "text/plain": [
       "[Node(root),\n",
       " Node(left1),\n",
       " Node(left3),\n",
       " Node(right3),\n",
       " Node(left4),\n",
       " Node(right4),\n",
       " Node(right1),\n",
       " Node(left2),\n",
       " Node(right2)]"
      ]
     },
     "execution_count": 755,
     "metadata": {},
     "output_type": "execute_result"
    }
   ],
   "source": [
    "def recursive_g(node) -> int:\n",
    "    \"\"\"Return the number of Nodes descended from a Node object.\"\"\"\n",
    "    nodes = [node]\n",
    "    for child in node.children:\n",
    "        nodes += recursive_g(child)\n",
    "    return nodes\n",
    "\n",
    "recursive_g(root)"
   ]
  },
  {
   "cell_type": "code",
   "execution_count": 218,
   "id": "a7653c20",
   "metadata": {},
   "outputs": [
    {
     "data": {
      "text/plain": [
       "[Node(root),\n",
       " Node(1-l),\n",
       " Node(1-r),\n",
       " Node(2-l),\n",
       " Node(2-r),\n",
       " Node(3-l),\n",
       " Node(3-r),\n",
       " Node(4-l),\n",
       " Node(4-r)]"
      ]
     },
     "execution_count": 218,
     "metadata": {},
     "output_type": "execute_result"
    }
   ],
   "source": [
    "def recursive_preorder_traversal(node):\n",
    "    \"\"\"Return Nodes in preorder traversal.\n",
    "    \n",
    "    Starts at the current (root) Node, then recursively traverses\n",
    "    the right subtree then left subtree. The recursion calls this\n",
    "    function, so that subtrees visit subtrees until a tip is reached.\n",
    "    Tip Nodes return themselves, and internal Nodes return themselves\n",
    "    plus the Nodes of their children, collected by recursion. Such\n",
    "    that calling this function on the root returns all Nodes.\n",
    "    \"\"\"\n",
    "    # tip Node: return Node in a list\n",
    "    if not node.children:\n",
    "        return [node]\n",
    "    \n",
    "    # internal Node: return [Node] + [left-child-descendants] + [right-child-descendants]\n",
    "    nodes = [node]\n",
    "    for child in node.children:\n",
    "        nodes += recursive_preorder_traversal(child)\n",
    "    return nodes\n",
    "\n",
    "recursive_preorder_traversal(root)"
   ]
  },
  {
   "cell_type": "code",
   "execution_count": 519,
   "id": "4fc878ae",
   "metadata": {},
   "outputs": [],
   "source": [
    "tree = toytree.rtree.unittree(5)"
   ]
  },
  {
   "cell_type": "code",
   "execution_count": 559,
   "id": "2131c9e8",
   "metadata": {},
   "outputs": [
    {
     "data": {
      "text/plain": [
       "Node(root)"
      ]
     },
     "execution_count": 559,
     "metadata": {},
     "output_type": "execute_result"
    }
   ],
   "source": [
    "from typing import Optional\n",
    "import random\n",
    "\n",
    "def get_random_tree(ntips: int, seed: Optional[int] = None) -> \"Node\":\n",
    "    \"\"\"Return a ladder-like tree of Node objects with 'ntips' tip Nodes.\n",
    "\n",
    "    Parameters\n",
    "    ----------\n",
    "    ntips: int\n",
    "        The number of tip Nodes that must exist before the tree is returned.\n",
    "\n",
    "    Returns\n",
    "    -------\n",
    "    Node\n",
    "        The root Node of the set of connected Nodes is returned.\n",
    "    \"\"\"\n",
    "    # random seed\n",
    "    random.seed(seed)\n",
    "\n",
    "    # create root Node with name=root\n",
    "    root = Node(name=\"root\", dist=0)\n",
    "\n",
    "    # store Nodes in a list that are currently tips\n",
    "    tips = [root]\n",
    "\n",
    "    # add tip Nodes by splitting 'node' into a bifurcation until ntips exist.\n",
    "    for idx in range(1, ntips):\n",
    "\n",
    "        # randomly sample one of the current tip Nodes\n",
    "        node = random.choice(tips)\n",
    "        tips.remove(node)\n",
    "\n",
    "        # create two new tips from 'node' and add to tips list  \n",
    "        child_l = node.add_child(name=f\"left{idx}\", dist=1)\n",
    "        child_r = node.add_child(name=f\"right{idx}\", dist=1)\n",
    "        tips.extend([child_l, child_r])\n",
    "\n",
    "    # return root Node that now has ntips descended tip Nodes\n",
    "    return root\n",
    "\n",
    "get_random_tree(10)"
   ]
  },
  {
   "cell_type": "code",
   "execution_count": null,
   "id": "856174ad",
   "metadata": {},
   "outputs": [],
   "source": []
  },
  {
   "cell_type": "code",
   "execution_count": null,
   "id": "d8d1e2a8",
   "metadata": {},
   "outputs": [],
   "source": [
    "# Recursive function to perform preorder traversal on the tree\n",
    "def preorder(root):\n",
    " \n",
    "    # return if the current node is empty\n",
    "    if root is None:\n",
    "        return\n",
    " \n",
    "    # Display the data part of the root (or current node)\n",
    "    print(root.data, end=' ')\n",
    " \n",
    "    # Traverse the left subtree\n",
    "    preorder(root.left)\n",
    " \n",
    "    # Traverse the right subtree\n",
    "    preorder(root.right)"
   ]
  },
  {
   "cell_type": "code",
   "execution_count": 573,
   "id": "27b79aa8",
   "metadata": {},
   "outputs": [],
   "source": [
    "from typing import Iterator, List"
   ]
  },
  {
   "cell_type": "code",
   "execution_count": 583,
   "id": "9ae1f528",
   "metadata": {},
   "outputs": [
    {
     "name": "stdout",
     "output_type": "stream",
     "text": [
      "Node(A) (Node(B), Node(C))\n"
     ]
    }
   ],
   "source": [
    "node_a = Node(\"A\")\n",
    "node_a.add_child(\"B\")\n",
    "node_a.add_child(\"C\")\n",
    "print(node_a, node_a.children)"
   ]
  },
  {
   "cell_type": "code",
   "execution_count": 586,
   "id": "e93812d8",
   "metadata": {},
   "outputs": [
    {
     "data": {
      "text/plain": [
       "4"
      ]
     },
     "execution_count": 586,
     "metadata": {},
     "output_type": "execute_result"
    }
   ],
   "source": [
    "toytree.tree(\"(a,b,c);\").nnodes"
   ]
  },
  {
   "cell_type": "code",
   "execution_count": 582,
   "id": "909a93a3",
   "metadata": {},
   "outputs": [
    {
     "name": "stdout",
     "output_type": "stream",
     "text": [
      "[Node(root), Node(left1), Node(left3), Node(right3), Node(left4), Node(right4), Node(right1), Node(left2), Node(right2)]\n",
      "[Node(root), Node(left1), Node(left3), Node(right3), Node(left4), Node(right4), Node(right1), Node(left2), Node(right2)]\n"
     ]
    }
   ],
   "source": [
    "def traverse_preorder_by_recursion(node) -> List['Node']:\n",
    "    \"\"\"Return a list of Nodes in 'preorder' traversal.\n",
    "\n",
    "    This visits parents before children, by visiting all the way\n",
    "    down the left and then right descendants of each node.\n",
    "    \"\"\"\n",
    "    if not node.children:\n",
    "        return [node]\n",
    "    nodes = [node]\n",
    "    for child in node.children:\n",
    "        nodes += traverse_preorder_by_recursion(child)\n",
    "    return nodes\n",
    "\n",
    "def traverse_preorder_by_iteration(self) -> Iterator['Node']:\n",
    "    \"\"\"Yield Nodes in 'preorder' traversal order.\"\"\"\n",
    "    queue = [self]\n",
    "    while queue:\n",
    "        node = queue.pop()\n",
    "        yield node\n",
    "        queue.extend(node.children[::-1])\n",
    "\n",
    "print(traverse_preorder_by_recursion(root))\n",
    "print(list(traverse_preorder_by_iteration(root)))"
   ]
  },
  {
   "cell_type": "code",
   "execution_count": 754,
   "id": "d21efb53",
   "metadata": {},
   "outputs": [
    {
     "data": {
      "text/plain": [
       "<generator object traverse_preorder_by_iteration at 0x7f0166e91660>"
      ]
     },
     "execution_count": 754,
     "metadata": {},
     "output_type": "execute_result"
    }
   ],
   "source": [
    "def traverse_preorder_by_iteration(node) -> Iterator['Node']:\n",
    "    \"\"\"Yield Nodes in 'preorder' traversal order.\"\"\"\n",
    "    queue = [node]\n",
    "    while queue:\n",
    "        node = queue.pop()\n",
    "        yield node\n",
    "        queue.extend(node.children[::-1])\n",
    "        \n",
    "traverse_preorder_by_iteration(root_node)"
   ]
  },
  {
   "cell_type": "code",
   "execution_count": 752,
   "id": "2a101f39",
   "metadata": {},
   "outputs": [
    {
     "data": {
      "text/plain": [
       "'((left3,(left4,right4)),(left2,right2));'"
      ]
     },
     "execution_count": 752,
     "metadata": {},
     "output_type": "execute_result"
    }
   ],
   "source": [
    "def recursive_get_newick(node):\n",
    "    \"\"\"Return Nodes in preorder traversal.\n",
    "    \n",
    "    Starts at the current (root) Node, then recursively traverses\n",
    "    the right subtree then left subtree. The recursion calls this\n",
    "    function, so that subtrees visit subtrees until a tip is reached.\n",
    "    Tip Nodes return themselves, and internal Nodes return themselves\n",
    "    plus the Nodes of their children, collected by recursion. Such\n",
    "    that calling this function on the root returns all Nodes.\n",
    "    \"\"\"\n",
    "    # tip Node: return 'name'\n",
    "    if not node.children:\n",
    "        return node.name\n",
    "    \n",
    "    # internal Node: return (left-children, right-children)\n",
    "    children = [recursive_get_newick(child) for child in node.children]\n",
    "    \n",
    "    # if root Node then return with ';' at end, else just return\n",
    "    if node.is_root():\n",
    "        return f\"({','.join(children)});\"\n",
    "    else:\n",
    "        return f\"({','.join(children)})\"\n",
    "\n",
    "root = get_random_tree(5, seed=123)\n",
    "new = recursive_get_newick(root)\n",
    "new"
   ]
  },
  {
   "cell_type": "code",
   "execution_count": 751,
   "id": "8a453761",
   "metadata": {},
   "outputs": [
    {
     "name": "stdout",
     "output_type": "stream",
     "text": [
      "[Node(root), Node(left1), Node(left3), Node(right3), Node(left4), Node(right4), Node(right1), Node(left2), Node(right2)]\n"
     ]
    }
   ],
   "source": [
    "root_node = get_random_tree(ntips=5, seed=123)\n",
    "print(recursive_preorder_traversal(root_node))"
   ]
  },
  {
   "cell_type": "code",
   "execution_count": 749,
   "id": "e6601cce",
   "metadata": {},
   "outputs": [
    {
     "data": {
      "text/plain": [
       "'((((r0,r1),r2),r3,r4));'"
      ]
     },
     "execution_count": 749,
     "metadata": {},
     "output_type": "execute_result"
    }
   ],
   "source": [
    "\n",
    "def iterative_get_newick(node):\n",
    "    \"\"\"Return newick string of a tree using iterative traversal.\"\"\"\n",
    "    newick = []\n",
    "    for n in node.traverse(\"postorder\"):\n",
    "        if n.is_leaf():\n",
    "            newick.append(n.name)\n",
    "        else:\n",
    "            newick = [f\"({','.join(newick)})\"]\n",
    "    return newick[0] + \";\"\n",
    "    \n",
    "\n",
    "iterative_get_newick(tree)"
   ]
  },
  {
   "cell_type": "code",
   "execution_count": 746,
   "id": "a27b269a",
   "metadata": {},
   "outputs": [
    {
     "name": "stdout",
     "output_type": "stream",
     "text": [
      "Node(idx=8, root) ['']\n",
      "Node(idx=6, internal) ['', '']\n",
      "Node(idx=5, internal) ['', '', '']\n",
      "Node(idx=0, leaf) [['', '', ''], 'r0']\n",
      "Node(idx=1, leaf) [[['', '', ''], 'r0'], 'r1']\n",
      "Node(idx=2, leaf) [[[['', '', ''], 'r0'], 'r1'], 'r2']\n",
      "Node(idx=7, internal) [[[['', '', ''], 'r0'], 'r1'], 'r2', '']\n",
      "Node(idx=3, leaf) [[[[['', '', ''], 'r0'], 'r1'], 'r2', ''], 'r3']\n",
      "Node(idx=4, leaf) [[[[[['', '', ''], 'r0'], 'r1'], 'r2', ''], 'r3'], 'r4']\n"
     ]
    },
    {
     "data": {
      "text/plain": [
       "[[[[['', '', ''], 'r0'], 'r1'], 'r2', ''], 'r3']"
      ]
     },
     "execution_count": 746,
     "metadata": {},
     "output_type": "execute_result"
    }
   ],
   "source": [
    "\n",
    "def iterative_get_newick(node):\n",
    "    \"\"\"Return newick string of a tree using iterative traversal.\"\"\"\n",
    "    newick = []\n",
    "    for n in node.traverse(\"preorder\"):\n",
    "        if not n.is_leaf():\n",
    "            newick.append(\"\")\n",
    "        else:\n",
    "            newick = [newick, n.name]\n",
    "        print(n, newick)\n",
    "    return newick[0]\n",
    "    \n",
    "\n",
    "iterative_get_newick(tree)"
   ]
  },
  {
   "cell_type": "code",
   "execution_count": 831,
   "id": "e380d98a",
   "metadata": {},
   "outputs": [
    {
     "data": {
      "text/plain": [
       "{Node(root): 0,\n",
       " Node(left1): 1,\n",
       " Node(left3): 2,\n",
       " Node(left5): 3,\n",
       " Node(right5): 3,\n",
       " Node(right3): 2,\n",
       " Node(left4): 3,\n",
       " Node(right4): 3,\n",
       " Node(right1): 1,\n",
       " Node(left2): 2,\n",
       " Node(right2): 2}"
      ]
     },
     "execution_count": 831,
     "metadata": {},
     "output_type": "execute_result"
    }
   ],
   "source": [
    "def iter_node_depths(node):\n",
    "    \"\"\"Yield the depths of Nodes in preorder traversal.\n",
    "\n",
    "    \"\"\"\n",
    "    depths = {}\n",
    "    for node in root_node.traverse(\"preorder\"):\n",
    "        if node.is_root():\n",
    "            depths[node] = 0\n",
    "        else:\n",
    "            depths[node] = depths[node.up] + 1\n",
    "    return depths\n",
    "\n",
    "iter_node_depths(root_node)"
   ]
  },
  {
   "cell_type": "code",
   "execution_count": 851,
   "id": "d68daec7",
   "metadata": {},
   "outputs": [
    {
     "data": {
      "text/plain": [
       "Node(E)"
      ]
     },
     "execution_count": 851,
     "metadata": {},
     "output_type": "execute_result"
    }
   ],
   "source": [
    "a = Node(\"A\")\n",
    "a.add_child(\"B\")\n",
    "a.add_child(\"C\")\n",
    "a.children[1].add_child(\"D\")\n",
    "a.children[1].add_child(\"E\")\n",
    "\n",
    "#      A\n",
    "#    B   C\n",
    "#       D E"
   ]
  },
  {
   "cell_type": "code",
   "execution_count": 864,
   "id": "f1859f23",
   "metadata": {},
   "outputs": [
    {
     "data": {
      "text/plain": [
       "['B', 'D', 'E', '', '']"
      ]
     },
     "execution_count": 864,
     "metadata": {},
     "output_type": "execute_result"
    }
   ],
   "source": [
    "[i.name for i in toytree.tree(\"(B, (D, E));\").traverse(\"postorder\")]"
   ]
  },
  {
   "cell_type": "code",
   "execution_count": 856,
   "id": "1035ee16",
   "metadata": {},
   "outputs": [
    {
     "name": "stdout",
     "output_type": "stream",
     "text": [
      "Node(B)\n",
      "Node(D)\n",
      "Node(E)\n",
      "Node(C)\n",
      "Node(A)\n",
      "((B,D,E));\n"
     ]
    }
   ],
   "source": [
    "def get_newick(root_node):\n",
    "    \"\"\"Return newick string of a tree using iterative traversal.\"\"\"\n",
    "    newick = []\n",
    "    for node in root_node.traverse(\"postorder\"):\n",
    "        print(node)\n",
    "        if node.is_leaf():\n",
    "            newick.append(node.name)\n",
    "            #print(newick)\n",
    "        else:\n",
    "            newick = [f\"({','.join(newick)})\"]\n",
    "    return newick[0] + \";\"\n",
    "\n",
    "\n",
    "# example: create random tree of Nodes, get newick string, print.\n",
    "root_node = get_random_tree(ntips=10, seed=123)\n",
    "newick = get_newick(a)\n",
    "print(newick)"
   ]
  },
  {
   "cell_type": "code",
   "execution_count": 890,
   "id": "0d76d78e",
   "metadata": {},
   "outputs": [
    {
     "data": {
      "text/plain": [
       "{Node(root): 2.0,\n",
       " Node(left1): 1.0,\n",
       " Node(left2): 0,\n",
       " Node(right2): 0,\n",
       " Node(right1): 1.0,\n",
       " Node(left3): 0,\n",
       " Node(right3): 1.0,\n",
       " Node(left4): 0,\n",
       " Node(right4): 0}"
      ]
     },
     "execution_count": 890,
     "metadata": {},
     "output_type": "execute_result"
    }
   ],
   "source": [
    "def get_node_heights(root_node):\n",
    "    \"\"\"Return ...\"\"\" \n",
    "    # first pass, get edge distances from the root to each tip\n",
    "    max_dist = 0\n",
    "    for node in root_node.traverse(\"preorder\"):\n",
    "        if node.up:\n",
    "            node.height += node.dist\n",
    "        else:\n",
    "            node.height = 0\n",
    "        if node.is_leaf():\n",
    "            max_height = max(max_dist, node.height)\n",
    "    \n",
    "    # second pass\n",
    "        \n",
    "dict(get_node_heights(t))"
   ]
  },
  {
   "cell_type": "code",
   "execution_count": 915,
   "id": "fa092340",
   "metadata": {},
   "outputs": [
    {
     "name": "stdout",
     "output_type": "stream",
     "text": [
      "('left47', 'right47', 'left56', 'left75', 'right75', 'left52', 'right52', 'right46', 'left98', 'right98', 'left82', 'right82', 'left45', 'right45', 'left89', 'right89', 'left23', 'right23', 'left91', 'right91', 'right50', 'left96', 'right96', 'left76', 'right76', 'right73', 'left60', 'right60', 'right54', 'left51', 'right51', 'right21', 'left34', 'right34', 'left33', 'left90', 'right90', 'right64', 'left88', 'left97', 'right97', 'left72', 'right72', 'right48', 'left35', 'left67', 'right67', 'left71', 'right71', 'left74', 'right74', 'right53', 'right42', 'left86', 'right86', 'right29', 'left22', 'left84', 'right84', 'left85', 'right85', 'right80', 'right62', 'right27', 'left38', 'left41', 'right41', 'left13', 'left49', 'left61', 'left81', 'right81', 'left94', 'right94', 'right39', 'right28', 'left31', 'right31', 'left24', 'left78', 'left99', 'right99', 'left70', 'right70', 'left79', 'left93', 'left95', 'right95', 'right68', 'left69', 'left92', 'right92', 'left59', 'right59', 'left65', 'right65', 'left83', 'left87', 'right87', 'right17')\n"
     ]
    }
   ],
   "source": [
    "root_node = get_random_tree(ntips=100, seed=123)\n",
    "print(root_node.get_leaf_names())"
   ]
  },
  {
   "cell_type": "code",
   "execution_count": 916,
   "id": "d0d74562",
   "metadata": {},
   "outputs": [
    {
     "data": {
      "text/plain": [
       "{0: Node(left47),\n",
       " 1: Node(right47),\n",
       " 2: Node(left56),\n",
       " 3: Node(left75),\n",
       " 4: Node(right75),\n",
       " 5: Node(left52),\n",
       " 6: Node(right52),\n",
       " 7: Node(right46),\n",
       " 8: Node(left98),\n",
       " 9: Node(right98),\n",
       " 10: Node(left82),\n",
       " 11: Node(right82),\n",
       " 12: Node(left45),\n",
       " 13: Node(right45),\n",
       " 14: Node(left89),\n",
       " 15: Node(right89),\n",
       " 16: Node(left23),\n",
       " 17: Node(right23),\n",
       " 18: Node(left91),\n",
       " 19: Node(right91),\n",
       " 20: Node(right50),\n",
       " 21: Node(left96),\n",
       " 22: Node(right96),\n",
       " 23: Node(left76),\n",
       " 24: Node(right76),\n",
       " 25: Node(right73),\n",
       " 26: Node(left60),\n",
       " 27: Node(right60),\n",
       " 28: Node(right54),\n",
       " 29: Node(left51),\n",
       " 30: Node(right51),\n",
       " 31: Node(right21),\n",
       " 32: Node(left34),\n",
       " 33: Node(right34),\n",
       " 34: Node(left33),\n",
       " 35: Node(left90),\n",
       " 36: Node(right90),\n",
       " 37: Node(right64),\n",
       " 38: Node(left88),\n",
       " 39: Node(left97),\n",
       " 40: Node(right97),\n",
       " 41: Node(left72),\n",
       " 42: Node(right72),\n",
       " 43: Node(right48),\n",
       " 44: Node(left35),\n",
       " 45: Node(left67),\n",
       " 46: Node(right67),\n",
       " 47: Node(left71),\n",
       " 48: Node(right71),\n",
       " 49: Node(left74),\n",
       " 50: Node(right74),\n",
       " 51: Node(right53),\n",
       " 52: Node(right42),\n",
       " 53: Node(left86),\n",
       " 54: Node(right86),\n",
       " 55: Node(right29),\n",
       " 56: Node(left22),\n",
       " 57: Node(left84),\n",
       " 58: Node(right84),\n",
       " 59: Node(left85),\n",
       " 60: Node(right85),\n",
       " 61: Node(right80),\n",
       " 62: Node(right62),\n",
       " 63: Node(right27),\n",
       " 64: Node(left38),\n",
       " 65: Node(left41),\n",
       " 66: Node(right41),\n",
       " 67: Node(left13),\n",
       " 68: Node(left49),\n",
       " 69: Node(left61),\n",
       " 70: Node(left81),\n",
       " 71: Node(right81),\n",
       " 72: Node(left94),\n",
       " 73: Node(right94),\n",
       " 74: Node(right39),\n",
       " 75: Node(right28),\n",
       " 76: Node(left31),\n",
       " 77: Node(right31),\n",
       " 78: Node(left24),\n",
       " 79: Node(left78),\n",
       " 80: Node(left99),\n",
       " 81: Node(right99),\n",
       " 82: Node(left70),\n",
       " 83: Node(right70),\n",
       " 84: Node(left79),\n",
       " 85: Node(left93),\n",
       " 86: Node(left95),\n",
       " 87: Node(right95),\n",
       " 88: Node(right68),\n",
       " 89: Node(left69),\n",
       " 90: Node(left92),\n",
       " 91: Node(right92),\n",
       " 92: Node(left59),\n",
       " 93: Node(right59),\n",
       " 94: Node(left65),\n",
       " 95: Node(right65),\n",
       " 96: Node(left83),\n",
       " 97: Node(left87),\n",
       " 98: Node(right87),\n",
       " 99: Node(right17),\n",
       " 100: Node(left32),\n",
       " 101: Node(right56),\n",
       " 102: Node(right32),\n",
       " 103: Node(left30),\n",
       " 104: Node(left46),\n",
       " 105: Node(right30),\n",
       " 106: Node(left5),\n",
       " 107: Node(left57),\n",
       " 108: Node(right57),\n",
       " 109: Node(right5),\n",
       " 110: Node(left3),\n",
       " 111: Node(left15),\n",
       " 112: Node(right15),\n",
       " 113: Node(left4),\n",
       " 114: Node(right4),\n",
       " 115: Node(right3),\n",
       " 116: Node(left1),\n",
       " 117: Node(left50),\n",
       " 118: Node(left26),\n",
       " 119: Node(right26),\n",
       " 120: Node(left6),\n",
       " 121: Node(left73),\n",
       " 122: Node(left36),\n",
       " 123: Node(left54),\n",
       " 124: Node(left44),\n",
       " 125: Node(right44),\n",
       " 126: Node(right36),\n",
       " 127: Node(left21),\n",
       " 128: Node(left12),\n",
       " 129: Node(right12),\n",
       " 130: Node(left7),\n",
       " 131: Node(left64),\n",
       " 132: Node(left63),\n",
       " 133: Node(right88),\n",
       " 134: Node(right63),\n",
       " 135: Node(left40),\n",
       " 136: Node(left48),\n",
       " 137: Node(right40),\n",
       " 138: Node(right33),\n",
       " 139: Node(left16),\n",
       " 140: Node(left66),\n",
       " 141: Node(right66),\n",
       " 142: Node(left55),\n",
       " 143: Node(right55),\n",
       " 144: Node(left53),\n",
       " 145: Node(left42),\n",
       " 146: Node(right35),\n",
       " 147: Node(right16),\n",
       " 148: Node(left10),\n",
       " 149: Node(left29),\n",
       " 150: Node(right10),\n",
       " 151: Node(left9),\n",
       " 152: Node(left43),\n",
       " 153: Node(left80),\n",
       " 154: Node(left62),\n",
       " 155: Node(right43),\n",
       " 156: Node(left27),\n",
       " 157: Node(right22),\n",
       " 158: Node(left11),\n",
       " 159: Node(right38),\n",
       " 160: Node(right11),\n",
       " 161: Node(right9),\n",
       " 162: Node(right7),\n",
       " 163: Node(right6),\n",
       " 164: Node(left2),\n",
       " 165: Node(left77),\n",
       " 166: Node(right77),\n",
       " 167: Node(right61),\n",
       " 168: Node(right49),\n",
       " 169: Node(left39),\n",
       " 170: Node(left28),\n",
       " 171: Node(left19),\n",
       " 172: Node(right19),\n",
       " 173: Node(left18),\n",
       " 174: Node(right78),\n",
       " 175: Node(left25),\n",
       " 176: Node(right25),\n",
       " 177: Node(right24),\n",
       " 178: Node(right18),\n",
       " 179: Node(left14),\n",
       " 180: Node(right93),\n",
       " 181: Node(right79),\n",
       " 182: Node(left68),\n",
       " 183: Node(left20),\n",
       " 184: Node(right69),\n",
       " 185: Node(left37),\n",
       " 186: Node(left58),\n",
       " 187: Node(right58),\n",
       " 188: Node(right37),\n",
       " 189: Node(right20),\n",
       " 190: Node(right14),\n",
       " 191: Node(right13),\n",
       " 192: Node(left8),\n",
       " 193: Node(right83),\n",
       " 194: Node(left17),\n",
       " 195: Node(right8),\n",
       " 196: Node(right2),\n",
       " 197: Node(right1),\n",
       " 198: Node(root)}"
      ]
     },
     "execution_count": 916,
     "metadata": {},
     "output_type": "execute_result"
    }
   ],
   "source": [
    "idx_dict = dict(enumerate(root_node.traverse(\"idxorder\")))\n",
    "idx_dict"
   ]
  },
  {
   "cell_type": "code",
   "execution_count": 920,
   "id": "d95ce326",
   "metadata": {},
   "outputs": [],
   "source": [
    "{'a'}.clear()"
   ]
  },
  {
   "cell_type": "code",
   "execution_count": 918,
   "id": "27827521",
   "metadata": {},
   "outputs": [
    {
     "name": "stdout",
     "output_type": "stream",
     "text": [
      "68.3 µs ± 1.15 µs per loop (mean ± std. dev. of 7 runs, 10,000 loops each)\n"
     ]
    }
   ],
   "source": [
    "%%timeit\n",
    "root_node.get_leaf_names()"
   ]
  },
  {
   "cell_type": "code",
   "execution_count": 905,
   "id": "ed4f91c0",
   "metadata": {},
   "outputs": [
    {
     "data": {
      "text/plain": [
       "{Node(left5): 0,\n",
       " Node(right5): 0,\n",
       " Node(left3): 2,\n",
       " Node(left4): 0,\n",
       " Node(right4): 0,\n",
       " Node(right3): 2,\n",
       " Node(left1): 4,\n",
       " Node(left2): 0,\n",
       " Node(right2): 0,\n",
       " Node(right1): 2,\n",
       " Node(root): 6}"
      ]
     },
     "execution_count": 905,
     "metadata": {},
     "output_type": "execute_result"
    }
   ],
   "source": [
    "def iter_ndescendants_map(root_node) -> Iterator[Tuple['Node', int]]:\n",
    "    \"\"\"Yield a tuple with (Node, int)\n",
    "\n",
    "    \"\"\" \n",
    "    for node in root_node.traverse(\"postorder\"):\n",
    "        if node.is_leaf():\n",
    "            node.ndescendants = 0\n",
    "        else:\n",
    "            node.ndescendants = node.children[0].ndescendants + len(node.children)\n",
    "        yield (node, node.ndescendants)\n",
    "\n",
    "# example:\n",
    "root_node = get_random_tree(ntips=6, seed=123)\n",
    "dict(iter_ndescendants(root_node))"
   ]
  },
  {
   "cell_type": "code",
   "execution_count": 735,
   "id": "50fbf885",
   "metadata": {},
   "outputs": [
    {
     "data": {
      "text/html": [
       "<div class=\"toyplot\" id=\"te197cdc4a1e34b13bb92498cb4a41761\" style=\"text-align:center\"><svg class=\"toyplot-canvas-Canvas\" xmlns:toyplot=\"http://www.sandia.gov/toyplot\" xmlns:xlink=\"http://www.w3.org/1999/xlink\" xmlns=\"http://www.w3.org/2000/svg\" width=\"350.0px\" height=\"280.0px\" viewBox=\"0 0 350.0 280.0\" preserveAspectRatio=\"xMidYMid meet\" style=\"background-color:transparent;border-color:#292724;border-style:none;border-width:1.0;fill:rgb(16.1%,15.3%,14.1%);fill-opacity:1.0;font-family:Helvetica;font-size:12px;opacity:1.0;stroke:rgb(16.1%,15.3%,14.1%);stroke-opacity:1.0;stroke-width:1.0\" id=\"te19d4a11a7e44b2db373b8bd8a3bc26c\"><g class=\"toyplot-coordinates-Cartesian\" id=\"t7cdc6289f3644eeb91615f44ea293ac1\"><clipPath id=\"t7043c9d9b2f34844933652da5bfcb591\"><rect x=\"35.0\" y=\"35.0\" width=\"280.0\" height=\"210.0\"></rect></clipPath><g clip-path=\"url(#t7043c9d9b2f34844933652da5bfcb591)\"><g class=\"toytree-mark-Toytree\" id=\"tc18db4d185784da3bb90b8e6177d63b8\"><g class=\"toytree-Edges\" style=\"fill:none;stroke:rgba(16.1%,15.3%,14.1%,1.000);stroke-linecap:round;stroke-width:2.0\"><path d=\"M 102.1 95.3 L 58.4 95.3 L 58.4 174.2\" id=\"6,0\" style=\"stroke-width:nan\"></path><path d=\"M 145.8 134.7 L 116.7 134.7 L 116.7 174.2\" id=\"5,1\" style=\"stroke-width:nan\"></path><path d=\"M 145.8 134.7 L 175.0 134.7 L 175.0 174.2\" id=\"5,2\" style=\"stroke-width:nan\"></path><path d=\"M 262.5 134.7 L 233.3 134.7 L 233.3 174.2\" id=\"7,3\" style=\"stroke-width:nan\"></path><path d=\"M 262.5 134.7 L 291.6 134.7 L 291.6 174.2\" id=\"7,4\" style=\"stroke-width:nan\"></path><path d=\"M 102.1 95.3 L 145.8 95.3 L 145.8 134.7\" id=\"6,5\" style=\"stroke-width:nan\"></path><path d=\"M 182.3 55.9 L 102.1 55.9 L 102.1 95.3\" id=\"8,6\" style=\"stroke-width:nan\"></path><path d=\"M 182.3 55.9 L 262.5 55.9 L 262.5 134.7\" id=\"8,7\" style=\"stroke-width:nan\"></path></g><g class=\"toytree-Nodes\" style=\"fill:rgba(82.7%,82.7%,82.7%,1.000);stroke:#262626;stroke-width:1.5\"><g id=\"node-0\" transform=\"translate(58.396,174.151)\"><circle r=\"9.0\"></circle></g><g id=\"node-1\" transform=\"translate(116.698,174.151)\"><circle r=\"9.0\"></circle></g><g id=\"node-2\" transform=\"translate(175.000,174.151)\"><circle r=\"9.0\"></circle></g><g id=\"node-3\" transform=\"translate(233.302,174.151)\"><circle r=\"9.0\"></circle></g><g id=\"node-4\" transform=\"translate(291.604,174.151)\"><circle r=\"9.0\"></circle></g><g id=\"node-5\" transform=\"translate(145.849,134.738)\"><circle r=\"9.0\"></circle></g><g id=\"node-6\" transform=\"translate(102.122,95.325)\"><circle r=\"9.0\"></circle></g><g id=\"node-7\" transform=\"translate(262.453,134.738)\"><circle r=\"9.0\"></circle></g><g id=\"node-8\" transform=\"translate(182.288,55.912)\"><circle r=\"9.0\"></circle></g></g><g class=\"toytree-NodeLabels\" style=\"font-family:Helvetica;font-size:9.0px;font-weight:300;stroke:none;vertical-align:baseline;white-space:pre\"><g class=\"toytree-NodeLabel\" transform=\"translate(58.395522388059696,174.1506156439994)\"><text x=\"-2.5020000000000002\" y=\"2.2995\" style=\"fill:rgb(16.1%,15.3%,14.1%);fill-opacity:1.0\">0</text></g><g class=\"toytree-NodeLabel\" transform=\"translate(116.69776119402985,174.1506156439994)\"><text x=\"-2.5020000000000002\" y=\"2.2995\" style=\"fill:rgb(16.1%,15.3%,14.1%);fill-opacity:1.0\">1</text></g><g class=\"toytree-NodeLabel\" transform=\"translate(175.0,174.1506156439994)\"><text x=\"-2.5020000000000002\" y=\"2.2995\" style=\"fill:rgb(16.1%,15.3%,14.1%);fill-opacity:1.0\">2</text></g><g class=\"toytree-NodeLabel\" transform=\"translate(233.30223880597015,174.1506156439994)\"><text x=\"-2.5020000000000002\" y=\"2.2995\" style=\"fill:rgb(16.1%,15.3%,14.1%);fill-opacity:1.0\">3</text></g><g class=\"toytree-NodeLabel\" transform=\"translate(291.6044776119403,174.1506156439994)\"><text x=\"-2.5020000000000002\" y=\"2.2995\" style=\"fill:rgb(16.1%,15.3%,14.1%);fill-opacity:1.0\">4</text></g><g class=\"toytree-NodeLabel\" transform=\"translate(145.84888059701493,134.7377217887615)\"><text x=\"-2.5020000000000002\" y=\"2.2995\" style=\"fill:rgb(16.1%,15.3%,14.1%);fill-opacity:1.0\">5</text></g><g class=\"toytree-NodeLabel\" transform=\"translate(102.1222014925373,95.32482793352361)\"><text x=\"-2.5020000000000002\" y=\"2.2995\" style=\"fill:rgb(16.1%,15.3%,14.1%);fill-opacity:1.0\">6</text></g><g class=\"toytree-NodeLabel\" transform=\"translate(262.4533582089552,134.7377217887615)\"><text x=\"-2.5020000000000002\" y=\"2.2995\" style=\"fill:rgb(16.1%,15.3%,14.1%);fill-opacity:1.0\">7</text></g><g class=\"toytree-NodeLabel\" transform=\"translate(182.28777985074626,55.9119340782857)\"><text x=\"-2.5020000000000002\" y=\"2.2995\" style=\"fill:rgb(16.1%,15.3%,14.1%);fill-opacity:1.0\">8</text></g></g><g class=\"toytree-TipLabels\" style=\"fill:rgb(16.1%,15.3%,14.1%);fill-opacity:1.0;font-family:Helvetica;font-size:11.0px;font-weight:300;stroke:none;vertical-align:baseline;white-space:pre\"><g class=\"toytree-TipLabel\" transform=\"translate(58.395522388059696,174.1506156439994)rotate(90.0)\"><text x=\"15.0\" y=\"2.8104999999999993\" style=\"\">left3</text></g><g class=\"toytree-TipLabel\" transform=\"translate(116.69776119402985,174.1506156439994)rotate(90.0)\"><text x=\"15.0\" y=\"2.8104999999999993\" style=\"\">left4</text></g><g class=\"toytree-TipLabel\" transform=\"translate(175.0,174.1506156439994)rotate(90.0)\"><text x=\"15.0\" y=\"2.8104999999999993\" style=\"\">right4</text></g><g class=\"toytree-TipLabel\" transform=\"translate(233.30223880597015,174.1506156439994)rotate(90.0)\"><text x=\"15.0\" y=\"2.8104999999999993\" style=\"\">left2</text></g><g class=\"toytree-TipLabel\" transform=\"translate(291.6044776119403,174.1506156439994)rotate(90.0)\"><text x=\"15.0\" y=\"2.8104999999999993\" style=\"\">right2</text></g></g></g></g></g></svg><div class=\"toyplot-behavior\"><script>(function()\n",
       "{\n",
       "var modules={};\n",
       "})();</script></div></div>"
      ]
     },
     "metadata": {},
     "output_type": "display_data"
    }
   ],
   "source": [
    "toytree.tree(new + \";\").draw('s', layout='d');"
   ]
  },
  {
   "cell_type": "code",
   "execution_count": 294,
   "id": "18852678",
   "metadata": {},
   "outputs": [
    {
     "data": {
      "text/html": [
       "<div class=\"toyplot\" id=\"td11b1b5181ab4253a93321750c416436\" style=\"text-align:center\"><svg class=\"toyplot-canvas-Canvas\" xmlns:toyplot=\"http://www.sandia.gov/toyplot\" xmlns:xlink=\"http://www.w3.org/1999/xlink\" xmlns=\"http://www.w3.org/2000/svg\" width=\"350.0px\" height=\"250.0px\" viewBox=\"0 0 350.0 250.0\" preserveAspectRatio=\"xMidYMid meet\" style=\"background-color:transparent;border-color:#292724;border-style:none;border-width:1.0;fill:rgb(16.1%,15.3%,14.1%);fill-opacity:1.0;font-family:Helvetica;font-size:12px;opacity:1.0;stroke:rgb(16.1%,15.3%,14.1%);stroke-opacity:1.0;stroke-width:1.0\" id=\"te99ded973a7d4b1c93792fdb0320aab9\"><g class=\"toyplot-coordinates-Cartesian\" id=\"taf3a9ed7073b46dc8f025436007d3c61\"><clipPath id=\"t2cdefd7d22bd475ba79c321003deb074\"><rect x=\"35.0\" y=\"35.0\" width=\"280.0\" height=\"180.0\"></rect></clipPath><g clip-path=\"url(#t2cdefd7d22bd475ba79c321003deb074)\"><g class=\"toytree-mark-Toytree\" id=\"tb8e6723738f2419a806964f71513859c\"><g class=\"toytree-Edges\" style=\"fill:none;stroke:rgba(16.1%,15.3%,14.1%,1.000);stroke-linecap:round;stroke-width:2.0\"><path d=\"M 112.6 57.2 L 57.5 57.2 L 57.5 192.8\" id=\"8,0\" style=\"stroke-width:nan\"></path><path d=\"M 167.7 91.1 L 116.3 91.1 L 116.3 192.8\" id=\"7,1\" style=\"stroke-width:nan\"></path><path d=\"M 219.1 125.0 L 175.0 125.0 L 175.0 192.8\" id=\"6,2\" style=\"stroke-width:nan\"></path><path d=\"M 263.1 158.9 L 233.7 158.9 L 233.7 192.8\" id=\"5,3\" style=\"stroke-width:nan\"></path><path d=\"M 263.1 158.9 L 292.5 158.9 L 292.5 192.8\" id=\"5,4\" style=\"stroke-width:nan\"></path><path d=\"M 219.1 125.0 L 263.1 125.0 L 263.1 158.9\" id=\"6,5\" style=\"stroke-width:nan\"></path><path d=\"M 167.7 91.1 L 219.1 91.1 L 219.1 125.0\" id=\"7,6\" style=\"stroke-width:nan\"></path><path d=\"M 112.6 57.2 L 167.7 57.2 L 167.7 91.1\" id=\"8,7\" style=\"stroke-width:nan\"></path></g><g class=\"toytree-Nodes\" style=\"fill:rgba(82.7%,82.7%,82.7%,1.000);stroke:#262626;stroke-width:1.5\"><g id=\"node-0\" transform=\"translate(57.519,192.771)\"><circle r=\"8.0\"></circle></g><g id=\"node-1\" transform=\"translate(116.259,192.771)\"><circle r=\"8.0\"></circle></g><g id=\"node-2\" transform=\"translate(175.000,192.771)\"><circle r=\"8.0\"></circle></g><g id=\"node-3\" transform=\"translate(233.741,192.771)\"><circle r=\"8.0\"></circle></g><g id=\"node-4\" transform=\"translate(292.481,192.771)\"><circle r=\"8.0\"></circle></g><g id=\"node-5\" transform=\"translate(263.111,158.886)\"><circle r=\"8.0\"></circle></g><g id=\"node-6\" transform=\"translate(219.055,125.000)\"><circle r=\"8.0\"></circle></g><g id=\"node-7\" transform=\"translate(167.657,91.114)\"><circle r=\"8.0\"></circle></g><g id=\"node-8\" transform=\"translate(112.588,57.229)\"><circle r=\"8.0\"></circle></g></g></g></g></g></svg><div class=\"toyplot-behavior\"><script>(function()\n",
       "{\n",
       "var modules={};\n",
       "})();</script></div></div>"
      ]
     },
     "metadata": {},
     "output_type": "display_data"
    }
   ],
   "source": [
    "# generate a random 8 tip ultrametric tree\n",
    "tree = toytree.rtree.imbtree(ntips=5)\n",
    "\n",
    "# draw facing downw with node index labels shown\n",
    "c, a, m = tree.draw(ts='s', layout='d', node_labels=False, node_sizes=16, tip_labels=False);\n",
    "\n",
    "import toyplot.svg\n",
    "# toyplot.svg.render(c, \"fig4.svg\")"
   ]
  },
  {
   "cell_type": "markdown",
   "id": "4523db70",
   "metadata": {},
   "source": [
    "### Animated tree traversal"
   ]
  },
  {
   "cell_type": "code",
   "execution_count": 530,
   "id": "41a2393e",
   "metadata": {},
   "outputs": [],
   "source": [
    "import random\n",
    "\n",
    "def get_random_tree(ntips: int, seed: Optional[int]=None) -> \"Node\":\n",
    "    \"\"\"Return a ladder-like tree of Node objects with 'ntips' tip Nodes.\n",
    "\n",
    "    Parameters\n",
    "    ----------\n",
    "    ntips: int\n",
    "        The number of tip Nodes that must exist before the tree is returned.\n",
    "\n",
    "    Returns\n",
    "    -------\n",
    "    Node\n",
    "        The root Node of the set of connected Nodes is returned.\n",
    "    \"\"\"\n",
    "    # random seed\n",
    "    random.seed(seed)\n",
    "    \n",
    "    # create root Node with name=root\n",
    "    root = Node(name=\"root\", dist=0)\n",
    "    \n",
    "    # store Nodes in a list that are currently tips\n",
    "    tips = [root]\n",
    "\n",
    "    # add tip Nodes by splitting 'node' into a bifurcation until ntips exist.\n",
    "    for idx in range(1, ntips):\n",
    "        \n",
    "        # randomly sample one of the current tip Nodes\n",
    "        node = random.choice(tips)\n",
    "        tips.remove(node)\n",
    "        \n",
    "        # create two new tips from 'node' and add to tips list  \n",
    "        child_l = node.add_child(name=f\"right{idx}\", dist=1)\n",
    "        child_r = node.add_child(name=f\"left{idx}\", dist=1)\n",
    "        tips.extend([child_l, child_r])\n",
    "\n",
    "    # return root Node that now has ntips descended tip Nodes\n",
    "    return root"
   ]
  },
  {
   "cell_type": "code",
   "execution_count": 531,
   "id": "1cdd9588",
   "metadata": {},
   "outputs": [
    {
     "data": {
      "text/plain": [
       "[Node(root),\n",
       " Node(right1),\n",
       " Node(right3),\n",
       " Node(right5),\n",
       " Node(left5),\n",
       " Node(left3),\n",
       " Node(right4),\n",
       " Node(left4),\n",
       " Node(left1),\n",
       " Node(right2),\n",
       " Node(right6),\n",
       " Node(left6),\n",
       " Node(right7),\n",
       " Node(left7),\n",
       " Node(right9),\n",
       " Node(left9),\n",
       " Node(left2),\n",
       " Node(right8),\n",
       " Node(left8)]"
      ]
     },
     "execution_count": 531,
     "metadata": {},
     "output_type": "execute_result"
    }
   ],
   "source": [
    "root = get_random_tree(10, seed=123)\n",
    "recursive_preorder_traversal(root)"
   ]
  },
  {
   "cell_type": "code",
   "execution_count": 379,
   "id": "d06af445",
   "metadata": {},
   "outputs": [
    {
     "data": {
      "text/html": [
       "<div class=\"toyplot\" id=\"tf2fa9938e62544678a07227cd1c4ca32\" style=\"text-align:center\"><svg class=\"toyplot-canvas-Canvas\" xmlns:toyplot=\"http://www.sandia.gov/toyplot\" xmlns:xlink=\"http://www.w3.org/1999/xlink\" xmlns=\"http://www.w3.org/2000/svg\" width=\"400.0px\" height=\"300.0px\" viewBox=\"0 0 400.0 300.0\" preserveAspectRatio=\"xMidYMid meet\" style=\"background-color:transparent;border-color:#292724;border-style:none;border-width:1.0;fill:rgb(16.1%,15.3%,14.1%);fill-opacity:1.0;font-family:Helvetica;font-size:12px;opacity:1.0;stroke:rgb(16.1%,15.3%,14.1%);stroke-opacity:1.0;stroke-width:1.0\" id=\"tee268626ba6446819323a7d4b6d2ff1a\"><g class=\"toyplot-coordinates-Cartesian\" id=\"t4ad46d952b6e4ecab0ee5269ed2aee76\"><clipPath id=\"t7bad09206fc44061b329d34dd44fa310\"><rect x=\"40.0\" y=\"40.0\" width=\"320.0\" height=\"220.0\"></rect></clipPath><g clip-path=\"url(#t7bad09206fc44061b329d34dd44fa310)\"><g class=\"toytree-mark-Toytree\" id=\"ta85ee715888c44baabf6538f5efc7760\"><g class=\"toytree-Edges\" style=\"fill:none;stroke:rgba(16.1%,15.3%,14.1%,1.000);stroke-linecap:round;stroke-width:2.0\"><path d=\"M 120.3 50.0 L 50.0 50.0 L 50.0 250.0\" id=\"8,0\" style=\"stroke-width:nan\"></path><path d=\"M 190.6 100.0 L 125.0 100.0 L 125.0 250.0\" id=\"7,1\" style=\"stroke-width:nan\"></path><path d=\"M 256.2 150.0 L 200.0 150.0 L 200.0 250.0\" id=\"6,2\" style=\"stroke-width:nan\"></path><path d=\"M 312.5 200.0 L 275.0 200.0 L 275.0 250.0\" id=\"5,3\" style=\"stroke-width:nan\"></path><path d=\"M 312.5 200.0 L 350.0 200.0 L 350.0 250.0\" id=\"5,4\" style=\"stroke-width:nan\"></path><path d=\"M 256.2 150.0 L 312.5 150.0 L 312.5 200.0\" id=\"6,5\" style=\"stroke-width:nan\"></path><path d=\"M 190.6 100.0 L 256.2 100.0 L 256.2 150.0\" id=\"7,6\" style=\"stroke-width:nan\"></path><path d=\"M 120.3 50.0 L 190.6 50.0 L 190.6 100.0\" id=\"8,7\" style=\"stroke-width:nan\"></path></g></g><g class=\"toyplot-mark-Point\" id=\"teaf60e7d6a754558848551dcae712c59\"><g class=\"toyplot-Series\"><g style=\"fill:rgb(40%,76.1%,64.7%);fill-opacity:1.0;opacity:1.0;stroke:rgb(40%,76.1%,64.7%);stroke-opacity:1.0\" class=\"toyplot-Datum\" transform=\"translate(50.0, 250.0)\"><circle r=\"10.0\"></circle></g><g style=\"fill:rgb(40%,76.1%,64.7%);fill-opacity:1.0;opacity:1.0;stroke:rgb(40%,76.1%,64.7%);stroke-opacity:1.0\" class=\"toyplot-Datum\" transform=\"translate(125.0, 250.0)\"><circle r=\"10.0\"></circle></g><g style=\"fill:rgb(40%,76.1%,64.7%);fill-opacity:1.0;opacity:1.0;stroke:rgb(40%,76.1%,64.7%);stroke-opacity:1.0\" class=\"toyplot-Datum\" transform=\"translate(200.0, 250.0)\"><circle r=\"10.0\"></circle></g><g style=\"fill:rgb(40%,76.1%,64.7%);fill-opacity:1.0;opacity:1.0;stroke:rgb(40%,76.1%,64.7%);stroke-opacity:1.0\" class=\"toyplot-Datum\" transform=\"translate(275.0, 250.0)\"><circle r=\"10.0\"></circle></g><g style=\"fill:rgb(40%,76.1%,64.7%);fill-opacity:1.0;opacity:1.0;stroke:rgb(40%,76.1%,64.7%);stroke-opacity:1.0\" class=\"toyplot-Datum\" transform=\"translate(350.0, 250.0)\"><circle r=\"10.0\"></circle></g><g style=\"fill:rgb(40%,76.1%,64.7%);fill-opacity:1.0;opacity:1.0;stroke:rgb(40%,76.1%,64.7%);stroke-opacity:1.0\" class=\"toyplot-Datum\" transform=\"translate(312.5, 200.0)\"><circle r=\"10.0\"></circle></g><g style=\"fill:rgb(40%,76.1%,64.7%);fill-opacity:1.0;opacity:1.0;stroke:rgb(40%,76.1%,64.7%);stroke-opacity:1.0\" class=\"toyplot-Datum\" transform=\"translate(256.25, 150.0)\"><circle r=\"10.0\"></circle></g><g style=\"fill:rgb(40%,76.1%,64.7%);fill-opacity:1.0;opacity:1.0;stroke:rgb(40%,76.1%,64.7%);stroke-opacity:1.0\" class=\"toyplot-Datum\" transform=\"translate(190.625, 100.0)\"><circle r=\"10.0\"></circle></g><g style=\"fill:rgb(40%,76.1%,64.7%);fill-opacity:1.0;opacity:1.0;stroke:rgb(40%,76.1%,64.7%);stroke-opacity:1.0\" class=\"toyplot-Datum\" transform=\"translate(120.3125, 50.0)\"><circle r=\"10.0\"></circle></g></g></g></g></g></svg><div class=\"toyplot-behavior\"><script>(function()\n",
       "{\n",
       "var modules={};\n",
       "modules[\"toyplot/tables\"] = (function()\n",
       "    {\n",
       "        var tables = [];\n",
       "\n",
       "        var module = {};\n",
       "\n",
       "        module.set = function(owner, key, names, columns)\n",
       "        {\n",
       "            tables.push({owner: owner, key: key, names: names, columns: columns});\n",
       "        }\n",
       "\n",
       "        module.get = function(owner, key)\n",
       "        {\n",
       "            for(var i = 0; i != tables.length; ++i)\n",
       "            {\n",
       "                var table = tables[i];\n",
       "                if(table.owner != owner)\n",
       "                    continue;\n",
       "                if(table.key != key)\n",
       "                    continue;\n",
       "                return {names: table.names, columns: table.columns};\n",
       "            }\n",
       "        }\n",
       "\n",
       "        module.get_csv = function(owner, key)\n",
       "        {\n",
       "            var table = module.get(owner, key);\n",
       "            if(table != undefined)\n",
       "            {\n",
       "                var csv = \"\";\n",
       "                csv += table.names.join(\",\") + \"\\n\";\n",
       "                for(var i = 0; i != table.columns[0].length; ++i)\n",
       "                {\n",
       "                  for(var j = 0; j != table.columns.length; ++j)\n",
       "                  {\n",
       "                    if(j)\n",
       "                      csv += \",\";\n",
       "                    csv += table.columns[j][i];\n",
       "                  }\n",
       "                  csv += \"\\n\";\n",
       "                }\n",
       "                return csv;\n",
       "            }\n",
       "        }\n",
       "\n",
       "        return module;\n",
       "    })();\n",
       "modules[\"toyplot/root/id\"] = \"tf2fa9938e62544678a07227cd1c4ca32\";\n",
       "modules[\"toyplot/root\"] = (function(root_id)\n",
       "    {\n",
       "        return document.querySelector(\"#\" + root_id);\n",
       "    })(modules[\"toyplot/root/id\"]);\n",
       "modules[\"toyplot/canvas/id\"] = \"tee268626ba6446819323a7d4b6d2ff1a\";\n",
       "modules[\"toyplot/canvas\"] = (function(canvas_id)\n",
       "    {\n",
       "        return document.querySelector(\"#\" + canvas_id);\n",
       "    })(modules[\"toyplot/canvas/id\"]);\n",
       "modules[\"toyplot/menus/context\"] = (function(root, canvas)\n",
       "    {\n",
       "        var wrapper = document.createElement(\"div\");\n",
       "        wrapper.innerHTML = \"<ul class='toyplot-context-menu' style='background:#eee; border:1px solid #b8b8b8; border-radius:5px; box-shadow: 0px 0px 8px rgba(0%,0%,0%,0.25); margin:0; padding:3px 0; position:fixed; visibility:hidden;'></ul>\"\n",
       "        var menu = wrapper.firstChild;\n",
       "\n",
       "        root.appendChild(menu);\n",
       "\n",
       "        var items = [];\n",
       "\n",
       "        var ignore_mouseup = null;\n",
       "        function open_menu(e)\n",
       "        {\n",
       "            var show_menu = false;\n",
       "            for(var index=0; index != items.length; ++index)\n",
       "            {\n",
       "                var item = items[index];\n",
       "                if(item.show(e))\n",
       "                {\n",
       "                    item.item.style.display = \"block\";\n",
       "                    show_menu = true;\n",
       "                }\n",
       "                else\n",
       "                {\n",
       "                    item.item.style.display = \"none\";\n",
       "                }\n",
       "            }\n",
       "\n",
       "            if(show_menu)\n",
       "            {\n",
       "                ignore_mouseup = true;\n",
       "                menu.style.left = (e.clientX + 1) + \"px\";\n",
       "                menu.style.top = (e.clientY - 5) + \"px\";\n",
       "                menu.style.visibility = \"visible\";\n",
       "                e.stopPropagation();\n",
       "                e.preventDefault();\n",
       "            }\n",
       "        }\n",
       "\n",
       "        function close_menu()\n",
       "        {\n",
       "            menu.style.visibility = \"hidden\";\n",
       "        }\n",
       "\n",
       "        function contextmenu(e)\n",
       "        {\n",
       "            open_menu(e);\n",
       "        }\n",
       "\n",
       "        function mousemove(e)\n",
       "        {\n",
       "            ignore_mouseup = false;\n",
       "        }\n",
       "\n",
       "        function mouseup(e)\n",
       "        {\n",
       "            if(ignore_mouseup)\n",
       "            {\n",
       "                ignore_mouseup = false;\n",
       "                return;\n",
       "            }\n",
       "            close_menu();\n",
       "        }\n",
       "\n",
       "        function keydown(e)\n",
       "        {\n",
       "            if(e.key == \"Escape\" || e.key == \"Esc\" || e.keyCode == 27)\n",
       "            {\n",
       "                close_menu();\n",
       "            }\n",
       "        }\n",
       "\n",
       "        canvas.addEventListener(\"contextmenu\", contextmenu);\n",
       "        canvas.addEventListener(\"mousemove\", mousemove);\n",
       "        document.addEventListener(\"mouseup\", mouseup);\n",
       "        document.addEventListener(\"keydown\", keydown);\n",
       "\n",
       "        var module = {};\n",
       "        module.add_item = function(label, show, activate)\n",
       "        {\n",
       "            var wrapper = document.createElement(\"div\");\n",
       "            wrapper.innerHTML = \"<li class='toyplot-context-menu-item' style='background:#eee; color:#333; padding:2px 20px; list-style:none; margin:0; text-align:left;'>\" + label + \"</li>\"\n",
       "            var item = wrapper.firstChild;\n",
       "\n",
       "            items.push({item: item, show: show});\n",
       "\n",
       "            function mouseover()\n",
       "            {\n",
       "                this.style.background = \"steelblue\";\n",
       "                this.style.color = \"white\";\n",
       "            }\n",
       "\n",
       "            function mouseout()\n",
       "            {\n",
       "                this.style.background = \"#eee\";\n",
       "                this.style.color = \"#333\";\n",
       "            }\n",
       "\n",
       "            function choose_item(e)\n",
       "            {\n",
       "                close_menu();\n",
       "                activate();\n",
       "\n",
       "                e.stopPropagation();\n",
       "                e.preventDefault();\n",
       "            }\n",
       "\n",
       "            item.addEventListener(\"mouseover\", mouseover);\n",
       "            item.addEventListener(\"mouseout\", mouseout);\n",
       "            item.addEventListener(\"mouseup\", choose_item);\n",
       "            item.addEventListener(\"contextmenu\", choose_item);\n",
       "\n",
       "            menu.appendChild(item);\n",
       "        };\n",
       "        return module;\n",
       "    })(modules[\"toyplot/root\"],modules[\"toyplot/canvas\"]);\n",
       "modules[\"toyplot/io\"] = (function()\n",
       "    {\n",
       "        var module = {};\n",
       "        module.save_file = function(mime_type, charset, data, filename)\n",
       "        {\n",
       "            var uri = \"data:\" + mime_type + \";charset=\" + charset + \",\" + data;\n",
       "            uri = encodeURI(uri);\n",
       "\n",
       "            var link = document.createElement(\"a\");\n",
       "            if(typeof link.download != \"undefined\")\n",
       "            {\n",
       "              link.href = uri;\n",
       "              link.style = \"visibility:hidden\";\n",
       "              link.download = filename;\n",
       "\n",
       "              document.body.appendChild(link);\n",
       "              link.click();\n",
       "              document.body.removeChild(link);\n",
       "            }\n",
       "            else\n",
       "            {\n",
       "              window.open(uri);\n",
       "            }\n",
       "        };\n",
       "        return module;\n",
       "    })();\n",
       "(function(tables, context_menu, io, owner_id, key, label, names, columns, filename)\n",
       "        {\n",
       "            tables.set(owner_id, key, names, columns);\n",
       "\n",
       "            var owner = document.querySelector(\"#\" + owner_id);\n",
       "            function show_item(e)\n",
       "            {\n",
       "                return owner.contains(e.target);\n",
       "            }\n",
       "\n",
       "            function choose_item()\n",
       "            {\n",
       "                io.save_file(\"text/csv\", \"utf-8\", tables.get_csv(owner_id, key), filename + \".csv\");\n",
       "            }\n",
       "\n",
       "            context_menu.add_item(\"Save \" + label + \" as CSV\", show_item, choose_item);\n",
       "        })(modules[\"toyplot/tables\"],modules[\"toyplot/menus/context\"],modules[\"toyplot/io\"],\"teaf60e7d6a754558848551dcae712c59\",\"data\",\"point\",[\"x\", \"y0\"],[[0.0, 1.0, 2.0, 3.0, 4.0, 3.5, 2.75, 1.875, 0.9375], [0.0, 0.0, 0.0, 0.0, 0.0, 0.25, 0.5, 0.75, 1.0]],\"toyplot\");\n",
       "})();</script></div></div>"
      ]
     },
     "metadata": {},
     "output_type": "display_data"
    }
   ],
   "source": [
    "tree = toytree.rtree.imbtree(5)\n",
    "canvas = toyplot.Canvas(400, 300)\n",
    "axes = canvas.cartesian(show=False)\n",
    "\n",
    "m = tree.draw(axes=axes, layout='d', tip_labels=False)\n",
    "coords = tree.get_node_coordinates(layout='d')\n",
    "mark = axes.scatterplot(coords.x, coords.y, size=20)"
   ]
  },
  {
   "cell_type": "code",
   "execution_count": 393,
   "id": "6314e197",
   "metadata": {},
   "outputs": [
    {
     "data": {
      "text/html": [
       "<div>\n",
       "<style scoped>\n",
       "    .dataframe tbody tr th:only-of-type {\n",
       "        vertical-align: middle;\n",
       "    }\n",
       "\n",
       "    .dataframe tbody tr th {\n",
       "        vertical-align: top;\n",
       "    }\n",
       "\n",
       "    .dataframe thead th {\n",
       "        text-align: right;\n",
       "    }\n",
       "</style>\n",
       "<table border=\"1\" class=\"dataframe\">\n",
       "  <thead>\n",
       "    <tr style=\"text-align: right;\">\n",
       "      <th></th>\n",
       "      <th>x</th>\n",
       "      <th>y</th>\n",
       "    </tr>\n",
       "  </thead>\n",
       "  <tbody>\n",
       "    <tr>\n",
       "      <th>0</th>\n",
       "      <td>0.0000</td>\n",
       "      <td>0.00</td>\n",
       "    </tr>\n",
       "    <tr>\n",
       "      <th>1</th>\n",
       "      <td>1.0000</td>\n",
       "      <td>0.00</td>\n",
       "    </tr>\n",
       "    <tr>\n",
       "      <th>2</th>\n",
       "      <td>2.0000</td>\n",
       "      <td>0.00</td>\n",
       "    </tr>\n",
       "    <tr>\n",
       "      <th>3</th>\n",
       "      <td>3.0000</td>\n",
       "      <td>0.00</td>\n",
       "    </tr>\n",
       "    <tr>\n",
       "      <th>4</th>\n",
       "      <td>4.0000</td>\n",
       "      <td>0.00</td>\n",
       "    </tr>\n",
       "    <tr>\n",
       "      <th>5</th>\n",
       "      <td>3.5000</td>\n",
       "      <td>0.25</td>\n",
       "    </tr>\n",
       "    <tr>\n",
       "      <th>6</th>\n",
       "      <td>2.7500</td>\n",
       "      <td>0.50</td>\n",
       "    </tr>\n",
       "    <tr>\n",
       "      <th>7</th>\n",
       "      <td>1.8750</td>\n",
       "      <td>0.75</td>\n",
       "    </tr>\n",
       "    <tr>\n",
       "      <th>8</th>\n",
       "      <td>0.9375</td>\n",
       "      <td>1.00</td>\n",
       "    </tr>\n",
       "  </tbody>\n",
       "</table>\n",
       "</div>"
      ],
      "text/plain": [
       "        x     y\n",
       "0  0.0000  0.00\n",
       "1  1.0000  0.00\n",
       "2  2.0000  0.00\n",
       "3  3.0000  0.00\n",
       "4  4.0000  0.00\n",
       "5  3.5000  0.25\n",
       "6  2.7500  0.50\n",
       "7  1.8750  0.75\n",
       "8  0.9375  1.00"
      ]
     },
     "execution_count": 393,
     "metadata": {},
     "output_type": "execute_result"
    }
   ],
   "source": [
    "coords"
   ]
  },
  {
   "cell_type": "code",
   "execution_count": 399,
   "id": "323b45d2",
   "metadata": {},
   "outputs": [
    {
     "data": {
      "text/plain": [
       "[8, 0, 7, 1, 6, 2, 5, 3, 4]"
      ]
     },
     "execution_count": 399,
     "metadata": {},
     "output_type": "execute_result"
    }
   ],
   "source": []
  },
  {
   "cell_type": "code",
   "execution_count": 436,
   "id": "3d3131e9",
   "metadata": {},
   "outputs": [],
   "source": [
    "\n",
    "tree = toytree.rtree.unittree(ntips=8, seed=123)\n",
    "\n",
    "def plot_traversal_order(tree, strategy=\"postorder\"):\n",
    "\n",
    "    # draw the tree with nodes colored\n",
    "    canvas, axes, mark = tree.draw(layout='d', tip_labels=False)\n",
    "    canvas.text(canvas.width / 2, 20, f'\"{strategy}\" traversal', style={\"font-size\": \"16px\"})\n",
    "    canvas.style[\"background-color\"] = \"white\"\n",
    "\n",
    "    # get node coordinates table\n",
    "    coords = tree.get_node_coordinates(layout='d')\n",
    "\n",
    "    # get node indices in specified traversal order\n",
    "    nidxs = [i.idx for i in tree.traverse(strategy)]\n",
    "\n",
    "    # create labeled markers in traversal order\n",
    "    markers = [toyplot.marker.create(shape=\"o\", label=str(idx)) for idx, nidx in enumerate(nidxs)]\n",
    "\n",
    "    # get scatterplot Mark\n",
    "    mark = axes.scatterplot(coords.x[nidxs], coords.y[nidxs], size=20, marker=markers)\n",
    "\n",
    "    # iterate over each datum as a frame at 2 frames / second\n",
    "    for frame in canvas.frames((coords.shape[0] + 1, 2)):\n",
    "\n",
    "        # set opacity very low on all Nodes initially\n",
    "        if frame.number == 0:\n",
    "            for i in range(coords.shape[0]):\n",
    "                frame.set_datum_style(mark, 0, i, style={\"opacity\":0.1})\n",
    "\n",
    "        # increase opacity as each frame \n",
    "        else:\n",
    "            frame.set_datum_style(mark, 0, frame.number - 1, style={\"opacity\":1.0})\n",
    "    return canvas\n",
    "    \n",
    "    \n",
    "for strategy in [\"levelorder\", \"postorder\", \"preorder\", \"idxorder\"]:\n",
    "    canvas = plot_traversal_order(tree, strategy)\n",
    "    toyplot.html.render(canvas, f\"traversal-{strategy}-animated.html\", style={\"text-align\": \"center\"})"
   ]
  },
  {
   "cell_type": "code",
   "execution_count": 426,
   "id": "8bd6d515",
   "metadata": {},
   "outputs": [],
   "source": [
    "toyplot.html.render(canvas, \"/tmp/test.html\", style={\"text-align\": \"center\", \"width\": \"350px\"},)"
   ]
  },
  {
   "cell_type": "code",
   "execution_count": 428,
   "id": "792c6822",
   "metadata": {},
   "outputs": [
    {
     "data": {
      "text/plain": [
       "<module 'toyplot.config' from '/home/deren/miniconda3/lib/python3.9/site-packages/toyplot/config.py'>"
      ]
     },
     "execution_count": 428,
     "metadata": {},
     "output_type": "execute_result"
    }
   ],
   "source": [
    "toyplot.html.render()"
   ]
  },
  {
   "cell_type": "code",
   "execution_count": 375,
   "id": "e1df451e",
   "metadata": {},
   "outputs": [
    {
     "data": {
      "text/plain": [
       "<bound method Canvas.frame of <toyplot.canvas.Canvas object at 0x7f0168bc1a00>>"
      ]
     },
     "execution_count": 375,
     "metadata": {},
     "output_type": "execute_result"
    }
   ],
   "source": [
    "frame.set_mark_style()\n",
    "frame.set_datum_text()"
   ]
  },
  {
   "cell_type": "code",
   "execution_count": 325,
   "id": "7770a3ba",
   "metadata": {},
   "outputs": [
    {
     "data": {
      "text/html": [
       "<table style=\"border-collapse:collapse; border:none; color: #292724\" class=\"toyplot-data-Table\"><tr style=\"border:none;border-bottom:1px solid #292724\"><th style=\"text-align:left;border:none;padding-right:1em;\">x</th><th style=\"text-align:left;border:none;padding-right:1em;\">y0</th><th style=\"text-align:left;border:none;padding-right:1em;\">marker0</th><th style=\"text-align:left;border:none;padding-right:1em;\">size0</th><th style=\"text-align:left;border:none;padding-right:1em;\">fill0</th><th style=\"text-align:left;border:none;padding-right:1em;\">stroke0</th><th style=\"text-align:left;border:none;padding-right:1em;\">opacity0</th><th style=\"text-align:left;border:none;padding-right:1em;\">title0</th><th style=\"text-align:left;border:none;padding-right:1em;\">hyperlink0</th></tr><tr style=\"border:none\"><td style=\"border:none;padding-right:1em;\">-1.21584609844</td><td style=\"border:none;padding-right:1em;\">1.76578887458</td><td style=\"border:none;padding-right:1em;\">o</td><td style=\"border:none;padding-right:1em;\">10</td><td style=\"border:none;padding-right:1em;\">(0.4, 0.7607843137254902, 0.6470588235294118, 1.0)</td><td style=\"border:none;padding-right:1em;\">(0.4, 0.7607843137254902, 0.6470588235294118, 1.0)</td><td style=\"border:none;padding-right:1em;\">1</td><td style=\"border:none;padding-right:1em;\">None</td><td style=\"border:none;padding-right:1em;\">None</td></tr><tr style=\"border:none\"><td style=\"border:none;padding-right:1em;\">-2.24429368366</td><td style=\"border:none;padding-right:1em;\">-1.21353645934</td><td style=\"border:none;padding-right:1em;\">o</td><td style=\"border:none;padding-right:1em;\">10</td><td style=\"border:none;padding-right:1em;\">(0.4, 0.7607843137254902, 0.6470588235294118, 1.0)</td><td style=\"border:none;padding-right:1em;\">(0.4, 0.7607843137254902, 0.6470588235294118, 1.0)</td><td style=\"border:none;padding-right:1em;\">1</td><td style=\"border:none;padding-right:1em;\">None</td><td style=\"border:none;padding-right:1em;\">None</td></tr><tr style=\"border:none\"><td style=\"border:none;padding-right:1em;\">-0.780022786974</td><td style=\"border:none;padding-right:1em;\">-0.19876074865</td><td style=\"border:none;padding-right:1em;\">o</td><td style=\"border:none;padding-right:1em;\">10</td><td style=\"border:none;padding-right:1em;\">(0.4, 0.7607843137254902, 0.6470588235294118, 1.0)</td><td style=\"border:none;padding-right:1em;\">(0.4, 0.7607843137254902, 0.6470588235294118, 1.0)</td><td style=\"border:none;padding-right:1em;\">1</td><td style=\"border:none;padding-right:1em;\">None</td><td style=\"border:none;padding-right:1em;\">None</td></tr><tr style=\"border:none\"><td style=\"border:none;padding-right:1em;\">1.12163425905</td><td style=\"border:none;padding-right:1em;\">0.138574186948</td><td style=\"border:none;padding-right:1em;\">o</td><td style=\"border:none;padding-right:1em;\">10</td><td style=\"border:none;padding-right:1em;\">(0.4, 0.7607843137254902, 0.6470588235294118, 1.0)</td><td style=\"border:none;padding-right:1em;\">(0.4, 0.7607843137254902, 0.6470588235294118, 1.0)</td><td style=\"border:none;padding-right:1em;\">1</td><td style=\"border:none;padding-right:1em;\">None</td><td style=\"border:none;padding-right:1em;\">None</td></tr><tr style=\"border:none\"><td style=\"border:none;padding-right:1em;\">0.0884396790735</td><td style=\"border:none;padding-right:1em;\">1.00182281796</td><td style=\"border:none;padding-right:1em;\">o</td><td style=\"border:none;padding-right:1em;\">10</td><td style=\"border:none;padding-right:1em;\">(0.4, 0.7607843137254902, 0.6470588235294118, 1.0)</td><td style=\"border:none;padding-right:1em;\">(0.4, 0.7607843137254902, 0.6470588235294118, 1.0)</td><td style=\"border:none;padding-right:1em;\">1</td><td style=\"border:none;padding-right:1em;\">None</td><td style=\"border:none;padding-right:1em;\">None</td></tr><tr style=\"border:none\"><td style=\"border:none;padding-right:1em;\">0.770628054746</td><td style=\"border:none;padding-right:1em;\">-0.973718992953</td><td style=\"border:none;padding-right:1em;\">o</td><td style=\"border:none;padding-right:1em;\">10</td><td style=\"border:none;padding-right:1em;\">(0.4, 0.7607843137254902, 0.6470588235294118, 1.0)</td><td style=\"border:none;padding-right:1em;\">(0.4, 0.7607843137254902, 0.6470588235294118, 1.0)</td><td style=\"border:none;padding-right:1em;\">1</td><td style=\"border:none;padding-right:1em;\">None</td><td style=\"border:none;padding-right:1em;\">None</td></tr><tr style=\"border:none\"><td style=\"border:none;padding-right:1em;\">-0.106933380068</td><td style=\"border:none;padding-right:1em;\">0.0632512911163</td><td style=\"border:none;padding-right:1em;\">o</td><td style=\"border:none;padding-right:1em;\">10</td><td style=\"border:none;padding-right:1em;\">(0.4, 0.7607843137254902, 0.6470588235294118, 1.0)</td><td style=\"border:none;padding-right:1em;\">(0.4, 0.7607843137254902, 0.6470588235294118, 1.0)</td><td style=\"border:none;padding-right:1em;\">1</td><td style=\"border:none;padding-right:1em;\">None</td><td style=\"border:none;padding-right:1em;\">None</td></tr><tr style=\"border:none\"><td style=\"border:none;padding-right:1em;\">1.17169120717</td><td style=\"border:none;padding-right:1em;\">-1.87875890065</td><td style=\"border:none;padding-right:1em;\">o</td><td style=\"border:none;padding-right:1em;\">10</td><td style=\"border:none;padding-right:1em;\">(0.4, 0.7607843137254902, 0.6470588235294118, 1.0)</td><td style=\"border:none;padding-right:1em;\">(0.4, 0.7607843137254902, 0.6470588235294118, 1.0)</td><td style=\"border:none;padding-right:1em;\">1</td><td style=\"border:none;padding-right:1em;\">None</td><td style=\"border:none;padding-right:1em;\">None</td></tr><tr style=\"border:none\"><td style=\"border:none;padding-right:1em;\">1.24212604833</td><td style=\"border:none;padding-right:1em;\">0.946671056942</td><td style=\"border:none;padding-right:1em;\">o</td><td style=\"border:none;padding-right:1em;\">10</td><td style=\"border:none;padding-right:1em;\">(0.4, 0.7607843137254902, 0.6470588235294118, 1.0)</td><td style=\"border:none;padding-right:1em;\">(0.4, 0.7607843137254902, 0.6470588235294118, 1.0)</td><td style=\"border:none;padding-right:1em;\">1</td><td style=\"border:none;padding-right:1em;\">None</td><td style=\"border:none;padding-right:1em;\">None</td></tr><tr style=\"border:none\"><td style=\"border:none;padding-right:1em;\">0.992415601414</td><td style=\"border:none;padding-right:1em;\">-0.290165360181</td><td style=\"border:none;padding-right:1em;\">o</td><td style=\"border:none;padding-right:1em;\">10</td><td style=\"border:none;padding-right:1em;\">(0.4, 0.7607843137254902, 0.6470588235294118, 1.0)</td><td style=\"border:none;padding-right:1em;\">(0.4, 0.7607843137254902, 0.6470588235294118, 1.0)</td><td style=\"border:none;padding-right:1em;\">1</td><td style=\"border:none;padding-right:1em;\">None</td><td style=\"border:none;padding-right:1em;\">None</td></tr><tr style=\"border:none\"><td style=\"border:none;padding-right:1em;\">-0.810788109151</td><td style=\"border:none;padding-right:1em;\">0.777761235003</td><td style=\"border:none;padding-right:1em;\">o</td><td style=\"border:none;padding-right:1em;\">10</td><td style=\"border:none;padding-right:1em;\">(0.4, 0.7607843137254902, 0.6470588235294118, 1.0)</td><td style=\"border:none;padding-right:1em;\">(0.4, 0.7607843137254902, 0.6470588235294118, 1.0)</td><td style=\"border:none;padding-right:1em;\">1</td><td style=\"border:none;padding-right:1em;\">None</td><td style=\"border:none;padding-right:1em;\">None</td></tr><tr style=\"border:none\"><td style=\"border:none;padding-right:1em;\">0.142486728949</td><td style=\"border:none;padding-right:1em;\">0.0472912951394</td><td style=\"border:none;padding-right:1em;\">o</td><td style=\"border:none;padding-right:1em;\">10</td><td style=\"border:none;padding-right:1em;\">(0.4, 0.7607843137254902, 0.6470588235294118, 1.0)</td><td style=\"border:none;padding-right:1em;\">(0.4, 0.7607843137254902, 0.6470588235294118, 1.0)</td><td style=\"border:none;padding-right:1em;\">1</td><td style=\"border:none;padding-right:1em;\">None</td><td style=\"border:none;padding-right:1em;\">None</td></tr><tr style=\"border:none\"><td style=\"border:none;padding-right:1em;\">-0.279732950596</td><td style=\"border:none;padding-right:1em;\">-1.37118924054</td><td style=\"border:none;padding-right:1em;\">o</td><td style=\"border:none;padding-right:1em;\">10</td><td style=\"border:none;padding-right:1em;\">(0.4, 0.7607843137254902, 0.6470588235294118, 1.0)</td><td style=\"border:none;padding-right:1em;\">(0.4, 0.7607843137254902, 0.6470588235294118, 1.0)</td><td style=\"border:none;padding-right:1em;\">1</td><td style=\"border:none;padding-right:1em;\">None</td><td style=\"border:none;padding-right:1em;\">None</td></tr><tr style=\"border:none\"><td style=\"border:none;padding-right:1em;\">-0.547915576004</td><td style=\"border:none;padding-right:1em;\">0.323510317664</td><td style=\"border:none;padding-right:1em;\">o</td><td style=\"border:none;padding-right:1em;\">10</td><td style=\"border:none;padding-right:1em;\">(0.4, 0.7607843137254902, 0.6470588235294118, 1.0)</td><td style=\"border:none;padding-right:1em;\">(0.4, 0.7607843137254902, 0.6470588235294118, 1.0)</td><td style=\"border:none;padding-right:1em;\">1</td><td style=\"border:none;padding-right:1em;\">None</td><td style=\"border:none;padding-right:1em;\">None</td></tr><tr style=\"border:none\"><td style=\"border:none;padding-right:1em;\">-0.409603888561</td><td style=\"border:none;padding-right:1em;\">-0.931599189976</td><td style=\"border:none;padding-right:1em;\">o</td><td style=\"border:none;padding-right:1em;\">10</td><td style=\"border:none;padding-right:1em;\">(0.4, 0.7607843137254902, 0.6470588235294118, 1.0)</td><td style=\"border:none;padding-right:1em;\">(0.4, 0.7607843137254902, 0.6470588235294118, 1.0)</td><td style=\"border:none;padding-right:1em;\">1</td><td style=\"border:none;padding-right:1em;\">None</td><td style=\"border:none;padding-right:1em;\">None</td></tr><tr style=\"border:none\"><td style=\"border:none;padding-right:1em;\">-1.10858351981</td><td style=\"border:none;padding-right:1em;\">-0.676289238218</td><td style=\"border:none;padding-right:1em;\">o</td><td style=\"border:none;padding-right:1em;\">10</td><td style=\"border:none;padding-right:1em;\">(0.4, 0.7607843137254902, 0.6470588235294118, 1.0)</td><td style=\"border:none;padding-right:1em;\">(0.4, 0.7607843137254902, 0.6470588235294118, 1.0)</td><td style=\"border:none;padding-right:1em;\">1</td><td style=\"border:none;padding-right:1em;\">None</td><td style=\"border:none;padding-right:1em;\">None</td></tr><tr style=\"border:none\"><td style=\"border:none;padding-right:1em;\">0.958872096482</td><td style=\"border:none;padding-right:1em;\">0.108006766237</td><td style=\"border:none;padding-right:1em;\">o</td><td style=\"border:none;padding-right:1em;\">10</td><td style=\"border:none;padding-right:1em;\">(0.4, 0.7607843137254902, 0.6470588235294118, 1.0)</td><td style=\"border:none;padding-right:1em;\">(0.4, 0.7607843137254902, 0.6470588235294118, 1.0)</td><td style=\"border:none;padding-right:1em;\">1</td><td style=\"border:none;padding-right:1em;\">None</td><td style=\"border:none;padding-right:1em;\">None</td></tr><tr style=\"border:none\"><td style=\"border:none;padding-right:1em;\">1.11749997565</td><td style=\"border:none;padding-right:1em;\">1.49347781487</td><td style=\"border:none;padding-right:1em;\">o</td><td style=\"border:none;padding-right:1em;\">10</td><td style=\"border:none;padding-right:1em;\">(0.4, 0.7607843137254902, 0.6470588235294118, 1.0)</td><td style=\"border:none;padding-right:1em;\">(0.4, 0.7607843137254902, 0.6470588235294118, 1.0)</td><td style=\"border:none;padding-right:1em;\">1</td><td style=\"border:none;padding-right:1em;\">None</td><td style=\"border:none;padding-right:1em;\">None</td></tr><tr style=\"border:none\"><td style=\"border:none;padding-right:1em;\">0.354037278777</td><td style=\"border:none;padding-right:1em;\">-0.355548380698</td><td style=\"border:none;padding-right:1em;\">o</td><td style=\"border:none;padding-right:1em;\">10</td><td style=\"border:none;padding-right:1em;\">(0.4, 0.7607843137254902, 0.6470588235294118, 1.0)</td><td style=\"border:none;padding-right:1em;\">(0.4, 0.7607843137254902, 0.6470588235294118, 1.0)</td><td style=\"border:none;padding-right:1em;\">1</td><td style=\"border:none;padding-right:1em;\">None</td><td style=\"border:none;padding-right:1em;\">None</td></tr><tr style=\"border:none\"><td style=\"border:none;padding-right:1em;\">-1.31088279093</td><td style=\"border:none;padding-right:1em;\">-2.9335885547</td><td style=\"border:none;padding-right:1em;\">o</td><td style=\"border:none;padding-right:1em;\">10</td><td style=\"border:none;padding-right:1em;\">(0.4, 0.7607843137254902, 0.6470588235294118, 1.0)</td><td style=\"border:none;padding-right:1em;\">(0.4, 0.7607843137254902, 0.6470588235294118, 1.0)</td><td style=\"border:none;padding-right:1em;\">1</td><td style=\"border:none;padding-right:1em;\">None</td><td style=\"border:none;padding-right:1em;\">None</td></tr><tr style=\"border:none\"><td style=\"border:none;padding-right:1em;\">0.875322674803</td><td style=\"border:none;padding-right:1em;\">-1.01872743328</td><td style=\"border:none;padding-right:1em;\">o</td><td style=\"border:none;padding-right:1em;\">10</td><td style=\"border:none;padding-right:1em;\">(0.4, 0.7607843137254902, 0.6470588235294118, 1.0)</td><td style=\"border:none;padding-right:1em;\">(0.4, 0.7607843137254902, 0.6470588235294118, 1.0)</td><td style=\"border:none;padding-right:1em;\">1</td><td style=\"border:none;padding-right:1em;\">None</td><td style=\"border:none;padding-right:1em;\">None</td></tr><tr style=\"border:none\"><td style=\"border:none;padding-right:1em;\">1.79760321334</td><td style=\"border:none;padding-right:1em;\">0.954970645857</td><td style=\"border:none;padding-right:1em;\">o</td><td style=\"border:none;padding-right:1em;\">10</td><td style=\"border:none;padding-right:1em;\">(0.4, 0.7607843137254902, 0.6470588235294118, 1.0)</td><td style=\"border:none;padding-right:1em;\">(0.4, 0.7607843137254902, 0.6470588235294118, 1.0)</td><td style=\"border:none;padding-right:1em;\">1</td><td style=\"border:none;padding-right:1em;\">None</td><td style=\"border:none;padding-right:1em;\">None</td></tr><tr style=\"border:none\"><td style=\"border:none;padding-right:1em;\">-0.803841599119</td><td style=\"border:none;padding-right:1em;\">0.941261724757</td><td style=\"border:none;padding-right:1em;\">o</td><td style=\"border:none;padding-right:1em;\">10</td><td style=\"border:none;padding-right:1em;\">(0.4, 0.7607843137254902, 0.6470588235294118, 1.0)</td><td style=\"border:none;padding-right:1em;\">(0.4, 0.7607843137254902, 0.6470588235294118, 1.0)</td><td style=\"border:none;padding-right:1em;\">1</td><td style=\"border:none;padding-right:1em;\">None</td><td style=\"border:none;padding-right:1em;\">None</td></tr><tr style=\"border:none\"><td style=\"border:none;padding-right:1em;\">-0.0620381513023</td><td style=\"border:none;padding-right:1em;\">1.95125241561</td><td style=\"border:none;padding-right:1em;\">o</td><td style=\"border:none;padding-right:1em;\">10</td><td style=\"border:none;padding-right:1em;\">(0.4, 0.7607843137254902, 0.6470588235294118, 1.0)</td><td style=\"border:none;padding-right:1em;\">(0.4, 0.7607843137254902, 0.6470588235294118, 1.0)</td><td style=\"border:none;padding-right:1em;\">1</td><td style=\"border:none;padding-right:1em;\">None</td><td style=\"border:none;padding-right:1em;\">None</td></tr><tr style=\"border:none\"><td style=\"border:none;padding-right:1em;\">1.23069284217</td><td style=\"border:none;padding-right:1em;\">0.0974043455822</td><td style=\"border:none;padding-right:1em;\">o</td><td style=\"border:none;padding-right:1em;\">10</td><td style=\"border:none;padding-right:1em;\">(0.4, 0.7607843137254902, 0.6470588235294118, 1.0)</td><td style=\"border:none;padding-right:1em;\">(0.4, 0.7607843137254902, 0.6470588235294118, 1.0)</td><td style=\"border:none;padding-right:1em;\">1</td><td style=\"border:none;padding-right:1em;\">None</td><td style=\"border:none;padding-right:1em;\">None</td></tr><tr style=\"border:none\"><td style=\"border:none;padding-right:1em;\">0.0790738760552</td><td style=\"border:none;padding-right:1em;\">-1.36470380083</td><td style=\"border:none;padding-right:1em;\">o</td><td style=\"border:none;padding-right:1em;\">10</td><td style=\"border:none;padding-right:1em;\">(0.4, 0.7607843137254902, 0.6470588235294118, 1.0)</td><td style=\"border:none;padding-right:1em;\">(0.4, 0.7607843137254902, 0.6470588235294118, 1.0)</td><td style=\"border:none;padding-right:1em;\">1</td><td style=\"border:none;padding-right:1em;\">None</td><td style=\"border:none;padding-right:1em;\">None</td></tr><tr style=\"border:none\"><td style=\"border:none;padding-right:1em;\">1.53164705672</td><td style=\"border:none;padding-right:1em;\">-0.57699619441</td><td style=\"border:none;padding-right:1em;\">o</td><td style=\"border:none;padding-right:1em;\">10</td><td style=\"border:none;padding-right:1em;\">(0.4, 0.7607843137254902, 0.6470588235294118, 1.0)</td><td style=\"border:none;padding-right:1em;\">(0.4, 0.7607843137254902, 0.6470588235294118, 1.0)</td><td style=\"border:none;padding-right:1em;\">1</td><td style=\"border:none;padding-right:1em;\">None</td><td style=\"border:none;padding-right:1em;\">None</td></tr><tr style=\"border:none\"><td style=\"border:none;padding-right:1em;\">0.347392118558</td><td style=\"border:none;padding-right:1em;\">0.747579472802</td><td style=\"border:none;padding-right:1em;\">o</td><td style=\"border:none;padding-right:1em;\">10</td><td style=\"border:none;padding-right:1em;\">(0.4, 0.7607843137254902, 0.6470588235294118, 1.0)</td><td style=\"border:none;padding-right:1em;\">(0.4, 0.7607843137254902, 0.6470588235294118, 1.0)</td><td style=\"border:none;padding-right:1em;\">1</td><td style=\"border:none;padding-right:1em;\">None</td><td style=\"border:none;padding-right:1em;\">None</td></tr><tr style=\"border:none\"><td style=\"border:none;padding-right:1em;\">-0.442904254601</td><td style=\"border:none;padding-right:1em;\">-1.69527832098</td><td style=\"border:none;padding-right:1em;\">o</td><td style=\"border:none;padding-right:1em;\">10</td><td style=\"border:none;padding-right:1em;\">(0.4, 0.7607843137254902, 0.6470588235294118, 1.0)</td><td style=\"border:none;padding-right:1em;\">(0.4, 0.7607843137254902, 0.6470588235294118, 1.0)</td><td style=\"border:none;padding-right:1em;\">1</td><td style=\"border:none;padding-right:1em;\">None</td><td style=\"border:none;padding-right:1em;\">None</td></tr><tr style=\"border:none\"><td style=\"border:none;padding-right:1em;\">0.675658302783</td><td style=\"border:none;padding-right:1em;\">-0.100493595431</td><td style=\"border:none;padding-right:1em;\">o</td><td style=\"border:none;padding-right:1em;\">10</td><td style=\"border:none;padding-right:1em;\">(0.4, 0.7607843137254902, 0.6470588235294118, 1.0)</td><td style=\"border:none;padding-right:1em;\">(0.4, 0.7607843137254902, 0.6470588235294118, 1.0)</td><td style=\"border:none;padding-right:1em;\">1</td><td style=\"border:none;padding-right:1em;\">None</td><td style=\"border:none;padding-right:1em;\">None</td></tr><tr style=\"border:none\"><td style=\"border:none;padding-right:1em;\">-1.53426977248</td><td style=\"border:none;padding-right:1em;\">-0.559734735223</td><td style=\"border:none;padding-right:1em;\">o</td><td style=\"border:none;padding-right:1em;\">10</td><td style=\"border:none;padding-right:1em;\">(0.4, 0.7607843137254902, 0.6470588235294118, 1.0)</td><td style=\"border:none;padding-right:1em;\">(0.4, 0.7607843137254902, 0.6470588235294118, 1.0)</td><td style=\"border:none;padding-right:1em;\">1</td><td style=\"border:none;padding-right:1em;\">None</td><td style=\"border:none;padding-right:1em;\">None</td></tr><tr style=\"border:none\"><td style=\"border:none;padding-right:1em;\">-0.715216385931</td><td style=\"border:none;padding-right:1em;\">0.582665354627</td><td style=\"border:none;padding-right:1em;\">o</td><td style=\"border:none;padding-right:1em;\">10</td><td style=\"border:none;padding-right:1em;\">(0.4, 0.7607843137254902, 0.6470588235294118, 1.0)</td><td style=\"border:none;padding-right:1em;\">(0.4, 0.7607843137254902, 0.6470588235294118, 1.0)</td><td style=\"border:none;padding-right:1em;\">1</td><td style=\"border:none;padding-right:1em;\">None</td><td style=\"border:none;padding-right:1em;\">None</td></tr><tr style=\"border:none\"><td style=\"border:none;padding-right:1em;\">-1.97947349564</td><td style=\"border:none;padding-right:1em;\">0.66652155419</td><td style=\"border:none;padding-right:1em;\">o</td><td style=\"border:none;padding-right:1em;\">10</td><td style=\"border:none;padding-right:1em;\">(0.4, 0.7607843137254902, 0.6470588235294118, 1.0)</td><td style=\"border:none;padding-right:1em;\">(0.4, 0.7607843137254902, 0.6470588235294118, 1.0)</td><td style=\"border:none;padding-right:1em;\">1</td><td style=\"border:none;padding-right:1em;\">None</td><td style=\"border:none;padding-right:1em;\">None</td></tr><tr style=\"border:none\"><td style=\"border:none;padding-right:1em;\">-0.3210105907</td><td style=\"border:none;padding-right:1em;\">-1.1976599031</td><td style=\"border:none;padding-right:1em;\">o</td><td style=\"border:none;padding-right:1em;\">10</td><td style=\"border:none;padding-right:1em;\">(0.4, 0.7607843137254902, 0.6470588235294118, 1.0)</td><td style=\"border:none;padding-right:1em;\">(0.4, 0.7607843137254902, 0.6470588235294118, 1.0)</td><td style=\"border:none;padding-right:1em;\">1</td><td style=\"border:none;padding-right:1em;\">None</td><td style=\"border:none;padding-right:1em;\">None</td></tr><tr style=\"border:none\"><td style=\"border:none;padding-right:1em;\">-0.753824831683</td><td style=\"border:none;padding-right:1em;\">-0.89610031376</td><td style=\"border:none;padding-right:1em;\">o</td><td style=\"border:none;padding-right:1em;\">10</td><td style=\"border:none;padding-right:1em;\">(0.4, 0.7607843137254902, 0.6470588235294118, 1.0)</td><td style=\"border:none;padding-right:1em;\">(0.4, 0.7607843137254902, 0.6470588235294118, 1.0)</td><td style=\"border:none;padding-right:1em;\">1</td><td style=\"border:none;padding-right:1em;\">None</td><td style=\"border:none;padding-right:1em;\">None</td></tr><tr style=\"border:none\"><td style=\"border:none;padding-right:1em;\">1.14412086967</td><td style=\"border:none;padding-right:1em;\">0.622747087793</td><td style=\"border:none;padding-right:1em;\">o</td><td style=\"border:none;padding-right:1em;\">10</td><td style=\"border:none;padding-right:1em;\">(0.4, 0.7607843137254902, 0.6470588235294118, 1.0)</td><td style=\"border:none;padding-right:1em;\">(0.4, 0.7607843137254902, 0.6470588235294118, 1.0)</td><td style=\"border:none;padding-right:1em;\">1</td><td style=\"border:none;padding-right:1em;\">None</td><td style=\"border:none;padding-right:1em;\">None</td></tr><tr style=\"border:none\"><td style=\"border:none;padding-right:1em;\">-0.0522237132529</td><td style=\"border:none;padding-right:1em;\">0.492952508491</td><td style=\"border:none;padding-right:1em;\">o</td><td style=\"border:none;padding-right:1em;\">10</td><td style=\"border:none;padding-right:1em;\">(0.4, 0.7607843137254902, 0.6470588235294118, 1.0)</td><td style=\"border:none;padding-right:1em;\">(0.4, 0.7607843137254902, 0.6470588235294118, 1.0)</td><td style=\"border:none;padding-right:1em;\">1</td><td style=\"border:none;padding-right:1em;\">None</td><td style=\"border:none;padding-right:1em;\">None</td></tr><tr style=\"border:none\"><td style=\"border:none;padding-right:1em;\">-0.126593071823</td><td style=\"border:none;padding-right:1em;\">-1.14421233798</td><td style=\"border:none;padding-right:1em;\">o</td><td style=\"border:none;padding-right:1em;\">10</td><td style=\"border:none;padding-right:1em;\">(0.4, 0.7607843137254902, 0.6470588235294118, 1.0)</td><td style=\"border:none;padding-right:1em;\">(0.4, 0.7607843137254902, 0.6470588235294118, 1.0)</td><td style=\"border:none;padding-right:1em;\">1</td><td style=\"border:none;padding-right:1em;\">None</td><td style=\"border:none;padding-right:1em;\">None</td></tr><tr style=\"border:none\"><td style=\"border:none;padding-right:1em;\">1.12855710067</td><td style=\"border:none;padding-right:1em;\">0.884002053209</td><td style=\"border:none;padding-right:1em;\">o</td><td style=\"border:none;padding-right:1em;\">10</td><td style=\"border:none;padding-right:1em;\">(0.4, 0.7607843137254902, 0.6470588235294118, 1.0)</td><td style=\"border:none;padding-right:1em;\">(0.4, 0.7607843137254902, 0.6470588235294118, 1.0)</td><td style=\"border:none;padding-right:1em;\">1</td><td style=\"border:none;padding-right:1em;\">None</td><td style=\"border:none;padding-right:1em;\">None</td></tr><tr style=\"border:none\"><td style=\"border:none;padding-right:1em;\">0.08228078925</td><td style=\"border:none;padding-right:1em;\">-0.749003409654</td><td style=\"border:none;padding-right:1em;\">o</td><td style=\"border:none;padding-right:1em;\">10</td><td style=\"border:none;padding-right:1em;\">(0.4, 0.7607843137254902, 0.6470588235294118, 1.0)</td><td style=\"border:none;padding-right:1em;\">(0.4, 0.7607843137254902, 0.6470588235294118, 1.0)</td><td style=\"border:none;padding-right:1em;\">1</td><td style=\"border:none;padding-right:1em;\">None</td><td style=\"border:none;padding-right:1em;\">None</td></tr><tr style=\"border:none\"><td style=\"border:none;padding-right:1em;\">-0.921931515403</td><td style=\"border:none;padding-right:1em;\">-0.20558829664</td><td style=\"border:none;padding-right:1em;\">o</td><td style=\"border:none;padding-right:1em;\">10</td><td style=\"border:none;padding-right:1em;\">(0.4, 0.7607843137254902, 0.6470588235294118, 1.0)</td><td style=\"border:none;padding-right:1em;\">(0.4, 0.7607843137254902, 0.6470588235294118, 1.0)</td><td style=\"border:none;padding-right:1em;\">1</td><td style=\"border:none;padding-right:1em;\">None</td><td style=\"border:none;padding-right:1em;\">None</td></tr><tr style=\"border:none\"><td style=\"border:none;padding-right:1em;\">0.379513667311</td><td style=\"border:none;padding-right:1em;\">1.44461800055</td><td style=\"border:none;padding-right:1em;\">o</td><td style=\"border:none;padding-right:1em;\">10</td><td style=\"border:none;padding-right:1em;\">(0.4, 0.7607843137254902, 0.6470588235294118, 1.0)</td><td style=\"border:none;padding-right:1em;\">(0.4, 0.7607843137254902, 0.6470588235294118, 1.0)</td><td style=\"border:none;padding-right:1em;\">1</td><td style=\"border:none;padding-right:1em;\">None</td><td style=\"border:none;padding-right:1em;\">None</td></tr><tr style=\"border:none\"><td style=\"border:none;padding-right:1em;\">-1.8281465878</td><td style=\"border:none;padding-right:1em;\">1.25466858117</td><td style=\"border:none;padding-right:1em;\">o</td><td style=\"border:none;padding-right:1em;\">10</td><td style=\"border:none;padding-right:1em;\">(0.4, 0.7607843137254902, 0.6470588235294118, 1.0)</td><td style=\"border:none;padding-right:1em;\">(0.4, 0.7607843137254902, 0.6470588235294118, 1.0)</td><td style=\"border:none;padding-right:1em;\">1</td><td style=\"border:none;padding-right:1em;\">None</td><td style=\"border:none;padding-right:1em;\">None</td></tr><tr style=\"border:none\"><td style=\"border:none;padding-right:1em;\">-1.59714581765</td><td style=\"border:none;padding-right:1em;\">0.593260891891</td><td style=\"border:none;padding-right:1em;\">o</td><td style=\"border:none;padding-right:1em;\">10</td><td style=\"border:none;padding-right:1em;\">(0.4, 0.7607843137254902, 0.6470588235294118, 1.0)</td><td style=\"border:none;padding-right:1em;\">(0.4, 0.7607843137254902, 0.6470588235294118, 1.0)</td><td style=\"border:none;padding-right:1em;\">1</td><td style=\"border:none;padding-right:1em;\">None</td><td style=\"border:none;padding-right:1em;\">None</td></tr><tr style=\"border:none\"><td style=\"border:none;padding-right:1em;\">-1.72910711645</td><td style=\"border:none;padding-right:1em;\">-0.818507843947</td><td style=\"border:none;padding-right:1em;\">o</td><td style=\"border:none;padding-right:1em;\">10</td><td style=\"border:none;padding-right:1em;\">(0.4, 0.7607843137254902, 0.6470588235294118, 1.0)</td><td style=\"border:none;padding-right:1em;\">(0.4, 0.7607843137254902, 0.6470588235294118, 1.0)</td><td style=\"border:none;padding-right:1em;\">1</td><td style=\"border:none;padding-right:1em;\">None</td><td style=\"border:none;padding-right:1em;\">None</td></tr><tr style=\"border:none\"><td style=\"border:none;padding-right:1em;\">-0.338848302246</td><td style=\"border:none;padding-right:1em;\">-0.312812374264</td><td style=\"border:none;padding-right:1em;\">o</td><td style=\"border:none;padding-right:1em;\">10</td><td style=\"border:none;padding-right:1em;\">(0.4, 0.7607843137254902, 0.6470588235294118, 1.0)</td><td style=\"border:none;padding-right:1em;\">(0.4, 0.7607843137254902, 0.6470588235294118, 1.0)</td><td style=\"border:none;padding-right:1em;\">1</td><td style=\"border:none;padding-right:1em;\">None</td><td style=\"border:none;padding-right:1em;\">None</td></tr><tr style=\"border:none\"><td style=\"border:none;padding-right:1em;\">0.176217584468</td><td style=\"border:none;padding-right:1em;\">0.446894983175</td><td style=\"border:none;padding-right:1em;\">o</td><td style=\"border:none;padding-right:1em;\">10</td><td style=\"border:none;padding-right:1em;\">(0.4, 0.7607843137254902, 0.6470588235294118, 1.0)</td><td style=\"border:none;padding-right:1em;\">(0.4, 0.7607843137254902, 0.6470588235294118, 1.0)</td><td style=\"border:none;padding-right:1em;\">1</td><td style=\"border:none;padding-right:1em;\">None</td><td style=\"border:none;padding-right:1em;\">None</td></tr><tr style=\"border:none\"><td style=\"border:none;padding-right:1em;\">-0.107983545794</td><td style=\"border:none;padding-right:1em;\">-0.0429000911801</td><td style=\"border:none;padding-right:1em;\">o</td><td style=\"border:none;padding-right:1em;\">10</td><td style=\"border:none;padding-right:1em;\">(0.4, 0.7607843137254902, 0.6470588235294118, 1.0)</td><td style=\"border:none;padding-right:1em;\">(0.4, 0.7607843137254902, 0.6470588235294118, 1.0)</td><td style=\"border:none;padding-right:1em;\">1</td><td style=\"border:none;padding-right:1em;\">None</td><td style=\"border:none;padding-right:1em;\">None</td></tr><tr style=\"border:none\"><td style=\"border:none;padding-right:1em;\">1.13756831037</td><td style=\"border:none;padding-right:1em;\">1.0176206717</td><td style=\"border:none;padding-right:1em;\">o</td><td style=\"border:none;padding-right:1em;\">10</td><td style=\"border:none;padding-right:1em;\">(0.4, 0.7607843137254902, 0.6470588235294118, 1.0)</td><td style=\"border:none;padding-right:1em;\">(0.4, 0.7607843137254902, 0.6470588235294118, 1.0)</td><td style=\"border:none;padding-right:1em;\">1</td><td style=\"border:none;padding-right:1em;\">None</td><td style=\"border:none;padding-right:1em;\">None</td></tr><tr style=\"border:none\"><td style=\"border:none;padding-right:1em;\">0.55162507985</td><td style=\"border:none;padding-right:1em;\">-0.512392428609</td><td style=\"border:none;padding-right:1em;\">o</td><td style=\"border:none;padding-right:1em;\">10</td><td style=\"border:none;padding-right:1em;\">(0.4, 0.7607843137254902, 0.6470588235294118, 1.0)</td><td style=\"border:none;padding-right:1em;\">(0.4, 0.7607843137254902, 0.6470588235294118, 1.0)</td><td style=\"border:none;padding-right:1em;\">1</td><td style=\"border:none;padding-right:1em;\">None</td><td style=\"border:none;padding-right:1em;\">None</td></tr><tr style=\"border:none\"><td style=\"border:none;padding-right:1em;\">1.91650379492</td><td style=\"border:none;padding-right:1em;\">1.90541093947</td><td style=\"border:none;padding-right:1em;\">o</td><td style=\"border:none;padding-right:1em;\">10</td><td style=\"border:none;padding-right:1em;\">(0.4, 0.7607843137254902, 0.6470588235294118, 1.0)</td><td style=\"border:none;padding-right:1em;\">(0.4, 0.7607843137254902, 0.6470588235294118, 1.0)</td><td style=\"border:none;padding-right:1em;\">1</td><td style=\"border:none;padding-right:1em;\">None</td><td style=\"border:none;padding-right:1em;\">None</td></tr><tr style=\"border:none\"><td style=\"border:none;padding-right:1em;\">1.30955736917</td><td style=\"border:none;padding-right:1em;\">0.907693283132</td><td style=\"border:none;padding-right:1em;\">o</td><td style=\"border:none;padding-right:1em;\">10</td><td style=\"border:none;padding-right:1em;\">(0.4, 0.7607843137254902, 0.6470588235294118, 1.0)</td><td style=\"border:none;padding-right:1em;\">(0.4, 0.7607843137254902, 0.6470588235294118, 1.0)</td><td style=\"border:none;padding-right:1em;\">1</td><td style=\"border:none;padding-right:1em;\">None</td><td style=\"border:none;padding-right:1em;\">None</td></tr><tr style=\"border:none\"><td style=\"border:none;padding-right:1em;\">-0.648433057828</td><td style=\"border:none;padding-right:1em;\">-1.5120863986</td><td style=\"border:none;padding-right:1em;\">o</td><td style=\"border:none;padding-right:1em;\">10</td><td style=\"border:none;padding-right:1em;\">(0.4, 0.7607843137254902, 0.6470588235294118, 1.0)</td><td style=\"border:none;padding-right:1em;\">(0.4, 0.7607843137254902, 0.6470588235294118, 1.0)</td><td style=\"border:none;padding-right:1em;\">1</td><td style=\"border:none;padding-right:1em;\">None</td><td style=\"border:none;padding-right:1em;\">None</td></tr><tr style=\"border:none\"><td style=\"border:none;padding-right:1em;\">0.5982404188</td><td style=\"border:none;padding-right:1em;\">-0.025600808841</td><td style=\"border:none;padding-right:1em;\">o</td><td style=\"border:none;padding-right:1em;\">10</td><td style=\"border:none;padding-right:1em;\">(0.4, 0.7607843137254902, 0.6470588235294118, 1.0)</td><td style=\"border:none;padding-right:1em;\">(0.4, 0.7607843137254902, 0.6470588235294118, 1.0)</td><td style=\"border:none;padding-right:1em;\">1</td><td style=\"border:none;padding-right:1em;\">None</td><td style=\"border:none;padding-right:1em;\">None</td></tr><tr style=\"border:none\"><td style=\"border:none;padding-right:1em;\">-1.21117234844</td><td style=\"border:none;padding-right:1em;\">-1.74688824785</td><td style=\"border:none;padding-right:1em;\">o</td><td style=\"border:none;padding-right:1em;\">10</td><td style=\"border:none;padding-right:1em;\">(0.4, 0.7607843137254902, 0.6470588235294118, 1.0)</td><td style=\"border:none;padding-right:1em;\">(0.4, 0.7607843137254902, 0.6470588235294118, 1.0)</td><td style=\"border:none;padding-right:1em;\">1</td><td style=\"border:none;padding-right:1em;\">None</td><td style=\"border:none;padding-right:1em;\">None</td></tr><tr style=\"border:none\"><td style=\"border:none;padding-right:1em;\">-0.100289645014</td><td style=\"border:none;padding-right:1em;\">0.925176321177</td><td style=\"border:none;padding-right:1em;\">o</td><td style=\"border:none;padding-right:1em;\">10</td><td style=\"border:none;padding-right:1em;\">(0.4, 0.7607843137254902, 0.6470588235294118, 1.0)</td><td style=\"border:none;padding-right:1em;\">(0.4, 0.7607843137254902, 0.6470588235294118, 1.0)</td><td style=\"border:none;padding-right:1em;\">1</td><td style=\"border:none;padding-right:1em;\">None</td><td style=\"border:none;padding-right:1em;\">None</td></tr><tr style=\"border:none\"><td style=\"border:none;padding-right:1em;\">0.458771561069</td><td style=\"border:none;padding-right:1em;\">-1.35509419349</td><td style=\"border:none;padding-right:1em;\">o</td><td style=\"border:none;padding-right:1em;\">10</td><td style=\"border:none;padding-right:1em;\">(0.4, 0.7607843137254902, 0.6470588235294118, 1.0)</td><td style=\"border:none;padding-right:1em;\">(0.4, 0.7607843137254902, 0.6470588235294118, 1.0)</td><td style=\"border:none;padding-right:1em;\">1</td><td style=\"border:none;padding-right:1em;\">None</td><td style=\"border:none;padding-right:1em;\">None</td></tr><tr style=\"border:none\"><td style=\"border:none;padding-right:1em;\">-0.267188349765</td><td style=\"border:none;padding-right:1em;\">0.551908496382</td><td style=\"border:none;padding-right:1em;\">o</td><td style=\"border:none;padding-right:1em;\">10</td><td style=\"border:none;padding-right:1em;\">(0.4, 0.7607843137254902, 0.6470588235294118, 1.0)</td><td style=\"border:none;padding-right:1em;\">(0.4, 0.7607843137254902, 0.6470588235294118, 1.0)</td><td style=\"border:none;padding-right:1em;\">1</td><td style=\"border:none;padding-right:1em;\">None</td><td style=\"border:none;padding-right:1em;\">None</td></tr><tr style=\"border:none\"><td style=\"border:none;padding-right:1em;\">-0.550107051769</td><td style=\"border:none;padding-right:1em;\">-0.366760926537</td><td style=\"border:none;padding-right:1em;\">o</td><td style=\"border:none;padding-right:1em;\">10</td><td style=\"border:none;padding-right:1em;\">(0.4, 0.7607843137254902, 0.6470588235294118, 1.0)</td><td style=\"border:none;padding-right:1em;\">(0.4, 0.7607843137254902, 0.6470588235294118, 1.0)</td><td style=\"border:none;padding-right:1em;\">1</td><td style=\"border:none;padding-right:1em;\">None</td><td style=\"border:none;padding-right:1em;\">None</td></tr><tr style=\"border:none\"><td style=\"border:none;padding-right:1em;\">-0.775249123491</td><td style=\"border:none;padding-right:1em;\">-1.18118374532</td><td style=\"border:none;padding-right:1em;\">o</td><td style=\"border:none;padding-right:1em;\">10</td><td style=\"border:none;padding-right:1em;\">(0.4, 0.7607843137254902, 0.6470588235294118, 1.0)</td><td style=\"border:none;padding-right:1em;\">(0.4, 0.7607843137254902, 0.6470588235294118, 1.0)</td><td style=\"border:none;padding-right:1em;\">1</td><td style=\"border:none;padding-right:1em;\">None</td><td style=\"border:none;padding-right:1em;\">None</td></tr><tr style=\"border:none\"><td style=\"border:none;padding-right:1em;\">-1.10188975269</td><td style=\"border:none;padding-right:1em;\">0.210835106889</td><td style=\"border:none;padding-right:1em;\">o</td><td style=\"border:none;padding-right:1em;\">10</td><td style=\"border:none;padding-right:1em;\">(0.4, 0.7607843137254902, 0.6470588235294118, 1.0)</td><td style=\"border:none;padding-right:1em;\">(0.4, 0.7607843137254902, 0.6470588235294118, 1.0)</td><td style=\"border:none;padding-right:1em;\">1</td><td style=\"border:none;padding-right:1em;\">None</td><td style=\"border:none;padding-right:1em;\">None</td></tr><tr style=\"border:none\"><td style=\"border:none;padding-right:1em;\">-0.896456479861</td><td style=\"border:none;padding-right:1em;\">0.013175522408</td><td style=\"border:none;padding-right:1em;\">o</td><td style=\"border:none;padding-right:1em;\">10</td><td style=\"border:none;padding-right:1em;\">(0.4, 0.7607843137254902, 0.6470588235294118, 1.0)</td><td style=\"border:none;padding-right:1em;\">(0.4, 0.7607843137254902, 0.6470588235294118, 1.0)</td><td style=\"border:none;padding-right:1em;\">1</td><td style=\"border:none;padding-right:1em;\">None</td><td style=\"border:none;padding-right:1em;\">None</td></tr><tr style=\"border:none\"><td style=\"border:none;padding-right:1em;\">0.323035320163</td><td style=\"border:none;padding-right:1em;\">-0.476981457347</td><td style=\"border:none;padding-right:1em;\">o</td><td style=\"border:none;padding-right:1em;\">10</td><td style=\"border:none;padding-right:1em;\">(0.4, 0.7607843137254902, 0.6470588235294118, 1.0)</td><td style=\"border:none;padding-right:1em;\">(0.4, 0.7607843137254902, 0.6470588235294118, 1.0)</td><td style=\"border:none;padding-right:1em;\">1</td><td style=\"border:none;padding-right:1em;\">None</td><td style=\"border:none;padding-right:1em;\">None</td></tr><tr style=\"border:none\"><td style=\"border:none;padding-right:1em;\">0.395275722494</td><td style=\"border:none;padding-right:1em;\">0.241078977337</td><td style=\"border:none;padding-right:1em;\">o</td><td style=\"border:none;padding-right:1em;\">10</td><td style=\"border:none;padding-right:1em;\">(0.4, 0.7607843137254902, 0.6470588235294118, 1.0)</td><td style=\"border:none;padding-right:1em;\">(0.4, 0.7607843137254902, 0.6470588235294118, 1.0)</td><td style=\"border:none;padding-right:1em;\">1</td><td style=\"border:none;padding-right:1em;\">None</td><td style=\"border:none;padding-right:1em;\">None</td></tr><tr style=\"border:none\"><td style=\"border:none;padding-right:1em;\">1.24420272721</td><td style=\"border:none;padding-right:1em;\">-0.604638388585</td><td style=\"border:none;padding-right:1em;\">o</td><td style=\"border:none;padding-right:1em;\">10</td><td style=\"border:none;padding-right:1em;\">(0.4, 0.7607843137254902, 0.6470588235294118, 1.0)</td><td style=\"border:none;padding-right:1em;\">(0.4, 0.7607843137254902, 0.6470588235294118, 1.0)</td><td style=\"border:none;padding-right:1em;\">1</td><td style=\"border:none;padding-right:1em;\">None</td><td style=\"border:none;padding-right:1em;\">None</td></tr><tr style=\"border:none\"><td style=\"border:none;padding-right:1em;\">-1.02270079427</td><td style=\"border:none;padding-right:1em;\">-0.459476614285</td><td style=\"border:none;padding-right:1em;\">o</td><td style=\"border:none;padding-right:1em;\">10</td><td style=\"border:none;padding-right:1em;\">(0.4, 0.7607843137254902, 0.6470588235294118, 1.0)</td><td style=\"border:none;padding-right:1em;\">(0.4, 0.7607843137254902, 0.6470588235294118, 1.0)</td><td style=\"border:none;padding-right:1em;\">1</td><td style=\"border:none;padding-right:1em;\">None</td><td style=\"border:none;padding-right:1em;\">None</td></tr><tr style=\"border:none\"><td style=\"border:none;padding-right:1em;\">-0.723426210511</td><td style=\"border:none;padding-right:1em;\">1.30963522569</td><td style=\"border:none;padding-right:1em;\">o</td><td style=\"border:none;padding-right:1em;\">10</td><td style=\"border:none;padding-right:1em;\">(0.4, 0.7607843137254902, 0.6470588235294118, 1.0)</td><td style=\"border:none;padding-right:1em;\">(0.4, 0.7607843137254902, 0.6470588235294118, 1.0)</td><td style=\"border:none;padding-right:1em;\">1</td><td style=\"border:none;padding-right:1em;\">None</td><td style=\"border:none;padding-right:1em;\">None</td></tr><tr style=\"border:none\"><td style=\"border:none;padding-right:1em;\">-0.567563922127</td><td style=\"border:none;padding-right:1em;\">-2.24978407678</td><td style=\"border:none;padding-right:1em;\">o</td><td style=\"border:none;padding-right:1em;\">10</td><td style=\"border:none;padding-right:1em;\">(0.4, 0.7607843137254902, 0.6470588235294118, 1.0)</td><td style=\"border:none;padding-right:1em;\">(0.4, 0.7607843137254902, 0.6470588235294118, 1.0)</td><td style=\"border:none;padding-right:1em;\">1</td><td style=\"border:none;padding-right:1em;\">None</td><td style=\"border:none;padding-right:1em;\">None</td></tr><tr style=\"border:none\"><td style=\"border:none;padding-right:1em;\">0.310283331411</td><td style=\"border:none;padding-right:1em;\">-1.25991647307</td><td style=\"border:none;padding-right:1em;\">o</td><td style=\"border:none;padding-right:1em;\">10</td><td style=\"border:none;padding-right:1em;\">(0.4, 0.7607843137254902, 0.6470588235294118, 1.0)</td><td style=\"border:none;padding-right:1em;\">(0.4, 0.7607843137254902, 0.6470588235294118, 1.0)</td><td style=\"border:none;padding-right:1em;\">1</td><td style=\"border:none;padding-right:1em;\">None</td><td style=\"border:none;padding-right:1em;\">None</td></tr><tr style=\"border:none\"><td style=\"border:none;padding-right:1em;\">0.512809260668</td><td style=\"border:none;padding-right:1em;\">0.279196025297</td><td style=\"border:none;padding-right:1em;\">o</td><td style=\"border:none;padding-right:1em;\">10</td><td style=\"border:none;padding-right:1em;\">(0.4, 0.7607843137254902, 0.6470588235294118, 1.0)</td><td style=\"border:none;padding-right:1em;\">(0.4, 0.7607843137254902, 0.6470588235294118, 1.0)</td><td style=\"border:none;padding-right:1em;\">1</td><td style=\"border:none;padding-right:1em;\">None</td><td style=\"border:none;padding-right:1em;\">None</td></tr><tr style=\"border:none\"><td style=\"border:none;padding-right:1em;\">-0.0964005560624</td><td style=\"border:none;padding-right:1em;\">0.526599291011</td><td style=\"border:none;padding-right:1em;\">o</td><td style=\"border:none;padding-right:1em;\">10</td><td style=\"border:none;padding-right:1em;\">(0.4, 0.7607843137254902, 0.6470588235294118, 1.0)</td><td style=\"border:none;padding-right:1em;\">(0.4, 0.7607843137254902, 0.6470588235294118, 1.0)</td><td style=\"border:none;padding-right:1em;\">1</td><td style=\"border:none;padding-right:1em;\">None</td><td style=\"border:none;padding-right:1em;\">None</td></tr><tr style=\"border:none\"><td style=\"border:none;padding-right:1em;\">0.349366810573</td><td style=\"border:none;padding-right:1em;\">1.3166525693</td><td style=\"border:none;padding-right:1em;\">o</td><td style=\"border:none;padding-right:1em;\">10</td><td style=\"border:none;padding-right:1em;\">(0.4, 0.7607843137254902, 0.6470588235294118, 1.0)</td><td style=\"border:none;padding-right:1em;\">(0.4, 0.7607843137254902, 0.6470588235294118, 1.0)</td><td style=\"border:none;padding-right:1em;\">1</td><td style=\"border:none;padding-right:1em;\">None</td><td style=\"border:none;padding-right:1em;\">None</td></tr><tr style=\"border:none\"><td style=\"border:none;padding-right:1em;\">-0.839591324245</td><td style=\"border:none;padding-right:1em;\">-0.906133293787</td><td style=\"border:none;padding-right:1em;\">o</td><td style=\"border:none;padding-right:1em;\">10</td><td style=\"border:none;padding-right:1em;\">(0.4, 0.7607843137254902, 0.6470588235294118, 1.0)</td><td style=\"border:none;padding-right:1em;\">(0.4, 0.7607843137254902, 0.6470588235294118, 1.0)</td><td style=\"border:none;padding-right:1em;\">1</td><td style=\"border:none;padding-right:1em;\">None</td><td style=\"border:none;padding-right:1em;\">None</td></tr><tr style=\"border:none\"><td style=\"border:none;padding-right:1em;\">-1.67475873199</td><td style=\"border:none;padding-right:1em;\">0.311239571029</td><td style=\"border:none;padding-right:1em;\">o</td><td style=\"border:none;padding-right:1em;\">10</td><td style=\"border:none;padding-right:1em;\">(0.4, 0.7607843137254902, 0.6470588235294118, 1.0)</td><td style=\"border:none;padding-right:1em;\">(0.4, 0.7607843137254902, 0.6470588235294118, 1.0)</td><td style=\"border:none;padding-right:1em;\">1</td><td style=\"border:none;padding-right:1em;\">None</td><td style=\"border:none;padding-right:1em;\">None</td></tr><tr style=\"border:none\"><td style=\"border:none;padding-right:1em;\">-0.968163935061</td><td style=\"border:none;padding-right:1em;\">-0.563525775782</td><td style=\"border:none;padding-right:1em;\">o</td><td style=\"border:none;padding-right:1em;\">10</td><td style=\"border:none;padding-right:1em;\">(0.4, 0.7607843137254902, 0.6470588235294118, 1.0)</td><td style=\"border:none;padding-right:1em;\">(0.4, 0.7607843137254902, 0.6470588235294118, 1.0)</td><td style=\"border:none;padding-right:1em;\">1</td><td style=\"border:none;padding-right:1em;\">None</td><td style=\"border:none;padding-right:1em;\">None</td></tr><tr style=\"border:none\"><td style=\"border:none;padding-right:1em;\">0.242826670388</td><td style=\"border:none;padding-right:1em;\">-0.689449139138</td><td style=\"border:none;padding-right:1em;\">o</td><td style=\"border:none;padding-right:1em;\">10</td><td style=\"border:none;padding-right:1em;\">(0.4, 0.7607843137254902, 0.6470588235294118, 1.0)</td><td style=\"border:none;padding-right:1em;\">(0.4, 0.7607843137254902, 0.6470588235294118, 1.0)</td><td style=\"border:none;padding-right:1em;\">1</td><td style=\"border:none;padding-right:1em;\">None</td><td style=\"border:none;padding-right:1em;\">None</td></tr><tr style=\"border:none\"><td style=\"border:none;padding-right:1em;\">-0.094586655522</td><td style=\"border:none;padding-right:1em;\">0.688432362551</td><td style=\"border:none;padding-right:1em;\">o</td><td style=\"border:none;padding-right:1em;\">10</td><td style=\"border:none;padding-right:1em;\">(0.4, 0.7607843137254902, 0.6470588235294118, 1.0)</td><td style=\"border:none;padding-right:1em;\">(0.4, 0.7607843137254902, 0.6470588235294118, 1.0)</td><td style=\"border:none;padding-right:1em;\">1</td><td style=\"border:none;padding-right:1em;\">None</td><td style=\"border:none;padding-right:1em;\">None</td></tr><tr style=\"border:none\"><td style=\"border:none;padding-right:1em;\">-1.00762131748</td><td style=\"border:none;padding-right:1em;\">0.242999818231</td><td style=\"border:none;padding-right:1em;\">o</td><td style=\"border:none;padding-right:1em;\">10</td><td style=\"border:none;padding-right:1em;\">(0.4, 0.7607843137254902, 0.6470588235294118, 1.0)</td><td style=\"border:none;padding-right:1em;\">(0.4, 0.7607843137254902, 0.6470588235294118, 1.0)</td><td style=\"border:none;padding-right:1em;\">1</td><td style=\"border:none;padding-right:1em;\">None</td><td style=\"border:none;padding-right:1em;\">None</td></tr><tr style=\"border:none\"><td style=\"border:none;padding-right:1em;\">-1.67985808925</td><td style=\"border:none;padding-right:1em;\">-0.9040439886</td><td style=\"border:none;padding-right:1em;\">o</td><td style=\"border:none;padding-right:1em;\">10</td><td style=\"border:none;padding-right:1em;\">(0.4, 0.7607843137254902, 0.6470588235294118, 1.0)</td><td style=\"border:none;padding-right:1em;\">(0.4, 0.7607843137254902, 0.6470588235294118, 1.0)</td><td style=\"border:none;padding-right:1em;\">1</td><td style=\"border:none;padding-right:1em;\">None</td><td style=\"border:none;padding-right:1em;\">None</td></tr><tr style=\"border:none\"><td style=\"border:none;padding-right:1em;\">-1.06116071664</td><td style=\"border:none;padding-right:1em;\">1.01710270199</td><td style=\"border:none;padding-right:1em;\">o</td><td style=\"border:none;padding-right:1em;\">10</td><td style=\"border:none;padding-right:1em;\">(0.4, 0.7607843137254902, 0.6470588235294118, 1.0)</td><td style=\"border:none;padding-right:1em;\">(0.4, 0.7607843137254902, 0.6470588235294118, 1.0)</td><td style=\"border:none;padding-right:1em;\">1</td><td style=\"border:none;padding-right:1em;\">None</td><td style=\"border:none;padding-right:1em;\">None</td></tr><tr style=\"border:none\"><td style=\"border:none;padding-right:1em;\">-2.13879233183</td><td style=\"border:none;padding-right:1em;\">0.0879224135791</td><td style=\"border:none;padding-right:1em;\">o</td><td style=\"border:none;padding-right:1em;\">10</td><td style=\"border:none;padding-right:1em;\">(0.4, 0.7607843137254902, 0.6470588235294118, 1.0)</td><td style=\"border:none;padding-right:1em;\">(0.4, 0.7607843137254902, 0.6470588235294118, 1.0)</td><td style=\"border:none;padding-right:1em;\">1</td><td style=\"border:none;padding-right:1em;\">None</td><td style=\"border:none;padding-right:1em;\">None</td></tr><tr style=\"border:none\"><td style=\"border:none;padding-right:1em;\">0.779840560598</td><td style=\"border:none;padding-right:1em;\">0.353076791812</td><td style=\"border:none;padding-right:1em;\">o</td><td style=\"border:none;padding-right:1em;\">10</td><td style=\"border:none;padding-right:1em;\">(0.4, 0.7607843137254902, 0.6470588235294118, 1.0)</td><td style=\"border:none;padding-right:1em;\">(0.4, 0.7607843137254902, 0.6470588235294118, 1.0)</td><td style=\"border:none;padding-right:1em;\">1</td><td style=\"border:none;padding-right:1em;\">None</td><td style=\"border:none;padding-right:1em;\">None</td></tr><tr style=\"border:none\"><td style=\"border:none;padding-right:1em;\">-1.14541012503</td><td style=\"border:none;padding-right:1em;\">-0.850985779092</td><td style=\"border:none;padding-right:1em;\">o</td><td style=\"border:none;padding-right:1em;\">10</td><td style=\"border:none;padding-right:1em;\">(0.4, 0.7607843137254902, 0.6470588235294118, 1.0)</td><td style=\"border:none;padding-right:1em;\">(0.4, 0.7607843137254902, 0.6470588235294118, 1.0)</td><td style=\"border:none;padding-right:1em;\">1</td><td style=\"border:none;padding-right:1em;\">None</td><td style=\"border:none;padding-right:1em;\">None</td></tr><tr style=\"border:none\"><td style=\"border:none;padding-right:1em;\">0.0502396265195</td><td style=\"border:none;padding-right:1em;\">-0.264255379589</td><td style=\"border:none;padding-right:1em;\">o</td><td style=\"border:none;padding-right:1em;\">10</td><td style=\"border:none;padding-right:1em;\">(0.4, 0.7607843137254902, 0.6470588235294118, 1.0)</td><td style=\"border:none;padding-right:1em;\">(0.4, 0.7607843137254902, 0.6470588235294118, 1.0)</td><td style=\"border:none;padding-right:1em;\">1</td><td style=\"border:none;padding-right:1em;\">None</td><td style=\"border:none;padding-right:1em;\">None</td></tr><tr style=\"border:none\"><td style=\"border:none;padding-right:1em;\">-0.625046088287</td><td style=\"border:none;padding-right:1em;\">-0.085972317913</td><td style=\"border:none;padding-right:1em;\">o</td><td style=\"border:none;padding-right:1em;\">10</td><td style=\"border:none;padding-right:1em;\">(0.4, 0.7607843137254902, 0.6470588235294118, 1.0)</td><td style=\"border:none;padding-right:1em;\">(0.4, 0.7607843137254902, 0.6470588235294118, 1.0)</td><td style=\"border:none;padding-right:1em;\">1</td><td style=\"border:none;padding-right:1em;\">None</td><td style=\"border:none;padding-right:1em;\">None</td></tr><tr style=\"border:none\"><td style=\"border:none;padding-right:1em;\">1.56171071997</td><td style=\"border:none;padding-right:1em;\">-0.137933457026</td><td style=\"border:none;padding-right:1em;\">o</td><td style=\"border:none;padding-right:1em;\">10</td><td style=\"border:none;padding-right:1em;\">(0.4, 0.7607843137254902, 0.6470588235294118, 1.0)</td><td style=\"border:none;padding-right:1em;\">(0.4, 0.7607843137254902, 0.6470588235294118, 1.0)</td><td style=\"border:none;padding-right:1em;\">1</td><td style=\"border:none;padding-right:1em;\">None</td><td style=\"border:none;padding-right:1em;\">None</td></tr><tr style=\"border:none\"><td style=\"border:none;padding-right:1em;\">-0.825098633966</td><td style=\"border:none;padding-right:1em;\">1.26820537639</td><td style=\"border:none;padding-right:1em;\">o</td><td style=\"border:none;padding-right:1em;\">10</td><td style=\"border:none;padding-right:1em;\">(0.4, 0.7607843137254902, 0.6470588235294118, 1.0)</td><td style=\"border:none;padding-right:1em;\">(0.4, 0.7607843137254902, 0.6470588235294118, 1.0)</td><td style=\"border:none;padding-right:1em;\">1</td><td style=\"border:none;padding-right:1em;\">None</td><td style=\"border:none;padding-right:1em;\">None</td></tr><tr style=\"border:none\"><td style=\"border:none;padding-right:1em;\">1.14374850646</td><td style=\"border:none;padding-right:1em;\">-0.505215491619</td><td style=\"border:none;padding-right:1em;\">o</td><td style=\"border:none;padding-right:1em;\">10</td><td style=\"border:none;padding-right:1em;\">(0.4, 0.7607843137254902, 0.6470588235294118, 1.0)</td><td style=\"border:none;padding-right:1em;\">(0.4, 0.7607843137254902, 0.6470588235294118, 1.0)</td><td style=\"border:none;padding-right:1em;\">1</td><td style=\"border:none;padding-right:1em;\">None</td><td style=\"border:none;padding-right:1em;\">None</td></tr><tr style=\"border:none\"><td style=\"border:none;padding-right:1em;\">-0.806639096417</td><td style=\"border:none;padding-right:1em;\">-0.666001108684</td><td style=\"border:none;padding-right:1em;\">o</td><td style=\"border:none;padding-right:1em;\">10</td><td style=\"border:none;padding-right:1em;\">(0.4, 0.7607843137254902, 0.6470588235294118, 1.0)</td><td style=\"border:none;padding-right:1em;\">(0.4, 0.7607843137254902, 0.6470588235294118, 1.0)</td><td style=\"border:none;padding-right:1em;\">1</td><td style=\"border:none;padding-right:1em;\">None</td><td style=\"border:none;padding-right:1em;\">None</td></tr><tr style=\"border:none\"><td style=\"border:none;padding-right:1em;\">-1.18796811171</td><td style=\"border:none;padding-right:1em;\">-0.775772350945</td><td style=\"border:none;padding-right:1em;\">o</td><td style=\"border:none;padding-right:1em;\">10</td><td style=\"border:none;padding-right:1em;\">(0.4, 0.7607843137254902, 0.6470588235294118, 1.0)</td><td style=\"border:none;padding-right:1em;\">(0.4, 0.7607843137254902, 0.6470588235294118, 1.0)</td><td style=\"border:none;padding-right:1em;\">1</td><td style=\"border:none;padding-right:1em;\">None</td><td style=\"border:none;padding-right:1em;\">None</td></tr><tr style=\"border:none\"><td style=\"border:none;padding-right:1em;\">-0.523153333016</td><td style=\"border:none;padding-right:1em;\">1.02314296725</td><td style=\"border:none;padding-right:1em;\">o</td><td style=\"border:none;padding-right:1em;\">10</td><td style=\"border:none;padding-right:1em;\">(0.4, 0.7607843137254902, 0.6470588235294118, 1.0)</td><td style=\"border:none;padding-right:1em;\">(0.4, 0.7607843137254902, 0.6470588235294118, 1.0)</td><td style=\"border:none;padding-right:1em;\">1</td><td style=\"border:none;padding-right:1em;\">None</td><td style=\"border:none;padding-right:1em;\">None</td></tr><tr style=\"border:none\"><td style=\"border:none;padding-right:1em;\">0.665572504114</td><td style=\"border:none;padding-right:1em;\">1.71872447333</td><td style=\"border:none;padding-right:1em;\">o</td><td style=\"border:none;padding-right:1em;\">10</td><td style=\"border:none;padding-right:1em;\">(0.4, 0.7607843137254902, 0.6470588235294118, 1.0)</td><td style=\"border:none;padding-right:1em;\">(0.4, 0.7607843137254902, 0.6470588235294118, 1.0)</td><td style=\"border:none;padding-right:1em;\">1</td><td style=\"border:none;padding-right:1em;\">None</td><td style=\"border:none;padding-right:1em;\">None</td></tr><tr style=\"border:none\"><td style=\"border:none;padding-right:1em;\">-1.2557315007</td><td style=\"border:none;padding-right:1em;\">-0.0371816236184</td><td style=\"border:none;padding-right:1em;\">o</td><td style=\"border:none;padding-right:1em;\">10</td><td style=\"border:none;padding-right:1em;\">(0.4, 0.7607843137254902, 0.6470588235294118, 1.0)</td><td style=\"border:none;padding-right:1em;\">(0.4, 0.7607843137254902, 0.6470588235294118, 1.0)</td><td style=\"border:none;padding-right:1em;\">1</td><td style=\"border:none;padding-right:1em;\">None</td><td style=\"border:none;padding-right:1em;\">None</td></tr><tr style=\"border:none\"><td style=\"border:none;padding-right:1em;\">0.127464927195</td><td style=\"border:none;padding-right:1em;\">-1.18399009841</td><td style=\"border:none;padding-right:1em;\">o</td><td style=\"border:none;padding-right:1em;\">10</td><td style=\"border:none;padding-right:1em;\">(0.4, 0.7607843137254902, 0.6470588235294118, 1.0)</td><td style=\"border:none;padding-right:1em;\">(0.4, 0.7607843137254902, 0.6470588235294118, 1.0)</td><td style=\"border:none;padding-right:1em;\">1</td><td style=\"border:none;padding-right:1em;\">None</td><td style=\"border:none;padding-right:1em;\">None</td></tr><tr style=\"border:none\"><td style=\"border:none;padding-right:1em;\">1.10621673796</td><td style=\"border:none;padding-right:1em;\">0.704129086482</td><td style=\"border:none;padding-right:1em;\">o</td><td style=\"border:none;padding-right:1em;\">10</td><td style=\"border:none;padding-right:1em;\">(0.4, 0.7607843137254902, 0.6470588235294118, 1.0)</td><td style=\"border:none;padding-right:1em;\">(0.4, 0.7607843137254902, 0.6470588235294118, 1.0)</td><td style=\"border:none;padding-right:1em;\">1</td><td style=\"border:none;padding-right:1em;\">None</td><td style=\"border:none;padding-right:1em;\">None</td></tr><tr style=\"border:none\"><td style=\"border:none;padding-right:1em;\">1.33017666464</td><td style=\"border:none;padding-right:1em;\">0.981947705389</td><td style=\"border:none;padding-right:1em;\">o</td><td style=\"border:none;padding-right:1em;\">10</td><td style=\"border:none;padding-right:1em;\">(0.4, 0.7607843137254902, 0.6470588235294118, 1.0)</td><td style=\"border:none;padding-right:1em;\">(0.4, 0.7607843137254902, 0.6470588235294118, 1.0)</td><td style=\"border:none;padding-right:1em;\">1</td><td style=\"border:none;padding-right:1em;\">None</td><td style=\"border:none;padding-right:1em;\">None</td></tr><tr style=\"border:none\"><td style=\"border:none;padding-right:1em;\">-0.362293539421</td><td style=\"border:none;padding-right:1em;\">0.230786185671</td><td style=\"border:none;padding-right:1em;\">o</td><td style=\"border:none;padding-right:1em;\">10</td><td style=\"border:none;padding-right:1em;\">(0.4, 0.7607843137254902, 0.6470588235294118, 1.0)</td><td style=\"border:none;padding-right:1em;\">(0.4, 0.7607843137254902, 0.6470588235294118, 1.0)</td><td style=\"border:none;padding-right:1em;\">1</td><td style=\"border:none;padding-right:1em;\">None</td><td style=\"border:none;padding-right:1em;\">None</td></tr><tr style=\"border:none\"><td style=\"border:none;padding-right:1em;\">0.656626825226</td><td style=\"border:none;padding-right:1em;\">-1.61097608804</td><td style=\"border:none;padding-right:1em;\">o</td><td style=\"border:none;padding-right:1em;\">10</td><td style=\"border:none;padding-right:1em;\">(0.4, 0.7607843137254902, 0.6470588235294118, 1.0)</td><td style=\"border:none;padding-right:1em;\">(0.4, 0.7607843137254902, 0.6470588235294118, 1.0)</td><td style=\"border:none;padding-right:1em;\">1</td><td style=\"border:none;padding-right:1em;\">None</td><td style=\"border:none;padding-right:1em;\">None</td></tr><tr style=\"border:none\"><td style=\"border:none;padding-right:1em;\">-0.618561367108</td><td style=\"border:none;padding-right:1em;\">-2.61742905267</td><td style=\"border:none;padding-right:1em;\">o</td><td style=\"border:none;padding-right:1em;\">10</td><td style=\"border:none;padding-right:1em;\">(0.4, 0.7607843137254902, 0.6470588235294118, 1.0)</td><td style=\"border:none;padding-right:1em;\">(0.4, 0.7607843137254902, 0.6470588235294118, 1.0)</td><td style=\"border:none;padding-right:1em;\">1</td><td style=\"border:none;padding-right:1em;\">None</td><td style=\"border:none;padding-right:1em;\">None</td></tr><tr style=\"border:none\"><td style=\"border:none;padding-right:1em;\">0.498345127292</td><td style=\"border:none;padding-right:1em;\">-0.187642880312</td><td style=\"border:none;padding-right:1em;\">o</td><td style=\"border:none;padding-right:1em;\">10</td><td style=\"border:none;padding-right:1em;\">(0.4, 0.7607843137254902, 0.6470588235294118, 1.0)</td><td style=\"border:none;padding-right:1em;\">(0.4, 0.7607843137254902, 0.6470588235294118, 1.0)</td><td style=\"border:none;padding-right:1em;\">1</td><td style=\"border:none;padding-right:1em;\">None</td><td style=\"border:none;padding-right:1em;\">None</td></tr></table>"
      ],
      "text/plain": [
       "<toyplot.data.Table at 0x7f014d14d5b0>"
      ]
     },
     "execution_count": 325,
     "metadata": {},
     "output_type": "execute_result"
    }
   ],
   "source": [
    "mark._table"
   ]
  },
  {
   "cell_type": "code",
   "execution_count": 323,
   "id": "9e647093",
   "metadata": {},
   "outputs": [
    {
     "data": {
      "text/html": [
       "<div class=\"toyplot\" id=\"t4aaa45b3484d4f318dd25ac565c14bb2\" style=\"text-align:center\"><svg class=\"toyplot-canvas-Canvas\" xmlns:toyplot=\"http://www.sandia.gov/toyplot\" xmlns:xlink=\"http://www.w3.org/1999/xlink\" xmlns=\"http://www.w3.org/2000/svg\" width=\"300.0px\" height=\"300.0px\" viewBox=\"0 0 300.0 300.0\" preserveAspectRatio=\"xMidYMid meet\" style=\"background-color:transparent;border-color:#292724;border-style:none;border-width:1.0;fill:rgb(16.1%,15.3%,14.1%);fill-opacity:1.0;font-family:Helvetica;font-size:12px;opacity:1.0;stroke:rgb(16.1%,15.3%,14.1%);stroke-opacity:1.0;stroke-width:1.0\" id=\"t751e5d0db7b24de38fc7d8a7b028e8e6\"><g class=\"toyplot-coordinates-Cartesian\" id=\"t3d7635505e3f4473ad86e45cf7574a0c\"><clipPath id=\"t051f86900f0943188735527caafb7faf\"><rect x=\"40.0\" y=\"40.0\" width=\"220.0\" height=\"220.0\"></rect></clipPath><g clip-path=\"url(#t051f86900f0943188735527caafb7faf)\"><g class=\"toyplot-mark-Point\" id=\"t7e2c256bd13a435f9b86cea388a300a5\"><g class=\"toyplot-Series\"><g style=\"fill:rgb(40%,76.1%,64.7%);fill-opacity:1.0;opacity:1.0;stroke:rgb(40%,76.1%,64.7%);stroke-opacity:1.0\" class=\"toyplot-Datum\" transform=\"translate(98.46260234912614, 59.36844501667071)\"><circle r=\"5.0\"></circle></g><g style=\"fill:rgb(40%,76.1%,64.7%);fill-opacity:1.0;opacity:1.0;stroke:rgb(40%,76.1%,64.7%);stroke-opacity:1.0\" class=\"toyplot-Datum\" transform=\"translate(50.0, 178.54145837366565)\"><circle r=\"5.0\"></circle></g><g style=\"fill:rgb(40%,76.1%,64.7%);fill-opacity:1.0;opacity:1.0;stroke:rgb(40%,76.1%,64.7%);stroke-opacity:1.0\" class=\"toyplot-Datum\" transform=\"translate(118.99950879087162, 137.9504299460127)\"><circle r=\"5.0\"></circle></g><g style=\"fill:rgb(40%,76.1%,64.7%);fill-opacity:1.0;opacity:1.0;stroke:rgb(40%,76.1%,64.7%);stroke-opacity:1.0\" class=\"toyplot-Datum\" transform=\"translate(208.6095682149403, 124.45703252207845)\"><circle r=\"5.0\"></circle></g><g style=\"fill:rgb(40%,76.1%,64.7%);fill-opacity:1.0;opacity:1.0;stroke:rgb(40%,76.1%,64.7%);stroke-opacity:1.0\" class=\"toyplot-Datum\" transform=\"translate(159.92327753911135, 89.92708728174811)\"><circle r=\"5.0\"></circle></g><g style=\"fill:rgb(40%,76.1%,64.7%);fill-opacity:1.0;opacity:1.0;stroke:rgb(40%,76.1%,64.7%);stroke-opacity:1.0\" class=\"toyplot-Datum\" transform=\"translate(192.06942135094621, 168.9487597181161)\"><circle r=\"5.0\"></circle></g><g style=\"fill:rgb(40%,76.1%,64.7%);fill-opacity:1.0;opacity:1.0;stroke:rgb(40%,76.1%,64.7%);stroke-opacity:1.0\" class=\"toyplot-Datum\" transform=\"translate(150.7168901539239, 127.46994835534704)\"><circle r=\"5.0\"></circle></g><g style=\"fill:rgb(40%,76.1%,64.7%);fill-opacity:1.0;opacity:1.0;stroke:rgb(40%,76.1%,64.7%);stroke-opacity:1.0\" class=\"toyplot-Datum\" transform=\"translate(210.9683563596123, 205.15035602593795)\"><circle r=\"5.0\"></circle></g><g style=\"fill:rgb(40%,76.1%,64.7%);fill-opacity:1.0;opacity:1.0;stroke:rgb(40%,76.1%,64.7%);stroke-opacity:1.0\" class=\"toyplot-Datum\" transform=\"translate(214.28739346726337, 92.13315772232241)\"><circle r=\"5.0\"></circle></g><g style=\"fill:rgb(40%,76.1%,64.7%);fill-opacity:1.0;opacity:1.0;stroke:rgb(40%,76.1%,64.7%);stroke-opacity:1.0\" class=\"toyplot-Datum\" transform=\"translate(202.52051466346649, 141.6066144072252)\"><circle r=\"5.0\"></circle></g><g style=\"fill:rgb(40%,76.1%,64.7%);fill-opacity:1.0;opacity:1.0;stroke:rgb(40%,76.1%,64.7%);stroke-opacity:1.0\" class=\"toyplot-Datum\" transform=\"translate(117.54978243026679, 98.8895505998691)\"><circle r=\"5.0\"></circle></g><g style=\"fill:rgb(40%,76.1%,64.7%);fill-opacity:1.0;opacity:1.0;stroke:rgb(40%,76.1%,64.7%);stroke-opacity:1.0\" class=\"toyplot-Datum\" transform=\"translate(162.47008762831206, 128.10834819442252)\"><circle r=\"5.0\"></circle></g><g style=\"fill:rgb(40%,76.1%,64.7%);fill-opacity:1.0;opacity:1.0;stroke:rgb(40%,76.1%,64.7%);stroke-opacity:1.0\" class=\"toyplot-Datum\" transform=\"translate(142.57421278957474, 184.84756962160287)\"><circle r=\"5.0\"></circle></g><g style=\"fill:rgb(40%,76.1%,64.7%);fill-opacity:1.0;opacity:1.0;stroke:rgb(40%,76.1%,64.7%);stroke-opacity:1.0\" class=\"toyplot-Datum\" transform=\"translate(129.93688628027618, 117.05958729342015)\"><circle r=\"5.0\"></circle></g><g style=\"fill:rgb(40%,76.1%,64.7%);fill-opacity:1.0;opacity:1.0;stroke:rgb(40%,76.1%,64.7%);stroke-opacity:1.0\" class=\"toyplot-Datum\" transform=\"translate(136.45442242417508, 167.2639675990268)\"><circle r=\"5.0\"></circle></g><g style=\"fill:rgb(40%,76.1%,64.7%);fill-opacity:1.0;opacity:1.0;stroke:rgb(40%,76.1%,64.7%);stroke-opacity:1.0\" class=\"toyplot-Datum\" transform=\"translate(103.51703951217863, 157.05156952871246)\"><circle r=\"5.0\"></circle></g><g style=\"fill:rgb(40%,76.1%,64.7%);fill-opacity:1.0;opacity:1.0;stroke:rgb(40%,76.1%,64.7%);stroke-opacity:1.0\" class=\"toyplot-Datum\" transform=\"translate(200.9398745177961, 125.67972935053965)\"><circle r=\"5.0\"></circle></g><g style=\"fill:rgb(40%,76.1%,64.7%);fill-opacity:1.0;opacity:1.0;stroke:rgb(40%,76.1%,64.7%);stroke-opacity:1.0\" class=\"toyplot-Datum\" transform=\"translate(208.41475212971832, 70.26088740501213)\"><circle r=\"5.0\"></circle></g><g style=\"fill:rgb(40%,76.1%,64.7%);fill-opacity:1.0;opacity:1.0;stroke:rgb(40%,76.1%,64.7%);stroke-opacity:1.0\" class=\"toyplot-Datum\" transform=\"translate(172.43879222776053, 144.22193522793654)\"><circle r=\"5.0\"></circle></g><g style=\"fill:rgb(40%,76.1%,64.7%);fill-opacity:1.0;opacity:1.0;stroke:rgb(40%,76.1%,64.7%);stroke-opacity:1.0\" class=\"toyplot-Datum\" transform=\"translate(93.9842745245896, 247.3435421878624)\"><circle r=\"5.0\"></circle></g><g style=\"fill:rgb(40%,76.1%,64.7%);fill-opacity:1.0;opacity:1.0;stroke:rgb(40%,76.1%,64.7%);stroke-opacity:1.0\" class=\"toyplot-Datum\" transform=\"translate(197.00285093240828, 170.74909733126637)\"><circle r=\"5.0\"></circle></g><g style=\"fill:rgb(40%,76.1%,64.7%);fill-opacity:1.0;opacity:1.0;stroke:rgb(40%,76.1%,64.7%);stroke-opacity:1.0\" class=\"toyplot-Datum\" transform=\"translate(240.46263987625986, 91.80117416573736)\"><circle r=\"5.0\"></circle></g><g style=\"fill:rgb(40%,76.1%,64.7%);fill-opacity:1.0;opacity:1.0;stroke:rgb(40%,76.1%,64.7%);stroke-opacity:1.0\" class=\"toyplot-Datum\" transform=\"translate(117.87711651926662, 92.34953100971701)\"><circle r=\"5.0\"></circle></g><g style=\"fill:rgb(40%,76.1%,64.7%);fill-opacity:1.0;opacity:1.0;stroke:rgb(40%,76.1%,64.7%);stroke-opacity:1.0\" class=\"toyplot-Datum\" transform=\"translate(152.83244728128872, 51.949903375685054)\"><circle r=\"5.0\"></circle></g><g style=\"fill:rgb(40%,76.1%,64.7%);fill-opacity:1.0;opacity:1.0;stroke:rgb(40%,76.1%,64.7%);stroke-opacity:1.0\" class=\"toyplot-Datum\" transform=\"translate(213.74863686796294, 126.10382617671098)\"><circle r=\"5.0\"></circle></g><g style=\"fill:rgb(40%,76.1%,64.7%);fill-opacity:1.0;opacity:1.0;stroke:rgb(40%,76.1%,64.7%);stroke-opacity:1.0\" class=\"toyplot-Datum\" transform=\"translate(159.4819413019703, 184.58815203327816)\"><circle r=\"5.0\"></circle></g><g style=\"fill:rgb(40%,76.1%,64.7%);fill-opacity:1.0;opacity:1.0;stroke:rgb(40%,76.1%,64.7%);stroke-opacity:1.0\" class=\"toyplot-Datum\" transform=\"translate(227.93022923543566, 153.07984777640422)\"><circle r=\"5.0\"></circle></g><g style=\"fill:rgb(40%,76.1%,64.7%);fill-opacity:1.0;opacity:1.0;stroke:rgb(40%,76.1%,64.7%);stroke-opacity:1.0\" class=\"toyplot-Datum\" transform=\"translate(172.12565837255403, 100.09682108790659)\"><circle r=\"5.0\"></circle></g><g style=\"fill:rgb(40%,76.1%,64.7%);fill-opacity:1.0;opacity:1.0;stroke:rgb(40%,76.1%,64.7%);stroke-opacity:1.0\" class=\"toyplot-Datum\" transform=\"translate(134.88523949190275, 197.8111328392451)\"><circle r=\"5.0\"></circle></g><g style=\"fill:rgb(40%,76.1%,64.7%);fill-opacity:1.0;opacity:1.0;stroke:rgb(40%,76.1%,64.7%);stroke-opacity:1.0\" class=\"toyplot-Datum\" transform=\"translate(187.59424790437646, 134.01974381722295)\"><circle r=\"5.0\"></circle></g><g style=\"fill:rgb(40%,76.1%,64.7%);fill-opacity:1.0;opacity:1.0;stroke:rgb(40%,76.1%,64.7%);stroke-opacity:1.0\" class=\"toyplot-Datum\" transform=\"translate(83.4578124933931, 152.38938940893507)\"><circle r=\"5.0\"></circle></g><g style=\"fill:rgb(40%,76.1%,64.7%);fill-opacity:1.0;opacity:1.0;stroke:rgb(40%,76.1%,64.7%);stroke-opacity:1.0\" class=\"toyplot-Datum\" transform=\"translate(122.05332202219317, 106.69338581493099)\"><circle r=\"5.0\"></circle></g><g style=\"fill:rgb(40%,76.1%,64.7%);fill-opacity:1.0;opacity:1.0;stroke:rgb(40%,76.1%,64.7%);stroke-opacity:1.0\" class=\"toyplot-Datum\" transform=\"translate(62.47888142335928, 103.33913783239399)\"><circle r=\"5.0\"></circle></g><g style=\"fill:rgb(40%,76.1%,64.7%);fill-opacity:1.0;opacity:1.0;stroke:rgb(40%,76.1%,64.7%);stroke-opacity:1.0\" class=\"toyplot-Datum\" transform=\"translate(140.6291240100963, 177.90639612413116)\"><circle r=\"5.0\"></circle></g><g style=\"fill:rgb(40%,76.1%,64.7%);fill-opacity:1.0;opacity:1.0;stroke:rgb(40%,76.1%,64.7%);stroke-opacity:1.0\" class=\"toyplot-Datum\" transform=\"translate(120.2340112661717, 165.84401255038333)\"><circle r=\"5.0\"></circle></g><g style=\"fill:rgb(40%,76.1%,64.7%);fill-opacity:1.0;opacity:1.0;stroke:rgb(40%,76.1%,64.7%);stroke-opacity:1.0\" class=\"toyplot-Datum\" transform=\"translate(209.66918436295208, 105.09011648829383)\"><circle r=\"5.0\"></circle></g><g style=\"fill:rgb(40%,76.1%,64.7%);fill-opacity:1.0;opacity:1.0;stroke:rgb(40%,76.1%,64.7%);stroke-opacity:1.0\" class=\"toyplot-Datum\" transform=\"translate(153.2949241399089, 110.28189966036469)\"><circle r=\"5.0\"></circle></g><g style=\"fill:rgb(40%,76.1%,64.7%);fill-opacity:1.0;opacity:1.0;stroke:rgb(40%,76.1%,64.7%);stroke-opacity:1.0\" class=\"toyplot-Datum\" transform=\"translate(149.79048433844406, 175.76849351928584)\"><circle r=\"5.0\"></circle></g><g style=\"fill:rgb(40%,76.1%,64.7%);fill-opacity:1.0;opacity:1.0;stroke:rgb(40%,76.1%,64.7%);stroke-opacity:1.0\" class=\"toyplot-Datum\" transform=\"translate(208.9357869987805, 94.63991787162152)\"><circle r=\"5.0\"></circle></g><g style=\"fill:rgb(40%,76.1%,64.7%);fill-opacity:1.0;opacity:1.0;stroke:rgb(40%,76.1%,64.7%);stroke-opacity:1.0\" class=\"toyplot-Datum\" transform=\"translate(159.63305776250795, 159.96013638615406)\"><circle r=\"5.0\"></circle></g><g style=\"fill:rgb(40%,76.1%,64.7%);fill-opacity:1.0;opacity:1.0;stroke:rgb(40%,76.1%,64.7%);stroke-opacity:1.0\" class=\"toyplot-Datum\" transform=\"translate(112.31247254855438, 138.2235318655838)\"><circle r=\"5.0\"></circle></g><g style=\"fill:rgb(40%,76.1%,64.7%);fill-opacity:1.0;opacity:1.0;stroke:rgb(40%,76.1%,64.7%);stroke-opacity:1.0\" class=\"toyplot-Datum\" transform=\"translate(173.6392929674455, 72.21527997794657)\"><circle r=\"5.0\"></circle></g><g style=\"fill:rgb(40%,76.1%,64.7%);fill-opacity:1.0;opacity:1.0;stroke:rgb(40%,76.1%,64.7%);stroke-opacity:1.0\" class=\"toyplot-Datum\" transform=\"translate(69.60972198798531, 79.81325675331843)\"><circle r=\"5.0\"></circle></g><g style=\"fill:rgb(40%,76.1%,64.7%);fill-opacity:1.0;opacity:1.0;stroke:rgb(40%,76.1%,64.7%);stroke-opacity:1.0\" class=\"toyplot-Datum\" transform=\"translate(80.49496167043358, 106.2695643243733)\"><circle r=\"5.0\"></circle></g><g style=\"fill:rgb(40%,76.1%,64.7%);fill-opacity:1.0;opacity:1.0;stroke:rgb(40%,76.1%,64.7%);stroke-opacity:1.0\" class=\"toyplot-Datum\" transform=\"translate(74.2766691283758, 162.74031375788437)\"><circle r=\"5.0\"></circle></g><g style=\"fill:rgb(40%,76.1%,64.7%);fill-opacity:1.0;opacity:1.0;stroke:rgb(40%,76.1%,64.7%);stroke-opacity:1.0\" class=\"toyplot-Datum\" transform=\"translate(139.78857371480294, 142.51249497054067)\"><circle r=\"5.0\"></circle></g><g style=\"fill:rgb(40%,76.1%,64.7%);fill-opacity:1.0;opacity:1.0;stroke:rgb(40%,76.1%,64.7%);stroke-opacity:1.0\" class=\"toyplot-Datum\" transform=\"translate(164.05955612571034, 112.12420067300101)\"><circle r=\"5.0\"></circle></g><g style=\"fill:rgb(40%,76.1%,64.7%);fill-opacity:1.0;opacity:1.0;stroke:rgb(40%,76.1%,64.7%);stroke-opacity:1.0\" class=\"toyplot-Datum\" transform=\"translate(150.667404147336, 131.71600364720436)\"><circle r=\"5.0\"></circle></g><g style=\"fill:rgb(40%,76.1%,64.7%);fill-opacity:1.0;opacity:1.0;stroke:rgb(40%,76.1%,64.7%);stroke-opacity:1.0\" class=\"toyplot-Datum\" transform=\"translate(209.3604140568028, 89.29517313185713)\"><circle r=\"5.0\"></circle></g><g style=\"fill:rgb(40%,76.1%,64.7%);fill-opacity:1.0;opacity:1.0;stroke:rgb(40%,76.1%,64.7%);stroke-opacity:1.0\" class=\"toyplot-Datum\" transform=\"translate(181.74954288734438, 150.4956971443642)\"><circle r=\"5.0\"></circle></g><g style=\"fill:rgb(40%,76.1%,64.7%);fill-opacity:1.0;opacity:1.0;stroke:rgb(40%,76.1%,64.7%);stroke-opacity:1.0\" class=\"toyplot-Datum\" transform=\"translate(246.06548409207107, 53.78356242138764)\"><circle r=\"5.0\"></circle></g><g style=\"fill:rgb(40%,76.1%,64.7%);fill-opacity:1.0;opacity:1.0;stroke:rgb(40%,76.1%,64.7%);stroke-opacity:1.0\" class=\"toyplot-Datum\" transform=\"translate(217.4648984121274, 93.69226867470417)\"><circle r=\"5.0\"></circle></g><g style=\"fill:rgb(40%,76.1%,64.7%);fill-opacity:1.0;opacity:1.0;stroke:rgb(40%,76.1%,64.7%);stroke-opacity:1.0\" class=\"toyplot-Datum\" transform=\"translate(125.20029219343112, 190.4834559439666)\"><circle r=\"5.0\"></circle></g><g style=\"fill:rgb(40%,76.1%,64.7%);fill-opacity:1.0;opacity:1.0;stroke:rgb(40%,76.1%,64.7%);stroke-opacity:1.0\" class=\"toyplot-Datum\" transform=\"translate(183.9461552061129, 131.02403235363948)\"><circle r=\"5.0\"></circle></g><g style=\"fill:rgb(40%,76.1%,64.7%);fill-opacity:1.0;opacity:1.0;stroke:rgb(40%,76.1%,64.7%);stroke-opacity:1.0\" class=\"toyplot-Datum\" transform=\"translate(98.68283922907712, 199.87552991401625)\"><circle r=\"5.0\"></circle></g><g style=\"fill:rgb(40%,76.1%,64.7%);fill-opacity:1.0;opacity:1.0;stroke:rgb(40%,76.1%,64.7%);stroke-opacity:1.0\" class=\"toyplot-Datum\" transform=\"translate(151.02995685234202, 92.99294715291431)\"><circle r=\"5.0\"></circle></g><g style=\"fill:rgb(40%,76.1%,64.7%);fill-opacity:1.0;opacity:1.0;stroke:rgb(40%,76.1%,64.7%);stroke-opacity:1.0\" class=\"toyplot-Datum\" transform=\"translate(177.37409077673613, 184.20376773947848)\"><circle r=\"5.0\"></circle></g><g style=\"fill:rgb(40%,76.1%,64.7%);fill-opacity:1.0;opacity:1.0;stroke:rgb(40%,76.1%,64.7%);stroke-opacity:1.0\" class=\"toyplot-Datum\" transform=\"translate(143.16534063160137, 107.92366014472941)\"><circle r=\"5.0\"></circle></g><g style=\"fill:rgb(40%,76.1%,64.7%);fill-opacity:1.0;opacity:1.0;stroke:rgb(40%,76.1%,64.7%);stroke-opacity:1.0\" class=\"toyplot-Datum\" transform=\"translate(129.83361935636557, 144.67043706148212)\"><circle r=\"5.0\"></circle></g><g style=\"fill:rgb(40%,76.1%,64.7%);fill-opacity:1.0;opacity:1.0;stroke:rgb(40%,76.1%,64.7%);stroke-opacity:1.0\" class=\"toyplot-Datum\" transform=\"translate(119.22445380360607, 177.24734981292698)\"><circle r=\"5.0\"></circle></g><g style=\"fill:rgb(40%,76.1%,64.7%);fill-opacity:1.0;opacity:1.0;stroke:rgb(40%,76.1%,64.7%);stroke-opacity:1.0\" class=\"toyplot-Datum\" transform=\"translate(103.83246382619366, 121.56659572443758)\"><circle r=\"5.0\"></circle></g><g style=\"fill:rgb(40%,76.1%,64.7%);fill-opacity:1.0;opacity:1.0;stroke:rgb(40%,76.1%,64.7%);stroke-opacity:1.0\" class=\"toyplot-Datum\" transform=\"translate(113.51290953243833, 129.47297910367942)\"><circle r=\"5.0\"></circle></g><g style=\"fill:rgb(40%,76.1%,64.7%);fill-opacity:1.0;opacity:1.0;stroke:rgb(40%,76.1%,64.7%);stroke-opacity:1.0\" class=\"toyplot-Datum\" transform=\"translate(170.97791506301868, 149.07925829389123)\"><circle r=\"5.0\"></circle></g><g style=\"fill:rgb(40%,76.1%,64.7%);fill-opacity:1.0;opacity:1.0;stroke:rgb(40%,76.1%,64.7%);stroke-opacity:1.0\" class=\"toyplot-Datum\" transform=\"translate(174.3820339914063, 120.35684090652461)\"><circle r=\"5.0\"></circle></g><g style=\"fill:rgb(40%,76.1%,64.7%);fill-opacity:1.0;opacity:1.0;stroke:rgb(40%,76.1%,64.7%);stroke-opacity:1.0\" class=\"toyplot-Datum\" transform=\"translate(214.38525092175902, 154.18553554340707)\"><circle r=\"5.0\"></circle></g><g style=\"fill:rgb(40%,76.1%,64.7%);fill-opacity:1.0;opacity:1.0;stroke:rgb(40%,76.1%,64.7%);stroke-opacity:1.0\" class=\"toyplot-Datum\" transform=\"translate(107.56401325824163, 148.37906457141955)\"><circle r=\"5.0\"></circle></g><g style=\"fill:rgb(40%,76.1%,64.7%);fill-opacity:1.0;opacity:1.0;stroke:rgb(40%,76.1%,64.7%);stroke-opacity:1.0\" class=\"toyplot-Datum\" transform=\"translate(121.66645790805197, 77.61459097222556)\"><circle r=\"5.0\"></circle></g><g style=\"fill:rgb(40%,76.1%,64.7%);fill-opacity:1.0;opacity:1.0;stroke:rgb(40%,76.1%,64.7%);stroke-opacity:1.0\" class=\"toyplot-Datum\" transform=\"translate(129.01101509478156, 219.99136307133395)\"><circle r=\"5.0\"></circle></g><g style=\"fill:rgb(40%,76.1%,64.7%);fill-opacity:1.0;opacity:1.0;stroke:rgb(40%,76.1%,64.7%);stroke-opacity:1.0\" class=\"toyplot-Datum\" transform=\"translate(170.37701466815423, 180.39665892265873)\"><circle r=\"5.0\"></circle></g><g style=\"fill:rgb(40%,76.1%,64.7%);fill-opacity:1.0;opacity:1.0;stroke:rgb(40%,76.1%,64.7%);stroke-opacity:1.0\" class=\"toyplot-Datum\" transform=\"translate(179.92046026134446, 118.83215898810033)\"><circle r=\"5.0\"></circle></g><g style=\"fill:rgb(40%,76.1%,64.7%);fill-opacity:1.0;opacity:1.0;stroke:rgb(40%,76.1%,64.7%);stroke-opacity:1.0\" class=\"toyplot-Datum\" transform=\"translate(151.21321886208216, 108.93602835955136)\"><circle r=\"5.0\"></circle></g><g style=\"fill:rgb(40%,76.1%,64.7%);fill-opacity:1.0;opacity:1.0;stroke:rgb(40%,76.1%,64.7%);stroke-opacity:1.0\" class=\"toyplot-Datum\" transform=\"translate(172.21870999251195, 77.33389722796021)\"><circle r=\"5.0\"></circle></g><g style=\"fill:rgb(40%,76.1%,64.7%);fill-opacity:1.0;opacity:1.0;stroke:rgb(40%,76.1%,64.7%);stroke-opacity:1.0\" class=\"toyplot-Datum\" transform=\"translate(116.19251466133395, 166.2453317514723)\"><circle r=\"5.0\"></circle></g><g style=\"fill:rgb(40%,76.1%,64.7%);fill-opacity:1.0;opacity:1.0;stroke:rgb(40%,76.1%,64.7%);stroke-opacity:1.0\" class=\"toyplot-Datum\" transform=\"translate(76.83767873383914, 117.55041715885433)\"><circle r=\"5.0\"></circle></g><g style=\"fill:rgb(40%,76.1%,64.7%);fill-opacity:1.0;opacity:1.0;stroke:rgb(40%,76.1%,64.7%);stroke-opacity:1.0\" class=\"toyplot-Datum\" transform=\"translate(110.13390418808686, 152.54103103126448)\"><circle r=\"5.0\"></circle></g><g style=\"fill:rgb(40%,76.1%,64.7%);fill-opacity:1.0;opacity:1.0;stroke:rgb(40%,76.1%,64.7%);stroke-opacity:1.0\" class=\"toyplot-Datum\" transform=\"translate(167.1983156407088, 157.57796556550514)\"><circle r=\"5.0\"></circle></g><g style=\"fill:rgb(40%,76.1%,64.7%);fill-opacity:1.0;opacity:1.0;stroke:rgb(40%,76.1%,64.7%);stroke-opacity:1.0\" class=\"toyplot-Datum\" transform=\"translate(151.29869365132416, 102.46270549797705)\"><circle r=\"5.0\"></circle></g><g style=\"fill:rgb(40%,76.1%,64.7%);fill-opacity:1.0;opacity:1.0;stroke:rgb(40%,76.1%,64.7%);stroke-opacity:1.0\" class=\"toyplot-Datum\" transform=\"translate(108.2745897598659, 120.28000727074573)\"><circle r=\"5.0\"></circle></g><g style=\"fill:rgb(40%,76.1%,64.7%);fill-opacity:1.0;opacity:1.0;stroke:rgb(40%,76.1%,64.7%);stroke-opacity:1.0\" class=\"toyplot-Datum\" transform=\"translate(76.59738634871616, 166.1617595440011)\"><circle r=\"5.0\"></circle></g><g style=\"fill:rgb(40%,76.1%,64.7%);fill-opacity:1.0;opacity:1.0;stroke:rgb(40%,76.1%,64.7%);stroke-opacity:1.0\" class=\"toyplot-Datum\" transform=\"translate(105.75170123464656, 89.31589192036813)\"><circle r=\"5.0\"></circle></g><g style=\"fill:rgb(40%,76.1%,64.7%);fill-opacity:1.0;opacity:1.0;stroke:rgb(40%,76.1%,64.7%);stroke-opacity:1.0\" class=\"toyplot-Datum\" transform=\"translate(54.97144447085398, 126.48310345683605)\"><circle r=\"5.0\"></circle></g><g style=\"fill:rgb(40%,76.1%,64.7%);fill-opacity:1.0;opacity:1.0;stroke:rgb(40%,76.1%,64.7%);stroke-opacity:1.0\" class=\"toyplot-Datum\" transform=\"translate(192.50353390480367, 115.87692832750136)\"><circle r=\"5.0\"></circle></g><g style=\"fill:rgb(40%,76.1%,64.7%);fill-opacity:1.0;opacity:1.0;stroke:rgb(40%,76.1%,64.7%);stroke-opacity:1.0\" class=\"toyplot-Datum\" transform=\"translate(101.78169281070738, 164.03943116368347)\"><circle r=\"5.0\"></circle></g><g style=\"fill:rgb(40%,76.1%,64.7%);fill-opacity:1.0;opacity:1.0;stroke:rgb(40%,76.1%,64.7%);stroke-opacity:1.0\" class=\"toyplot-Datum\" transform=\"translate(158.12321112517864, 140.57021518354014)\"><circle r=\"5.0\"></circle></g><g style=\"fill:rgb(40%,76.1%,64.7%);fill-opacity:1.0;opacity:1.0;stroke:rgb(40%,76.1%,64.7%);stroke-opacity:1.0\" class=\"toyplot-Datum\" transform=\"translate(126.30233513787064, 133.43889271652)\"><circle r=\"5.0\"></circle></g><g style=\"fill:rgb(40%,76.1%,64.7%);fill-opacity:1.0;opacity:1.0;stroke:rgb(40%,76.1%,64.7%);stroke-opacity:1.0\" class=\"toyplot-Datum\" transform=\"translate(229.34689195901512, 135.51733828104014)\"><circle r=\"5.0\"></circle></g><g style=\"fill:rgb(40%,76.1%,64.7%);fill-opacity:1.0;opacity:1.0;stroke:rgb(40%,76.1%,64.7%);stroke-opacity:1.0\" class=\"toyplot-Datum\" transform=\"translate(116.87544055472355, 79.27178494424383)\"><circle r=\"5.0\"></circle></g><g style=\"fill:rgb(40%,76.1%,64.7%);fill-opacity:1.0;opacity:1.0;stroke:rgb(40%,76.1%,64.7%);stroke-opacity:1.0\" class=\"toyplot-Datum\" transform=\"translate(209.65163782902374, 150.20861966475042)\"><circle r=\"5.0\"></circle></g><g style=\"fill:rgb(40%,76.1%,64.7%);fill-opacity:1.0;opacity:1.0;stroke:rgb(40%,76.1%,64.7%);stroke-opacity:1.0\" class=\"toyplot-Datum\" transform=\"translate(117.7452925925283, 156.6400443473562)\"><circle r=\"5.0\"></circle></g><g style=\"fill:rgb(40%,76.1%,64.7%);fill-opacity:1.0;opacity:1.0;stroke:rgb(40%,76.1%,64.7%);stroke-opacity:1.0\" class=\"toyplot-Datum\" transform=\"translate(99.77627142118394, 161.03089403779467)\"><circle r=\"5.0\"></circle></g><g style=\"fill:rgb(40%,76.1%,64.7%);fill-opacity:1.0;opacity:1.0;stroke:rgb(40%,76.1%,64.7%);stroke-opacity:1.0\" class=\"toyplot-Datum\" transform=\"translate(131.10373498743502, 89.07428131006057)\"><circle r=\"5.0\"></circle></g><g style=\"fill:rgb(40%,76.1%,64.7%);fill-opacity:1.0;opacity:1.0;stroke:rgb(40%,76.1%,64.7%);stroke-opacity:1.0\" class=\"toyplot-Datum\" transform=\"translate(187.11898396550836, 61.25102106681104)\"><circle r=\"5.0\"></circle></g><g style=\"fill:rgb(40%,76.1%,64.7%);fill-opacity:1.0;opacity:1.0;stroke:rgb(40%,76.1%,64.7%);stroke-opacity:1.0\" class=\"toyplot-Datum\" transform=\"translate(96.58311873002631, 131.48726494473573)\"><circle r=\"5.0\"></circle></g><g style=\"fill:rgb(40%,76.1%,64.7%);fill-opacity:1.0;opacity:1.0;stroke:rgb(40%,76.1%,64.7%);stroke-opacity:1.0\" class=\"toyplot-Datum\" transform=\"translate(161.76222889500133, 177.3596039362553)\"><circle r=\"5.0\"></circle></g><g style=\"fill:rgb(40%,76.1%,64.7%);fill-opacity:1.0;opacity:1.0;stroke:rgb(40%,76.1%,64.7%);stroke-opacity:1.0\" class=\"toyplot-Datum\" transform=\"translate(207.8830623584039, 101.83483654072191)\"><circle r=\"5.0\"></circle></g><g style=\"fill:rgb(40%,76.1%,64.7%);fill-opacity:1.0;opacity:1.0;stroke:rgb(40%,76.1%,64.7%);stroke-opacity:1.0\" class=\"toyplot-Datum\" transform=\"translate(218.43652276263245, 90.72209178444895)\"><circle r=\"5.0\"></circle></g><g style=\"fill:rgb(40%,76.1%,64.7%);fill-opacity:1.0;opacity:1.0;stroke:rgb(40%,76.1%,64.7%);stroke-opacity:1.0\" class=\"toyplot-Datum\" transform=\"translate(138.68378507748974, 120.76855257314575)\"><circle r=\"5.0\"></circle></g><g style=\"fill:rgb(40%,76.1%,64.7%);fill-opacity:1.0;opacity:1.0;stroke:rgb(40%,76.1%,64.7%);stroke-opacity:1.0\" class=\"toyplot-Datum\" transform=\"translate(186.6974448565114, 194.4390435215579)\"><circle r=\"5.0\"></circle></g><g style=\"fill:rgb(40%,76.1%,64.7%);fill-opacity:1.0;opacity:1.0;stroke:rgb(40%,76.1%,64.7%);stroke-opacity:1.0\" class=\"toyplot-Datum\" transform=\"translate(126.60790876979392, 234.69716210697155)\"><circle r=\"5.0\"></circle></g><g style=\"fill:rgb(40%,76.1%,64.7%);fill-opacity:1.0;opacity:1.0;stroke:rgb(40%,76.1%,64.7%);stroke-opacity:1.0\" class=\"toyplot-Datum\" transform=\"translate(179.23888002894665, 137.50571521246576)\"><circle r=\"5.0\"></circle></g></g></g></g><g class=\"toyplot-coordinates-Axis\" id=\"t4a288fa82ce245b797ad19a6cce330b1\" transform=\"translate(50.0,250.0)translate(0,10.0)\"><line x1=\"0\" y1=\"0\" x2=\"196.06548409207107\" y2=\"0\" style=\"\"></line><g><g transform=\"translate(11.511629583874052,6)\"><text x=\"-4.445\" y=\"8.555\" style=\"fill:rgb(16.1%,15.3%,14.1%);fill-opacity:1.0;font-family:helvetica;font-size:10.0px;font-weight:normal;stroke:none;vertical-align:baseline;white-space:pre\">-2</text></g><g transform=\"translate(58.63372218790553,6)\"><text x=\"-4.445\" y=\"8.555\" style=\"fill:rgb(16.1%,15.3%,14.1%);fill-opacity:1.0;font-family:helvetica;font-size:10.0px;font-weight:normal;stroke:none;vertical-align:baseline;white-space:pre\">-1</text></g><g transform=\"translate(105.75581479193703,6)\"><text x=\"-2.78\" y=\"8.555\" style=\"fill:rgb(16.1%,15.3%,14.1%);fill-opacity:1.0;font-family:helvetica;font-size:10.0px;font-weight:normal;stroke:none;vertical-align:baseline;white-space:pre\">0</text></g><g transform=\"translate(152.87790739596852,6)\"><text x=\"-2.78\" y=\"8.555\" style=\"fill:rgb(16.1%,15.3%,14.1%);fill-opacity:1.0;font-family:helvetica;font-size:10.0px;font-weight:normal;stroke:none;vertical-align:baseline;white-space:pre\">1</text></g><g transform=\"translate(200.0,6)\"><text x=\"-2.78\" y=\"8.555\" style=\"fill:rgb(16.1%,15.3%,14.1%);fill-opacity:1.0;font-family:helvetica;font-size:10.0px;font-weight:normal;stroke:none;vertical-align:baseline;white-space:pre\">2</text></g></g><g class=\"toyplot-coordinates-Axis-coordinates\" style=\"visibility:hidden\" transform=\"\"><line x1=\"0\" x2=\"0\" y1=\"-3.0\" y2=\"4.5\" style=\"stroke:rgb(43.9%,50.2%,56.5%);stroke-opacity:1.0;stroke-width:1.0\"></line><text x=\"0\" y=\"-6\" style=\"alignment-baseline:alphabetic;fill:rgb(43.9%,50.2%,56.5%);fill-opacity:1.0;font-size:10px;font-weight:normal;stroke:none;text-anchor:middle\"></text></g></g><g class=\"toyplot-coordinates-Axis\" id=\"td123d322bfe645358b362a7344f7bd54\" transform=\"translate(50.0,250.0)rotate(-90.0)translate(0,-10.0)\"><line x1=\"2.656457812137596\" y1=\"0\" x2=\"198.05009662431493\" y2=\"0\" style=\"\"></line><g><g transform=\"translate(0.0,-6)\"><text x=\"-4.445\" y=\"-4.440892098500626e-16\" style=\"fill:rgb(16.1%,15.3%,14.1%);fill-opacity:1.0;font-family:helvetica;font-size:10.0px;font-weight:normal;stroke:none;vertical-align:baseline;white-space:pre\">-3</text></g><g transform=\"translate(40.0,-6)\"><text x=\"-4.445\" y=\"-4.440892098500626e-16\" style=\"fill:rgb(16.1%,15.3%,14.1%);fill-opacity:1.0;font-family:helvetica;font-size:10.0px;font-weight:normal;stroke:none;vertical-align:baseline;white-space:pre\">-2</text></g><g transform=\"translate(80.0,-6)\"><text x=\"-4.445\" y=\"-4.440892098500626e-16\" style=\"fill:rgb(16.1%,15.3%,14.1%);fill-opacity:1.0;font-family:helvetica;font-size:10.0px;font-weight:normal;stroke:none;vertical-align:baseline;white-space:pre\">-1</text></g><g transform=\"translate(120.0,-6)\"><text x=\"-2.78\" y=\"-4.440892098500626e-16\" style=\"fill:rgb(16.1%,15.3%,14.1%);fill-opacity:1.0;font-family:helvetica;font-size:10.0px;font-weight:normal;stroke:none;vertical-align:baseline;white-space:pre\">0</text></g><g transform=\"translate(160.0,-6)\"><text x=\"-2.78\" y=\"-4.440892098500626e-16\" style=\"fill:rgb(16.1%,15.3%,14.1%);fill-opacity:1.0;font-family:helvetica;font-size:10.0px;font-weight:normal;stroke:none;vertical-align:baseline;white-space:pre\">1</text></g><g transform=\"translate(200.0,-6)\"><text x=\"-2.78\" y=\"-4.440892098500626e-16\" style=\"fill:rgb(16.1%,15.3%,14.1%);fill-opacity:1.0;font-family:helvetica;font-size:10.0px;font-weight:normal;stroke:none;vertical-align:baseline;white-space:pre\">2</text></g></g><g class=\"toyplot-coordinates-Axis-coordinates\" style=\"visibility:hidden\" transform=\"\"><line x1=\"0\" x2=\"0\" y1=\"3.0\" y2=\"-4.5\" style=\"stroke:rgb(43.9%,50.2%,56.5%);stroke-opacity:1.0;stroke-width:1.0\"></line><text x=\"0\" y=\"6\" style=\"alignment-baseline:hanging;fill:rgb(43.9%,50.2%,56.5%);fill-opacity:1.0;font-size:10px;font-weight:normal;stroke:none;text-anchor:middle\"></text></g></g></g></svg><div class=\"toyplot-behavior\"><script>(function()\n",
       "{\n",
       "var modules={};\n",
       "modules[\"toyplot/tables\"] = (function()\n",
       "    {\n",
       "        var tables = [];\n",
       "\n",
       "        var module = {};\n",
       "\n",
       "        module.set = function(owner, key, names, columns)\n",
       "        {\n",
       "            tables.push({owner: owner, key: key, names: names, columns: columns});\n",
       "        }\n",
       "\n",
       "        module.get = function(owner, key)\n",
       "        {\n",
       "            for(var i = 0; i != tables.length; ++i)\n",
       "            {\n",
       "                var table = tables[i];\n",
       "                if(table.owner != owner)\n",
       "                    continue;\n",
       "                if(table.key != key)\n",
       "                    continue;\n",
       "                return {names: table.names, columns: table.columns};\n",
       "            }\n",
       "        }\n",
       "\n",
       "        module.get_csv = function(owner, key)\n",
       "        {\n",
       "            var table = module.get(owner, key);\n",
       "            if(table != undefined)\n",
       "            {\n",
       "                var csv = \"\";\n",
       "                csv += table.names.join(\",\") + \"\\n\";\n",
       "                for(var i = 0; i != table.columns[0].length; ++i)\n",
       "                {\n",
       "                  for(var j = 0; j != table.columns.length; ++j)\n",
       "                  {\n",
       "                    if(j)\n",
       "                      csv += \",\";\n",
       "                    csv += table.columns[j][i];\n",
       "                  }\n",
       "                  csv += \"\\n\";\n",
       "                }\n",
       "                return csv;\n",
       "            }\n",
       "        }\n",
       "\n",
       "        return module;\n",
       "    })();\n",
       "modules[\"toyplot/root/id\"] = \"t4aaa45b3484d4f318dd25ac565c14bb2\";\n",
       "modules[\"toyplot/root\"] = (function(root_id)\n",
       "    {\n",
       "        return document.querySelector(\"#\" + root_id);\n",
       "    })(modules[\"toyplot/root/id\"]);\n",
       "modules[\"toyplot/canvas/id\"] = \"t751e5d0db7b24de38fc7d8a7b028e8e6\";\n",
       "modules[\"toyplot/canvas\"] = (function(canvas_id)\n",
       "    {\n",
       "        return document.querySelector(\"#\" + canvas_id);\n",
       "    })(modules[\"toyplot/canvas/id\"]);\n",
       "modules[\"toyplot/menus/context\"] = (function(root, canvas)\n",
       "    {\n",
       "        var wrapper = document.createElement(\"div\");\n",
       "        wrapper.innerHTML = \"<ul class='toyplot-context-menu' style='background:#eee; border:1px solid #b8b8b8; border-radius:5px; box-shadow: 0px 0px 8px rgba(0%,0%,0%,0.25); margin:0; padding:3px 0; position:fixed; visibility:hidden;'></ul>\"\n",
       "        var menu = wrapper.firstChild;\n",
       "\n",
       "        root.appendChild(menu);\n",
       "\n",
       "        var items = [];\n",
       "\n",
       "        var ignore_mouseup = null;\n",
       "        function open_menu(e)\n",
       "        {\n",
       "            var show_menu = false;\n",
       "            for(var index=0; index != items.length; ++index)\n",
       "            {\n",
       "                var item = items[index];\n",
       "                if(item.show(e))\n",
       "                {\n",
       "                    item.item.style.display = \"block\";\n",
       "                    show_menu = true;\n",
       "                }\n",
       "                else\n",
       "                {\n",
       "                    item.item.style.display = \"none\";\n",
       "                }\n",
       "            }\n",
       "\n",
       "            if(show_menu)\n",
       "            {\n",
       "                ignore_mouseup = true;\n",
       "                menu.style.left = (e.clientX + 1) + \"px\";\n",
       "                menu.style.top = (e.clientY - 5) + \"px\";\n",
       "                menu.style.visibility = \"visible\";\n",
       "                e.stopPropagation();\n",
       "                e.preventDefault();\n",
       "            }\n",
       "        }\n",
       "\n",
       "        function close_menu()\n",
       "        {\n",
       "            menu.style.visibility = \"hidden\";\n",
       "        }\n",
       "\n",
       "        function contextmenu(e)\n",
       "        {\n",
       "            open_menu(e);\n",
       "        }\n",
       "\n",
       "        function mousemove(e)\n",
       "        {\n",
       "            ignore_mouseup = false;\n",
       "        }\n",
       "\n",
       "        function mouseup(e)\n",
       "        {\n",
       "            if(ignore_mouseup)\n",
       "            {\n",
       "                ignore_mouseup = false;\n",
       "                return;\n",
       "            }\n",
       "            close_menu();\n",
       "        }\n",
       "\n",
       "        function keydown(e)\n",
       "        {\n",
       "            if(e.key == \"Escape\" || e.key == \"Esc\" || e.keyCode == 27)\n",
       "            {\n",
       "                close_menu();\n",
       "            }\n",
       "        }\n",
       "\n",
       "        canvas.addEventListener(\"contextmenu\", contextmenu);\n",
       "        canvas.addEventListener(\"mousemove\", mousemove);\n",
       "        document.addEventListener(\"mouseup\", mouseup);\n",
       "        document.addEventListener(\"keydown\", keydown);\n",
       "\n",
       "        var module = {};\n",
       "        module.add_item = function(label, show, activate)\n",
       "        {\n",
       "            var wrapper = document.createElement(\"div\");\n",
       "            wrapper.innerHTML = \"<li class='toyplot-context-menu-item' style='background:#eee; color:#333; padding:2px 20px; list-style:none; margin:0; text-align:left;'>\" + label + \"</li>\"\n",
       "            var item = wrapper.firstChild;\n",
       "\n",
       "            items.push({item: item, show: show});\n",
       "\n",
       "            function mouseover()\n",
       "            {\n",
       "                this.style.background = \"steelblue\";\n",
       "                this.style.color = \"white\";\n",
       "            }\n",
       "\n",
       "            function mouseout()\n",
       "            {\n",
       "                this.style.background = \"#eee\";\n",
       "                this.style.color = \"#333\";\n",
       "            }\n",
       "\n",
       "            function choose_item(e)\n",
       "            {\n",
       "                close_menu();\n",
       "                activate();\n",
       "\n",
       "                e.stopPropagation();\n",
       "                e.preventDefault();\n",
       "            }\n",
       "\n",
       "            item.addEventListener(\"mouseover\", mouseover);\n",
       "            item.addEventListener(\"mouseout\", mouseout);\n",
       "            item.addEventListener(\"mouseup\", choose_item);\n",
       "            item.addEventListener(\"contextmenu\", choose_item);\n",
       "\n",
       "            menu.appendChild(item);\n",
       "        };\n",
       "        return module;\n",
       "    })(modules[\"toyplot/root\"],modules[\"toyplot/canvas\"]);\n",
       "modules[\"toyplot/io\"] = (function()\n",
       "    {\n",
       "        var module = {};\n",
       "        module.save_file = function(mime_type, charset, data, filename)\n",
       "        {\n",
       "            var uri = \"data:\" + mime_type + \";charset=\" + charset + \",\" + data;\n",
       "            uri = encodeURI(uri);\n",
       "\n",
       "            var link = document.createElement(\"a\");\n",
       "            if(typeof link.download != \"undefined\")\n",
       "            {\n",
       "              link.href = uri;\n",
       "              link.style = \"visibility:hidden\";\n",
       "              link.download = filename;\n",
       "\n",
       "              document.body.appendChild(link);\n",
       "              link.click();\n",
       "              document.body.removeChild(link);\n",
       "            }\n",
       "            else\n",
       "            {\n",
       "              window.open(uri);\n",
       "            }\n",
       "        };\n",
       "        return module;\n",
       "    })();\n",
       "modules[\"toyplot.coordinates.Axis\"] = (\n",
       "        function(canvas)\n",
       "        {\n",
       "            function sign(x)\n",
       "            {\n",
       "                return x < 0 ? -1 : x > 0 ? 1 : 0;\n",
       "            }\n",
       "\n",
       "            function mix(a, b, amount)\n",
       "            {\n",
       "                return ((1.0 - amount) * a) + (amount * b);\n",
       "            }\n",
       "\n",
       "            function log(x, base)\n",
       "            {\n",
       "                return Math.log(Math.abs(x)) / Math.log(base);\n",
       "            }\n",
       "\n",
       "            function in_range(a, x, b)\n",
       "            {\n",
       "                var left = Math.min(a, b);\n",
       "                var right = Math.max(a, b);\n",
       "                return left <= x && x <= right;\n",
       "            }\n",
       "\n",
       "            function inside(range, projection)\n",
       "            {\n",
       "                for(var i = 0; i != projection.length; ++i)\n",
       "                {\n",
       "                    var segment = projection[i];\n",
       "                    if(in_range(segment.range.min, range, segment.range.max))\n",
       "                        return true;\n",
       "                }\n",
       "                return false;\n",
       "            }\n",
       "\n",
       "            function to_domain(range, projection)\n",
       "            {\n",
       "                for(var i = 0; i != projection.length; ++i)\n",
       "                {\n",
       "                    var segment = projection[i];\n",
       "                    if(in_range(segment.range.bounds.min, range, segment.range.bounds.max))\n",
       "                    {\n",
       "                        if(segment.scale == \"linear\")\n",
       "                        {\n",
       "                            var amount = (range - segment.range.min) / (segment.range.max - segment.range.min);\n",
       "                            return mix(segment.domain.min, segment.domain.max, amount)\n",
       "                        }\n",
       "                        else if(segment.scale[0] == \"log\")\n",
       "                        {\n",
       "                            var amount = (range - segment.range.min) / (segment.range.max - segment.range.min);\n",
       "                            var base = segment.scale[1];\n",
       "                            return sign(segment.domain.min) * Math.pow(base, mix(log(segment.domain.min, base), log(segment.domain.max, base), amount));\n",
       "                        }\n",
       "                    }\n",
       "                }\n",
       "            }\n",
       "\n",
       "            var axes = {};\n",
       "\n",
       "            function display_coordinates(e)\n",
       "            {\n",
       "                var current = canvas.createSVGPoint();\n",
       "                current.x = e.clientX;\n",
       "                current.y = e.clientY;\n",
       "\n",
       "                for(var axis_id in axes)\n",
       "                {\n",
       "                    var axis = document.querySelector(\"#\" + axis_id);\n",
       "                    var coordinates = axis.querySelector(\".toyplot-coordinates-Axis-coordinates\");\n",
       "                    if(coordinates)\n",
       "                    {\n",
       "                        var projection = axes[axis_id];\n",
       "                        var local = current.matrixTransform(axis.getScreenCTM().inverse());\n",
       "                        if(inside(local.x, projection))\n",
       "                        {\n",
       "                            var domain = to_domain(local.x, projection);\n",
       "                            coordinates.style.visibility = \"visible\";\n",
       "                            coordinates.setAttribute(\"transform\", \"translate(\" + local.x + \")\");\n",
       "                            var text = coordinates.querySelector(\"text\");\n",
       "                            text.textContent = domain.toFixed(2);\n",
       "                        }\n",
       "                        else\n",
       "                        {\n",
       "                            coordinates.style.visibility= \"hidden\";\n",
       "                        }\n",
       "                    }\n",
       "                }\n",
       "            }\n",
       "\n",
       "            canvas.addEventListener(\"click\", display_coordinates);\n",
       "\n",
       "            var module = {};\n",
       "            module.show_coordinates = function(axis_id, projection)\n",
       "            {\n",
       "                axes[axis_id] = projection;\n",
       "            }\n",
       "\n",
       "            return module;\n",
       "        })(modules[\"toyplot/canvas\"]);\n",
       "(function(tables, context_menu, io, owner_id, key, label, names, columns, filename)\n",
       "        {\n",
       "            tables.set(owner_id, key, names, columns);\n",
       "\n",
       "            var owner = document.querySelector(\"#\" + owner_id);\n",
       "            function show_item(e)\n",
       "            {\n",
       "                return owner.contains(e.target);\n",
       "            }\n",
       "\n",
       "            function choose_item()\n",
       "            {\n",
       "                io.save_file(\"text/csv\", \"utf-8\", tables.get_csv(owner_id, key), filename + \".csv\");\n",
       "            }\n",
       "\n",
       "            context_menu.add_item(\"Save \" + label + \" as CSV\", show_item, choose_item);\n",
       "        })(modules[\"toyplot/tables\"],modules[\"toyplot/menus/context\"],modules[\"toyplot/io\"],\"t7e2c256bd13a435f9b86cea388a300a5\",\"data\",\"point\",[\"x\", \"y0\"],[[-1.2158460984372585, -2.2442936836571894, -0.7800227869744637, 1.1216342590541364, 0.08843967907354346, 0.7706280547460744, -0.10693338006771853, 1.171691207171721, 1.2421260483308574, 0.9924156014142836, -0.8107881091511959, 0.14248672894888784, -0.27973295059554637, -0.5479155760041934, -0.4096038885614055, -1.1085835198093295, 0.9588720964822652, 1.117499975654224, 0.35403727877730556, -1.3108827909323921, 0.8753226748029096, 1.797603213340229, -0.8038415991192577, -0.062038151302266066, 1.23069284217366, 0.0790738760552094, 1.5316470567209872, 0.3473921185583447, -0.44290425460113614, 0.6756583027833433, -1.5342697724837144, -0.7152163859306296, -1.9794734956358353, -0.3210105907000103, -0.7538248316825872, 1.144120869674675, -0.052223713252870334, -0.12659307182344026, 1.128557100672853, 0.08228078924999256, -0.9219315154027329, 0.3795136673106588, -1.8281465877977916, -1.5971458176512427, -1.729107116448185, -0.33884830224555934, 0.17621758446828573, -0.10798354579367109, 1.137568310374223, 0.5516250798501999, 1.9165037949186425, 1.3095573691672366, -0.6484330578284156, 0.5982404188001638, -1.2111723484448371, -0.10028964501442166, 0.4587715610692035, -0.26718834976480843, -0.5501070517686157, -0.7752491234908686, -1.1018897526911, -0.8964564798610969, 0.32303532016274167, 0.3952757224936087, 1.2442027272109306, -1.0227007942676214, -0.7234262105110456, -0.5675639221265685, 0.31028333141059017, 0.5128092606681063, -0.09640055606244952, 0.34936681057255237, -0.8395913242447618, -1.6747587319869175, -0.9681639350614711, 0.24282667038842057, -0.09458665552199036, -1.0076213174796254, -1.6798580892489599, -1.0611607166404238, -2.1387923318256994, 0.7798405605977426, -1.145410125029378, 0.05023962651945299, -0.6250460882873974, 1.5617107199687918, -0.8250986339661641, 1.1437485064590647, -0.8066390964173095, -1.1879681117125052, -0.5231533330163038, 0.6655725041143038, -1.2557315007026713, 0.12746492719532657, 1.1062167379639491, 1.3301766646359166, -0.36229353942118225, 0.656626825225652, -0.6185613671080766, 0.4983451272917477], [1.7657888745832324, -1.2135364593416418, -0.19876074865031715, 0.1385741869480384, 1.0018228179562971, -0.9737189929529025, 0.06325129111632406, -1.8787589006484489, 0.9466710569419398, -0.2901653601806297, 0.7777612350032723, 0.04729129513943719, -1.371189240540072, 0.32351031766449617, -0.9315991899756705, -0.6762892382178117, 0.10800676623650912, 1.493477814874697, -0.35554838069841344, -2.93358855469656, -1.0187274332816596, 0.9549706458565661, 0.9412617247570747, 1.9512524156078739, 0.09740434558222553, -1.3647038008319547, -0.5769961944101057, 0.7475794728023354, -1.6952783209811273, -0.10049359543057344, -0.5597347352233768, 0.5826653546267256, 0.6665215541901499, -1.1976599031032789, -0.8961003137595832, 0.6227470877926543, 0.49295250849088307, -1.1442123379821456, 0.8840020532094626, -0.7490034096538517, -0.20558829663959532, 1.444618000551336, 1.2546685811670397, 0.5932608918906674, -0.8185078439471092, -0.31281237426351644, 0.4468949831749745, -0.0429000911801087, 1.017620671703572, -0.5123924286091048, 1.9054109394653094, 0.907693283132396, -1.5120863985991653, -0.025600808840986998, -1.7468882478504066, 0.9251763211771422, -1.3550941934869623, 0.5519084963817653, -0.3667609265370528, -1.1811837453231744, 0.21083510688906057, 0.013175522408013968, -0.47698145734728065, 0.24107897733688474, -0.604638388585177, -0.4594766142854887, 1.3096352256943606, -2.2497840767833486, -1.2599164730664683, 0.27919602529749193, 0.5265992910112162, 1.3166525693009954, -0.9061332937868076, 0.3112395710286419, -0.5635257757816121, -0.6894491391376286, 0.6884323625505736, 0.24299981823135683, -0.9040439886000269, 1.0171027019907963, 0.08792241357909863, 0.35307679181246615, -0.8509857790920863, -0.2642553795885031, -0.08597231791299938, -0.13793345702600296, 1.2682053763939047, -0.5052154916187602, -0.6660011086839053, -0.7757723509448657, 1.023142967248486, 1.7187244733297242, -0.03718162361839306, -1.1839900984063825, 0.704129086481952, 0.9819477053887765, 0.23078618567135614, -1.6109760880389474, -2.6174290526742885, -0.1876428803116444]],\"toyplot\");\n",
       "(function(axis, axis_id, projection)\n",
       "        {\n",
       "            axis.show_coordinates(axis_id, projection);\n",
       "        })(modules[\"toyplot.coordinates.Axis\"],\"t4a288fa82ce245b797ad19a6cce330b1\",[{\"domain\": {\"bounds\": {\"max\": Infinity, \"min\": -Infinity}, \"max\": 2.0, \"min\": -2.2442936836571894}, \"range\": {\"bounds\": {\"max\": Infinity, \"min\": -Infinity}, \"max\": 200.0, \"min\": 0.0}, \"scale\": \"linear\"}]);\n",
       "(function(axis, axis_id, projection)\n",
       "        {\n",
       "            axis.show_coordinates(axis_id, projection);\n",
       "        })(modules[\"toyplot.coordinates.Axis\"],\"td123d322bfe645358b362a7344f7bd54\",[{\"domain\": {\"bounds\": {\"max\": Infinity, \"min\": -Infinity}, \"max\": 2.0, \"min\": -3.0}, \"range\": {\"bounds\": {\"max\": Infinity, \"min\": -Infinity}, \"max\": 200.0, \"min\": 0.0}, \"scale\": \"linear\"}]);\n",
       "})();</script><div class=\"toyplot-vcr-controls\">\n",
       "            <input class=\"toyplot-current-frame\" title=\"Frame\" type=\"range\" min=\"0\" max=\"101\" step=\"1\" value=\"0\">\n",
       "            <button class=\"toyplot-rewind\" title=\"Rewind\" style=\"width:40px;height:24px\">\n",
       "                <svg width=\"20\" height=\"20\">\n",
       "                    <polygon points=\"10,5 0,10 10,15\" stroke=\"none\" fill=\"#292724\"></polygon>\n",
       "                    <polygon points=\"20,5 10,10 20,15\" stroke=\"none\" fill=\"#292724\"></polygon>\n",
       "                </svg>\n",
       "            </button>\n",
       "            <button class=\"toyplot-reverse-play\" title=\"Reverse Play\" style=\"width:40px;height:24px\">\n",
       "                <svg width=\"20\" height=\"20\">\n",
       "                    <polygon points=\"15,5 5,10 15,15\" stroke=\"none\" fill=\"#292724\"></polygon>\n",
       "                </svg>\n",
       "            </button>\n",
       "            <button class=\"toyplot-frame-rewind\" title=\"Frame Rewind\" style=\"width:40px;height:24px\">\n",
       "                <svg width=\"20\" height=\"20\">\n",
       "                    <polygon points=\"15,5 5,10 15,15\" stroke=\"none\" fill=\"#292724\"></polygon>\n",
       "                    <rect x=\"17\" y=\"5\" width=\"2\" height=\"10\" stroke=\"none\" fill=\"#292724\"></rect>\n",
       "                </svg>\n",
       "            </button>\n",
       "            <button class=\"toyplot-stop\" title=\"Stop\" style=\"width:40px;height:24px\">\n",
       "                <svg width=\"20\" height=\"20\">\n",
       "                    <rect x=\"5\" y=\"5\" width=\"10\" height=\"10\" stroke=\"none\" fill=\"#292724\"></rect>\n",
       "                </svg>\n",
       "            </button>\n",
       "            <button class=\"toyplot-frame-advance\" title=\"Frame Advance\" style=\"width:40px;height:24px\">\n",
       "                <svg width=\"20\" height=\"20\">\n",
       "                    <polygon points=\"5,5 15,10 5,15\" stroke=\"none\" fill=\"#292724\"></polygon>\n",
       "                    <rect x=\"1\" y=\"5\" width=\"2\" height=\"10\" stroke=\"none\" fill=\"#292724\"></rect>\n",
       "                </svg>\n",
       "            </button>\n",
       "            <button class=\"toyplot-forward-play\" title=\"Play\" style=\"width:40px;height:24px\">\n",
       "                <svg width=\"20\" height=\"20\">\n",
       "                    <polygon points=\"5,5 15,10 5,15\" stroke=\"none\" fill=\"#292724\"></polygon>\n",
       "                </svg>\n",
       "            </button>\n",
       "            <button class=\"toyplot-fast-forward\" title=\"Fast Forward\" style=\"width:40px;height:24px\">\n",
       "                <svg width=\"20\" height=\"20\">\n",
       "                    <polygon points=\"0,5 10,10 0,15\" stroke=\"none\" fill=\"#292724\"></polygon>\n",
       "                    <polygon points=\"10,5 20,10 10,15\" stroke=\"none\" fill=\"#292724\"></polygon>\n",
       "                </svg>\n",
       "            </button>\n",
       "        </div><script>\n",
       "        (function()\n",
       "        {\n",
       "            var root_id = \"t4aaa45b3484d4f318dd25ac565c14bb2\";\n",
       "            var frame_durations = [0.03333333333333333, 0.03333333333333333, 0.03333333333333334, 0.033333333333333326, 0.033333333333333326, 0.033333333333333354, 0.033333333333333326, 0.033333333333333326, 0.033333333333333326, 0.033333333333333326, 0.033333333333333326, 0.03333333333333338, 0.033333333333333326, 0.033333333333333326, 0.033333333333333326, 0.033333333333333326, 0.033333333333333326, 0.033333333333333326, 0.033333333333333326, 0.033333333333333326, 0.033333333333333326, 0.033333333333333326, 0.033333333333333326, 0.03333333333333344, 0.033333333333333326, 0.033333333333333326, 0.033333333333333326, 0.033333333333333326, 0.033333333333333326, 0.033333333333333326, 0.033333333333333215, 0.03333333333333344, 0.03333333333333344, 0.033333333333333215, 0.03333333333333344, 0.033333333333333215, 0.03333333333333344, 0.033333333333333215, 0.03333333333333344, 0.033333333333333215, 0.03333333333333344, 0.033333333333333215, 0.03333333333333344, 0.033333333333333215, 0.03333333333333344, 0.033333333333333215, 0.03333333333333344, 0.03333333333333344, 0.033333333333333215, 0.03333333333333344, 0.033333333333333215, 0.03333333333333344, 0.033333333333333215, 0.03333333333333344, 0.033333333333333215, 0.03333333333333344, 0.033333333333333215, 0.03333333333333344, 0.033333333333333215, 0.03333333333333344, 0.033333333333333215, 0.033333333333333215, 0.03333333333333366, 0.033333333333333215, 0.033333333333333215, 0.03333333333333366, 0.033333333333333215, 0.033333333333333215, 0.033333333333333215, 0.03333333333333366, 0.033333333333333215, 0.033333333333333215, 0.033333333333333215, 0.03333333333333366, 0.033333333333333215, 0.033333333333333215, 0.033333333333333215, 0.03333333333333366, 0.033333333333333215, 0.033333333333333215, 0.03333333333333366, 0.033333333333333215, 0.033333333333333215, 0.033333333333333215, 0.03333333333333366, 0.033333333333333215, 0.033333333333333215, 0.033333333333333215, 0.03333333333333366, 0.033333333333333215, 0.033333333333333215, 0.033333333333333215, 0.03333333333333366, 0.033333333333333215, 0.033333333333333215, 0.03333333333333366, 0.033333333333333215, 0.033333333333333215, 0.033333333333333215, 0.03333333333333366, 0.033333333333333215];\n",
       "            var state_changes = [{\"set-datum-style\": [{\"mark\": \"t7e2c256bd13a435f9b86cea388a300a5\", \"series\": 0, \"datum\": 0, \"style\": {\"opacity\": 0.1}}, {\"mark\": \"t7e2c256bd13a435f9b86cea388a300a5\", \"series\": 0, \"datum\": 1, \"style\": {\"opacity\": 0.1}}, {\"mark\": \"t7e2c256bd13a435f9b86cea388a300a5\", \"series\": 0, \"datum\": 2, \"style\": {\"opacity\": 0.1}}, {\"mark\": \"t7e2c256bd13a435f9b86cea388a300a5\", \"series\": 0, \"datum\": 3, \"style\": {\"opacity\": 0.1}}, {\"mark\": \"t7e2c256bd13a435f9b86cea388a300a5\", \"series\": 0, \"datum\": 4, \"style\": {\"opacity\": 0.1}}, {\"mark\": \"t7e2c256bd13a435f9b86cea388a300a5\", \"series\": 0, \"datum\": 5, \"style\": {\"opacity\": 0.1}}, {\"mark\": \"t7e2c256bd13a435f9b86cea388a300a5\", \"series\": 0, \"datum\": 6, \"style\": {\"opacity\": 0.1}}, {\"mark\": \"t7e2c256bd13a435f9b86cea388a300a5\", \"series\": 0, \"datum\": 7, \"style\": {\"opacity\": 0.1}}, {\"mark\": \"t7e2c256bd13a435f9b86cea388a300a5\", \"series\": 0, \"datum\": 8, \"style\": {\"opacity\": 0.1}}, {\"mark\": \"t7e2c256bd13a435f9b86cea388a300a5\", \"series\": 0, \"datum\": 9, \"style\": {\"opacity\": 0.1}}, {\"mark\": \"t7e2c256bd13a435f9b86cea388a300a5\", \"series\": 0, \"datum\": 10, \"style\": {\"opacity\": 0.1}}, {\"mark\": \"t7e2c256bd13a435f9b86cea388a300a5\", \"series\": 0, \"datum\": 11, \"style\": {\"opacity\": 0.1}}, {\"mark\": \"t7e2c256bd13a435f9b86cea388a300a5\", \"series\": 0, \"datum\": 12, \"style\": {\"opacity\": 0.1}}, {\"mark\": \"t7e2c256bd13a435f9b86cea388a300a5\", \"series\": 0, \"datum\": 13, \"style\": {\"opacity\": 0.1}}, {\"mark\": \"t7e2c256bd13a435f9b86cea388a300a5\", \"series\": 0, \"datum\": 14, \"style\": {\"opacity\": 0.1}}, {\"mark\": \"t7e2c256bd13a435f9b86cea388a300a5\", \"series\": 0, \"datum\": 15, \"style\": {\"opacity\": 0.1}}, {\"mark\": \"t7e2c256bd13a435f9b86cea388a300a5\", \"series\": 0, \"datum\": 16, \"style\": {\"opacity\": 0.1}}, {\"mark\": \"t7e2c256bd13a435f9b86cea388a300a5\", \"series\": 0, \"datum\": 17, \"style\": {\"opacity\": 0.1}}, {\"mark\": \"t7e2c256bd13a435f9b86cea388a300a5\", \"series\": 0, \"datum\": 18, \"style\": {\"opacity\": 0.1}}, {\"mark\": \"t7e2c256bd13a435f9b86cea388a300a5\", \"series\": 0, \"datum\": 19, \"style\": {\"opacity\": 0.1}}, {\"mark\": \"t7e2c256bd13a435f9b86cea388a300a5\", \"series\": 0, \"datum\": 20, \"style\": {\"opacity\": 0.1}}, {\"mark\": \"t7e2c256bd13a435f9b86cea388a300a5\", \"series\": 0, \"datum\": 21, \"style\": {\"opacity\": 0.1}}, {\"mark\": \"t7e2c256bd13a435f9b86cea388a300a5\", \"series\": 0, \"datum\": 22, \"style\": {\"opacity\": 0.1}}, {\"mark\": \"t7e2c256bd13a435f9b86cea388a300a5\", \"series\": 0, \"datum\": 23, \"style\": {\"opacity\": 0.1}}, {\"mark\": \"t7e2c256bd13a435f9b86cea388a300a5\", \"series\": 0, \"datum\": 24, \"style\": {\"opacity\": 0.1}}, {\"mark\": \"t7e2c256bd13a435f9b86cea388a300a5\", \"series\": 0, \"datum\": 25, \"style\": {\"opacity\": 0.1}}, {\"mark\": \"t7e2c256bd13a435f9b86cea388a300a5\", \"series\": 0, \"datum\": 26, \"style\": {\"opacity\": 0.1}}, {\"mark\": \"t7e2c256bd13a435f9b86cea388a300a5\", \"series\": 0, \"datum\": 27, \"style\": {\"opacity\": 0.1}}, {\"mark\": \"t7e2c256bd13a435f9b86cea388a300a5\", \"series\": 0, \"datum\": 28, \"style\": {\"opacity\": 0.1}}, {\"mark\": \"t7e2c256bd13a435f9b86cea388a300a5\", \"series\": 0, \"datum\": 29, \"style\": {\"opacity\": 0.1}}, {\"mark\": \"t7e2c256bd13a435f9b86cea388a300a5\", \"series\": 0, \"datum\": 30, \"style\": {\"opacity\": 0.1}}, {\"mark\": \"t7e2c256bd13a435f9b86cea388a300a5\", \"series\": 0, \"datum\": 31, \"style\": {\"opacity\": 0.1}}, {\"mark\": \"t7e2c256bd13a435f9b86cea388a300a5\", \"series\": 0, \"datum\": 32, \"style\": {\"opacity\": 0.1}}, {\"mark\": \"t7e2c256bd13a435f9b86cea388a300a5\", \"series\": 0, \"datum\": 33, \"style\": {\"opacity\": 0.1}}, {\"mark\": \"t7e2c256bd13a435f9b86cea388a300a5\", \"series\": 0, \"datum\": 34, \"style\": {\"opacity\": 0.1}}, {\"mark\": \"t7e2c256bd13a435f9b86cea388a300a5\", \"series\": 0, \"datum\": 35, \"style\": {\"opacity\": 0.1}}, {\"mark\": \"t7e2c256bd13a435f9b86cea388a300a5\", \"series\": 0, \"datum\": 36, \"style\": {\"opacity\": 0.1}}, {\"mark\": \"t7e2c256bd13a435f9b86cea388a300a5\", \"series\": 0, \"datum\": 37, \"style\": {\"opacity\": 0.1}}, {\"mark\": \"t7e2c256bd13a435f9b86cea388a300a5\", \"series\": 0, \"datum\": 38, \"style\": {\"opacity\": 0.1}}, {\"mark\": \"t7e2c256bd13a435f9b86cea388a300a5\", \"series\": 0, \"datum\": 39, \"style\": {\"opacity\": 0.1}}, {\"mark\": \"t7e2c256bd13a435f9b86cea388a300a5\", \"series\": 0, \"datum\": 40, \"style\": {\"opacity\": 0.1}}, {\"mark\": \"t7e2c256bd13a435f9b86cea388a300a5\", \"series\": 0, \"datum\": 41, \"style\": {\"opacity\": 0.1}}, {\"mark\": \"t7e2c256bd13a435f9b86cea388a300a5\", \"series\": 0, \"datum\": 42, \"style\": {\"opacity\": 0.1}}, {\"mark\": \"t7e2c256bd13a435f9b86cea388a300a5\", \"series\": 0, \"datum\": 43, \"style\": {\"opacity\": 0.1}}, {\"mark\": \"t7e2c256bd13a435f9b86cea388a300a5\", \"series\": 0, \"datum\": 44, \"style\": {\"opacity\": 0.1}}, {\"mark\": \"t7e2c256bd13a435f9b86cea388a300a5\", \"series\": 0, \"datum\": 45, \"style\": {\"opacity\": 0.1}}, {\"mark\": \"t7e2c256bd13a435f9b86cea388a300a5\", \"series\": 0, \"datum\": 46, \"style\": {\"opacity\": 0.1}}, {\"mark\": \"t7e2c256bd13a435f9b86cea388a300a5\", \"series\": 0, \"datum\": 47, \"style\": {\"opacity\": 0.1}}, {\"mark\": \"t7e2c256bd13a435f9b86cea388a300a5\", \"series\": 0, \"datum\": 48, \"style\": {\"opacity\": 0.1}}, {\"mark\": \"t7e2c256bd13a435f9b86cea388a300a5\", \"series\": 0, \"datum\": 49, \"style\": {\"opacity\": 0.1}}, {\"mark\": \"t7e2c256bd13a435f9b86cea388a300a5\", \"series\": 0, \"datum\": 50, \"style\": {\"opacity\": 0.1}}, {\"mark\": \"t7e2c256bd13a435f9b86cea388a300a5\", \"series\": 0, \"datum\": 51, \"style\": {\"opacity\": 0.1}}, {\"mark\": \"t7e2c256bd13a435f9b86cea388a300a5\", \"series\": 0, \"datum\": 52, \"style\": {\"opacity\": 0.1}}, {\"mark\": \"t7e2c256bd13a435f9b86cea388a300a5\", \"series\": 0, \"datum\": 53, \"style\": {\"opacity\": 0.1}}, {\"mark\": \"t7e2c256bd13a435f9b86cea388a300a5\", \"series\": 0, \"datum\": 54, \"style\": {\"opacity\": 0.1}}, {\"mark\": \"t7e2c256bd13a435f9b86cea388a300a5\", \"series\": 0, \"datum\": 55, \"style\": {\"opacity\": 0.1}}, {\"mark\": \"t7e2c256bd13a435f9b86cea388a300a5\", \"series\": 0, \"datum\": 56, \"style\": {\"opacity\": 0.1}}, {\"mark\": \"t7e2c256bd13a435f9b86cea388a300a5\", \"series\": 0, \"datum\": 57, \"style\": {\"opacity\": 0.1}}, {\"mark\": \"t7e2c256bd13a435f9b86cea388a300a5\", \"series\": 0, \"datum\": 58, \"style\": {\"opacity\": 0.1}}, {\"mark\": \"t7e2c256bd13a435f9b86cea388a300a5\", \"series\": 0, \"datum\": 59, \"style\": {\"opacity\": 0.1}}, {\"mark\": \"t7e2c256bd13a435f9b86cea388a300a5\", \"series\": 0, \"datum\": 60, \"style\": {\"opacity\": 0.1}}, {\"mark\": \"t7e2c256bd13a435f9b86cea388a300a5\", \"series\": 0, \"datum\": 61, \"style\": {\"opacity\": 0.1}}, {\"mark\": \"t7e2c256bd13a435f9b86cea388a300a5\", \"series\": 0, \"datum\": 62, \"style\": {\"opacity\": 0.1}}, {\"mark\": \"t7e2c256bd13a435f9b86cea388a300a5\", \"series\": 0, \"datum\": 63, \"style\": {\"opacity\": 0.1}}, {\"mark\": \"t7e2c256bd13a435f9b86cea388a300a5\", \"series\": 0, \"datum\": 64, \"style\": {\"opacity\": 0.1}}, {\"mark\": \"t7e2c256bd13a435f9b86cea388a300a5\", \"series\": 0, \"datum\": 65, \"style\": {\"opacity\": 0.1}}, {\"mark\": \"t7e2c256bd13a435f9b86cea388a300a5\", \"series\": 0, \"datum\": 66, \"style\": {\"opacity\": 0.1}}, {\"mark\": \"t7e2c256bd13a435f9b86cea388a300a5\", \"series\": 0, \"datum\": 67, \"style\": {\"opacity\": 0.1}}, {\"mark\": \"t7e2c256bd13a435f9b86cea388a300a5\", \"series\": 0, \"datum\": 68, \"style\": {\"opacity\": 0.1}}, {\"mark\": \"t7e2c256bd13a435f9b86cea388a300a5\", \"series\": 0, \"datum\": 69, \"style\": {\"opacity\": 0.1}}, {\"mark\": \"t7e2c256bd13a435f9b86cea388a300a5\", \"series\": 0, \"datum\": 70, \"style\": {\"opacity\": 0.1}}, {\"mark\": \"t7e2c256bd13a435f9b86cea388a300a5\", \"series\": 0, \"datum\": 71, \"style\": {\"opacity\": 0.1}}, {\"mark\": \"t7e2c256bd13a435f9b86cea388a300a5\", \"series\": 0, \"datum\": 72, \"style\": {\"opacity\": 0.1}}, {\"mark\": \"t7e2c256bd13a435f9b86cea388a300a5\", \"series\": 0, \"datum\": 73, \"style\": {\"opacity\": 0.1}}, {\"mark\": \"t7e2c256bd13a435f9b86cea388a300a5\", \"series\": 0, \"datum\": 74, \"style\": {\"opacity\": 0.1}}, {\"mark\": \"t7e2c256bd13a435f9b86cea388a300a5\", \"series\": 0, \"datum\": 75, \"style\": {\"opacity\": 0.1}}, {\"mark\": \"t7e2c256bd13a435f9b86cea388a300a5\", \"series\": 0, \"datum\": 76, \"style\": {\"opacity\": 0.1}}, {\"mark\": \"t7e2c256bd13a435f9b86cea388a300a5\", \"series\": 0, \"datum\": 77, \"style\": {\"opacity\": 0.1}}, {\"mark\": \"t7e2c256bd13a435f9b86cea388a300a5\", \"series\": 0, \"datum\": 78, \"style\": {\"opacity\": 0.1}}, {\"mark\": \"t7e2c256bd13a435f9b86cea388a300a5\", \"series\": 0, \"datum\": 79, \"style\": {\"opacity\": 0.1}}, {\"mark\": \"t7e2c256bd13a435f9b86cea388a300a5\", \"series\": 0, \"datum\": 80, \"style\": {\"opacity\": 0.1}}, {\"mark\": \"t7e2c256bd13a435f9b86cea388a300a5\", \"series\": 0, \"datum\": 81, \"style\": {\"opacity\": 0.1}}, {\"mark\": \"t7e2c256bd13a435f9b86cea388a300a5\", \"series\": 0, \"datum\": 82, \"style\": {\"opacity\": 0.1}}, {\"mark\": \"t7e2c256bd13a435f9b86cea388a300a5\", \"series\": 0, \"datum\": 83, \"style\": {\"opacity\": 0.1}}, {\"mark\": \"t7e2c256bd13a435f9b86cea388a300a5\", \"series\": 0, \"datum\": 84, \"style\": {\"opacity\": 0.1}}, {\"mark\": \"t7e2c256bd13a435f9b86cea388a300a5\", \"series\": 0, \"datum\": 85, \"style\": {\"opacity\": 0.1}}, {\"mark\": \"t7e2c256bd13a435f9b86cea388a300a5\", \"series\": 0, \"datum\": 86, \"style\": {\"opacity\": 0.1}}, {\"mark\": \"t7e2c256bd13a435f9b86cea388a300a5\", \"series\": 0, \"datum\": 87, \"style\": {\"opacity\": 0.1}}, {\"mark\": \"t7e2c256bd13a435f9b86cea388a300a5\", \"series\": 0, \"datum\": 88, \"style\": {\"opacity\": 0.1}}, {\"mark\": \"t7e2c256bd13a435f9b86cea388a300a5\", \"series\": 0, \"datum\": 89, \"style\": {\"opacity\": 0.1}}, {\"mark\": \"t7e2c256bd13a435f9b86cea388a300a5\", \"series\": 0, \"datum\": 90, \"style\": {\"opacity\": 0.1}}, {\"mark\": \"t7e2c256bd13a435f9b86cea388a300a5\", \"series\": 0, \"datum\": 91, \"style\": {\"opacity\": 0.1}}, {\"mark\": \"t7e2c256bd13a435f9b86cea388a300a5\", \"series\": 0, \"datum\": 92, \"style\": {\"opacity\": 0.1}}, {\"mark\": \"t7e2c256bd13a435f9b86cea388a300a5\", \"series\": 0, \"datum\": 93, \"style\": {\"opacity\": 0.1}}, {\"mark\": \"t7e2c256bd13a435f9b86cea388a300a5\", \"series\": 0, \"datum\": 94, \"style\": {\"opacity\": 0.1}}, {\"mark\": \"t7e2c256bd13a435f9b86cea388a300a5\", \"series\": 0, \"datum\": 95, \"style\": {\"opacity\": 0.1}}, {\"mark\": \"t7e2c256bd13a435f9b86cea388a300a5\", \"series\": 0, \"datum\": 96, \"style\": {\"opacity\": 0.1}}, {\"mark\": \"t7e2c256bd13a435f9b86cea388a300a5\", \"series\": 0, \"datum\": 97, \"style\": {\"opacity\": 0.1}}, {\"mark\": \"t7e2c256bd13a435f9b86cea388a300a5\", \"series\": 0, \"datum\": 98, \"style\": {\"opacity\": 0.1}}, {\"mark\": \"t7e2c256bd13a435f9b86cea388a300a5\", \"series\": 0, \"datum\": 99, \"style\": {\"opacity\": 0.1}}]}, {\"set-datum-style\": [{\"mark\": \"t7e2c256bd13a435f9b86cea388a300a5\", \"series\": 0, \"datum\": 0, \"style\": {\"opacity\": 1.0}}]}, {\"set-datum-style\": [{\"mark\": \"t7e2c256bd13a435f9b86cea388a300a5\", \"series\": 0, \"datum\": 1, \"style\": {\"opacity\": 1.0}}]}, {\"set-datum-style\": [{\"mark\": \"t7e2c256bd13a435f9b86cea388a300a5\", \"series\": 0, \"datum\": 2, \"style\": {\"opacity\": 1.0}}]}, {\"set-datum-style\": [{\"mark\": \"t7e2c256bd13a435f9b86cea388a300a5\", \"series\": 0, \"datum\": 3, \"style\": {\"opacity\": 1.0}}]}, {\"set-datum-style\": [{\"mark\": \"t7e2c256bd13a435f9b86cea388a300a5\", \"series\": 0, \"datum\": 4, \"style\": {\"opacity\": 1.0}}]}, {\"set-datum-style\": [{\"mark\": \"t7e2c256bd13a435f9b86cea388a300a5\", \"series\": 0, \"datum\": 5, \"style\": {\"opacity\": 1.0}}]}, {\"set-datum-style\": [{\"mark\": \"t7e2c256bd13a435f9b86cea388a300a5\", \"series\": 0, \"datum\": 6, \"style\": {\"opacity\": 1.0}}]}, {\"set-datum-style\": [{\"mark\": \"t7e2c256bd13a435f9b86cea388a300a5\", \"series\": 0, \"datum\": 7, \"style\": {\"opacity\": 1.0}}]}, {\"set-datum-style\": [{\"mark\": \"t7e2c256bd13a435f9b86cea388a300a5\", \"series\": 0, \"datum\": 8, \"style\": {\"opacity\": 1.0}}]}, {\"set-datum-style\": [{\"mark\": \"t7e2c256bd13a435f9b86cea388a300a5\", \"series\": 0, \"datum\": 9, \"style\": {\"opacity\": 1.0}}]}, {\"set-datum-style\": [{\"mark\": \"t7e2c256bd13a435f9b86cea388a300a5\", \"series\": 0, \"datum\": 10, \"style\": {\"opacity\": 1.0}}]}, {\"set-datum-style\": [{\"mark\": \"t7e2c256bd13a435f9b86cea388a300a5\", \"series\": 0, \"datum\": 11, \"style\": {\"opacity\": 1.0}}]}, {\"set-datum-style\": [{\"mark\": \"t7e2c256bd13a435f9b86cea388a300a5\", \"series\": 0, \"datum\": 12, \"style\": {\"opacity\": 1.0}}]}, {\"set-datum-style\": [{\"mark\": \"t7e2c256bd13a435f9b86cea388a300a5\", \"series\": 0, \"datum\": 13, \"style\": {\"opacity\": 1.0}}]}, {\"set-datum-style\": [{\"mark\": \"t7e2c256bd13a435f9b86cea388a300a5\", \"series\": 0, \"datum\": 14, \"style\": {\"opacity\": 1.0}}]}, {\"set-datum-style\": [{\"mark\": \"t7e2c256bd13a435f9b86cea388a300a5\", \"series\": 0, \"datum\": 15, \"style\": {\"opacity\": 1.0}}]}, {\"set-datum-style\": [{\"mark\": \"t7e2c256bd13a435f9b86cea388a300a5\", \"series\": 0, \"datum\": 16, \"style\": {\"opacity\": 1.0}}]}, {\"set-datum-style\": [{\"mark\": \"t7e2c256bd13a435f9b86cea388a300a5\", \"series\": 0, \"datum\": 17, \"style\": {\"opacity\": 1.0}}]}, {\"set-datum-style\": [{\"mark\": \"t7e2c256bd13a435f9b86cea388a300a5\", \"series\": 0, \"datum\": 18, \"style\": {\"opacity\": 1.0}}]}, {\"set-datum-style\": [{\"mark\": \"t7e2c256bd13a435f9b86cea388a300a5\", \"series\": 0, \"datum\": 19, \"style\": {\"opacity\": 1.0}}]}, {\"set-datum-style\": [{\"mark\": \"t7e2c256bd13a435f9b86cea388a300a5\", \"series\": 0, \"datum\": 20, \"style\": {\"opacity\": 1.0}}]}, {\"set-datum-style\": [{\"mark\": \"t7e2c256bd13a435f9b86cea388a300a5\", \"series\": 0, \"datum\": 21, \"style\": {\"opacity\": 1.0}}]}, {\"set-datum-style\": [{\"mark\": \"t7e2c256bd13a435f9b86cea388a300a5\", \"series\": 0, \"datum\": 22, \"style\": {\"opacity\": 1.0}}]}, {\"set-datum-style\": [{\"mark\": \"t7e2c256bd13a435f9b86cea388a300a5\", \"series\": 0, \"datum\": 23, \"style\": {\"opacity\": 1.0}}]}, {\"set-datum-style\": [{\"mark\": \"t7e2c256bd13a435f9b86cea388a300a5\", \"series\": 0, \"datum\": 24, \"style\": {\"opacity\": 1.0}}]}, {\"set-datum-style\": [{\"mark\": \"t7e2c256bd13a435f9b86cea388a300a5\", \"series\": 0, \"datum\": 25, \"style\": {\"opacity\": 1.0}}]}, {\"set-datum-style\": [{\"mark\": \"t7e2c256bd13a435f9b86cea388a300a5\", \"series\": 0, \"datum\": 26, \"style\": {\"opacity\": 1.0}}]}, {\"set-datum-style\": [{\"mark\": \"t7e2c256bd13a435f9b86cea388a300a5\", \"series\": 0, \"datum\": 27, \"style\": {\"opacity\": 1.0}}]}, {\"set-datum-style\": [{\"mark\": \"t7e2c256bd13a435f9b86cea388a300a5\", \"series\": 0, \"datum\": 28, \"style\": {\"opacity\": 1.0}}]}, {\"set-datum-style\": [{\"mark\": \"t7e2c256bd13a435f9b86cea388a300a5\", \"series\": 0, \"datum\": 29, \"style\": {\"opacity\": 1.0}}]}, {\"set-datum-style\": [{\"mark\": \"t7e2c256bd13a435f9b86cea388a300a5\", \"series\": 0, \"datum\": 30, \"style\": {\"opacity\": 1.0}}]}, {\"set-datum-style\": [{\"mark\": \"t7e2c256bd13a435f9b86cea388a300a5\", \"series\": 0, \"datum\": 31, \"style\": {\"opacity\": 1.0}}]}, {\"set-datum-style\": [{\"mark\": \"t7e2c256bd13a435f9b86cea388a300a5\", \"series\": 0, \"datum\": 32, \"style\": {\"opacity\": 1.0}}]}, {\"set-datum-style\": [{\"mark\": \"t7e2c256bd13a435f9b86cea388a300a5\", \"series\": 0, \"datum\": 33, \"style\": {\"opacity\": 1.0}}]}, {\"set-datum-style\": [{\"mark\": \"t7e2c256bd13a435f9b86cea388a300a5\", \"series\": 0, \"datum\": 34, \"style\": {\"opacity\": 1.0}}]}, {\"set-datum-style\": [{\"mark\": \"t7e2c256bd13a435f9b86cea388a300a5\", \"series\": 0, \"datum\": 35, \"style\": {\"opacity\": 1.0}}]}, {\"set-datum-style\": [{\"mark\": \"t7e2c256bd13a435f9b86cea388a300a5\", \"series\": 0, \"datum\": 36, \"style\": {\"opacity\": 1.0}}]}, {\"set-datum-style\": [{\"mark\": \"t7e2c256bd13a435f9b86cea388a300a5\", \"series\": 0, \"datum\": 37, \"style\": {\"opacity\": 1.0}}]}, {\"set-datum-style\": [{\"mark\": \"t7e2c256bd13a435f9b86cea388a300a5\", \"series\": 0, \"datum\": 38, \"style\": {\"opacity\": 1.0}}]}, {\"set-datum-style\": [{\"mark\": \"t7e2c256bd13a435f9b86cea388a300a5\", \"series\": 0, \"datum\": 39, \"style\": {\"opacity\": 1.0}}]}, {\"set-datum-style\": [{\"mark\": \"t7e2c256bd13a435f9b86cea388a300a5\", \"series\": 0, \"datum\": 40, \"style\": {\"opacity\": 1.0}}]}, {\"set-datum-style\": [{\"mark\": \"t7e2c256bd13a435f9b86cea388a300a5\", \"series\": 0, \"datum\": 41, \"style\": {\"opacity\": 1.0}}]}, {\"set-datum-style\": [{\"mark\": \"t7e2c256bd13a435f9b86cea388a300a5\", \"series\": 0, \"datum\": 42, \"style\": {\"opacity\": 1.0}}]}, {\"set-datum-style\": [{\"mark\": \"t7e2c256bd13a435f9b86cea388a300a5\", \"series\": 0, \"datum\": 43, \"style\": {\"opacity\": 1.0}}]}, {\"set-datum-style\": [{\"mark\": \"t7e2c256bd13a435f9b86cea388a300a5\", \"series\": 0, \"datum\": 44, \"style\": {\"opacity\": 1.0}}]}, {\"set-datum-style\": [{\"mark\": \"t7e2c256bd13a435f9b86cea388a300a5\", \"series\": 0, \"datum\": 45, \"style\": {\"opacity\": 1.0}}]}, {\"set-datum-style\": [{\"mark\": \"t7e2c256bd13a435f9b86cea388a300a5\", \"series\": 0, \"datum\": 46, \"style\": {\"opacity\": 1.0}}]}, {\"set-datum-style\": [{\"mark\": \"t7e2c256bd13a435f9b86cea388a300a5\", \"series\": 0, \"datum\": 47, \"style\": {\"opacity\": 1.0}}]}, {\"set-datum-style\": [{\"mark\": \"t7e2c256bd13a435f9b86cea388a300a5\", \"series\": 0, \"datum\": 48, \"style\": {\"opacity\": 1.0}}]}, {\"set-datum-style\": [{\"mark\": \"t7e2c256bd13a435f9b86cea388a300a5\", \"series\": 0, \"datum\": 49, \"style\": {\"opacity\": 1.0}}]}, {\"set-datum-style\": [{\"mark\": \"t7e2c256bd13a435f9b86cea388a300a5\", \"series\": 0, \"datum\": 50, \"style\": {\"opacity\": 1.0}}]}, {\"set-datum-style\": [{\"mark\": \"t7e2c256bd13a435f9b86cea388a300a5\", \"series\": 0, \"datum\": 51, \"style\": {\"opacity\": 1.0}}]}, {\"set-datum-style\": [{\"mark\": \"t7e2c256bd13a435f9b86cea388a300a5\", \"series\": 0, \"datum\": 52, \"style\": {\"opacity\": 1.0}}]}, {\"set-datum-style\": [{\"mark\": \"t7e2c256bd13a435f9b86cea388a300a5\", \"series\": 0, \"datum\": 53, \"style\": {\"opacity\": 1.0}}]}, {\"set-datum-style\": [{\"mark\": \"t7e2c256bd13a435f9b86cea388a300a5\", \"series\": 0, \"datum\": 54, \"style\": {\"opacity\": 1.0}}]}, {\"set-datum-style\": [{\"mark\": \"t7e2c256bd13a435f9b86cea388a300a5\", \"series\": 0, \"datum\": 55, \"style\": {\"opacity\": 1.0}}]}, {\"set-datum-style\": [{\"mark\": \"t7e2c256bd13a435f9b86cea388a300a5\", \"series\": 0, \"datum\": 56, \"style\": {\"opacity\": 1.0}}]}, {\"set-datum-style\": [{\"mark\": \"t7e2c256bd13a435f9b86cea388a300a5\", \"series\": 0, \"datum\": 57, \"style\": {\"opacity\": 1.0}}]}, {\"set-datum-style\": [{\"mark\": \"t7e2c256bd13a435f9b86cea388a300a5\", \"series\": 0, \"datum\": 58, \"style\": {\"opacity\": 1.0}}]}, {\"set-datum-style\": [{\"mark\": \"t7e2c256bd13a435f9b86cea388a300a5\", \"series\": 0, \"datum\": 59, \"style\": {\"opacity\": 1.0}}]}, {\"set-datum-style\": [{\"mark\": \"t7e2c256bd13a435f9b86cea388a300a5\", \"series\": 0, \"datum\": 60, \"style\": {\"opacity\": 1.0}}]}, {\"set-datum-style\": [{\"mark\": \"t7e2c256bd13a435f9b86cea388a300a5\", \"series\": 0, \"datum\": 61, \"style\": {\"opacity\": 1.0}}]}, {\"set-datum-style\": [{\"mark\": \"t7e2c256bd13a435f9b86cea388a300a5\", \"series\": 0, \"datum\": 62, \"style\": {\"opacity\": 1.0}}]}, {\"set-datum-style\": [{\"mark\": \"t7e2c256bd13a435f9b86cea388a300a5\", \"series\": 0, \"datum\": 63, \"style\": {\"opacity\": 1.0}}]}, {\"set-datum-style\": [{\"mark\": \"t7e2c256bd13a435f9b86cea388a300a5\", \"series\": 0, \"datum\": 64, \"style\": {\"opacity\": 1.0}}]}, {\"set-datum-style\": [{\"mark\": \"t7e2c256bd13a435f9b86cea388a300a5\", \"series\": 0, \"datum\": 65, \"style\": {\"opacity\": 1.0}}]}, {\"set-datum-style\": [{\"mark\": \"t7e2c256bd13a435f9b86cea388a300a5\", \"series\": 0, \"datum\": 66, \"style\": {\"opacity\": 1.0}}]}, {\"set-datum-style\": [{\"mark\": \"t7e2c256bd13a435f9b86cea388a300a5\", \"series\": 0, \"datum\": 67, \"style\": {\"opacity\": 1.0}}]}, {\"set-datum-style\": [{\"mark\": \"t7e2c256bd13a435f9b86cea388a300a5\", \"series\": 0, \"datum\": 68, \"style\": {\"opacity\": 1.0}}]}, {\"set-datum-style\": [{\"mark\": \"t7e2c256bd13a435f9b86cea388a300a5\", \"series\": 0, \"datum\": 69, \"style\": {\"opacity\": 1.0}}]}, {\"set-datum-style\": [{\"mark\": \"t7e2c256bd13a435f9b86cea388a300a5\", \"series\": 0, \"datum\": 70, \"style\": {\"opacity\": 1.0}}]}, {\"set-datum-style\": [{\"mark\": \"t7e2c256bd13a435f9b86cea388a300a5\", \"series\": 0, \"datum\": 71, \"style\": {\"opacity\": 1.0}}]}, {\"set-datum-style\": [{\"mark\": \"t7e2c256bd13a435f9b86cea388a300a5\", \"series\": 0, \"datum\": 72, \"style\": {\"opacity\": 1.0}}]}, {\"set-datum-style\": [{\"mark\": \"t7e2c256bd13a435f9b86cea388a300a5\", \"series\": 0, \"datum\": 73, \"style\": {\"opacity\": 1.0}}]}, {\"set-datum-style\": [{\"mark\": \"t7e2c256bd13a435f9b86cea388a300a5\", \"series\": 0, \"datum\": 74, \"style\": {\"opacity\": 1.0}}]}, {\"set-datum-style\": [{\"mark\": \"t7e2c256bd13a435f9b86cea388a300a5\", \"series\": 0, \"datum\": 75, \"style\": {\"opacity\": 1.0}}]}, {\"set-datum-style\": [{\"mark\": \"t7e2c256bd13a435f9b86cea388a300a5\", \"series\": 0, \"datum\": 76, \"style\": {\"opacity\": 1.0}}]}, {\"set-datum-style\": [{\"mark\": \"t7e2c256bd13a435f9b86cea388a300a5\", \"series\": 0, \"datum\": 77, \"style\": {\"opacity\": 1.0}}]}, {\"set-datum-style\": [{\"mark\": \"t7e2c256bd13a435f9b86cea388a300a5\", \"series\": 0, \"datum\": 78, \"style\": {\"opacity\": 1.0}}]}, {\"set-datum-style\": [{\"mark\": \"t7e2c256bd13a435f9b86cea388a300a5\", \"series\": 0, \"datum\": 79, \"style\": {\"opacity\": 1.0}}]}, {\"set-datum-style\": [{\"mark\": \"t7e2c256bd13a435f9b86cea388a300a5\", \"series\": 0, \"datum\": 80, \"style\": {\"opacity\": 1.0}}]}, {\"set-datum-style\": [{\"mark\": \"t7e2c256bd13a435f9b86cea388a300a5\", \"series\": 0, \"datum\": 81, \"style\": {\"opacity\": 1.0}}]}, {\"set-datum-style\": [{\"mark\": \"t7e2c256bd13a435f9b86cea388a300a5\", \"series\": 0, \"datum\": 82, \"style\": {\"opacity\": 1.0}}]}, {\"set-datum-style\": [{\"mark\": \"t7e2c256bd13a435f9b86cea388a300a5\", \"series\": 0, \"datum\": 83, \"style\": {\"opacity\": 1.0}}]}, {\"set-datum-style\": [{\"mark\": \"t7e2c256bd13a435f9b86cea388a300a5\", \"series\": 0, \"datum\": 84, \"style\": {\"opacity\": 1.0}}]}, {\"set-datum-style\": [{\"mark\": \"t7e2c256bd13a435f9b86cea388a300a5\", \"series\": 0, \"datum\": 85, \"style\": {\"opacity\": 1.0}}]}, {\"set-datum-style\": [{\"mark\": \"t7e2c256bd13a435f9b86cea388a300a5\", \"series\": 0, \"datum\": 86, \"style\": {\"opacity\": 1.0}}]}, {\"set-datum-style\": [{\"mark\": \"t7e2c256bd13a435f9b86cea388a300a5\", \"series\": 0, \"datum\": 87, \"style\": {\"opacity\": 1.0}}]}, {\"set-datum-style\": [{\"mark\": \"t7e2c256bd13a435f9b86cea388a300a5\", \"series\": 0, \"datum\": 88, \"style\": {\"opacity\": 1.0}}]}, {\"set-datum-style\": [{\"mark\": \"t7e2c256bd13a435f9b86cea388a300a5\", \"series\": 0, \"datum\": 89, \"style\": {\"opacity\": 1.0}}]}, {\"set-datum-style\": [{\"mark\": \"t7e2c256bd13a435f9b86cea388a300a5\", \"series\": 0, \"datum\": 90, \"style\": {\"opacity\": 1.0}}]}, {\"set-datum-style\": [{\"mark\": \"t7e2c256bd13a435f9b86cea388a300a5\", \"series\": 0, \"datum\": 91, \"style\": {\"opacity\": 1.0}}]}, {\"set-datum-style\": [{\"mark\": \"t7e2c256bd13a435f9b86cea388a300a5\", \"series\": 0, \"datum\": 92, \"style\": {\"opacity\": 1.0}}]}, {\"set-datum-style\": [{\"mark\": \"t7e2c256bd13a435f9b86cea388a300a5\", \"series\": 0, \"datum\": 93, \"style\": {\"opacity\": 1.0}}]}, {\"set-datum-style\": [{\"mark\": \"t7e2c256bd13a435f9b86cea388a300a5\", \"series\": 0, \"datum\": 94, \"style\": {\"opacity\": 1.0}}]}, {\"set-datum-style\": [{\"mark\": \"t7e2c256bd13a435f9b86cea388a300a5\", \"series\": 0, \"datum\": 95, \"style\": {\"opacity\": 1.0}}]}, {\"set-datum-style\": [{\"mark\": \"t7e2c256bd13a435f9b86cea388a300a5\", \"series\": 0, \"datum\": 96, \"style\": {\"opacity\": 1.0}}]}, {\"set-datum-style\": [{\"mark\": \"t7e2c256bd13a435f9b86cea388a300a5\", \"series\": 0, \"datum\": 97, \"style\": {\"opacity\": 1.0}}]}, {\"set-datum-style\": [{\"mark\": \"t7e2c256bd13a435f9b86cea388a300a5\", \"series\": 0, \"datum\": 98, \"style\": {\"opacity\": 1.0}}]}, {\"set-datum-style\": [{\"mark\": \"t7e2c256bd13a435f9b86cea388a300a5\", \"series\": 0, \"datum\": 99, \"style\": {\"opacity\": 1.0}}]}];\n",
       "\n",
       "            var current_frame = null;\n",
       "            var timeout = null;\n",
       "\n",
       "            function set_timeout(value)\n",
       "            {\n",
       "                if(timeout !== null)\n",
       "                    window.clearTimeout(timeout);\n",
       "                timeout = value;\n",
       "            }\n",
       "\n",
       "            function set_current_frame(frame)\n",
       "            {\n",
       "                current_frame = frame;\n",
       "                document.querySelector(\"#\" + root_id + \" .toyplot-current-frame\").value = frame;\n",
       "            }\n",
       "\n",
       "            function play_reverse()\n",
       "            {\n",
       "                set_current_frame((current_frame - 1 + frame_durations.length) % frame_durations.length);\n",
       "                render_changes(0, current_frame+1)\n",
       "                set_timeout(window.setTimeout(play_reverse, frame_durations[(current_frame - 1 + frame_durations.length) % frame_durations.length] * 1000));\n",
       "            }\n",
       "\n",
       "            function play_forward()\n",
       "            {\n",
       "                set_current_frame((current_frame + 1) % frame_durations.length);\n",
       "                render_changes(current_frame, current_frame+1);\n",
       "                set_timeout(window.setTimeout(play_forward, frame_durations[current_frame] * 1000));\n",
       "            }\n",
       "\n",
       "            var item_cache = {};\n",
       "            function get_item(id)\n",
       "            {\n",
       "                if(!(id in item_cache))\n",
       "                    item_cache[id] = document.getElementById(id);\n",
       "                return item_cache[id];\n",
       "            }\n",
       "\n",
       "            function render_changes(begin, end)\n",
       "            {\n",
       "                for(var frame = begin; frame != end; ++frame)\n",
       "                {\n",
       "                    var changes = state_changes[frame];\n",
       "                    for(var type in changes)\n",
       "                    {\n",
       "                        var states = changes[type]\n",
       "                        if(type == \"set-mark-style\")\n",
       "                        {\n",
       "                            for(var i = 0; i != states.length; ++i)\n",
       "                            {\n",
       "                                var state = states[i];\n",
       "                                var mark = get_item(state.mark);\n",
       "                                for(var key in state.style)\n",
       "                                {\n",
       "                                    mark.style.setProperty(key, state[1][key]);\n",
       "                                }\n",
       "                            }\n",
       "                        }\n",
       "                        else if(type == \"set-datum-style\")\n",
       "                        {\n",
       "                            for(var i = 0; i != states.length; ++i)\n",
       "                            {\n",
       "                                var state = states[i];\n",
       "                                var datum = get_item(state.mark).querySelectorAll(\".toyplot-Series\")[state.series].querySelectorAll(\".toyplot-Datum\")[state.datum];\n",
       "                                for(var key in state.style)\n",
       "                                {\n",
       "                                    datum.style.setProperty(key, state.style[key]);\n",
       "                                }\n",
       "                            }\n",
       "                        }\n",
       "                        else if(type == \"set-datum-text\")\n",
       "                        {\n",
       "                            for(var i = 0; i != states.length; ++i)\n",
       "                            {\n",
       "                                var state = states[i];\n",
       "                                var datum = get_item(state.mark).querySelectorAll(\".toyplot-Series\")[state.series].querySelectorAll(\".toyplot-Datum\")[state.datum];\n",
       "                                var layout = document.createElementNS(\"http://www.w3.org/2000/svg\", \"g\");\n",
       "                                layout.innerHTML = state.layout;\n",
       "                                layout = layout.firstChild;\n",
       "\n",
       "                                while(datum.firstElementChild)\n",
       "                                    datum.removeChild(datum.firstElementChild);\n",
       "                                while(layout.firstElementChild)\n",
       "                                    datum.appendChild(layout.removeChild(layout.firstElementChild));\n",
       "                            }\n",
       "                        }\n",
       "                    }\n",
       "                }\n",
       "            }\n",
       "\n",
       "            function on_set_frame()\n",
       "            {\n",
       "            set_timeout(null);\n",
       "            set_current_frame(document.querySelector(\"#\" + root_id + \" .toyplot-current-frame\").valueAsNumber);\n",
       "            render_changes(0, current_frame+1);\n",
       "            }\n",
       "\n",
       "            function on_frame_rewind()\n",
       "            {\n",
       "            set_timeout(null);\n",
       "            set_current_frame((current_frame - 1 + frame_durations.length) % frame_durations.length);\n",
       "            render_changes(0, current_frame+1);\n",
       "            }\n",
       "\n",
       "            function on_rewind()\n",
       "            {\n",
       "            set_current_frame(0);\n",
       "            render_changes(0, current_frame+1);\n",
       "            }\n",
       "\n",
       "            function on_play_reverse()\n",
       "            {\n",
       "            set_timeout(window.setTimeout(play_reverse, frame_durations[(current_frame - 1 + frame_durations.length) % frame_durations.length] * 1000));\n",
       "            }\n",
       "\n",
       "            function on_stop()\n",
       "            {\n",
       "            set_timeout(null);\n",
       "            }\n",
       "\n",
       "            function on_play_forward()\n",
       "            {\n",
       "            set_timeout(window.setTimeout(play_forward, frame_durations[current_frame] * 1000));\n",
       "            }\n",
       "\n",
       "            function on_fast_forward()\n",
       "            {\n",
       "            set_timeout(null);\n",
       "            set_current_frame(frame_durations.length - 1);\n",
       "            render_changes(0, current_frame + 1)\n",
       "            }\n",
       "\n",
       "            function on_frame_advance()\n",
       "            {\n",
       "            set_timeout(null);\n",
       "            set_current_frame((current_frame + 1) % frame_durations.length);\n",
       "            render_changes(current_frame, current_frame+1);\n",
       "            }\n",
       "\n",
       "            set_current_frame(0);\n",
       "            render_changes(0, current_frame+1);\n",
       "\n",
       "            document.querySelector(\"#\" + root_id + \" .toyplot-current-frame\").oninput = on_set_frame;\n",
       "            document.querySelector(\"#\" + root_id + \" .toyplot-rewind\").onclick = on_rewind;\n",
       "            document.querySelector(\"#\" + root_id + \" .toyplot-reverse-play\").onclick = on_play_reverse;\n",
       "            document.querySelector(\"#\" + root_id + \" .toyplot-frame-rewind\").onclick = on_frame_rewind;\n",
       "            document.querySelector(\"#\" + root_id + \" .toyplot-stop\").onclick = on_stop;\n",
       "            document.querySelector(\"#\" + root_id + \" .toyplot-frame-advance\").onclick = on_frame_advance;\n",
       "            document.querySelector(\"#\" + root_id + \" .toyplot-forward-play\").onclick = on_play_forward;\n",
       "            document.querySelector(\"#\" + root_id + \" .toyplot-fast-forward\").onclick = on_fast_forward;\n",
       "        })();\n",
       "        </script></div></div>"
      ]
     },
     "metadata": {},
     "output_type": "display_data"
    }
   ],
   "source": [
    "import numpy\n",
    "\n",
    "x = numpy.random.normal(size=100)\n",
    "y = numpy.random.normal(size=len(x))\n",
    "\n",
    "canvas = toyplot.Canvas(300, 300)\n",
    "axes = canvas.cartesian()\n",
    "mark = axes.scatterplot(x, y, size=10)\n",
    "\n",
    "for frame in canvas.frames(len(x) + 1):\n",
    "    if frame.number == 0:\n",
    "        for i in range(len(x)):\n",
    "            frame.set_datum_style(mark, 0, i, style={\"opacity\":0.1})\n",
    "    else:\n",
    "        frame.set_datum_style(mark, 0, frame.number - 1, style={\"opacity\":1.0})"
   ]
  },
  {
   "cell_type": "code",
   "execution_count": 313,
   "id": "9bbf8560",
   "metadata": {},
   "outputs": [],
   "source": [
    "def inorder(root):\n",
    "    if root.children:\n",
    "        # Traverse left\n",
    "        inorder(root.children[0])\n",
    "        # Traverse root\n",
    "        yield root\n",
    "        print(str(root) + \"->\", end='')\n",
    "        # Traverse right\n",
    "        inorder(root.children[1])\n",
    "    else:\n",
    "        yield root"
   ]
  },
  {
   "cell_type": "code",
   "execution_count": 314,
   "id": "8f36033f",
   "metadata": {},
   "outputs": [
    {
     "name": "stdout",
     "output_type": "stream",
     "text": [
      "Node(root)->"
     ]
    },
    {
     "data": {
      "text/plain": [
       "[Node(root)]"
      ]
     },
     "execution_count": 314,
     "metadata": {},
     "output_type": "execute_result"
    }
   ],
   "source": [
    "list(inorder(root))"
   ]
  },
  {
   "cell_type": "code",
   "execution_count": null,
   "id": "b95f76b6",
   "metadata": {},
   "outputs": [],
   "source": []
  },
  {
   "cell_type": "code",
   "execution_count": 87,
   "id": "7b43a2d3",
   "metadata": {},
   "outputs": [
    {
     "data": {
      "text/plain": [
       "12"
      ]
     },
     "execution_count": 87,
     "metadata": {},
     "output_type": "execute_result"
    }
   ],
   "source": [
    "def count(node):\n",
    "    ntips = 0\n",
    "    if node.children:\n",
    "        for child in node.children:\n",
    "            ntips += count(child)\n",
    "    else:\n",
    "        return 1\n",
    "    return ntips\n",
    "    \n",
    "count(root)"
   ]
  },
  {
   "cell_type": "code",
   "execution_count": 66,
   "id": "1e557dad",
   "metadata": {},
   "outputs": [
    {
     "data": {
      "text/plain": [
       "[0, 2, 4, 6, 8]"
      ]
     },
     "execution_count": 66,
     "metadata": {},
     "output_type": "execute_result"
    }
   ],
   "source": [
    "list(range(0, 10, 2))"
   ]
  },
  {
   "cell_type": "code",
   "execution_count": 17,
   "id": "9d865369",
   "metadata": {},
   "outputs": [
    {
     "name": "stdout",
     "output_type": "stream",
     "text": [
      "Node(root)\n"
     ]
    }
   ],
   "source": [
    "root = get_ladder_tree(9)\n",
    "print(root)"
   ]
  },
  {
   "cell_type": "code",
   "execution_count": 15,
   "id": "c6a9f5b2",
   "metadata": {},
   "outputs": [
    {
     "data": {
      "text/plain": [
       "39"
      ]
     },
     "execution_count": 15,
     "metadata": {},
     "output_type": "execute_result"
    }
   ],
   "source": [
    "import toytree\n",
    "toytree.rtree.unittree(20).nnodes"
   ]
  }
 ],
 "metadata": {
  "kernelspec": {
   "display_name": "Python 3 (ipykernel)",
   "language": "python",
   "name": "python3"
  },
  "language_info": {
   "codemirror_mode": {
    "name": "ipython",
    "version": 3
   },
   "file_extension": ".py",
   "mimetype": "text/x-python",
   "name": "python",
   "nbconvert_exporter": "python",
   "pygments_lexer": "ipython3",
   "version": "3.9.7"
  }
 },
 "nbformat": 4,
 "nbformat_minor": 5
}
