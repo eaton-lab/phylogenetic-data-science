{
 "cells": [
  {
   "cell_type": "markdown",
   "metadata": {},
   "source": [
    "# Tree thinking: interpreting phylogenetic trees\n",
    "\n",
    "\n",
    "## Learning objectives:\n",
    "\n",
    "By the end of this notebook you will be able to:\n",
    "\n",
    "1. Interpret relationships on a phylogenetic tree. \n",
    "2. Understand rooting and re-rooting of phylogenetic trees.\n",
    "3. Recognize the newick format for storing tree data. \n",
    "4. Be familiar with `toytree` syntax for referencing Nodes and finding common ancestors."
   ]
  },
  {
   "cell_type": "markdown",
   "metadata": {},
   "source": [
    "## Understanding evolution\n",
    "The term *tree thinking* was coined by the philosopher of science Robert O'Hara [^1] as a way of thinking about \n",
    "\n",
    "an alternative to *population thinking* in the context of \n",
    "\n",
    "by Baum, Smith, and Donovan [^1], and elaborated by Baum and Offner [^2], and Baum and Smith [^3], as a conceptual framework for teaching and studying evolution. It harkens to Darwin's description of evolution by natural selection as a process of \"descent with modification\" [^4] by highlighting the importance of the \"tree-like\" structure of the evolutionary process -- tracing descendants back to their common ancestor -- as a way to communicate and understand evolution."
   ]
  },
  {
   "cell_type": "code",
   "execution_count": null,
   "metadata": {},
   "outputs": [],
   "source": [
    "## Evolution on trees\n",
    "The philosopher of science O'Hara stated *\"It is impossible to really\n",
    "understand evolution without an ability to accurately interpret \n",
    "phylogenetic trees* [^5]\", and that *\"evolution itself is a theory of \n",
    "evolutionary trees\".*"
   ]
  },
  {
   "cell_type": "code",
   "execution_count": null,
   "metadata": {},
   "outputs": [],
   "source": []
  },
  {
   "cell_type": "markdown",
   "metadata": {},
   "source": [
    "### Why is phylogeny important?\n",
    "\n",
    "Your assigned reading quotes a philosopher of science who stated \"It is impossible to really understand evolution without an ability to accurately interpret phylogenetic trees (O'Hara 1988, 1997)\", and that \"evolution itself is a theory of evolutionary trees\". In biology generally, and in this class already, you have seen many examples of phylogenetic trees. But what does a phylogenetic tree represent? And why is it important to understand? There are actually a few common pitfalls that people fall into when reading phylogenetic trees without having spent serious time considering their meaning. Recognizing these mistakes will make you a better biologist. We'll cover some of these pitfalls in this notebook."
   ]
  },
  {
   "cell_type": "markdown",
   "metadata": {},
   "source": [
    "### Phylogenetic inference\n",
    "A phylogenetic tree is a depiction of the inferred evolutionary relationships among the units represented at the tips. Sometimes, when we have fossil or ancient DNA data, we can additionally have information about ancestral (internal) nodes in a tree. In cases of experimental evolution (e.g., many generations of bacteria studied over decades) we can trace the evolutionary history of organisms in very fine detail, and with the knowledge of their \n",
    "true evolutionary relationships [^1]\n",
    "\n",
    "\n",
    "Most of the time, however, we only have data that can be sampled at the present, and from this limited data we need to *infer the past*. The goal of phylogenetics is to accurately reconstruct and represent past evolutionary relationships. \n",
    "\n",
    "\n"
   ]
  },
  {
   "cell_type": "markdown",
   "metadata": {},
   "source": [
    "### What is represented at the tips?\n",
    "\n",
    "You are probably most familiar with the use of phylogenetic trees to represent the evolutionary relationships of *species*. In that case the splits in a tree represent *speciation* events. Extant species are represented at the tips, and nodes deeper in the tree represent extinct common ancestors of the descendant lineages. \n",
    "\n",
    "Phylogenies can actually represent more than just species relationships though. You can use trees to represent the relationships among individuals sampled within a population, or you can use trees to represent the relationships among genes, including patterns of gene duplication and how orthologs and paralogs have been inherited through speciation events. "
   ]
  },
  {
   "cell_type": "markdown",
   "metadata": {},
   "source": [
    "<div class=\"alert alert-success\">\n",
    "    <h3>Box 1:</h3> \n",
    "    \n",
    "Look at Figures 1-3 in the paper by Baum and Offner. In this paper they are describing how to teach literacy in reading phylogenetic trees. What are they trying to depict through these three figures? Why is this a useful approach to teaching phylogenetics?\n",
    "</div>"
   ]
  },
  {
   "cell_type": "markdown",
   "metadata": {},
   "source": [
    "<div class=\"alert alert-warning\">\n",
    "    <h3>Response:</h3>\n",
    "\n",
    "They are showing the relationship between processes of inheritance at short time scales (e.g., parent-offspring relationships) and deep-time scales (e.g., population divergence and speciation) by zooming in or out from one to the other. I find this useful for understanding how although speciation appears instantaneous on a phylogeny, it is in fact just a consequence of parent-offspring relationships occurring in isolation in two separated lineages over time. \n",
    "</div>"
   ]
  },
  {
   "cell_type": "markdown",
   "metadata": {},
   "source": [
    "### Newick tree format\n",
    "\n",
    "The text below defines a `tree` in [*newick* format](https://en.wikipedia.org/wiki/Newick_format). When researchers are working with phylogenetic trees as their data, this is the type of data they are working with. It is simply text. This format can contain just the relationships -- described by nested parentheses like below -- or it can contain additional information such as branch lengths, which we'll see later. You can see how the *nested* hierarchical relationship of a phylogeny is easily represented by a *nested* set of parentheses. \n",
    "\n",
    "In the code block below we take the <b>string</b> object (the text contained within quotations) and we <b>store</b> this object to a <b>variable</b> called tree1. The name of the variable is arbitrary, we could have named it anything. Now we can reuse this object by referring to <i>tree1</i>, as we will see below.\n",
    "\n"
   ]
  },
  {
   "cell_type": "code",
   "execution_count": 11,
   "metadata": {},
   "outputs": [],
   "source": [
    "# Create the string variable to store a newick tree.\n",
    "newick1 = \"(gibbon, (orangutan, (gorilla, (chimp, human))));\""
   ]
  },
  {
   "cell_type": "markdown",
   "metadata": {},
   "source": [
    "### Draw a tree\n",
    "Below is visualization of the tree structure defined in the `tree` variable.\n",
    "\n",
    "The `toytree.tree()` function returns an object (called a Toytree) which we save in the variable `tre`. This object has many functions associated with it for manipulating and drawing trees. The `.draw()` function returns a plot of the tree which is displayed in the cell output. The argument `tree_style='s'` to the draw functions tells it to draw the figure in a particular style. Each node in the tree is labeled with a number. \n"
   ]
  },
  {
   "cell_type": "code",
   "execution_count": 12,
   "metadata": {},
   "outputs": [
    {
     "data": {
      "text/html": [
       "<div class=\"toyplot\" id=\"t71c617af8d4b471b8093493b2d33279f\" style=\"text-align:center\"><svg class=\"toyplot-canvas-Canvas\" xmlns:toyplot=\"http://www.sandia.gov/toyplot\" xmlns:xlink=\"http://www.w3.org/1999/xlink\" xmlns=\"http://www.w3.org/2000/svg\" width=\"295.0px\" height=\"275.0px\" viewBox=\"0 0 295.0 275.0\" preserveAspectRatio=\"xMidYMid meet\" style=\"background-color:transparent;border-color:#292724;border-style:none;border-width:1.0;fill:rgb(16.1%,15.3%,14.1%);fill-opacity:1.0;font-family:Helvetica;font-size:12px;opacity:1.0;stroke:rgb(16.1%,15.3%,14.1%);stroke-opacity:1.0;stroke-width:1.0\" id=\"t57a88d7be49f4249aa8d668d4a38297d\"><g class=\"toyplot-coordinates-Cartesian\" id=\"tda47d8aca72c4d57a7e57165c27edc3b\"><clipPath id=\"tb6eb11bfe67240bbaf8c0b30d5dfcaaa\"><rect x=\"35.0\" y=\"35.0\" width=\"225.0\" height=\"205.0\"></rect></clipPath><g clip-path=\"url(#tb6eb11bfe67240bbaf8c0b30d5dfcaaa)\"><g class=\"toytree-mark-Toytree\" id=\"t96192ecd3144460782a6b48071291cde\"><g class=\"toytree-Edges\" style=\"fill:none;stroke:rgba(16.1%,15.3%,14.1%,1.000);stroke-linecap:round;stroke-width:2.0\"><path d=\"M 55.3 179.6 L 55.3 216.8 L 169.4 216.8\" id=\"8,0\" style=\"stroke-width:nan\"></path><path d=\"M 83.8 142.5 L 83.8 177.2 L 169.4 177.2\" id=\"7,1\" style=\"stroke-width:nan\"></path><path d=\"M 112.4 107.7 L 112.4 137.5 L 169.4 137.5\" id=\"6,2\" style=\"stroke-width:nan\"></path><path d=\"M 140.9 78.0 L 140.9 97.8 L 169.4 97.8\" id=\"5,3\" style=\"stroke-width:nan\"></path><path d=\"M 140.9 78.0 L 140.9 58.2 L 169.4 58.2\" id=\"5,4\" style=\"stroke-width:nan\"></path><path d=\"M 112.4 107.7 L 112.4 78.0 L 140.9 78.0\" id=\"6,5\" style=\"stroke-width:nan\"></path><path d=\"M 83.8 142.5 L 83.8 107.7 L 112.4 107.7\" id=\"7,6\" style=\"stroke-width:nan\"></path><path d=\"M 55.3 179.6 L 55.3 142.5 L 83.8 142.5\" id=\"8,7\" style=\"stroke-width:nan\"></path></g><g class=\"toytree-Nodes\" style=\"fill:rgba(82.7%,82.7%,82.7%,1.000);stroke:#262626;stroke-width:1.5\"><g id=\"node-0\" transform=\"translate(169.436,216.839)\"><circle r=\"9.0\"></circle></g><g id=\"node-1\" transform=\"translate(169.436,177.170)\"><circle r=\"9.0\"></circle></g><g id=\"node-2\" transform=\"translate(169.436,137.500)\"><circle r=\"9.0\"></circle></g><g id=\"node-3\" transform=\"translate(169.436,97.830)\"><circle r=\"9.0\"></circle></g><g id=\"node-4\" transform=\"translate(169.436,58.161)\"><circle r=\"9.0\"></circle></g><g id=\"node-5\" transform=\"translate(140.894,77.995)\"><circle r=\"9.0\"></circle></g><g id=\"node-6\" transform=\"translate(112.353,107.748)\"><circle r=\"9.0\"></circle></g><g id=\"node-7\" transform=\"translate(83.811,142.459)\"><circle r=\"9.0\"></circle></g><g id=\"node-8\" transform=\"translate(55.269,179.649)\"><circle r=\"9.0\"></circle></g></g><g class=\"toytree-NodeLabels\" style=\"font-family:Helvetica;font-size:9.0px;font-weight:300;stroke:none;vertical-align:baseline;white-space:pre\"><g class=\"toytree-NodeLabel\" transform=\"translate(169.43578750157627,216.83937823834196)\"><text x=\"-2.5020000000000002\" y=\"2.2995\" style=\"fill:rgb(16.1%,15.3%,14.1%);fill-opacity:1.0\">0</text></g><g class=\"toytree-NodeLabel\" transform=\"translate(169.43578750157627,177.16968911917095)\"><text x=\"-2.5020000000000002\" y=\"2.2995\" style=\"fill:rgb(16.1%,15.3%,14.1%);fill-opacity:1.0\">1</text></g><g class=\"toytree-NodeLabel\" transform=\"translate(169.43578750157627,137.5)\"><text x=\"-2.5020000000000002\" y=\"2.2995\" style=\"fill:rgb(16.1%,15.3%,14.1%);fill-opacity:1.0\">2</text></g><g class=\"toytree-NodeLabel\" transform=\"translate(169.43578750157627,97.83031088082902)\"><text x=\"-2.5020000000000002\" y=\"2.2995\" style=\"fill:rgb(16.1%,15.3%,14.1%);fill-opacity:1.0\">3</text></g><g class=\"toytree-NodeLabel\" transform=\"translate(169.43578750157627,58.16062176165802)\"><text x=\"-2.5020000000000002\" y=\"2.2995\" style=\"fill:rgb(16.1%,15.3%,14.1%);fill-opacity:1.0\">4</text></g><g class=\"toytree-NodeLabel\" transform=\"translate(140.89414710597902,77.99546632124353)\"><text x=\"-2.5020000000000002\" y=\"2.2995\" style=\"fill:rgb(16.1%,15.3%,14.1%);fill-opacity:1.0\">5</text></g><g class=\"toytree-NodeLabel\" transform=\"translate(112.35250671038173,107.74773316062175)\"><text x=\"-2.5020000000000002\" y=\"2.2995\" style=\"fill:rgb(16.1%,15.3%,14.1%);fill-opacity:1.0\">6</text></g><g class=\"toytree-NodeLabel\" transform=\"translate(83.81086631478446,142.45871113989637)\"><text x=\"-2.5020000000000002\" y=\"2.2995\" style=\"fill:rgb(16.1%,15.3%,14.1%);fill-opacity:1.0\">7</text></g><g class=\"toytree-NodeLabel\" transform=\"translate(55.26922591918719,179.64904468911917)\"><text x=\"-2.5020000000000002\" y=\"2.2995\" style=\"fill:rgb(16.1%,15.3%,14.1%);fill-opacity:1.0\">8</text></g></g><g class=\"toytree-TipLabels\" style=\"fill:rgb(16.1%,15.3%,14.1%);fill-opacity:1.0;font-family:Helvetica;font-size:11.0px;font-weight:300;stroke:none;vertical-align:baseline;white-space:pre\"><g class=\"toytree-TipLabel\" transform=\"translate(169.43578750157627,216.83937823834196)\"><text x=\"15.0\" y=\"2.8104999999999993\" style=\"\">gibbon</text></g><g class=\"toytree-TipLabel\" transform=\"translate(169.43578750157627,177.16968911917095)\"><text x=\"15.0\" y=\"2.8104999999999993\" style=\"\">orangutan</text></g><g class=\"toytree-TipLabel\" transform=\"translate(169.43578750157627,137.5)\"><text x=\"15.0\" y=\"2.8104999999999993\" style=\"\">gorilla</text></g><g class=\"toytree-TipLabel\" transform=\"translate(169.43578750157627,97.83031088082902)\"><text x=\"15.0\" y=\"2.8104999999999993\" style=\"\">chimp</text></g><g class=\"toytree-TipLabel\" transform=\"translate(169.43578750157627,58.16062176165802)\"><text x=\"15.0\" y=\"2.8104999999999993\" style=\"\">human</text></g></g></g></g></g></svg><div class=\"toyplot-behavior\"><script>(function()\n",
       "{\n",
       "var modules={};\n",
       "})();</script></div></div>"
      ]
     },
     "metadata": {},
     "output_type": "display_data"
    }
   ],
   "source": [
    "# create a toytree object\n",
    "tre = toytree.tree(newick1)\n",
    "\n",
    "# return a tree drawing\n",
    "tre.draw(tree_style='s');"
   ]
  },
  {
   "cell_type": "markdown",
   "metadata": {},
   "source": [
    "<div class=\"alert alert-success\">\n",
    "    <h3>Question [2]:</h3> \n",
    "    \n",
    "In terms of the number labels on nodes, which node represents the common ancestor of chimp and human? Which is the common ancestor of orangutan and gibbon? Which of those pairs is more closely related? See Figure 6 in Baum and Offner if you need help. Answer in Markdown below.\n",
    "</div>"
   ]
  },
  {
   "cell_type": "markdown",
   "metadata": {},
   "source": [
    "<div class=\"alert alert-warning\">\n",
    "\n",
    "\n",
    "Insert answers here...\n",
    "\n",
    "\n",
    "<div>"
   ]
  },
  {
   "cell_type": "markdown",
   "metadata": {},
   "source": [
    "### Rotating nodes\n",
    "Rotating nodes simply changes the order in which the labels at the tips are arranged. However, it does not change the evolutionary relationships. This is because **the relative branching order of the tree remains the same**. Below we changed the order of human, chimp, and gorilla, but you can see that the common ancestor of human and chimp is still node 5, and the their common ancestor with gorilla is still node 6. \n",
    "\n",
    "<i> The tree looks different, but if we read it correctly we can see that the relationships have not changed</i>."
   ]
  },
  {
   "cell_type": "code",
   "execution_count": 14,
   "metadata": {},
   "outputs": [
    {
     "data": {
      "text/html": [
       "<div class=\"toyplot\" id=\"t16851316a66045a38e64bbc72a282674\" style=\"text-align:center\"><svg class=\"toyplot-canvas-Canvas\" xmlns:toyplot=\"http://www.sandia.gov/toyplot\" xmlns:xlink=\"http://www.w3.org/1999/xlink\" xmlns=\"http://www.w3.org/2000/svg\" width=\"295.0px\" height=\"275.0px\" viewBox=\"0 0 295.0 275.0\" preserveAspectRatio=\"xMidYMid meet\" style=\"background-color:transparent;border-color:#292724;border-style:none;border-width:1.0;fill:rgb(16.1%,15.3%,14.1%);fill-opacity:1.0;font-family:Helvetica;font-size:12px;opacity:1.0;stroke:rgb(16.1%,15.3%,14.1%);stroke-opacity:1.0;stroke-width:1.0\" id=\"tc269c1f9de4246f7bffee80595acf916\"><g class=\"toyplot-coordinates-Cartesian\" id=\"tbb927d778b1948ea8aecba3eee83d187\"><clipPath id=\"ta6fbf3961d0e402098e56cbf8a8708c1\"><rect x=\"35.0\" y=\"35.0\" width=\"225.0\" height=\"205.0\"></rect></clipPath><g clip-path=\"url(#ta6fbf3961d0e402098e56cbf8a8708c1)\"><g class=\"toytree-mark-Toytree\" id=\"t354fd71d94754ddeb15f5d0d5299f796\"><g class=\"toytree-Edges\" style=\"fill:none;stroke:rgba(16.1%,15.3%,14.1%,1.000);stroke-linecap:round;stroke-width:2.0\"><path d=\"M 55.3 174.7 L 55.3 216.8 L 169.4 216.8\" id=\"8,0\" style=\"stroke-width:nan\"></path><path d=\"M 83.8 132.5 L 83.8 177.2 L 169.4 177.2\" id=\"7,1\" style=\"stroke-width:nan\"></path><path d=\"M 140.9 117.7 L 140.9 137.5 L 169.4 137.5\" id=\"5,2\" style=\"stroke-width:nan\"></path><path d=\"M 140.9 117.7 L 140.9 97.8 L 169.4 97.8\" id=\"5,3\" style=\"stroke-width:nan\"></path><path d=\"M 112.4 87.9 L 112.4 58.2 L 169.4 58.2\" id=\"6,4\" style=\"stroke-width:nan\"></path><path d=\"M 112.4 87.9 L 112.4 117.7 L 140.9 117.7\" id=\"6,5\" style=\"stroke-width:nan\"></path><path d=\"M 83.8 132.5 L 83.8 87.9 L 112.4 87.9\" id=\"7,6\" style=\"stroke-width:nan\"></path><path d=\"M 55.3 174.7 L 55.3 132.5 L 83.8 132.5\" id=\"8,7\" style=\"stroke-width:nan\"></path></g><g class=\"toytree-Nodes\" style=\"fill:rgba(82.7%,82.7%,82.7%,1.000);stroke:#262626;stroke-width:1.5\"><g id=\"node-0\" transform=\"translate(169.436,216.839)\"><circle r=\"9.0\"></circle></g><g id=\"node-1\" transform=\"translate(169.436,177.170)\"><circle r=\"9.0\"></circle></g><g id=\"node-2\" transform=\"translate(169.436,137.500)\"><circle r=\"9.0\"></circle></g><g id=\"node-3\" transform=\"translate(169.436,97.830)\"><circle r=\"9.0\"></circle></g><g id=\"node-4\" transform=\"translate(169.436,58.161)\"><circle r=\"9.0\"></circle></g><g id=\"node-5\" transform=\"translate(140.894,117.665)\"><circle r=\"9.0\"></circle></g><g id=\"node-6\" transform=\"translate(112.353,87.913)\"><circle r=\"9.0\"></circle></g><g id=\"node-7\" transform=\"translate(83.811,132.541)\"><circle r=\"9.0\"></circle></g><g id=\"node-8\" transform=\"translate(55.269,174.690)\"><circle r=\"9.0\"></circle></g></g><g class=\"toytree-NodeLabels\" style=\"font-family:Helvetica;font-size:9.0px;font-weight:300;stroke:none;vertical-align:baseline;white-space:pre\"><g class=\"toytree-NodeLabel\" transform=\"translate(169.43578750157627,216.83937823834196)\"><text x=\"-2.5020000000000002\" y=\"2.2995\" style=\"fill:rgb(16.1%,15.3%,14.1%);fill-opacity:1.0\">0</text></g><g class=\"toytree-NodeLabel\" transform=\"translate(169.43578750157627,177.16968911917095)\"><text x=\"-2.5020000000000002\" y=\"2.2995\" style=\"fill:rgb(16.1%,15.3%,14.1%);fill-opacity:1.0\">1</text></g><g class=\"toytree-NodeLabel\" transform=\"translate(169.43578750157627,137.5)\"><text x=\"-2.5020000000000002\" y=\"2.2995\" style=\"fill:rgb(16.1%,15.3%,14.1%);fill-opacity:1.0\">2</text></g><g class=\"toytree-NodeLabel\" transform=\"translate(169.43578750157627,97.83031088082902)\"><text x=\"-2.5020000000000002\" y=\"2.2995\" style=\"fill:rgb(16.1%,15.3%,14.1%);fill-opacity:1.0\">3</text></g><g class=\"toytree-NodeLabel\" transform=\"translate(169.43578750157627,58.16062176165802)\"><text x=\"-2.5020000000000002\" y=\"2.2995\" style=\"fill:rgb(16.1%,15.3%,14.1%);fill-opacity:1.0\">4</text></g><g class=\"toytree-NodeLabel\" transform=\"translate(140.89414710597902,117.66515544041452)\"><text x=\"-2.5020000000000002\" y=\"2.2995\" style=\"fill:rgb(16.1%,15.3%,14.1%);fill-opacity:1.0\">5</text></g><g class=\"toytree-NodeLabel\" transform=\"translate(112.35250671038173,87.91288860103626)\"><text x=\"-2.5020000000000002\" y=\"2.2995\" style=\"fill:rgb(16.1%,15.3%,14.1%);fill-opacity:1.0\">6</text></g><g class=\"toytree-NodeLabel\" transform=\"translate(83.81086631478446,132.54128886010363)\"><text x=\"-2.5020000000000002\" y=\"2.2995\" style=\"fill:rgb(16.1%,15.3%,14.1%);fill-opacity:1.0\">7</text></g><g class=\"toytree-NodeLabel\" transform=\"translate(55.26922591918719,174.6903335492228)\"><text x=\"-2.5020000000000002\" y=\"2.2995\" style=\"fill:rgb(16.1%,15.3%,14.1%);fill-opacity:1.0\">8</text></g></g><g class=\"toytree-TipLabels\" style=\"fill:rgb(16.1%,15.3%,14.1%);fill-opacity:1.0;font-family:Helvetica;font-size:11.0px;font-weight:300;stroke:none;vertical-align:baseline;white-space:pre\"><g class=\"toytree-TipLabel\" transform=\"translate(169.43578750157627,216.83937823834196)\"><text x=\"15.0\" y=\"2.8104999999999993\" style=\"\">gibbon</text></g><g class=\"toytree-TipLabel\" transform=\"translate(169.43578750157627,177.16968911917095)\"><text x=\"15.0\" y=\"2.8104999999999993\" style=\"\">orangutan</text></g><g class=\"toytree-TipLabel\" transform=\"translate(169.43578750157627,137.5)\"><text x=\"15.0\" y=\"2.8104999999999993\" style=\"\">chimp</text></g><g class=\"toytree-TipLabel\" transform=\"translate(169.43578750157627,97.83031088082902)\"><text x=\"15.0\" y=\"2.8104999999999993\" style=\"\">human</text></g><g class=\"toytree-TipLabel\" transform=\"translate(169.43578750157627,58.16062176165802)\"><text x=\"15.0\" y=\"2.8104999999999993\" style=\"\">gorilla</text></g></g></g></g></g></svg><div class=\"toyplot-behavior\"><script>(function()\n",
       "{\n",
       "var modules={};\n",
       "})();</script></div></div>"
      ]
     },
     "metadata": {},
     "output_type": "display_data"
    }
   ],
   "source": [
    "tre.mod.rotate_node(\"gorilla\", \"chimp\", \"human\").draw(tree_style='s');"
   ]
  },
  {
   "cell_type": "markdown",
   "metadata": {},
   "source": [
    "### Test on interpreting phylogenies\n",
    "Below are four newick strings, and the resulting four phylogenies. The ordering of parentheses in the newick string does not necessarily change the relationships, only the pattern by which they are nested one within one another. Similarly, rotating nodes on the phylogeny changes the order of the tips, but does not change the distance to a common ancestor among those tips. Thus the relationships are retained."
   ]
  },
  {
   "cell_type": "code",
   "execution_count": 19,
   "metadata": {},
   "outputs": [
    {
     "data": {
      "text/html": [
       "<div class=\"toyplot\" id=\"tfb47dbf66a29484c815ee6e490aa2be5\" style=\"text-align:center\"><svg class=\"toyplot-canvas-Canvas\" xmlns:toyplot=\"http://www.sandia.gov/toyplot\" xmlns:xlink=\"http://www.w3.org/1999/xlink\" xmlns=\"http://www.w3.org/2000/svg\" width=\"295.0px\" height=\"275.0px\" viewBox=\"0 0 295.0 275.0\" preserveAspectRatio=\"xMidYMid meet\" style=\"background-color:transparent;border-color:#292724;border-style:none;border-width:1.0;fill:rgb(16.1%,15.3%,14.1%);fill-opacity:1.0;font-family:Helvetica;font-size:12px;opacity:1.0;stroke:rgb(16.1%,15.3%,14.1%);stroke-opacity:1.0;stroke-width:1.0\" id=\"tb119d4cfb164468f804fccabd4798caf\"><g class=\"toyplot-coordinates-Cartesian\" id=\"t8bfc7cb7639e4389ae85b45307e1a8b0\"><clipPath id=\"tb9ab8dd9f83045b4b6183fea733be7ae\"><rect x=\"35.0\" y=\"35.0\" width=\"225.0\" height=\"205.0\"></rect></clipPath><g clip-path=\"url(#tb9ab8dd9f83045b4b6183fea733be7ae)\"><g class=\"toytree-mark-Toytree\" id=\"tf45235b7f90b43a2830f2e349d794169\"><g class=\"toytree-Edges\" style=\"fill:none;stroke:rgba(16.1%,15.3%,14.1%,1.000);stroke-linecap:round;stroke-width:2.0\"><path d=\"M 50.0 180.7 L 50.0 218.9 L 167.3 218.9\" id=\"8,0\" style=\"stroke-width:nan\"></path><path d=\"M 79.3 142.6 L 79.3 178.2 L 167.3 178.2\" id=\"7,1\" style=\"stroke-width:nan\"></path><path d=\"M 108.7 107.0 L 108.7 137.5 L 167.3 137.5\" id=\"6,2\" style=\"stroke-width:nan\"></path><path d=\"M 138.0 76.5 L 138.0 96.8 L 167.3 96.8\" id=\"5,3\" style=\"stroke-width:nan\"></path><path d=\"M 138.0 76.5 L 138.0 56.1 L 167.3 56.1\" id=\"5,4\" style=\"stroke-width:nan\"></path><path d=\"M 108.7 107.0 L 108.7 76.5 L 138.0 76.5\" id=\"6,5\" style=\"stroke-width:nan\"></path><path d=\"M 79.3 142.6 L 79.3 107.0 L 108.7 107.0\" id=\"7,6\" style=\"stroke-width:nan\"></path><path d=\"M 50.0 180.7 L 50.0 142.6 L 79.3 142.6\" id=\"8,7\" style=\"stroke-width:nan\"></path></g><g class=\"toytree-TipLabels\" style=\"fill:rgb(16.1%,15.3%,14.1%);fill-opacity:1.0;font-family:Helvetica;font-size:11.0px;font-weight:300;stroke:none;vertical-align:baseline;white-space:pre\"><g class=\"toytree-TipLabel\" transform=\"translate(167.33720908703782,218.86291179596174)\"><text x=\"15.0\" y=\"2.8104999999999993\" style=\"\">gibbon</text></g><g class=\"toytree-TipLabel\" transform=\"translate(167.33720908703782,178.18145589798087)\"><text x=\"15.0\" y=\"2.8104999999999993\" style=\"\">orangutan</text></g><g class=\"toytree-TipLabel\" transform=\"translate(167.33720908703782,137.49999999999997)\"><text x=\"15.0\" y=\"2.8104999999999993\" style=\"\">gorilla</text></g><g class=\"toytree-TipLabel\" transform=\"translate(167.33720908703782,96.8185441020191)\"><text x=\"15.0\" y=\"2.8104999999999993\" style=\"\">human</text></g><g class=\"toytree-TipLabel\" transform=\"translate(167.33720908703782,56.137088204038236)\"><text x=\"15.0\" y=\"2.8104999999999993\" style=\"\">chimp</text></g></g></g></g></g></svg><div class=\"toyplot-behavior\"><script>(function()\n",
       "{\n",
       "var modules={};\n",
       "})();</script></div></div>"
      ]
     },
     "metadata": {},
     "output_type": "display_data"
    },
    {
     "data": {
      "text/html": [
       "<div class=\"toyplot\" id=\"tb42098e3bcad4097bc05b6e0b98dff22\" style=\"text-align:center\"><svg class=\"toyplot-canvas-Canvas\" xmlns:toyplot=\"http://www.sandia.gov/toyplot\" xmlns:xlink=\"http://www.w3.org/1999/xlink\" xmlns=\"http://www.w3.org/2000/svg\" width=\"295.0px\" height=\"275.0px\" viewBox=\"0 0 295.0 275.0\" preserveAspectRatio=\"xMidYMid meet\" style=\"background-color:transparent;border-color:#292724;border-style:none;border-width:1.0;fill:rgb(16.1%,15.3%,14.1%);fill-opacity:1.0;font-family:Helvetica;font-size:12px;opacity:1.0;stroke:rgb(16.1%,15.3%,14.1%);stroke-opacity:1.0;stroke-width:1.0\" id=\"t047d69144d0044238e1a211822e56c94\"><g class=\"toyplot-coordinates-Cartesian\" id=\"tf88a27c00c184f86a56eb622087bc80b\"><clipPath id=\"t4c993ca60d52460aa9b306fc5caccf88\"><rect x=\"35.0\" y=\"35.0\" width=\"225.0\" height=\"205.0\"></rect></clipPath><g clip-path=\"url(#t4c993ca60d52460aa9b306fc5caccf88)\"><g class=\"toytree-mark-Toytree\" id=\"tdfddceafb965476aa0c76caef03457c0\"><g class=\"toytree-Edges\" style=\"fill:none;stroke:rgba(16.1%,15.3%,14.1%,1.000);stroke-linecap:round;stroke-width:2.0\"><path d=\"M 138.0 198.5 L 138.0 218.9 L 167.3 218.9\" id=\"5,0\" style=\"stroke-width:nan\"></path><path d=\"M 138.0 198.5 L 138.0 178.2 L 167.3 178.2\" id=\"5,1\" style=\"stroke-width:nan\"></path><path d=\"M 108.7 168.0 L 108.7 137.5 L 167.3 137.5\" id=\"6,2\" style=\"stroke-width:nan\"></path><path d=\"M 79.3 132.4 L 79.3 96.8 L 167.3 96.8\" id=\"7,3\" style=\"stroke-width:nan\"></path><path d=\"M 50.0 94.3 L 50.0 56.1 L 167.3 56.1\" id=\"8,4\" style=\"stroke-width:nan\"></path><path d=\"M 108.7 168.0 L 108.7 198.5 L 138.0 198.5\" id=\"6,5\" style=\"stroke-width:nan\"></path><path d=\"M 79.3 132.4 L 79.3 168.0 L 108.7 168.0\" id=\"7,6\" style=\"stroke-width:nan\"></path><path d=\"M 50.0 94.3 L 50.0 132.4 L 79.3 132.4\" id=\"8,7\" style=\"stroke-width:nan\"></path></g><g class=\"toytree-TipLabels\" style=\"fill:rgb(16.1%,15.3%,14.1%);fill-opacity:1.0;font-family:Helvetica;font-size:11.0px;font-weight:300;stroke:none;vertical-align:baseline;white-space:pre\"><g class=\"toytree-TipLabel\" transform=\"translate(167.33720908703782,218.86291179596174)\"><text x=\"15.0\" y=\"2.8104999999999993\" style=\"\">human</text></g><g class=\"toytree-TipLabel\" transform=\"translate(167.33720908703782,178.18145589798087)\"><text x=\"15.0\" y=\"2.8104999999999993\" style=\"\">chimp</text></g><g class=\"toytree-TipLabel\" transform=\"translate(167.33720908703782,137.49999999999997)\"><text x=\"15.0\" y=\"2.8104999999999993\" style=\"\">gorilla</text></g><g class=\"toytree-TipLabel\" transform=\"translate(167.33720908703782,96.8185441020191)\"><text x=\"15.0\" y=\"2.8104999999999993\" style=\"\">orangutan</text></g><g class=\"toytree-TipLabel\" transform=\"translate(167.33720908703782,56.137088204038236)\"><text x=\"15.0\" y=\"2.8104999999999993\" style=\"\">gibbon</text></g></g></g></g></g></svg><div class=\"toyplot-behavior\"><script>(function()\n",
       "{\n",
       "var modules={};\n",
       "})();</script></div></div>"
      ]
     },
     "metadata": {},
     "output_type": "display_data"
    },
    {
     "data": {
      "text/html": [
       "<div class=\"toyplot\" id=\"t149db524f6c143fe81cb06d2b2bbea74\" style=\"text-align:center\"><svg class=\"toyplot-canvas-Canvas\" xmlns:toyplot=\"http://www.sandia.gov/toyplot\" xmlns:xlink=\"http://www.w3.org/1999/xlink\" xmlns=\"http://www.w3.org/2000/svg\" width=\"295.0px\" height=\"275.0px\" viewBox=\"0 0 295.0 275.0\" preserveAspectRatio=\"xMidYMid meet\" style=\"background-color:transparent;border-color:#292724;border-style:none;border-width:1.0;fill:rgb(16.1%,15.3%,14.1%);fill-opacity:1.0;font-family:Helvetica;font-size:12px;opacity:1.0;stroke:rgb(16.1%,15.3%,14.1%);stroke-opacity:1.0;stroke-width:1.0\" id=\"t51ea1bb6d3984568a17e0c80434fa74c\"><g class=\"toyplot-coordinates-Cartesian\" id=\"tec8cc226171f4eeebe66221c2acc887a\"><clipPath id=\"t366e649610e1470497acec4223f0f8b6\"><rect x=\"35.0\" y=\"35.0\" width=\"225.0\" height=\"205.0\"></rect></clipPath><g clip-path=\"url(#t366e649610e1470497acec4223f0f8b6)\"><g class=\"toytree-mark-Toytree\" id=\"td6d59a51a26b4be6930bff145f2ce04c\"><g class=\"toytree-Edges\" style=\"fill:none;stroke:rgba(16.1%,15.3%,14.1%,1.000);stroke-linecap:round;stroke-width:2.0\"><path d=\"M 108.7 188.4 L 108.7 218.9 L 167.3 218.9\" id=\"6,0\" style=\"stroke-width:nan\"></path><path d=\"M 138.0 157.8 L 138.0 178.2 L 167.3 178.2\" id=\"5,1\" style=\"stroke-width:nan\"></path><path d=\"M 138.0 157.8 L 138.0 137.5 L 167.3 137.5\" id=\"5,2\" style=\"stroke-width:nan\"></path><path d=\"M 79.3 142.6 L 79.3 96.8 L 167.3 96.8\" id=\"7,3\" style=\"stroke-width:nan\"></path><path d=\"M 50.0 99.4 L 50.0 56.1 L 167.3 56.1\" id=\"8,4\" style=\"stroke-width:nan\"></path><path d=\"M 108.7 188.4 L 108.7 157.8 L 138.0 157.8\" id=\"6,5\" style=\"stroke-width:nan\"></path><path d=\"M 79.3 142.6 L 79.3 188.4 L 108.7 188.4\" id=\"7,6\" style=\"stroke-width:nan\"></path><path d=\"M 50.0 99.4 L 50.0 142.6 L 79.3 142.6\" id=\"8,7\" style=\"stroke-width:nan\"></path></g><g class=\"toytree-TipLabels\" style=\"fill:rgb(16.1%,15.3%,14.1%);fill-opacity:1.0;font-family:Helvetica;font-size:11.0px;font-weight:300;stroke:none;vertical-align:baseline;white-space:pre\"><g class=\"toytree-TipLabel\" transform=\"translate(167.33720908703782,218.86291179596174)\"><text x=\"15.0\" y=\"2.8104999999999993\" style=\"\">orangutan</text></g><g class=\"toytree-TipLabel\" transform=\"translate(167.33720908703782,178.18145589798087)\"><text x=\"15.0\" y=\"2.8104999999999993\" style=\"\">human</text></g><g class=\"toytree-TipLabel\" transform=\"translate(167.33720908703782,137.49999999999997)\"><text x=\"15.0\" y=\"2.8104999999999993\" style=\"\">chimp</text></g><g class=\"toytree-TipLabel\" transform=\"translate(167.33720908703782,96.8185441020191)\"><text x=\"15.0\" y=\"2.8104999999999993\" style=\"\">gorilla</text></g><g class=\"toytree-TipLabel\" transform=\"translate(167.33720908703782,56.137088204038236)\"><text x=\"15.0\" y=\"2.8104999999999993\" style=\"\">gibbon</text></g></g></g></g></g></svg><div class=\"toyplot-behavior\"><script>(function()\n",
       "{\n",
       "var modules={};\n",
       "})();</script></div></div>"
      ]
     },
     "metadata": {},
     "output_type": "display_data"
    },
    {
     "data": {
      "text/html": [
       "<div class=\"toyplot\" id=\"t09bbc6a129ab41daaa6efc9b0ffc0d98\" style=\"text-align:center\"><svg class=\"toyplot-canvas-Canvas\" xmlns:toyplot=\"http://www.sandia.gov/toyplot\" xmlns:xlink=\"http://www.w3.org/1999/xlink\" xmlns=\"http://www.w3.org/2000/svg\" width=\"295.0px\" height=\"275.0px\" viewBox=\"0 0 295.0 275.0\" preserveAspectRatio=\"xMidYMid meet\" style=\"background-color:transparent;border-color:#292724;border-style:none;border-width:1.0;fill:rgb(16.1%,15.3%,14.1%);fill-opacity:1.0;font-family:Helvetica;font-size:12px;opacity:1.0;stroke:rgb(16.1%,15.3%,14.1%);stroke-opacity:1.0;stroke-width:1.0\" id=\"td26c75119be54892b4e0211de45d8031\"><g class=\"toyplot-coordinates-Cartesian\" id=\"t6346171d1151484a9c3456c604acc303\"><clipPath id=\"t1d1aca61529f4b069a1f66b13c004dd7\"><rect x=\"35.0\" y=\"35.0\" width=\"225.0\" height=\"205.0\"></rect></clipPath><g clip-path=\"url(#t1d1aca61529f4b069a1f66b13c004dd7)\"><g class=\"toytree-mark-Toytree\" id=\"t3f027d04e666405a90de2604cb30107d\"><g class=\"toytree-Edges\" style=\"fill:none;stroke:rgba(16.1%,15.3%,14.1%,1.000);stroke-linecap:round;stroke-width:2.0\"><path d=\"M 108.7 188.4 L 108.7 218.9 L 167.3 218.9\" id=\"6,0\" style=\"stroke-width:nan\"></path><path d=\"M 138.0 157.8 L 138.0 178.2 L 167.3 178.2\" id=\"5,1\" style=\"stroke-width:nan\"></path><path d=\"M 138.0 157.8 L 138.0 137.5 L 167.3 137.5\" id=\"5,2\" style=\"stroke-width:nan\"></path><path d=\"M 79.3 142.6 L 79.3 96.8 L 167.3 96.8\" id=\"7,3\" style=\"stroke-width:nan\"></path><path d=\"M 50.0 99.4 L 50.0 56.1 L 167.3 56.1\" id=\"8,4\" style=\"stroke-width:nan\"></path><path d=\"M 108.7 188.4 L 108.7 157.8 L 138.0 157.8\" id=\"6,5\" style=\"stroke-width:nan\"></path><path d=\"M 79.3 142.6 L 79.3 188.4 L 108.7 188.4\" id=\"7,6\" style=\"stroke-width:nan\"></path><path d=\"M 50.0 99.4 L 50.0 142.6 L 79.3 142.6\" id=\"8,7\" style=\"stroke-width:nan\"></path></g><g class=\"toytree-TipLabels\" style=\"fill:rgb(16.1%,15.3%,14.1%);fill-opacity:1.0;font-family:Helvetica;font-size:11.0px;font-weight:300;stroke:none;vertical-align:baseline;white-space:pre\"><g class=\"toytree-TipLabel\" transform=\"translate(167.33720908703782,218.86291179596174)\"><text x=\"15.0\" y=\"2.8104999999999993\" style=\"\">gorilla</text></g><g class=\"toytree-TipLabel\" transform=\"translate(167.33720908703782,178.18145589798087)\"><text x=\"15.0\" y=\"2.8104999999999993\" style=\"\">human</text></g><g class=\"toytree-TipLabel\" transform=\"translate(167.33720908703782,137.49999999999997)\"><text x=\"15.0\" y=\"2.8104999999999993\" style=\"\">chimp</text></g><g class=\"toytree-TipLabel\" transform=\"translate(167.33720908703782,96.8185441020191)\"><text x=\"15.0\" y=\"2.8104999999999993\" style=\"\">orangutan</text></g><g class=\"toytree-TipLabel\" transform=\"translate(167.33720908703782,56.137088204038236)\"><text x=\"15.0\" y=\"2.8104999999999993\" style=\"\">gibbon</text></g></g></g></g></g></svg><div class=\"toyplot-behavior\"><script>(function()\n",
       "{\n",
       "var modules={};\n",
       "})();</script></div></div>"
      ]
     },
     "metadata": {},
     "output_type": "display_data"
    }
   ],
   "source": [
    "# read in four newick strings\n",
    "tre1 = toytree.tree('(gibbon,(orangutan,(gorilla,(chimp,human))));')\n",
    "tre2 = toytree.tree('((((human,chimp),gorilla),orangutan),gibbon);')\n",
    "tre3 = toytree.tree('((((human,chimp),orangutan),gorilla),gibbon);')\n",
    "tre4 = toytree.tree('(((gorilla,(human,chimp)),orangutan),gibbon);')\n",
    "\n",
    "# draw each tree with some arbitrary node rotating\n",
    "tre1.mod.rotate_node(\"human\", \"chimp\").draw(use_edge_lengths=False);\n",
    "tre2.mod.rotate_node(\"orangutan\").draw(use_edge_lengths=False);\n",
    "tre3.mod.rotate_node(\"human\", \"chimp\", \"orangutan\").draw(use_edge_lengths=False);\n",
    "tre4.mod.rotate_node(\"gibbon\").draw(use_edge_lengths=False);"
   ]
  },
  {
   "cell_type": "markdown",
   "metadata": {},
   "source": [
    "<div class=\"alert alert-success\">\n",
    "    <b>Question [3]:</b> \n",
    "Three of the rooted phylogenies above represent the same relationships among organisms, while one of them does not. Which tree (1-4) shows a different relationship? I rotated some nodes to make it more difficult. Answer in Markdown below. \n",
    "</div>"
   ]
  },
  {
   "cell_type": "markdown",
   "metadata": {},
   "source": [
    "<div class=\"alert alert-warning\">\n",
    "    \n",
    "    \n",
    "   Insert answer here.\n",
    "    \n",
    "</div>"
   ]
  },
  {
   "cell_type": "markdown",
   "metadata": {},
   "source": [
    "### Edge length information (Divergence times, i.e., ages of clades)\n",
    "Additional information such as the ages of clades is easy to include in the newick format. Below you can see that the lengths of branches are simply numeric values placed next to parentheses or tips (nodes of the tree). Below we use a different tree style for plotting (`tree_style='n'`) since this style will show branch length differences. \n",
    "\n",
    "The units of this plot are not indicated. Thus we do not know if it is thousands of years, millions of years, or if the units are even meant to represent time. **Branch lengths on a tree can represent different things**. Sometimes we represent the number of *character differences* separating taxa as units of branch lengths, and these character could be counted from morphological data, or genetic substitutions, or even by counting other features of the genome such as inversions or transposable elements. \n",
    "\n",
    "If a tree is inferred from DNA sequence data then the branch lengths could represent the number of observed DNA differences between species. Converting units of mutation substitutions into units of time is a tricky business that involves making assumptions about the rate of mutations. We will discuss this more later. "
   ]
  },
  {
   "cell_type": "code",
   "execution_count": 21,
   "metadata": {},
   "outputs": [
    {
     "data": {
      "text/html": [
       "<div class=\"toyplot\" id=\"tfe13da58917d4c528c1cbadff72276f8\" style=\"text-align:center\"><svg class=\"toyplot-canvas-Canvas\" xmlns:toyplot=\"http://www.sandia.gov/toyplot\" xmlns:xlink=\"http://www.w3.org/1999/xlink\" xmlns=\"http://www.w3.org/2000/svg\" width=\"295.0px\" height=\"275.0px\" viewBox=\"0 0 295.0 275.0\" preserveAspectRatio=\"xMidYMid meet\" style=\"background-color:transparent;border-color:#292724;border-style:none;border-width:1.0;fill:rgb(16.1%,15.3%,14.1%);fill-opacity:1.0;font-family:Helvetica;font-size:12px;opacity:1.0;stroke:rgb(16.1%,15.3%,14.1%);stroke-opacity:1.0;stroke-width:1.0\" id=\"t47ed60d482034892ade43c7b0d217486\"><g class=\"toyplot-coordinates-Cartesian\" id=\"t6048867e9bc74c60a3f1cd1ad6a204bc\"><clipPath id=\"t5c06c4c2222c4bd1a1cd8dde6e059d4f\"><rect x=\"35.0\" y=\"35.0\" width=\"225.0\" height=\"205.0\"></rect></clipPath><g clip-path=\"url(#t5c06c4c2222c4bd1a1cd8dde6e059d4f)\"><g class=\"toytree-mark-Toytree\" id=\"t0cba058579614f10883cc84a1a5abb8b\"><g class=\"toytree-Edges\" style=\"fill:none;stroke:rgba(16.1%,15.3%,14.1%,1.000);stroke-linecap:round;stroke-width:2.0\"><path d=\"M 50.0 180.7 L 50.0 218.9 L 167.3 218.9\" id=\"8,0\" style=\"stroke-width:nan\"></path><path d=\"M 89.1 142.6 L 89.1 178.2 L 167.3 178.2\" id=\"7,1\" style=\"stroke-width:nan\"></path><path d=\"M 128.2 107.0 L 128.2 137.5 L 167.3 137.5\" id=\"6,2\" style=\"stroke-width:nan\"></path><path d=\"M 157.6 76.5 L 157.6 96.8 L 167.3 96.8\" id=\"5,3\" style=\"stroke-width:nan\"></path><path d=\"M 157.6 76.5 L 157.6 56.1 L 167.3 56.1\" id=\"5,4\" style=\"stroke-width:nan\"></path><path d=\"M 128.2 107.0 L 128.2 76.5 L 157.6 76.5\" id=\"6,5\" style=\"stroke-width:nan\"></path><path d=\"M 89.1 142.6 L 89.1 107.0 L 128.2 107.0\" id=\"7,6\" style=\"stroke-width:nan\"></path><path d=\"M 50.0 180.7 L 50.0 142.6 L 89.1 142.6\" id=\"8,7\" style=\"stroke-width:nan\"></path></g><g class=\"toytree-TipLabels\" style=\"fill:rgb(16.1%,15.3%,14.1%);fill-opacity:1.0;font-family:Helvetica;font-size:11.0px;font-weight:300;stroke:none;vertical-align:baseline;white-space:pre\"><g class=\"toytree-TipLabel\" transform=\"translate(167.33720908703782,218.86291179596174)\"><text x=\"15.0\" y=\"2.8104999999999993\" style=\"\">gibbon</text></g><g class=\"toytree-TipLabel\" transform=\"translate(167.33720908703782,178.18145589798087)\"><text x=\"15.0\" y=\"2.8104999999999993\" style=\"\">orangutan</text></g><g class=\"toytree-TipLabel\" transform=\"translate(167.33720908703782,137.49999999999997)\"><text x=\"15.0\" y=\"2.8104999999999993\" style=\"\">gorilla</text></g><g class=\"toytree-TipLabel\" transform=\"translate(167.33720908703782,96.8185441020191)\"><text x=\"15.0\" y=\"2.8104999999999993\" style=\"\">chimp</text></g><g class=\"toytree-TipLabel\" transform=\"translate(167.33720908703782,56.137088204038236)\"><text x=\"15.0\" y=\"2.8104999999999993\" style=\"\">human</text></g></g></g></g><g class=\"toyplot-coordinates-Axis\" id=\"t024e4ddacb2b46c8af0d48e330840d0e\" transform=\"translate(50.0,225.0)translate(0,15.0)\"><line x1=\"0\" y1=\"0\" x2=\"117.33720908703782\" y2=\"0\" style=\"\"></line><g><line x1=\"0.0\" y1=\"0\" x2=\"0.0\" y2=\"-5\" style=\"\"></line><line x1=\"39.11240302901261\" y1=\"0\" x2=\"39.11240302901261\" y2=\"-5\" style=\"\"></line><line x1=\"78.22480605802522\" y1=\"0\" x2=\"78.22480605802522\" y2=\"-5\" style=\"\"></line><line x1=\"117.33720908703782\" y1=\"0\" x2=\"117.33720908703782\" y2=\"-5\" style=\"\"></line></g><g><g transform=\"translate(0.0,6)\"><text x=\"-2.78\" y=\"8.555\" style=\"fill:rgb(16.1%,15.3%,14.1%);fill-opacity:1.0;font-family:helvetica;font-size:10.0px;font-weight:normal;stroke:none;vertical-align:baseline;white-space:pre\">3</text></g><g transform=\"translate(39.11240302901261,6)\"><text x=\"-2.78\" y=\"8.555\" style=\"fill:rgb(16.1%,15.3%,14.1%);fill-opacity:1.0;font-family:helvetica;font-size:10.0px;font-weight:normal;stroke:none;vertical-align:baseline;white-space:pre\">2</text></g><g transform=\"translate(78.22480605802522,6)\"><text x=\"-2.78\" y=\"8.555\" style=\"fill:rgb(16.1%,15.3%,14.1%);fill-opacity:1.0;font-family:helvetica;font-size:10.0px;font-weight:normal;stroke:none;vertical-align:baseline;white-space:pre\">1</text></g><g transform=\"translate(117.33720908703782,6)\"><text x=\"-2.78\" y=\"8.555\" style=\"fill:rgb(16.1%,15.3%,14.1%);fill-opacity:1.0;font-family:helvetica;font-size:10.0px;font-weight:normal;stroke:none;vertical-align:baseline;white-space:pre\">0</text></g></g><g class=\"toyplot-coordinates-Axis-coordinates\" style=\"visibility:hidden\" transform=\"\"><line x1=\"0\" x2=\"0\" y1=\"-3.0\" y2=\"4.5\" style=\"stroke:rgb(43.9%,50.2%,56.5%);stroke-opacity:1.0;stroke-width:1.0\"></line><text x=\"0\" y=\"-6\" style=\"alignment-baseline:alphabetic;fill:rgb(43.9%,50.2%,56.5%);fill-opacity:1.0;font-size:10px;font-weight:normal;stroke:none;text-anchor:middle\"></text></g></g></g></svg><div class=\"toyplot-behavior\"><script>(function()\n",
       "{\n",
       "var modules={};\n",
       "modules[\"toyplot/canvas/id\"] = \"t47ed60d482034892ade43c7b0d217486\";\n",
       "modules[\"toyplot/canvas\"] = (function(canvas_id)\n",
       "    {\n",
       "        return document.querySelector(\"#\" + canvas_id);\n",
       "    })(modules[\"toyplot/canvas/id\"]);\n",
       "modules[\"toyplot.coordinates.Axis\"] = (\n",
       "        function(canvas)\n",
       "        {\n",
       "            function sign(x)\n",
       "            {\n",
       "                return x < 0 ? -1 : x > 0 ? 1 : 0;\n",
       "            }\n",
       "\n",
       "            function mix(a, b, amount)\n",
       "            {\n",
       "                return ((1.0 - amount) * a) + (amount * b);\n",
       "            }\n",
       "\n",
       "            function log(x, base)\n",
       "            {\n",
       "                return Math.log(Math.abs(x)) / Math.log(base);\n",
       "            }\n",
       "\n",
       "            function in_range(a, x, b)\n",
       "            {\n",
       "                var left = Math.min(a, b);\n",
       "                var right = Math.max(a, b);\n",
       "                return left <= x && x <= right;\n",
       "            }\n",
       "\n",
       "            function inside(range, projection)\n",
       "            {\n",
       "                for(var i = 0; i != projection.length; ++i)\n",
       "                {\n",
       "                    var segment = projection[i];\n",
       "                    if(in_range(segment.range.min, range, segment.range.max))\n",
       "                        return true;\n",
       "                }\n",
       "                return false;\n",
       "            }\n",
       "\n",
       "            function to_domain(range, projection)\n",
       "            {\n",
       "                for(var i = 0; i != projection.length; ++i)\n",
       "                {\n",
       "                    var segment = projection[i];\n",
       "                    if(in_range(segment.range.bounds.min, range, segment.range.bounds.max))\n",
       "                    {\n",
       "                        if(segment.scale == \"linear\")\n",
       "                        {\n",
       "                            var amount = (range - segment.range.min) / (segment.range.max - segment.range.min);\n",
       "                            return mix(segment.domain.min, segment.domain.max, amount)\n",
       "                        }\n",
       "                        else if(segment.scale[0] == \"log\")\n",
       "                        {\n",
       "                            var amount = (range - segment.range.min) / (segment.range.max - segment.range.min);\n",
       "                            var base = segment.scale[1];\n",
       "                            return sign(segment.domain.min) * Math.pow(base, mix(log(segment.domain.min, base), log(segment.domain.max, base), amount));\n",
       "                        }\n",
       "                    }\n",
       "                }\n",
       "            }\n",
       "\n",
       "            var axes = {};\n",
       "\n",
       "            function display_coordinates(e)\n",
       "            {\n",
       "                var current = canvas.createSVGPoint();\n",
       "                current.x = e.clientX;\n",
       "                current.y = e.clientY;\n",
       "\n",
       "                for(var axis_id in axes)\n",
       "                {\n",
       "                    var axis = document.querySelector(\"#\" + axis_id);\n",
       "                    var coordinates = axis.querySelector(\".toyplot-coordinates-Axis-coordinates\");\n",
       "                    if(coordinates)\n",
       "                    {\n",
       "                        var projection = axes[axis_id];\n",
       "                        var local = current.matrixTransform(axis.getScreenCTM().inverse());\n",
       "                        if(inside(local.x, projection))\n",
       "                        {\n",
       "                            var domain = to_domain(local.x, projection);\n",
       "                            coordinates.style.visibility = \"visible\";\n",
       "                            coordinates.setAttribute(\"transform\", \"translate(\" + local.x + \")\");\n",
       "                            var text = coordinates.querySelector(\"text\");\n",
       "                            text.textContent = domain.toFixed(2);\n",
       "                        }\n",
       "                        else\n",
       "                        {\n",
       "                            coordinates.style.visibility= \"hidden\";\n",
       "                        }\n",
       "                    }\n",
       "                }\n",
       "            }\n",
       "\n",
       "            canvas.addEventListener(\"click\", display_coordinates);\n",
       "\n",
       "            var module = {};\n",
       "            module.show_coordinates = function(axis_id, projection)\n",
       "            {\n",
       "                axes[axis_id] = projection;\n",
       "            }\n",
       "\n",
       "            return module;\n",
       "        })(modules[\"toyplot/canvas\"]);\n",
       "(function(axis, axis_id, projection)\n",
       "        {\n",
       "            axis.show_coordinates(axis_id, projection);\n",
       "        })(modules[\"toyplot.coordinates.Axis\"],\"t024e4ddacb2b46c8af0d48e330840d0e\",[{\"domain\": {\"bounds\": {\"max\": Infinity, \"min\": -Infinity}, \"max\": 1.985630769230769, \"min\": -3.0}, \"range\": {\"bounds\": {\"max\": Infinity, \"min\": -Infinity}, \"max\": 195.0, \"min\": 0.0}, \"scale\": \"linear\"}]);\n",
       "})();</script></div></div>"
      ]
     },
     "metadata": {},
     "output_type": "display_data"
    }
   ],
   "source": [
    "tree2 = \"(gibbon:3,(orangutan:2,(gorilla:1,(chimp:0.25,human:0.25):0.75):1):1);\"\n",
    "toytree.tree(tree2).draw(tree_style='n', scale_bar=True);"
   ]
  },
  {
   "cell_type": "markdown",
   "metadata": {},
   "source": [
    "A tree where the branch lengths represent modeled DNA substitutions, as opposed to time, will likely not have all the tips align perfectly at zero. This is because different lineages may have different rates of evolution, or, even if their rates are the same, some may have accumulated more mutations by chance. Below is an example of what an inferred tree might look like when the edges are substitutions instead of time. This is sometimes called a phylogram while the above tree is a chronogram. Generally, though, we refer to both as phylogenies and simply label the axes and figure legends to describe what they represent. "
   ]
  },
  {
   "cell_type": "code",
   "execution_count": 22,
   "metadata": {},
   "outputs": [
    {
     "data": {
      "text/html": [
       "<div class=\"toyplot\" id=\"tdb05387d196046f2afbbc1b0c6f098e0\" style=\"text-align:center\"><svg class=\"toyplot-canvas-Canvas\" xmlns:toyplot=\"http://www.sandia.gov/toyplot\" xmlns:xlink=\"http://www.w3.org/1999/xlink\" xmlns=\"http://www.w3.org/2000/svg\" width=\"295.0px\" height=\"275.0px\" viewBox=\"0 0 295.0 275.0\" preserveAspectRatio=\"xMidYMid meet\" style=\"background-color:transparent;border-color:#292724;border-style:none;border-width:1.0;fill:rgb(16.1%,15.3%,14.1%);fill-opacity:1.0;font-family:Helvetica;font-size:12px;opacity:1.0;stroke:rgb(16.1%,15.3%,14.1%);stroke-opacity:1.0;stroke-width:1.0\" id=\"t353369bad4d44c00998dd0bfd5681bd2\"><g class=\"toyplot-coordinates-Cartesian\" id=\"ta123207a595743ebaaa4eaeb6fe50bd3\"><clipPath id=\"tb12e9a32e84742718fe8616e7b55dfa7\"><rect x=\"35.0\" y=\"35.0\" width=\"225.0\" height=\"205.0\"></rect></clipPath><g clip-path=\"url(#tb12e9a32e84742718fe8616e7b55dfa7)\"><g class=\"toytree-mark-Toytree\" id=\"t8f4196433fc0412aa6972f087a1b65ca\"><g class=\"toytree-Edges\" style=\"fill:none;stroke:rgba(16.1%,15.3%,14.1%,1.000);stroke-linecap:round;stroke-width:2.0\"><path d=\"M 50.0 180.7 L 50.0 218.9 L 180.7 218.9\" id=\"8,0\" style=\"stroke-width:nan\"></path><path d=\"M 54.4 142.6 L 54.4 178.2 L 141.5 178.2\" id=\"7,1\" style=\"stroke-width:nan\"></path><path d=\"M 58.7 107.0 L 58.7 137.5 L 102.3 137.5\" id=\"6,2\" style=\"stroke-width:nan\"></path><path d=\"M 91.4 76.5 L 91.4 96.8 L 124.0 96.8\" id=\"5,3\" style=\"stroke-width:nan\"></path><path d=\"M 91.4 76.5 L 91.4 56.1 L 102.3 56.1\" id=\"5,4\" style=\"stroke-width:nan\"></path><path d=\"M 58.7 107.0 L 58.7 76.5 L 91.4 76.5\" id=\"6,5\" style=\"stroke-width:nan\"></path><path d=\"M 54.4 142.6 L 54.4 107.0 L 58.7 107.0\" id=\"7,6\" style=\"stroke-width:nan\"></path><path d=\"M 50.0 180.7 L 50.0 142.6 L 54.4 142.6\" id=\"8,7\" style=\"stroke-width:nan\"></path></g><g class=\"toytree-TipLabels\" style=\"fill:rgb(16.1%,15.3%,14.1%);fill-opacity:1.0;font-family:Helvetica;font-size:11.0px;font-weight:300;stroke:none;vertical-align:baseline;white-space:pre\"><g class=\"toytree-TipLabel\" transform=\"translate(180.65034840092906,218.86291179596174)\"><text x=\"15.0\" y=\"2.8104999999999993\" style=\"\">gibbon</text></g><g class=\"toytree-TipLabel\" transform=\"translate(141.45524388065036,178.18145589798087)\"><text x=\"15.0\" y=\"2.8104999999999993\" style=\"\">orangutan</text></g><g class=\"toytree-TipLabel\" transform=\"translate(102.26013936037162,137.49999999999997)\"><text x=\"15.0\" y=\"2.8104999999999993\" style=\"\">gorilla</text></g><g class=\"toytree-TipLabel\" transform=\"translate(124.03519742719315,96.8185441020191)\"><text x=\"15.0\" y=\"2.8104999999999993\" style=\"\">chimp</text></g><g class=\"toytree-TipLabel\" transform=\"translate(102.26013936037162,56.137088204038236)\"><text x=\"15.0\" y=\"2.8104999999999993\" style=\"\">human</text></g></g></g></g><g class=\"toyplot-coordinates-Axis\" id=\"t06639b56d0904ac091131293bb1f56e1\" transform=\"translate(50.0,225.0)translate(0,15.0)\"><line x1=\"0\" y1=\"0\" x2=\"130.6503484009291\" y2=\"0\" style=\"\"></line><g><line x1=\"0.0\" y1=\"0\" x2=\"0.0\" y2=\"-5\" style=\"\"></line><line x1=\"43.55011613364304\" y1=\"0\" x2=\"43.55011613364304\" y2=\"-5\" style=\"\"></line><line x1=\"87.10023226728606\" y1=\"0\" x2=\"87.10023226728606\" y2=\"-5\" style=\"\"></line><line x1=\"130.6503484009291\" y1=\"0\" x2=\"130.6503484009291\" y2=\"-5\" style=\"\"></line></g><g><g transform=\"translate(0.0,6)\"><text x=\"-9.729999999999999\" y=\"8.555\" style=\"fill:rgb(16.1%,15.3%,14.1%);fill-opacity:1.0;font-family:helvetica;font-size:10.0px;font-weight:normal;stroke:none;vertical-align:baseline;white-space:pre\">0.03</text></g><g transform=\"translate(43.55011613364304,6)\"><text x=\"-9.729999999999999\" y=\"8.555\" style=\"fill:rgb(16.1%,15.3%,14.1%);fill-opacity:1.0;font-family:helvetica;font-size:10.0px;font-weight:normal;stroke:none;vertical-align:baseline;white-space:pre\">0.02</text></g><g transform=\"translate(87.10023226728606,6)\"><text x=\"-9.729999999999999\" y=\"8.555\" style=\"fill:rgb(16.1%,15.3%,14.1%);fill-opacity:1.0;font-family:helvetica;font-size:10.0px;font-weight:normal;stroke:none;vertical-align:baseline;white-space:pre\">0.01</text></g><g transform=\"translate(130.6503484009291,6)\"><text x=\"-2.78\" y=\"8.555\" style=\"fill:rgb(16.1%,15.3%,14.1%);fill-opacity:1.0;font-family:helvetica;font-size:10.0px;font-weight:normal;stroke:none;vertical-align:baseline;white-space:pre\">0</text></g></g><g class=\"toyplot-coordinates-Axis-coordinates\" style=\"visibility:hidden\" transform=\"\"><line x1=\"0\" x2=\"0\" y1=\"-3.0\" y2=\"4.5\" style=\"stroke:rgb(43.9%,50.2%,56.5%);stroke-opacity:1.0;stroke-width:1.0\"></line><text x=\"0\" y=\"-6\" style=\"alignment-baseline:alphabetic;fill:rgb(43.9%,50.2%,56.5%);fill-opacity:1.0;font-size:10px;font-weight:normal;stroke:none;text-anchor:middle\"></text></g></g></g></svg><div class=\"toyplot-behavior\"><script>(function()\n",
       "{\n",
       "var modules={};\n",
       "modules[\"toyplot/canvas/id\"] = \"t353369bad4d44c00998dd0bfd5681bd2\";\n",
       "modules[\"toyplot/canvas\"] = (function(canvas_id)\n",
       "    {\n",
       "        return document.querySelector(\"#\" + canvas_id);\n",
       "    })(modules[\"toyplot/canvas/id\"]);\n",
       "modules[\"toyplot.coordinates.Axis\"] = (\n",
       "        function(canvas)\n",
       "        {\n",
       "            function sign(x)\n",
       "            {\n",
       "                return x < 0 ? -1 : x > 0 ? 1 : 0;\n",
       "            }\n",
       "\n",
       "            function mix(a, b, amount)\n",
       "            {\n",
       "                return ((1.0 - amount) * a) + (amount * b);\n",
       "            }\n",
       "\n",
       "            function log(x, base)\n",
       "            {\n",
       "                return Math.log(Math.abs(x)) / Math.log(base);\n",
       "            }\n",
       "\n",
       "            function in_range(a, x, b)\n",
       "            {\n",
       "                var left = Math.min(a, b);\n",
       "                var right = Math.max(a, b);\n",
       "                return left <= x && x <= right;\n",
       "            }\n",
       "\n",
       "            function inside(range, projection)\n",
       "            {\n",
       "                for(var i = 0; i != projection.length; ++i)\n",
       "                {\n",
       "                    var segment = projection[i];\n",
       "                    if(in_range(segment.range.min, range, segment.range.max))\n",
       "                        return true;\n",
       "                }\n",
       "                return false;\n",
       "            }\n",
       "\n",
       "            function to_domain(range, projection)\n",
       "            {\n",
       "                for(var i = 0; i != projection.length; ++i)\n",
       "                {\n",
       "                    var segment = projection[i];\n",
       "                    if(in_range(segment.range.bounds.min, range, segment.range.bounds.max))\n",
       "                    {\n",
       "                        if(segment.scale == \"linear\")\n",
       "                        {\n",
       "                            var amount = (range - segment.range.min) / (segment.range.max - segment.range.min);\n",
       "                            return mix(segment.domain.min, segment.domain.max, amount)\n",
       "                        }\n",
       "                        else if(segment.scale[0] == \"log\")\n",
       "                        {\n",
       "                            var amount = (range - segment.range.min) / (segment.range.max - segment.range.min);\n",
       "                            var base = segment.scale[1];\n",
       "                            return sign(segment.domain.min) * Math.pow(base, mix(log(segment.domain.min, base), log(segment.domain.max, base), amount));\n",
       "                        }\n",
       "                    }\n",
       "                }\n",
       "            }\n",
       "\n",
       "            var axes = {};\n",
       "\n",
       "            function display_coordinates(e)\n",
       "            {\n",
       "                var current = canvas.createSVGPoint();\n",
       "                current.x = e.clientX;\n",
       "                current.y = e.clientY;\n",
       "\n",
       "                for(var axis_id in axes)\n",
       "                {\n",
       "                    var axis = document.querySelector(\"#\" + axis_id);\n",
       "                    var coordinates = axis.querySelector(\".toyplot-coordinates-Axis-coordinates\");\n",
       "                    if(coordinates)\n",
       "                    {\n",
       "                        var projection = axes[axis_id];\n",
       "                        var local = current.matrixTransform(axis.getScreenCTM().inverse());\n",
       "                        if(inside(local.x, projection))\n",
       "                        {\n",
       "                            var domain = to_domain(local.x, projection);\n",
       "                            coordinates.style.visibility = \"visible\";\n",
       "                            coordinates.setAttribute(\"transform\", \"translate(\" + local.x + \")\");\n",
       "                            var text = coordinates.querySelector(\"text\");\n",
       "                            text.textContent = domain.toFixed(2);\n",
       "                        }\n",
       "                        else\n",
       "                        {\n",
       "                            coordinates.style.visibility= \"hidden\";\n",
       "                        }\n",
       "                    }\n",
       "                }\n",
       "            }\n",
       "\n",
       "            canvas.addEventListener(\"click\", display_coordinates);\n",
       "\n",
       "            var module = {};\n",
       "            module.show_coordinates = function(axis_id, projection)\n",
       "            {\n",
       "                axes[axis_id] = projection;\n",
       "            }\n",
       "\n",
       "            return module;\n",
       "        })(modules[\"toyplot/canvas\"]);\n",
       "(function(axis, axis_id, projection)\n",
       "        {\n",
       "            axis.show_coordinates(axis_id, projection);\n",
       "        })(modules[\"toyplot.coordinates.Axis\"],\"t06639b56d0904ac091131293bb1f56e1\",[{\"domain\": {\"bounds\": {\"max\": Infinity, \"min\": -Infinity}, \"max\": 0.014775999999999997, \"min\": -0.03}, \"range\": {\"bounds\": {\"max\": Infinity, \"min\": -Infinity}, \"max\": 195.0, \"min\": 0.0}, \"scale\": \"linear\"}]);\n",
       "})();</script></div></div>"
      ]
     },
     "metadata": {},
     "output_type": "display_data"
    }
   ],
   "source": [
    "tree2 = \"(gibbon:0.03,(orangutan:0.02,(gorilla:0.01,(chimp:0.0075,human:0.0025):0.0075):0.001):0.001);\"\n",
    "toytree.tree(tree2).draw(tree_style='n', scale_bar=True);"
   ]
  },
  {
   "cell_type": "markdown",
   "metadata": {},
   "source": [
    "<div class=\"alert alert-success\">\n",
    "    <b>Action [4]:</b> \n",
    "Try to write a newick string for the relationships of six taxa using letters for names (a-f), and plot the tree. Try to write it so that 'a' and 'b' are sister taxa, and so that f is the outgroup taxon. (Hint: just like in the code above, you need to store the newick string as a variable (e.g., tree1) and then load it with toytree using the `toytree.tree()` command, followed by the `.draw()` command). Look at the examples of newick strings above for guidance. \n",
    "\n",
    "If your newick string is malformed then the toytree.tree function will raise an Error. If this happens try to modify your newick string and try loading it again. \n",
    "\n",
    "</div>"
   ]
  },
  {
   "cell_type": "code",
   "execution_count": 23,
   "metadata": {},
   "outputs": [],
   "source": [
    "# modify this newick string by inserting additional parentheses\n",
    "newick = \"(a,b,c,d,e,f,g);\""
   ]
  },
  {
   "cell_type": "code",
   "execution_count": 25,
   "metadata": {},
   "outputs": [
    {
     "data": {
      "text/html": [
       "<div class=\"toyplot\" id=\"t65d379b6a6104eca8cfd97551423b7f4\" style=\"text-align:center\"><svg class=\"toyplot-canvas-Canvas\" xmlns:toyplot=\"http://www.sandia.gov/toyplot\" xmlns:xlink=\"http://www.w3.org/1999/xlink\" xmlns=\"http://www.w3.org/2000/svg\" width=\"255.0px\" height=\"275.0px\" viewBox=\"0 0 255.0 275.0\" preserveAspectRatio=\"xMidYMid meet\" style=\"background-color:transparent;border-color:#292724;border-style:none;border-width:1.0;fill:rgb(16.1%,15.3%,14.1%);fill-opacity:1.0;font-family:Helvetica;font-size:12px;opacity:1.0;stroke:rgb(16.1%,15.3%,14.1%);stroke-opacity:1.0;stroke-width:1.0\" id=\"tef53ecdd0f4d4b36b840e490cf7c76e6\"><g class=\"toyplot-coordinates-Cartesian\" id=\"t3da34852fb4c4d64ba5e0254457a136e\"><clipPath id=\"t722a9058e3764d4896fc3958861a9919\"><rect x=\"35.0\" y=\"35.0\" width=\"185.0\" height=\"205.0\"></rect></clipPath><g clip-path=\"url(#t722a9058e3764d4896fc3958861a9919)\"><g class=\"toytree-mark-Toytree\" id=\"t99293dcbee5b4fa0b66de76421f23fab\"><g class=\"toytree-Edges\" style=\"fill:none;stroke:rgba(16.1%,15.3%,14.1%,1.000);stroke-linecap:round;stroke-width:2.0\"><path d=\"M 50.0 137.5 L 50.0 218.9 L 171.8 218.9\" id=\"7,0\" style=\"stroke-width:nan\"></path><path d=\"M 50.0 137.5 L 50.0 191.7 L 171.8 191.7\" id=\"7,1\" style=\"stroke-width:nan\"></path><path d=\"M 50.0 137.5 L 50.0 164.6 L 171.8 164.6\" id=\"7,2\" style=\"stroke-width:nan\"></path><path d=\"M 50.0 137.5 L 50.0 137.5 L 171.8 137.5\" id=\"7,3\" style=\"stroke-width:nan\"></path><path d=\"M 50.0 137.5 L 50.0 110.4 L 171.8 110.4\" id=\"7,4\" style=\"stroke-width:nan\"></path><path d=\"M 50.0 137.5 L 50.0 83.3 L 171.8 83.3\" id=\"7,5\" style=\"stroke-width:nan\"></path><path d=\"M 50.0 137.5 L 50.0 56.1 L 171.8 56.1\" id=\"7,6\" style=\"stroke-width:nan\"></path></g><g class=\"toytree-TipLabels\" style=\"fill:rgb(16.1%,15.3%,14.1%);fill-opacity:1.0;font-family:Helvetica;font-size:11.0px;font-weight:300;stroke:none;vertical-align:baseline;white-space:pre\"><g class=\"toytree-TipLabel\" transform=\"translate(171.81086233471243,218.86291179596174)\"><text x=\"15.0\" y=\"2.8104999999999993\" style=\"\">a</text></g><g class=\"toytree-TipLabel\" transform=\"translate(171.81086233471243,191.74194119730782)\"><text x=\"15.0\" y=\"2.8104999999999993\" style=\"\">b</text></g><g class=\"toytree-TipLabel\" transform=\"translate(171.81086233471243,164.6209705986539)\"><text x=\"15.0\" y=\"2.8104999999999993\" style=\"\">c</text></g><g class=\"toytree-TipLabel\" transform=\"translate(171.81086233471243,137.5)\"><text x=\"15.0\" y=\"2.8104999999999993\" style=\"\">d</text></g><g class=\"toytree-TipLabel\" transform=\"translate(171.81086233471243,110.37902940134609)\"><text x=\"15.0\" y=\"2.8104999999999993\" style=\"\">e</text></g><g class=\"toytree-TipLabel\" transform=\"translate(171.81086233471243,83.25805880269218)\"><text x=\"15.0\" y=\"2.8104999999999993\" style=\"\">f</text></g><g class=\"toytree-TipLabel\" transform=\"translate(171.81086233471243,56.13708820403825)\"><text x=\"15.0\" y=\"2.8104999999999993\" style=\"\">g</text></g></g></g></g></g></svg><div class=\"toyplot-behavior\"><script>(function()\n",
       "{\n",
       "var modules={};\n",
       "})();</script></div></div>"
      ]
     },
     "metadata": {},
     "output_type": "display_data"
    }
   ],
   "source": [
    "# load and draw the tree\n",
    "toytree.tree(newick).draw(use_edge_lengths=False);"
   ]
  },
  {
   "cell_type": "code",
   "execution_count": 36,
   "metadata": {
    "scrolled": true
   },
   "outputs": [
    {
     "data": {
      "text/html": [
       "<div class=\"toyplot\" id=\"t69bd97e748564e188a63f7352ad1e014\" style=\"text-align:center\"><svg class=\"toyplot-canvas-Canvas\" xmlns:toyplot=\"http://www.sandia.gov/toyplot\" xmlns:xlink=\"http://www.w3.org/1999/xlink\" xmlns=\"http://www.w3.org/2000/svg\" width=\"350.0px\" height=\"295.0px\" viewBox=\"0 0 350.0 295.0\" preserveAspectRatio=\"xMidYMid meet\" style=\"background-color:transparent;border-color:#292724;border-style:none;border-width:1.0;fill:rgb(16.1%,15.3%,14.1%);fill-opacity:1.0;font-family:Helvetica;font-size:12px;opacity:1.0;stroke:rgb(16.1%,15.3%,14.1%);stroke-opacity:1.0;stroke-width:1.0\" id=\"t8a396717670f4837a62996202ee82b21\"><g class=\"toyplot-coordinates-Cartesian\" id=\"t48cfef569b2541fa9dae84b9bf227f07\"><clipPath id=\"t0df9c5871eb94581b0c15ced7333fbae\"><rect x=\"35.0\" y=\"35.0\" width=\"280.0\" height=\"225.0\"></rect></clipPath><g clip-path=\"url(#t0df9c5871eb94581b0c15ced7333fbae)\"><g class=\"toytree-mark-Toytree\" id=\"t530b8a7a3fcc49ec863b26c6aa2b8f3e\"><g class=\"toytree-Edges\" style=\"fill:none;stroke:rgba(16.1%,15.3%,14.1%,1.000);stroke-linecap:round;stroke-width:2.0\"><path d=\"M 212.1 171.8 L 278.3 197.9\" id=\"7,0\" style=\"stroke-width:nan\"></path><path d=\"M 209.6 127.7 L 284.1 109.3\" id=\"6,1\" style=\"stroke-width:nan\"></path><path d=\"M 145.9 99.9 L 157.0 56.2\" id=\"5,2\" style=\"stroke-width:nan\"></path><path d=\"M 145.9 99.9 L 64.8 93.5\" id=\"5,3\" style=\"stroke-width:nan\"></path><path d=\"M 212.1 171.8 L 105.3 238.8\" id=\"7,4\" style=\"stroke-width:nan\"></path><path d=\"M 209.6 127.7 L 145.9 99.9\" id=\"6,5\" style=\"stroke-width:nan\"></path><path d=\"M 212.1 171.8 L 209.6 127.7\" id=\"7,6\" style=\"stroke-width:nan\"></path></g><g class=\"toytree-TipLabels\" style=\"fill:rgb(16.1%,15.3%,14.1%);fill-opacity:1.0;font-family:Helvetica;font-size:11.0px;font-weight:300;stroke:none;vertical-align:baseline;white-space:pre\"><g class=\"toytree-TipLabel\" transform=\"translate(278.26999742997924,197.90559691854764)\"><text x=\"-24.766499999999997\" y=\"2.8104999999999993\" style=\"\">orangutan</text></g><g class=\"toytree-TipLabel\" transform=\"translate(284.1008233184435,109.30797312169486)\"><text x=\"-14.668500000000002\" y=\"2.8104999999999993\" style=\"\">gorilla</text></g><g class=\"toytree-TipLabel\" transform=\"translate(157.0401874226105,56.18155619596541)\"><text x=\"-14.668500000000002\" y=\"2.8104999999999993\" style=\"\">chimp</text></g><g class=\"toytree-TipLabel\" transform=\"translate(64.75208035899476,93.47613474296587)\"><text x=\"-16.8135\" y=\"2.8104999999999993\" style=\"\">human</text></g><g class=\"toytree-TipLabel\" transform=\"translate(105.33004745699877,238.8184438040346)\"><text x=\"-16.511\" y=\"2.8104999999999993\" style=\"\">gibbon</text></g></g></g></g></g></svg><div class=\"toyplot-behavior\"><script>(function()\n",
       "{\n",
       "var modules={};\n",
       "})();</script></div></div>"
      ]
     },
     "metadata": {},
     "output_type": "display_data"
    }
   ],
   "source": [
    "toytree.tree(tree1).unroot().draw(layout=\"unroot\");"
   ]
  },
  {
   "cell_type": "markdown",
   "metadata": {},
   "source": [
    "### What is tree rooting?\n",
    "Every tree has a true root position. The root defines the direction in which evolution took place (from the past to the present). This is called the \"polarity\" of the tree. The problem is, for many types of phylogenetic inference we only care about counting the number of changes on the tree, which we can calculate without knowing the root. In fact, the resulting trees can be represented in unrooted form, and this can still be informative, but depending on where the true root, it may change our interpretation of the relationships. Best practice is to state whether a tree is rooted or not. Often a `polytomy` (unresolved split) at the base of the tree indicates whether it is rooted. The tree below is unrooted. It does not include a split telling us whether `(gorilla, (chimp, human));` is more closely related to orangutan or to gibbon, or equally related to both. "
   ]
  },
  {
   "cell_type": "code",
   "execution_count": 26,
   "metadata": {},
   "outputs": [
    {
     "data": {
      "text/html": [
       "<div class=\"toyplot\" id=\"t2aa2ad5b230d49a0bae8006e68ce3446\" style=\"text-align:center\"><svg class=\"toyplot-canvas-Canvas\" xmlns:toyplot=\"http://www.sandia.gov/toyplot\" xmlns:xlink=\"http://www.w3.org/1999/xlink\" xmlns=\"http://www.w3.org/2000/svg\" width=\"295.0px\" height=\"275.0px\" viewBox=\"0 0 295.0 275.0\" preserveAspectRatio=\"xMidYMid meet\" style=\"background-color:transparent;border-color:#292724;border-style:none;border-width:1.0;fill:rgb(16.1%,15.3%,14.1%);fill-opacity:1.0;font-family:Helvetica;font-size:12px;opacity:1.0;stroke:rgb(16.1%,15.3%,14.1%);stroke-opacity:1.0;stroke-width:1.0\" id=\"t4c42b6c903754590a844c9aa66aca08f\"><g class=\"toyplot-coordinates-Cartesian\" id=\"tca746a47e0764f15892a23253e40cf23\"><clipPath id=\"t1fc3e27f4116486993163410d6c119d7\"><rect x=\"35.0\" y=\"35.0\" width=\"225.0\" height=\"205.0\"></rect></clipPath><g clip-path=\"url(#t1fc3e27f4116486993163410d6c119d7)\"><g class=\"toytree-mark-Toytree\" id=\"tb04080fa993c4e5db51e317f1ffd1549\"><g class=\"toytree-Edges\" style=\"fill:none;stroke:rgba(16.1%,15.3%,14.1%,1.000);stroke-linecap:round;stroke-width:2.0\"><path d=\"M 55.3 140.8 L 55.3 216.8 L 169.4 216.8\" id=\"7,0\" style=\"stroke-width:nan\"></path><path d=\"M 93.3 147.4 L 93.3 177.2 L 169.4 177.2\" id=\"6,1\" style=\"stroke-width:nan\"></path><path d=\"M 131.4 117.7 L 131.4 137.5 L 169.4 137.5\" id=\"5,2\" style=\"stroke-width:nan\"></path><path d=\"M 131.4 117.7 L 131.4 97.8 L 169.4 97.8\" id=\"5,3\" style=\"stroke-width:nan\"></path><path d=\"M 55.3 140.8 L 55.3 58.2 L 169.4 58.2\" id=\"7,4\" style=\"stroke-width:nan\"></path><path d=\"M 93.3 147.4 L 93.3 117.7 L 131.4 117.7\" id=\"6,5\" style=\"stroke-width:nan\"></path><path d=\"M 55.3 140.8 L 55.3 147.4 L 93.3 147.4\" id=\"7,6\" style=\"stroke-width:nan\"></path></g><g class=\"toytree-Nodes\" style=\"fill:rgba(82.7%,82.7%,82.7%,1.000);stroke:#262626;stroke-width:1.5\"><g id=\"node-0\" transform=\"translate(169.436,216.839)\"><circle r=\"9.0\"></circle></g><g id=\"node-1\" transform=\"translate(169.436,177.170)\"><circle r=\"9.0\"></circle></g><g id=\"node-2\" transform=\"translate(169.436,137.500)\"><circle r=\"9.0\"></circle></g><g id=\"node-3\" transform=\"translate(169.436,97.830)\"><circle r=\"9.0\"></circle></g><g id=\"node-4\" transform=\"translate(169.436,58.161)\"><circle r=\"9.0\"></circle></g><g id=\"node-5\" transform=\"translate(131.380,117.665)\"><circle r=\"9.0\"></circle></g><g id=\"node-6\" transform=\"translate(93.325,147.417)\"><circle r=\"9.0\"></circle></g><g id=\"node-7\" transform=\"translate(55.269,140.806)\"><circle r=\"9.0\"></circle></g></g><g class=\"toytree-NodeLabels\" style=\"font-family:Helvetica;font-size:9.0px;font-weight:300;stroke:none;vertical-align:baseline;white-space:pre\"><g class=\"toytree-NodeLabel\" transform=\"translate(169.43578750157627,216.83937823834196)\"><text x=\"-2.5020000000000002\" y=\"2.2995\" style=\"fill:rgb(16.1%,15.3%,14.1%);fill-opacity:1.0\">0</text></g><g class=\"toytree-NodeLabel\" transform=\"translate(169.43578750157627,177.16968911917095)\"><text x=\"-2.5020000000000002\" y=\"2.2995\" style=\"fill:rgb(16.1%,15.3%,14.1%);fill-opacity:1.0\">1</text></g><g class=\"toytree-NodeLabel\" transform=\"translate(169.43578750157627,137.5)\"><text x=\"-2.5020000000000002\" y=\"2.2995\" style=\"fill:rgb(16.1%,15.3%,14.1%);fill-opacity:1.0\">2</text></g><g class=\"toytree-NodeLabel\" transform=\"translate(169.43578750157627,97.83031088082902)\"><text x=\"-2.5020000000000002\" y=\"2.2995\" style=\"fill:rgb(16.1%,15.3%,14.1%);fill-opacity:1.0\">3</text></g><g class=\"toytree-NodeLabel\" transform=\"translate(169.43578750157627,58.16062176165802)\"><text x=\"-2.5020000000000002\" y=\"2.2995\" style=\"fill:rgb(16.1%,15.3%,14.1%);fill-opacity:1.0\">4</text></g><g class=\"toytree-NodeLabel\" transform=\"translate(131.38026697411325,117.66515544041452)\"><text x=\"-2.5020000000000002\" y=\"2.2995\" style=\"fill:rgb(16.1%,15.3%,14.1%);fill-opacity:1.0\">5</text></g><g class=\"toytree-NodeLabel\" transform=\"translate(93.32474644665022,147.41742227979273)\"><text x=\"-2.5020000000000002\" y=\"2.2995\" style=\"fill:rgb(16.1%,15.3%,14.1%);fill-opacity:1.0\">6</text></g><g class=\"toytree-NodeLabel\" transform=\"translate(55.26922591918721,140.80580742659757)\"><text x=\"-2.5020000000000002\" y=\"2.2995\" style=\"fill:rgb(16.1%,15.3%,14.1%);fill-opacity:1.0\">7</text></g></g><g class=\"toytree-TipLabels\" style=\"fill:rgb(16.1%,15.3%,14.1%);fill-opacity:1.0;font-family:Helvetica;font-size:11.0px;font-weight:300;stroke:none;vertical-align:baseline;white-space:pre\"><g class=\"toytree-TipLabel\" transform=\"translate(169.43578750157627,216.83937823834196)\"><text x=\"15.0\" y=\"2.8104999999999993\" style=\"\">orangutan</text></g><g class=\"toytree-TipLabel\" transform=\"translate(169.43578750157627,177.16968911917095)\"><text x=\"15.0\" y=\"2.8104999999999993\" style=\"\">gorilla</text></g><g class=\"toytree-TipLabel\" transform=\"translate(169.43578750157627,137.5)\"><text x=\"15.0\" y=\"2.8104999999999993\" style=\"\">chimp</text></g><g class=\"toytree-TipLabel\" transform=\"translate(169.43578750157627,97.83031088082902)\"><text x=\"15.0\" y=\"2.8104999999999993\" style=\"\">human</text></g><g class=\"toytree-TipLabel\" transform=\"translate(169.43578750157627,58.16062176165802)\"><text x=\"15.0\" y=\"2.8104999999999993\" style=\"\">gibbon</text></g></g></g></g></g></svg><div class=\"toyplot-behavior\"><script>(function()\n",
       "{\n",
       "var modules={};\n",
       "})();</script></div></div>"
      ]
     },
     "metadata": {},
     "output_type": "display_data"
    }
   ],
   "source": [
    "toytree.tree(tree1).unroot().draw(tree_style='s');"
   ]
  },
  {
   "cell_type": "markdown",
   "metadata": {},
   "source": [
    "For example, what if we place the root of the tree on the gibbon branch: Then the Orangutan is more closely related to the (g(c,h)) clade. To conceptualize what it means to \"place a root on the tree\", think of it as taking a point on one of the branches of the tree and pinching it like it is string, and pulling it back to form a new node. "
   ]
  },
  {
   "cell_type": "code",
   "execution_count": 27,
   "metadata": {},
   "outputs": [
    {
     "data": {
      "text/html": [
       "<div class=\"toyplot\" id=\"t60c2f6a3925d473099d2ab073f13cfbf\" style=\"text-align:center\"><svg class=\"toyplot-canvas-Canvas\" xmlns:toyplot=\"http://www.sandia.gov/toyplot\" xmlns:xlink=\"http://www.w3.org/1999/xlink\" xmlns=\"http://www.w3.org/2000/svg\" width=\"295.0px\" height=\"275.0px\" viewBox=\"0 0 295.0 275.0\" preserveAspectRatio=\"xMidYMid meet\" style=\"background-color:transparent;border-color:#292724;border-style:none;border-width:1.0;fill:rgb(16.1%,15.3%,14.1%);fill-opacity:1.0;font-family:Helvetica;font-size:12px;opacity:1.0;stroke:rgb(16.1%,15.3%,14.1%);stroke-opacity:1.0;stroke-width:1.0\" id=\"tee6b5872705f4af28d4deba0e99a8f5d\"><g class=\"toyplot-coordinates-Cartesian\" id=\"t2aa7ce7ea0334e4092655bb27845ec29\"><clipPath id=\"t19acac18c79d4f519993e2dd5e9453a4\"><rect x=\"35.0\" y=\"35.0\" width=\"225.0\" height=\"205.0\"></rect></clipPath><g clip-path=\"url(#t19acac18c79d4f519993e2dd5e9453a4)\"><g class=\"toytree-mark-Toytree\" id=\"t8f5dd1d274914d38878f4e083d8566e2\"><g class=\"toytree-Edges\" style=\"fill:none;stroke:rgba(16.1%,15.3%,14.1%,1.000);stroke-linecap:round;stroke-width:2.0\"><path d=\"M 55.3 179.6 L 55.3 216.8 L 169.4 216.8\" id=\"8,0\" style=\"stroke-width:nan\"></path><path d=\"M 83.8 142.5 L 83.8 177.2 L 169.4 177.2\" id=\"7,1\" style=\"stroke-width:nan\"></path><path d=\"M 112.4 107.7 L 112.4 137.5 L 169.4 137.5\" id=\"6,2\" style=\"stroke-width:nan\"></path><path d=\"M 140.9 78.0 L 140.9 97.8 L 169.4 97.8\" id=\"5,3\" style=\"stroke-width:nan\"></path><path d=\"M 140.9 78.0 L 140.9 58.2 L 169.4 58.2\" id=\"5,4\" style=\"stroke-width:nan\"></path><path d=\"M 112.4 107.7 L 112.4 78.0 L 140.9 78.0\" id=\"6,5\" style=\"stroke-width:nan\"></path><path d=\"M 83.8 142.5 L 83.8 107.7 L 112.4 107.7\" id=\"7,6\" style=\"stroke-width:nan\"></path><path d=\"M 55.3 179.6 L 55.3 142.5 L 83.8 142.5\" id=\"8,7\" style=\"stroke-width:nan\"></path></g><g class=\"toytree-Nodes\" style=\"fill:rgba(82.7%,82.7%,82.7%,1.000);stroke:#262626;stroke-width:1.5\"><g id=\"node-0\" transform=\"translate(169.436,216.839)\"><circle r=\"9.0\"></circle></g><g id=\"node-1\" transform=\"translate(169.436,177.170)\"><circle r=\"9.0\"></circle></g><g id=\"node-2\" transform=\"translate(169.436,137.500)\"><circle r=\"9.0\"></circle></g><g id=\"node-3\" transform=\"translate(169.436,97.830)\"><circle r=\"9.0\"></circle></g><g id=\"node-4\" transform=\"translate(169.436,58.161)\"><circle r=\"9.0\"></circle></g><g id=\"node-5\" transform=\"translate(140.894,77.995)\"><circle r=\"9.0\"></circle></g><g id=\"node-6\" transform=\"translate(112.353,107.748)\"><circle r=\"9.0\"></circle></g><g id=\"node-7\" transform=\"translate(83.811,142.459)\"><circle r=\"9.0\"></circle></g><g id=\"node-8\" transform=\"translate(55.269,179.649)\"><circle r=\"9.0\"></circle></g></g><g class=\"toytree-NodeLabels\" style=\"font-family:Helvetica;font-size:9.0px;font-weight:300;stroke:none;vertical-align:baseline;white-space:pre\"><g class=\"toytree-NodeLabel\" transform=\"translate(169.43578750157627,216.83937823834196)\"><text x=\"-2.5020000000000002\" y=\"2.2995\" style=\"fill:rgb(16.1%,15.3%,14.1%);fill-opacity:1.0\">0</text></g><g class=\"toytree-NodeLabel\" transform=\"translate(169.43578750157627,177.16968911917095)\"><text x=\"-2.5020000000000002\" y=\"2.2995\" style=\"fill:rgb(16.1%,15.3%,14.1%);fill-opacity:1.0\">1</text></g><g class=\"toytree-NodeLabel\" transform=\"translate(169.43578750157627,137.5)\"><text x=\"-2.5020000000000002\" y=\"2.2995\" style=\"fill:rgb(16.1%,15.3%,14.1%);fill-opacity:1.0\">2</text></g><g class=\"toytree-NodeLabel\" transform=\"translate(169.43578750157627,97.83031088082902)\"><text x=\"-2.5020000000000002\" y=\"2.2995\" style=\"fill:rgb(16.1%,15.3%,14.1%);fill-opacity:1.0\">3</text></g><g class=\"toytree-NodeLabel\" transform=\"translate(169.43578750157627,58.16062176165802)\"><text x=\"-2.5020000000000002\" y=\"2.2995\" style=\"fill:rgb(16.1%,15.3%,14.1%);fill-opacity:1.0\">4</text></g><g class=\"toytree-NodeLabel\" transform=\"translate(140.89414710597902,77.99546632124353)\"><text x=\"-2.5020000000000002\" y=\"2.2995\" style=\"fill:rgb(16.1%,15.3%,14.1%);fill-opacity:1.0\">5</text></g><g class=\"toytree-NodeLabel\" transform=\"translate(112.35250671038173,107.74773316062175)\"><text x=\"-2.5020000000000002\" y=\"2.2995\" style=\"fill:rgb(16.1%,15.3%,14.1%);fill-opacity:1.0\">6</text></g><g class=\"toytree-NodeLabel\" transform=\"translate(83.81086631478446,142.45871113989637)\"><text x=\"-2.5020000000000002\" y=\"2.2995\" style=\"fill:rgb(16.1%,15.3%,14.1%);fill-opacity:1.0\">7</text></g><g class=\"toytree-NodeLabel\" transform=\"translate(55.26922591918719,179.64904468911917)\"><text x=\"-2.5020000000000002\" y=\"2.2995\" style=\"fill:rgb(16.1%,15.3%,14.1%);fill-opacity:1.0\">8</text></g></g><g class=\"toytree-TipLabels\" style=\"fill:rgb(16.1%,15.3%,14.1%);fill-opacity:1.0;font-family:Helvetica;font-size:11.0px;font-weight:300;stroke:none;vertical-align:baseline;white-space:pre\"><g class=\"toytree-TipLabel\" transform=\"translate(169.43578750157627,216.83937823834196)\"><text x=\"15.0\" y=\"2.8104999999999993\" style=\"\">gibbon</text></g><g class=\"toytree-TipLabel\" transform=\"translate(169.43578750157627,177.16968911917095)\"><text x=\"15.0\" y=\"2.8104999999999993\" style=\"\">orangutan</text></g><g class=\"toytree-TipLabel\" transform=\"translate(169.43578750157627,137.5)\"><text x=\"15.0\" y=\"2.8104999999999993\" style=\"\">gorilla</text></g><g class=\"toytree-TipLabel\" transform=\"translate(169.43578750157627,97.83031088082902)\"><text x=\"15.0\" y=\"2.8104999999999993\" style=\"\">chimp</text></g><g class=\"toytree-TipLabel\" transform=\"translate(169.43578750157627,58.16062176165802)\"><text x=\"15.0\" y=\"2.8104999999999993\" style=\"\">human</text></g></g></g></g></g></svg><div class=\"toyplot-behavior\"><script>(function()\n",
       "{\n",
       "var modules={};\n",
       "})();</script></div></div>"
      ]
     },
     "metadata": {},
     "output_type": "display_data"
    }
   ],
   "source": [
    "toytree.tree(tree1).root(\"gibbon\").draw(tree_style='s');"
   ]
  },
  {
   "cell_type": "markdown",
   "metadata": {},
   "source": [
    "Whereas if the root is placed on the orangutan branch then the result is different:\n",
    "    "
   ]
  },
  {
   "cell_type": "code",
   "execution_count": 28,
   "metadata": {},
   "outputs": [
    {
     "data": {
      "text/html": [
       "<div class=\"toyplot\" id=\"td1e664c9f79644939a49e08a63de73e8\" style=\"text-align:center\"><svg class=\"toyplot-canvas-Canvas\" xmlns:toyplot=\"http://www.sandia.gov/toyplot\" xmlns:xlink=\"http://www.w3.org/1999/xlink\" xmlns=\"http://www.w3.org/2000/svg\" width=\"295.0px\" height=\"275.0px\" viewBox=\"0 0 295.0 275.0\" preserveAspectRatio=\"xMidYMid meet\" style=\"background-color:transparent;border-color:#292724;border-style:none;border-width:1.0;fill:rgb(16.1%,15.3%,14.1%);fill-opacity:1.0;font-family:Helvetica;font-size:12px;opacity:1.0;stroke:rgb(16.1%,15.3%,14.1%);stroke-opacity:1.0;stroke-width:1.0\" id=\"t3ef4bf7d9aef4a40a16dcad0d776039b\"><g class=\"toyplot-coordinates-Cartesian\" id=\"t6b2ddb5cbd6d46d6aa9214b70f5a2a88\"><clipPath id=\"t0a03a8a019b84b63872f162688717540\"><rect x=\"35.0\" y=\"35.0\" width=\"225.0\" height=\"205.0\"></rect></clipPath><g clip-path=\"url(#t0a03a8a019b84b63872f162688717540)\"><g class=\"toytree-mark-Toytree\" id=\"tbdb898f5f728495b95aaf508af72afa4\"><g class=\"toytree-Edges\" style=\"fill:none;stroke:rgba(16.1%,15.3%,14.1%,1.000);stroke-linecap:round;stroke-width:2.0\"><path d=\"M 55.3 159.8 L 55.3 216.8 L 169.4 216.8\" id=\"8,0\" style=\"stroke-width:nan\"></path><path d=\"M 112.4 147.4 L 112.4 177.2 L 169.4 177.2\" id=\"6,1\" style=\"stroke-width:nan\"></path><path d=\"M 140.9 117.7 L 140.9 137.5 L 169.4 137.5\" id=\"5,2\" style=\"stroke-width:nan\"></path><path d=\"M 140.9 117.7 L 140.9 97.8 L 169.4 97.8\" id=\"5,3\" style=\"stroke-width:nan\"></path><path d=\"M 83.8 102.8 L 83.8 58.2 L 169.4 58.2\" id=\"7,4\" style=\"stroke-width:nan\"></path><path d=\"M 112.4 147.4 L 112.4 117.7 L 140.9 117.7\" id=\"6,5\" style=\"stroke-width:nan\"></path><path d=\"M 83.8 102.8 L 83.8 147.4 L 112.4 147.4\" id=\"7,6\" style=\"stroke-width:nan\"></path><path d=\"M 55.3 159.8 L 55.3 102.8 L 83.8 102.8\" id=\"8,7\" style=\"stroke-width:nan\"></path></g><g class=\"toytree-Nodes\" style=\"fill:rgba(82.7%,82.7%,82.7%,1.000);stroke:#262626;stroke-width:1.5\"><g id=\"node-0\" transform=\"translate(169.436,216.839)\"><circle r=\"9.0\"></circle></g><g id=\"node-1\" transform=\"translate(169.436,177.170)\"><circle r=\"9.0\"></circle></g><g id=\"node-2\" transform=\"translate(169.436,137.500)\"><circle r=\"9.0\"></circle></g><g id=\"node-3\" transform=\"translate(169.436,97.830)\"><circle r=\"9.0\"></circle></g><g id=\"node-4\" transform=\"translate(169.436,58.161)\"><circle r=\"9.0\"></circle></g><g id=\"node-5\" transform=\"translate(140.894,117.665)\"><circle r=\"9.0\"></circle></g><g id=\"node-6\" transform=\"translate(112.353,147.417)\"><circle r=\"9.0\"></circle></g><g id=\"node-7\" transform=\"translate(83.811,102.789)\"><circle r=\"9.0\"></circle></g><g id=\"node-8\" transform=\"translate(55.269,159.814)\"><circle r=\"9.0\"></circle></g></g><g class=\"toytree-NodeLabels\" style=\"font-family:Helvetica;font-size:9.0px;font-weight:300;stroke:none;vertical-align:baseline;white-space:pre\"><g class=\"toytree-NodeLabel\" transform=\"translate(169.43578750157627,216.83937823834196)\"><text x=\"-2.5020000000000002\" y=\"2.2995\" style=\"fill:rgb(16.1%,15.3%,14.1%);fill-opacity:1.0\">0</text></g><g class=\"toytree-NodeLabel\" transform=\"translate(169.43578750157627,177.16968911917095)\"><text x=\"-2.5020000000000002\" y=\"2.2995\" style=\"fill:rgb(16.1%,15.3%,14.1%);fill-opacity:1.0\">1</text></g><g class=\"toytree-NodeLabel\" transform=\"translate(169.43578750157627,137.5)\"><text x=\"-2.5020000000000002\" y=\"2.2995\" style=\"fill:rgb(16.1%,15.3%,14.1%);fill-opacity:1.0\">2</text></g><g class=\"toytree-NodeLabel\" transform=\"translate(169.43578750157627,97.83031088082902)\"><text x=\"-2.5020000000000002\" y=\"2.2995\" style=\"fill:rgb(16.1%,15.3%,14.1%);fill-opacity:1.0\">3</text></g><g class=\"toytree-NodeLabel\" transform=\"translate(169.43578750157627,58.16062176165802)\"><text x=\"-2.5020000000000002\" y=\"2.2995\" style=\"fill:rgb(16.1%,15.3%,14.1%);fill-opacity:1.0\">4</text></g><g class=\"toytree-NodeLabel\" transform=\"translate(140.89414710597902,117.66515544041452)\"><text x=\"-2.5020000000000002\" y=\"2.2995\" style=\"fill:rgb(16.1%,15.3%,14.1%);fill-opacity:1.0\">5</text></g><g class=\"toytree-NodeLabel\" transform=\"translate(112.35250671038173,147.41742227979273)\"><text x=\"-2.5020000000000002\" y=\"2.2995\" style=\"fill:rgb(16.1%,15.3%,14.1%);fill-opacity:1.0\">6</text></g><g class=\"toytree-NodeLabel\" transform=\"translate(83.81086631478446,102.78902202072538)\"><text x=\"-2.5020000000000002\" y=\"2.2995\" style=\"fill:rgb(16.1%,15.3%,14.1%);fill-opacity:1.0\">7</text></g><g class=\"toytree-NodeLabel\" transform=\"translate(55.26922591918719,159.81420012953367)\"><text x=\"-2.5020000000000002\" y=\"2.2995\" style=\"fill:rgb(16.1%,15.3%,14.1%);fill-opacity:1.0\">8</text></g></g><g class=\"toytree-TipLabels\" style=\"fill:rgb(16.1%,15.3%,14.1%);fill-opacity:1.0;font-family:Helvetica;font-size:11.0px;font-weight:300;stroke:none;vertical-align:baseline;white-space:pre\"><g class=\"toytree-TipLabel\" transform=\"translate(169.43578750157627,216.83937823834196)\"><text x=\"15.0\" y=\"2.8104999999999993\" style=\"\">orangutan</text></g><g class=\"toytree-TipLabel\" transform=\"translate(169.43578750157627,177.16968911917095)\"><text x=\"15.0\" y=\"2.8104999999999993\" style=\"\">gorilla</text></g><g class=\"toytree-TipLabel\" transform=\"translate(169.43578750157627,137.5)\"><text x=\"15.0\" y=\"2.8104999999999993\" style=\"\">chimp</text></g><g class=\"toytree-TipLabel\" transform=\"translate(169.43578750157627,97.83031088082902)\"><text x=\"15.0\" y=\"2.8104999999999993\" style=\"\">human</text></g><g class=\"toytree-TipLabel\" transform=\"translate(169.43578750157627,58.16062176165802)\"><text x=\"15.0\" y=\"2.8104999999999993\" style=\"\">gibbon</text></g></g></g></g></g></svg><div class=\"toyplot-behavior\"><script>(function()\n",
       "{\n",
       "var modules={};\n",
       "})();</script></div></div>"
      ]
     },
     "metadata": {},
     "output_type": "display_data"
    }
   ],
   "source": [
    "toytree.tree(tree1).root(\"orangutan\").draw(tree_style='s');"
   ]
  },
  {
   "cell_type": "markdown",
   "metadata": {},
   "source": [
    "The root could also be on the edge that separates (o, g) from (g,(h,c)). "
   ]
  },
  {
   "cell_type": "code",
   "execution_count": 30,
   "metadata": {},
   "outputs": [
    {
     "data": {
      "text/html": [
       "<div class=\"toyplot\" id=\"t5504c5c61a8b43b39539119247668c2e\" style=\"text-align:center\"><svg class=\"toyplot-canvas-Canvas\" xmlns:toyplot=\"http://www.sandia.gov/toyplot\" xmlns:xlink=\"http://www.w3.org/1999/xlink\" xmlns=\"http://www.w3.org/2000/svg\" width=\"295.0px\" height=\"275.0px\" viewBox=\"0 0 295.0 275.0\" preserveAspectRatio=\"xMidYMid meet\" style=\"background-color:transparent;border-color:#292724;border-style:none;border-width:1.0;fill:rgb(16.1%,15.3%,14.1%);fill-opacity:1.0;font-family:Helvetica;font-size:12px;opacity:1.0;stroke:rgb(16.1%,15.3%,14.1%);stroke-opacity:1.0;stroke-width:1.0\" id=\"tea4d240d9bcd48cc95f9c1b55aafab91\"><g class=\"toyplot-coordinates-Cartesian\" id=\"t2fb1307f1dbb4c738bdd1f2e0d067e36\"><clipPath id=\"tc0b66ac9d8b743a99d452775278c56d0\"><rect x=\"35.0\" y=\"35.0\" width=\"225.0\" height=\"205.0\"></rect></clipPath><g clip-path=\"url(#tc0b66ac9d8b743a99d452775278c56d0)\"><g class=\"toytree-mark-Toytree\" id=\"t318b195fd4cc42d3b1cd0edda241fd9d\"><g class=\"toytree-Edges\" style=\"fill:none;stroke:rgba(16.1%,15.3%,14.1%,1.000);stroke-linecap:round;stroke-width:2.0\"><path d=\"M 55.3 179.6 L 55.3 216.8 L 169.4 216.8\" id=\"8,0\" style=\"stroke-width:nan\"></path><path d=\"M 83.8 142.5 L 83.8 177.2 L 169.4 177.2\" id=\"7,1\" style=\"stroke-width:nan\"></path><path d=\"M 112.4 107.7 L 112.4 137.5 L 169.4 137.5\" id=\"6,2\" style=\"stroke-width:nan\"></path><path d=\"M 140.9 78.0 L 140.9 97.8 L 169.4 97.8\" id=\"5,3\" style=\"stroke-width:nan\"></path><path d=\"M 140.9 78.0 L 140.9 58.2 L 169.4 58.2\" id=\"5,4\" style=\"stroke-width:nan\"></path><path d=\"M 112.4 107.7 L 112.4 78.0 L 140.9 78.0\" id=\"6,5\" style=\"stroke-width:nan\"></path><path d=\"M 83.8 142.5 L 83.8 107.7 L 112.4 107.7\" id=\"7,6\" style=\"stroke-width:nan\"></path><path d=\"M 55.3 179.6 L 55.3 142.5 L 83.8 142.5\" id=\"8,7\" style=\"stroke-width:nan\"></path></g><g class=\"toytree-Nodes\" style=\"fill:rgba(82.7%,82.7%,82.7%,1.000);stroke:#262626;stroke-width:1.5\"><g id=\"node-0\" transform=\"translate(169.436,216.839)\"><circle r=\"9.0\"></circle></g><g id=\"node-1\" transform=\"translate(169.436,177.170)\"><circle r=\"9.0\"></circle></g><g id=\"node-2\" transform=\"translate(169.436,137.500)\"><circle r=\"9.0\"></circle></g><g id=\"node-3\" transform=\"translate(169.436,97.830)\"><circle r=\"9.0\"></circle></g><g id=\"node-4\" transform=\"translate(169.436,58.161)\"><circle r=\"9.0\"></circle></g><g id=\"node-5\" transform=\"translate(140.894,77.995)\"><circle r=\"9.0\"></circle></g><g id=\"node-6\" transform=\"translate(112.353,107.748)\"><circle r=\"9.0\"></circle></g><g id=\"node-7\" transform=\"translate(83.811,142.459)\"><circle r=\"9.0\"></circle></g><g id=\"node-8\" transform=\"translate(55.269,179.649)\"><circle r=\"9.0\"></circle></g></g><g class=\"toytree-NodeLabels\" style=\"font-family:Helvetica;font-size:9.0px;font-weight:300;stroke:none;vertical-align:baseline;white-space:pre\"><g class=\"toytree-NodeLabel\" transform=\"translate(169.43578750157627,216.83937823834196)\"><text x=\"-2.5020000000000002\" y=\"2.2995\" style=\"fill:rgb(16.1%,15.3%,14.1%);fill-opacity:1.0\">0</text></g><g class=\"toytree-NodeLabel\" transform=\"translate(169.43578750157627,177.16968911917095)\"><text x=\"-2.5020000000000002\" y=\"2.2995\" style=\"fill:rgb(16.1%,15.3%,14.1%);fill-opacity:1.0\">1</text></g><g class=\"toytree-NodeLabel\" transform=\"translate(169.43578750157627,137.5)\"><text x=\"-2.5020000000000002\" y=\"2.2995\" style=\"fill:rgb(16.1%,15.3%,14.1%);fill-opacity:1.0\">2</text></g><g class=\"toytree-NodeLabel\" transform=\"translate(169.43578750157627,97.83031088082902)\"><text x=\"-2.5020000000000002\" y=\"2.2995\" style=\"fill:rgb(16.1%,15.3%,14.1%);fill-opacity:1.0\">3</text></g><g class=\"toytree-NodeLabel\" transform=\"translate(169.43578750157627,58.16062176165802)\"><text x=\"-2.5020000000000002\" y=\"2.2995\" style=\"fill:rgb(16.1%,15.3%,14.1%);fill-opacity:1.0\">4</text></g><g class=\"toytree-NodeLabel\" transform=\"translate(140.89414710597902,77.99546632124353)\"><text x=\"-2.5020000000000002\" y=\"2.2995\" style=\"fill:rgb(16.1%,15.3%,14.1%);fill-opacity:1.0\">5</text></g><g class=\"toytree-NodeLabel\" transform=\"translate(112.35250671038173,107.74773316062175)\"><text x=\"-2.5020000000000002\" y=\"2.2995\" style=\"fill:rgb(16.1%,15.3%,14.1%);fill-opacity:1.0\">6</text></g><g class=\"toytree-NodeLabel\" transform=\"translate(83.81086631478446,142.45871113989637)\"><text x=\"-2.5020000000000002\" y=\"2.2995\" style=\"fill:rgb(16.1%,15.3%,14.1%);fill-opacity:1.0\">7</text></g><g class=\"toytree-NodeLabel\" transform=\"translate(55.26922591918719,179.64904468911917)\"><text x=\"-2.5020000000000002\" y=\"2.2995\" style=\"fill:rgb(16.1%,15.3%,14.1%);fill-opacity:1.0\">8</text></g></g><g class=\"toytree-TipLabels\" style=\"fill:rgb(16.1%,15.3%,14.1%);fill-opacity:1.0;font-family:Helvetica;font-size:11.0px;font-weight:300;stroke:none;vertical-align:baseline;white-space:pre\"><g class=\"toytree-TipLabel\" transform=\"translate(169.43578750157627,216.83937823834196)\"><text x=\"15.0\" y=\"2.8104999999999993\" style=\"\">gibbon</text></g><g class=\"toytree-TipLabel\" transform=\"translate(169.43578750157627,177.16968911917095)\"><text x=\"15.0\" y=\"2.8104999999999993\" style=\"\">orangutan</text></g><g class=\"toytree-TipLabel\" transform=\"translate(169.43578750157627,137.5)\"><text x=\"15.0\" y=\"2.8104999999999993\" style=\"\">gorilla</text></g><g class=\"toytree-TipLabel\" transform=\"translate(169.43578750157627,97.83031088082902)\"><text x=\"15.0\" y=\"2.8104999999999993\" style=\"\">chimp</text></g><g class=\"toytree-TipLabel\" transform=\"translate(169.43578750157627,58.16062176165802)\"><text x=\"15.0\" y=\"2.8104999999999993\" style=\"\">human</text></g></g></g></g></g></svg><div class=\"toyplot-behavior\"><script>(function()\n",
       "{\n",
       "var modules={};\n",
       "})();</script></div></div>"
      ]
     },
     "metadata": {},
     "output_type": "display_data"
    }
   ],
   "source": [
    "toytree.tree(tree1).root([\"orangutan\", \"gibbon\"]).draw(tree_style='s');"
   ]
  },
  {
   "cell_type": "markdown",
   "metadata": {},
   "source": [
    "As you can see, knowing the root of the tree is important for interpreting the relationships of taxa. If we incorrectly put the root in the wrong place like in the examples above then we could misinterpret the relationships in the tree. Information from external source, like other phylogenies, fossil data, morphology, or the length of branches are often used to set the root of trees. When inferring a tree we can include a very distant sample and place the root on that sample to ensure the tree is correctly rooted. Consider the example below where we add a walrus into the tree. We know for sure that all of the primates are more closely related to each other than they are to the walrus. "
   ]
  },
  {
   "cell_type": "code",
   "execution_count": 31,
   "metadata": {
    "scrolled": true
   },
   "outputs": [
    {
     "data": {
      "text/html": [
       "<div class=\"toyplot\" id=\"td4e24420237a492c8a5c60443ab83c5d\" style=\"text-align:center\"><svg class=\"toyplot-canvas-Canvas\" xmlns:toyplot=\"http://www.sandia.gov/toyplot\" xmlns:xlink=\"http://www.w3.org/1999/xlink\" xmlns=\"http://www.w3.org/2000/svg\" width=\"295.0px\" height=\"275.0px\" viewBox=\"0 0 295.0 275.0\" preserveAspectRatio=\"xMidYMid meet\" style=\"background-color:transparent;border-color:#292724;border-style:none;border-width:1.0;fill:rgb(16.1%,15.3%,14.1%);fill-opacity:1.0;font-family:Helvetica;font-size:12px;opacity:1.0;stroke:rgb(16.1%,15.3%,14.1%);stroke-opacity:1.0;stroke-width:1.0\" id=\"te4563f7a1af64c53969d0a64520f2129\"><g class=\"toyplot-coordinates-Cartesian\" id=\"t5b15a3e6633247608e68d690b252445e\"><clipPath id=\"t26df14a9b64a42e38d3c01fd203053f9\"><rect x=\"35.0\" y=\"35.0\" width=\"225.0\" height=\"205.0\"></rect></clipPath><g clip-path=\"url(#t26df14a9b64a42e38d3c01fd203053f9)\"><g class=\"toytree-mark-Toytree\" id=\"t99d5464ca06c4968b5473d109f23877a\"><g class=\"toytree-Edges\" style=\"fill:none;stroke:rgba(16.1%,15.3%,14.1%,1.000);stroke-linecap:round;stroke-width:2.0\"><path d=\"M 50.0 187.3 L 50.0 218.9 L 144.2 218.9\" id=\"10,0\" style=\"stroke-width:nan\"></path><path d=\"M 144.2 155.8 L 144.2 186.3 L 172.4 186.3\" id=\"9,1\" style=\"stroke-width:nan\"></path><path d=\"M 145.1 125.3 L 145.1 153.8 L 164.0 153.8\" id=\"8,2\" style=\"stroke-width:nan\"></path><path d=\"M 146.1 96.8 L 146.1 121.2 L 155.5 121.2\" id=\"7,3\" style=\"stroke-width:nan\"></path><path d=\"M 153.1 72.4 L 153.1 88.7 L 160.2 88.7\" id=\"6,4\" style=\"stroke-width:nan\"></path><path d=\"M 153.1 72.4 L 153.1 56.1 L 155.5 56.1\" id=\"6,5\" style=\"stroke-width:nan\"></path><path d=\"M 146.1 96.8 L 146.1 72.4 L 153.1 72.4\" id=\"7,6\" style=\"stroke-width:nan\"></path><path d=\"M 145.1 125.3 L 145.1 96.8 L 146.1 96.8\" id=\"8,7\" style=\"stroke-width:nan\"></path><path d=\"M 144.2 155.8 L 144.2 125.3 L 145.1 125.3\" id=\"9,8\" style=\"stroke-width:nan\"></path><path d=\"M 50.0 187.3 L 50.0 155.8 L 144.2 155.8\" id=\"10,9\" style=\"stroke-width:nan\"></path></g><g class=\"toytree-TipLabels\" style=\"fill:rgb(16.1%,15.3%,14.1%);fill-opacity:1.0;font-family:Helvetica;font-size:11.0px;font-weight:300;stroke:none;vertical-align:baseline;white-space:pre\"><g class=\"toytree-TipLabel\" transform=\"translate(144.18287900156488,218.86291179596174)\"><text x=\"15.0\" y=\"2.8104999999999993\" style=\"\">walrus</text></g><g class=\"toytree-TipLabel\" transform=\"translate(172.43774270203434,186.31774707757702)\"><text x=\"15.0\" y=\"2.8104999999999993\" style=\"\">gibbon</text></g><g class=\"toytree-TipLabel\" transform=\"translate(163.96128359189353,153.77258235919234)\"><text x=\"15.0\" y=\"2.8104999999999993\" style=\"\">orangutan</text></g><g class=\"toytree-TipLabel\" transform=\"translate(155.4848244817527,121.22741764080763)\"><text x=\"15.0\" y=\"2.8104999999999993\" style=\"\">gorilla</text></g><g class=\"toytree-TipLabel\" transform=\"translate(160.19396843183094,88.68225292242295)\"><text x=\"15.0\" y=\"2.8104999999999993\" style=\"\">chimp</text></g><g class=\"toytree-TipLabel\" transform=\"translate(155.4848244817527,56.137088204038236)\"><text x=\"15.0\" y=\"2.8104999999999993\" style=\"\">human</text></g></g></g></g></g></svg><div class=\"toyplot-behavior\"><script>(function()\n",
       "{\n",
       "var modules={};\n",
       "})();</script></div></div>"
      ]
     },
     "metadata": {},
     "output_type": "display_data"
    }
   ],
   "source": [
    "tree3 = \"(walrus:0.1,(gibbon:0.03,(orangutan:0.02,(gorilla:0.01,(chimp:0.0075,human:0.0025):0.0075):0.001):0.001):0.1);\"\n",
    "toytree.tree(tree3).root(\"walrus\").draw(tree_style=\"n\");"
   ]
  },
  {
   "cell_type": "markdown",
   "metadata": {},
   "source": [
    "## References\n",
    "\n",
    "[^1]: \n",
    "    Card, Kyle J., Misty D. Thomas, Joseph L. Graves, Jeffrey E. Barrick, and Richard E. Lenski. 2021. “Genomic Evolution of Antibiotic Resistance Is Contingent on Genetic Background Following a Long-Term Experiment with Escherichia Coli.” Proceedings of the National Academy of Sciences 118 (5). https://doi.org/10.1073/pnas.2016886118.\n",
    "[^2]:\n",
    "    ..."
   ]
  },
  {
   "cell_type": "code",
   "execution_count": null,
   "metadata": {},
   "outputs": [],
   "source": []
  }
 ],
 "metadata": {
  "kernelspec": {
   "display_name": "Python 3 (ipykernel)",
   "language": "python",
   "name": "python3"
  },
  "language_info": {
   "codemirror_mode": {
    "name": "ipython",
    "version": 3
   },
   "file_extension": ".py",
   "mimetype": "text/x-python",
   "name": "python",
   "nbconvert_exporter": "python",
   "pygments_lexer": "ipython3",
   "version": "3.9.7"
  }
 },
 "nbformat": 4,
 "nbformat_minor": 2
}
