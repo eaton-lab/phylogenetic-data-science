{
 "cells": [
  {
   "cell_type": "markdown",
   "id": "c5dbb03e",
   "metadata": {},
   "source": [
    "# Parsimony calculations"
   ]
  },
  {
   "cell_type": "code",
   "execution_count": 1,
   "id": "1ea316fd",
   "metadata": {},
   "outputs": [],
   "source": [
    "import toytree\n",
    "import toyplot\n",
    "import numpy as np"
   ]
  },
  {
   "cell_type": "markdown",
   "id": "4166dedd",
   "metadata": {},
   "source": [
    "### Notebook"
   ]
  },
  {
   "cell_type": "code",
   "execution_count": 2,
   "id": "e8f75372",
   "metadata": {},
   "outputs": [],
   "source": [
    "import toytree\n",
    "\n",
    "# an example five tip tree (with tip names alpha-epsilon)\n",
    "tree = toytree.tree(\"(((alpha,delta),gamma),(beta,epsilon));\")\n",
    "\n",
    "# a single binary trait character state for each species\n",
    "trait = {\n",
    "    \"alpha\": 1,\n",
    "    \"beta\": 0,\n",
    "    \"delta\": 1,\n",
    "    \"epsilon\": 0,\n",
    "    \"gamma\": 1,\n",
    "}"
   ]
  },
  {
   "cell_type": "code",
   "execution_count": 3,
   "id": "526a08d4",
   "metadata": {},
   "outputs": [
    {
     "data": {
      "text/html": [
       "<div>\n",
       "<style scoped>\n",
       "    .dataframe tbody tr th:only-of-type {\n",
       "        vertical-align: middle;\n",
       "    }\n",
       "\n",
       "    .dataframe tbody tr th {\n",
       "        vertical-align: top;\n",
       "    }\n",
       "\n",
       "    .dataframe thead th {\n",
       "        text-align: right;\n",
       "    }\n",
       "</style>\n",
       "<table border=\"1\" class=\"dataframe\">\n",
       "  <thead>\n",
       "    <tr style=\"text-align: right;\">\n",
       "      <th></th>\n",
       "      <th>name</th>\n",
       "      <th>trait</th>\n",
       "    </tr>\n",
       "  </thead>\n",
       "  <tbody>\n",
       "    <tr>\n",
       "      <th>0</th>\n",
       "      <td>alpha</td>\n",
       "      <td>1.0</td>\n",
       "    </tr>\n",
       "    <tr>\n",
       "      <th>1</th>\n",
       "      <td>delta</td>\n",
       "      <td>1.0</td>\n",
       "    </tr>\n",
       "    <tr>\n",
       "      <th>2</th>\n",
       "      <td>gamma</td>\n",
       "      <td>1.0</td>\n",
       "    </tr>\n",
       "    <tr>\n",
       "      <th>3</th>\n",
       "      <td>beta</td>\n",
       "      <td>0.0</td>\n",
       "    </tr>\n",
       "    <tr>\n",
       "      <th>4</th>\n",
       "      <td>epsilon</td>\n",
       "      <td>0.0</td>\n",
       "    </tr>\n",
       "    <tr>\n",
       "      <th>5</th>\n",
       "      <td></td>\n",
       "      <td>NaN</td>\n",
       "    </tr>\n",
       "    <tr>\n",
       "      <th>6</th>\n",
       "      <td></td>\n",
       "      <td>NaN</td>\n",
       "    </tr>\n",
       "    <tr>\n",
       "      <th>7</th>\n",
       "      <td></td>\n",
       "      <td>NaN</td>\n",
       "    </tr>\n",
       "    <tr>\n",
       "      <th>8</th>\n",
       "      <td></td>\n",
       "      <td>NaN</td>\n",
       "    </tr>\n",
       "  </tbody>\n",
       "</table>\n",
       "</div>"
      ],
      "text/plain": [
       "      name  trait\n",
       "0    alpha    1.0\n",
       "1    delta    1.0\n",
       "2    gamma    1.0\n",
       "3     beta    0.0\n",
       "4  epsilon    0.0\n",
       "5             NaN\n",
       "6             NaN\n",
       "7             NaN\n",
       "8             NaN"
      ]
     },
     "execution_count": 3,
     "metadata": {},
     "output_type": "execute_result"
    }
   ],
   "source": [
    "# sets a .trait attribute to each Node in trait dictionary\n",
    "tree.set_node_data(\n",
    "    feature=\"trait\",\n",
    "    mapping=trait,\n",
    "    inplace=True,\n",
    ")\n",
    "\n",
    "# get and display the Node data as a dataframe\n",
    "tree.get_node_data(['name', 'trait'])"
   ]
  },
  {
   "cell_type": "code",
   "execution_count": 14,
   "id": "3caafced",
   "metadata": {},
   "outputs": [
    {
     "data": {
      "text/plain": [
       "True"
      ]
     },
     "execution_count": 14,
     "metadata": {},
     "output_type": "execute_result"
    }
   ],
   "source": [
    "np.isnan(tree.get_node_data('trait')[8])"
   ]
  },
  {
   "cell_type": "code",
   "execution_count": 16,
   "id": "51a865f5",
   "metadata": {},
   "outputs": [
    {
     "data": {
      "text/html": [
       "<div class=\"toyplot\" id=\"t42d0ed9528954766b2c9a3bcdbaadd5c\" style=\"text-align:center\"><svg class=\"toyplot-canvas-Canvas\" xmlns:toyplot=\"http://www.sandia.gov/toyplot\" xmlns:xlink=\"http://www.w3.org/1999/xlink\" xmlns=\"http://www.w3.org/2000/svg\" width=\"285.0px\" height=\"275.0px\" viewBox=\"0 0 285.0 275.0\" preserveAspectRatio=\"xMidYMid meet\" style=\"background-color:transparent;border-color:#292724;border-style:none;border-width:1.0;fill:rgb(16.1%,15.3%,14.1%);fill-opacity:1.0;font-family:Helvetica;font-size:12px;opacity:1.0;stroke:rgb(16.1%,15.3%,14.1%);stroke-opacity:1.0;stroke-width:1.0\" id=\"t1c4fad21dec34cd28607b3f27f5e1906\"><g class=\"toyplot-coordinates-Cartesian\" id=\"td851e41318454130b6a239a8a55b4ecd\"><clipPath id=\"t6c932960da3d4b89a15e507d3a1d15b4\"><rect x=\"35.0\" y=\"35.0\" width=\"215.0\" height=\"205.0\"></rect></clipPath><g clip-path=\"url(#t6c932960da3d4b89a15e507d3a1d15b4)\"><g class=\"toytree-mark-Toytree\" id=\"tb574b0bb7dc44d72963881544705cd4c\"><g class=\"toytree-Edges\" style=\"fill:none;stroke:rgba(16.1%,15.3%,14.1%,1.000);stroke-linecap:round;stroke-width:2.0\"><path d=\"M 121.2 195.9 L 121.2 215.4 L 154.3 215.4\" id=\"5,0\" style=\"stroke-width:nan\"></path><path d=\"M 121.2 195.9 L 121.2 176.4 L 154.3 176.4\" id=\"5,1\" style=\"stroke-width:nan\"></path><path d=\"M 88.0 166.7 L 88.0 137.5 L 154.3 137.5\" id=\"6,2\" style=\"stroke-width:nan\"></path><path d=\"M 121.2 79.1 L 121.2 98.6 L 154.3 98.6\" id=\"7,3\" style=\"stroke-width:nan\"></path><path d=\"M 121.2 79.1 L 121.2 59.6 L 154.3 59.6\" id=\"7,4\" style=\"stroke-width:nan\"></path><path d=\"M 88.0 166.7 L 88.0 195.9 L 121.2 195.9\" id=\"6,5\" style=\"stroke-width:nan\"></path><path d=\"M 54.8 122.9 L 54.8 166.7 L 88.0 166.7\" id=\"8,6\" style=\"stroke-width:nan\"></path><path d=\"M 54.8 122.9 L 54.8 79.1 L 121.2 79.1\" id=\"8,7\" style=\"stroke-width:nan\"></path></g><g class=\"toytree-Nodes\" style=\"stroke:#262626;stroke-width:1.5\"><g id=\"node-0\" style=\"fill:rgb(98.8%,55.3%,38.4%);fill-opacity:1.0\" transform=\"translate(154.324,215.387)\"><circle r=\"9.0\"></circle></g><g id=\"node-1\" style=\"fill:rgb(98.8%,55.3%,38.4%);fill-opacity:1.0\" transform=\"translate(154.324,176.443)\"><circle r=\"9.0\"></circle></g><g id=\"node-2\" style=\"fill:rgb(98.8%,55.3%,38.4%);fill-opacity:1.0\" transform=\"translate(154.324,137.500)\"><circle r=\"9.0\"></circle></g><g id=\"node-3\" style=\"fill:rgb(40%,76.1%,64.7%);fill-opacity:1.0\" transform=\"translate(154.324,98.557)\"><circle r=\"9.0\"></circle></g><g id=\"node-4\" style=\"fill:rgb(40%,76.1%,64.7%);fill-opacity:1.0\" transform=\"translate(154.324,59.613)\"><circle r=\"9.0\"></circle></g><g id=\"node-5\" style=\"fill:rgb(82.7%,82.7%,82.7%);fill-opacity:1.0\" transform=\"translate(121.163,195.915)\"><circle r=\"9.0\"></circle></g><g id=\"node-6\" style=\"fill:rgb(82.7%,82.7%,82.7%);fill-opacity:1.0\" transform=\"translate(88.001,166.707)\"><circle r=\"9.0\"></circle></g><g id=\"node-7\" style=\"fill:rgb(82.7%,82.7%,82.7%);fill-opacity:1.0\" transform=\"translate(121.163,79.085)\"><circle r=\"9.0\"></circle></g><g id=\"node-8\" style=\"fill:rgb(82.7%,82.7%,82.7%);fill-opacity:1.0\" transform=\"translate(54.840,122.896)\"><circle r=\"9.0\"></circle></g></g><g class=\"toytree-NodeLabels\" style=\"font-family:Helvetica;font-size:9.0px;font-weight:300;stroke:none;vertical-align:baseline;white-space:pre\"><g class=\"toytree-NodeLabel\" transform=\"translate(154.3241169220752,215.38657171922685)\"><text x=\"-6.255\" y=\"2.2995\" style=\"fill:rgb(16.1%,15.3%,14.1%);fill-opacity:1.0\">1.0</text></g><g class=\"toytree-NodeLabel\" transform=\"translate(154.3241169220752,176.44328585961344)\"><text x=\"-6.255\" y=\"2.2995\" style=\"fill:rgb(16.1%,15.3%,14.1%);fill-opacity:1.0\">1.0</text></g><g class=\"toytree-NodeLabel\" transform=\"translate(154.3241169220752,137.5)\"><text x=\"-6.255\" y=\"2.2995\" style=\"fill:rgb(16.1%,15.3%,14.1%);fill-opacity:1.0\">1.0</text></g><g class=\"toytree-NodeLabel\" transform=\"translate(154.3241169220752,98.55671414038659)\"><text x=\"-6.255\" y=\"2.2995\" style=\"fill:rgb(16.1%,15.3%,14.1%);fill-opacity:1.0\">0.0</text></g><g class=\"toytree-NodeLabel\" transform=\"translate(154.3241169220752,59.61342828077315)\"><text x=\"-6.255\" y=\"2.2995\" style=\"fill:rgb(16.1%,15.3%,14.1%);fill-opacity:1.0\">0.0</text></g><g class=\"toytree-NodeLabel\" transform=\"translate(121.16267082141556,195.91492878942014)\"><text x=\"-7.506\" y=\"2.2995\" style=\"fill:rgb(16.1%,15.3%,14.1%);fill-opacity:1.0\">nan</text></g><g class=\"toytree-NodeLabel\" transform=\"translate(88.00122472075591,166.7074643947101)\"><text x=\"-7.506\" y=\"2.2995\" style=\"fill:rgb(16.1%,15.3%,14.1%);fill-opacity:1.0\">nan</text></g><g class=\"toytree-NodeLabel\" transform=\"translate(121.16267082141556,79.08507121057988)\"><text x=\"-7.506\" y=\"2.2995\" style=\"fill:rgb(16.1%,15.3%,14.1%);fill-opacity:1.0\">nan</text></g><g class=\"toytree-NodeLabel\" transform=\"translate(54.83977862009627,122.89626780264497)\"><text x=\"-7.506\" y=\"2.2995\" style=\"fill:rgb(16.1%,15.3%,14.1%);fill-opacity:1.0\">nan</text></g></g><g class=\"toytree-TipLabels\" style=\"fill:rgb(16.1%,15.3%,14.1%);fill-opacity:1.0;font-family:Helvetica;font-size:18.0px;font-weight:300;stroke:none;vertical-align:baseline;white-space:pre\"><g class=\"toytree-TipLabel\" transform=\"translate(154.3241169220752,215.38657171922685)\"><text x=\"15.0\" y=\"4.599\" style=\"\">alpha</text></g><g class=\"toytree-TipLabel\" transform=\"translate(154.3241169220752,176.44328585961344)\"><text x=\"15.0\" y=\"4.599\" style=\"\">delta</text></g><g class=\"toytree-TipLabel\" transform=\"translate(154.3241169220752,137.5)\"><text x=\"15.0\" y=\"4.599\" style=\"\">gamma</text></g><g class=\"toytree-TipLabel\" transform=\"translate(154.3241169220752,98.55671414038659)\"><text x=\"15.0\" y=\"4.599\" style=\"\">beta</text></g><g class=\"toytree-TipLabel\" transform=\"translate(154.3241169220752,59.61342828077315)\"><text x=\"15.0\" y=\"4.599\" style=\"\">epsilon</text></g></g></g></g></g></svg><div class=\"toyplot-behavior\"><script>(function()\n",
       "{\n",
       "var modules={};\n",
       "})();</script></div></div>"
      ]
     },
     "metadata": {},
     "output_type": "display_data"
    }
   ],
   "source": [
    "tree.draw(\n",
    "    tree_style='s',\n",
    "    use_edge_lengths=False, \n",
    "    tip_labels_style={\"font-size\": 18},\n",
    "    node_labels=\"trait\",\n",
    "    node_colors=[\n",
    "        \"lightgrey\" if np.isnan(i) else toytree.color.COLORS1[int(i)]\n",
    "        for i in tree.get_node_data(\"trait\")\n",
    "    ],\n",
    ");"
   ]
  },
  {
   "cell_type": "code",
   "execution_count": 18,
   "id": "4062ab2a",
   "metadata": {},
   "outputs": [],
   "source": [
    "from typing import Dict, Any\n",
    "\n",
    "def fitch_parsimony_single(tree: toytree.ToyTree, trait: Dict[str,Any]) -> int:\n",
    "    \"\"\"Return Fitch parsimony score given a tree and single trait.\n",
    "\n",
    "    For didactic purposes this function will also store a feature named \n",
    "    'fitch' to every Node which can be examined/visualized afterwards.\n",
    "    \n",
    "    Parameters\n",
    "    ----------\n",
    "    tree: ToyTree\n",
    "        A tree with data 'state' on each tip Node rom which to\n",
    "        calculate the Fitch parsimony score. \n",
    "    trait: Dict\n",
    "        A dict mapping tip names to a discrete character state.\n",
    "        \n",
    "    Returns\n",
    "    -------\n",
    "    int\n",
    "        The minimum changes required for trait data to evolve on this tree.\n",
    "    \"\"\"\n",
    "    # counter to keep track of change events\n",
    "    nchanges = 0\n",
    "\n",
    "    # iterate over Nodes in idxorder (postorder sorted) traversal\n",
    "    for node in tree:\n",
    "\n",
    "        # leaves are visited first, and converted to a set type\n",
    "        if node.is_leaf():\n",
    "            node.fitch = set([trait[node.name]])\n",
    "\n",
    "        # internal Nodes examine the sets of their children's states\n",
    "        if not node.is_leaf():\n",
    "\n",
    "            # check for shared (intersecting) states\n",
    "            shared = set.intersection(*(i.fitch for i in node.children))\n",
    "\n",
    "            # if any states are shared then ancestor inherits this state\n",
    "            if shared:\n",
    "                node.fitch = shared\n",
    "\n",
    "            # if none shared, then store the union and increment counter\n",
    "            else:\n",
    "                node.fitch = set.union(*(i.fitch for i in node.children))\n",
    "                nchanges += 1\n",
    "    return nchanges"
   ]
  },
  {
   "cell_type": "code",
   "execution_count": null,
   "id": "a570d1c2",
   "metadata": {},
   "outputs": [],
   "source": []
  },
  {
   "cell_type": "code",
   "execution_count": null,
   "id": "98f21cec",
   "metadata": {},
   "outputs": [],
   "source": []
  },
  {
   "cell_type": "code",
   "execution_count": 19,
   "id": "c285ec71",
   "metadata": {},
   "outputs": [
    {
     "data": {
      "text/plain": [
       "1"
      ]
     },
     "execution_count": 19,
     "metadata": {},
     "output_type": "execute_result"
    }
   ],
   "source": [
    "fitch_parsimony_single(tree, trait)"
   ]
  },
  {
   "cell_type": "code",
   "execution_count": 20,
   "id": "24248a7b",
   "metadata": {},
   "outputs": [
    {
     "data": {
      "image/png": "[encoded data removed]",
      "text/html": [
       "<div class=\"toyplot\" id=\"t092aaaf961364abf97fc954ad48bb65d\" style=\"text-align:center\"><svg class=\"toyplot-canvas-Canvas\" xmlns:toyplot=\"http://www.sandia.gov/toyplot\" xmlns:xlink=\"http://www.w3.org/1999/xlink\" xmlns=\"http://www.w3.org/2000/svg\" width=\"500.0px\" height=\"275.0px\" viewBox=\"0 0 500.0 275.0\" preserveAspectRatio=\"xMidYMid meet\" style=\"background-color:white;border-color:#292724;border-style:none;border-width:1.0;fill:rgb(16.1%,15.3%,14.1%);fill-opacity:1.0;font-family:Helvetica;font-size:12px;opacity:1.0;stroke:rgb(16.1%,15.3%,14.1%);stroke-opacity:1.0;stroke-width:1.0\" id=\"t417c248e916c469087964bc688c1c164\"><g class=\"toyplot-coordinates-Cartesian\" id=\"t0ce77852420a44ea853cb82afce6993d\"><clipPath id=\"t67b5c4e954e24fc68117bac0ef637524\"><rect x=\"35.0\" y=\"35.0\" width=\"430.0\" height=\"205.0\"></rect></clipPath><g clip-path=\"url(#t67b5c4e954e24fc68117bac0ef637524)\"><g class=\"toytree-mark-Toytree\" id=\"t9881f6484ce7453bad77bbfdff11879f\"><g class=\"toytree-Edges\" style=\"fill:none;stroke:rgba(16.1%,15.3%,14.1%,1.000);stroke-linecap:round;stroke-width:2.0\"><path d=\"M 249.4 194.9 L 249.4 214.1 L 340.6 214.1\" id=\"5,0\" style=\"stroke-width:nan\"></path><path d=\"M 249.4 194.9 L 249.4 175.8 L 340.6 175.8\" id=\"5,1\" style=\"stroke-width:nan\"></path><path d=\"M 158.3 166.2 L 158.3 137.5 L 340.6 137.5\" id=\"6,2\" style=\"stroke-width:nan\"></path><path d=\"M 249.4 80.1 L 249.4 99.2 L 340.6 99.2\" id=\"7,3\" style=\"stroke-width:nan\"></path><path d=\"M 249.4 80.1 L 249.4 60.9 L 340.6 60.9\" id=\"7,4\" style=\"stroke-width:nan\"></path><path d=\"M 158.3 166.2 L 158.3 194.9 L 249.4 194.9\" id=\"6,5\" style=\"stroke-width:nan\"></path><path d=\"M 67.1 123.1 L 67.1 166.2 L 158.3 166.2\" id=\"8,6\" style=\"stroke-width:nan\"></path><path d=\"M 67.1 123.1 L 67.1 80.1 L 249.4 80.1\" id=\"8,7\" style=\"stroke-width:nan\"></path></g><g class=\"toytree-Nodes\" style=\"fill:rgba(82.7%,82.7%,82.7%,1.000);stroke:#262626;stroke-width:1.0\"><g id=\"node-0\" transform=\"translate(340.588,214.062)\"><rect x=\"-25.0\" y=\"-12.5\" width=\"50.0\" height=\"25.0\"></rect></g><g id=\"node-1\" transform=\"translate(340.588,175.781)\"><rect x=\"-25.0\" y=\"-12.5\" width=\"50.0\" height=\"25.0\"></rect></g><g id=\"node-2\" transform=\"translate(340.588,137.500)\"><rect x=\"-25.0\" y=\"-12.5\" width=\"50.0\" height=\"25.0\"></rect></g><g id=\"node-3\" transform=\"translate(340.588,99.219)\"><rect x=\"-25.0\" y=\"-12.5\" width=\"50.0\" height=\"25.0\"></rect></g><g id=\"node-4\" transform=\"translate(340.588,60.938)\"><rect x=\"-25.0\" y=\"-12.5\" width=\"50.0\" height=\"25.0\"></rect></g><g id=\"node-5\" transform=\"translate(249.423,194.922)\"><rect x=\"-25.0\" y=\"-12.5\" width=\"50.0\" height=\"25.0\"></rect></g><g id=\"node-6\" transform=\"translate(158.258,166.211)\"><rect x=\"-25.0\" y=\"-12.5\" width=\"50.0\" height=\"25.0\"></rect></g><g id=\"node-7\" transform=\"translate(249.423,80.078)\"><rect x=\"-25.0\" y=\"-12.5\" width=\"50.0\" height=\"25.0\"></rect></g><g id=\"node-8\" transform=\"translate(67.093,123.145)\"><rect x=\"-25.0\" y=\"-12.5\" width=\"50.0\" height=\"25.0\"></rect></g></g><g class=\"toytree-NodeLabels\" style=\"font-family:Helvetica;font-size:15.0px;font-weight:300;stroke:none;vertical-align:baseline;white-space:pre\"><g class=\"toytree-NodeLabel\" transform=\"translate(340.58835595364263,214.0625)\"><text x=\"-9.18\" y=\"3.8324999999999996\" style=\"fill:rgb(16.1%,15.3%,14.1%);fill-opacity:1.0\">{1}</text></g><g class=\"toytree-NodeLabel\" transform=\"translate(340.58835595364263,175.78125)\"><text x=\"-9.18\" y=\"3.8324999999999996\" style=\"fill:rgb(16.1%,15.3%,14.1%);fill-opacity:1.0\">{1}</text></g><g class=\"toytree-NodeLabel\" transform=\"translate(340.58835595364263,137.5)\"><text x=\"-9.18\" y=\"3.8324999999999996\" style=\"fill:rgb(16.1%,15.3%,14.1%);fill-opacity:1.0\">{1}</text></g><g class=\"toytree-NodeLabel\" transform=\"translate(340.58835595364263,99.21875)\"><text x=\"-9.18\" y=\"3.8324999999999996\" style=\"fill:rgb(16.1%,15.3%,14.1%);fill-opacity:1.0\">{0}</text></g><g class=\"toytree-NodeLabel\" transform=\"translate(340.58835595364263,60.9375)\"><text x=\"-9.18\" y=\"3.8324999999999996\" style=\"fill:rgb(16.1%,15.3%,14.1%);fill-opacity:1.0\">{0}</text></g><g class=\"toytree-NodeLabel\" transform=\"translate(249.42338153681357,194.921875)\"><text x=\"-9.18\" y=\"3.8324999999999996\" style=\"fill:rgb(16.1%,15.3%,14.1%);fill-opacity:1.0\">{1}</text></g><g class=\"toytree-NodeLabel\" transform=\"translate(158.25840711998453,166.2109375)\"><text x=\"-9.18\" y=\"3.8324999999999996\" style=\"fill:rgb(16.1%,15.3%,14.1%);fill-opacity:1.0\">{1}</text></g><g class=\"toytree-NodeLabel\" transform=\"translate(249.42338153681357,80.078125)\"><text x=\"-9.18\" y=\"3.8324999999999996\" style=\"fill:rgb(16.1%,15.3%,14.1%);fill-opacity:1.0\">{0}</text></g><g class=\"toytree-NodeLabel\" transform=\"translate(67.09343270315544,123.14453125)\"><text x=\"-17.52\" y=\"3.8324999999999996\" style=\"fill:rgb(16.1%,15.3%,14.1%);fill-opacity:1.0\">{0, 1}</text></g></g><g class=\"toytree-TipLabels\" style=\"fill:rgb(16.1%,15.3%,14.1%);fill-opacity:1.0;font-family:Helvetica;font-size:15.0px;font-weight:300;stroke:none;vertical-align:baseline;white-space:pre\"><g class=\"toytree-TipLabel\" transform=\"translate(340.58835595364263,214.0625)\"><text x=\"30.0\" y=\"3.8324999999999996\" style=\"\">alpha</text></g><g class=\"toytree-TipLabel\" transform=\"translate(340.58835595364263,175.78125)\"><text x=\"30.0\" y=\"3.8324999999999996\" style=\"\">delta</text></g><g class=\"toytree-TipLabel\" transform=\"translate(340.58835595364263,137.5)\"><text x=\"30.0\" y=\"3.8324999999999996\" style=\"\">gamma</text></g><g class=\"toytree-TipLabel\" transform=\"translate(340.58835595364263,99.21875)\"><text x=\"30.0\" y=\"3.8324999999999996\" style=\"\">beta</text></g><g class=\"toytree-TipLabel\" transform=\"translate(340.58835595364263,60.9375)\"><text x=\"30.0\" y=\"3.8324999999999996\" style=\"\">epsilon</text></g></g></g></g></g></svg><div class=\"toyplot-behavior\"><script>(function()\n",
       "{\n",
       "var modules={};\n",
       "})();</script></div></div>"
      ],
      "text/plain": [
       "<toyplot.canvas.Canvas at 0x7f74d6395910>"
      ]
     },
     "execution_count": 20,
     "metadata": {},
     "output_type": "execute_result"
    }
   ],
   "source": [
    "c, a, m = tree.draw(\n",
    "    width=500, \n",
    "    use_edge_lengths=False,\n",
    "    node_sizes=25, \n",
    "    node_markers='r2x1',\n",
    "    node_mask=False,\n",
    "    node_colors=\"lightgrey\",\n",
    "    node_labels=\"fitch\", \n",
    "    node_labels_style={'font-size': 15},\n",
    "    tip_labels_style={'font-size': 15, '-toyplot-anchor-shift': 30}\n",
    ");\n",
    "c.style['background-color'] = 'white'\n",
    "import toyplot.svg\n",
    "toyplot.svg.render(c, \"./fig-6.3.svg\")\n",
    "c"
   ]
  },
  {
   "cell_type": "markdown",
   "id": "7d079863",
   "metadata": {},
   "source": [
    "### Rooting"
   ]
  },
  {
   "cell_type": "code",
   "execution_count": 21,
   "id": "bef2a1c1",
   "metadata": {},
   "outputs": [
    {
     "name": "stdout",
     "output_type": "stream",
     "text": [
      "score=1 when rooted on ['alpha']\n",
      "score=1 when rooted on ['delta']\n",
      "score=1 when rooted on ['gamma']\n",
      "score=1 when rooted on ['beta']\n",
      "score=1 when rooted on ['epsilon']\n",
      "score=1 when rooted on ['alpha', 'delta']\n",
      "score=1 when rooted on ['alpha', 'delta', 'gamma']\n",
      "score=1 when rooted on ['beta', 'epsilon']\n"
     ]
    }
   ],
   "source": [
    "# iterate over each edge that can become new root\n",
    "for node in tree:\n",
    "    if not node.is_root():\n",
    "        # get a copy of tree rooted on new edge (selected by Node below)\n",
    "        new_rooted_tree = tree.root(node)\n",
    "\n",
    "        # print the parsimony score of this new tree\n",
    "        score = fitch_parsimony_single(new_rooted_tree, trait)\n",
    "        clade = node.get_leaf_names()\n",
    "        print(f'score={score} when rooted on {clade}')"
   ]
  },
  {
   "cell_type": "code",
   "execution_count": 22,
   "id": "c468ae20",
   "metadata": {},
   "outputs": [
    {
     "data": {
      "image/png": "[encoded data removed]",
      "text/html": [
       "<div class=\"toyplot\" id=\"t79445dfc9019496eb692444a41ae3382\" style=\"text-align:center\"><svg class=\"toyplot-canvas-Canvas\" xmlns:toyplot=\"http://www.sandia.gov/toyplot\" xmlns:xlink=\"http://www.w3.org/1999/xlink\" xmlns=\"http://www.w3.org/2000/svg\" width=\"500.0px\" height=\"275.0px\" viewBox=\"0 0 500.0 275.0\" preserveAspectRatio=\"xMidYMid meet\" style=\"background-color:white;border-color:#292724;border-style:none;border-width:1.0;fill:rgb(16.1%,15.3%,14.1%);fill-opacity:1.0;font-family:Helvetica;font-size:12px;opacity:1.0;stroke:rgb(16.1%,15.3%,14.1%);stroke-opacity:1.0;stroke-width:1.0\" id=\"t06d2dcdc906c45dd8f9aded9994931b0\"><g class=\"toyplot-coordinates-Cartesian\" id=\"ta8f477b0b33a4a679fe457e1ac991cfb\"><clipPath id=\"t5fde14131f9043b89070685edf518632\"><rect x=\"35.0\" y=\"35.0\" width=\"430.0\" height=\"205.0\"></rect></clipPath><g clip-path=\"url(#t5fde14131f9043b89070685edf518632)\"><g class=\"toytree-mark-Toytree\" id=\"t2acce5da16864febada704440392869c\"><g class=\"toytree-Edges\" style=\"fill:none;stroke:rgba(16.1%,15.3%,14.1%,1.000);stroke-linecap:round;stroke-width:2.0\"><path d=\"M 249.4 194.9 L 249.4 214.1 L 340.6 214.1\" id=\"5,0\" style=\"stroke-width:nan\"></path><path d=\"M 249.4 194.9 L 249.4 175.8 L 340.6 175.8\" id=\"5,1\" style=\"stroke-width:nan\"></path><path d=\"M 158.3 108.8 L 158.3 137.5 L 340.6 137.5\" id=\"7,2\" style=\"stroke-width:nan\"></path><path d=\"M 249.4 80.1 L 249.4 99.2 L 340.6 99.2\" id=\"6,3\" style=\"stroke-width:nan\"></path><path d=\"M 249.4 80.1 L 249.4 60.9 L 340.6 60.9\" id=\"6,4\" style=\"stroke-width:nan\"></path><path d=\"M 67.1 151.9 L 67.1 194.9 L 249.4 194.9\" id=\"8,5\" style=\"stroke-width:nan\"></path><path d=\"M 158.3 108.8 L 158.3 80.1 L 249.4 80.1\" id=\"7,6\" style=\"stroke-width:nan\"></path><path d=\"M 67.1 151.9 L 67.1 108.8 L 158.3 108.8\" id=\"8,7\" style=\"stroke-width:nan\"></path></g><g class=\"toytree-Nodes\" style=\"fill:rgba(82.7%,82.7%,82.7%,1.000);stroke:#262626;stroke-width:1.0\"><g id=\"node-0\" transform=\"translate(340.588,214.062)\"><rect x=\"-25.0\" y=\"-12.5\" width=\"50.0\" height=\"25.0\"></rect></g><g id=\"node-1\" transform=\"translate(340.588,175.781)\"><rect x=\"-25.0\" y=\"-12.5\" width=\"50.0\" height=\"25.0\"></rect></g><g id=\"node-2\" transform=\"translate(340.588,137.500)\"><rect x=\"-25.0\" y=\"-12.5\" width=\"50.0\" height=\"25.0\"></rect></g><g id=\"node-3\" transform=\"translate(340.588,99.219)\"><rect x=\"-25.0\" y=\"-12.5\" width=\"50.0\" height=\"25.0\"></rect></g><g id=\"node-4\" transform=\"translate(340.588,60.938)\"><rect x=\"-25.0\" y=\"-12.5\" width=\"50.0\" height=\"25.0\"></rect></g><g id=\"node-5\" transform=\"translate(249.423,194.922)\"><rect x=\"-25.0\" y=\"-12.5\" width=\"50.0\" height=\"25.0\"></rect></g><g id=\"node-6\" transform=\"translate(249.423,80.078)\"><rect x=\"-25.0\" y=\"-12.5\" width=\"50.0\" height=\"25.0\"></rect></g><g id=\"node-7\" transform=\"translate(158.258,108.789)\"><rect x=\"-25.0\" y=\"-12.5\" width=\"50.0\" height=\"25.0\"></rect></g><g id=\"node-8\" transform=\"translate(67.093,151.855)\"><rect x=\"-25.0\" y=\"-12.5\" width=\"50.0\" height=\"25.0\"></rect></g></g><g class=\"toytree-NodeLabels\" style=\"font-family:Helvetica;font-size:15.0px;font-weight:300;stroke:none;vertical-align:baseline;white-space:pre\"><g class=\"toytree-NodeLabel\" transform=\"translate(340.58835595364263,214.0625)\"><text x=\"-9.18\" y=\"3.8324999999999996\" style=\"fill:rgb(16.1%,15.3%,14.1%);fill-opacity:1.0\">{1}</text></g><g class=\"toytree-NodeLabel\" transform=\"translate(340.58835595364263,175.78125)\"><text x=\"-9.18\" y=\"3.8324999999999996\" style=\"fill:rgb(16.1%,15.3%,14.1%);fill-opacity:1.0\">{1}</text></g><g class=\"toytree-NodeLabel\" transform=\"translate(340.58835595364263,137.5)\"><text x=\"-9.18\" y=\"3.8324999999999996\" style=\"fill:rgb(16.1%,15.3%,14.1%);fill-opacity:1.0\">{1}</text></g><g class=\"toytree-NodeLabel\" transform=\"translate(340.58835595364263,99.21875)\"><text x=\"-9.18\" y=\"3.8324999999999996\" style=\"fill:rgb(16.1%,15.3%,14.1%);fill-opacity:1.0\">{0}</text></g><g class=\"toytree-NodeLabel\" transform=\"translate(340.58835595364263,60.9375)\"><text x=\"-9.18\" y=\"3.8324999999999996\" style=\"fill:rgb(16.1%,15.3%,14.1%);fill-opacity:1.0\">{0}</text></g><g class=\"toytree-NodeLabel\" transform=\"translate(249.42338153681357,194.921875)\"><text x=\"-9.18\" y=\"3.8324999999999996\" style=\"fill:rgb(16.1%,15.3%,14.1%);fill-opacity:1.0\">{1}</text></g><g class=\"toytree-NodeLabel\" transform=\"translate(249.42338153681357,80.078125)\"><text x=\"-9.18\" y=\"3.8324999999999996\" style=\"fill:rgb(16.1%,15.3%,14.1%);fill-opacity:1.0\">{0}</text></g><g class=\"toytree-NodeLabel\" transform=\"translate(158.25840711998453,108.7890625)\"><text x=\"-17.52\" y=\"3.8324999999999996\" style=\"fill:rgb(16.1%,15.3%,14.1%);fill-opacity:1.0\">{0, 1}</text></g><g class=\"toytree-NodeLabel\" transform=\"translate(67.09343270315544,151.85546875)\"><text x=\"-9.18\" y=\"3.8324999999999996\" style=\"fill:rgb(16.1%,15.3%,14.1%);fill-opacity:1.0\">{1}</text></g></g><g class=\"toytree-TipLabels\" style=\"fill:rgb(16.1%,15.3%,14.1%);fill-opacity:1.0;font-family:Helvetica;font-size:15.0px;font-weight:300;stroke:none;vertical-align:baseline;white-space:pre\"><g class=\"toytree-TipLabel\" transform=\"translate(340.58835595364263,214.0625)\"><text x=\"30.0\" y=\"3.8324999999999996\" style=\"\">alpha</text></g><g class=\"toytree-TipLabel\" transform=\"translate(340.58835595364263,175.78125)\"><text x=\"30.0\" y=\"3.8324999999999996\" style=\"\">delta</text></g><g class=\"toytree-TipLabel\" transform=\"translate(340.58835595364263,137.5)\"><text x=\"30.0\" y=\"3.8324999999999996\" style=\"\">gamma</text></g><g class=\"toytree-TipLabel\" transform=\"translate(340.58835595364263,99.21875)\"><text x=\"30.0\" y=\"3.8324999999999996\" style=\"\">beta</text></g><g class=\"toytree-TipLabel\" transform=\"translate(340.58835595364263,60.9375)\"><text x=\"30.0\" y=\"3.8324999999999996\" style=\"\">epsilon</text></g></g></g></g></g></svg><div class=\"toyplot-behavior\"><script>(function()\n",
       "{\n",
       "var modules={};\n",
       "})();</script></div></div>"
      ],
      "text/plain": [
       "<toyplot.canvas.Canvas at 0x7f74d5991760>"
      ]
     },
     "execution_count": 22,
     "metadata": {},
     "output_type": "execute_result"
    }
   ],
   "source": [
    "new_rooted_tree = tree.root(5)\n",
    "fitch_parsimony_single(new_rooted_tree, trait)\n",
    "\n",
    "c, a, m = new_rooted_tree.draw(\n",
    "    width=500, \n",
    "    use_edge_lengths=False,\n",
    "    node_sizes=25, \n",
    "    node_markers='r2x1',\n",
    "    node_mask=False,\n",
    "    node_colors=\"lightgrey\",\n",
    "    node_labels=\"fitch\", \n",
    "    node_labels_style={'font-size': 15},\n",
    "    tip_labels_style={'font-size': 15, '-toyplot-anchor-shift': 30}\n",
    ");\n",
    "c.style['background-color'] = 'white'\n",
    "import toyplot.svg\n",
    "toyplot.svg.render(c, \"./fig-6.4.svg\")\n",
    "c"
   ]
  },
  {
   "cell_type": "markdown",
   "id": "feb70c75",
   "metadata": {},
   "source": [
    "### Alternate trees"
   ]
  },
  {
   "cell_type": "code",
   "execution_count": 23,
   "id": "d09542cd",
   "metadata": {},
   "outputs": [],
   "source": [
    "# an example five tip tree (with tip names alpha-epsilon)\n",
    "tree2 = toytree.tree(\"(((alpha,beta),gamma),(delta,epsilon));\")"
   ]
  },
  {
   "cell_type": "code",
   "execution_count": 24,
   "id": "82932fd5",
   "metadata": {},
   "outputs": [
    {
     "data": {
      "text/plain": [
       "2"
      ]
     },
     "execution_count": 24,
     "metadata": {},
     "output_type": "execute_result"
    }
   ],
   "source": [
    "fitch_parsimony_single(tree2, trait)"
   ]
  },
  {
   "cell_type": "code",
   "execution_count": 25,
   "id": "cb22094e",
   "metadata": {},
   "outputs": [
    {
     "data": {
      "image/png": "[encoded data removed]",
      "text/html": [
       "<div class=\"toyplot\" id=\"teb6d774dbddf4b6c8c6726e75b3ac75e\" style=\"text-align:center\"><svg class=\"toyplot-canvas-Canvas\" xmlns:toyplot=\"http://www.sandia.gov/toyplot\" xmlns:xlink=\"http://www.w3.org/1999/xlink\" xmlns=\"http://www.w3.org/2000/svg\" width=\"500.0px\" height=\"275.0px\" viewBox=\"0 0 500.0 275.0\" preserveAspectRatio=\"xMidYMid meet\" style=\"background-color:white;border-color:#292724;border-style:none;border-width:1.0;fill:rgb(16.1%,15.3%,14.1%);fill-opacity:1.0;font-family:Helvetica;font-size:12px;opacity:1.0;stroke:rgb(16.1%,15.3%,14.1%);stroke-opacity:1.0;stroke-width:1.0\" id=\"td4b870d77f324e5fba71bac3878e26af\"><g class=\"toyplot-coordinates-Cartesian\" id=\"t50d1a9b7de364db0948a523948058e0a\"><clipPath id=\"t3fd13e4ca9e34afc84d6b5e6949c800f\"><rect x=\"35.0\" y=\"35.0\" width=\"430.0\" height=\"205.0\"></rect></clipPath><g clip-path=\"url(#t3fd13e4ca9e34afc84d6b5e6949c800f)\"><g class=\"toytree-mark-Toytree\" id=\"t13c0a04877874c629d84a92e843f255c\"><g class=\"toytree-Edges\" style=\"fill:none;stroke:rgba(16.1%,15.3%,14.1%,1.000);stroke-linecap:round;stroke-width:2.0\"><path d=\"M 249.4 194.9 L 249.4 214.1 L 340.6 214.1\" id=\"5,0\" style=\"stroke-width:nan\"></path><path d=\"M 249.4 194.9 L 249.4 175.8 L 340.6 175.8\" id=\"5,1\" style=\"stroke-width:nan\"></path><path d=\"M 158.3 166.2 L 158.3 137.5 L 340.6 137.5\" id=\"6,2\" style=\"stroke-width:nan\"></path><path d=\"M 249.4 80.1 L 249.4 99.2 L 340.6 99.2\" id=\"7,3\" style=\"stroke-width:nan\"></path><path d=\"M 249.4 80.1 L 249.4 60.9 L 340.6 60.9\" id=\"7,4\" style=\"stroke-width:nan\"></path><path d=\"M 158.3 166.2 L 158.3 194.9 L 249.4 194.9\" id=\"6,5\" style=\"stroke-width:nan\"></path><path d=\"M 67.1 123.1 L 67.1 166.2 L 158.3 166.2\" id=\"8,6\" style=\"stroke-width:nan\"></path><path d=\"M 67.1 123.1 L 67.1 80.1 L 249.4 80.1\" id=\"8,7\" style=\"stroke-width:nan\"></path></g><g class=\"toytree-Nodes\" style=\"fill:rgba(82.7%,82.7%,82.7%,1.000);stroke:#262626;stroke-width:1.0\"><g id=\"node-0\" transform=\"translate(340.588,214.062)\"><rect x=\"-25.0\" y=\"-12.5\" width=\"50.0\" height=\"25.0\"></rect></g><g id=\"node-1\" transform=\"translate(340.588,175.781)\"><rect x=\"-25.0\" y=\"-12.5\" width=\"50.0\" height=\"25.0\"></rect></g><g id=\"node-2\" transform=\"translate(340.588,137.500)\"><rect x=\"-25.0\" y=\"-12.5\" width=\"50.0\" height=\"25.0\"></rect></g><g id=\"node-3\" transform=\"translate(340.588,99.219)\"><rect x=\"-25.0\" y=\"-12.5\" width=\"50.0\" height=\"25.0\"></rect></g><g id=\"node-4\" transform=\"translate(340.588,60.938)\"><rect x=\"-25.0\" y=\"-12.5\" width=\"50.0\" height=\"25.0\"></rect></g><g id=\"node-5\" transform=\"translate(249.423,194.922)\"><rect x=\"-25.0\" y=\"-12.5\" width=\"50.0\" height=\"25.0\"></rect></g><g id=\"node-6\" transform=\"translate(158.258,166.211)\"><rect x=\"-25.0\" y=\"-12.5\" width=\"50.0\" height=\"25.0\"></rect></g><g id=\"node-7\" transform=\"translate(249.423,80.078)\"><rect x=\"-25.0\" y=\"-12.5\" width=\"50.0\" height=\"25.0\"></rect></g><g id=\"node-8\" transform=\"translate(67.093,123.145)\"><rect x=\"-25.0\" y=\"-12.5\" width=\"50.0\" height=\"25.0\"></rect></g></g><g class=\"toytree-NodeLabels\" style=\"font-family:Helvetica;font-size:15.0px;font-weight:300;stroke:none;vertical-align:baseline;white-space:pre\"><g class=\"toytree-NodeLabel\" transform=\"translate(340.58835595364263,214.0625)\"><text x=\"-9.18\" y=\"3.8324999999999996\" style=\"fill:rgb(16.1%,15.3%,14.1%);fill-opacity:1.0\">{1}</text></g><g class=\"toytree-NodeLabel\" transform=\"translate(340.58835595364263,175.78125)\"><text x=\"-9.18\" y=\"3.8324999999999996\" style=\"fill:rgb(16.1%,15.3%,14.1%);fill-opacity:1.0\">{0}</text></g><g class=\"toytree-NodeLabel\" transform=\"translate(340.58835595364263,137.5)\"><text x=\"-9.18\" y=\"3.8324999999999996\" style=\"fill:rgb(16.1%,15.3%,14.1%);fill-opacity:1.0\">{1}</text></g><g class=\"toytree-NodeLabel\" transform=\"translate(340.58835595364263,99.21875)\"><text x=\"-9.18\" y=\"3.8324999999999996\" style=\"fill:rgb(16.1%,15.3%,14.1%);fill-opacity:1.0\">{1}</text></g><g class=\"toytree-NodeLabel\" transform=\"translate(340.58835595364263,60.9375)\"><text x=\"-9.18\" y=\"3.8324999999999996\" style=\"fill:rgb(16.1%,15.3%,14.1%);fill-opacity:1.0\">{0}</text></g><g class=\"toytree-NodeLabel\" transform=\"translate(249.42338153681357,194.921875)\"><text x=\"-17.52\" y=\"3.8324999999999996\" style=\"fill:rgb(16.1%,15.3%,14.1%);fill-opacity:1.0\">{0, 1}</text></g><g class=\"toytree-NodeLabel\" transform=\"translate(158.25840711998453,166.2109375)\"><text x=\"-9.18\" y=\"3.8324999999999996\" style=\"fill:rgb(16.1%,15.3%,14.1%);fill-opacity:1.0\">{1}</text></g><g class=\"toytree-NodeLabel\" transform=\"translate(249.42338153681357,80.078125)\"><text x=\"-17.52\" y=\"3.8324999999999996\" style=\"fill:rgb(16.1%,15.3%,14.1%);fill-opacity:1.0\">{0, 1}</text></g><g class=\"toytree-NodeLabel\" transform=\"translate(67.09343270315544,123.14453125)\"><text x=\"-9.18\" y=\"3.8324999999999996\" style=\"fill:rgb(16.1%,15.3%,14.1%);fill-opacity:1.0\">{1}</text></g></g><g class=\"toytree-TipLabels\" style=\"fill:rgb(16.1%,15.3%,14.1%);fill-opacity:1.0;font-family:Helvetica;font-size:15.0px;font-weight:300;stroke:none;vertical-align:baseline;white-space:pre\"><g class=\"toytree-TipLabel\" transform=\"translate(340.58835595364263,214.0625)\"><text x=\"30.0\" y=\"3.8324999999999996\" style=\"\">alpha</text></g><g class=\"toytree-TipLabel\" transform=\"translate(340.58835595364263,175.78125)\"><text x=\"30.0\" y=\"3.8324999999999996\" style=\"\">beta</text></g><g class=\"toytree-TipLabel\" transform=\"translate(340.58835595364263,137.5)\"><text x=\"30.0\" y=\"3.8324999999999996\" style=\"\">gamma</text></g><g class=\"toytree-TipLabel\" transform=\"translate(340.58835595364263,99.21875)\"><text x=\"30.0\" y=\"3.8324999999999996\" style=\"\">delta</text></g><g class=\"toytree-TipLabel\" transform=\"translate(340.58835595364263,60.9375)\"><text x=\"30.0\" y=\"3.8324999999999996\" style=\"\">epsilon</text></g></g></g></g></g></svg><div class=\"toyplot-behavior\"><script>(function()\n",
       "{\n",
       "var modules={};\n",
       "})();</script></div></div>"
      ],
      "text/plain": [
       "<toyplot.canvas.Canvas at 0x7f74d5991610>"
      ]
     },
     "execution_count": 25,
     "metadata": {},
     "output_type": "execute_result"
    }
   ],
   "source": [
    "c, a, m = tree2.draw(\n",
    "    width=500, \n",
    "    use_edge_lengths=False,\n",
    "    node_sizes=25, \n",
    "    node_markers='r2x1',\n",
    "    node_mask=False,\n",
    "    node_colors=\"lightgrey\",\n",
    "    node_labels=\"fitch\", \n",
    "    node_labels_style={'font-size': 15},\n",
    "    tip_labels_style={'font-size': 15, '-toyplot-anchor-shift': 30}\n",
    ")\n",
    "c.style['background-color'] = 'white'\n",
    "import toyplot.svg\n",
    "toyplot.svg.render(c, \"./fig-6.5.svg\")\n",
    "c"
   ]
  },
  {
   "cell_type": "markdown",
   "id": "62f9c1b8",
   "metadata": {},
   "source": [
    "### Multiple traits"
   ]
  },
  {
   "cell_type": "code",
   "execution_count": 13,
   "id": "7f830e0e",
   "metadata": {},
   "outputs": [
    {
     "ename": "NameError",
     "evalue": "name 'data' is not defined",
     "output_type": "error",
     "traceback": [
      "\u001b[0;31m---------------------------------------------------------------------------\u001b[0m",
      "\u001b[0;31mNameError\u001b[0m                                 Traceback (most recent call last)",
      "Input \u001b[0;32mIn [13]\u001b[0m, in \u001b[0;36m<module>\u001b[0;34m\u001b[0m\n\u001b[0;32m----> 1\u001b[0m \u001b[43mdata\u001b[49m\u001b[38;5;241m.\u001b[39miloc[:, \u001b[38;5;241m3\u001b[39m]\n",
      "\u001b[0;31mNameError\u001b[0m: name 'data' is not defined"
     ]
    }
   ],
   "source": [
    "data.iloc[:, 3]"
   ]
  },
  {
   "cell_type": "code",
   "execution_count": 708,
   "id": "f670902d",
   "metadata": {},
   "outputs": [],
   "source": [
    "a = np.zeros((100, 100))\n",
    "b = pd.DataFrame(a)"
   ]
  },
  {
   "cell_type": "code",
   "execution_count": 709,
   "id": "5184287f",
   "metadata": {},
   "outputs": [
    {
     "name": "stdout",
     "output_type": "stream",
     "text": [
      "86.9 ns ± 1.5 ns per loop (mean ± std. dev. of 7 runs, 10,000,000 loops each)\n"
     ]
    }
   ],
   "source": [
    "%%timeit\n",
    "a[50, 50]"
   ]
  },
  {
   "cell_type": "code",
   "execution_count": 723,
   "id": "b05c660c",
   "metadata": {},
   "outputs": [
    {
     "name": "stdout",
     "output_type": "stream",
     "text": [
      "5.3 µs ± 130 ns per loop (mean ± std. dev. of 7 runs, 100,000 loops each)\n"
     ]
    }
   ],
   "source": [
    "%%timeit\n",
    "b.loc[50, 50]"
   ]
  },
  {
   "cell_type": "code",
   "execution_count": 775,
   "id": "24c4c420",
   "metadata": {},
   "outputs": [],
   "source": [
    "arr = np.array(data)"
   ]
  },
  {
   "cell_type": "code",
   "execution_count": 776,
   "id": "c665ec12",
   "metadata": {
    "scrolled": true
   },
   "outputs": [
    {
     "name": "stdout",
     "output_type": "stream",
     "text": [
      "arr:\n",
      "[[1 0 0 1 1 0 0]\n",
      " [0 0 1 0 0 0 0]\n",
      " [1 1 0 0 0 0 0]\n",
      " [1 1 0 1 1 1 0]\n",
      " [0 0 1 1 1 0 0]]\n",
      "\n",
      "boolean_mask:\n",
      "[[ True  True  True  True  True  True  True]\n",
      " [False  True False False False  True  True]\n",
      " [ True False  True False False  True  True]\n",
      " [ True False  True  True  True False  True]\n",
      " [False  True False  True  True  True  True]]\n",
      "\n",
      "counts:\n",
      "[3 3 3 3 3 4 5]\n"
     ]
    }
   ],
   "source": [
    "# view the original data arr\n",
    "print(f\"arr:\\n{arr}\")\n",
    "\n",
    "# compare arr columns-wise to the value in the first row of arr\n",
    "print(f\"\\nboolean_mask:\\n{arr == arr[0]}\")\n",
    "\n",
    "# get sum of True values in each column of the boolean mask\n",
    "print(f\"\\ncounts:\\n{np.sum(arr == arr[0], axis=0)}\")"
   ]
  },
  {
   "cell_type": "code",
   "execution_count": null,
   "id": "43de33fb",
   "metadata": {},
   "outputs": [],
   "source": []
  },
  {
   "cell_type": "code",
   "execution_count": null,
   "id": "1e48876a",
   "metadata": {},
   "outputs": [],
   "source": []
  },
  {
   "cell_type": "code",
   "execution_count": 739,
   "id": "2517e707",
   "metadata": {},
   "outputs": [
    {
     "data": {
      "text/html": [
       "<div>\n",
       "<style scoped>\n",
       "    .dataframe tbody tr th:only-of-type {\n",
       "        vertical-align: middle;\n",
       "    }\n",
       "\n",
       "    .dataframe tbody tr th {\n",
       "        vertical-align: top;\n",
       "    }\n",
       "\n",
       "    .dataframe thead th {\n",
       "        text-align: right;\n",
       "    }\n",
       "</style>\n",
       "<table border=\"1\" class=\"dataframe\">\n",
       "  <thead>\n",
       "    <tr style=\"text-align: right;\">\n",
       "      <th></th>\n",
       "      <th>0</th>\n",
       "      <th>1</th>\n",
       "      <th>2</th>\n",
       "    </tr>\n",
       "  </thead>\n",
       "  <tbody>\n",
       "    <tr>\n",
       "      <th>alpha</th>\n",
       "      <td>0</td>\n",
       "      <td>0</td>\n",
       "      <td>0</td>\n",
       "    </tr>\n",
       "    <tr>\n",
       "      <th>delta</th>\n",
       "      <td>1</td>\n",
       "      <td>0</td>\n",
       "      <td>0</td>\n",
       "    </tr>\n",
       "    <tr>\n",
       "      <th>gamma</th>\n",
       "      <td>1</td>\n",
       "      <td>0</td>\n",
       "      <td>1</td>\n",
       "    </tr>\n",
       "    <tr>\n",
       "      <th>beta</th>\n",
       "      <td>0</td>\n",
       "      <td>1</td>\n",
       "      <td>1</td>\n",
       "    </tr>\n",
       "    <tr>\n",
       "      <th>epsilon</th>\n",
       "      <td>0</td>\n",
       "      <td>1</td>\n",
       "      <td>0</td>\n",
       "    </tr>\n",
       "  </tbody>\n",
       "</table>\n",
       "</div>"
      ],
      "text/plain": [
       "         0  1  2\n",
       "alpha    0  0  0\n",
       "delta    1  0  0\n",
       "gamma    1  0  1\n",
       "beta     0  1  1\n",
       "epsilon  0  1  0"
      ]
     },
     "execution_count": 739,
     "metadata": {},
     "output_type": "execute_result"
    }
   ],
   "source": [
    "data.loc[tree.get_tip_labels()]"
   ]
  },
  {
   "cell_type": "code",
   "execution_count": 748,
   "id": "c9863a3b",
   "metadata": {},
   "outputs": [],
   "source": [
    "from typing import Tuple\n",
    "\n",
    "def preprocess_matrix(data: pd.DataFrame) -> Tuple[int, np.ndarray, pd.DataFrame]:\n",
    "    \"\"\"Return a score and dict of sites to be processed.\n",
    "\n",
    "    This func will remove invariant sites and sites with only a single\n",
    "    autapomorphy to get a reduced DataFrame with only unique patterns. \n",
    "\n",
    "    Parameters\n",
    "    ----------\n",
    "    data: pandas.DataFrame\n",
    "        A pandas dataframe character matrix with taxon names as index.\n",
    "\n",
    "    Returns\n",
    "    -------\n",
    "    Tuple \n",
    "        A 3-part tuple with (score, counts, data). The score is an int \n",
    "        for the number of singleton sites; the counts is an array of ints\n",
    "        for the number of occurrence of each unique site pattern; the data\n",
    "        is a DataFrame with the unique site patterns.\n",
    "    \"\"\"\n",
    "    # get data as a numpy array\n",
    "    arr = np.array(data)\n",
    "\n",
    "    # get int array counting how many samples match the state of \n",
    "    # the first sample in each column. We will use this for filtering.\n",
    "    counts = np.sum(arr == arr[0], axis=0)\n",
    "\n",
    "    # get boolean array of invariant columns, i.e., all items match the first.\n",
    "    invariant = counts == arr.shape[0]\n",
    "\n",
    "    # get boolean array of singleton columns, i.e., nmaching is 1 or N-1\n",
    "    singletons = (counts == 1) | (counts == arr.shape[0] - 1)\n",
    "\n",
    "    # combine boolean masks and filter columns from data\n",
    "    arr = arr[:, np.invert(invariant | singletons)]\n",
    "\n",
    "    # count the number of singleton sites\n",
    "    score = singletons.sum()\n",
    "\n",
    "    # get unique site patterns and their counts\n",
    "    arr, counts = np.unique(arr, axis=1, return_counts=True)\n",
    "\n",
    "    # find columns that are the same PATTERN as others, i.e., recode patterns\n",
    "    # such that [0, 1, 1, 2] == [1, 2, 2, 0] == [2, 0, 0, 1], etc.\n",
    "    uniq_dict = {}\n",
    "    for cidx in range(arr.shape[1]):\n",
    "\n",
    "        # get a column of data. e.g., [1, 1, 0, 1, 2]\n",
    "        col = arr[:, cidx]\n",
    "\n",
    "        # get index of first occurrence of each unique base, e.g., [0, 2, 4],\n",
    "        _, idxs = np.unique(col, return_index=True)\n",
    "\n",
    "        # get order of indices, e.g., [0, 1, 2]\n",
    "        order = np.argsort(idxs).tolist()\n",
    "\n",
    "        # get site as ordered index of unique patterns, e.g., [0, 0, 1, 0, 2]\n",
    "        site = tuple((order.index(i) for i in col))\n",
    "\n",
    "        # record each uniq pattern, or add to it if already mirrored.\n",
    "        if site not in uniq_dict:\n",
    "            uniq_dict[site] = counts[cidx]\n",
    "        else:\n",
    "            uniq_dict[site] += counts[cidx]\n",
    "\n",
    "    # convert unique patterns and counts back into a dataframe and array\n",
    "    arr = np.column_stack(list(uniq_dict))\n",
    "    data = pd.DataFrame(data=arr, index=data.index)\n",
    "    counts = np.array(list(uniq_dict.values()))\n",
    "\n",
    "    # return the score, counts, and data\n",
    "    return score, counts, data"
   ]
  },
  {
   "cell_type": "code",
   "execution_count": 749,
   "id": "a1b3f12c",
   "metadata": {},
   "outputs": [],
   "source": [
    "def fitch_parsimony(tree: toytree.ToyTree, data: pd.DataFrame) -> int:\n",
    "    \"\"\"Return Fitch parsimony score given a tree and single trait.\n",
    "\n",
    "    For didactic purposes this function will also store a feature named \n",
    "    'fitch' to every Node which can be examined/visualized afterwards.\n",
    "    \n",
    "    Parameters\n",
    "    ----------\n",
    "    tree: ToyTree\n",
    "        A tree on which to count state changes.\n",
    "    data: DataFrame\n",
    "        A dataframe with sample names from the tree as the index.\n",
    "        \n",
    "    Returns\n",
    "    -------\n",
    "    int\n",
    "        The minimum changes required for trait data to evolve on this tree.\n",
    "    \"\"\"\n",
    "    # reduce matrix to unique sites and counts, and get initial score\n",
    "    score, counts, data = preprocess_matrix(data)\n",
    "\n",
    "    # sort data to tip idxorder and convert to array (faster indexing)\n",
    "    data = data.loc[tree.get_tip_labels()].values\n",
    "\n",
    "    # iterate over each column index of data\n",
    "    for cidx in range(data.shape[1]):\n",
    "\n",
    "        # iterate over Nodes in idxorder (postorder sorted) traversal\n",
    "        for node in tree:\n",
    "\n",
    "            # leaves are visited first, and converted to a set type\n",
    "            if node.is_leaf():\n",
    "                char = data[node.idx, cidx]\n",
    "                node._fitch = set([char])\n",
    "\n",
    "            # internal Nodes examine the sets of their children's states\n",
    "            if not node.is_leaf():\n",
    "\n",
    "                # check for shared (intersecting) states\n",
    "                shared = set.intersection(*(i._fitch for i in node.children))\n",
    "\n",
    "                # if any states are shared then ancestor inherits this state\n",
    "                if shared:\n",
    "                    node._fitch = shared\n",
    "\n",
    "                # if none shared, then store the union and increment counter\n",
    "                else:\n",
    "                    node._fitch = set.union(*(i._fitch for i in node.children))\n",
    "                    score += counts[cidx]\n",
    "    return score"
   ]
  },
  {
   "cell_type": "code",
   "execution_count": 752,
   "id": "e7a9418a",
   "metadata": {},
   "outputs": [
    {
     "data": {
      "text/plain": [
       "5"
      ]
     },
     "execution_count": 752,
     "metadata": {},
     "output_type": "execute_result"
    }
   ],
   "source": [
    "fitch_parsimony(tree, data)"
   ]
  },
  {
   "cell_type": "code",
   "execution_count": 704,
   "id": "0dac49c5",
   "metadata": {},
   "outputs": [],
   "source": [
    "from typing import Tuple\n",
    "\n",
    "def preprocess_matrix(data: pd.DataFrame) -> Tuple[int, np.ndarray, pd.DataFrame]:\n",
    "    \"\"\"Return a score and dict of sites to be processed.\n",
    "    \n",
    "    This func will remove invariant sites and sites with only a single\n",
    "    autapomorphy, and will find and return only unique site patterns. \n",
    "\n",
    "    Parameters\n",
    "    ----------\n",
    "    data: pandas.DataFrame\n",
    "        A pandas dataframe character matrix with taxon names as index.\n",
    "\n",
    "    Returns\n",
    "    -------\n",
    "    Dict\n",
    "        A dict with a key 'score' for the number of singleton sites, and a\n",
    "        key 'data' with an array of unique site patterns, and a key 'counts'\n",
    "        for the number of occurrences of each unique site pattern.\n",
    "    \"\"\"\n",
    "    # get data as a numpy array\n",
    "    arr = np.array(data)\n",
    "\n",
    "    # get int array counting how many samples match the state of \n",
    "    # the first sample in each column. We will use this for filtering.\n",
    "    counts = np.sum(arr == arr[0], axis=0)\n",
    "    \n",
    "    # get boolean array of invariant columns, i.e., all items match the first.\n",
    "    invariant = counts == arr.shape[0]\n",
    "    \n",
    "    # get boolean array of singleton columns, i.e., nmaching is 1 or N-1\n",
    "    singletons = (counts == 1) | (counts == arr.shape[0] - 1)\n",
    "    \n",
    "    # combine boolean masks and filter columns from data\n",
    "    arr = arr[:, np.invert(invariant | singletons)]\n",
    "\n",
    "    # count the number of singleton sites\n",
    "    score = singletons.sum()\n",
    "\n",
    "    # get unique site patterns and their counts\n",
    "    arr, counts = np.unique(arr, axis=1, return_counts=True)\n",
    "\n",
    "    # find columns that are the same PATTERN as others, i.e., recode patterns\n",
    "    # such that [0, 1, 1, 2] == [1, 2, 2, 0] == [2, 0, 0, 1], etc.\n",
    "    uniq_dict = {}\n",
    "    for cidx in range(arr.shape[1]):\n",
    "        \n",
    "        # get a column of data. e.g., [1, 1, 0, 1, 2]\n",
    "        col = arr[:, cidx]\n",
    "        print(col)\n",
    "        \n",
    "        # get index of first occurrence of each unique base, e.g., [0, 2, 4],\n",
    "        _, idxs = np.unique(col, return_index=True)\n",
    "        \n",
    "        # get order of indices, e.g., [0, 1, 2]\n",
    "        order = np.argsort(idxs).tolist()\n",
    "        \n",
    "        # get site as ordered index of unique patterns, e.g., [0, 0, 1, 0, 2]\n",
    "        site = tuple((order.index(i) for i in col))\n",
    "        \n",
    "        # record the first time pattern is seen\n",
    "        if site not in uniq_dict:\n",
    "            uniq_dict[site] = counts[cidx]\n",
    "\n",
    "        # increment following times\n",
    "        else:\n",
    "            uniq_dict[site] += counts[cidx]\n",
    "    \n",
    "    # convert unique patterns and counts back into a dataframe and array\n",
    "    data = pd.DataFrame(data=np.column_stack(list(uniq_dict)), index=data.index)\n",
    "    counts = np.array(list(uniq_dict.values()))\n",
    "\n",
    "    # return the score, counts, and data\n",
    "    return score, counts, data"
   ]
  },
  {
   "cell_type": "code",
   "execution_count": 705,
   "id": "3d57233b",
   "metadata": {},
   "outputs": [
    {
     "name": "stdout",
     "output_type": "stream",
     "text": [
      "[0 0 1 1 0]\n",
      "[0 1 0 0 1]\n",
      "[0 1 1 0 0]\n",
      "score=0\n",
      "[1 1 1]\n",
      "         0  1  2\n",
      "alpha    0  0  0\n",
      "beta     0  1  1\n",
      "gamma    1  0  1\n",
      "delta    1  0  0\n",
      "epsilon  0  1  0\n"
     ]
    }
   ],
   "source": [
    "score, counts, data = preprocess_matrix(data)\n",
    "\n",
    "print(f\"score={score}\")\n",
    "print(counts)\n",
    "print(data)"
   ]
  },
  {
   "cell_type": "code",
   "execution_count": 755,
   "id": "54f0a040",
   "metadata": {},
   "outputs": [
    {
     "name": "stdout",
     "output_type": "stream",
     "text": [
      "90.7 ns ± 2.88 ns per loop (mean ± std. dev. of 7 runs, 10,000,000 loops each)\n"
     ]
    }
   ],
   "source": [
    "%%timeit\n",
    "a[50, 50]"
   ]
  },
  {
   "cell_type": "code",
   "execution_count": 756,
   "id": "aa426f8c",
   "metadata": {},
   "outputs": [
    {
     "name": "stdout",
     "output_type": "stream",
     "text": [
      "20.1 µs ± 447 ns per loop (mean ± std. dev. of 7 runs, 10,000 loops each)\n"
     ]
    }
   ],
   "source": [
    "%%timeit\n",
    "b.iloc[50, 50]"
   ]
  },
  {
   "cell_type": "code",
   "execution_count": 758,
   "id": "6d768202",
   "metadata": {},
   "outputs": [
    {
     "data": {
      "text/html": [
       "<div>\n",
       "<style scoped>\n",
       "    .dataframe tbody tr th:only-of-type {\n",
       "        vertical-align: middle;\n",
       "    }\n",
       "\n",
       "    .dataframe tbody tr th {\n",
       "        vertical-align: top;\n",
       "    }\n",
       "\n",
       "    .dataframe thead th {\n",
       "        text-align: right;\n",
       "    }\n",
       "</style>\n",
       "<table border=\"1\" class=\"dataframe\">\n",
       "  <thead>\n",
       "    <tr style=\"text-align: right;\">\n",
       "      <th></th>\n",
       "      <th>0</th>\n",
       "      <th>1</th>\n",
       "      <th>2</th>\n",
       "    </tr>\n",
       "  </thead>\n",
       "  <tbody>\n",
       "    <tr>\n",
       "      <th>alpha</th>\n",
       "      <td>0</td>\n",
       "      <td>0</td>\n",
       "      <td>0</td>\n",
       "    </tr>\n",
       "    <tr>\n",
       "      <th>beta</th>\n",
       "      <td>0</td>\n",
       "      <td>1</td>\n",
       "      <td>1</td>\n",
       "    </tr>\n",
       "    <tr>\n",
       "      <th>gamma</th>\n",
       "      <td>1</td>\n",
       "      <td>0</td>\n",
       "      <td>1</td>\n",
       "    </tr>\n",
       "    <tr>\n",
       "      <th>delta</th>\n",
       "      <td>1</td>\n",
       "      <td>0</td>\n",
       "      <td>0</td>\n",
       "    </tr>\n",
       "    <tr>\n",
       "      <th>epsilon</th>\n",
       "      <td>0</td>\n",
       "      <td>1</td>\n",
       "      <td>0</td>\n",
       "    </tr>\n",
       "  </tbody>\n",
       "</table>\n",
       "</div>"
      ],
      "text/plain": [
       "         0  1  2\n",
       "alpha    0  0  0\n",
       "beta     0  1  1\n",
       "gamma    1  0  1\n",
       "delta    1  0  0\n",
       "epsilon  0  1  0"
      ]
     },
     "execution_count": 758,
     "metadata": {},
     "output_type": "execute_result"
    }
   ],
   "source": []
  },
  {
   "cell_type": "code",
   "execution_count": null,
   "id": "208d821b",
   "metadata": {},
   "outputs": [],
   "source": []
  },
  {
   "cell_type": "code",
   "execution_count": 624,
   "id": "d2978323",
   "metadata": {},
   "outputs": [
    {
     "data": {
      "text/plain": [
       "(array([0, 1, 2]), array([1, 2, 0]), array([2, 0, 1, 1, 2]))"
      ]
     },
     "execution_count": 624,
     "metadata": {},
     "output_type": "execute_result"
    }
   ],
   "source": [
    "np.unique([2, 0, 1, 1, 2], return_index=True, return_inverse=True)"
   ]
  },
  {
   "cell_type": "code",
   "execution_count": 625,
   "id": "24eb040c",
   "metadata": {},
   "outputs": [
    {
     "data": {
      "text/plain": [
       "(array([0, 1, 2]), array([0, 3, 2]), array([0, 0, 2, 1, 2]))"
      ]
     },
     "execution_count": 625,
     "metadata": {},
     "output_type": "execute_result"
    }
   ],
   "source": [
    "np.unique([0, 0, 2, 1, 2], return_index=True, return_inverse=True)"
   ]
  },
  {
   "cell_type": "code",
   "execution_count": 606,
   "id": "d62a1fbb",
   "metadata": {},
   "outputs": [
    {
     "data": {
      "text/plain": [
       "{'score': 1,\n",
       " 'traits': {(0, 0, 1, 1, 0): 1, (0, 1, 0, 0, 1): 2, (0, 1, 1, 0, 0): 2}}"
      ]
     },
     "execution_count": 606,
     "metadata": {},
     "output_type": "execute_result"
    }
   ],
   "source": [
    "preprocess_matrix(data)"
   ]
  },
  {
   "cell_type": "code",
   "execution_count": 684,
   "id": "afed2b1e",
   "metadata": {},
   "outputs": [],
   "source": [
    "def fitch_parsimony(tree: toytree.ToyTree, data: pd.DataFrame) -> int:\n",
    "    \"\"\"Return Fitch parsimony score given a tree and single trait.\n",
    "\n",
    "    For didactic purposes this function will also store a feature named \n",
    "    'fitch' to every Node which can be examined/visualized afterwards.\n",
    "    \n",
    "    Parameters\n",
    "    ----------\n",
    "    tree: ToyTree\n",
    "        A tree on which to count state changes.\n",
    "    data: DataFrame\n",
    "        A dataframe with sample names from the tree as the index.\n",
    "        \n",
    "    Returns\n",
    "    -------\n",
    "    int\n",
    "        The minimum changes required for trait data to evolve on this tree.\n",
    "    \"\"\"\n",
    "    # reduce matrix to unique sites and get initial score\n",
    "    pre = preprocess_matrix(data)\n",
    "    score = pre[\"score\"]\n",
    "    traits = pre[\"traits\"]\n",
    "\n",
    "    # a dict to translate names into numeric order in traits tuples\n",
    "    name_to_order = dict((j, i) for (i, j) in enumerate(data.index))    \n",
    "\n",
    "    # iterate over each unique trait\n",
    "    for trait, count in traits.items():\n",
    "\n",
    "        # iterate over Nodes in idxorder (postorder sorted) traversal\n",
    "        for node in tree:\n",
    "\n",
    "            # leaves are visited first, and converted to a set type\n",
    "            if node.is_leaf():\n",
    "                idx = name_to_order[node.name]\n",
    "                node._fitch = set([trait[idx]])\n",
    "\n",
    "            # internal Nodes examine the sets of their children's states\n",
    "            if not node.is_leaf():\n",
    "\n",
    "                # check for shared (intersecting) states\n",
    "                shared = set.intersection(*(i._fitch for i in node.children))\n",
    "\n",
    "                # if any states are shared then ancestor inherits this state\n",
    "                if shared:\n",
    "                    node._fitch = shared\n",
    "\n",
    "                # if none shared, then store the union and increment counter\n",
    "                else:\n",
    "                    node._fitch = set.union(*(i._fitch for i in node.children))\n",
    "                    score += count\n",
    "    return score"
   ]
  },
  {
   "cell_type": "code",
   "execution_count": 600,
   "id": "0500aaaf",
   "metadata": {},
   "outputs": [],
   "source": [
    "tree = toytree.tree(\"(((alpha,delta),gamma),(beta,epsilon));\")"
   ]
  },
  {
   "cell_type": "code",
   "execution_count": 601,
   "id": "a5ced0d8",
   "metadata": {},
   "outputs": [
    {
     "data": {
      "text/plain": [
       "9"
      ]
     },
     "execution_count": 601,
     "metadata": {},
     "output_type": "execute_result"
    }
   ],
   "source": [
    "fitch_parsimony(tree, data)"
   ]
  },
  {
   "cell_type": "code",
   "execution_count": null,
   "id": "d1934320",
   "metadata": {},
   "outputs": [],
   "source": []
  },
  {
   "cell_type": "code",
   "execution_count": null,
   "id": "c91c0c85",
   "metadata": {},
   "outputs": [],
   "source": []
  },
  {
   "cell_type": "code",
   "execution_count": null,
   "id": "2a91875d",
   "metadata": {},
   "outputs": [],
   "source": []
  },
  {
   "cell_type": "code",
   "execution_count": 570,
   "id": "85a3f6d1",
   "metadata": {
    "scrolled": true
   },
   "outputs": [
    {
     "data": {
      "text/plain": [
       "{'alpha': 1, 'beta': 0, 'delta': 1, 'epsilon': 0, 'gamma': 1}"
      ]
     },
     "execution_count": 570,
     "metadata": {},
     "output_type": "execute_result"
    }
   ],
   "source": [
    "trait"
   ]
  },
  {
   "cell_type": "code",
   "execution_count": null,
   "id": "92dcd324",
   "metadata": {},
   "outputs": [],
   "source": []
  },
  {
   "cell_type": "code",
   "execution_count": null,
   "id": "5337e0ac",
   "metadata": {},
   "outputs": [],
   "source": []
  },
  {
   "cell_type": "code",
   "execution_count": null,
   "id": "cb420ed1",
   "metadata": {},
   "outputs": [],
   "source": []
  },
  {
   "cell_type": "code",
   "execution_count": 558,
   "id": "9a550582",
   "metadata": {},
   "outputs": [
    {
     "data": {
      "text/plain": [
       "{'alpha': 0, 'beta': 0, 'gamma': 1, 'delta': 1, 'epsilon': 0}"
      ]
     },
     "execution_count": 558,
     "metadata": {},
     "output_type": "execute_result"
    }
   ],
   "source": [
    "dict(zip(data.index, (0, 0, 1, 1, 0)))"
   ]
  },
  {
   "cell_type": "code",
   "execution_count": null,
   "id": "f71f985e",
   "metadata": {},
   "outputs": [],
   "source": []
  },
  {
   "cell_type": "code",
   "execution_count": null,
   "id": "f5ee6313",
   "metadata": {},
   "outputs": [],
   "source": []
  },
  {
   "cell_type": "code",
   "execution_count": 512,
   "id": "40bb51f9",
   "metadata": {},
   "outputs": [
    {
     "data": {
      "text/plain": [
       "(array([0, 1, 3]), array([4, 2, 0]), array([2, 2, 1, 1, 0]))"
      ]
     },
     "execution_count": 512,
     "metadata": {},
     "output_type": "execute_result"
    }
   ],
   "source": [
    "a, b, c = np.unique([3, 3, 1, 1, 0], return_inverse=True, return_index=True)\n",
    "a, b, c"
   ]
  },
  {
   "cell_type": "code",
   "execution_count": 520,
   "id": "2d3cc68b",
   "metadata": {},
   "outputs": [
    {
     "data": {
      "text/plain": [
       "(array([0, 1, 3]), array([2, 0, 4]), array([1, 1, 0, 0, 2]))"
      ]
     },
     "execution_count": 520,
     "metadata": {},
     "output_type": "execute_result"
    }
   ],
   "source": [
    "a, b, c = np.unique([1, 1, 0, 0, 3], return_inverse=True, return_index=True)\n",
    "a, b, c"
   ]
  },
  {
   "cell_type": "code",
   "execution_count": 525,
   "id": "0c2b51cf",
   "metadata": {},
   "outputs": [
    {
     "data": {
      "text/plain": [
       "[1, 0, 2]"
      ]
     },
     "execution_count": 525,
     "metadata": {},
     "output_type": "execute_result"
    }
   ],
   "source": [
    "np.argsort(b).tolist()"
   ]
  },
  {
   "cell_type": "code",
   "execution_count": 521,
   "id": "d381de42",
   "metadata": {},
   "outputs": [
    {
     "data": {
      "text/plain": [
       "array([1, 1, 1, 1, 3])"
      ]
     },
     "execution_count": 521,
     "metadata": {},
     "output_type": "execute_result"
    }
   ],
   "source": [
    "order = np.argsort(b)\n",
    "for x, y in zip(a, order):\n",
    "    c[c == y] = x   \n",
    "c"
   ]
  },
  {
   "cell_type": "code",
   "execution_count": 515,
   "id": "0e782681",
   "metadata": {},
   "outputs": [
    {
     "name": "stdout",
     "output_type": "stream",
     "text": [
      "0 1 0 1\n",
      "1 0 2 0\n",
      "2 2 4 2\n"
     ]
    }
   ],
   "source": [
    "order = np.argsort(b)\n",
    "for uidx, sidx in enumerate(order):\n",
    "    bb = b[sidx]\n",
    "    pos = c[bb]\n",
    "    print(uidx, sidx, bb, pos)"
   ]
  },
  {
   "cell_type": "code",
   "execution_count": null,
   "id": "b5e6fe99",
   "metadata": {},
   "outputs": [],
   "source": []
  },
  {
   "cell_type": "code",
   "execution_count": 458,
   "id": "d0112276",
   "metadata": {},
   "outputs": [
    {
     "data": {
      "text/plain": [
       "{0: 1, 1: 0, 2: 2}"
      ]
     },
     "execution_count": 458,
     "metadata": {},
     "output_type": "execute_result"
    }
   ],
   "source": [
    "{idx: [1, 1, 0, 0, 2][base] for idx, base in enumerate(sorted([2, 0, 4]))}"
   ]
  },
  {
   "cell_type": "code",
   "execution_count": 476,
   "id": "8784f94e",
   "metadata": {},
   "outputs": [
    {
     "data": {
      "text/plain": [
       "(array([0, 1, 3]), array([4, 2, 0]), array([2, 2, 1, 1, 0]))"
      ]
     },
     "execution_count": 476,
     "metadata": {},
     "output_type": "execute_result"
    }
   ],
   "source": [
    "_, idx, inv = np.unique([3, 3, 1, 1, 0], return_inverse=True, return_index=True)\n",
    "dd = {i: inv[base] for i, base in enumerate(sorted(idx))}\n",
    "#[dd[i] for i in inv]\n",
    "_, idx, inv"
   ]
  },
  {
   "cell_type": "code",
   "execution_count": 506,
   "id": "644abac3",
   "metadata": {},
   "outputs": [
    {
     "name": "stdout",
     "output_type": "stream",
     "text": [
      "{0: 1, 1: 2, 2: 1}\n",
      "[1 1 2 2 0]\n"
     ]
    }
   ],
   "source": [
    "_, idx, inv = np.unique([1, 1, 3, 3, 0], return_inverse=True, return_index=True)\n",
    "dd = {i: inv[base] for i, base in enumerate(np.argsort(idx))}\n",
    "print(dd)\n",
    "print(inv)\n",
    "#[dd[i] for i in inv]"
   ]
  },
  {
   "cell_type": "code",
   "execution_count": 475,
   "id": "a696240d",
   "metadata": {},
   "outputs": [
    {
     "data": {
      "text/plain": [
       "(array([0, 1, 3]), array([4, 0, 2]), array([1, 1, 2, 2, 0]))"
      ]
     },
     "execution_count": 475,
     "metadata": {},
     "output_type": "execute_result"
    }
   ],
   "source": [
    "_, idx, inv"
   ]
  },
  {
   "cell_type": "code",
   "execution_count": 499,
   "id": "45602d5e",
   "metadata": {},
   "outputs": [
    {
     "data": {
      "text/plain": [
       "(array([0, 2, 1]), array([4, 0, 2]))"
      ]
     },
     "execution_count": 499,
     "metadata": {},
     "output_type": "execute_result"
    }
   ],
   "source": [
    "np.argsort(idx)[::-1], idx"
   ]
  },
  {
   "cell_type": "code",
   "execution_count": null,
   "id": "7fe0520d",
   "metadata": {},
   "outputs": [],
   "source": [
    "for idx, base in enumerate([1, 1, 0, 0, 2]):\n",
    "    \n",
    "    bidx = [2, 0, 4].index(idx)\n",
    "    \n",
    "    "
   ]
  },
  {
   "cell_type": "code",
   "execution_count": 420,
   "id": "28ccac53",
   "metadata": {
    "scrolled": true
   },
   "outputs": [
    {
     "data": {
      "text/plain": [
       "(array(['A', 'B', 'C'], dtype='<U1'), array([0, 1, 2, 2, 1]))"
      ]
     },
     "execution_count": 420,
     "metadata": {},
     "output_type": "execute_result"
    }
   ],
   "source": [
    "np.unique([\"A\", \"B\", \"C\", \"C\", \"B\"], return_inverse=True)"
   ]
  },
  {
   "cell_type": "code",
   "execution_count": 424,
   "id": "98562b82",
   "metadata": {},
   "outputs": [
    {
     "data": {
      "text/plain": [
       "(array(['A', 'B', 'C'], dtype='<U1'), array([1, 0, 2]), array([1, 0, 2, 2, 0]))"
      ]
     },
     "execution_count": 424,
     "metadata": {},
     "output_type": "execute_result"
    }
   ],
   "source": [
    "a, b, c = np.unique([\"B\", \"A\", \"C\", \"C\", \"A\"], return_inverse=True, return_index=True)\n",
    "a,b,c"
   ]
  },
  {
   "cell_type": "code",
   "execution_count": 432,
   "id": "160d2a1d",
   "metadata": {},
   "outputs": [
    {
     "data": {
      "text/plain": [
       "(0, 1, 2, 2, 1)"
      ]
     },
     "execution_count": 432,
     "metadata": {},
     "output_type": "execute_result"
    }
   ],
   "source": [
    "tuple(list(b).index(i) for i in c)"
   ]
  },
  {
   "cell_type": "code",
   "execution_count": 437,
   "id": "2f4c0c29",
   "metadata": {},
   "outputs": [
    {
     "name": "stderr",
     "output_type": "stream",
     "text": [
      "/tmp/ipykernel_590837/1517603257.py:1: DeprecationWarning: elementwise comparison failed; this will raise an error in the future.\n",
      "  np.where(b == c)\n"
     ]
    },
    {
     "data": {
      "text/plain": [
       "(array([], dtype=int64),)"
      ]
     },
     "execution_count": 437,
     "metadata": {},
     "output_type": "execute_result"
    }
   ],
   "source": [
    "np.mat"
   ]
  },
  {
   "cell_type": "code",
   "execution_count": 430,
   "id": "5c5399c5",
   "metadata": {},
   "outputs": [
    {
     "data": {
      "text/plain": [
       "(array([[0, 0, 0, 0, 1, 1],\n",
       "        [0, 0, 0, 1, 0, 0],\n",
       "        [0, 0, 1, 0, 0, 1],\n",
       "        [0, 1, 1, 0, 1, 1],\n",
       "        [0, 0, 0, 1, 1, 0]]),\n",
       " array([6, 5, 1, 2, 3, 0]),\n",
       " array([5, 2, 3, 4, 4, 1, 0]),\n",
       " array([1, 1, 1, 1, 2, 1]))"
      ]
     },
     "execution_count": 430,
     "metadata": {},
     "output_type": "execute_result"
    }
   ],
   "source": [
    "np.unique(data.values, return_inverse=True, return_index=True, return_counts=True, axis=1)"
   ]
  },
  {
   "cell_type": "code",
   "execution_count": 428,
   "id": "d9507fd9",
   "metadata": {},
   "outputs": [
    {
     "data": {
      "text/html": [
       "<div>\n",
       "<style scoped>\n",
       "    .dataframe tbody tr th:only-of-type {\n",
       "        vertical-align: middle;\n",
       "    }\n",
       "\n",
       "    .dataframe tbody tr th {\n",
       "        vertical-align: top;\n",
       "    }\n",
       "\n",
       "    .dataframe thead th {\n",
       "        text-align: right;\n",
       "    }\n",
       "</style>\n",
       "<table border=\"1\" class=\"dataframe\">\n",
       "  <thead>\n",
       "    <tr style=\"text-align: right;\">\n",
       "      <th></th>\n",
       "      <th>t0</th>\n",
       "      <th>t1</th>\n",
       "      <th>t2</th>\n",
       "      <th>t3</th>\n",
       "      <th>t4</th>\n",
       "      <th>t5</th>\n",
       "      <th>t6</th>\n",
       "    </tr>\n",
       "  </thead>\n",
       "  <tbody>\n",
       "    <tr>\n",
       "      <th>alpha</th>\n",
       "      <td>1</td>\n",
       "      <td>0</td>\n",
       "      <td>0</td>\n",
       "      <td>1</td>\n",
       "      <td>1</td>\n",
       "      <td>0</td>\n",
       "      <td>0</td>\n",
       "    </tr>\n",
       "    <tr>\n",
       "      <th>beta</th>\n",
       "      <td>0</td>\n",
       "      <td>0</td>\n",
       "      <td>1</td>\n",
       "      <td>0</td>\n",
       "      <td>0</td>\n",
       "      <td>0</td>\n",
       "      <td>0</td>\n",
       "    </tr>\n",
       "    <tr>\n",
       "      <th>gamma</th>\n",
       "      <td>1</td>\n",
       "      <td>1</td>\n",
       "      <td>0</td>\n",
       "      <td>0</td>\n",
       "      <td>0</td>\n",
       "      <td>0</td>\n",
       "      <td>0</td>\n",
       "    </tr>\n",
       "    <tr>\n",
       "      <th>delta</th>\n",
       "      <td>1</td>\n",
       "      <td>1</td>\n",
       "      <td>0</td>\n",
       "      <td>1</td>\n",
       "      <td>1</td>\n",
       "      <td>1</td>\n",
       "      <td>0</td>\n",
       "    </tr>\n",
       "    <tr>\n",
       "      <th>epsilon</th>\n",
       "      <td>0</td>\n",
       "      <td>0</td>\n",
       "      <td>1</td>\n",
       "      <td>1</td>\n",
       "      <td>1</td>\n",
       "      <td>0</td>\n",
       "      <td>0</td>\n",
       "    </tr>\n",
       "  </tbody>\n",
       "</table>\n",
       "</div>"
      ],
      "text/plain": [
       "         t0  t1  t2  t3  t4  t5  t6\n",
       "alpha     1   0   0   1   1   0   0\n",
       "beta      0   0   1   0   0   0   0\n",
       "gamma     1   1   0   0   0   0   0\n",
       "delta     1   1   0   1   1   1   0\n",
       "epsilon   0   0   1   1   1   0   0"
      ]
     },
     "execution_count": 428,
     "metadata": {},
     "output_type": "execute_result"
    }
   ],
   "source": [
    "data"
   ]
  },
  {
   "cell_type": "code",
   "execution_count": 396,
   "id": "81119df7",
   "metadata": {},
   "outputs": [
    {
     "data": {
      "text/plain": [
       "(array([[0, 0, 0, 0, 1, 1],\n",
       "        [0, 0, 0, 1, 0, 0],\n",
       "        [0, 0, 1, 0, 0, 1],\n",
       "        [0, 1, 1, 0, 1, 1],\n",
       "        [0, 0, 0, 1, 1, 0]]),\n",
       " array([1, 1, 1, 1, 2, 1]))"
      ]
     },
     "execution_count": 396,
     "metadata": {},
     "output_type": "execute_result"
    }
   ],
   "source": [
    "np.unique(data.values, axis=1, return_counts=True)"
   ]
  },
  {
   "cell_type": "code",
   "execution_count": 392,
   "id": "e6469486",
   "metadata": {},
   "outputs": [
    {
     "data": {
      "text/plain": [
       "(array([0, 1]), array([1, 0, 1, 1, 0]))"
      ]
     },
     "execution_count": 392,
     "metadata": {},
     "output_type": "execute_result"
    }
   ],
   "source": [
    "np.unique(data.values[:, 0], return_inverse=True)"
   ]
  },
  {
   "cell_type": "code",
   "execution_count": 376,
   "id": "a10c41c3",
   "metadata": {},
   "outputs": [
    {
     "data": {
      "text/plain": [
       "(array([0, 1]), array([1, 0, 0, 1, 1, 0, 0]))"
      ]
     },
     "execution_count": 376,
     "metadata": {},
     "output_type": "execute_result"
    }
   ],
   "source": [
    "np.unique(data.values[0], return_inverse=True)"
   ]
  },
  {
   "cell_type": "code",
   "execution_count": 368,
   "id": "370dee48",
   "metadata": {
    "scrolled": true
   },
   "outputs": [
    {
     "data": {
      "text/plain": [
       "(1,\n",
       " {(1, 0, 1, 1, 0): 1,\n",
       "  (0, 0, 1, 1, 0): 1,\n",
       "  (0, 1, 0, 0, 1): 1,\n",
       "  (1, 0, 0, 1, 1): 2})"
      ]
     },
     "execution_count": 368,
     "metadata": {},
     "output_type": "execute_result"
    }
   ],
   "source": [
    "preprocess_matrix(data)"
   ]
  },
  {
   "cell_type": "code",
   "execution_count": 351,
   "id": "5b448816",
   "metadata": {},
   "outputs": [
    {
     "data": {
      "text/plain": [
       "array([[1, 1, 0, 0, 0, 0, 0],\n",
       "       [0, 0, 1, 1, 1, 0, 0],\n",
       "       [0, 0, 1, 0, 0, 0, 0],\n",
       "       [1, 0, 0, 1, 1, 0, 0],\n",
       "       [1, 1, 0, 1, 1, 1, 0]])"
      ]
     },
     "execution_count": 351,
     "metadata": {},
     "output_type": "execute_result"
    }
   ],
   "source": [
    "np.vstack(list({tuple(row) for row in data.values}))"
   ]
  },
  {
   "cell_type": "code",
   "execution_count": 320,
   "id": "2f47ccb6",
   "metadata": {},
   "outputs": [
    {
     "data": {
      "text/html": [
       "<div>\n",
       "<style scoped>\n",
       "    .dataframe tbody tr th:only-of-type {\n",
       "        vertical-align: middle;\n",
       "    }\n",
       "\n",
       "    .dataframe tbody tr th {\n",
       "        vertical-align: top;\n",
       "    }\n",
       "\n",
       "    .dataframe thead th {\n",
       "        text-align: right;\n",
       "    }\n",
       "</style>\n",
       "<table border=\"1\" class=\"dataframe\">\n",
       "  <thead>\n",
       "    <tr style=\"text-align: right;\">\n",
       "      <th></th>\n",
       "      <th>t0</th>\n",
       "      <th>t1</th>\n",
       "      <th>t2</th>\n",
       "      <th>t3</th>\n",
       "      <th>t4</th>\n",
       "      <th>t5</th>\n",
       "      <th>t6</th>\n",
       "    </tr>\n",
       "  </thead>\n",
       "  <tbody>\n",
       "    <tr>\n",
       "      <th>alpha</th>\n",
       "      <td>1</td>\n",
       "      <td>0</td>\n",
       "      <td>0</td>\n",
       "      <td>1</td>\n",
       "      <td>1</td>\n",
       "      <td>0</td>\n",
       "      <td>0</td>\n",
       "    </tr>\n",
       "    <tr>\n",
       "      <th>beta</th>\n",
       "      <td>0</td>\n",
       "      <td>0</td>\n",
       "      <td>1</td>\n",
       "      <td>0</td>\n",
       "      <td>0</td>\n",
       "      <td>0</td>\n",
       "      <td>0</td>\n",
       "    </tr>\n",
       "    <tr>\n",
       "      <th>gamma</th>\n",
       "      <td>1</td>\n",
       "      <td>1</td>\n",
       "      <td>0</td>\n",
       "      <td>0</td>\n",
       "      <td>0</td>\n",
       "      <td>0</td>\n",
       "      <td>0</td>\n",
       "    </tr>\n",
       "    <tr>\n",
       "      <th>delta</th>\n",
       "      <td>1</td>\n",
       "      <td>1</td>\n",
       "      <td>0</td>\n",
       "      <td>1</td>\n",
       "      <td>1</td>\n",
       "      <td>1</td>\n",
       "      <td>0</td>\n",
       "    </tr>\n",
       "    <tr>\n",
       "      <th>epsilon</th>\n",
       "      <td>0</td>\n",
       "      <td>0</td>\n",
       "      <td>1</td>\n",
       "      <td>1</td>\n",
       "      <td>1</td>\n",
       "      <td>0</td>\n",
       "      <td>0</td>\n",
       "    </tr>\n",
       "  </tbody>\n",
       "</table>\n",
       "</div>"
      ],
      "text/plain": [
       "         t0  t1  t2  t3  t4  t5  t6\n",
       "alpha     1   0   0   1   1   0   0\n",
       "beta      0   0   1   0   0   0   0\n",
       "gamma     1   1   0   0   0   0   0\n",
       "delta     1   1   0   1   1   1   0\n",
       "epsilon   0   0   1   1   1   0   0"
      ]
     },
     "execution_count": 320,
     "metadata": {},
     "output_type": "execute_result"
    }
   ],
   "source": [
    "data"
   ]
  },
  {
   "cell_type": "code",
   "execution_count": 773,
   "id": "7ae74b91",
   "metadata": {},
   "outputs": [],
   "source": [
    "data = pd.DataFrame(\n",
    "    #columns=[\"t\" + str(i) for i in range(7)],\n",
    "    index=[\"alpha\", \"beta\", \"gamma\", \"delta\", \"epsilon\"],\n",
    "    data=[\n",
    "        [1, 0, 0, 1, 1 ,0, 0],\n",
    "        [0, 0, 1, 0, 0, 0, 0],\n",
    "        [1, 1, 0, 0, 0, 0, 0],\n",
    "        [1, 1, 0, 1, 1, 1, 0],\n",
    "        [0, 0, 1, 1, 1, 0, 0],\n",
    "    ],\n",
    ")"
   ]
  },
  {
   "cell_type": "code",
   "execution_count": 678,
   "id": "1e94f28b",
   "metadata": {},
   "outputs": [
    {
     "data": {
      "text/html": [
       "<div>\n",
       "<style scoped>\n",
       "    .dataframe tbody tr th:only-of-type {\n",
       "        vertical-align: middle;\n",
       "    }\n",
       "\n",
       "    .dataframe tbody tr th {\n",
       "        vertical-align: top;\n",
       "    }\n",
       "\n",
       "    .dataframe thead th {\n",
       "        text-align: right;\n",
       "    }\n",
       "</style>\n",
       "<table border=\"1\" class=\"dataframe\">\n",
       "  <thead>\n",
       "    <tr style=\"text-align: right;\">\n",
       "      <th></th>\n",
       "      <th>0</th>\n",
       "      <th>1</th>\n",
       "      <th>2</th>\n",
       "      <th>3</th>\n",
       "      <th>4</th>\n",
       "      <th>5</th>\n",
       "      <th>6</th>\n",
       "    </tr>\n",
       "  </thead>\n",
       "  <tbody>\n",
       "    <tr>\n",
       "      <th>alpha</th>\n",
       "      <td>1</td>\n",
       "      <td>0</td>\n",
       "      <td>0</td>\n",
       "      <td>1</td>\n",
       "      <td>1</td>\n",
       "      <td>0</td>\n",
       "      <td>0</td>\n",
       "    </tr>\n",
       "    <tr>\n",
       "      <th>beta</th>\n",
       "      <td>0</td>\n",
       "      <td>0</td>\n",
       "      <td>1</td>\n",
       "      <td>0</td>\n",
       "      <td>0</td>\n",
       "      <td>0</td>\n",
       "      <td>0</td>\n",
       "    </tr>\n",
       "    <tr>\n",
       "      <th>gamma</th>\n",
       "      <td>1</td>\n",
       "      <td>1</td>\n",
       "      <td>0</td>\n",
       "      <td>0</td>\n",
       "      <td>0</td>\n",
       "      <td>0</td>\n",
       "      <td>0</td>\n",
       "    </tr>\n",
       "    <tr>\n",
       "      <th>delta</th>\n",
       "      <td>1</td>\n",
       "      <td>1</td>\n",
       "      <td>0</td>\n",
       "      <td>1</td>\n",
       "      <td>1</td>\n",
       "      <td>1</td>\n",
       "      <td>0</td>\n",
       "    </tr>\n",
       "    <tr>\n",
       "      <th>epsilon</th>\n",
       "      <td>0</td>\n",
       "      <td>0</td>\n",
       "      <td>1</td>\n",
       "      <td>1</td>\n",
       "      <td>1</td>\n",
       "      <td>0</td>\n",
       "      <td>0</td>\n",
       "    </tr>\n",
       "  </tbody>\n",
       "</table>\n",
       "</div>"
      ],
      "text/plain": [
       "         0  1  2  3  4  5  6\n",
       "alpha    1  0  0  1  1  0  0\n",
       "beta     0  0  1  0  0  0  0\n",
       "gamma    1  1  0  0  0  0  0\n",
       "delta    1  1  0  1  1  1  0\n",
       "epsilon  0  0  1  1  1  0  0"
      ]
     },
     "execution_count": 678,
     "metadata": {},
     "output_type": "execute_result"
    }
   ],
   "source": [
    "data"
   ]
  },
  {
   "cell_type": "code",
   "execution_count": 282,
   "id": "6edc7fff",
   "metadata": {},
   "outputs": [
    {
     "data": {
      "text/plain": [
       "array([[1, 0, 0, 1, 1, 0, 0],\n",
       "       [0, 0, 1, 0, 0, 0, 0],\n",
       "       [1, 1, 0, 0, 0, 0, 0],\n",
       "       [1, 1, 0, 1, 1, 1, 0],\n",
       "       [0, 0, 1, 1, 1, 0, 0]])"
      ]
     },
     "execution_count": 282,
     "metadata": {},
     "output_type": "execute_result"
    }
   ],
   "source": [
    "np.array(data)"
   ]
  },
  {
   "cell_type": "markdown",
   "id": "76b19cc9",
   "metadata": {},
   "source": [
    "### SPR"
   ]
  },
  {
   "cell_type": "code",
   "execution_count": 49,
   "id": "ac102359",
   "metadata": {},
   "outputs": [
    {
     "data": {
      "text/plain": [
       "(8, 9)"
      ]
     },
     "execution_count": 49,
     "metadata": {},
     "output_type": "execute_result"
    }
   ],
   "source": [
    "tree.treenode.idx, tree.nnodes"
   ]
  },
  {
   "cell_type": "code",
   "execution_count": 200,
   "id": "60195115",
   "metadata": {},
   "outputs": [
    {
     "data": {
      "text/plain": [
       "1"
      ]
     },
     "execution_count": 200,
     "metadata": {},
     "output_type": "execute_result"
    }
   ],
   "source": [
    "np.random.default_rng().choice(list({1,2,3}))"
   ]
  },
  {
   "cell_type": "code",
   "execution_count": 254,
   "id": "4c634c14",
   "metadata": {},
   "outputs": [
    {
     "name": "stdout",
     "output_type": "stream",
     "text": [
      "3\n",
      "5\n"
     ]
    },
    {
     "data": {
      "text/plain": [
       "(<toyplot.canvas.Canvas at 0x7fe88b5ee910>,\n",
       " <toyplot.coordinates.Cartesian at 0x7fe88b659730>,\n",
       " <toytree.core.drawing.toytree_mark.ToytreeMark at 0x7fe88b65b130>)"
      ]
     },
     "execution_count": 254,
     "metadata": {},
     "output_type": "execute_result"
    },
    {
     "data": {
      "text/html": [
       "<div class=\"toyplot\" id=\"tb89789eed0de40abb57f6766816bc25e\" style=\"text-align:center\"><svg class=\"toyplot-canvas-Canvas\" xmlns:toyplot=\"http://www.sandia.gov/toyplot\" xmlns:xlink=\"http://www.w3.org/1999/xlink\" xmlns=\"http://www.w3.org/2000/svg\" width=\"285.0px\" height=\"275.0px\" viewBox=\"0 0 285.0 275.0\" preserveAspectRatio=\"xMidYMid meet\" style=\"background-color:transparent;border-color:#292724;border-style:none;border-width:1.0;fill:rgb(16.1%,15.3%,14.1%);fill-opacity:1.0;font-family:Helvetica;font-size:12px;opacity:1.0;stroke:rgb(16.1%,15.3%,14.1%);stroke-opacity:1.0;stroke-width:1.0\" id=\"t062df47094be420aac76a565768d45f3\"><g class=\"toyplot-coordinates-Cartesian\" id=\"tca0aee08f4a4482ab352bdb28d488386\"><clipPath id=\"t8d288a58597443c88707f60c547bb948\"><rect x=\"35.0\" y=\"35.0\" width=\"215.0\" height=\"205.0\"></rect></clipPath><g clip-path=\"url(#t8d288a58597443c88707f60c547bb948)\"><g class=\"toytree-mark-Toytree\" id=\"t9db41d18d3584c319752dbe644e56baa\"><g class=\"toytree-Edges\" style=\"fill:none;stroke:rgba(16.1%,15.3%,14.1%,1.000);stroke-linecap:round;stroke-width:2.0\"><path d=\"M 132.3 190.4 L 132.3 216.8 L 170.7 216.8\" id=\"4,0\" style=\"stroke-width:nan\"></path><path d=\"M 132.3 190.4 L 132.3 163.9 L 170.7 163.9\" id=\"4,1\" style=\"stroke-width:nan\"></path><path d=\"M 94.0 150.7 L 94.0 111.1 L 170.7 111.1\" id=\"5,2\" style=\"stroke-width:nan\"></path><path d=\"M 132.3 58.2 L 132.3 58.2 L 170.7 58.2\" id=\"6,3\" style=\"stroke-width:nan\"></path><path d=\"M 94.0 150.7 L 94.0 190.4 L 132.3 190.4\" id=\"5,4\" style=\"stroke-width:nan\"></path><path d=\"M 55.6 104.4 L 55.6 150.7 L 94.0 150.7\" id=\"7,5\" style=\"stroke-width:nan\"></path><path d=\"M 55.6 104.4 L 55.6 58.2 L 132.3 58.2\" id=\"7,6\" style=\"stroke-width:nan\"></path></g><g class=\"toytree-Nodes\" style=\"fill:rgba(82.7%,82.7%,82.7%,1.000);stroke:#262626;stroke-width:1.5\"><g id=\"node-0\" transform=\"translate(170.700,216.839)\"><circle r=\"9.0\"></circle></g><g id=\"node-1\" transform=\"translate(170.700,163.946)\"><circle r=\"9.0\"></circle></g><g id=\"node-2\" transform=\"translate(170.700,111.054)\"><circle r=\"9.0\"></circle></g><g id=\"node-3\" transform=\"translate(170.700,58.161)\"><circle r=\"9.0\"></circle></g><g id=\"node-4\" transform=\"translate(132.333,190.393)\"><circle r=\"9.0\"></circle></g><g id=\"node-5\" transform=\"translate(93.966,150.723)\"><circle r=\"9.0\"></circle></g><g id=\"node-6\" transform=\"translate(132.333,58.161)\"><circle r=\"9.0\"></circle></g><g id=\"node-7\" transform=\"translate(55.599,104.442)\"><circle r=\"9.0\"></circle></g></g><g class=\"toytree-NodeLabels\" style=\"font-family:Helvetica;font-size:9.0px;font-weight:300;stroke:none;vertical-align:baseline;white-space:pre\"><g class=\"toytree-NodeLabel\" transform=\"translate(170.70032419925474,216.839378238342)\"><text x=\"-2.5020000000000002\" y=\"2.2995\" style=\"fill:rgb(16.1%,15.3%,14.1%);fill-opacity:1.0\">0</text></g><g class=\"toytree-NodeLabel\" transform=\"translate(170.70032419925474,163.94645941278065)\"><text x=\"-2.5020000000000002\" y=\"2.2995\" style=\"fill:rgb(16.1%,15.3%,14.1%);fill-opacity:1.0\">1</text></g><g class=\"toytree-NodeLabel\" transform=\"translate(170.70032419925474,111.05354058721932)\"><text x=\"-2.5020000000000002\" y=\"2.2995\" style=\"fill:rgb(16.1%,15.3%,14.1%);fill-opacity:1.0\">2</text></g><g class=\"toytree-NodeLabel\" transform=\"translate(170.70032419925474,58.16062176165802)\"><text x=\"-2.5020000000000002\" y=\"2.2995\" style=\"fill:rgb(16.1%,15.3%,14.1%);fill-opacity:1.0\">3</text></g><g class=\"toytree-NodeLabel\" transform=\"translate(132.33338265825455,190.3929188255613)\"><text x=\"-2.5020000000000002\" y=\"2.2995\" style=\"fill:rgb(16.1%,15.3%,14.1%);fill-opacity:1.0\">4</text></g><g class=\"toytree-NodeLabel\" transform=\"translate(93.9664411172543,150.7232297063903)\"><text x=\"-2.5020000000000002\" y=\"2.2995\" style=\"fill:rgb(16.1%,15.3%,14.1%);fill-opacity:1.0\">5</text></g><g class=\"toytree-NodeLabel\" transform=\"translate(132.33338265825455,58.16062176165802)\"><text x=\"-2.5020000000000002\" y=\"2.2995\" style=\"fill:rgb(16.1%,15.3%,14.1%);fill-opacity:1.0\">6</text></g><g class=\"toytree-NodeLabel\" transform=\"translate(55.59949957625408,104.44192573402418)\"><text x=\"-2.5020000000000002\" y=\"2.2995\" style=\"fill:rgb(16.1%,15.3%,14.1%);fill-opacity:1.0\">7</text></g></g><g class=\"toytree-TipLabels\" style=\"fill:rgb(16.1%,15.3%,14.1%);fill-opacity:1.0;font-family:Helvetica;font-size:11.0px;font-weight:300;stroke:none;vertical-align:baseline;white-space:pre\"><g class=\"toytree-TipLabel\" transform=\"translate(170.70032419925474,216.839378238342)\"><text x=\"15.0\" y=\"2.8104999999999993\" style=\"\">alpha</text></g><g class=\"toytree-TipLabel\" transform=\"translate(170.70032419925474,163.94645941278065)\"><text x=\"15.0\" y=\"2.8104999999999993\" style=\"\">delta</text></g><g class=\"toytree-TipLabel\" transform=\"translate(170.70032419925474,111.05354058721932)\"><text x=\"15.0\" y=\"2.8104999999999993\" style=\"\">gamma</text></g><g class=\"toytree-TipLabel\" transform=\"translate(170.70032419925474,58.16062176165802)\"><text x=\"15.0\" y=\"2.8104999999999993\" style=\"\">epsilon</text></g></g></g></g></g></svg><div class=\"toyplot-behavior\"><script>(function()\n",
       "{\n",
       "var modules={};\n",
       "})();</script></div></div>"
      ]
     },
     "metadata": {},
     "output_type": "display_data"
    }
   ],
   "source": [
    "\n",
    "def move_spr(\n",
    "    tree: toytree.ToyTree, \n",
    "    seed: int=None, \n",
    "    inplace: bool=False,\n",
    "    ) -> toytree.ToyTree:\n",
    "    \"\"\"Return a rooted ToyTree one SPR move from the current tree.\"\"\"\n",
    "    \n",
    "    tree = tree if inplace else tree.copy()\n",
    "    rng = np.random.default_rng(seed)\n",
    "\n",
    "    # randomly select a subtree idx (any non-root Node)\n",
    "    sidx = rng.choice(tree.nnodes - 1)\n",
    "    print(sidx)\n",
    "    \n",
    "    # get list of Nodes (edges) where subtree can be inserted. This \n",
    "    # cannot be the root, or a descendant on the subtree Node, or the\n",
    "    # subtree itself.\n",
    "    edges = (\n",
    "        set(range(tree.nnodes - 1)) - \n",
    "        set([i.idx for i in tree[sidx]._iter_descendants()]) - \n",
    "        set([i.idx for i in tree[sidx]._iter_sisters()]) - \n",
    "        set([sidx])\n",
    "    )\n",
    "    \n",
    "    # randomly select an edge by its descendant Node\n",
    "    eidx = rng.choice(list(edges))\n",
    "    print(eidx)\n",
    "    \n",
    "    # detach the selected Node and attach to eidx edge\n",
    "    tree[sidx]._up._remove_child(tree[sidx])\n",
    "    tree[sidx]._up = tree[eidx]\n",
    "\n",
    "    # randomly select point on edge to insert at.\n",
    "    # ...\n",
    "    \n",
    "    # update idxs\n",
    "    tree._update()\n",
    "    return tree\n",
    "    \n",
    "move_spr(tree).draw('s')"
   ]
  },
  {
   "cell_type": "code",
   "execution_count": 66,
   "id": "a6a80efa",
   "metadata": {},
   "outputs": [
    {
     "data": {
      "text/plain": [
       "(<toyplot.canvas.Canvas at 0x7fe8dce822b0>,\n",
       " <toyplot.coordinates.Cartesian at 0x7fe8dce82730>,\n",
       " <toytree.core.drawing.toytree_mark.ToytreeMark at 0x7fe8dd44ca30>)"
      ]
     },
     "execution_count": 66,
     "metadata": {},
     "output_type": "execute_result"
    },
    {
     "data": {
      "text/html": [
       "<div class=\"toyplot\" id=\"t1eaf27e1a01b4ad1825400c052ab4e29\" style=\"text-align:center\"><svg class=\"toyplot-canvas-Canvas\" xmlns:toyplot=\"http://www.sandia.gov/toyplot\" xmlns:xlink=\"http://www.w3.org/1999/xlink\" xmlns=\"http://www.w3.org/2000/svg\" width=\"285.0px\" height=\"275.0px\" viewBox=\"0 0 285.0 275.0\" preserveAspectRatio=\"xMidYMid meet\" style=\"background-color:transparent;border-color:#292724;border-style:none;border-width:1.0;fill:rgb(16.1%,15.3%,14.1%);fill-opacity:1.0;font-family:Helvetica;font-size:12px;opacity:1.0;stroke:rgb(16.1%,15.3%,14.1%);stroke-opacity:1.0;stroke-width:1.0\" id=\"t3b739d5d421d45f5875e456eabb3425d\"><g class=\"toyplot-coordinates-Cartesian\" id=\"t654fdda11acd417ebdf5f1bab2609d53\"><clipPath id=\"tc7b1088b918b45f98f14e3a129b6bbc3\"><rect x=\"35.0\" y=\"35.0\" width=\"215.0\" height=\"205.0\"></rect></clipPath><g clip-path=\"url(#tc7b1088b918b45f98f14e3a129b6bbc3)\"><g class=\"toytree-mark-Toytree\" id=\"t19c2626b6b62464db795049e98485ff9\"><g class=\"toytree-Edges\" style=\"fill:none;stroke:rgba(16.1%,15.3%,14.1%,1.000);stroke-linecap:round;stroke-width:2.0\"><path d=\"M 132.3 197.0 L 132.3 216.8 L 170.7 216.8\" id=\"5,0\" style=\"stroke-width:nan\"></path><path d=\"M 132.3 197.0 L 132.3 177.2 L 170.7 177.2\" id=\"5,1\" style=\"stroke-width:nan\"></path><path d=\"M 94.0 167.3 L 94.0 137.5 L 170.7 137.5\" id=\"6,2\" style=\"stroke-width:nan\"></path><path d=\"M 132.3 78.0 L 132.3 97.8 L 170.7 97.8\" id=\"7,3\" style=\"stroke-width:nan\"></path><path d=\"M 132.3 78.0 L 132.3 58.2 L 170.7 58.2\" id=\"7,4\" style=\"stroke-width:nan\"></path><path d=\"M 94.0 167.3 L 94.0 197.0 L 132.3 197.0\" id=\"6,5\" style=\"stroke-width:nan\"></path><path d=\"M 55.6 122.6 L 55.6 167.3 L 94.0 167.3\" id=\"8,6\" style=\"stroke-width:nan\"></path><path d=\"M 55.6 122.6 L 55.6 78.0 L 132.3 78.0\" id=\"8,7\" style=\"stroke-width:nan\"></path></g><g class=\"toytree-Nodes\" style=\"fill:rgba(82.7%,82.7%,82.7%,1.000);stroke:#262626;stroke-width:1.5\"><g id=\"node-0\" transform=\"translate(170.700,216.839)\"><circle r=\"9.0\"></circle></g><g id=\"node-1\" transform=\"translate(170.700,177.170)\"><circle r=\"9.0\"></circle></g><g id=\"node-2\" transform=\"translate(170.700,137.500)\"><circle r=\"9.0\"></circle></g><g id=\"node-3\" transform=\"translate(170.700,97.830)\"><circle r=\"9.0\"></circle></g><g id=\"node-4\" transform=\"translate(170.700,58.161)\"><circle r=\"9.0\"></circle></g><g id=\"node-5\" transform=\"translate(132.333,197.005)\"><circle r=\"9.0\"></circle></g><g id=\"node-6\" transform=\"translate(93.966,167.252)\"><circle r=\"9.0\"></circle></g><g id=\"node-7\" transform=\"translate(132.333,77.995)\"><circle r=\"9.0\"></circle></g><g id=\"node-8\" transform=\"translate(55.599,122.624)\"><circle r=\"9.0\"></circle></g></g><g class=\"toytree-NodeLabels\" style=\"font-family:Helvetica;font-size:9.0px;font-weight:300;stroke:none;vertical-align:baseline;white-space:pre\"><g class=\"toytree-NodeLabel\" transform=\"translate(170.70032419925474,216.83937823834196)\"><text x=\"-2.5020000000000002\" y=\"2.2995\" style=\"fill:rgb(16.1%,15.3%,14.1%);fill-opacity:1.0\">0</text></g><g class=\"toytree-NodeLabel\" transform=\"translate(170.70032419925474,177.16968911917095)\"><text x=\"-2.5020000000000002\" y=\"2.2995\" style=\"fill:rgb(16.1%,15.3%,14.1%);fill-opacity:1.0\">1</text></g><g class=\"toytree-NodeLabel\" transform=\"translate(170.70032419925474,137.5)\"><text x=\"-2.5020000000000002\" y=\"2.2995\" style=\"fill:rgb(16.1%,15.3%,14.1%);fill-opacity:1.0\">2</text></g><g class=\"toytree-NodeLabel\" transform=\"translate(170.70032419925474,97.83031088082902)\"><text x=\"-2.5020000000000002\" y=\"2.2995\" style=\"fill:rgb(16.1%,15.3%,14.1%);fill-opacity:1.0\">3</text></g><g class=\"toytree-NodeLabel\" transform=\"translate(170.70032419925474,58.16062176165802)\"><text x=\"-2.5020000000000002\" y=\"2.2995\" style=\"fill:rgb(16.1%,15.3%,14.1%);fill-opacity:1.0\">4</text></g><g class=\"toytree-NodeLabel\" transform=\"translate(132.33338265825455,197.00453367875647)\"><text x=\"-2.5020000000000002\" y=\"2.2995\" style=\"fill:rgb(16.1%,15.3%,14.1%);fill-opacity:1.0\">5</text></g><g class=\"toytree-NodeLabel\" transform=\"translate(93.9664411172543,167.25226683937822)\"><text x=\"-2.5020000000000002\" y=\"2.2995\" style=\"fill:rgb(16.1%,15.3%,14.1%);fill-opacity:1.0\">6</text></g><g class=\"toytree-NodeLabel\" transform=\"translate(132.33338265825455,77.99546632124353)\"><text x=\"-2.5020000000000002\" y=\"2.2995\" style=\"fill:rgb(16.1%,15.3%,14.1%);fill-opacity:1.0\">7</text></g><g class=\"toytree-NodeLabel\" transform=\"translate(55.59949957625408,122.62386658031089)\"><text x=\"-2.5020000000000002\" y=\"2.2995\" style=\"fill:rgb(16.1%,15.3%,14.1%);fill-opacity:1.0\">8</text></g></g><g class=\"toytree-TipLabels\" style=\"fill:rgb(16.1%,15.3%,14.1%);fill-opacity:1.0;font-family:Helvetica;font-size:11.0px;font-weight:300;stroke:none;vertical-align:baseline;white-space:pre\"><g class=\"toytree-TipLabel\" transform=\"translate(170.70032419925474,216.83937823834196)\"><text x=\"15.0\" y=\"2.8104999999999993\" style=\"\">alpha</text></g><g class=\"toytree-TipLabel\" transform=\"translate(170.70032419925474,177.16968911917095)\"><text x=\"15.0\" y=\"2.8104999999999993\" style=\"\">delta</text></g><g class=\"toytree-TipLabel\" transform=\"translate(170.70032419925474,137.5)\"><text x=\"15.0\" y=\"2.8104999999999993\" style=\"\">gamma</text></g><g class=\"toytree-TipLabel\" transform=\"translate(170.70032419925474,97.83031088082902)\"><text x=\"15.0\" y=\"2.8104999999999993\" style=\"\">beta</text></g><g class=\"toytree-TipLabel\" transform=\"translate(170.70032419925474,58.16062176165802)\"><text x=\"15.0\" y=\"2.8104999999999993\" style=\"\">epsilon</text></g></g></g></g></g></svg><div class=\"toyplot-behavior\"><script>(function()\n",
       "{\n",
       "var modules={};\n",
       "})();</script></div></div>"
      ]
     },
     "metadata": {},
     "output_type": "display_data"
    },
    {
     "data": {
      "text/html": [
       "<div class=\"toyplot\" id=\"t6ffd509351794bfc973c8a28befb2172\" style=\"text-align:center\"><svg class=\"toyplot-canvas-Canvas\" xmlns:toyplot=\"http://www.sandia.gov/toyplot\" xmlns:xlink=\"http://www.w3.org/1999/xlink\" xmlns=\"http://www.w3.org/2000/svg\" width=\"285.0px\" height=\"275.0px\" viewBox=\"0 0 285.0 275.0\" preserveAspectRatio=\"xMidYMid meet\" style=\"background-color:transparent;border-color:#292724;border-style:none;border-width:1.0;fill:rgb(16.1%,15.3%,14.1%);fill-opacity:1.0;font-family:Helvetica;font-size:12px;opacity:1.0;stroke:rgb(16.1%,15.3%,14.1%);stroke-opacity:1.0;stroke-width:1.0\" id=\"t4fd933f787e14ad4b5302560e8f51d71\"><g class=\"toyplot-coordinates-Cartesian\" id=\"tbd4fdd4df15f4b65a51ace15cf12f66a\"><clipPath id=\"t4716c1d51bb54daca25d8ee78e9766dc\"><rect x=\"35.0\" y=\"35.0\" width=\"215.0\" height=\"205.0\"></rect></clipPath><g clip-path=\"url(#t4716c1d51bb54daca25d8ee78e9766dc)\"><g class=\"toytree-mark-Toytree\" id=\"t8117c64983fc41e59d8b868651765f31\"><g class=\"toytree-Edges\" style=\"fill:none;stroke:rgba(16.1%,15.3%,14.1%,1.000);stroke-linecap:round;stroke-width:2.0\"><path d=\"M 113.9 190.4 L 113.9 216.8 L 172.2 216.8\" id=\"4,0\" style=\"stroke-width:nan\"></path><path d=\"M 113.9 190.4 L 113.9 163.9 L 172.2 163.9\" id=\"4,1\" style=\"stroke-width:nan\"></path><path d=\"M 113.9 84.6 L 113.9 111.1 L 172.2 111.1\" id=\"5,2\" style=\"stroke-width:nan\"></path><path d=\"M 113.9 84.6 L 113.9 58.2 L 172.2 58.2\" id=\"5,3\" style=\"stroke-width:nan\"></path><path d=\"M 55.7 137.5 L 55.7 190.4 L 113.9 190.4\" id=\"6,4\" style=\"stroke-width:nan\"></path><path d=\"M 55.7 137.5 L 55.7 84.6 L 113.9 84.6\" id=\"6,5\" style=\"stroke-width:nan\"></path></g><g class=\"toytree-Nodes\" style=\"fill:rgba(82.7%,82.7%,82.7%,1.000);stroke:#262626;stroke-width:1.5\"><g id=\"node-0\" transform=\"translate(172.201,216.839)\"><circle r=\"9.0\"></circle></g><g id=\"node-1\" transform=\"translate(172.201,163.946)\"><circle r=\"9.0\"></circle></g><g id=\"node-2\" transform=\"translate(172.201,111.054)\"><circle r=\"9.0\"></circle></g><g id=\"node-3\" transform=\"translate(172.201,58.161)\"><circle r=\"9.0\"></circle></g><g id=\"node-4\" transform=\"translate(113.935,190.393)\"><circle r=\"9.0\"></circle></g><g id=\"node-5\" transform=\"translate(113.935,84.607)\"><circle r=\"9.0\"></circle></g><g id=\"node-6\" transform=\"translate(55.669,137.500)\"><circle r=\"9.0\"></circle></g></g><g class=\"toytree-NodeLabels\" style=\"font-family:Helvetica;font-size:9.0px;font-weight:300;stroke:none;vertical-align:baseline;white-space:pre\"><g class=\"toytree-NodeLabel\" transform=\"translate(172.2011876225757,216.839378238342)\"><text x=\"-2.5020000000000002\" y=\"2.2995\" style=\"fill:rgb(16.1%,15.3%,14.1%);fill-opacity:1.0\">0</text></g><g class=\"toytree-NodeLabel\" transform=\"translate(172.2011876225757,163.94645941278065)\"><text x=\"-2.5020000000000002\" y=\"2.2995\" style=\"fill:rgb(16.1%,15.3%,14.1%);fill-opacity:1.0\">1</text></g><g class=\"toytree-NodeLabel\" transform=\"translate(172.2011876225757,111.05354058721932)\"><text x=\"-2.5020000000000002\" y=\"2.2995\" style=\"fill:rgb(16.1%,15.3%,14.1%);fill-opacity:1.0\">2</text></g><g class=\"toytree-NodeLabel\" transform=\"translate(172.2011876225757,58.16062176165802)\"><text x=\"-2.5020000000000002\" y=\"2.2995\" style=\"fill:rgb(16.1%,15.3%,14.1%);fill-opacity:1.0\">3</text></g><g class=\"toytree-NodeLabel\" transform=\"translate(113.93515744170843,190.3929188255613)\"><text x=\"-2.5020000000000002\" y=\"2.2995\" style=\"fill:rgb(16.1%,15.3%,14.1%);fill-opacity:1.0\">4</text></g><g class=\"toytree-NodeLabel\" transform=\"translate(113.93515744170843,84.60708117443866)\"><text x=\"-2.5020000000000002\" y=\"2.2995\" style=\"fill:rgb(16.1%,15.3%,14.1%);fill-opacity:1.0\">5</text></g><g class=\"toytree-NodeLabel\" transform=\"translate(55.66912726084114,137.49999999999997)\"><text x=\"-2.5020000000000002\" y=\"2.2995\" style=\"fill:rgb(16.1%,15.3%,14.1%);fill-opacity:1.0\">6</text></g></g><g class=\"toytree-TipLabels\" style=\"fill:rgb(16.1%,15.3%,14.1%);fill-opacity:1.0;font-family:Helvetica;font-size:11.0px;font-weight:300;stroke:none;vertical-align:baseline;white-space:pre\"><g class=\"toytree-TipLabel\" transform=\"translate(172.2011876225757,216.839378238342)\"><text x=\"15.0\" y=\"2.8104999999999993\" style=\"\">beta</text></g><g class=\"toytree-TipLabel\" transform=\"translate(172.2011876225757,163.94645941278065)\"><text x=\"15.0\" y=\"2.8104999999999993\" style=\"\">epsilon</text></g><g class=\"toytree-TipLabel\" transform=\"translate(172.2011876225757,111.05354058721932)\"><text x=\"15.0\" y=\"2.8104999999999993\" style=\"\">alpha</text></g><g class=\"toytree-TipLabel\" transform=\"translate(172.2011876225757,58.16062176165802)\"><text x=\"15.0\" y=\"2.8104999999999993\" style=\"\">delta</text></g></g></g></g></g></svg><div class=\"toyplot-behavior\"><script>(function()\n",
       "{\n",
       "var modules={};\n",
       "})();</script></div></div>"
      ]
     },
     "metadata": {},
     "output_type": "display_data"
    }
   ],
   "source": [
    "tree.draw('s')#layout='unroot');\n",
    "tree.mod.drop_tips(\"gamma\").draw('s')#layout='unroot');"
   ]
  },
  {
   "cell_type": "code",
   "execution_count": 62,
   "id": "3b71ba29",
   "metadata": {},
   "outputs": [
    {
     "data": {
      "text/html": [
       "<div>\n",
       "<style scoped>\n",
       "    .dataframe tbody tr th:only-of-type {\n",
       "        vertical-align: middle;\n",
       "    }\n",
       "\n",
       "    .dataframe tbody tr th {\n",
       "        vertical-align: top;\n",
       "    }\n",
       "\n",
       "    .dataframe thead th {\n",
       "        text-align: right;\n",
       "    }\n",
       "</style>\n",
       "<table border=\"1\" class=\"dataframe\">\n",
       "  <thead>\n",
       "    <tr style=\"text-align: right;\">\n",
       "      <th></th>\n",
       "      <th>child</th>\n",
       "      <th>parent</th>\n",
       "    </tr>\n",
       "  </thead>\n",
       "  <tbody>\n",
       "    <tr>\n",
       "      <th>0</th>\n",
       "      <td>0</td>\n",
       "      <td>5</td>\n",
       "    </tr>\n",
       "    <tr>\n",
       "      <th>1</th>\n",
       "      <td>1</td>\n",
       "      <td>5</td>\n",
       "    </tr>\n",
       "    <tr>\n",
       "      <th>2</th>\n",
       "      <td>2</td>\n",
       "      <td>6</td>\n",
       "    </tr>\n",
       "    <tr>\n",
       "      <th>3</th>\n",
       "      <td>3</td>\n",
       "      <td>7</td>\n",
       "    </tr>\n",
       "    <tr>\n",
       "      <th>4</th>\n",
       "      <td>4</td>\n",
       "      <td>7</td>\n",
       "    </tr>\n",
       "    <tr>\n",
       "      <th>5</th>\n",
       "      <td>5</td>\n",
       "      <td>6</td>\n",
       "    </tr>\n",
       "    <tr>\n",
       "      <th>6</th>\n",
       "      <td>6</td>\n",
       "      <td>8</td>\n",
       "    </tr>\n",
       "    <tr>\n",
       "      <th>7</th>\n",
       "      <td>7</td>\n",
       "      <td>8</td>\n",
       "    </tr>\n",
       "  </tbody>\n",
       "</table>\n",
       "</div>"
      ],
      "text/plain": [
       "   child  parent\n",
       "0      0       5\n",
       "1      1       5\n",
       "2      2       6\n",
       "3      3       7\n",
       "4      4       7\n",
       "5      5       6\n",
       "6      6       8\n",
       "7      7       8"
      ]
     },
     "execution_count": 62,
     "metadata": {},
     "output_type": "execute_result"
    }
   ],
   "source": [
    "tree.get_edges()"
   ]
  },
  {
   "cell_type": "code",
   "execution_count": null,
   "id": "5256ee61",
   "metadata": {},
   "outputs": [],
   "source": []
  },
  {
   "cell_type": "code",
   "execution_count": 25,
   "id": "288ca71f",
   "metadata": {},
   "outputs": [
    {
     "data": {
      "text/html": [
       "<div class=\"toyplot\" id=\"t060c7ff437564c989351ea9397aaf087\" style=\"text-align:center\"><svg class=\"toyplot-canvas-Canvas\" xmlns:toyplot=\"http://www.sandia.gov/toyplot\" xmlns:xlink=\"http://www.w3.org/1999/xlink\" xmlns=\"http://www.w3.org/2000/svg\" width=\"350.0px\" height=\"285.0px\" viewBox=\"0 0 350.0 285.0\" preserveAspectRatio=\"xMidYMid meet\" style=\"background-color:transparent;border-color:#292724;border-style:none;border-width:1.0;fill:rgb(16.1%,15.3%,14.1%);fill-opacity:1.0;font-family:Helvetica;font-size:12px;opacity:1.0;stroke:rgb(16.1%,15.3%,14.1%);stroke-opacity:1.0;stroke-width:1.0\" id=\"t7904d69aa26f457c97a6ae731e143a4a\"><g class=\"toyplot-coordinates-Cartesian\" id=\"tf0877e838a50493f890fe35fab17eee0\"><clipPath id=\"t3b49da14ab894d3ea6e23b26c92fc0c8\"><rect x=\"35.0\" y=\"35.0\" width=\"280.0\" height=\"215.0\"></rect></clipPath><g clip-path=\"url(#t3b49da14ab894d3ea6e23b26c92fc0c8)\"><g class=\"toytree-mark-Toytree\" id=\"te7b7e57a52a04aefb97ac5c42fccb13b\"><g class=\"toytree-Edges\" style=\"fill:none;stroke:rgba(16.1%,15.3%,14.1%,1.000);stroke-linecap:round;stroke-width:2.0\"><path d=\"M 242.5 103.9 L 287.8 132.2\" id=\"5,0\" style=\"stroke-width:nan\"></path><path d=\"M 242.5 103.9 L 274.0 64.5\" id=\"5,1\" style=\"stroke-width:nan\"></path><path d=\"M 186.1 101.8 L 157.4 61.0\" id=\"6,2\" style=\"stroke-width:nan\"></path><path d=\"M 117.6 176.9 L 61.3 172.9\" id=\"7,3\" style=\"stroke-width:nan\"></path><path d=\"M 117.6 176.9 L 123.8 224.0\" id=\"7,4\" style=\"stroke-width:nan\"></path><path d=\"M 186.1 101.8 L 242.5 103.9\" id=\"6,5\" style=\"stroke-width:nan\"></path><path d=\"M 155.2 141.5 L 186.1 101.8\" id=\"8,6\" style=\"stroke-width:nan\"></path><path d=\"M 155.2 141.5 L 117.6 176.9\" id=\"8,7\" style=\"stroke-width:nan\"></path></g><g class=\"toytree-Nodes\" style=\"fill:rgba(82.7%,82.7%,82.7%,1.000);stroke:#262626;stroke-width:1.5\"><g id=\"node-0\" transform=\"translate(287.812,132.224)\"><rect x=\"-12.5\" y=\"-12.5\" width=\"25.0\" height=\"25.0\"></rect></g><g id=\"node-1\" transform=\"translate(274.043,64.549)\"><rect x=\"-12.5\" y=\"-12.5\" width=\"25.0\" height=\"25.0\"></rect></g><g id=\"node-2\" transform=\"translate(157.420,61.012)\"><rect x=\"-12.5\" y=\"-12.5\" width=\"25.0\" height=\"25.0\"></rect></g><g id=\"node-3\" transform=\"translate(61.324,172.853)\"><rect x=\"-12.5\" y=\"-12.5\" width=\"25.0\" height=\"25.0\"></rect></g><g id=\"node-4\" transform=\"translate(123.782,223.988)\"><rect x=\"-12.5\" y=\"-12.5\" width=\"25.0\" height=\"25.0\"></rect></g><g id=\"node-5\" transform=\"translate(242.538,103.874)\"><rect x=\"-12.5\" y=\"-12.5\" width=\"25.0\" height=\"25.0\"></rect></g><g id=\"node-6\" transform=\"translate(186.075,101.840)\"><rect x=\"-12.5\" y=\"-12.5\" width=\"25.0\" height=\"25.0\"></rect></g><g id=\"node-7\" transform=\"translate(117.633,176.901)\"><rect x=\"-12.5\" y=\"-12.5\" width=\"25.0\" height=\"25.0\"></rect></g><g id=\"node-8\" transform=\"translate(155.204,141.517)\"><rect x=\"-12.5\" y=\"-12.5\" width=\"25.0\" height=\"25.0\"></rect></g></g><g class=\"toytree-NodeLabels\" style=\"font-family:Helvetica;font-size:9.0px;font-weight:300;stroke:none;vertical-align:baseline;white-space:pre\"><g class=\"toytree-NodeLabel\" transform=\"translate(287.8122361416618,132.22448337444246)\"><text x=\"-5.508\" y=\"2.2995\" style=\"fill:rgb(16.1%,15.3%,14.1%);fill-opacity:1.0\">{1}</text></g><g class=\"toytree-NodeLabel\" transform=\"translate(274.04284781888816,64.54894905746539)\"><text x=\"-5.508\" y=\"2.2995\" style=\"fill:rgb(16.1%,15.3%,14.1%);fill-opacity:1.0\">{1}</text></g><g class=\"toytree-NodeLabel\" transform=\"translate(157.41960326668726,61.011904761904766)\"><text x=\"-5.508\" y=\"2.2995\" style=\"fill:rgb(16.1%,15.3%,14.1%);fill-opacity:1.0\">{1}</text></g><g class=\"toytree-NodeLabel\" transform=\"translate(61.324392197222,172.85264920315888)\"><text x=\"-5.508\" y=\"2.2995\" style=\"fill:rgb(16.1%,15.3%,14.1%);fill-opacity:1.0\">{0}</text></g><g class=\"toytree-NodeLabel\" transform=\"translate(123.78198892175816,223.98809523809527)\"><text x=\"-5.508\" y=\"2.2995\" style=\"fill:rgb(16.1%,15.3%,14.1%);fill-opacity:1.0\">{0}</text></g><g class=\"toytree-NodeLabel\" transform=\"translate(242.5375382092487,103.87377971067643)\"><text x=\"-5.508\" y=\"2.2995\" style=\"fill:rgb(16.1%,15.3%,14.1%);fill-opacity:1.0\">{1}</text></g><g class=\"toytree-NodeLabel\" transform=\"translate(186.07450885912894,101.83965983671615)\"><text x=\"-5.508\" y=\"2.2995\" style=\"fill:rgb(16.1%,15.3%,14.1%);fill-opacity:1.0\">{1}</text></g><g class=\"toytree-NodeLabel\" transform=\"translate(117.63273080564963,176.9013929190685)\"><text x=\"-5.508\" y=\"2.2995\" style=\"fill:rgb(16.1%,15.3%,14.1%);fill-opacity:1.0\">{0}</text></g><g class=\"toytree-NodeLabel\" transform=\"translate(155.20428180614442,141.51673625532078)\"><text x=\"-10.511999999999999\" y=\"2.2995\" style=\"fill:rgb(16.1%,15.3%,14.1%);fill-opacity:1.0\">{0, 1}</text></g></g><g class=\"toytree-TipLabels\" style=\"fill:rgb(16.1%,15.3%,14.1%);fill-opacity:1.0;font-family:Helvetica;font-size:11.0px;font-weight:300;stroke:none;vertical-align:baseline;white-space:pre\"><g class=\"toytree-TipLabel\" transform=\"translate(287.8122361416618,132.22448337444246)\"><text x=\"-13.453000000000001\" y=\"2.8104999999999993\" style=\"\">alpha</text></g><g class=\"toytree-TipLabel\" transform=\"translate(274.04284781888816,64.54894905746539)\"><text x=\"-11.924000000000001\" y=\"2.8104999999999993\" style=\"\">delta</text></g><g class=\"toytree-TipLabel\" transform=\"translate(157.41960326668726,61.011904761904766)\"><text x=\"-18.337\" y=\"2.8104999999999993\" style=\"\">gamma</text></g><g class=\"toytree-TipLabel\" transform=\"translate(61.324392197222,172.85264920315888)\"><text x=\"-10.703000000000001\" y=\"2.8104999999999993\" style=\"\">beta</text></g><g class=\"toytree-TipLabel\" transform=\"translate(123.78198892175816,223.98809523809527)\"><text x=\"-17.424000000000003\" y=\"2.8104999999999993\" style=\"\">epsilon</text></g></g></g></g></g></svg><div class=\"toyplot-behavior\"><script>(function()\n",
       "{\n",
       "var modules={};\n",
       "})();</script></div></div>"
      ]
     },
     "metadata": {},
     "output_type": "display_data"
    }
   ],
   "source": [
    "tree.draw(ts='s', layout='unroot', node_sizes=25, node_markers='s', node_labels=\"fitch\", node_mask=False);"
   ]
  },
  {
   "cell_type": "markdown",
   "id": "d88f438d",
   "metadata": {},
   "source": [
    "### Vertebrate tree"
   ]
  },
  {
   "cell_type": "code",
   "execution_count": 79,
   "id": "4a313a73",
   "metadata": {},
   "outputs": [
    {
     "data": {
      "text/html": [
       "<div class=\"toyplot\" id=\"tff32675c97bd4074b8bdadf8e0e774e7\" style=\"text-align:center\"><svg class=\"toyplot-canvas-Canvas\" xmlns:toyplot=\"http://www.sandia.gov/toyplot\" xmlns:xlink=\"http://www.w3.org/1999/xlink\" xmlns=\"http://www.w3.org/2000/svg\" width=\"300.0px\" height=\"275.0px\" viewBox=\"0 0 300.0 275.0\" preserveAspectRatio=\"xMidYMid meet\" style=\"background-color:transparent;border-color:#292724;border-style:none;border-width:1.0;fill:rgb(16.1%,15.3%,14.1%);fill-opacity:1.0;font-family:Helvetica;font-size:12px;opacity:1.0;stroke:rgb(16.1%,15.3%,14.1%);stroke-opacity:1.0;stroke-width:1.0\" id=\"td3e49ed1497847bfa465d52bc59872a1\"><g class=\"toyplot-coordinates-Cartesian\" id=\"t68a1e2f3acc74b11a0f2fd3ac5c08cea\"><clipPath id=\"t95b74b96306a4bb797a8008245489dfd\"><rect x=\"35.0\" y=\"35.0\" width=\"230.0\" height=\"205.0\"></rect></clipPath><g clip-path=\"url(#t95b74b96306a4bb797a8008245489dfd)\"><g class=\"toytree-mark-Toytree\" id=\"tbd3c0aa49f66457595ceaf7d6208a16c\"><g class=\"toytree-Edges\" style=\"fill:none;stroke:rgba(16.1%,15.3%,14.1%,1.000);stroke-linecap:round;stroke-width:2.0\"><path d=\"M 126.5 207.2 L 126.5 218.9 L 164.7 218.9\" id=\"8,0\" style=\"stroke-width:nan\"></path><path d=\"M 126.5 207.2 L 126.5 195.6 L 164.7 195.6\" id=\"8,1\" style=\"stroke-width:nan\"></path><path d=\"M 145.6 160.7 L 145.6 172.4 L 164.7 172.4\" id=\"9,2\" style=\"stroke-width:nan\"></path><path d=\"M 145.6 160.7 L 145.6 149.1 L 164.7 149.1\" id=\"9,3\" style=\"stroke-width:nan\"></path><path d=\"M 126.5 143.3 L 126.5 125.9 L 164.7 125.9\" id=\"10,4\" style=\"stroke-width:nan\"></path><path d=\"M 88.2 139.0 L 88.2 102.6 L 164.7 102.6\" id=\"12,5\" style=\"stroke-width:nan\"></path><path d=\"M 69.1 109.2 L 69.1 79.4 L 164.7 79.4\" id=\"13,6\" style=\"stroke-width:nan\"></path><path d=\"M 50.0 82.7 L 50.0 56.1 L 164.7 56.1\" id=\"14,7\" style=\"stroke-width:nan\"></path><path d=\"M 107.4 175.3 L 107.4 207.2 L 126.5 207.2\" id=\"11,8\" style=\"stroke-width:nan\"></path><path d=\"M 126.5 143.3 L 126.5 160.7 L 145.6 160.7\" id=\"10,9\" style=\"stroke-width:nan\"></path><path d=\"M 107.4 175.3 L 107.4 143.3 L 126.5 143.3\" id=\"11,10\" style=\"stroke-width:nan\"></path><path d=\"M 88.2 139.0 L 88.2 175.3 L 107.4 175.3\" id=\"12,11\" style=\"stroke-width:nan\"></path><path d=\"M 69.1 109.2 L 69.1 139.0 L 88.2 139.0\" id=\"13,12\" style=\"stroke-width:nan\"></path><path d=\"M 50.0 82.7 L 50.0 109.2 L 69.1 109.2\" id=\"14,13\" style=\"stroke-width:nan\"></path></g><g class=\"toytree-TipLabels\" style=\"fill:rgb(16.1%,15.3%,14.1%);fill-opacity:1.0;font-family:Helvetica;font-size:11.0px;font-weight:300;stroke:none;vertical-align:baseline;white-space:pre\"><g class=\"toytree-TipLabel\" transform=\"translate(164.74403474449372,218.86291179596174)\"><text x=\"15.0\" y=\"2.8104999999999993\" style=\"\">mouse</text></g><g class=\"toytree-TipLabel\" transform=\"translate(164.74403474449372,195.6163655685441)\"><text x=\"15.0\" y=\"2.8104999999999993\" style=\"\">chimpanzee</text></g><g class=\"toytree-TipLabel\" transform=\"translate(164.74403474449372,172.36981934112646)\"><text x=\"15.0\" y=\"2.8104999999999993\" style=\"\">pigeon</text></g><g class=\"toytree-TipLabel\" transform=\"translate(164.74403474449372,149.12327311370882)\"><text x=\"15.0\" y=\"2.8104999999999993\" style=\"\">crocodile</text></g><g class=\"toytree-TipLabel\" transform=\"translate(164.74403474449372,125.87672688629118)\"><text x=\"15.0\" y=\"2.8104999999999993\" style=\"\">lizard</text></g><g class=\"toytree-TipLabel\" transform=\"translate(164.74403474449372,102.63018065887353)\"><text x=\"15.0\" y=\"2.8104999999999993\" style=\"\">salamander</text></g><g class=\"toytree-TipLabel\" transform=\"translate(164.74403474449372,79.3836344314559)\"><text x=\"15.0\" y=\"2.8104999999999993\" style=\"\">trout</text></g><g class=\"toytree-TipLabel\" transform=\"translate(164.74403474449372,56.137088204038236)\"><text x=\"15.0\" y=\"2.8104999999999993\" style=\"\">lamprey</text></g></g></g></g></g></svg><div class=\"toyplot-behavior\"><script>(function()\n",
       "{\n",
       "var modules={};\n",
       "})();</script></div></div>"
      ]
     },
     "metadata": {},
     "output_type": "display_data"
    }
   ],
   "source": [
    "newick = (\"(((((mouse, chimpanzee),((pigeon, crocodile),lizard)),salamander),trout), lamprey);\")\n",
    "tree = toytree.tree(newick).mod.edges_extend_tips_to_align()\n",
    "tree.draw();"
   ]
  },
  {
   "cell_type": "code",
   "execution_count": null,
   "id": "ad3b49e6",
   "metadata": {},
   "outputs": [],
   "source": [
    "tree.set_node_data()"
   ]
  },
  {
   "cell_type": "markdown",
   "id": "0e66f03a",
   "metadata": {},
   "source": [
    "### Start with an unrooted tree hypothesis"
   ]
  },
  {
   "cell_type": "code",
   "execution_count": 147,
   "id": "d1a530fe",
   "metadata": {},
   "outputs": [
    {
     "name": "stdout",
     "output_type": "stream",
     "text": [
      "|         |   t0 |   t1 |   t2 |   t3 |   t4 |   t5 |\n",
      "|:--------|-----:|-----:|-----:|-----:|-----:|-----:|\n",
      "| alpha   |    1 |    0 |    0 |    1 |    1 |    0 |\n",
      "| beta    |    0 |    0 |    1 |    0 |    0 |    0 |\n",
      "| gamma   |    1 |    1 |    0 |    0 |    0 |    0 |\n",
      "| delta   |    1 |    1 |    0 |    1 |    1 |    1 |\n",
      "| epsilon |    0 |    0 |    1 |    1 |    1 |    0 |\n"
     ]
    }
   ],
   "source": [
    "import pandas as pd\n",
    "import numpy as np\n",
    "\n",
    "data = pd.DataFrame(\n",
    "\tcolumns=[\"t\" + str(i) for i in range(6)],\n",
    "\tindex=[\"alpha\", \"beta\", \"gamma\", \"delta\", \"epsilon\"],\n",
    "\tdata=[\n",
    "\t\t[1, 0, 0, 1, 1 ,0],\n",
    "\t\t[0, 0, 1, 0, 0, 0],\n",
    "\t\t[1, 1, 0, 0, 0, 0],\n",
    "\t\t[1, 1, 0, 1, 1, 1],\n",
    "\t\t[0, 0, 1, 1, 1, 0],\n",
    "\t],\n",
    ")\n",
    "print(data.to_markdown())"
   ]
  },
  {
   "cell_type": "code",
   "execution_count": 135,
   "id": "7b030893",
   "metadata": {},
   "outputs": [],
   "source": [
    "tree = toytree.rtree.unittree(6, seed=123)"
   ]
  },
  {
   "cell_type": "code",
   "execution_count": 136,
   "id": "05e77494",
   "metadata": {},
   "outputs": [
    {
     "data": {
      "text/html": [
       "<div class=\"toyplot\" id=\"t2c179f75ab9f4af284f610badd318f0a\" style=\"text-align:center\"><svg class=\"toyplot-canvas-Canvas\" xmlns:toyplot=\"http://www.sandia.gov/toyplot\" xmlns:xlink=\"http://www.w3.org/1999/xlink\" xmlns=\"http://www.w3.org/2000/svg\" width=\"350.0px\" height=\"260.0px\" viewBox=\"0 0 350.0 260.0\" preserveAspectRatio=\"xMidYMid meet\" style=\"background-color:transparent;border-color:#292724;border-style:none;border-width:1.0;fill:rgb(16.1%,15.3%,14.1%);fill-opacity:1.0;font-family:Helvetica;font-size:12px;opacity:1.0;stroke:rgb(16.1%,15.3%,14.1%);stroke-opacity:1.0;stroke-width:1.0\" id=\"t28f8c805544445ce9b3b2766747b7a93\"><g class=\"toyplot-coordinates-Cartesian\" id=\"ta91ea37bd1e6475c915a14009c5a6866\"><clipPath id=\"t3a7057007bdb4d30b9dad628fe261000\"><rect x=\"35.0\" y=\"35.0\" width=\"280.0\" height=\"190.0\"></rect></clipPath><g clip-path=\"url(#t3a7057007bdb4d30b9dad628fe261000)\"><g class=\"toytree-mark-Toytree\" id=\"tba34e7abb07b4bfebccff10b2f685952\"><g class=\"toytree-Edges\" style=\"fill:none;stroke:rgba(16.1%,15.3%,14.1%,1.000);stroke-linecap:round;stroke-width:2.0\"><path d=\"M 245.7 100.7 L 295.3 111.5\" id=\"6,0\" style=\"stroke-width:nan\"></path><path d=\"M 245.7 100.7 L 276.3 78.0\" id=\"6,1\" style=\"stroke-width:nan\"></path><path d=\"M 155.1 83.4 L 161.1 56.1\" id=\"7,2\" style=\"stroke-width:nan\"></path><path d=\"M 155.1 83.4 L 103.7 75.1\" id=\"7,3\" style=\"stroke-width:nan\"></path><path d=\"M 154.5 154.9 L 54.7 175.8\" id=\"9,4\" style=\"stroke-width:nan\"></path><path d=\"M 154.5 154.9 L 203.0 203.9\" id=\"9,5\" style=\"stroke-width:nan\"></path><path d=\"M 192.1 103.4 L 245.7 100.7\" id=\"8,6\" style=\"stroke-width:nan\"></path><path d=\"M 192.1 103.4 L 155.1 83.4\" id=\"8,7\" style=\"stroke-width:nan\"></path><path d=\"M 173.3 129.1 L 192.1 103.4\" id=\"10,8\" style=\"stroke-width:nan\"></path><path d=\"M 173.3 129.1 L 154.5 154.9\" id=\"10,9\" style=\"stroke-width:nan\"></path></g><g class=\"toytree-TipLabels\" style=\"fill:rgb(16.1%,15.3%,14.1%);fill-opacity:1.0;font-family:Helvetica;font-size:11.0px;font-weight:300;stroke:none;vertical-align:baseline;white-space:pre\"><g class=\"toytree-TipLabel\" transform=\"translate(295.29455806666437,111.47967340881462)\"><text x=\"-4.8895\" y=\"2.8104999999999993\" style=\"\">r0</text></g><g class=\"toytree-TipLabel\" transform=\"translate(276.32373603168475,78.03375807461461)\"><text x=\"-4.8895\" y=\"2.8104999999999993\" style=\"\">r1</text></g><g class=\"toytree-TipLabel\" transform=\"translate(161.0845426797891,56.0969976905312)\"><text x=\"-4.8895\" y=\"2.8104999999999993\" style=\"\">r2</text></g><g class=\"toytree-TipLabel\" transform=\"translate(103.73165514512755,75.05996536533937)\"><text x=\"-4.8895\" y=\"2.8104999999999993\" style=\"\">r3</text></g><g class=\"toytree-TipLabel\" transform=\"translate(54.70544193333565,175.76244817207234)\"><text x=\"-4.8895\" y=\"2.8104999999999993\" style=\"\">r4</text></g><g class=\"toytree-TipLabel\" transform=\"translate(203.01203030165058,203.9030023094688)\"><text x=\"-4.8895\" y=\"2.8104999999999993\" style=\"\">r5</text></g></g></g></g></g></svg><div class=\"toyplot-behavior\"><script>(function()\n",
       "{\n",
       "var modules={};\n",
       "})();</script></div></div>"
      ]
     },
     "metadata": {},
     "output_type": "display_data"
    }
   ],
   "source": [
    "tree.draw(layout='unroot');"
   ]
  },
  {
   "cell_type": "markdown",
   "id": "5ef90a12",
   "metadata": {},
   "source": [
    "### Randomly root on any edge in the tree"
   ]
  },
  {
   "cell_type": "code",
   "execution_count": 137,
   "id": "cc09ea80",
   "metadata": {},
   "outputs": [],
   "source": [
    "tree = toytree.rtree.rtree(12, seed=123)"
   ]
  },
  {
   "cell_type": "code",
   "execution_count": 138,
   "id": "487ec3c0",
   "metadata": {},
   "outputs": [
    {
     "data": {
      "text/plain": [
       "0.0"
      ]
     },
     "execution_count": 138,
     "metadata": {},
     "output_type": "execute_result"
    }
   ],
   "source": [
    "tree.distance.get_treedist_rf(tree, normalize=True)"
   ]
  },
  {
   "cell_type": "code",
   "execution_count": 139,
   "id": "0d92f208",
   "metadata": {},
   "outputs": [
    {
     "data": {
      "text/html": [
       "<div>\n",
       "<style scoped>\n",
       "    .dataframe tbody tr th:only-of-type {\n",
       "        vertical-align: middle;\n",
       "    }\n",
       "\n",
       "    .dataframe tbody tr th {\n",
       "        vertical-align: top;\n",
       "    }\n",
       "\n",
       "    .dataframe thead th {\n",
       "        text-align: right;\n",
       "    }\n",
       "</style>\n",
       "<table border=\"1\" class=\"dataframe\">\n",
       "  <thead>\n",
       "    <tr style=\"text-align: right;\">\n",
       "      <th></th>\n",
       "      <th>0</th>\n",
       "      <th>1</th>\n",
       "    </tr>\n",
       "  </thead>\n",
       "  <tbody>\n",
       "    <tr>\n",
       "      <th>0</th>\n",
       "      <td>(r1, r2)</td>\n",
       "      <td>(r0, r10, r11, r3, r4, r5, r6, r7, r8, r9)</td>\n",
       "    </tr>\n",
       "    <tr>\n",
       "      <th>1</th>\n",
       "      <td>(r3, r4)</td>\n",
       "      <td>(r0, r1, r10, r11, r2, r5, r6, r7, r8, r9)</td>\n",
       "    </tr>\n",
       "    <tr>\n",
       "      <th>2</th>\n",
       "      <td>(r1, r2, r3, r4)</td>\n",
       "      <td>(r0, r10, r11, r5, r6, r7, r8, r9)</td>\n",
       "    </tr>\n",
       "    <tr>\n",
       "      <th>3</th>\n",
       "      <td>(r5, r6)</td>\n",
       "      <td>(r0, r1, r10, r11, r2, r3, r4, r7, r8, r9)</td>\n",
       "    </tr>\n",
       "    <tr>\n",
       "      <th>4</th>\n",
       "      <td>(r0, r10, r11, r7, r8, r9)</td>\n",
       "      <td>(r1, r2, r3, r4, r5, r6)</td>\n",
       "    </tr>\n",
       "    <tr>\n",
       "      <th>5</th>\n",
       "      <td>(r10, r11, r7, r8, r9)</td>\n",
       "      <td>(r0, r1, r2, r3, r4, r5, r6)</td>\n",
       "    </tr>\n",
       "    <tr>\n",
       "      <th>6</th>\n",
       "      <td>(r7, r8)</td>\n",
       "      <td>(r0, r1, r10, r11, r2, r3, r4, r5, r6, r9)</td>\n",
       "    </tr>\n",
       "    <tr>\n",
       "      <th>7</th>\n",
       "      <td>(r10, r11)</td>\n",
       "      <td>(r0, r1, r2, r3, r4, r5, r6, r7, r8, r9)</td>\n",
       "    </tr>\n",
       "    <tr>\n",
       "      <th>8</th>\n",
       "      <td>(r10, r11, r9)</td>\n",
       "      <td>(r0, r1, r2, r3, r4, r5, r6, r7, r8)</td>\n",
       "    </tr>\n",
       "  </tbody>\n",
       "</table>\n",
       "</div>"
      ],
      "text/plain": [
       "                            0                                           1\n",
       "0                    (r1, r2)  (r0, r10, r11, r3, r4, r5, r6, r7, r8, r9)\n",
       "1                    (r3, r4)  (r0, r1, r10, r11, r2, r5, r6, r7, r8, r9)\n",
       "2            (r1, r2, r3, r4)          (r0, r10, r11, r5, r6, r7, r8, r9)\n",
       "3                    (r5, r6)  (r0, r1, r10, r11, r2, r3, r4, r7, r8, r9)\n",
       "4  (r0, r10, r11, r7, r8, r9)                    (r1, r2, r3, r4, r5, r6)\n",
       "5      (r10, r11, r7, r8, r9)                (r0, r1, r2, r3, r4, r5, r6)\n",
       "6                    (r7, r8)  (r0, r1, r10, r11, r2, r3, r4, r5, r6, r9)\n",
       "7                  (r10, r11)    (r0, r1, r2, r3, r4, r5, r6, r7, r8, r9)\n",
       "8              (r10, r11, r9)        (r0, r1, r2, r3, r4, r5, r6, r7, r8)"
      ]
     },
     "execution_count": 139,
     "metadata": {},
     "output_type": "execute_result"
    }
   ],
   "source": [
    "import pandas as pd\n",
    "\n",
    "pd.DataFrame(tree._iter_bipartitions())"
   ]
  },
  {
   "cell_type": "code",
   "execution_count": 24,
   "id": "debfcfb8",
   "metadata": {},
   "outputs": [],
   "source": [
    "from typing import Optional\n",
    "import random\n",
    "\n",
    "def get_random_tree(ntips: int, seed: Optional[int] = None) -> \"Node\":\n",
    "    \"\"\"Return a ladder-like tree of Node objects with 'ntips' tip Nodes.\n",
    "\n",
    "    Parameters\n",
    "    ----------\n",
    "    ntips: int\n",
    "        The number of tip Nodes that must exist before the tree is returned.\n",
    "\n",
    "    Returns\n",
    "    -------\n",
    "    Node\n",
    "        The root Node of the set of connected Nodes is returned.\n",
    "    \"\"\"\n",
    "    # set random seed\n",
    "    random.seed(seed)\n",
    "\n",
    "    # create root Node with name=root\n",
    "    root = Node(name=\"root\", dist=0)\n",
    "\n",
    "    # store Nodes in a list that are currently tips\n",
    "    tips = [root]\n",
    "\n",
    "    # add tip Nodes by splitting 'node' into a bifurcation until ntips exist.\n",
    "    for idx in range(1, ntips):\n",
    "\n",
    "        # randomly sample one of the current tip Nodes\n",
    "        node = random.choice(tips)\n",
    "        tips.remove(node)\n",
    "\n",
    "        # create two new tips from 'node' and add to tips list  \n",
    "        child_l = node.add_child(name=f\"left{idx}\", dist=1)\n",
    "        child_r = node.add_child(name=f\"right{idx}\", dist=1)\n",
    "        tips.extend([child_l, child_r])\n",
    "\n",
    "    # return root Node that now has ntips descended tip Nodes\n",
    "    return root\n"
   ]
  },
  {
   "cell_type": "markdown",
   "id": "7192fa1f",
   "metadata": {},
   "source": [
    "## CLAASSS"
   ]
  },
  {
   "cell_type": "code",
   "execution_count": 39,
   "id": "fdf42dcc",
   "metadata": {},
   "outputs": [],
   "source": [
    "from typing import Tuple, Iterator\n",
    "import pandas as pd\n",
    "\n",
    "\n",
    "class Node:\n",
    "    \"\"\"A simple Node class with private attributes to store Node coordinates.\"\"\"\n",
    "    def __init__(self, name: str=\"\", dist: float=1.):\n",
    "        self.name = name\n",
    "        self.dist = dist\n",
    "\n",
    "        # attributes to be updated.\n",
    "        self.up: Optional['Node'] = None\n",
    "        self.children: Tuple['Node'] = ()\n",
    "        self.idx: int = 0\n",
    "        self.height: float = 0.\n",
    "        self.x: float = 0.\n",
    "\n",
    "    def add_child(self, name: str=\"\", dist: float=0.) -> \"Node\":\n",
    "        \"\"\"Add a Node as a child to this one.\"\"\"\n",
    "        new_node = Node(name=name, dist=dist)\n",
    "        new_node.up = self\n",
    "        self.children += (new_node,)\n",
    "        return new_node            \n",
    "\n",
    "    def is_leaf(self) -> bool:\n",
    "        \"\"\"return True if Node has no children (is a leaf).\"\"\"\n",
    "        return not self.children\n",
    "\n",
    "class Tree:\n",
    "    \"\"\"A simple Tree class that caches traversal order of connected Nodes\"\"\"\n",
    "    def __init__(self, treenode: 'Node'):\n",
    "        self.treenode = treenode\n",
    "\n",
    "        # attributes to be filled.\n",
    "        self.ntips: int = 0\n",
    "        self.nnodes: int = 0\n",
    "        self._idx_dict: Dict[int, 'Node'] = {}\n",
    "\n",
    "        # cache Node idxorder info\n",
    "        self._update()\n",
    "        \n",
    "    def __iter__(self) -> Iterator[Node]:\n",
    "        \"\"\"ToyTree is iterable, returning Nodes in idx order.\"\"\"\n",
    "        return (self[i] for i in range(self.nnodes))\n",
    "\n",
    "    def __getitem__(self, idx: int) -> Node:\n",
    "        \"\"\"ToyTree is indexable by idx label to access Nodes.\"\"\"\n",
    "        return self._idx_dict[idx]\n",
    "\n",
    "    def __repr__(self) -> str:\n",
    "        \"\"\"Short object representation for toytree.core.tree.ToyTree\"\"\"\n",
    "        return f\"<toytree.ToyTree at {hex(id(self))}>\"            \n",
    "\n",
    "    def _update(self) -> None:\n",
    "        \"\"\"Set and cache Node idxorder and coordinates.\n",
    "\n",
    "        idxorder traversal is used to fill the ToyTree._idx_dict to \n",
    "        make Nodes easily indexable. While doing this it also calculates\n",
    "        Node heights and spacing (x) and counts nnodes and ntips.\n",
    "        \"\"\"\n",
    "        # clear depth counters used to get heights during traversal\n",
    "        depths = {self.treenode: 0}\n",
    "\n",
    "        # queue starts with root children, and stack starts with root.\n",
    "        queue = list(self.treenode.children)\n",
    "        inner_stack = [self.treenode]\n",
    "        outer_stack = []\n",
    "\n",
    "        # traverse left then right subtrees to fill and pull from queue\n",
    "        while queue:\n",
    "            # get node from start of queue to proceed levelorder\n",
    "            node = queue.pop()\n",
    "\n",
    "            # set depth of this node from the root\n",
    "            depths[node] = depths[node.up] + node.dist\n",
    "\n",
    "            # if leaf add to output stack and update farthest depth\n",
    "            if node.is_leaf():\n",
    "                outer_stack.append(node)\n",
    "            else:\n",
    "                inner_stack.append(node)\n",
    "\n",
    "            # add node's children to the queue (left child on end)\n",
    "            queue.extend(node.children)\n",
    "\n",
    "        # get max_depth from root, height is measured relative to this.\n",
    "        max_depth = max(depths.values())\n",
    "\n",
    "        # clear idx cache and counter to be filled next\n",
    "        idx = 0\n",
    "        self._idx_dict.clear()\n",
    "\n",
    "        # return nodes in reverse order they were added to stack\n",
    "        while outer_stack:\n",
    "            node = outer_stack.pop()\n",
    "            node.height = max_depth - depths[node]\n",
    "            node.x = idx\n",
    "            node.idx = idx\n",
    "            self._idx_dict[idx] = node\n",
    "            idx += 1\n",
    "        self.ntips = idx\n",
    "\n",
    "        # return internal nodes..\n",
    "        while inner_stack:\n",
    "            node = inner_stack.pop()\n",
    "            node.height = max_depth - depths[node]            \n",
    "            node.x = sum(i.x for i in node.children) / 2            \n",
    "            node.idx = idx\n",
    "            self._idx_dict[idx] = node            \n",
    "            idx += 1\n",
    "        self.nnodes = idx\n",
    "\n",
    "\n",
    "    def get_node_coordinates(self) -> pd.DataFrame:\n",
    "        \"\"\"Return a DataFrame with Node coordinates for down-facing tree.\"\"\"\n",
    "        iter_coords = ((i.x, i.height) for i in tree)\n",
    "        return pd.DataFrame(data=iter_coords, columns=('x', 'y'))\n",
    "\n",
    "    def get_edges(self) -> pd.DataFrame:\n",
    "        \"\"\"Return a DataFrame with edges of the tree.\"\"\"\n",
    "        edges = ((i.idx, i.up.idx) for i in self if i.up)\n",
    "        return pd.DataFrame(data=edges, columns=(\"child\", \"parent\"))\n"
   ]
  },
  {
   "cell_type": "code",
   "execution_count": 40,
   "id": "9276c107",
   "metadata": {},
   "outputs": [],
   "source": [
    "root_node = get_random_tree(20)\n",
    "tree = Tree(root_node)\n",
    "# tree.get_node_coordinates()"
   ]
  },
  {
   "cell_type": "code",
   "execution_count": 131,
   "id": "63cc2e95",
   "metadata": {},
   "outputs": [
    {
     "data": {
      "text/plain": [
       "array([[1.54308063, 1.17520119],\n",
       "       [1.17520119, 1.54308063]])"
      ]
     },
     "execution_count": 131,
     "metadata": {},
     "output_type": "execute_result"
    }
   ],
   "source": [
    "#\n",
    "from scipy.linalg import expm\n",
    "\n",
    "expm([[0, 1], [1, 0]])"
   ]
  },
  {
   "cell_type": "code",
   "execution_count": 113,
   "id": "317b1700",
   "metadata": {},
   "outputs": [
    {
     "name": "stdout",
     "output_type": "stream",
     "text": [
      "<toytree.ToyTree at 0x7f8803b96d90>\n"
     ]
    }
   ],
   "source": [
    "# get the root Node of a collection of Nodes\n",
    "root_node = get_random_tree(ntips=10, seed=123)\n",
    "\n",
    "# get a Tree that stores the Node as its root.\n",
    "tree = Tree(root_node)\n",
    "print(tree)"
   ]
  },
  {
   "cell_type": "code",
   "execution_count": 123,
   "id": "a08d2bfc",
   "metadata": {},
   "outputs": [
    {
     "name": "stdout",
     "output_type": "stream",
     "text": [
      "[0, 1, 2, 3, 4, 5, 6, 7, 8, 9]\n",
      "18\n",
      "[0, 1, 2, 3, 4, 5, 6, 7, 8, 9, 10, 11, 12, 13, 14, 15, 16, 17, 18]\n",
      "[18, 17, 16, 15, 14, 13, 12, 11, 10, 9, 8, 7, 6, 5, 4, 3, 2, 1, 0]\n",
      "5\n"
     ]
    }
   ],
   "source": [
    "# get and print the tip Nodes\n",
    "print([tree[i].idx for i in range(tree.ntips)])\n",
    "\n",
    "# get and print the root Node\n",
    "print(tree.treenode.idx)\n",
    "\n",
    "# get and print all nodes in idxorder (topogically sorted)\n",
    "print([tree[i].idx for i in range(tree.nnodes)])\n",
    "\n",
    "# get and print all nodes in reverse idxorder (topogically sorted)\n",
    "print([tree[i].idx for i in range(tree.nnodes)[::-1]])\n",
    "\n",
    "# get a specific Node by its idx label\n",
    "print(tree[5].idx)"
   ]
  },
  {
   "cell_type": "code",
   "execution_count": null,
   "id": "dbcb21ac",
   "metadata": {},
   "outputs": [],
   "source": []
  },
  {
   "cell_type": "code",
   "execution_count": 112,
   "id": "a9d75a13",
   "metadata": {},
   "outputs": [
    {
     "data": {
      "text/plain": [
       "<toyplot.mark.Text at 0x7f8803d28ee0>"
      ]
     },
     "execution_count": 112,
     "metadata": {},
     "output_type": "execute_result"
    },
    {
     "data": {
      "text/html": [
       "<div class=\"toyplot\" id=\"t34706af50f0e4a848b78f692a0aa1f95\" style=\"text-align:center\"><svg class=\"toyplot-canvas-Canvas\" xmlns:toyplot=\"http://www.sandia.gov/toyplot\" xmlns:xlink=\"http://www.w3.org/1999/xlink\" xmlns=\"http://www.w3.org/2000/svg\" width=\"450.0px\" height=\"350.0px\" viewBox=\"0 0 450.0 350.0\" preserveAspectRatio=\"xMidYMid meet\" style=\"background-color:transparent;border-color:#292724;border-style:none;border-width:1.0;fill:rgb(16.1%,15.3%,14.1%);fill-opacity:1.0;font-family:Helvetica;font-size:12px;opacity:1.0;stroke:rgb(16.1%,15.3%,14.1%);stroke-opacity:1.0;stroke-width:1.0\" id=\"tfc6129348d0d41659487e6e3c9c8906d\"><g class=\"toyplot-coordinates-Cartesian\" id=\"tcaa86b86bcaa407baf4df1437af3be74\"><clipPath id=\"t5a5715cb15e3407284acf694ec908d89\"><rect x=\"40.0\" y=\"40.0\" width=\"370.0\" height=\"270.0\"></rect></clipPath><g clip-path=\"url(#t5a5715cb15e3407284acf694ec908d89)\"><g class=\"toyplot-mark-Plot\" style=\"fill:none\" id=\"tbb39a0a73e9340d1a40360e830fbc39a\"><g class=\"toyplot-Series\"><path d=\"M 53.140760859100965 83.0727853420743 L 160.8906866117572 56.807866868381225\" style=\"stroke:rgb(0%,0%,0%);stroke-opacity:1.0;stroke-width:2.0\"></path></g></g><g class=\"toyplot-mark-Plot\" style=\"fill:none\" id=\"t0fe5118b757f46aca88f7ed28affb8ff\"><g class=\"toyplot-Series\"><path d=\"M 70.48372281614591 188.13245923684653 L 79.15520379466838 161.86754076315347\" style=\"stroke:rgb(0%,0%,0%);stroke-opacity:1.0;stroke-width:2.0\"></path></g></g><g class=\"toyplot-mark-Plot\" style=\"fill:none\" id=\"t8ae45a18587643cdb9c3a69ac206c835\"><g class=\"toyplot-Series\"><path d=\"M 87.82668477319086 188.13245923684653 L 79.15520379466838 161.86754076315347\" style=\"stroke:rgb(0%,0%,0%);stroke-opacity:1.0;stroke-width:2.0\"></path></g></g><g class=\"toyplot-mark-Plot\" style=\"fill:none\" id=\"taaceda8edf584fd3b4d3f96a8c62ffa5\"><g class=\"toyplot-Series\"><path d=\"M 105.16964673023581 188.13245923684653 L 118.17686819801952 161.86754076315347\" style=\"stroke:rgb(0%,0%,0%);stroke-opacity:1.0;stroke-width:2.0\"></path></g></g><g class=\"toyplot-mark-Plot\" style=\"fill:none\" id=\"t7bac80d2e51d48cf9c7156e9223b0e0d\"><g class=\"toyplot-Series\"><path d=\"M 122.51260868728076 214.3973777105396 L 131.18408966580324 188.13245923684653\" style=\"stroke:rgb(0%,0%,0%);stroke-opacity:1.0;stroke-width:2.0\"></path></g></g><g class=\"toyplot-mark-Plot\" style=\"fill:none\" id=\"t4ed9b492f1ca4945a8fca798942a8d7e\"><g class=\"toyplot-Series\"><path d=\"M 139.85557064432572 214.3973777105396 L 131.18408966580324 188.13245923684653\" style=\"stroke:rgb(0%,0%,0%);stroke-opacity:1.0;stroke-width:2.0\"></path></g></g><g class=\"toyplot-mark-Plot\" style=\"fill:none\" id=\"t5b2de988be6e444ba8aae091ffb2a2f7\"><g class=\"toyplot-Series\"><path d=\"M 157.19853260137066 161.86754076315347 L 210.58233737539965 135.6026222894604\" style=\"stroke:rgb(0%,0%,0%);stroke-opacity:1.0;stroke-width:2.0\"></path></g></g><g class=\"toyplot-mark-Plot\" style=\"fill:none\" id=\"t6c6e9b219c6741dc8dc358ea35e801b6\"><g class=\"toyplot-Series\"><path d=\"M 174.54149455841562 266.9272146579257 L 183.2129755369381 240.66229618423267\" style=\"stroke:rgb(0%,0%,0%);stroke-opacity:1.0;stroke-width:2.0\"></path></g></g><g class=\"toyplot-mark-Plot\" style=\"fill:none\" id=\"t8de466d1b8f44597ac95bebc85d0281a\"><g class=\"toyplot-Series\"><path d=\"M 191.88445651546056 266.9272146579257 L 183.2129755369381 240.66229618423267\" style=\"stroke:rgb(0%,0%,0%);stroke-opacity:1.0;stroke-width:2.0\"></path></g></g><g class=\"toyplot-mark-Plot\" style=\"fill:none\" id=\"t8e939b7c5994489c94d55c17045e55a7\"><g class=\"toyplot-Series\"><path d=\"M 209.22741847250552 240.66229618423267 L 196.2201970047218 214.3973777105396\" style=\"stroke:rgb(0%,0%,0%);stroke-opacity:1.0;stroke-width:2.0\"></path></g></g><g class=\"toyplot-mark-Plot\" style=\"fill:none\" id=\"t90918ce314634713a21fb277f760343c\"><g class=\"toyplot-Series\"><path d=\"M 226.57038042955045 266.9272146579257 L 235.24186140807294 240.66229618423267\" style=\"stroke:rgb(0%,0%,0%);stroke-opacity:1.0;stroke-width:2.0\"></path></g></g><g class=\"toyplot-mark-Plot\" style=\"fill:none\" id=\"t655d2ebd703e42bbbb1e7cc0aebf80aa\"><g class=\"toyplot-Series\"><path d=\"M 243.91334238659542 266.9272146579257 L 235.24186140807294 240.66229618423267\" style=\"stroke:rgb(0%,0%,0%);stroke-opacity:1.0;stroke-width:2.0\"></path></g></g><g class=\"toyplot-mark-Plot\" style=\"fill:none\" id=\"td6c09ec82cc445ff8193a7e4cce77583\"><g class=\"toyplot-Series\"><path d=\"M 261.2563043436404 240.66229618423267 L 248.24908287585666 214.3973777105396\" style=\"stroke:rgb(0%,0%,0%);stroke-opacity:1.0;stroke-width:2.0\"></path></g></g><g class=\"toyplot-mark-Plot\" style=\"fill:none\" id=\"t019d6aa4f3384f2a8f40fe2bace02a48\"><g class=\"toyplot-Series\"><path d=\"M 278.5992663006853 214.3973777105396 L 305.697644358568 188.13245923684653\" style=\"stroke:rgb(0%,0%,0%);stroke-opacity:1.0;stroke-width:2.0\"></path></g></g><g class=\"toyplot-mark-Plot\" style=\"fill:none\" id=\"t37e1e5fd9914461f929c6abd0f13c4d3\"><g class=\"toyplot-Series\"><path d=\"M 295.94222825773033 266.9272146579257 L 308.94944972551394 240.66229618423267\" style=\"stroke:rgb(0%,0%,0%);stroke-opacity:1.0;stroke-width:2.0\"></path></g></g><g class=\"toyplot-mark-Plot\" style=\"fill:none\" id=\"tc1f1ff1a72e940b184aa1b1e2f1627f9\"><g class=\"toyplot-Series\"><path d=\"M 313.2851902147752 293.1921331316188 L 321.95667119329767 266.9272146579257\" style=\"stroke:rgb(0%,0%,0%);stroke-opacity:1.0;stroke-width:2.0\"></path></g></g><g class=\"toyplot-mark-Plot\" style=\"fill:none\" id=\"t2a2cbe1121e74bcf96956cd515fdcedd\"><g class=\"toyplot-Series\"><path d=\"M 330.6281521718202 293.1921331316188 L 321.95667119329767 266.9272146579257\" style=\"stroke:rgb(0%,0%,0%);stroke-opacity:1.0;stroke-width:2.0\"></path></g></g><g class=\"toyplot-mark-Plot\" style=\"fill:none\" id=\"t65d43d0bafc345e9999b95ba9da8ad9f\"><g class=\"toyplot-Series\"><path d=\"M 347.97111412886517 266.9272146579257 L 356.64259510738765 240.66229618423267\" style=\"stroke:rgb(0%,0%,0%);stroke-opacity:1.0;stroke-width:2.0\"></path></g></g><g class=\"toyplot-mark-Plot\" style=\"fill:none\" id=\"t6e8ac185bc26480ca32240415d9fb101\"><g class=\"toyplot-Series\"><path d=\"M 365.31407608591013 266.9272146579257 L 356.64259510738765 240.66229618423267\" style=\"stroke:rgb(0%,0%,0%);stroke-opacity:1.0;stroke-width:2.0\"></path></g></g><g class=\"toyplot-mark-Plot\" style=\"fill:none\" id=\"t8e22760a19b64058b564aff806d10d49\"><g class=\"toyplot-Series\"><path d=\"M 382.65703804295504 109.33770381576737 L 268.6406123644134 83.0727853420743\" style=\"stroke:rgb(0%,0%,0%);stroke-opacity:1.0;stroke-width:2.0\"></path></g></g><g class=\"toyplot-mark-Plot\" style=\"fill:none\" id=\"ta1354eaeeb344fd39604f173ceee8b66\"><g class=\"toyplot-Series\"><path d=\"M 79.15520379466838 161.86754076315347 L 98.66603599634396 135.6026222894604\" style=\"stroke:rgb(0%,0%,0%);stroke-opacity:1.0;stroke-width:2.0\"></path></g></g><g class=\"toyplot-mark-Plot\" style=\"fill:none\" id=\"td19b5e587894454e87182f6d04ea53d3\"><g class=\"toyplot-Series\"><path d=\"M 131.18408966580324 188.13245923684653 L 118.17686819801952 161.86754076315347\" style=\"stroke:rgb(0%,0%,0%);stroke-opacity:1.0;stroke-width:2.0\"></path></g></g><g class=\"toyplot-mark-Plot\" style=\"fill:none\" id=\"t45d219f7509d4f25ae3d03de45249bac\"><g class=\"toyplot-Series\"><path d=\"M 118.17686819801952 161.86754076315347 L 98.66603599634396 135.6026222894604\" style=\"stroke:rgb(0%,0%,0%);stroke-opacity:1.0;stroke-width:2.0\"></path></g></g><g class=\"toyplot-mark-Plot\" style=\"fill:none\" id=\"tfd08336871f04b148140712a0dc3882c\"><g class=\"toyplot-Series\"><path d=\"M 98.66603599634396 135.6026222894604 L 154.62418668587182 109.33770381576737\" style=\"stroke:rgb(0%,0%,0%);stroke-opacity:1.0;stroke-width:2.0\"></path></g></g><g class=\"toyplot-mark-Plot\" style=\"fill:none\" id=\"te82901490bea46eb9f979757a86ea551\"><g class=\"toyplot-Series\"><path d=\"M 183.2129755369381 240.66229618423267 L 196.2201970047218 214.3973777105396\" style=\"stroke:rgb(0%,0%,0%);stroke-opacity:1.0;stroke-width:2.0\"></path></g></g><g class=\"toyplot-mark-Plot\" style=\"fill:none\" id=\"t1bf8c41991fb4914817f3de7c74a8820\"><g class=\"toyplot-Series\"><path d=\"M 196.2201970047218 214.3973777105396 L 222.2346399402892 188.13245923684653\" style=\"stroke:rgb(0%,0%,0%);stroke-opacity:1.0;stroke-width:2.0\"></path></g></g><g class=\"toyplot-mark-Plot\" style=\"fill:none\" id=\"t1da81cd36f9b475d85c8cce5572b0a05\"><g class=\"toyplot-Series\"><path d=\"M 235.24186140807294 240.66229618423267 L 248.24908287585666 214.3973777105396\" style=\"stroke:rgb(0%,0%,0%);stroke-opacity:1.0;stroke-width:2.0\"></path></g></g><g class=\"toyplot-mark-Plot\" style=\"fill:none\" id=\"tb2ebc099cbe24911bb879413f24fe46c\"><g class=\"toyplot-Series\"><path d=\"M 248.24908287585666 214.3973777105396 L 222.2346399402892 188.13245923684653\" style=\"stroke:rgb(0%,0%,0%);stroke-opacity:1.0;stroke-width:2.0\"></path></g></g><g class=\"toyplot-mark-Plot\" style=\"fill:none\" id=\"t739b15530d8b4b709c789a3f314a84d8\"><g class=\"toyplot-Series\"><path d=\"M 222.2346399402892 188.13245923684653 L 263.96614214942866 161.86754076315347\" style=\"stroke:rgb(0%,0%,0%);stroke-opacity:1.0;stroke-width:2.0\"></path></g></g><g class=\"toyplot-mark-Plot\" style=\"fill:none\" id=\"t3ca8d088089c433a90fa6825a13bb4fe\"><g class=\"toyplot-Series\"><path d=\"M 321.95667119329767 266.9272146579257 L 308.94944972551394 240.66229618423267\" style=\"stroke:rgb(0%,0%,0%);stroke-opacity:1.0;stroke-width:2.0\"></path></g></g><g class=\"toyplot-mark-Plot\" style=\"fill:none\" id=\"te5901e1451824a51a0d00dbcc19a53e0\"><g class=\"toyplot-Series\"><path d=\"M 308.94944972551394 240.66229618423267 L 332.7960224164508 214.3973777105396\" style=\"stroke:rgb(0%,0%,0%);stroke-opacity:1.0;stroke-width:2.0\"></path></g></g><g class=\"toyplot-mark-Plot\" style=\"fill:none\" id=\"tea49ae5937464bf6b716761f659ba86e\"><g class=\"toyplot-Series\"><path d=\"M 356.64259510738765 240.66229618423267 L 332.7960224164508 214.3973777105396\" style=\"stroke:rgb(0%,0%,0%);stroke-opacity:1.0;stroke-width:2.0\"></path></g></g><g class=\"toyplot-mark-Plot\" style=\"fill:none\" id=\"t31488938fa254fc2af081c573b8cf79c\"><g class=\"toyplot-Series\"><path d=\"M 332.7960224164508 214.3973777105396 L 305.697644358568 188.13245923684653\" style=\"stroke:rgb(0%,0%,0%);stroke-opacity:1.0;stroke-width:2.0\"></path></g></g><g class=\"toyplot-mark-Plot\" style=\"fill:none\" id=\"t92c93af5836546f3a9af4795bad7d7ba\"><g class=\"toyplot-Series\"><path d=\"M 305.697644358568 188.13245923684653 L 263.96614214942866 161.86754076315347\" style=\"stroke:rgb(0%,0%,0%);stroke-opacity:1.0;stroke-width:2.0\"></path></g></g><g class=\"toyplot-mark-Plot\" style=\"fill:none\" id=\"t75bb827c5c4e4802a09920d944085e3c\"><g class=\"toyplot-Series\"><path d=\"M 263.96614214942866 161.86754076315347 L 210.58233737539965 135.6026222894604\" style=\"stroke:rgb(0%,0%,0%);stroke-opacity:1.0;stroke-width:2.0\"></path></g></g><g class=\"toyplot-mark-Plot\" style=\"fill:none\" id=\"tad4e6f7c6fd84d6486babeed336d542a\"><g class=\"toyplot-Series\"><path d=\"M 210.58233737539965 135.6026222894604 L 154.62418668587182 109.33770381576737\" style=\"stroke:rgb(0%,0%,0%);stroke-opacity:1.0;stroke-width:2.0\"></path></g></g><g class=\"toyplot-mark-Plot\" style=\"fill:none\" id=\"t631571978bf24e9392f2646e540be6b6\"><g class=\"toyplot-Series\"><path d=\"M 154.62418668587182 109.33770381576737 L 268.6406123644134 83.0727853420743\" style=\"stroke:rgb(0%,0%,0%);stroke-opacity:1.0;stroke-width:2.0\"></path></g></g><g class=\"toyplot-mark-Plot\" style=\"fill:none\" id=\"t4169273ab250437297c4bb45bfcbc2a6\"><g class=\"toyplot-Series\"><path d=\"M 268.6406123644134 83.0727853420743 L 160.8906866117572 56.807866868381225\" style=\"stroke:rgb(0%,0%,0%);stroke-opacity:1.0;stroke-width:2.0\"></path></g></g><g class=\"toyplot-mark-Point\" id=\"tff0d002c6e0f443cacaa4742d3e6e4a0\"><g class=\"toyplot-Series\"><g style=\"fill:rgb(40%,76.1%,64.7%);fill-opacity:1.0;opacity:1.0;stroke:rgb(40%,76.1%,64.7%);stroke-opacity:1.0\" class=\"toyplot-Datum\" transform=\"translate(53.140760859100965, 83.0727853420743)\"><circle r=\"8.0\"></circle></g><g style=\"fill:rgb(40%,76.1%,64.7%);fill-opacity:1.0;opacity:1.0;stroke:rgb(40%,76.1%,64.7%);stroke-opacity:1.0\" class=\"toyplot-Datum\" transform=\"translate(70.48372281614591, 188.13245923684653)\"><circle r=\"8.0\"></circle></g><g style=\"fill:rgb(40%,76.1%,64.7%);fill-opacity:1.0;opacity:1.0;stroke:rgb(40%,76.1%,64.7%);stroke-opacity:1.0\" class=\"toyplot-Datum\" transform=\"translate(87.82668477319086, 188.13245923684653)\"><circle r=\"8.0\"></circle></g><g style=\"fill:rgb(40%,76.1%,64.7%);fill-opacity:1.0;opacity:1.0;stroke:rgb(40%,76.1%,64.7%);stroke-opacity:1.0\" class=\"toyplot-Datum\" transform=\"translate(105.16964673023581, 188.13245923684653)\"><circle r=\"8.0\"></circle></g><g style=\"fill:rgb(40%,76.1%,64.7%);fill-opacity:1.0;opacity:1.0;stroke:rgb(40%,76.1%,64.7%);stroke-opacity:1.0\" class=\"toyplot-Datum\" transform=\"translate(122.51260868728076, 214.3973777105396)\"><circle r=\"8.0\"></circle></g><g style=\"fill:rgb(40%,76.1%,64.7%);fill-opacity:1.0;opacity:1.0;stroke:rgb(40%,76.1%,64.7%);stroke-opacity:1.0\" class=\"toyplot-Datum\" transform=\"translate(139.85557064432572, 214.3973777105396)\"><circle r=\"8.0\"></circle></g><g style=\"fill:rgb(40%,76.1%,64.7%);fill-opacity:1.0;opacity:1.0;stroke:rgb(40%,76.1%,64.7%);stroke-opacity:1.0\" class=\"toyplot-Datum\" transform=\"translate(157.19853260137066, 161.86754076315347)\"><circle r=\"8.0\"></circle></g><g style=\"fill:rgb(40%,76.1%,64.7%);fill-opacity:1.0;opacity:1.0;stroke:rgb(40%,76.1%,64.7%);stroke-opacity:1.0\" class=\"toyplot-Datum\" transform=\"translate(174.54149455841562, 266.9272146579257)\"><circle r=\"8.0\"></circle></g><g style=\"fill:rgb(40%,76.1%,64.7%);fill-opacity:1.0;opacity:1.0;stroke:rgb(40%,76.1%,64.7%);stroke-opacity:1.0\" class=\"toyplot-Datum\" transform=\"translate(191.88445651546056, 266.9272146579257)\"><circle r=\"8.0\"></circle></g><g style=\"fill:rgb(40%,76.1%,64.7%);fill-opacity:1.0;opacity:1.0;stroke:rgb(40%,76.1%,64.7%);stroke-opacity:1.0\" class=\"toyplot-Datum\" transform=\"translate(209.22741847250552, 240.66229618423267)\"><circle r=\"8.0\"></circle></g><g style=\"fill:rgb(40%,76.1%,64.7%);fill-opacity:1.0;opacity:1.0;stroke:rgb(40%,76.1%,64.7%);stroke-opacity:1.0\" class=\"toyplot-Datum\" transform=\"translate(226.57038042955045, 266.9272146579257)\"><circle r=\"8.0\"></circle></g><g style=\"fill:rgb(40%,76.1%,64.7%);fill-opacity:1.0;opacity:1.0;stroke:rgb(40%,76.1%,64.7%);stroke-opacity:1.0\" class=\"toyplot-Datum\" transform=\"translate(243.91334238659542, 266.9272146579257)\"><circle r=\"8.0\"></circle></g><g style=\"fill:rgb(40%,76.1%,64.7%);fill-opacity:1.0;opacity:1.0;stroke:rgb(40%,76.1%,64.7%);stroke-opacity:1.0\" class=\"toyplot-Datum\" transform=\"translate(261.2563043436404, 240.66229618423267)\"><circle r=\"8.0\"></circle></g><g style=\"fill:rgb(40%,76.1%,64.7%);fill-opacity:1.0;opacity:1.0;stroke:rgb(40%,76.1%,64.7%);stroke-opacity:1.0\" class=\"toyplot-Datum\" transform=\"translate(278.5992663006853, 214.3973777105396)\"><circle r=\"8.0\"></circle></g><g style=\"fill:rgb(40%,76.1%,64.7%);fill-opacity:1.0;opacity:1.0;stroke:rgb(40%,76.1%,64.7%);stroke-opacity:1.0\" class=\"toyplot-Datum\" transform=\"translate(295.94222825773033, 266.9272146579257)\"><circle r=\"8.0\"></circle></g><g style=\"fill:rgb(40%,76.1%,64.7%);fill-opacity:1.0;opacity:1.0;stroke:rgb(40%,76.1%,64.7%);stroke-opacity:1.0\" class=\"toyplot-Datum\" transform=\"translate(313.2851902147752, 293.1921331316188)\"><circle r=\"8.0\"></circle></g><g style=\"fill:rgb(40%,76.1%,64.7%);fill-opacity:1.0;opacity:1.0;stroke:rgb(40%,76.1%,64.7%);stroke-opacity:1.0\" class=\"toyplot-Datum\" transform=\"translate(330.6281521718202, 293.1921331316188)\"><circle r=\"8.0\"></circle></g><g style=\"fill:rgb(40%,76.1%,64.7%);fill-opacity:1.0;opacity:1.0;stroke:rgb(40%,76.1%,64.7%);stroke-opacity:1.0\" class=\"toyplot-Datum\" transform=\"translate(347.97111412886517, 266.9272146579257)\"><circle r=\"8.0\"></circle></g><g style=\"fill:rgb(40%,76.1%,64.7%);fill-opacity:1.0;opacity:1.0;stroke:rgb(40%,76.1%,64.7%);stroke-opacity:1.0\" class=\"toyplot-Datum\" transform=\"translate(365.31407608591013, 266.9272146579257)\"><circle r=\"8.0\"></circle></g><g style=\"fill:rgb(40%,76.1%,64.7%);fill-opacity:1.0;opacity:1.0;stroke:rgb(40%,76.1%,64.7%);stroke-opacity:1.0\" class=\"toyplot-Datum\" transform=\"translate(382.65703804295504, 109.33770381576737)\"><circle r=\"8.0\"></circle></g><g style=\"fill:rgb(40%,76.1%,64.7%);fill-opacity:1.0;opacity:1.0;stroke:rgb(40%,76.1%,64.7%);stroke-opacity:1.0\" class=\"toyplot-Datum\" transform=\"translate(79.15520379466838, 161.86754076315347)\"><circle r=\"8.0\"></circle></g><g style=\"fill:rgb(40%,76.1%,64.7%);fill-opacity:1.0;opacity:1.0;stroke:rgb(40%,76.1%,64.7%);stroke-opacity:1.0\" class=\"toyplot-Datum\" transform=\"translate(131.18408966580324, 188.13245923684653)\"><circle r=\"8.0\"></circle></g><g style=\"fill:rgb(40%,76.1%,64.7%);fill-opacity:1.0;opacity:1.0;stroke:rgb(40%,76.1%,64.7%);stroke-opacity:1.0\" class=\"toyplot-Datum\" transform=\"translate(118.17686819801952, 161.86754076315347)\"><circle r=\"8.0\"></circle></g><g style=\"fill:rgb(40%,76.1%,64.7%);fill-opacity:1.0;opacity:1.0;stroke:rgb(40%,76.1%,64.7%);stroke-opacity:1.0\" class=\"toyplot-Datum\" transform=\"translate(98.66603599634396, 135.6026222894604)\"><circle r=\"8.0\"></circle></g><g style=\"fill:rgb(40%,76.1%,64.7%);fill-opacity:1.0;opacity:1.0;stroke:rgb(40%,76.1%,64.7%);stroke-opacity:1.0\" class=\"toyplot-Datum\" transform=\"translate(183.2129755369381, 240.66229618423267)\"><circle r=\"8.0\"></circle></g><g style=\"fill:rgb(40%,76.1%,64.7%);fill-opacity:1.0;opacity:1.0;stroke:rgb(40%,76.1%,64.7%);stroke-opacity:1.0\" class=\"toyplot-Datum\" transform=\"translate(196.2201970047218, 214.3973777105396)\"><circle r=\"8.0\"></circle></g><g style=\"fill:rgb(40%,76.1%,64.7%);fill-opacity:1.0;opacity:1.0;stroke:rgb(40%,76.1%,64.7%);stroke-opacity:1.0\" class=\"toyplot-Datum\" transform=\"translate(235.24186140807294, 240.66229618423267)\"><circle r=\"8.0\"></circle></g><g style=\"fill:rgb(40%,76.1%,64.7%);fill-opacity:1.0;opacity:1.0;stroke:rgb(40%,76.1%,64.7%);stroke-opacity:1.0\" class=\"toyplot-Datum\" transform=\"translate(248.24908287585666, 214.3973777105396)\"><circle r=\"8.0\"></circle></g><g style=\"fill:rgb(40%,76.1%,64.7%);fill-opacity:1.0;opacity:1.0;stroke:rgb(40%,76.1%,64.7%);stroke-opacity:1.0\" class=\"toyplot-Datum\" transform=\"translate(222.2346399402892, 188.13245923684653)\"><circle r=\"8.0\"></circle></g><g style=\"fill:rgb(40%,76.1%,64.7%);fill-opacity:1.0;opacity:1.0;stroke:rgb(40%,76.1%,64.7%);stroke-opacity:1.0\" class=\"toyplot-Datum\" transform=\"translate(321.95667119329767, 266.9272146579257)\"><circle r=\"8.0\"></circle></g><g style=\"fill:rgb(40%,76.1%,64.7%);fill-opacity:1.0;opacity:1.0;stroke:rgb(40%,76.1%,64.7%);stroke-opacity:1.0\" class=\"toyplot-Datum\" transform=\"translate(308.94944972551394, 240.66229618423267)\"><circle r=\"8.0\"></circle></g><g style=\"fill:rgb(40%,76.1%,64.7%);fill-opacity:1.0;opacity:1.0;stroke:rgb(40%,76.1%,64.7%);stroke-opacity:1.0\" class=\"toyplot-Datum\" transform=\"translate(356.64259510738765, 240.66229618423267)\"><circle r=\"8.0\"></circle></g><g style=\"fill:rgb(40%,76.1%,64.7%);fill-opacity:1.0;opacity:1.0;stroke:rgb(40%,76.1%,64.7%);stroke-opacity:1.0\" class=\"toyplot-Datum\" transform=\"translate(332.7960224164508, 214.3973777105396)\"><circle r=\"8.0\"></circle></g><g style=\"fill:rgb(40%,76.1%,64.7%);fill-opacity:1.0;opacity:1.0;stroke:rgb(40%,76.1%,64.7%);stroke-opacity:1.0\" class=\"toyplot-Datum\" transform=\"translate(305.697644358568, 188.13245923684653)\"><circle r=\"8.0\"></circle></g><g style=\"fill:rgb(40%,76.1%,64.7%);fill-opacity:1.0;opacity:1.0;stroke:rgb(40%,76.1%,64.7%);stroke-opacity:1.0\" class=\"toyplot-Datum\" transform=\"translate(263.96614214942866, 161.86754076315347)\"><circle r=\"8.0\"></circle></g><g style=\"fill:rgb(40%,76.1%,64.7%);fill-opacity:1.0;opacity:1.0;stroke:rgb(40%,76.1%,64.7%);stroke-opacity:1.0\" class=\"toyplot-Datum\" transform=\"translate(210.58233737539965, 135.6026222894604)\"><circle r=\"8.0\"></circle></g><g style=\"fill:rgb(40%,76.1%,64.7%);fill-opacity:1.0;opacity:1.0;stroke:rgb(40%,76.1%,64.7%);stroke-opacity:1.0\" class=\"toyplot-Datum\" transform=\"translate(154.62418668587182, 109.33770381576737)\"><circle r=\"8.0\"></circle></g><g style=\"fill:rgb(40%,76.1%,64.7%);fill-opacity:1.0;opacity:1.0;stroke:rgb(40%,76.1%,64.7%);stroke-opacity:1.0\" class=\"toyplot-Datum\" transform=\"translate(268.6406123644134, 83.0727853420743)\"><circle r=\"8.0\"></circle></g><g style=\"fill:rgb(40%,76.1%,64.7%);fill-opacity:1.0;opacity:1.0;stroke:rgb(40%,76.1%,64.7%);stroke-opacity:1.0\" class=\"toyplot-Datum\" transform=\"translate(160.8906866117572, 56.807866868381225)\"><circle r=\"8.0\"></circle></g></g></g><g class=\"toyplot-mark-Text\" id=\"t0b0b237259384eb4b6da871481b2e7e4\"><g class=\"toyplot-Series\"><g class=\"toyplot-Datum\" transform=\"translate(53.140760859100965,83.0727853420743)\"><text x=\"-3.3360000000000003\" y=\"3.066\" style=\"fill:rgb(0%,0%,0%);fill-opacity:1.0;font-family:helvetica;font-size:12.0px;font-weight:normal;opacity:1;stroke:none;vertical-align:baseline;white-space:pre\">0</text></g><g class=\"toyplot-Datum\" transform=\"translate(70.48372281614591,188.13245923684653)\"><text x=\"-3.3360000000000003\" y=\"3.066\" style=\"fill:rgb(0%,0%,0%);fill-opacity:1.0;font-family:helvetica;font-size:12.0px;font-weight:normal;opacity:1;stroke:none;vertical-align:baseline;white-space:pre\">1</text></g><g class=\"toyplot-Datum\" transform=\"translate(87.82668477319086,188.13245923684653)\"><text x=\"-3.3360000000000003\" y=\"3.066\" style=\"fill:rgb(0%,0%,0%);fill-opacity:1.0;font-family:helvetica;font-size:12.0px;font-weight:normal;opacity:1;stroke:none;vertical-align:baseline;white-space:pre\">2</text></g><g class=\"toyplot-Datum\" transform=\"translate(105.16964673023581,188.13245923684653)\"><text x=\"-3.3360000000000003\" y=\"3.066\" style=\"fill:rgb(0%,0%,0%);fill-opacity:1.0;font-family:helvetica;font-size:12.0px;font-weight:normal;opacity:1;stroke:none;vertical-align:baseline;white-space:pre\">3</text></g><g class=\"toyplot-Datum\" transform=\"translate(122.51260868728076,214.3973777105396)\"><text x=\"-3.3360000000000003\" y=\"3.066\" style=\"fill:rgb(0%,0%,0%);fill-opacity:1.0;font-family:helvetica;font-size:12.0px;font-weight:normal;opacity:1;stroke:none;vertical-align:baseline;white-space:pre\">4</text></g><g class=\"toyplot-Datum\" transform=\"translate(139.85557064432572,214.3973777105396)\"><text x=\"-3.3360000000000003\" y=\"3.066\" style=\"fill:rgb(0%,0%,0%);fill-opacity:1.0;font-family:helvetica;font-size:12.0px;font-weight:normal;opacity:1;stroke:none;vertical-align:baseline;white-space:pre\">5</text></g><g class=\"toyplot-Datum\" transform=\"translate(157.19853260137066,161.86754076315347)\"><text x=\"-3.3360000000000003\" y=\"3.066\" style=\"fill:rgb(0%,0%,0%);fill-opacity:1.0;font-family:helvetica;font-size:12.0px;font-weight:normal;opacity:1;stroke:none;vertical-align:baseline;white-space:pre\">6</text></g><g class=\"toyplot-Datum\" transform=\"translate(174.54149455841562,266.9272146579257)\"><text x=\"-3.3360000000000003\" y=\"3.066\" style=\"fill:rgb(0%,0%,0%);fill-opacity:1.0;font-family:helvetica;font-size:12.0px;font-weight:normal;opacity:1;stroke:none;vertical-align:baseline;white-space:pre\">7</text></g><g class=\"toyplot-Datum\" transform=\"translate(191.88445651546056,266.9272146579257)\"><text x=\"-3.3360000000000003\" y=\"3.066\" style=\"fill:rgb(0%,0%,0%);fill-opacity:1.0;font-family:helvetica;font-size:12.0px;font-weight:normal;opacity:1;stroke:none;vertical-align:baseline;white-space:pre\">8</text></g><g class=\"toyplot-Datum\" transform=\"translate(209.22741847250552,240.66229618423267)\"><text x=\"-3.3360000000000003\" y=\"3.066\" style=\"fill:rgb(0%,0%,0%);fill-opacity:1.0;font-family:helvetica;font-size:12.0px;font-weight:normal;opacity:1;stroke:none;vertical-align:baseline;white-space:pre\">9</text></g><g class=\"toyplot-Datum\" transform=\"translate(226.57038042955045,266.9272146579257)\"><text x=\"-6.672000000000001\" y=\"3.066\" style=\"fill:rgb(0%,0%,0%);fill-opacity:1.0;font-family:helvetica;font-size:12.0px;font-weight:normal;opacity:1;stroke:none;vertical-align:baseline;white-space:pre\">10</text></g><g class=\"toyplot-Datum\" transform=\"translate(243.91334238659542,266.9272146579257)\"><text x=\"-6.672000000000001\" y=\"3.066\" style=\"fill:rgb(0%,0%,0%);fill-opacity:1.0;font-family:helvetica;font-size:12.0px;font-weight:normal;opacity:1;stroke:none;vertical-align:baseline;white-space:pre\">11</text></g><g class=\"toyplot-Datum\" transform=\"translate(261.2563043436404,240.66229618423267)\"><text x=\"-6.672000000000001\" y=\"3.066\" style=\"fill:rgb(0%,0%,0%);fill-opacity:1.0;font-family:helvetica;font-size:12.0px;font-weight:normal;opacity:1;stroke:none;vertical-align:baseline;white-space:pre\">12</text></g><g class=\"toyplot-Datum\" transform=\"translate(278.5992663006853,214.3973777105396)\"><text x=\"-6.672000000000001\" y=\"3.066\" style=\"fill:rgb(0%,0%,0%);fill-opacity:1.0;font-family:helvetica;font-size:12.0px;font-weight:normal;opacity:1;stroke:none;vertical-align:baseline;white-space:pre\">13</text></g><g class=\"toyplot-Datum\" transform=\"translate(295.94222825773033,266.9272146579257)\"><text x=\"-6.672000000000001\" y=\"3.066\" style=\"fill:rgb(0%,0%,0%);fill-opacity:1.0;font-family:helvetica;font-size:12.0px;font-weight:normal;opacity:1;stroke:none;vertical-align:baseline;white-space:pre\">14</text></g><g class=\"toyplot-Datum\" transform=\"translate(313.2851902147752,293.1921331316188)\"><text x=\"-6.672000000000001\" y=\"3.066\" style=\"fill:rgb(0%,0%,0%);fill-opacity:1.0;font-family:helvetica;font-size:12.0px;font-weight:normal;opacity:1;stroke:none;vertical-align:baseline;white-space:pre\">15</text></g><g class=\"toyplot-Datum\" transform=\"translate(330.6281521718202,293.1921331316188)\"><text x=\"-6.672000000000001\" y=\"3.066\" style=\"fill:rgb(0%,0%,0%);fill-opacity:1.0;font-family:helvetica;font-size:12.0px;font-weight:normal;opacity:1;stroke:none;vertical-align:baseline;white-space:pre\">16</text></g><g class=\"toyplot-Datum\" transform=\"translate(347.97111412886517,266.9272146579257)\"><text x=\"-6.672000000000001\" y=\"3.066\" style=\"fill:rgb(0%,0%,0%);fill-opacity:1.0;font-family:helvetica;font-size:12.0px;font-weight:normal;opacity:1;stroke:none;vertical-align:baseline;white-space:pre\">17</text></g><g class=\"toyplot-Datum\" transform=\"translate(365.31407608591013,266.9272146579257)\"><text x=\"-6.672000000000001\" y=\"3.066\" style=\"fill:rgb(0%,0%,0%);fill-opacity:1.0;font-family:helvetica;font-size:12.0px;font-weight:normal;opacity:1;stroke:none;vertical-align:baseline;white-space:pre\">18</text></g><g class=\"toyplot-Datum\" transform=\"translate(382.65703804295504,109.33770381576737)\"><text x=\"-6.672000000000001\" y=\"3.066\" style=\"fill:rgb(0%,0%,0%);fill-opacity:1.0;font-family:helvetica;font-size:12.0px;font-weight:normal;opacity:1;stroke:none;vertical-align:baseline;white-space:pre\">19</text></g><g class=\"toyplot-Datum\" transform=\"translate(79.15520379466838,161.86754076315347)\"><text x=\"-6.672000000000001\" y=\"3.066\" style=\"fill:rgb(0%,0%,0%);fill-opacity:1.0;font-family:helvetica;font-size:12.0px;font-weight:normal;opacity:1;stroke:none;vertical-align:baseline;white-space:pre\">20</text></g><g class=\"toyplot-Datum\" transform=\"translate(131.18408966580324,188.13245923684653)\"><text x=\"-6.672000000000001\" y=\"3.066\" style=\"fill:rgb(0%,0%,0%);fill-opacity:1.0;font-family:helvetica;font-size:12.0px;font-weight:normal;opacity:1;stroke:none;vertical-align:baseline;white-space:pre\">21</text></g><g class=\"toyplot-Datum\" transform=\"translate(118.17686819801952,161.86754076315347)\"><text x=\"-6.672000000000001\" y=\"3.066\" style=\"fill:rgb(0%,0%,0%);fill-opacity:1.0;font-family:helvetica;font-size:12.0px;font-weight:normal;opacity:1;stroke:none;vertical-align:baseline;white-space:pre\">22</text></g><g class=\"toyplot-Datum\" transform=\"translate(98.66603599634396,135.6026222894604)\"><text x=\"-6.672000000000001\" y=\"3.066\" style=\"fill:rgb(0%,0%,0%);fill-opacity:1.0;font-family:helvetica;font-size:12.0px;font-weight:normal;opacity:1;stroke:none;vertical-align:baseline;white-space:pre\">23</text></g><g class=\"toyplot-Datum\" transform=\"translate(183.2129755369381,240.66229618423267)\"><text x=\"-6.672000000000001\" y=\"3.066\" style=\"fill:rgb(0%,0%,0%);fill-opacity:1.0;font-family:helvetica;font-size:12.0px;font-weight:normal;opacity:1;stroke:none;vertical-align:baseline;white-space:pre\">24</text></g><g class=\"toyplot-Datum\" transform=\"translate(196.2201970047218,214.3973777105396)\"><text x=\"-6.672000000000001\" y=\"3.066\" style=\"fill:rgb(0%,0%,0%);fill-opacity:1.0;font-family:helvetica;font-size:12.0px;font-weight:normal;opacity:1;stroke:none;vertical-align:baseline;white-space:pre\">25</text></g><g class=\"toyplot-Datum\" transform=\"translate(235.24186140807294,240.66229618423267)\"><text x=\"-6.672000000000001\" y=\"3.066\" style=\"fill:rgb(0%,0%,0%);fill-opacity:1.0;font-family:helvetica;font-size:12.0px;font-weight:normal;opacity:1;stroke:none;vertical-align:baseline;white-space:pre\">26</text></g><g class=\"toyplot-Datum\" transform=\"translate(248.24908287585666,214.3973777105396)\"><text x=\"-6.672000000000001\" y=\"3.066\" style=\"fill:rgb(0%,0%,0%);fill-opacity:1.0;font-family:helvetica;font-size:12.0px;font-weight:normal;opacity:1;stroke:none;vertical-align:baseline;white-space:pre\">27</text></g><g class=\"toyplot-Datum\" transform=\"translate(222.2346399402892,188.13245923684653)\"><text x=\"-6.672000000000001\" y=\"3.066\" style=\"fill:rgb(0%,0%,0%);fill-opacity:1.0;font-family:helvetica;font-size:12.0px;font-weight:normal;opacity:1;stroke:none;vertical-align:baseline;white-space:pre\">28</text></g><g class=\"toyplot-Datum\" transform=\"translate(321.95667119329767,266.9272146579257)\"><text x=\"-6.672000000000001\" y=\"3.066\" style=\"fill:rgb(0%,0%,0%);fill-opacity:1.0;font-family:helvetica;font-size:12.0px;font-weight:normal;opacity:1;stroke:none;vertical-align:baseline;white-space:pre\">29</text></g><g class=\"toyplot-Datum\" transform=\"translate(308.94944972551394,240.66229618423267)\"><text x=\"-6.672000000000001\" y=\"3.066\" style=\"fill:rgb(0%,0%,0%);fill-opacity:1.0;font-family:helvetica;font-size:12.0px;font-weight:normal;opacity:1;stroke:none;vertical-align:baseline;white-space:pre\">30</text></g><g class=\"toyplot-Datum\" transform=\"translate(356.64259510738765,240.66229618423267)\"><text x=\"-6.672000000000001\" y=\"3.066\" style=\"fill:rgb(0%,0%,0%);fill-opacity:1.0;font-family:helvetica;font-size:12.0px;font-weight:normal;opacity:1;stroke:none;vertical-align:baseline;white-space:pre\">31</text></g><g class=\"toyplot-Datum\" transform=\"translate(332.7960224164508,214.3973777105396)\"><text x=\"-6.672000000000001\" y=\"3.066\" style=\"fill:rgb(0%,0%,0%);fill-opacity:1.0;font-family:helvetica;font-size:12.0px;font-weight:normal;opacity:1;stroke:none;vertical-align:baseline;white-space:pre\">32</text></g><g class=\"toyplot-Datum\" transform=\"translate(305.697644358568,188.13245923684653)\"><text x=\"-6.672000000000001\" y=\"3.066\" style=\"fill:rgb(0%,0%,0%);fill-opacity:1.0;font-family:helvetica;font-size:12.0px;font-weight:normal;opacity:1;stroke:none;vertical-align:baseline;white-space:pre\">33</text></g><g class=\"toyplot-Datum\" transform=\"translate(263.96614214942866,161.86754076315347)\"><text x=\"-6.672000000000001\" y=\"3.066\" style=\"fill:rgb(0%,0%,0%);fill-opacity:1.0;font-family:helvetica;font-size:12.0px;font-weight:normal;opacity:1;stroke:none;vertical-align:baseline;white-space:pre\">34</text></g><g class=\"toyplot-Datum\" transform=\"translate(210.58233737539965,135.6026222894604)\"><text x=\"-6.672000000000001\" y=\"3.066\" style=\"fill:rgb(0%,0%,0%);fill-opacity:1.0;font-family:helvetica;font-size:12.0px;font-weight:normal;opacity:1;stroke:none;vertical-align:baseline;white-space:pre\">35</text></g><g class=\"toyplot-Datum\" transform=\"translate(154.62418668587182,109.33770381576737)\"><text x=\"-6.672000000000001\" y=\"3.066\" style=\"fill:rgb(0%,0%,0%);fill-opacity:1.0;font-family:helvetica;font-size:12.0px;font-weight:normal;opacity:1;stroke:none;vertical-align:baseline;white-space:pre\">36</text></g><g class=\"toyplot-Datum\" transform=\"translate(268.6406123644134,83.0727853420743)\"><text x=\"-6.672000000000001\" y=\"3.066\" style=\"fill:rgb(0%,0%,0%);fill-opacity:1.0;font-family:helvetica;font-size:12.0px;font-weight:normal;opacity:1;stroke:none;vertical-align:baseline;white-space:pre\">37</text></g><g class=\"toyplot-Datum\" transform=\"translate(160.8906866117572,56.807866868381225)\"><text x=\"-6.672000000000001\" y=\"3.066\" style=\"fill:rgb(0%,0%,0%);fill-opacity:1.0;font-family:helvetica;font-size:12.0px;font-weight:normal;opacity:1;stroke:none;vertical-align:baseline;white-space:pre\">38</text></g></g></g></g><g class=\"toyplot-coordinates-Axis\" id=\"teb20aea7d26f42fb9c7b5bf8d1c58ca6\" transform=\"translate(50.0,300.0)translate(0,10.0)\"><line x1=\"3.140760859100962\" y1=\"0\" x2=\"332.6570380429551\" y2=\"0\" style=\"\"></line><g><g transform=\"translate(3.140760859100962,6)\"><text x=\"-2.78\" y=\"8.555\" style=\"fill:rgb(16.1%,15.3%,14.1%);fill-opacity:1.0;font-family:helvetica;font-size:10.0px;font-weight:normal;stroke:none;vertical-align:baseline;white-space:pre\">0</text></g><g transform=\"translate(89.85557064432571,6)\"><text x=\"-2.78\" y=\"8.555\" style=\"fill:rgb(16.1%,15.3%,14.1%);fill-opacity:1.0;font-family:helvetica;font-size:10.0px;font-weight:normal;stroke:none;vertical-align:baseline;white-space:pre\">5</text></g><g transform=\"translate(176.57038042955048,6)\"><text x=\"-5.56\" y=\"8.555\" style=\"fill:rgb(16.1%,15.3%,14.1%);fill-opacity:1.0;font-family:helvetica;font-size:10.0px;font-weight:normal;stroke:none;vertical-align:baseline;white-space:pre\">10</text></g><g transform=\"translate(263.28519021477524,6)\"><text x=\"-5.56\" y=\"8.555\" style=\"fill:rgb(16.1%,15.3%,14.1%);fill-opacity:1.0;font-family:helvetica;font-size:10.0px;font-weight:normal;stroke:none;vertical-align:baseline;white-space:pre\">15</text></g><g transform=\"translate(350.0,6)\"><text x=\"-5.56\" y=\"8.555\" style=\"fill:rgb(16.1%,15.3%,14.1%);fill-opacity:1.0;font-family:helvetica;font-size:10.0px;font-weight:normal;stroke:none;vertical-align:baseline;white-space:pre\">20</text></g></g><g class=\"toyplot-coordinates-Axis-coordinates\" style=\"visibility:hidden\" transform=\"\"><line x1=\"0\" x2=\"0\" y1=\"-3.0\" y2=\"4.5\" style=\"stroke:rgb(43.9%,50.2%,56.5%);stroke-opacity:1.0;stroke-width:1.0\"></line><text x=\"0\" y=\"-6\" style=\"alignment-baseline:alphabetic;fill:rgb(43.9%,50.2%,56.5%);fill-opacity:1.0;font-size:10px;font-weight:normal;stroke:none;text-anchor:middle\"></text></g></g><g class=\"toyplot-coordinates-Axis\" id=\"t4373957ebf2f49cc99502f665ce264d8\" transform=\"translate(50.0,300.0)rotate(-90.0)translate(0,-10.0)\"><line x1=\"6.80786686838123\" y1=\"0\" x2=\"243.1921331316188\" y2=\"0\" style=\"\"></line><g><g transform=\"translate(6.80786686838123,-6)\"><text x=\"-2.78\" y=\"-4.440892098500626e-16\" style=\"fill:rgb(16.1%,15.3%,14.1%);fill-opacity:1.0;font-family:helvetica;font-size:10.0px;font-weight:normal;stroke:none;vertical-align:baseline;white-space:pre\">0</text></g><g transform=\"translate(85.6026222894604,-6)\"><text x=\"-2.78\" y=\"-4.440892098500626e-16\" style=\"fill:rgb(16.1%,15.3%,14.1%);fill-opacity:1.0;font-family:helvetica;font-size:10.0px;font-weight:normal;stroke:none;vertical-align:baseline;white-space:pre\">3</text></g><g transform=\"translate(164.3973777105396,-6)\"><text x=\"-2.78\" y=\"-4.440892098500626e-16\" style=\"fill:rgb(16.1%,15.3%,14.1%);fill-opacity:1.0;font-family:helvetica;font-size:10.0px;font-weight:normal;stroke:none;vertical-align:baseline;white-space:pre\">6</text></g><g transform=\"translate(243.1921331316188,-6)\"><text x=\"-2.78\" y=\"-4.440892098500626e-16\" style=\"fill:rgb(16.1%,15.3%,14.1%);fill-opacity:1.0;font-family:helvetica;font-size:10.0px;font-weight:normal;stroke:none;vertical-align:baseline;white-space:pre\">9</text></g></g><g class=\"toyplot-coordinates-Axis-coordinates\" style=\"visibility:hidden\" transform=\"\"><line x1=\"0\" x2=\"0\" y1=\"3.0\" y2=\"-4.5\" style=\"stroke:rgb(43.9%,50.2%,56.5%);stroke-opacity:1.0;stroke-width:1.0\"></line><text x=\"0\" y=\"6\" style=\"alignment-baseline:hanging;fill:rgb(43.9%,50.2%,56.5%);fill-opacity:1.0;font-size:10px;font-weight:normal;stroke:none;text-anchor:middle\"></text></g></g><g transform=\"translate(225.0,42.0)\"><text x=\"-121.35200000000002\" y=\"-4.823\" style=\"fill:rgb(16.1%,15.3%,14.1%);fill-opacity:1.0;font-family:helvetica;font-size:14.0px;font-weight:bold;stroke:none;vertical-align:baseline;white-space:pre\">toyplot drawing of Nodes and Edges</text></g></g></svg><div class=\"toyplot-behavior\"><script>(function()\n",
       "{\n",
       "var modules={};\n",
       "modules[\"toyplot/tables\"] = (function()\n",
       "    {\n",
       "        var tables = [];\n",
       "\n",
       "        var module = {};\n",
       "\n",
       "        module.set = function(owner, key, names, columns)\n",
       "        {\n",
       "            tables.push({owner: owner, key: key, names: names, columns: columns});\n",
       "        }\n",
       "\n",
       "        module.get = function(owner, key)\n",
       "        {\n",
       "            for(var i = 0; i != tables.length; ++i)\n",
       "            {\n",
       "                var table = tables[i];\n",
       "                if(table.owner != owner)\n",
       "                    continue;\n",
       "                if(table.key != key)\n",
       "                    continue;\n",
       "                return {names: table.names, columns: table.columns};\n",
       "            }\n",
       "        }\n",
       "\n",
       "        module.get_csv = function(owner, key)\n",
       "        {\n",
       "            var table = module.get(owner, key);\n",
       "            if(table != undefined)\n",
       "            {\n",
       "                var csv = \"\";\n",
       "                csv += table.names.join(\",\") + \"\\n\";\n",
       "                for(var i = 0; i != table.columns[0].length; ++i)\n",
       "                {\n",
       "                  for(var j = 0; j != table.columns.length; ++j)\n",
       "                  {\n",
       "                    if(j)\n",
       "                      csv += \",\";\n",
       "                    csv += table.columns[j][i];\n",
       "                  }\n",
       "                  csv += \"\\n\";\n",
       "                }\n",
       "                return csv;\n",
       "            }\n",
       "        }\n",
       "\n",
       "        return module;\n",
       "    })();\n",
       "modules[\"toyplot/root/id\"] = \"t34706af50f0e4a848b78f692a0aa1f95\";\n",
       "modules[\"toyplot/root\"] = (function(root_id)\n",
       "    {\n",
       "        return document.querySelector(\"#\" + root_id);\n",
       "    })(modules[\"toyplot/root/id\"]);\n",
       "modules[\"toyplot/canvas/id\"] = \"tfc6129348d0d41659487e6e3c9c8906d\";\n",
       "modules[\"toyplot/canvas\"] = (function(canvas_id)\n",
       "    {\n",
       "        return document.querySelector(\"#\" + canvas_id);\n",
       "    })(modules[\"toyplot/canvas/id\"]);\n",
       "modules[\"toyplot/menus/context\"] = (function(root, canvas)\n",
       "    {\n",
       "        var wrapper = document.createElement(\"div\");\n",
       "        wrapper.innerHTML = \"<ul class='toyplot-context-menu' style='background:#eee; border:1px solid #b8b8b8; border-radius:5px; box-shadow: 0px 0px 8px rgba(0%,0%,0%,0.25); margin:0; padding:3px 0; position:fixed; visibility:hidden;'></ul>\"\n",
       "        var menu = wrapper.firstChild;\n",
       "\n",
       "        root.appendChild(menu);\n",
       "\n",
       "        var items = [];\n",
       "\n",
       "        var ignore_mouseup = null;\n",
       "        function open_menu(e)\n",
       "        {\n",
       "            var show_menu = false;\n",
       "            for(var index=0; index != items.length; ++index)\n",
       "            {\n",
       "                var item = items[index];\n",
       "                if(item.show(e))\n",
       "                {\n",
       "                    item.item.style.display = \"block\";\n",
       "                    show_menu = true;\n",
       "                }\n",
       "                else\n",
       "                {\n",
       "                    item.item.style.display = \"none\";\n",
       "                }\n",
       "            }\n",
       "\n",
       "            if(show_menu)\n",
       "            {\n",
       "                ignore_mouseup = true;\n",
       "                menu.style.left = (e.clientX + 1) + \"px\";\n",
       "                menu.style.top = (e.clientY - 5) + \"px\";\n",
       "                menu.style.visibility = \"visible\";\n",
       "                e.stopPropagation();\n",
       "                e.preventDefault();\n",
       "            }\n",
       "        }\n",
       "\n",
       "        function close_menu()\n",
       "        {\n",
       "            menu.style.visibility = \"hidden\";\n",
       "        }\n",
       "\n",
       "        function contextmenu(e)\n",
       "        {\n",
       "            open_menu(e);\n",
       "        }\n",
       "\n",
       "        function mousemove(e)\n",
       "        {\n",
       "            ignore_mouseup = false;\n",
       "        }\n",
       "\n",
       "        function mouseup(e)\n",
       "        {\n",
       "            if(ignore_mouseup)\n",
       "            {\n",
       "                ignore_mouseup = false;\n",
       "                return;\n",
       "            }\n",
       "            close_menu();\n",
       "        }\n",
       "\n",
       "        function keydown(e)\n",
       "        {\n",
       "            if(e.key == \"Escape\" || e.key == \"Esc\" || e.keyCode == 27)\n",
       "            {\n",
       "                close_menu();\n",
       "            }\n",
       "        }\n",
       "\n",
       "        canvas.addEventListener(\"contextmenu\", contextmenu);\n",
       "        canvas.addEventListener(\"mousemove\", mousemove);\n",
       "        document.addEventListener(\"mouseup\", mouseup);\n",
       "        document.addEventListener(\"keydown\", keydown);\n",
       "\n",
       "        var module = {};\n",
       "        module.add_item = function(label, show, activate)\n",
       "        {\n",
       "            var wrapper = document.createElement(\"div\");\n",
       "            wrapper.innerHTML = \"<li class='toyplot-context-menu-item' style='background:#eee; color:#333; padding:2px 20px; list-style:none; margin:0; text-align:left;'>\" + label + \"</li>\"\n",
       "            var item = wrapper.firstChild;\n",
       "\n",
       "            items.push({item: item, show: show});\n",
       "\n",
       "            function mouseover()\n",
       "            {\n",
       "                this.style.background = \"steelblue\";\n",
       "                this.style.color = \"white\";\n",
       "            }\n",
       "\n",
       "            function mouseout()\n",
       "            {\n",
       "                this.style.background = \"#eee\";\n",
       "                this.style.color = \"#333\";\n",
       "            }\n",
       "\n",
       "            function choose_item(e)\n",
       "            {\n",
       "                close_menu();\n",
       "                activate();\n",
       "\n",
       "                e.stopPropagation();\n",
       "                e.preventDefault();\n",
       "            }\n",
       "\n",
       "            item.addEventListener(\"mouseover\", mouseover);\n",
       "            item.addEventListener(\"mouseout\", mouseout);\n",
       "            item.addEventListener(\"mouseup\", choose_item);\n",
       "            item.addEventListener(\"contextmenu\", choose_item);\n",
       "\n",
       "            menu.appendChild(item);\n",
       "        };\n",
       "        return module;\n",
       "    })(modules[\"toyplot/root\"],modules[\"toyplot/canvas\"]);\n",
       "modules[\"toyplot/io\"] = (function()\n",
       "    {\n",
       "        var module = {};\n",
       "        module.save_file = function(mime_type, charset, data, filename)\n",
       "        {\n",
       "            var uri = \"data:\" + mime_type + \";charset=\" + charset + \",\" + data;\n",
       "            uri = encodeURI(uri);\n",
       "\n",
       "            var link = document.createElement(\"a\");\n",
       "            if(typeof link.download != \"undefined\")\n",
       "            {\n",
       "              link.href = uri;\n",
       "              link.style = \"visibility:hidden\";\n",
       "              link.download = filename;\n",
       "\n",
       "              document.body.appendChild(link);\n",
       "              link.click();\n",
       "              document.body.removeChild(link);\n",
       "            }\n",
       "            else\n",
       "            {\n",
       "              window.open(uri);\n",
       "            }\n",
       "        };\n",
       "        return module;\n",
       "    })();\n",
       "modules[\"toyplot.coordinates.Axis\"] = (\n",
       "        function(canvas)\n",
       "        {\n",
       "            function sign(x)\n",
       "            {\n",
       "                return x < 0 ? -1 : x > 0 ? 1 : 0;\n",
       "            }\n",
       "\n",
       "            function mix(a, b, amount)\n",
       "            {\n",
       "                return ((1.0 - amount) * a) + (amount * b);\n",
       "            }\n",
       "\n",
       "            function log(x, base)\n",
       "            {\n",
       "                return Math.log(Math.abs(x)) / Math.log(base);\n",
       "            }\n",
       "\n",
       "            function in_range(a, x, b)\n",
       "            {\n",
       "                var left = Math.min(a, b);\n",
       "                var right = Math.max(a, b);\n",
       "                return left <= x && x <= right;\n",
       "            }\n",
       "\n",
       "            function inside(range, projection)\n",
       "            {\n",
       "                for(var i = 0; i != projection.length; ++i)\n",
       "                {\n",
       "                    var segment = projection[i];\n",
       "                    if(in_range(segment.range.min, range, segment.range.max))\n",
       "                        return true;\n",
       "                }\n",
       "                return false;\n",
       "            }\n",
       "\n",
       "            function to_domain(range, projection)\n",
       "            {\n",
       "                for(var i = 0; i != projection.length; ++i)\n",
       "                {\n",
       "                    var segment = projection[i];\n",
       "                    if(in_range(segment.range.bounds.min, range, segment.range.bounds.max))\n",
       "                    {\n",
       "                        if(segment.scale == \"linear\")\n",
       "                        {\n",
       "                            var amount = (range - segment.range.min) / (segment.range.max - segment.range.min);\n",
       "                            return mix(segment.domain.min, segment.domain.max, amount)\n",
       "                        }\n",
       "                        else if(segment.scale[0] == \"log\")\n",
       "                        {\n",
       "                            var amount = (range - segment.range.min) / (segment.range.max - segment.range.min);\n",
       "                            var base = segment.scale[1];\n",
       "                            return sign(segment.domain.min) * Math.pow(base, mix(log(segment.domain.min, base), log(segment.domain.max, base), amount));\n",
       "                        }\n",
       "                    }\n",
       "                }\n",
       "            }\n",
       "\n",
       "            var axes = {};\n",
       "\n",
       "            function display_coordinates(e)\n",
       "            {\n",
       "                var current = canvas.createSVGPoint();\n",
       "                current.x = e.clientX;\n",
       "                current.y = e.clientY;\n",
       "\n",
       "                for(var axis_id in axes)\n",
       "                {\n",
       "                    var axis = document.querySelector(\"#\" + axis_id);\n",
       "                    var coordinates = axis.querySelector(\".toyplot-coordinates-Axis-coordinates\");\n",
       "                    if(coordinates)\n",
       "                    {\n",
       "                        var projection = axes[axis_id];\n",
       "                        var local = current.matrixTransform(axis.getScreenCTM().inverse());\n",
       "                        if(inside(local.x, projection))\n",
       "                        {\n",
       "                            var domain = to_domain(local.x, projection);\n",
       "                            coordinates.style.visibility = \"visible\";\n",
       "                            coordinates.setAttribute(\"transform\", \"translate(\" + local.x + \")\");\n",
       "                            var text = coordinates.querySelector(\"text\");\n",
       "                            text.textContent = domain.toFixed(2);\n",
       "                        }\n",
       "                        else\n",
       "                        {\n",
       "                            coordinates.style.visibility= \"hidden\";\n",
       "                        }\n",
       "                    }\n",
       "                }\n",
       "            }\n",
       "\n",
       "            canvas.addEventListener(\"click\", display_coordinates);\n",
       "\n",
       "            var module = {};\n",
       "            module.show_coordinates = function(axis_id, projection)\n",
       "            {\n",
       "                axes[axis_id] = projection;\n",
       "            }\n",
       "\n",
       "            return module;\n",
       "        })(modules[\"toyplot/canvas\"]);\n",
       "(function(tables, context_menu, io, owner_id, key, label, names, columns, filename)\n",
       "        {\n",
       "            tables.set(owner_id, key, names, columns);\n",
       "\n",
       "            var owner = document.querySelector(\"#\" + owner_id);\n",
       "            function show_item(e)\n",
       "            {\n",
       "                return owner.contains(e.target);\n",
       "            }\n",
       "\n",
       "            function choose_item()\n",
       "            {\n",
       "                io.save_file(\"text/csv\", \"utf-8\", tables.get_csv(owner_id, key), filename + \".csv\");\n",
       "            }\n",
       "\n",
       "            context_menu.add_item(\"Save \" + label + \" as CSV\", show_item, choose_item);\n",
       "        })(modules[\"toyplot/tables\"],modules[\"toyplot/menus/context\"],modules[\"toyplot/io\"],\"tbb39a0a73e9340d1a40360e830fbc39a\",\"data\",\"plot data\",[\"x\", \"y0\"],[[0.0, 6.212890625], [8.0, 9.0]],\"toyplot\");\n",
       "(function(tables, context_menu, io, owner_id, key, label, names, columns, filename)\n",
       "        {\n",
       "            tables.set(owner_id, key, names, columns);\n",
       "\n",
       "            var owner = document.querySelector(\"#\" + owner_id);\n",
       "            function show_item(e)\n",
       "            {\n",
       "                return owner.contains(e.target);\n",
       "            }\n",
       "\n",
       "            function choose_item()\n",
       "            {\n",
       "                io.save_file(\"text/csv\", \"utf-8\", tables.get_csv(owner_id, key), filename + \".csv\");\n",
       "            }\n",
       "\n",
       "            context_menu.add_item(\"Save \" + label + \" as CSV\", show_item, choose_item);\n",
       "        })(modules[\"toyplot/tables\"],modules[\"toyplot/menus/context\"],modules[\"toyplot/io\"],\"t0fe5118b757f46aca88f7ed28affb8ff\",\"data\",\"plot data\",[\"x\", \"y0\"],[[1.0, 1.5], [4.0, 5.0]],\"toyplot\");\n",
       "(function(tables, context_menu, io, owner_id, key, label, names, columns, filename)\n",
       "        {\n",
       "            tables.set(owner_id, key, names, columns);\n",
       "\n",
       "            var owner = document.querySelector(\"#\" + owner_id);\n",
       "            function show_item(e)\n",
       "            {\n",
       "                return owner.contains(e.target);\n",
       "            }\n",
       "\n",
       "            function choose_item()\n",
       "            {\n",
       "                io.save_file(\"text/csv\", \"utf-8\", tables.get_csv(owner_id, key), filename + \".csv\");\n",
       "            }\n",
       "\n",
       "            context_menu.add_item(\"Save \" + label + \" as CSV\", show_item, choose_item);\n",
       "        })(modules[\"toyplot/tables\"],modules[\"toyplot/menus/context\"],modules[\"toyplot/io\"],\"t8ae45a18587643cdb9c3a69ac206c835\",\"data\",\"plot data\",[\"x\", \"y0\"],[[2.0, 1.5], [4.0, 5.0]],\"toyplot\");\n",
       "(function(tables, context_menu, io, owner_id, key, label, names, columns, filename)\n",
       "        {\n",
       "            tables.set(owner_id, key, names, columns);\n",
       "\n",
       "            var owner = document.querySelector(\"#\" + owner_id);\n",
       "            function show_item(e)\n",
       "            {\n",
       "                return owner.contains(e.target);\n",
       "            }\n",
       "\n",
       "            function choose_item()\n",
       "            {\n",
       "                io.save_file(\"text/csv\", \"utf-8\", tables.get_csv(owner_id, key), filename + \".csv\");\n",
       "            }\n",
       "\n",
       "            context_menu.add_item(\"Save \" + label + \" as CSV\", show_item, choose_item);\n",
       "        })(modules[\"toyplot/tables\"],modules[\"toyplot/menus/context\"],modules[\"toyplot/io\"],\"taaceda8edf584fd3b4d3f96a8c62ffa5\",\"data\",\"plot data\",[\"x\", \"y0\"],[[3.0, 3.75], [4.0, 5.0]],\"toyplot\");\n",
       "(function(tables, context_menu, io, owner_id, key, label, names, columns, filename)\n",
       "        {\n",
       "            tables.set(owner_id, key, names, columns);\n",
       "\n",
       "            var owner = document.querySelector(\"#\" + owner_id);\n",
       "            function show_item(e)\n",
       "            {\n",
       "                return owner.contains(e.target);\n",
       "            }\n",
       "\n",
       "            function choose_item()\n",
       "            {\n",
       "                io.save_file(\"text/csv\", \"utf-8\", tables.get_csv(owner_id, key), filename + \".csv\");\n",
       "            }\n",
       "\n",
       "            context_menu.add_item(\"Save \" + label + \" as CSV\", show_item, choose_item);\n",
       "        })(modules[\"toyplot/tables\"],modules[\"toyplot/menus/context\"],modules[\"toyplot/io\"],\"t7bac80d2e51d48cf9c7156e9223b0e0d\",\"data\",\"plot data\",[\"x\", \"y0\"],[[4.0, 4.5], [3.0, 4.0]],\"toyplot\");\n",
       "(function(tables, context_menu, io, owner_id, key, label, names, columns, filename)\n",
       "        {\n",
       "            tables.set(owner_id, key, names, columns);\n",
       "\n",
       "            var owner = document.querySelector(\"#\" + owner_id);\n",
       "            function show_item(e)\n",
       "            {\n",
       "                return owner.contains(e.target);\n",
       "            }\n",
       "\n",
       "            function choose_item()\n",
       "            {\n",
       "                io.save_file(\"text/csv\", \"utf-8\", tables.get_csv(owner_id, key), filename + \".csv\");\n",
       "            }\n",
       "\n",
       "            context_menu.add_item(\"Save \" + label + \" as CSV\", show_item, choose_item);\n",
       "        })(modules[\"toyplot/tables\"],modules[\"toyplot/menus/context\"],modules[\"toyplot/io\"],\"t4ed9b492f1ca4945a8fca798942a8d7e\",\"data\",\"plot data\",[\"x\", \"y0\"],[[5.0, 4.5], [3.0, 4.0]],\"toyplot\");\n",
       "(function(tables, context_menu, io, owner_id, key, label, names, columns, filename)\n",
       "        {\n",
       "            tables.set(owner_id, key, names, columns);\n",
       "\n",
       "            var owner = document.querySelector(\"#\" + owner_id);\n",
       "            function show_item(e)\n",
       "            {\n",
       "                return owner.contains(e.target);\n",
       "            }\n",
       "\n",
       "            function choose_item()\n",
       "            {\n",
       "                io.save_file(\"text/csv\", \"utf-8\", tables.get_csv(owner_id, key), filename + \".csv\");\n",
       "            }\n",
       "\n",
       "            context_menu.add_item(\"Save \" + label + \" as CSV\", show_item, choose_item);\n",
       "        })(modules[\"toyplot/tables\"],modules[\"toyplot/menus/context\"],modules[\"toyplot/io\"],\"t5b2de988be6e444ba8aae091ffb2a2f7\",\"data\",\"plot data\",[\"x\", \"y0\"],[[6.0, 9.078125], [5.0, 6.0]],\"toyplot\");\n",
       "(function(tables, context_menu, io, owner_id, key, label, names, columns, filename)\n",
       "        {\n",
       "            tables.set(owner_id, key, names, columns);\n",
       "\n",
       "            var owner = document.querySelector(\"#\" + owner_id);\n",
       "            function show_item(e)\n",
       "            {\n",
       "                return owner.contains(e.target);\n",
       "            }\n",
       "\n",
       "            function choose_item()\n",
       "            {\n",
       "                io.save_file(\"text/csv\", \"utf-8\", tables.get_csv(owner_id, key), filename + \".csv\");\n",
       "            }\n",
       "\n",
       "            context_menu.add_item(\"Save \" + label + \" as CSV\", show_item, choose_item);\n",
       "        })(modules[\"toyplot/tables\"],modules[\"toyplot/menus/context\"],modules[\"toyplot/io\"],\"t6c6e9b219c6741dc8dc358ea35e801b6\",\"data\",\"plot data\",[\"x\", \"y0\"],[[7.0, 7.5], [1.0, 2.0]],\"toyplot\");\n",
       "(function(tables, context_menu, io, owner_id, key, label, names, columns, filename)\n",
       "        {\n",
       "            tables.set(owner_id, key, names, columns);\n",
       "\n",
       "            var owner = document.querySelector(\"#\" + owner_id);\n",
       "            function show_item(e)\n",
       "            {\n",
       "                return owner.contains(e.target);\n",
       "            }\n",
       "\n",
       "            function choose_item()\n",
       "            {\n",
       "                io.save_file(\"text/csv\", \"utf-8\", tables.get_csv(owner_id, key), filename + \".csv\");\n",
       "            }\n",
       "\n",
       "            context_menu.add_item(\"Save \" + label + \" as CSV\", show_item, choose_item);\n",
       "        })(modules[\"toyplot/tables\"],modules[\"toyplot/menus/context\"],modules[\"toyplot/io\"],\"t8de466d1b8f44597ac95bebc85d0281a\",\"data\",\"plot data\",[\"x\", \"y0\"],[[8.0, 7.5], [1.0, 2.0]],\"toyplot\");\n",
       "(function(tables, context_menu, io, owner_id, key, label, names, columns, filename)\n",
       "        {\n",
       "            tables.set(owner_id, key, names, columns);\n",
       "\n",
       "            var owner = document.querySelector(\"#\" + owner_id);\n",
       "            function show_item(e)\n",
       "            {\n",
       "                return owner.contains(e.target);\n",
       "            }\n",
       "\n",
       "            function choose_item()\n",
       "            {\n",
       "                io.save_file(\"text/csv\", \"utf-8\", tables.get_csv(owner_id, key), filename + \".csv\");\n",
       "            }\n",
       "\n",
       "            context_menu.add_item(\"Save \" + label + \" as CSV\", show_item, choose_item);\n",
       "        })(modules[\"toyplot/tables\"],modules[\"toyplot/menus/context\"],modules[\"toyplot/io\"],\"t8e939b7c5994489c94d55c17045e55a7\",\"data\",\"plot data\",[\"x\", \"y0\"],[[9.0, 8.25], [2.0, 3.0]],\"toyplot\");\n",
       "(function(tables, context_menu, io, owner_id, key, label, names, columns, filename)\n",
       "        {\n",
       "            tables.set(owner_id, key, names, columns);\n",
       "\n",
       "            var owner = document.querySelector(\"#\" + owner_id);\n",
       "            function show_item(e)\n",
       "            {\n",
       "                return owner.contains(e.target);\n",
       "            }\n",
       "\n",
       "            function choose_item()\n",
       "            {\n",
       "                io.save_file(\"text/csv\", \"utf-8\", tables.get_csv(owner_id, key), filename + \".csv\");\n",
       "            }\n",
       "\n",
       "            context_menu.add_item(\"Save \" + label + \" as CSV\", show_item, choose_item);\n",
       "        })(modules[\"toyplot/tables\"],modules[\"toyplot/menus/context\"],modules[\"toyplot/io\"],\"t90918ce314634713a21fb277f760343c\",\"data\",\"plot data\",[\"x\", \"y0\"],[[10.0, 10.5], [1.0, 2.0]],\"toyplot\");\n",
       "(function(tables, context_menu, io, owner_id, key, label, names, columns, filename)\n",
       "        {\n",
       "            tables.set(owner_id, key, names, columns);\n",
       "\n",
       "            var owner = document.querySelector(\"#\" + owner_id);\n",
       "            function show_item(e)\n",
       "            {\n",
       "                return owner.contains(e.target);\n",
       "            }\n",
       "\n",
       "            function choose_item()\n",
       "            {\n",
       "                io.save_file(\"text/csv\", \"utf-8\", tables.get_csv(owner_id, key), filename + \".csv\");\n",
       "            }\n",
       "\n",
       "            context_menu.add_item(\"Save \" + label + \" as CSV\", show_item, choose_item);\n",
       "        })(modules[\"toyplot/tables\"],modules[\"toyplot/menus/context\"],modules[\"toyplot/io\"],\"t655d2ebd703e42bbbb1e7cc0aebf80aa\",\"data\",\"plot data\",[\"x\", \"y0\"],[[11.0, 10.5], [1.0, 2.0]],\"toyplot\");\n",
       "(function(tables, context_menu, io, owner_id, key, label, names, columns, filename)\n",
       "        {\n",
       "            tables.set(owner_id, key, names, columns);\n",
       "\n",
       "            var owner = document.querySelector(\"#\" + owner_id);\n",
       "            function show_item(e)\n",
       "            {\n",
       "                return owner.contains(e.target);\n",
       "            }\n",
       "\n",
       "            function choose_item()\n",
       "            {\n",
       "                io.save_file(\"text/csv\", \"utf-8\", tables.get_csv(owner_id, key), filename + \".csv\");\n",
       "            }\n",
       "\n",
       "            context_menu.add_item(\"Save \" + label + \" as CSV\", show_item, choose_item);\n",
       "        })(modules[\"toyplot/tables\"],modules[\"toyplot/menus/context\"],modules[\"toyplot/io\"],\"td6c09ec82cc445ff8193a7e4cce77583\",\"data\",\"plot data\",[\"x\", \"y0\"],[[12.0, 11.25], [2.0, 3.0]],\"toyplot\");\n",
       "(function(tables, context_menu, io, owner_id, key, label, names, columns, filename)\n",
       "        {\n",
       "            tables.set(owner_id, key, names, columns);\n",
       "\n",
       "            var owner = document.querySelector(\"#\" + owner_id);\n",
       "            function show_item(e)\n",
       "            {\n",
       "                return owner.contains(e.target);\n",
       "            }\n",
       "\n",
       "            function choose_item()\n",
       "            {\n",
       "                io.save_file(\"text/csv\", \"utf-8\", tables.get_csv(owner_id, key), filename + \".csv\");\n",
       "            }\n",
       "\n",
       "            context_menu.add_item(\"Save \" + label + \" as CSV\", show_item, choose_item);\n",
       "        })(modules[\"toyplot/tables\"],modules[\"toyplot/menus/context\"],modules[\"toyplot/io\"],\"t019d6aa4f3384f2a8f40fe2bace02a48\",\"data\",\"plot data\",[\"x\", \"y0\"],[[13.0, 14.5625], [3.0, 4.0]],\"toyplot\");\n",
       "(function(tables, context_menu, io, owner_id, key, label, names, columns, filename)\n",
       "        {\n",
       "            tables.set(owner_id, key, names, columns);\n",
       "\n",
       "            var owner = document.querySelector(\"#\" + owner_id);\n",
       "            function show_item(e)\n",
       "            {\n",
       "                return owner.contains(e.target);\n",
       "            }\n",
       "\n",
       "            function choose_item()\n",
       "            {\n",
       "                io.save_file(\"text/csv\", \"utf-8\", tables.get_csv(owner_id, key), filename + \".csv\");\n",
       "            }\n",
       "\n",
       "            context_menu.add_item(\"Save \" + label + \" as CSV\", show_item, choose_item);\n",
       "        })(modules[\"toyplot/tables\"],modules[\"toyplot/menus/context\"],modules[\"toyplot/io\"],\"t37e1e5fd9914461f929c6abd0f13c4d3\",\"data\",\"plot data\",[\"x\", \"y0\"],[[14.0, 14.75], [1.0, 2.0]],\"toyplot\");\n",
       "(function(tables, context_menu, io, owner_id, key, label, names, columns, filename)\n",
       "        {\n",
       "            tables.set(owner_id, key, names, columns);\n",
       "\n",
       "            var owner = document.querySelector(\"#\" + owner_id);\n",
       "            function show_item(e)\n",
       "            {\n",
       "                return owner.contains(e.target);\n",
       "            }\n",
       "\n",
       "            function choose_item()\n",
       "            {\n",
       "                io.save_file(\"text/csv\", \"utf-8\", tables.get_csv(owner_id, key), filename + \".csv\");\n",
       "            }\n",
       "\n",
       "            context_menu.add_item(\"Save \" + label + \" as CSV\", show_item, choose_item);\n",
       "        })(modules[\"toyplot/tables\"],modules[\"toyplot/menus/context\"],modules[\"toyplot/io\"],\"tc1f1ff1a72e940b184aa1b1e2f1627f9\",\"data\",\"plot data\",[\"x\", \"y0\"],[[15.0, 15.5], [0.0, 1.0]],\"toyplot\");\n",
       "(function(tables, context_menu, io, owner_id, key, label, names, columns, filename)\n",
       "        {\n",
       "            tables.set(owner_id, key, names, columns);\n",
       "\n",
       "            var owner = document.querySelector(\"#\" + owner_id);\n",
       "            function show_item(e)\n",
       "            {\n",
       "                return owner.contains(e.target);\n",
       "            }\n",
       "\n",
       "            function choose_item()\n",
       "            {\n",
       "                io.save_file(\"text/csv\", \"utf-8\", tables.get_csv(owner_id, key), filename + \".csv\");\n",
       "            }\n",
       "\n",
       "            context_menu.add_item(\"Save \" + label + \" as CSV\", show_item, choose_item);\n",
       "        })(modules[\"toyplot/tables\"],modules[\"toyplot/menus/context\"],modules[\"toyplot/io\"],\"t2a2cbe1121e74bcf96956cd515fdcedd\",\"data\",\"plot data\",[\"x\", \"y0\"],[[16.0, 15.5], [0.0, 1.0]],\"toyplot\");\n",
       "(function(tables, context_menu, io, owner_id, key, label, names, columns, filename)\n",
       "        {\n",
       "            tables.set(owner_id, key, names, columns);\n",
       "\n",
       "            var owner = document.querySelector(\"#\" + owner_id);\n",
       "            function show_item(e)\n",
       "            {\n",
       "                return owner.contains(e.target);\n",
       "            }\n",
       "\n",
       "            function choose_item()\n",
       "            {\n",
       "                io.save_file(\"text/csv\", \"utf-8\", tables.get_csv(owner_id, key), filename + \".csv\");\n",
       "            }\n",
       "\n",
       "            context_menu.add_item(\"Save \" + label + \" as CSV\", show_item, choose_item);\n",
       "        })(modules[\"toyplot/tables\"],modules[\"toyplot/menus/context\"],modules[\"toyplot/io\"],\"t65d43d0bafc345e9999b95ba9da8ad9f\",\"data\",\"plot data\",[\"x\", \"y0\"],[[17.0, 17.5], [1.0, 2.0]],\"toyplot\");\n",
       "(function(tables, context_menu, io, owner_id, key, label, names, columns, filename)\n",
       "        {\n",
       "            tables.set(owner_id, key, names, columns);\n",
       "\n",
       "            var owner = document.querySelector(\"#\" + owner_id);\n",
       "            function show_item(e)\n",
       "            {\n",
       "                return owner.contains(e.target);\n",
       "            }\n",
       "\n",
       "            function choose_item()\n",
       "            {\n",
       "                io.save_file(\"text/csv\", \"utf-8\", tables.get_csv(owner_id, key), filename + \".csv\");\n",
       "            }\n",
       "\n",
       "            context_menu.add_item(\"Save \" + label + \" as CSV\", show_item, choose_item);\n",
       "        })(modules[\"toyplot/tables\"],modules[\"toyplot/menus/context\"],modules[\"toyplot/io\"],\"t6e8ac185bc26480ca32240415d9fb101\",\"data\",\"plot data\",[\"x\", \"y0\"],[[18.0, 17.5], [1.0, 2.0]],\"toyplot\");\n",
       "(function(tables, context_menu, io, owner_id, key, label, names, columns, filename)\n",
       "        {\n",
       "            tables.set(owner_id, key, names, columns);\n",
       "\n",
       "            var owner = document.querySelector(\"#\" + owner_id);\n",
       "            function show_item(e)\n",
       "            {\n",
       "                return owner.contains(e.target);\n",
       "            }\n",
       "\n",
       "            function choose_item()\n",
       "            {\n",
       "                io.save_file(\"text/csv\", \"utf-8\", tables.get_csv(owner_id, key), filename + \".csv\");\n",
       "            }\n",
       "\n",
       "            context_menu.add_item(\"Save \" + label + \" as CSV\", show_item, choose_item);\n",
       "        })(modules[\"toyplot/tables\"],modules[\"toyplot/menus/context\"],modules[\"toyplot/io\"],\"t8e22760a19b64058b564aff806d10d49\",\"data\",\"plot data\",[\"x\", \"y0\"],[[19.0, 12.42578125], [7.0, 8.0]],\"toyplot\");\n",
       "(function(tables, context_menu, io, owner_id, key, label, names, columns, filename)\n",
       "        {\n",
       "            tables.set(owner_id, key, names, columns);\n",
       "\n",
       "            var owner = document.querySelector(\"#\" + owner_id);\n",
       "            function show_item(e)\n",
       "            {\n",
       "                return owner.contains(e.target);\n",
       "            }\n",
       "\n",
       "            function choose_item()\n",
       "            {\n",
       "                io.save_file(\"text/csv\", \"utf-8\", tables.get_csv(owner_id, key), filename + \".csv\");\n",
       "            }\n",
       "\n",
       "            context_menu.add_item(\"Save \" + label + \" as CSV\", show_item, choose_item);\n",
       "        })(modules[\"toyplot/tables\"],modules[\"toyplot/menus/context\"],modules[\"toyplot/io\"],\"ta1354eaeeb344fd39604f173ceee8b66\",\"data\",\"plot data\",[\"x\", \"y0\"],[[1.5, 2.625], [5.0, 6.0]],\"toyplot\");\n",
       "(function(tables, context_menu, io, owner_id, key, label, names, columns, filename)\n",
       "        {\n",
       "            tables.set(owner_id, key, names, columns);\n",
       "\n",
       "            var owner = document.querySelector(\"#\" + owner_id);\n",
       "            function show_item(e)\n",
       "            {\n",
       "                return owner.contains(e.target);\n",
       "            }\n",
       "\n",
       "            function choose_item()\n",
       "            {\n",
       "                io.save_file(\"text/csv\", \"utf-8\", tables.get_csv(owner_id, key), filename + \".csv\");\n",
       "            }\n",
       "\n",
       "            context_menu.add_item(\"Save \" + label + \" as CSV\", show_item, choose_item);\n",
       "        })(modules[\"toyplot/tables\"],modules[\"toyplot/menus/context\"],modules[\"toyplot/io\"],\"td19b5e587894454e87182f6d04ea53d3\",\"data\",\"plot data\",[\"x\", \"y0\"],[[4.5, 3.75], [4.0, 5.0]],\"toyplot\");\n",
       "(function(tables, context_menu, io, owner_id, key, label, names, columns, filename)\n",
       "        {\n",
       "            tables.set(owner_id, key, names, columns);\n",
       "\n",
       "            var owner = document.querySelector(\"#\" + owner_id);\n",
       "            function show_item(e)\n",
       "            {\n",
       "                return owner.contains(e.target);\n",
       "            }\n",
       "\n",
       "            function choose_item()\n",
       "            {\n",
       "                io.save_file(\"text/csv\", \"utf-8\", tables.get_csv(owner_id, key), filename + \".csv\");\n",
       "            }\n",
       "\n",
       "            context_menu.add_item(\"Save \" + label + \" as CSV\", show_item, choose_item);\n",
       "        })(modules[\"toyplot/tables\"],modules[\"toyplot/menus/context\"],modules[\"toyplot/io\"],\"t45d219f7509d4f25ae3d03de45249bac\",\"data\",\"plot data\",[\"x\", \"y0\"],[[3.75, 2.625], [5.0, 6.0]],\"toyplot\");\n",
       "(function(tables, context_menu, io, owner_id, key, label, names, columns, filename)\n",
       "        {\n",
       "            tables.set(owner_id, key, names, columns);\n",
       "\n",
       "            var owner = document.querySelector(\"#\" + owner_id);\n",
       "            function show_item(e)\n",
       "            {\n",
       "                return owner.contains(e.target);\n",
       "            }\n",
       "\n",
       "            function choose_item()\n",
       "            {\n",
       "                io.save_file(\"text/csv\", \"utf-8\", tables.get_csv(owner_id, key), filename + \".csv\");\n",
       "            }\n",
       "\n",
       "            context_menu.add_item(\"Save \" + label + \" as CSV\", show_item, choose_item);\n",
       "        })(modules[\"toyplot/tables\"],modules[\"toyplot/menus/context\"],modules[\"toyplot/io\"],\"tfd08336871f04b148140712a0dc3882c\",\"data\",\"plot data\",[\"x\", \"y0\"],[[2.625, 5.8515625], [6.0, 7.0]],\"toyplot\");\n",
       "(function(tables, context_menu, io, owner_id, key, label, names, columns, filename)\n",
       "        {\n",
       "            tables.set(owner_id, key, names, columns);\n",
       "\n",
       "            var owner = document.querySelector(\"#\" + owner_id);\n",
       "            function show_item(e)\n",
       "            {\n",
       "                return owner.contains(e.target);\n",
       "            }\n",
       "\n",
       "            function choose_item()\n",
       "            {\n",
       "                io.save_file(\"text/csv\", \"utf-8\", tables.get_csv(owner_id, key), filename + \".csv\");\n",
       "            }\n",
       "\n",
       "            context_menu.add_item(\"Save \" + label + \" as CSV\", show_item, choose_item);\n",
       "        })(modules[\"toyplot/tables\"],modules[\"toyplot/menus/context\"],modules[\"toyplot/io\"],\"te82901490bea46eb9f979757a86ea551\",\"data\",\"plot data\",[\"x\", \"y0\"],[[7.5, 8.25], [2.0, 3.0]],\"toyplot\");\n",
       "(function(tables, context_menu, io, owner_id, key, label, names, columns, filename)\n",
       "        {\n",
       "            tables.set(owner_id, key, names, columns);\n",
       "\n",
       "            var owner = document.querySelector(\"#\" + owner_id);\n",
       "            function show_item(e)\n",
       "            {\n",
       "                return owner.contains(e.target);\n",
       "            }\n",
       "\n",
       "            function choose_item()\n",
       "            {\n",
       "                io.save_file(\"text/csv\", \"utf-8\", tables.get_csv(owner_id, key), filename + \".csv\");\n",
       "            }\n",
       "\n",
       "            context_menu.add_item(\"Save \" + label + \" as CSV\", show_item, choose_item);\n",
       "        })(modules[\"toyplot/tables\"],modules[\"toyplot/menus/context\"],modules[\"toyplot/io\"],\"t1bf8c41991fb4914817f3de7c74a8820\",\"data\",\"plot data\",[\"x\", \"y0\"],[[8.25, 9.75], [3.0, 4.0]],\"toyplot\");\n",
       "(function(tables, context_menu, io, owner_id, key, label, names, columns, filename)\n",
       "        {\n",
       "            tables.set(owner_id, key, names, columns);\n",
       "\n",
       "            var owner = document.querySelector(\"#\" + owner_id);\n",
       "            function show_item(e)\n",
       "            {\n",
       "                return owner.contains(e.target);\n",
       "            }\n",
       "\n",
       "            function choose_item()\n",
       "            {\n",
       "                io.save_file(\"text/csv\", \"utf-8\", tables.get_csv(owner_id, key), filename + \".csv\");\n",
       "            }\n",
       "\n",
       "            context_menu.add_item(\"Save \" + label + \" as CSV\", show_item, choose_item);\n",
       "        })(modules[\"toyplot/tables\"],modules[\"toyplot/menus/context\"],modules[\"toyplot/io\"],\"t1da81cd36f9b475d85c8cce5572b0a05\",\"data\",\"plot data\",[\"x\", \"y0\"],[[10.5, 11.25], [2.0, 3.0]],\"toyplot\");\n",
       "(function(tables, context_menu, io, owner_id, key, label, names, columns, filename)\n",
       "        {\n",
       "            tables.set(owner_id, key, names, columns);\n",
       "\n",
       "            var owner = document.querySelector(\"#\" + owner_id);\n",
       "            function show_item(e)\n",
       "            {\n",
       "                return owner.contains(e.target);\n",
       "            }\n",
       "\n",
       "            function choose_item()\n",
       "            {\n",
       "                io.save_file(\"text/csv\", \"utf-8\", tables.get_csv(owner_id, key), filename + \".csv\");\n",
       "            }\n",
       "\n",
       "            context_menu.add_item(\"Save \" + label + \" as CSV\", show_item, choose_item);\n",
       "        })(modules[\"toyplot/tables\"],modules[\"toyplot/menus/context\"],modules[\"toyplot/io\"],\"tb2ebc099cbe24911bb879413f24fe46c\",\"data\",\"plot data\",[\"x\", \"y0\"],[[11.25, 9.75], [3.0, 4.0]],\"toyplot\");\n",
       "(function(tables, context_menu, io, owner_id, key, label, names, columns, filename)\n",
       "        {\n",
       "            tables.set(owner_id, key, names, columns);\n",
       "\n",
       "            var owner = document.querySelector(\"#\" + owner_id);\n",
       "            function show_item(e)\n",
       "            {\n",
       "                return owner.contains(e.target);\n",
       "            }\n",
       "\n",
       "            function choose_item()\n",
       "            {\n",
       "                io.save_file(\"text/csv\", \"utf-8\", tables.get_csv(owner_id, key), filename + \".csv\");\n",
       "            }\n",
       "\n",
       "            context_menu.add_item(\"Save \" + label + \" as CSV\", show_item, choose_item);\n",
       "        })(modules[\"toyplot/tables\"],modules[\"toyplot/menus/context\"],modules[\"toyplot/io\"],\"t739b15530d8b4b709c789a3f314a84d8\",\"data\",\"plot data\",[\"x\", \"y0\"],[[9.75, 12.15625], [4.0, 5.0]],\"toyplot\");\n",
       "(function(tables, context_menu, io, owner_id, key, label, names, columns, filename)\n",
       "        {\n",
       "            tables.set(owner_id, key, names, columns);\n",
       "\n",
       "            var owner = document.querySelector(\"#\" + owner_id);\n",
       "            function show_item(e)\n",
       "            {\n",
       "                return owner.contains(e.target);\n",
       "            }\n",
       "\n",
       "            function choose_item()\n",
       "            {\n",
       "                io.save_file(\"text/csv\", \"utf-8\", tables.get_csv(owner_id, key), filename + \".csv\");\n",
       "            }\n",
       "\n",
       "            context_menu.add_item(\"Save \" + label + \" as CSV\", show_item, choose_item);\n",
       "        })(modules[\"toyplot/tables\"],modules[\"toyplot/menus/context\"],modules[\"toyplot/io\"],\"t3ca8d088089c433a90fa6825a13bb4fe\",\"data\",\"plot data\",[\"x\", \"y0\"],[[15.5, 14.75], [1.0, 2.0]],\"toyplot\");\n",
       "(function(tables, context_menu, io, owner_id, key, label, names, columns, filename)\n",
       "        {\n",
       "            tables.set(owner_id, key, names, columns);\n",
       "\n",
       "            var owner = document.querySelector(\"#\" + owner_id);\n",
       "            function show_item(e)\n",
       "            {\n",
       "                return owner.contains(e.target);\n",
       "            }\n",
       "\n",
       "            function choose_item()\n",
       "            {\n",
       "                io.save_file(\"text/csv\", \"utf-8\", tables.get_csv(owner_id, key), filename + \".csv\");\n",
       "            }\n",
       "\n",
       "            context_menu.add_item(\"Save \" + label + \" as CSV\", show_item, choose_item);\n",
       "        })(modules[\"toyplot/tables\"],modules[\"toyplot/menus/context\"],modules[\"toyplot/io\"],\"te5901e1451824a51a0d00dbcc19a53e0\",\"data\",\"plot data\",[\"x\", \"y0\"],[[14.75, 16.125], [2.0, 3.0]],\"toyplot\");\n",
       "(function(tables, context_menu, io, owner_id, key, label, names, columns, filename)\n",
       "        {\n",
       "            tables.set(owner_id, key, names, columns);\n",
       "\n",
       "            var owner = document.querySelector(\"#\" + owner_id);\n",
       "            function show_item(e)\n",
       "            {\n",
       "                return owner.contains(e.target);\n",
       "            }\n",
       "\n",
       "            function choose_item()\n",
       "            {\n",
       "                io.save_file(\"text/csv\", \"utf-8\", tables.get_csv(owner_id, key), filename + \".csv\");\n",
       "            }\n",
       "\n",
       "            context_menu.add_item(\"Save \" + label + \" as CSV\", show_item, choose_item);\n",
       "        })(modules[\"toyplot/tables\"],modules[\"toyplot/menus/context\"],modules[\"toyplot/io\"],\"tea49ae5937464bf6b716761f659ba86e\",\"data\",\"plot data\",[\"x\", \"y0\"],[[17.5, 16.125], [2.0, 3.0]],\"toyplot\");\n",
       "(function(tables, context_menu, io, owner_id, key, label, names, columns, filename)\n",
       "        {\n",
       "            tables.set(owner_id, key, names, columns);\n",
       "\n",
       "            var owner = document.querySelector(\"#\" + owner_id);\n",
       "            function show_item(e)\n",
       "            {\n",
       "                return owner.contains(e.target);\n",
       "            }\n",
       "\n",
       "            function choose_item()\n",
       "            {\n",
       "                io.save_file(\"text/csv\", \"utf-8\", tables.get_csv(owner_id, key), filename + \".csv\");\n",
       "            }\n",
       "\n",
       "            context_menu.add_item(\"Save \" + label + \" as CSV\", show_item, choose_item);\n",
       "        })(modules[\"toyplot/tables\"],modules[\"toyplot/menus/context\"],modules[\"toyplot/io\"],\"t31488938fa254fc2af081c573b8cf79c\",\"data\",\"plot data\",[\"x\", \"y0\"],[[16.125, 14.5625], [3.0, 4.0]],\"toyplot\");\n",
       "(function(tables, context_menu, io, owner_id, key, label, names, columns, filename)\n",
       "        {\n",
       "            tables.set(owner_id, key, names, columns);\n",
       "\n",
       "            var owner = document.querySelector(\"#\" + owner_id);\n",
       "            function show_item(e)\n",
       "            {\n",
       "                return owner.contains(e.target);\n",
       "            }\n",
       "\n",
       "            function choose_item()\n",
       "            {\n",
       "                io.save_file(\"text/csv\", \"utf-8\", tables.get_csv(owner_id, key), filename + \".csv\");\n",
       "            }\n",
       "\n",
       "            context_menu.add_item(\"Save \" + label + \" as CSV\", show_item, choose_item);\n",
       "        })(modules[\"toyplot/tables\"],modules[\"toyplot/menus/context\"],modules[\"toyplot/io\"],\"t92c93af5836546f3a9af4795bad7d7ba\",\"data\",\"plot data\",[\"x\", \"y0\"],[[14.5625, 12.15625], [4.0, 5.0]],\"toyplot\");\n",
       "(function(tables, context_menu, io, owner_id, key, label, names, columns, filename)\n",
       "        {\n",
       "            tables.set(owner_id, key, names, columns);\n",
       "\n",
       "            var owner = document.querySelector(\"#\" + owner_id);\n",
       "            function show_item(e)\n",
       "            {\n",
       "                return owner.contains(e.target);\n",
       "            }\n",
       "\n",
       "            function choose_item()\n",
       "            {\n",
       "                io.save_file(\"text/csv\", \"utf-8\", tables.get_csv(owner_id, key), filename + \".csv\");\n",
       "            }\n",
       "\n",
       "            context_menu.add_item(\"Save \" + label + \" as CSV\", show_item, choose_item);\n",
       "        })(modules[\"toyplot/tables\"],modules[\"toyplot/menus/context\"],modules[\"toyplot/io\"],\"t75bb827c5c4e4802a09920d944085e3c\",\"data\",\"plot data\",[\"x\", \"y0\"],[[12.15625, 9.078125], [5.0, 6.0]],\"toyplot\");\n",
       "(function(tables, context_menu, io, owner_id, key, label, names, columns, filename)\n",
       "        {\n",
       "            tables.set(owner_id, key, names, columns);\n",
       "\n",
       "            var owner = document.querySelector(\"#\" + owner_id);\n",
       "            function show_item(e)\n",
       "            {\n",
       "                return owner.contains(e.target);\n",
       "            }\n",
       "\n",
       "            function choose_item()\n",
       "            {\n",
       "                io.save_file(\"text/csv\", \"utf-8\", tables.get_csv(owner_id, key), filename + \".csv\");\n",
       "            }\n",
       "\n",
       "            context_menu.add_item(\"Save \" + label + \" as CSV\", show_item, choose_item);\n",
       "        })(modules[\"toyplot/tables\"],modules[\"toyplot/menus/context\"],modules[\"toyplot/io\"],\"tad4e6f7c6fd84d6486babeed336d542a\",\"data\",\"plot data\",[\"x\", \"y0\"],[[9.078125, 5.8515625], [6.0, 7.0]],\"toyplot\");\n",
       "(function(tables, context_menu, io, owner_id, key, label, names, columns, filename)\n",
       "        {\n",
       "            tables.set(owner_id, key, names, columns);\n",
       "\n",
       "            var owner = document.querySelector(\"#\" + owner_id);\n",
       "            function show_item(e)\n",
       "            {\n",
       "                return owner.contains(e.target);\n",
       "            }\n",
       "\n",
       "            function choose_item()\n",
       "            {\n",
       "                io.save_file(\"text/csv\", \"utf-8\", tables.get_csv(owner_id, key), filename + \".csv\");\n",
       "            }\n",
       "\n",
       "            context_menu.add_item(\"Save \" + label + \" as CSV\", show_item, choose_item);\n",
       "        })(modules[\"toyplot/tables\"],modules[\"toyplot/menus/context\"],modules[\"toyplot/io\"],\"t631571978bf24e9392f2646e540be6b6\",\"data\",\"plot data\",[\"x\", \"y0\"],[[5.8515625, 12.42578125], [7.0, 8.0]],\"toyplot\");\n",
       "(function(tables, context_menu, io, owner_id, key, label, names, columns, filename)\n",
       "        {\n",
       "            tables.set(owner_id, key, names, columns);\n",
       "\n",
       "            var owner = document.querySelector(\"#\" + owner_id);\n",
       "            function show_item(e)\n",
       "            {\n",
       "                return owner.contains(e.target);\n",
       "            }\n",
       "\n",
       "            function choose_item()\n",
       "            {\n",
       "                io.save_file(\"text/csv\", \"utf-8\", tables.get_csv(owner_id, key), filename + \".csv\");\n",
       "            }\n",
       "\n",
       "            context_menu.add_item(\"Save \" + label + \" as CSV\", show_item, choose_item);\n",
       "        })(modules[\"toyplot/tables\"],modules[\"toyplot/menus/context\"],modules[\"toyplot/io\"],\"t4169273ab250437297c4bb45bfcbc2a6\",\"data\",\"plot data\",[\"x\", \"y0\"],[[12.42578125, 6.212890625], [8.0, 9.0]],\"toyplot\");\n",
       "(function(tables, context_menu, io, owner_id, key, label, names, columns, filename)\n",
       "        {\n",
       "            tables.set(owner_id, key, names, columns);\n",
       "\n",
       "            var owner = document.querySelector(\"#\" + owner_id);\n",
       "            function show_item(e)\n",
       "            {\n",
       "                return owner.contains(e.target);\n",
       "            }\n",
       "\n",
       "            function choose_item()\n",
       "            {\n",
       "                io.save_file(\"text/csv\", \"utf-8\", tables.get_csv(owner_id, key), filename + \".csv\");\n",
       "            }\n",
       "\n",
       "            context_menu.add_item(\"Save \" + label + \" as CSV\", show_item, choose_item);\n",
       "        })(modules[\"toyplot/tables\"],modules[\"toyplot/menus/context\"],modules[\"toyplot/io\"],\"tff0d002c6e0f443cacaa4742d3e6e4a0\",\"data\",\"point\",[\"x\", \"y0\"],[[0.0, 1.0, 2.0, 3.0, 4.0, 5.0, 6.0, 7.0, 8.0, 9.0, 10.0, 11.0, 12.0, 13.0, 14.0, 15.0, 16.0, 17.0, 18.0, 19.0, 1.5, 4.5, 3.75, 2.625, 7.5, 8.25, 10.5, 11.25, 9.75, 15.5, 14.75, 17.5, 16.125, 14.5625, 12.15625, 9.078125, 5.8515625, 12.42578125, 6.212890625], [8.0, 4.0, 4.0, 4.0, 3.0, 3.0, 5.0, 1.0, 1.0, 2.0, 1.0, 1.0, 2.0, 3.0, 1.0, 0.0, 0.0, 1.0, 1.0, 7.0, 5.0, 4.0, 5.0, 6.0, 2.0, 3.0, 2.0, 3.0, 4.0, 1.0, 2.0, 2.0, 3.0, 4.0, 5.0, 6.0, 7.0, 8.0, 9.0]],\"toyplot\");\n",
       "(function(axis, axis_id, projection)\n",
       "        {\n",
       "            axis.show_coordinates(axis_id, projection);\n",
       "        })(modules[\"toyplot.coordinates.Axis\"],\"teb20aea7d26f42fb9c7b5bf8d1c58ca6\",[{\"domain\": {\"bounds\": {\"max\": Infinity, \"min\": -Infinity}, \"max\": 20.0, \"min\": -0.1810971428571428}, \"range\": {\"bounds\": {\"max\": Infinity, \"min\": -Infinity}, \"max\": 350.0, \"min\": 0.0}, \"scale\": \"linear\"}]);\n",
       "(function(axis, axis_id, projection)\n",
       "        {\n",
       "            axis.show_coordinates(axis_id, projection);\n",
       "        })(modules[\"toyplot.coordinates.Axis\"],\"t4373957ebf2f49cc99502f665ce264d8\",[{\"domain\": {\"bounds\": {\"max\": Infinity, \"min\": -Infinity}, \"max\": 9.2592, \"min\": -0.2591999999999996}, \"range\": {\"bounds\": {\"max\": Infinity, \"min\": -Infinity}, \"max\": 250.0, \"min\": 0.0}, \"scale\": \"linear\"}]);\n",
       "})();</script></div></div>"
      ]
     },
     "metadata": {},
     "output_type": "display_data"
    }
   ],
   "source": [
    "import toyplot\n",
    "\n",
    "# create a Canvas and Axes\n",
    "canvas = toyplot.Canvas(width=450, height=350)\n",
    "axes = canvas.cartesian(label=\"toyplot drawing of Nodes and Edges\")\n",
    "\n",
    "# add edges lines\n",
    "for node in tree:\n",
    "    if node.up:\n",
    "        xpos = (coords.x[node.idx], coords.x[node.up.idx])\n",
    "        ypos = (coords.y[node.idx], coords.y[node.up.idx])\n",
    "        # e.g., (0, 1) -> (1, 2)\n",
    "        axes.plot(xpos, ypos, color=\"black\")\n",
    "        \n",
    "# add node circles\n",
    "axes.scatterplot(coords.x, coords.y, size=16)\n",
    "axes.text(coords.x, coords.y, range(tree.nnodes), color='black')\n",
    "\n",
    "# canvas will automatically display in jupyter"
   ]
  },
  {
   "cell_type": "code",
   "execution_count": 84,
   "id": "f49adf90",
   "metadata": {},
   "outputs": [
    {
     "data": {
      "text/html": [
       "<div class=\"toyplot\" id=\"t5bae493dbcb040ef8b4d6cc2c33742b0\" style=\"text-align:center\"><svg class=\"toyplot-canvas-Canvas\" xmlns:toyplot=\"http://www.sandia.gov/toyplot\" xmlns:xlink=\"http://www.w3.org/1999/xlink\" xmlns=\"http://www.w3.org/2000/svg\" width=\"350.0px\" height=\"350.0px\" viewBox=\"0 0 350.0 350.0\" preserveAspectRatio=\"xMidYMid meet\" style=\"background-color:transparent;border-color:#292724;border-style:none;border-width:1.0;fill:rgb(16.1%,15.3%,14.1%);fill-opacity:1.0;font-family:Helvetica;font-size:12px;opacity:1.0;stroke:rgb(16.1%,15.3%,14.1%);stroke-opacity:1.0;stroke-width:1.0\" id=\"t90d02f9454fc495d9f1e374c693e9e88\"><g class=\"toyplot-coordinates-Cartesian\" id=\"t89b9064605ab4326969e38b6cd794784\"><clipPath id=\"te424fe9da50c4ac5b4b13d3573da8e68\"><rect x=\"40.0\" y=\"40.0\" width=\"270.0\" height=\"270.0\"></rect></clipPath><g clip-path=\"url(#te424fe9da50c4ac5b4b13d3573da8e68)\"><g class=\"toyplot-mark-Point\" id=\"tb2cb76b7b8324dc48a43b9f64fc8ccaa\"><g class=\"toyplot-Series\"><g style=\"fill:rgb(40%,76.1%,64.7%);fill-opacity:1.0;opacity:1.0;stroke:rgb(40%,76.1%,64.7%);stroke-opacity:1.0\" class=\"toyplot-Datum\" transform=\"translate(50.0, 77.7777777777778)\"><circle r=\"2.0\"></circle></g><g style=\"fill:rgb(40%,76.1%,64.7%);fill-opacity:1.0;opacity:1.0;stroke:rgb(40%,76.1%,64.7%);stroke-opacity:1.0\" class=\"toyplot-Datum\" transform=\"translate(62.5, 188.8888888888889)\"><circle r=\"2.0\"></circle></g><g style=\"fill:rgb(40%,76.1%,64.7%);fill-opacity:1.0;opacity:1.0;stroke:rgb(40%,76.1%,64.7%);stroke-opacity:1.0\" class=\"toyplot-Datum\" transform=\"translate(75.0, 188.8888888888889)\"><circle r=\"2.0\"></circle></g><g style=\"fill:rgb(40%,76.1%,64.7%);fill-opacity:1.0;opacity:1.0;stroke:rgb(40%,76.1%,64.7%);stroke-opacity:1.0\" class=\"toyplot-Datum\" transform=\"translate(87.5, 188.8888888888889)\"><circle r=\"2.0\"></circle></g><g style=\"fill:rgb(40%,76.1%,64.7%);fill-opacity:1.0;opacity:1.0;stroke:rgb(40%,76.1%,64.7%);stroke-opacity:1.0\" class=\"toyplot-Datum\" transform=\"translate(100.0, 216.66666666666669)\"><circle r=\"2.0\"></circle></g><g style=\"fill:rgb(40%,76.1%,64.7%);fill-opacity:1.0;opacity:1.0;stroke:rgb(40%,76.1%,64.7%);stroke-opacity:1.0\" class=\"toyplot-Datum\" transform=\"translate(112.5, 216.66666666666669)\"><circle r=\"2.0\"></circle></g><g style=\"fill:rgb(40%,76.1%,64.7%);fill-opacity:1.0;opacity:1.0;stroke:rgb(40%,76.1%,64.7%);stroke-opacity:1.0\" class=\"toyplot-Datum\" transform=\"translate(125.0, 161.1111111111111)\"><circle r=\"2.0\"></circle></g><g style=\"fill:rgb(40%,76.1%,64.7%);fill-opacity:1.0;opacity:1.0;stroke:rgb(40%,76.1%,64.7%);stroke-opacity:1.0\" class=\"toyplot-Datum\" transform=\"translate(137.5, 272.2222222222222)\"><circle r=\"2.0\"></circle></g><g style=\"fill:rgb(40%,76.1%,64.7%);fill-opacity:1.0;opacity:1.0;stroke:rgb(40%,76.1%,64.7%);stroke-opacity:1.0\" class=\"toyplot-Datum\" transform=\"translate(150.0, 272.2222222222222)\"><circle r=\"2.0\"></circle></g><g style=\"fill:rgb(40%,76.1%,64.7%);fill-opacity:1.0;opacity:1.0;stroke:rgb(40%,76.1%,64.7%);stroke-opacity:1.0\" class=\"toyplot-Datum\" transform=\"translate(162.5, 244.44444444444446)\"><circle r=\"2.0\"></circle></g><g style=\"fill:rgb(40%,76.1%,64.7%);fill-opacity:1.0;opacity:1.0;stroke:rgb(40%,76.1%,64.7%);stroke-opacity:1.0\" class=\"toyplot-Datum\" transform=\"translate(175.0, 272.2222222222222)\"><circle r=\"2.0\"></circle></g><g style=\"fill:rgb(40%,76.1%,64.7%);fill-opacity:1.0;opacity:1.0;stroke:rgb(40%,76.1%,64.7%);stroke-opacity:1.0\" class=\"toyplot-Datum\" transform=\"translate(187.5, 272.2222222222222)\"><circle r=\"2.0\"></circle></g><g style=\"fill:rgb(40%,76.1%,64.7%);fill-opacity:1.0;opacity:1.0;stroke:rgb(40%,76.1%,64.7%);stroke-opacity:1.0\" class=\"toyplot-Datum\" transform=\"translate(200.0, 244.44444444444446)\"><circle r=\"2.0\"></circle></g><g style=\"fill:rgb(40%,76.1%,64.7%);fill-opacity:1.0;opacity:1.0;stroke:rgb(40%,76.1%,64.7%);stroke-opacity:1.0\" class=\"toyplot-Datum\" transform=\"translate(212.5, 216.66666666666669)\"><circle r=\"2.0\"></circle></g><g style=\"fill:rgb(40%,76.1%,64.7%);fill-opacity:1.0;opacity:1.0;stroke:rgb(40%,76.1%,64.7%);stroke-opacity:1.0\" class=\"toyplot-Datum\" transform=\"translate(225.0, 272.2222222222222)\"><circle r=\"2.0\"></circle></g><g style=\"fill:rgb(40%,76.1%,64.7%);fill-opacity:1.0;opacity:1.0;stroke:rgb(40%,76.1%,64.7%);stroke-opacity:1.0\" class=\"toyplot-Datum\" transform=\"translate(237.5, 300.0)\"><circle r=\"2.0\"></circle></g><g style=\"fill:rgb(40%,76.1%,64.7%);fill-opacity:1.0;opacity:1.0;stroke:rgb(40%,76.1%,64.7%);stroke-opacity:1.0\" class=\"toyplot-Datum\" transform=\"translate(250.0, 300.0)\"><circle r=\"2.0\"></circle></g><g style=\"fill:rgb(40%,76.1%,64.7%);fill-opacity:1.0;opacity:1.0;stroke:rgb(40%,76.1%,64.7%);stroke-opacity:1.0\" class=\"toyplot-Datum\" transform=\"translate(262.5, 272.2222222222222)\"><circle r=\"2.0\"></circle></g><g style=\"fill:rgb(40%,76.1%,64.7%);fill-opacity:1.0;opacity:1.0;stroke:rgb(40%,76.1%,64.7%);stroke-opacity:1.0\" class=\"toyplot-Datum\" transform=\"translate(275.0, 272.2222222222222)\"><circle r=\"2.0\"></circle></g><g style=\"fill:rgb(40%,76.1%,64.7%);fill-opacity:1.0;opacity:1.0;stroke:rgb(40%,76.1%,64.7%);stroke-opacity:1.0\" class=\"toyplot-Datum\" transform=\"translate(287.5, 105.55555555555554)\"><circle r=\"2.0\"></circle></g><g style=\"fill:rgb(40%,76.1%,64.7%);fill-opacity:1.0;opacity:1.0;stroke:rgb(40%,76.1%,64.7%);stroke-opacity:1.0\" class=\"toyplot-Datum\" transform=\"translate(68.75, 161.1111111111111)\"><circle r=\"2.0\"></circle></g><g style=\"fill:rgb(40%,76.1%,64.7%);fill-opacity:1.0;opacity:1.0;stroke:rgb(40%,76.1%,64.7%);stroke-opacity:1.0\" class=\"toyplot-Datum\" transform=\"translate(106.25, 188.8888888888889)\"><circle r=\"2.0\"></circle></g><g style=\"fill:rgb(40%,76.1%,64.7%);fill-opacity:1.0;opacity:1.0;stroke:rgb(40%,76.1%,64.7%);stroke-opacity:1.0\" class=\"toyplot-Datum\" transform=\"translate(96.875, 161.1111111111111)\"><circle r=\"2.0\"></circle></g><g style=\"fill:rgb(40%,76.1%,64.7%);fill-opacity:1.0;opacity:1.0;stroke:rgb(40%,76.1%,64.7%);stroke-opacity:1.0\" class=\"toyplot-Datum\" transform=\"translate(82.8125, 133.33333333333334)\"><circle r=\"2.0\"></circle></g><g style=\"fill:rgb(40%,76.1%,64.7%);fill-opacity:1.0;opacity:1.0;stroke:rgb(40%,76.1%,64.7%);stroke-opacity:1.0\" class=\"toyplot-Datum\" transform=\"translate(143.75, 244.44444444444446)\"><circle r=\"2.0\"></circle></g><g style=\"fill:rgb(40%,76.1%,64.7%);fill-opacity:1.0;opacity:1.0;stroke:rgb(40%,76.1%,64.7%);stroke-opacity:1.0\" class=\"toyplot-Datum\" transform=\"translate(153.125, 216.66666666666669)\"><circle r=\"2.0\"></circle></g><g style=\"fill:rgb(40%,76.1%,64.7%);fill-opacity:1.0;opacity:1.0;stroke:rgb(40%,76.1%,64.7%);stroke-opacity:1.0\" class=\"toyplot-Datum\" transform=\"translate(181.25, 244.44444444444446)\"><circle r=\"2.0\"></circle></g><g style=\"fill:rgb(40%,76.1%,64.7%);fill-opacity:1.0;opacity:1.0;stroke:rgb(40%,76.1%,64.7%);stroke-opacity:1.0\" class=\"toyplot-Datum\" transform=\"translate(190.625, 216.66666666666669)\"><circle r=\"2.0\"></circle></g><g style=\"fill:rgb(40%,76.1%,64.7%);fill-opacity:1.0;opacity:1.0;stroke:rgb(40%,76.1%,64.7%);stroke-opacity:1.0\" class=\"toyplot-Datum\" transform=\"translate(171.875, 188.8888888888889)\"><circle r=\"2.0\"></circle></g><g style=\"fill:rgb(40%,76.1%,64.7%);fill-opacity:1.0;opacity:1.0;stroke:rgb(40%,76.1%,64.7%);stroke-opacity:1.0\" class=\"toyplot-Datum\" transform=\"translate(243.75, 272.2222222222222)\"><circle r=\"2.0\"></circle></g><g style=\"fill:rgb(40%,76.1%,64.7%);fill-opacity:1.0;opacity:1.0;stroke:rgb(40%,76.1%,64.7%);stroke-opacity:1.0\" class=\"toyplot-Datum\" transform=\"translate(234.375, 244.44444444444446)\"><circle r=\"2.0\"></circle></g><g style=\"fill:rgb(40%,76.1%,64.7%);fill-opacity:1.0;opacity:1.0;stroke:rgb(40%,76.1%,64.7%);stroke-opacity:1.0\" class=\"toyplot-Datum\" transform=\"translate(268.75, 244.44444444444446)\"><circle r=\"2.0\"></circle></g><g style=\"fill:rgb(40%,76.1%,64.7%);fill-opacity:1.0;opacity:1.0;stroke:rgb(40%,76.1%,64.7%);stroke-opacity:1.0\" class=\"toyplot-Datum\" transform=\"translate(251.5625, 216.66666666666669)\"><circle r=\"2.0\"></circle></g><g style=\"fill:rgb(40%,76.1%,64.7%);fill-opacity:1.0;opacity:1.0;stroke:rgb(40%,76.1%,64.7%);stroke-opacity:1.0\" class=\"toyplot-Datum\" transform=\"translate(232.03125, 188.8888888888889)\"><circle r=\"2.0\"></circle></g><g style=\"fill:rgb(40%,76.1%,64.7%);fill-opacity:1.0;opacity:1.0;stroke:rgb(40%,76.1%,64.7%);stroke-opacity:1.0\" class=\"toyplot-Datum\" transform=\"translate(201.953125, 161.1111111111111)\"><circle r=\"2.0\"></circle></g><g style=\"fill:rgb(40%,76.1%,64.7%);fill-opacity:1.0;opacity:1.0;stroke:rgb(40%,76.1%,64.7%);stroke-opacity:1.0\" class=\"toyplot-Datum\" transform=\"translate(163.4765625, 133.33333333333334)\"><circle r=\"2.0\"></circle></g><g style=\"fill:rgb(40%,76.1%,64.7%);fill-opacity:1.0;opacity:1.0;stroke:rgb(40%,76.1%,64.7%);stroke-opacity:1.0\" class=\"toyplot-Datum\" transform=\"translate(123.14453125, 105.55555555555554)\"><circle r=\"2.0\"></circle></g><g style=\"fill:rgb(40%,76.1%,64.7%);fill-opacity:1.0;opacity:1.0;stroke:rgb(40%,76.1%,64.7%);stroke-opacity:1.0\" class=\"toyplot-Datum\" transform=\"translate(205.322265625, 77.7777777777778)\"><circle r=\"2.0\"></circle></g><g style=\"fill:rgb(40%,76.1%,64.7%);fill-opacity:1.0;opacity:1.0;stroke:rgb(40%,76.1%,64.7%);stroke-opacity:1.0\" class=\"toyplot-Datum\" transform=\"translate(127.6611328125, 50.0)\"><circle r=\"2.0\"></circle></g></g></g><g class=\"toyplot-mark-Plot\" style=\"fill:none\" id=\"ta768df09bbdb4af3901a97916483c425\"><g class=\"toyplot-Series\"><path d=\"M 50.0 77.7777777777778 L 127.6611328125 50.0\" style=\"stroke:rgb(40%,76.1%,64.7%);stroke-opacity:1.0;stroke-width:2.0\"></path></g></g><g class=\"toyplot-mark-Plot\" style=\"fill:none\" id=\"tc111b9fdc3e44a008f5ca5086a601d96\"><g class=\"toyplot-Series\"><path d=\"M 62.5 188.8888888888889 L 68.75 161.1111111111111\" style=\"stroke:rgb(98.8%,55.3%,38.4%);stroke-opacity:1.0;stroke-width:2.0\"></path></g></g><g class=\"toyplot-mark-Plot\" style=\"fill:none\" id=\"t0326e180423a445792111c09383c26ec\"><g class=\"toyplot-Series\"><path d=\"M 75.0 188.8888888888889 L 68.75 161.1111111111111\" style=\"stroke:rgb(55.3%,62.7%,79.6%);stroke-opacity:1.0;stroke-width:2.0\"></path></g></g><g class=\"toyplot-mark-Plot\" style=\"fill:none\" id=\"tb9176a436716495fa91fdd04379410a0\"><g class=\"toyplot-Series\"><path d=\"M 87.5 188.8888888888889 L 96.875 161.1111111111111\" style=\"stroke:rgb(90.6%,54.1%,76.5%);stroke-opacity:1.0;stroke-width:2.0\"></path></g></g><g class=\"toyplot-mark-Plot\" style=\"fill:none\" id=\"t9e015efff5a1401abef94ab612c9a718\"><g class=\"toyplot-Series\"><path d=\"M 100.0 216.66666666666669 L 106.25 188.8888888888889\" style=\"stroke:rgb(65.1%,84.7%,32.9%);stroke-opacity:1.0;stroke-width:2.0\"></path></g></g><g class=\"toyplot-mark-Plot\" style=\"fill:none\" id=\"t1c2a22c2a2824e5aba821dbcfb914826\"><g class=\"toyplot-Series\"><path d=\"M 112.5 216.66666666666669 L 106.25 188.8888888888889\" style=\"stroke:rgb(100%,85.1%,18.4%);stroke-opacity:1.0;stroke-width:2.0\"></path></g></g><g class=\"toyplot-mark-Plot\" style=\"fill:none\" id=\"t093fd9a4c39f49d8b2ac1c5e599e84d7\"><g class=\"toyplot-Series\"><path d=\"M 125.0 161.1111111111111 L 163.4765625 133.33333333333334\" style=\"stroke:rgb(89.8%,76.9%,58%);stroke-opacity:1.0;stroke-width:2.0\"></path></g></g><g class=\"toyplot-mark-Plot\" style=\"fill:none\" id=\"t9d35a9aff87d4321a58c056d74ec5d37\"><g class=\"toyplot-Series\"><path d=\"M 137.5 272.2222222222222 L 143.75 244.44444444444446\" style=\"stroke:rgb(70.2%,70.2%,70.2%);stroke-opacity:1.0;stroke-width:2.0\"></path></g></g><g class=\"toyplot-mark-Plot\" style=\"fill:none\" id=\"te92c6719f7724206bd75e86329af3938\"><g class=\"toyplot-Series\"><path d=\"M 150.0 272.2222222222222 L 143.75 244.44444444444446\" style=\"stroke:rgb(40%,76.1%,64.7%);stroke-opacity:1.0;stroke-width:2.0\"></path></g></g><g class=\"toyplot-mark-Plot\" style=\"fill:none\" id=\"t84f8fe7cd160431d8700defb26818c23\"><g class=\"toyplot-Series\"><path d=\"M 162.5 244.44444444444446 L 153.125 216.66666666666669\" style=\"stroke:rgb(98.8%,55.3%,38.4%);stroke-opacity:1.0;stroke-width:2.0\"></path></g></g><g class=\"toyplot-mark-Plot\" style=\"fill:none\" id=\"tf56a4e24aa2e4128962999767e72acbc\"><g class=\"toyplot-Series\"><path d=\"M 175.0 272.2222222222222 L 181.25 244.44444444444446\" style=\"stroke:rgb(55.3%,62.7%,79.6%);stroke-opacity:1.0;stroke-width:2.0\"></path></g></g><g class=\"toyplot-mark-Plot\" style=\"fill:none\" id=\"te9c1507e42604f9f8d4d24afd4e796d6\"><g class=\"toyplot-Series\"><path d=\"M 187.5 272.2222222222222 L 181.25 244.44444444444446\" style=\"stroke:rgb(90.6%,54.1%,76.5%);stroke-opacity:1.0;stroke-width:2.0\"></path></g></g><g class=\"toyplot-mark-Plot\" style=\"fill:none\" id=\"t21c7b425cbb2469cab7b7652483b0840\"><g class=\"toyplot-Series\"><path d=\"M 200.0 244.44444444444446 L 190.625 216.66666666666669\" style=\"stroke:rgb(65.1%,84.7%,32.9%);stroke-opacity:1.0;stroke-width:2.0\"></path></g></g><g class=\"toyplot-mark-Plot\" style=\"fill:none\" id=\"t4c26e0ce7881448b9b7753e40a321fb1\"><g class=\"toyplot-Series\"><path d=\"M 212.5 216.66666666666669 L 232.03125 188.8888888888889\" style=\"stroke:rgb(100%,85.1%,18.4%);stroke-opacity:1.0;stroke-width:2.0\"></path></g></g><g class=\"toyplot-mark-Plot\" style=\"fill:none\" id=\"tb55d65cd90954e90b1f5c1aac7841679\"><g class=\"toyplot-Series\"><path d=\"M 225.0 272.2222222222222 L 234.375 244.44444444444446\" style=\"stroke:rgb(89.8%,76.9%,58%);stroke-opacity:1.0;stroke-width:2.0\"></path></g></g><g class=\"toyplot-mark-Plot\" style=\"fill:none\" id=\"t8dda9808eebe4dfda5c98080487a385a\"><g class=\"toyplot-Series\"><path d=\"M 237.5 300.0 L 243.75 272.2222222222222\" style=\"stroke:rgb(70.2%,70.2%,70.2%);stroke-opacity:1.0;stroke-width:2.0\"></path></g></g><g class=\"toyplot-mark-Plot\" style=\"fill:none\" id=\"td11950b98ec24157853f607e014833bd\"><g class=\"toyplot-Series\"><path d=\"M 250.0 300.0 L 243.75 272.2222222222222\" style=\"stroke:rgb(40%,76.1%,64.7%);stroke-opacity:1.0;stroke-width:2.0\"></path></g></g><g class=\"toyplot-mark-Plot\" style=\"fill:none\" id=\"t06b8c116387a45a3a56afc779c4a1765\"><g class=\"toyplot-Series\"><path d=\"M 262.5 272.2222222222222 L 268.75 244.44444444444446\" style=\"stroke:rgb(98.8%,55.3%,38.4%);stroke-opacity:1.0;stroke-width:2.0\"></path></g></g><g class=\"toyplot-mark-Plot\" style=\"fill:none\" id=\"t40873e346cb74604802e65e2820a91e8\"><g class=\"toyplot-Series\"><path d=\"M 275.0 272.2222222222222 L 268.75 244.44444444444446\" style=\"stroke:rgb(55.3%,62.7%,79.6%);stroke-opacity:1.0;stroke-width:2.0\"></path></g></g><g class=\"toyplot-mark-Plot\" style=\"fill:none\" id=\"t36f85fe012924ca78b1b81782ea59247\"><g class=\"toyplot-Series\"><path d=\"M 287.5 105.55555555555554 L 205.322265625 77.7777777777778\" style=\"stroke:rgb(90.6%,54.1%,76.5%);stroke-opacity:1.0;stroke-width:2.0\"></path></g></g><g class=\"toyplot-mark-Plot\" style=\"fill:none\" id=\"tb435dcf0ead046bca2c00034319fa19f\"><g class=\"toyplot-Series\"><path d=\"M 68.75 161.1111111111111 L 82.8125 133.33333333333334\" style=\"stroke:rgb(65.1%,84.7%,32.9%);stroke-opacity:1.0;stroke-width:2.0\"></path></g></g><g class=\"toyplot-mark-Plot\" style=\"fill:none\" id=\"tb443c13f3e9b439dbeb8b9e141fdd07f\"><g class=\"toyplot-Series\"><path d=\"M 106.25 188.8888888888889 L 96.875 161.1111111111111\" style=\"stroke:rgb(100%,85.1%,18.4%);stroke-opacity:1.0;stroke-width:2.0\"></path></g></g><g class=\"toyplot-mark-Plot\" style=\"fill:none\" id=\"tdfbc9ca7d26d4b208db332eadb7dee37\"><g class=\"toyplot-Series\"><path d=\"M 96.875 161.1111111111111 L 82.8125 133.33333333333334\" style=\"stroke:rgb(89.8%,76.9%,58%);stroke-opacity:1.0;stroke-width:2.0\"></path></g></g><g class=\"toyplot-mark-Plot\" style=\"fill:none\" id=\"t047b15c5e9cd45dda6a39dc5025ffe5c\"><g class=\"toyplot-Series\"><path d=\"M 82.8125 133.33333333333334 L 123.14453125 105.55555555555554\" style=\"stroke:rgb(70.2%,70.2%,70.2%);stroke-opacity:1.0;stroke-width:2.0\"></path></g></g><g class=\"toyplot-mark-Plot\" style=\"fill:none\" id=\"td316f6e3bfbc4675bc735c64d9ca484e\"><g class=\"toyplot-Series\"><path d=\"M 143.75 244.44444444444446 L 153.125 216.66666666666669\" style=\"stroke:rgb(40%,76.1%,64.7%);stroke-opacity:1.0;stroke-width:2.0\"></path></g></g><g class=\"toyplot-mark-Plot\" style=\"fill:none\" id=\"tdb2b891c37ca439aae5582603ccdbde1\"><g class=\"toyplot-Series\"><path d=\"M 153.125 216.66666666666669 L 171.875 188.8888888888889\" style=\"stroke:rgb(98.8%,55.3%,38.4%);stroke-opacity:1.0;stroke-width:2.0\"></path></g></g><g class=\"toyplot-mark-Plot\" style=\"fill:none\" id=\"ta401c4ebdfa8442883a950fbd803947e\"><g class=\"toyplot-Series\"><path d=\"M 181.25 244.44444444444446 L 190.625 216.66666666666669\" style=\"stroke:rgb(55.3%,62.7%,79.6%);stroke-opacity:1.0;stroke-width:2.0\"></path></g></g><g class=\"toyplot-mark-Plot\" style=\"fill:none\" id=\"ta634802d37bc4aaeac0fad720229d19a\"><g class=\"toyplot-Series\"><path d=\"M 190.625 216.66666666666669 L 171.875 188.8888888888889\" style=\"stroke:rgb(90.6%,54.1%,76.5%);stroke-opacity:1.0;stroke-width:2.0\"></path></g></g><g class=\"toyplot-mark-Plot\" style=\"fill:none\" id=\"t6d1a012c183643e3afb8b7ba5af651ee\"><g class=\"toyplot-Series\"><path d=\"M 171.875 188.8888888888889 L 201.953125 161.1111111111111\" style=\"stroke:rgb(65.1%,84.7%,32.9%);stroke-opacity:1.0;stroke-width:2.0\"></path></g></g><g class=\"toyplot-mark-Plot\" style=\"fill:none\" id=\"t49e3cf7b1410491a911977bbeec7e37a\"><g class=\"toyplot-Series\"><path d=\"M 243.75 272.2222222222222 L 234.375 244.44444444444446\" style=\"stroke:rgb(100%,85.1%,18.4%);stroke-opacity:1.0;stroke-width:2.0\"></path></g></g><g class=\"toyplot-mark-Plot\" style=\"fill:none\" id=\"tbd0427d6816842958a128d764094dd41\"><g class=\"toyplot-Series\"><path d=\"M 234.375 244.44444444444446 L 251.5625 216.66666666666669\" style=\"stroke:rgb(89.8%,76.9%,58%);stroke-opacity:1.0;stroke-width:2.0\"></path></g></g><g class=\"toyplot-mark-Plot\" style=\"fill:none\" id=\"td62a9025013c40d88fec9a2439335517\"><g class=\"toyplot-Series\"><path d=\"M 268.75 244.44444444444446 L 251.5625 216.66666666666669\" style=\"stroke:rgb(70.2%,70.2%,70.2%);stroke-opacity:1.0;stroke-width:2.0\"></path></g></g><g class=\"toyplot-mark-Plot\" style=\"fill:none\" id=\"t6a0668de3a984287a76b9bf4226f206f\"><g class=\"toyplot-Series\"><path d=\"M 251.5625 216.66666666666669 L 232.03125 188.8888888888889\" style=\"stroke:rgb(40%,76.1%,64.7%);stroke-opacity:1.0;stroke-width:2.0\"></path></g></g><g class=\"toyplot-mark-Plot\" style=\"fill:none\" id=\"tcb84dc5ed4d34680be24f0b5d9de4364\"><g class=\"toyplot-Series\"><path d=\"M 232.03125 188.8888888888889 L 201.953125 161.1111111111111\" style=\"stroke:rgb(98.8%,55.3%,38.4%);stroke-opacity:1.0;stroke-width:2.0\"></path></g></g><g class=\"toyplot-mark-Plot\" style=\"fill:none\" id=\"t52f7eec44acb4f7fa167834de93e44c3\"><g class=\"toyplot-Series\"><path d=\"M 201.953125 161.1111111111111 L 163.4765625 133.33333333333334\" style=\"stroke:rgb(55.3%,62.7%,79.6%);stroke-opacity:1.0;stroke-width:2.0\"></path></g></g><g class=\"toyplot-mark-Plot\" style=\"fill:none\" id=\"t712cb03bcdcc44d1ac4afaf373c4d2df\"><g class=\"toyplot-Series\"><path d=\"M 163.4765625 133.33333333333334 L 123.14453125 105.55555555555554\" style=\"stroke:rgb(90.6%,54.1%,76.5%);stroke-opacity:1.0;stroke-width:2.0\"></path></g></g><g class=\"toyplot-mark-Plot\" style=\"fill:none\" id=\"tb0b57df530c842a0a5760bee8fd1f5d8\"><g class=\"toyplot-Series\"><path d=\"M 123.14453125 105.55555555555554 L 205.322265625 77.7777777777778\" style=\"stroke:rgb(65.1%,84.7%,32.9%);stroke-opacity:1.0;stroke-width:2.0\"></path></g></g><g class=\"toyplot-mark-Plot\" style=\"fill:none\" id=\"t3a6bc8f96dbd495b8c1eceeacbe1a227\"><g class=\"toyplot-Series\"><path d=\"M 205.322265625 77.7777777777778 L 127.6611328125 50.0\" style=\"stroke:rgb(100%,85.1%,18.4%);stroke-opacity:1.0;stroke-width:2.0\"></path></g></g></g><g class=\"toyplot-coordinates-Axis\" id=\"t975da991fea24620b09df386615c6bf8\" transform=\"translate(50.0,300.0)translate(0,10.0)\"><line x1=\"0\" y1=\"0\" x2=\"237.5\" y2=\"0\" style=\"\"></line><g><g transform=\"translate(0.0,6)\"><text x=\"-2.78\" y=\"8.555\" style=\"fill:rgb(16.1%,15.3%,14.1%);fill-opacity:1.0;font-family:helvetica;font-size:10.0px;font-weight:normal;stroke:none;vertical-align:baseline;white-space:pre\">0</text></g><g transform=\"translate(62.5,6)\"><text x=\"-2.78\" y=\"8.555\" style=\"fill:rgb(16.1%,15.3%,14.1%);fill-opacity:1.0;font-family:helvetica;font-size:10.0px;font-weight:normal;stroke:none;vertical-align:baseline;white-space:pre\">5</text></g><g transform=\"translate(125.0,6)\"><text x=\"-5.56\" y=\"8.555\" style=\"fill:rgb(16.1%,15.3%,14.1%);fill-opacity:1.0;font-family:helvetica;font-size:10.0px;font-weight:normal;stroke:none;vertical-align:baseline;white-space:pre\">10</text></g><g transform=\"translate(187.5,6)\"><text x=\"-5.56\" y=\"8.555\" style=\"fill:rgb(16.1%,15.3%,14.1%);fill-opacity:1.0;font-family:helvetica;font-size:10.0px;font-weight:normal;stroke:none;vertical-align:baseline;white-space:pre\">15</text></g><g transform=\"translate(250.0,6)\"><text x=\"-5.56\" y=\"8.555\" style=\"fill:rgb(16.1%,15.3%,14.1%);fill-opacity:1.0;font-family:helvetica;font-size:10.0px;font-weight:normal;stroke:none;vertical-align:baseline;white-space:pre\">20</text></g></g><g class=\"toyplot-coordinates-Axis-coordinates\" style=\"visibility:hidden\" transform=\"\"><line x1=\"0\" x2=\"0\" y1=\"-3.0\" y2=\"4.5\" style=\"stroke:rgb(43.9%,50.2%,56.5%);stroke-opacity:1.0;stroke-width:1.0\"></line><text x=\"0\" y=\"-6\" style=\"alignment-baseline:alphabetic;fill:rgb(43.9%,50.2%,56.5%);fill-opacity:1.0;font-size:10px;font-weight:normal;stroke:none;text-anchor:middle\"></text></g></g><g class=\"toyplot-coordinates-Axis\" id=\"t558c160f22324839b051f0813280b329\" transform=\"translate(50.0,300.0)rotate(-90.0)translate(0,-10.0)\"><line x1=\"0\" y1=\"0\" x2=\"250.0\" y2=\"0\" style=\"\"></line><g><g transform=\"translate(0.0,-6)\"><text x=\"-2.78\" y=\"-4.440892098500626e-16\" style=\"fill:rgb(16.1%,15.3%,14.1%);fill-opacity:1.0;font-family:helvetica;font-size:10.0px;font-weight:normal;stroke:none;vertical-align:baseline;white-space:pre\">0</text></g><g transform=\"translate(83.33333333333333,-6)\"><text x=\"-2.78\" y=\"-4.440892098500626e-16\" style=\"fill:rgb(16.1%,15.3%,14.1%);fill-opacity:1.0;font-family:helvetica;font-size:10.0px;font-weight:normal;stroke:none;vertical-align:baseline;white-space:pre\">3</text></g><g transform=\"translate(166.66666666666666,-6)\"><text x=\"-2.78\" y=\"-4.440892098500626e-16\" style=\"fill:rgb(16.1%,15.3%,14.1%);fill-opacity:1.0;font-family:helvetica;font-size:10.0px;font-weight:normal;stroke:none;vertical-align:baseline;white-space:pre\">6</text></g><g transform=\"translate(250.0,-6)\"><text x=\"-2.78\" y=\"-4.440892098500626e-16\" style=\"fill:rgb(16.1%,15.3%,14.1%);fill-opacity:1.0;font-family:helvetica;font-size:10.0px;font-weight:normal;stroke:none;vertical-align:baseline;white-space:pre\">9</text></g></g><g class=\"toyplot-coordinates-Axis-coordinates\" style=\"visibility:hidden\" transform=\"\"><line x1=\"0\" x2=\"0\" y1=\"3.0\" y2=\"-4.5\" style=\"stroke:rgb(43.9%,50.2%,56.5%);stroke-opacity:1.0;stroke-width:1.0\"></line><text x=\"0\" y=\"6\" style=\"alignment-baseline:hanging;fill:rgb(43.9%,50.2%,56.5%);fill-opacity:1.0;font-size:10px;font-weight:normal;stroke:none;text-anchor:middle\"></text></g></g><g transform=\"translate(175.0,42.0)\"><text x=\"-117.46\" y=\"-4.823\" style=\"fill:rgb(16.1%,15.3%,14.1%);fill-opacity:1.0;font-family:helvetica;font-size:14.0px;font-weight:bold;stroke:none;vertical-align:baseline;white-space:pre\">toyplot drawing of Node and Edges</text></g></g></svg><div class=\"toyplot-behavior\"><script>(function()\n",
       "{\n",
       "var modules={};\n",
       "modules[\"toyplot/tables\"] = (function()\n",
       "    {\n",
       "        var tables = [];\n",
       "\n",
       "        var module = {};\n",
       "\n",
       "        module.set = function(owner, key, names, columns)\n",
       "        {\n",
       "            tables.push({owner: owner, key: key, names: names, columns: columns});\n",
       "        }\n",
       "\n",
       "        module.get = function(owner, key)\n",
       "        {\n",
       "            for(var i = 0; i != tables.length; ++i)\n",
       "            {\n",
       "                var table = tables[i];\n",
       "                if(table.owner != owner)\n",
       "                    continue;\n",
       "                if(table.key != key)\n",
       "                    continue;\n",
       "                return {names: table.names, columns: table.columns};\n",
       "            }\n",
       "        }\n",
       "\n",
       "        module.get_csv = function(owner, key)\n",
       "        {\n",
       "            var table = module.get(owner, key);\n",
       "            if(table != undefined)\n",
       "            {\n",
       "                var csv = \"\";\n",
       "                csv += table.names.join(\",\") + \"\\n\";\n",
       "                for(var i = 0; i != table.columns[0].length; ++i)\n",
       "                {\n",
       "                  for(var j = 0; j != table.columns.length; ++j)\n",
       "                  {\n",
       "                    if(j)\n",
       "                      csv += \",\";\n",
       "                    csv += table.columns[j][i];\n",
       "                  }\n",
       "                  csv += \"\\n\";\n",
       "                }\n",
       "                return csv;\n",
       "            }\n",
       "        }\n",
       "\n",
       "        return module;\n",
       "    })();\n",
       "modules[\"toyplot/root/id\"] = \"t5bae493dbcb040ef8b4d6cc2c33742b0\";\n",
       "modules[\"toyplot/root\"] = (function(root_id)\n",
       "    {\n",
       "        return document.querySelector(\"#\" + root_id);\n",
       "    })(modules[\"toyplot/root/id\"]);\n",
       "modules[\"toyplot/canvas/id\"] = \"t90d02f9454fc495d9f1e374c693e9e88\";\n",
       "modules[\"toyplot/canvas\"] = (function(canvas_id)\n",
       "    {\n",
       "        return document.querySelector(\"#\" + canvas_id);\n",
       "    })(modules[\"toyplot/canvas/id\"]);\n",
       "modules[\"toyplot/menus/context\"] = (function(root, canvas)\n",
       "    {\n",
       "        var wrapper = document.createElement(\"div\");\n",
       "        wrapper.innerHTML = \"<ul class='toyplot-context-menu' style='background:#eee; border:1px solid #b8b8b8; border-radius:5px; box-shadow: 0px 0px 8px rgba(0%,0%,0%,0.25); margin:0; padding:3px 0; position:fixed; visibility:hidden;'></ul>\"\n",
       "        var menu = wrapper.firstChild;\n",
       "\n",
       "        root.appendChild(menu);\n",
       "\n",
       "        var items = [];\n",
       "\n",
       "        var ignore_mouseup = null;\n",
       "        function open_menu(e)\n",
       "        {\n",
       "            var show_menu = false;\n",
       "            for(var index=0; index != items.length; ++index)\n",
       "            {\n",
       "                var item = items[index];\n",
       "                if(item.show(e))\n",
       "                {\n",
       "                    item.item.style.display = \"block\";\n",
       "                    show_menu = true;\n",
       "                }\n",
       "                else\n",
       "                {\n",
       "                    item.item.style.display = \"none\";\n",
       "                }\n",
       "            }\n",
       "\n",
       "            if(show_menu)\n",
       "            {\n",
       "                ignore_mouseup = true;\n",
       "                menu.style.left = (e.clientX + 1) + \"px\";\n",
       "                menu.style.top = (e.clientY - 5) + \"px\";\n",
       "                menu.style.visibility = \"visible\";\n",
       "                e.stopPropagation();\n",
       "                e.preventDefault();\n",
       "            }\n",
       "        }\n",
       "\n",
       "        function close_menu()\n",
       "        {\n",
       "            menu.style.visibility = \"hidden\";\n",
       "        }\n",
       "\n",
       "        function contextmenu(e)\n",
       "        {\n",
       "            open_menu(e);\n",
       "        }\n",
       "\n",
       "        function mousemove(e)\n",
       "        {\n",
       "            ignore_mouseup = false;\n",
       "        }\n",
       "\n",
       "        function mouseup(e)\n",
       "        {\n",
       "            if(ignore_mouseup)\n",
       "            {\n",
       "                ignore_mouseup = false;\n",
       "                return;\n",
       "            }\n",
       "            close_menu();\n",
       "        }\n",
       "\n",
       "        function keydown(e)\n",
       "        {\n",
       "            if(e.key == \"Escape\" || e.key == \"Esc\" || e.keyCode == 27)\n",
       "            {\n",
       "                close_menu();\n",
       "            }\n",
       "        }\n",
       "\n",
       "        canvas.addEventListener(\"contextmenu\", contextmenu);\n",
       "        canvas.addEventListener(\"mousemove\", mousemove);\n",
       "        document.addEventListener(\"mouseup\", mouseup);\n",
       "        document.addEventListener(\"keydown\", keydown);\n",
       "\n",
       "        var module = {};\n",
       "        module.add_item = function(label, show, activate)\n",
       "        {\n",
       "            var wrapper = document.createElement(\"div\");\n",
       "            wrapper.innerHTML = \"<li class='toyplot-context-menu-item' style='background:#eee; color:#333; padding:2px 20px; list-style:none; margin:0; text-align:left;'>\" + label + \"</li>\"\n",
       "            var item = wrapper.firstChild;\n",
       "\n",
       "            items.push({item: item, show: show});\n",
       "\n",
       "            function mouseover()\n",
       "            {\n",
       "                this.style.background = \"steelblue\";\n",
       "                this.style.color = \"white\";\n",
       "            }\n",
       "\n",
       "            function mouseout()\n",
       "            {\n",
       "                this.style.background = \"#eee\";\n",
       "                this.style.color = \"#333\";\n",
       "            }\n",
       "\n",
       "            function choose_item(e)\n",
       "            {\n",
       "                close_menu();\n",
       "                activate();\n",
       "\n",
       "                e.stopPropagation();\n",
       "                e.preventDefault();\n",
       "            }\n",
       "\n",
       "            item.addEventListener(\"mouseover\", mouseover);\n",
       "            item.addEventListener(\"mouseout\", mouseout);\n",
       "            item.addEventListener(\"mouseup\", choose_item);\n",
       "            item.addEventListener(\"contextmenu\", choose_item);\n",
       "\n",
       "            menu.appendChild(item);\n",
       "        };\n",
       "        return module;\n",
       "    })(modules[\"toyplot/root\"],modules[\"toyplot/canvas\"]);\n",
       "modules[\"toyplot/io\"] = (function()\n",
       "    {\n",
       "        var module = {};\n",
       "        module.save_file = function(mime_type, charset, data, filename)\n",
       "        {\n",
       "            var uri = \"data:\" + mime_type + \";charset=\" + charset + \",\" + data;\n",
       "            uri = encodeURI(uri);\n",
       "\n",
       "            var link = document.createElement(\"a\");\n",
       "            if(typeof link.download != \"undefined\")\n",
       "            {\n",
       "              link.href = uri;\n",
       "              link.style = \"visibility:hidden\";\n",
       "              link.download = filename;\n",
       "\n",
       "              document.body.appendChild(link);\n",
       "              link.click();\n",
       "              document.body.removeChild(link);\n",
       "            }\n",
       "            else\n",
       "            {\n",
       "              window.open(uri);\n",
       "            }\n",
       "        };\n",
       "        return module;\n",
       "    })();\n",
       "modules[\"toyplot.coordinates.Axis\"] = (\n",
       "        function(canvas)\n",
       "        {\n",
       "            function sign(x)\n",
       "            {\n",
       "                return x < 0 ? -1 : x > 0 ? 1 : 0;\n",
       "            }\n",
       "\n",
       "            function mix(a, b, amount)\n",
       "            {\n",
       "                return ((1.0 - amount) * a) + (amount * b);\n",
       "            }\n",
       "\n",
       "            function log(x, base)\n",
       "            {\n",
       "                return Math.log(Math.abs(x)) / Math.log(base);\n",
       "            }\n",
       "\n",
       "            function in_range(a, x, b)\n",
       "            {\n",
       "                var left = Math.min(a, b);\n",
       "                var right = Math.max(a, b);\n",
       "                return left <= x && x <= right;\n",
       "            }\n",
       "\n",
       "            function inside(range, projection)\n",
       "            {\n",
       "                for(var i = 0; i != projection.length; ++i)\n",
       "                {\n",
       "                    var segment = projection[i];\n",
       "                    if(in_range(segment.range.min, range, segment.range.max))\n",
       "                        return true;\n",
       "                }\n",
       "                return false;\n",
       "            }\n",
       "\n",
       "            function to_domain(range, projection)\n",
       "            {\n",
       "                for(var i = 0; i != projection.length; ++i)\n",
       "                {\n",
       "                    var segment = projection[i];\n",
       "                    if(in_range(segment.range.bounds.min, range, segment.range.bounds.max))\n",
       "                    {\n",
       "                        if(segment.scale == \"linear\")\n",
       "                        {\n",
       "                            var amount = (range - segment.range.min) / (segment.range.max - segment.range.min);\n",
       "                            return mix(segment.domain.min, segment.domain.max, amount)\n",
       "                        }\n",
       "                        else if(segment.scale[0] == \"log\")\n",
       "                        {\n",
       "                            var amount = (range - segment.range.min) / (segment.range.max - segment.range.min);\n",
       "                            var base = segment.scale[1];\n",
       "                            return sign(segment.domain.min) * Math.pow(base, mix(log(segment.domain.min, base), log(segment.domain.max, base), amount));\n",
       "                        }\n",
       "                    }\n",
       "                }\n",
       "            }\n",
       "\n",
       "            var axes = {};\n",
       "\n",
       "            function display_coordinates(e)\n",
       "            {\n",
       "                var current = canvas.createSVGPoint();\n",
       "                current.x = e.clientX;\n",
       "                current.y = e.clientY;\n",
       "\n",
       "                for(var axis_id in axes)\n",
       "                {\n",
       "                    var axis = document.querySelector(\"#\" + axis_id);\n",
       "                    var coordinates = axis.querySelector(\".toyplot-coordinates-Axis-coordinates\");\n",
       "                    if(coordinates)\n",
       "                    {\n",
       "                        var projection = axes[axis_id];\n",
       "                        var local = current.matrixTransform(axis.getScreenCTM().inverse());\n",
       "                        if(inside(local.x, projection))\n",
       "                        {\n",
       "                            var domain = to_domain(local.x, projection);\n",
       "                            coordinates.style.visibility = \"visible\";\n",
       "                            coordinates.setAttribute(\"transform\", \"translate(\" + local.x + \")\");\n",
       "                            var text = coordinates.querySelector(\"text\");\n",
       "                            text.textContent = domain.toFixed(2);\n",
       "                        }\n",
       "                        else\n",
       "                        {\n",
       "                            coordinates.style.visibility= \"hidden\";\n",
       "                        }\n",
       "                    }\n",
       "                }\n",
       "            }\n",
       "\n",
       "            canvas.addEventListener(\"click\", display_coordinates);\n",
       "\n",
       "            var module = {};\n",
       "            module.show_coordinates = function(axis_id, projection)\n",
       "            {\n",
       "                axes[axis_id] = projection;\n",
       "            }\n",
       "\n",
       "            return module;\n",
       "        })(modules[\"toyplot/canvas\"]);\n",
       "(function(tables, context_menu, io, owner_id, key, label, names, columns, filename)\n",
       "        {\n",
       "            tables.set(owner_id, key, names, columns);\n",
       "\n",
       "            var owner = document.querySelector(\"#\" + owner_id);\n",
       "            function show_item(e)\n",
       "            {\n",
       "                return owner.contains(e.target);\n",
       "            }\n",
       "\n",
       "            function choose_item()\n",
       "            {\n",
       "                io.save_file(\"text/csv\", \"utf-8\", tables.get_csv(owner_id, key), filename + \".csv\");\n",
       "            }\n",
       "\n",
       "            context_menu.add_item(\"Save \" + label + \" as CSV\", show_item, choose_item);\n",
       "        })(modules[\"toyplot/tables\"],modules[\"toyplot/menus/context\"],modules[\"toyplot/io\"],\"tb2cb76b7b8324dc48a43b9f64fc8ccaa\",\"data\",\"point\",[\"x\", \"y0\"],[[0.0, 1.0, 2.0, 3.0, 4.0, 5.0, 6.0, 7.0, 8.0, 9.0, 10.0, 11.0, 12.0, 13.0, 14.0, 15.0, 16.0, 17.0, 18.0, 19.0, 1.5, 4.5, 3.75, 2.625, 7.5, 8.25, 10.5, 11.25, 9.75, 15.5, 14.75, 17.5, 16.125, 14.5625, 12.15625, 9.078125, 5.8515625, 12.42578125, 6.212890625], [8.0, 4.0, 4.0, 4.0, 3.0, 3.0, 5.0, 1.0, 1.0, 2.0, 1.0, 1.0, 2.0, 3.0, 1.0, 0.0, 0.0, 1.0, 1.0, 7.0, 5.0, 4.0, 5.0, 6.0, 2.0, 3.0, 2.0, 3.0, 4.0, 1.0, 2.0, 2.0, 3.0, 4.0, 5.0, 6.0, 7.0, 8.0, 9.0]],\"toyplot\");\n",
       "(function(tables, context_menu, io, owner_id, key, label, names, columns, filename)\n",
       "        {\n",
       "            tables.set(owner_id, key, names, columns);\n",
       "\n",
       "            var owner = document.querySelector(\"#\" + owner_id);\n",
       "            function show_item(e)\n",
       "            {\n",
       "                return owner.contains(e.target);\n",
       "            }\n",
       "\n",
       "            function choose_item()\n",
       "            {\n",
       "                io.save_file(\"text/csv\", \"utf-8\", tables.get_csv(owner_id, key), filename + \".csv\");\n",
       "            }\n",
       "\n",
       "            context_menu.add_item(\"Save \" + label + \" as CSV\", show_item, choose_item);\n",
       "        })(modules[\"toyplot/tables\"],modules[\"toyplot/menus/context\"],modules[\"toyplot/io\"],\"ta768df09bbdb4af3901a97916483c425\",\"data\",\"plot data\",[\"x\", \"y0\"],[[0.0, 6.212890625], [8.0, 9.0]],\"toyplot\");\n",
       "(function(tables, context_menu, io, owner_id, key, label, names, columns, filename)\n",
       "        {\n",
       "            tables.set(owner_id, key, names, columns);\n",
       "\n",
       "            var owner = document.querySelector(\"#\" + owner_id);\n",
       "            function show_item(e)\n",
       "            {\n",
       "                return owner.contains(e.target);\n",
       "            }\n",
       "\n",
       "            function choose_item()\n",
       "            {\n",
       "                io.save_file(\"text/csv\", \"utf-8\", tables.get_csv(owner_id, key), filename + \".csv\");\n",
       "            }\n",
       "\n",
       "            context_menu.add_item(\"Save \" + label + \" as CSV\", show_item, choose_item);\n",
       "        })(modules[\"toyplot/tables\"],modules[\"toyplot/menus/context\"],modules[\"toyplot/io\"],\"tc111b9fdc3e44a008f5ca5086a601d96\",\"data\",\"plot data\",[\"x\", \"y0\"],[[1.0, 1.5], [4.0, 5.0]],\"toyplot\");\n",
       "(function(tables, context_menu, io, owner_id, key, label, names, columns, filename)\n",
       "        {\n",
       "            tables.set(owner_id, key, names, columns);\n",
       "\n",
       "            var owner = document.querySelector(\"#\" + owner_id);\n",
       "            function show_item(e)\n",
       "            {\n",
       "                return owner.contains(e.target);\n",
       "            }\n",
       "\n",
       "            function choose_item()\n",
       "            {\n",
       "                io.save_file(\"text/csv\", \"utf-8\", tables.get_csv(owner_id, key), filename + \".csv\");\n",
       "            }\n",
       "\n",
       "            context_menu.add_item(\"Save \" + label + \" as CSV\", show_item, choose_item);\n",
       "        })(modules[\"toyplot/tables\"],modules[\"toyplot/menus/context\"],modules[\"toyplot/io\"],\"t0326e180423a445792111c09383c26ec\",\"data\",\"plot data\",[\"x\", \"y0\"],[[2.0, 1.5], [4.0, 5.0]],\"toyplot\");\n",
       "(function(tables, context_menu, io, owner_id, key, label, names, columns, filename)\n",
       "        {\n",
       "            tables.set(owner_id, key, names, columns);\n",
       "\n",
       "            var owner = document.querySelector(\"#\" + owner_id);\n",
       "            function show_item(e)\n",
       "            {\n",
       "                return owner.contains(e.target);\n",
       "            }\n",
       "\n",
       "            function choose_item()\n",
       "            {\n",
       "                io.save_file(\"text/csv\", \"utf-8\", tables.get_csv(owner_id, key), filename + \".csv\");\n",
       "            }\n",
       "\n",
       "            context_menu.add_item(\"Save \" + label + \" as CSV\", show_item, choose_item);\n",
       "        })(modules[\"toyplot/tables\"],modules[\"toyplot/menus/context\"],modules[\"toyplot/io\"],\"tb9176a436716495fa91fdd04379410a0\",\"data\",\"plot data\",[\"x\", \"y0\"],[[3.0, 3.75], [4.0, 5.0]],\"toyplot\");\n",
       "(function(tables, context_menu, io, owner_id, key, label, names, columns, filename)\n",
       "        {\n",
       "            tables.set(owner_id, key, names, columns);\n",
       "\n",
       "            var owner = document.querySelector(\"#\" + owner_id);\n",
       "            function show_item(e)\n",
       "            {\n",
       "                return owner.contains(e.target);\n",
       "            }\n",
       "\n",
       "            function choose_item()\n",
       "            {\n",
       "                io.save_file(\"text/csv\", \"utf-8\", tables.get_csv(owner_id, key), filename + \".csv\");\n",
       "            }\n",
       "\n",
       "            context_menu.add_item(\"Save \" + label + \" as CSV\", show_item, choose_item);\n",
       "        })(modules[\"toyplot/tables\"],modules[\"toyplot/menus/context\"],modules[\"toyplot/io\"],\"t9e015efff5a1401abef94ab612c9a718\",\"data\",\"plot data\",[\"x\", \"y0\"],[[4.0, 4.5], [3.0, 4.0]],\"toyplot\");\n",
       "(function(tables, context_menu, io, owner_id, key, label, names, columns, filename)\n",
       "        {\n",
       "            tables.set(owner_id, key, names, columns);\n",
       "\n",
       "            var owner = document.querySelector(\"#\" + owner_id);\n",
       "            function show_item(e)\n",
       "            {\n",
       "                return owner.contains(e.target);\n",
       "            }\n",
       "\n",
       "            function choose_item()\n",
       "            {\n",
       "                io.save_file(\"text/csv\", \"utf-8\", tables.get_csv(owner_id, key), filename + \".csv\");\n",
       "            }\n",
       "\n",
       "            context_menu.add_item(\"Save \" + label + \" as CSV\", show_item, choose_item);\n",
       "        })(modules[\"toyplot/tables\"],modules[\"toyplot/menus/context\"],modules[\"toyplot/io\"],\"t1c2a22c2a2824e5aba821dbcfb914826\",\"data\",\"plot data\",[\"x\", \"y0\"],[[5.0, 4.5], [3.0, 4.0]],\"toyplot\");\n",
       "(function(tables, context_menu, io, owner_id, key, label, names, columns, filename)\n",
       "        {\n",
       "            tables.set(owner_id, key, names, columns);\n",
       "\n",
       "            var owner = document.querySelector(\"#\" + owner_id);\n",
       "            function show_item(e)\n",
       "            {\n",
       "                return owner.contains(e.target);\n",
       "            }\n",
       "\n",
       "            function choose_item()\n",
       "            {\n",
       "                io.save_file(\"text/csv\", \"utf-8\", tables.get_csv(owner_id, key), filename + \".csv\");\n",
       "            }\n",
       "\n",
       "            context_menu.add_item(\"Save \" + label + \" as CSV\", show_item, choose_item);\n",
       "        })(modules[\"toyplot/tables\"],modules[\"toyplot/menus/context\"],modules[\"toyplot/io\"],\"t093fd9a4c39f49d8b2ac1c5e599e84d7\",\"data\",\"plot data\",[\"x\", \"y0\"],[[6.0, 9.078125], [5.0, 6.0]],\"toyplot\");\n",
       "(function(tables, context_menu, io, owner_id, key, label, names, columns, filename)\n",
       "        {\n",
       "            tables.set(owner_id, key, names, columns);\n",
       "\n",
       "            var owner = document.querySelector(\"#\" + owner_id);\n",
       "            function show_item(e)\n",
       "            {\n",
       "                return owner.contains(e.target);\n",
       "            }\n",
       "\n",
       "            function choose_item()\n",
       "            {\n",
       "                io.save_file(\"text/csv\", \"utf-8\", tables.get_csv(owner_id, key), filename + \".csv\");\n",
       "            }\n",
       "\n",
       "            context_menu.add_item(\"Save \" + label + \" as CSV\", show_item, choose_item);\n",
       "        })(modules[\"toyplot/tables\"],modules[\"toyplot/menus/context\"],modules[\"toyplot/io\"],\"t9d35a9aff87d4321a58c056d74ec5d37\",\"data\",\"plot data\",[\"x\", \"y0\"],[[7.0, 7.5], [1.0, 2.0]],\"toyplot\");\n",
       "(function(tables, context_menu, io, owner_id, key, label, names, columns, filename)\n",
       "        {\n",
       "            tables.set(owner_id, key, names, columns);\n",
       "\n",
       "            var owner = document.querySelector(\"#\" + owner_id);\n",
       "            function show_item(e)\n",
       "            {\n",
       "                return owner.contains(e.target);\n",
       "            }\n",
       "\n",
       "            function choose_item()\n",
       "            {\n",
       "                io.save_file(\"text/csv\", \"utf-8\", tables.get_csv(owner_id, key), filename + \".csv\");\n",
       "            }\n",
       "\n",
       "            context_menu.add_item(\"Save \" + label + \" as CSV\", show_item, choose_item);\n",
       "        })(modules[\"toyplot/tables\"],modules[\"toyplot/menus/context\"],modules[\"toyplot/io\"],\"te92c6719f7724206bd75e86329af3938\",\"data\",\"plot data\",[\"x\", \"y0\"],[[8.0, 7.5], [1.0, 2.0]],\"toyplot\");\n",
       "(function(tables, context_menu, io, owner_id, key, label, names, columns, filename)\n",
       "        {\n",
       "            tables.set(owner_id, key, names, columns);\n",
       "\n",
       "            var owner = document.querySelector(\"#\" + owner_id);\n",
       "            function show_item(e)\n",
       "            {\n",
       "                return owner.contains(e.target);\n",
       "            }\n",
       "\n",
       "            function choose_item()\n",
       "            {\n",
       "                io.save_file(\"text/csv\", \"utf-8\", tables.get_csv(owner_id, key), filename + \".csv\");\n",
       "            }\n",
       "\n",
       "            context_menu.add_item(\"Save \" + label + \" as CSV\", show_item, choose_item);\n",
       "        })(modules[\"toyplot/tables\"],modules[\"toyplot/menus/context\"],modules[\"toyplot/io\"],\"t84f8fe7cd160431d8700defb26818c23\",\"data\",\"plot data\",[\"x\", \"y0\"],[[9.0, 8.25], [2.0, 3.0]],\"toyplot\");\n",
       "(function(tables, context_menu, io, owner_id, key, label, names, columns, filename)\n",
       "        {\n",
       "            tables.set(owner_id, key, names, columns);\n",
       "\n",
       "            var owner = document.querySelector(\"#\" + owner_id);\n",
       "            function show_item(e)\n",
       "            {\n",
       "                return owner.contains(e.target);\n",
       "            }\n",
       "\n",
       "            function choose_item()\n",
       "            {\n",
       "                io.save_file(\"text/csv\", \"utf-8\", tables.get_csv(owner_id, key), filename + \".csv\");\n",
       "            }\n",
       "\n",
       "            context_menu.add_item(\"Save \" + label + \" as CSV\", show_item, choose_item);\n",
       "        })(modules[\"toyplot/tables\"],modules[\"toyplot/menus/context\"],modules[\"toyplot/io\"],\"tf56a4e24aa2e4128962999767e72acbc\",\"data\",\"plot data\",[\"x\", \"y0\"],[[10.0, 10.5], [1.0, 2.0]],\"toyplot\");\n",
       "(function(tables, context_menu, io, owner_id, key, label, names, columns, filename)\n",
       "        {\n",
       "            tables.set(owner_id, key, names, columns);\n",
       "\n",
       "            var owner = document.querySelector(\"#\" + owner_id);\n",
       "            function show_item(e)\n",
       "            {\n",
       "                return owner.contains(e.target);\n",
       "            }\n",
       "\n",
       "            function choose_item()\n",
       "            {\n",
       "                io.save_file(\"text/csv\", \"utf-8\", tables.get_csv(owner_id, key), filename + \".csv\");\n",
       "            }\n",
       "\n",
       "            context_menu.add_item(\"Save \" + label + \" as CSV\", show_item, choose_item);\n",
       "        })(modules[\"toyplot/tables\"],modules[\"toyplot/menus/context\"],modules[\"toyplot/io\"],\"te9c1507e42604f9f8d4d24afd4e796d6\",\"data\",\"plot data\",[\"x\", \"y0\"],[[11.0, 10.5], [1.0, 2.0]],\"toyplot\");\n",
       "(function(tables, context_menu, io, owner_id, key, label, names, columns, filename)\n",
       "        {\n",
       "            tables.set(owner_id, key, names, columns);\n",
       "\n",
       "            var owner = document.querySelector(\"#\" + owner_id);\n",
       "            function show_item(e)\n",
       "            {\n",
       "                return owner.contains(e.target);\n",
       "            }\n",
       "\n",
       "            function choose_item()\n",
       "            {\n",
       "                io.save_file(\"text/csv\", \"utf-8\", tables.get_csv(owner_id, key), filename + \".csv\");\n",
       "            }\n",
       "\n",
       "            context_menu.add_item(\"Save \" + label + \" as CSV\", show_item, choose_item);\n",
       "        })(modules[\"toyplot/tables\"],modules[\"toyplot/menus/context\"],modules[\"toyplot/io\"],\"t21c7b425cbb2469cab7b7652483b0840\",\"data\",\"plot data\",[\"x\", \"y0\"],[[12.0, 11.25], [2.0, 3.0]],\"toyplot\");\n",
       "(function(tables, context_menu, io, owner_id, key, label, names, columns, filename)\n",
       "        {\n",
       "            tables.set(owner_id, key, names, columns);\n",
       "\n",
       "            var owner = document.querySelector(\"#\" + owner_id);\n",
       "            function show_item(e)\n",
       "            {\n",
       "                return owner.contains(e.target);\n",
       "            }\n",
       "\n",
       "            function choose_item()\n",
       "            {\n",
       "                io.save_file(\"text/csv\", \"utf-8\", tables.get_csv(owner_id, key), filename + \".csv\");\n",
       "            }\n",
       "\n",
       "            context_menu.add_item(\"Save \" + label + \" as CSV\", show_item, choose_item);\n",
       "        })(modules[\"toyplot/tables\"],modules[\"toyplot/menus/context\"],modules[\"toyplot/io\"],\"t4c26e0ce7881448b9b7753e40a321fb1\",\"data\",\"plot data\",[\"x\", \"y0\"],[[13.0, 14.5625], [3.0, 4.0]],\"toyplot\");\n",
       "(function(tables, context_menu, io, owner_id, key, label, names, columns, filename)\n",
       "        {\n",
       "            tables.set(owner_id, key, names, columns);\n",
       "\n",
       "            var owner = document.querySelector(\"#\" + owner_id);\n",
       "            function show_item(e)\n",
       "            {\n",
       "                return owner.contains(e.target);\n",
       "            }\n",
       "\n",
       "            function choose_item()\n",
       "            {\n",
       "                io.save_file(\"text/csv\", \"utf-8\", tables.get_csv(owner_id, key), filename + \".csv\");\n",
       "            }\n",
       "\n",
       "            context_menu.add_item(\"Save \" + label + \" as CSV\", show_item, choose_item);\n",
       "        })(modules[\"toyplot/tables\"],modules[\"toyplot/menus/context\"],modules[\"toyplot/io\"],\"tb55d65cd90954e90b1f5c1aac7841679\",\"data\",\"plot data\",[\"x\", \"y0\"],[[14.0, 14.75], [1.0, 2.0]],\"toyplot\");\n",
       "(function(tables, context_menu, io, owner_id, key, label, names, columns, filename)\n",
       "        {\n",
       "            tables.set(owner_id, key, names, columns);\n",
       "\n",
       "            var owner = document.querySelector(\"#\" + owner_id);\n",
       "            function show_item(e)\n",
       "            {\n",
       "                return owner.contains(e.target);\n",
       "            }\n",
       "\n",
       "            function choose_item()\n",
       "            {\n",
       "                io.save_file(\"text/csv\", \"utf-8\", tables.get_csv(owner_id, key), filename + \".csv\");\n",
       "            }\n",
       "\n",
       "            context_menu.add_item(\"Save \" + label + \" as CSV\", show_item, choose_item);\n",
       "        })(modules[\"toyplot/tables\"],modules[\"toyplot/menus/context\"],modules[\"toyplot/io\"],\"t8dda9808eebe4dfda5c98080487a385a\",\"data\",\"plot data\",[\"x\", \"y0\"],[[15.0, 15.5], [0.0, 1.0]],\"toyplot\");\n",
       "(function(tables, context_menu, io, owner_id, key, label, names, columns, filename)\n",
       "        {\n",
       "            tables.set(owner_id, key, names, columns);\n",
       "\n",
       "            var owner = document.querySelector(\"#\" + owner_id);\n",
       "            function show_item(e)\n",
       "            {\n",
       "                return owner.contains(e.target);\n",
       "            }\n",
       "\n",
       "            function choose_item()\n",
       "            {\n",
       "                io.save_file(\"text/csv\", \"utf-8\", tables.get_csv(owner_id, key), filename + \".csv\");\n",
       "            }\n",
       "\n",
       "            context_menu.add_item(\"Save \" + label + \" as CSV\", show_item, choose_item);\n",
       "        })(modules[\"toyplot/tables\"],modules[\"toyplot/menus/context\"],modules[\"toyplot/io\"],\"td11950b98ec24157853f607e014833bd\",\"data\",\"plot data\",[\"x\", \"y0\"],[[16.0, 15.5], [0.0, 1.0]],\"toyplot\");\n",
       "(function(tables, context_menu, io, owner_id, key, label, names, columns, filename)\n",
       "        {\n",
       "            tables.set(owner_id, key, names, columns);\n",
       "\n",
       "            var owner = document.querySelector(\"#\" + owner_id);\n",
       "            function show_item(e)\n",
       "            {\n",
       "                return owner.contains(e.target);\n",
       "            }\n",
       "\n",
       "            function choose_item()\n",
       "            {\n",
       "                io.save_file(\"text/csv\", \"utf-8\", tables.get_csv(owner_id, key), filename + \".csv\");\n",
       "            }\n",
       "\n",
       "            context_menu.add_item(\"Save \" + label + \" as CSV\", show_item, choose_item);\n",
       "        })(modules[\"toyplot/tables\"],modules[\"toyplot/menus/context\"],modules[\"toyplot/io\"],\"t06b8c116387a45a3a56afc779c4a1765\",\"data\",\"plot data\",[\"x\", \"y0\"],[[17.0, 17.5], [1.0, 2.0]],\"toyplot\");\n",
       "(function(tables, context_menu, io, owner_id, key, label, names, columns, filename)\n",
       "        {\n",
       "            tables.set(owner_id, key, names, columns);\n",
       "\n",
       "            var owner = document.querySelector(\"#\" + owner_id);\n",
       "            function show_item(e)\n",
       "            {\n",
       "                return owner.contains(e.target);\n",
       "            }\n",
       "\n",
       "            function choose_item()\n",
       "            {\n",
       "                io.save_file(\"text/csv\", \"utf-8\", tables.get_csv(owner_id, key), filename + \".csv\");\n",
       "            }\n",
       "\n",
       "            context_menu.add_item(\"Save \" + label + \" as CSV\", show_item, choose_item);\n",
       "        })(modules[\"toyplot/tables\"],modules[\"toyplot/menus/context\"],modules[\"toyplot/io\"],\"t40873e346cb74604802e65e2820a91e8\",\"data\",\"plot data\",[\"x\", \"y0\"],[[18.0, 17.5], [1.0, 2.0]],\"toyplot\");\n",
       "(function(tables, context_menu, io, owner_id, key, label, names, columns, filename)\n",
       "        {\n",
       "            tables.set(owner_id, key, names, columns);\n",
       "\n",
       "            var owner = document.querySelector(\"#\" + owner_id);\n",
       "            function show_item(e)\n",
       "            {\n",
       "                return owner.contains(e.target);\n",
       "            }\n",
       "\n",
       "            function choose_item()\n",
       "            {\n",
       "                io.save_file(\"text/csv\", \"utf-8\", tables.get_csv(owner_id, key), filename + \".csv\");\n",
       "            }\n",
       "\n",
       "            context_menu.add_item(\"Save \" + label + \" as CSV\", show_item, choose_item);\n",
       "        })(modules[\"toyplot/tables\"],modules[\"toyplot/menus/context\"],modules[\"toyplot/io\"],\"t36f85fe012924ca78b1b81782ea59247\",\"data\",\"plot data\",[\"x\", \"y0\"],[[19.0, 12.42578125], [7.0, 8.0]],\"toyplot\");\n",
       "(function(tables, context_menu, io, owner_id, key, label, names, columns, filename)\n",
       "        {\n",
       "            tables.set(owner_id, key, names, columns);\n",
       "\n",
       "            var owner = document.querySelector(\"#\" + owner_id);\n",
       "            function show_item(e)\n",
       "            {\n",
       "                return owner.contains(e.target);\n",
       "            }\n",
       "\n",
       "            function choose_item()\n",
       "            {\n",
       "                io.save_file(\"text/csv\", \"utf-8\", tables.get_csv(owner_id, key), filename + \".csv\");\n",
       "            }\n",
       "\n",
       "            context_menu.add_item(\"Save \" + label + \" as CSV\", show_item, choose_item);\n",
       "        })(modules[\"toyplot/tables\"],modules[\"toyplot/menus/context\"],modules[\"toyplot/io\"],\"tb435dcf0ead046bca2c00034319fa19f\",\"data\",\"plot data\",[\"x\", \"y0\"],[[1.5, 2.625], [5.0, 6.0]],\"toyplot\");\n",
       "(function(tables, context_menu, io, owner_id, key, label, names, columns, filename)\n",
       "        {\n",
       "            tables.set(owner_id, key, names, columns);\n",
       "\n",
       "            var owner = document.querySelector(\"#\" + owner_id);\n",
       "            function show_item(e)\n",
       "            {\n",
       "                return owner.contains(e.target);\n",
       "            }\n",
       "\n",
       "            function choose_item()\n",
       "            {\n",
       "                io.save_file(\"text/csv\", \"utf-8\", tables.get_csv(owner_id, key), filename + \".csv\");\n",
       "            }\n",
       "\n",
       "            context_menu.add_item(\"Save \" + label + \" as CSV\", show_item, choose_item);\n",
       "        })(modules[\"toyplot/tables\"],modules[\"toyplot/menus/context\"],modules[\"toyplot/io\"],\"tb443c13f3e9b439dbeb8b9e141fdd07f\",\"data\",\"plot data\",[\"x\", \"y0\"],[[4.5, 3.75], [4.0, 5.0]],\"toyplot\");\n",
       "(function(tables, context_menu, io, owner_id, key, label, names, columns, filename)\n",
       "        {\n",
       "            tables.set(owner_id, key, names, columns);\n",
       "\n",
       "            var owner = document.querySelector(\"#\" + owner_id);\n",
       "            function show_item(e)\n",
       "            {\n",
       "                return owner.contains(e.target);\n",
       "            }\n",
       "\n",
       "            function choose_item()\n",
       "            {\n",
       "                io.save_file(\"text/csv\", \"utf-8\", tables.get_csv(owner_id, key), filename + \".csv\");\n",
       "            }\n",
       "\n",
       "            context_menu.add_item(\"Save \" + label + \" as CSV\", show_item, choose_item);\n",
       "        })(modules[\"toyplot/tables\"],modules[\"toyplot/menus/context\"],modules[\"toyplot/io\"],\"tdfbc9ca7d26d4b208db332eadb7dee37\",\"data\",\"plot data\",[\"x\", \"y0\"],[[3.75, 2.625], [5.0, 6.0]],\"toyplot\");\n",
       "(function(tables, context_menu, io, owner_id, key, label, names, columns, filename)\n",
       "        {\n",
       "            tables.set(owner_id, key, names, columns);\n",
       "\n",
       "            var owner = document.querySelector(\"#\" + owner_id);\n",
       "            function show_item(e)\n",
       "            {\n",
       "                return owner.contains(e.target);\n",
       "            }\n",
       "\n",
       "            function choose_item()\n",
       "            {\n",
       "                io.save_file(\"text/csv\", \"utf-8\", tables.get_csv(owner_id, key), filename + \".csv\");\n",
       "            }\n",
       "\n",
       "            context_menu.add_item(\"Save \" + label + \" as CSV\", show_item, choose_item);\n",
       "        })(modules[\"toyplot/tables\"],modules[\"toyplot/menus/context\"],modules[\"toyplot/io\"],\"t047b15c5e9cd45dda6a39dc5025ffe5c\",\"data\",\"plot data\",[\"x\", \"y0\"],[[2.625, 5.8515625], [6.0, 7.0]],\"toyplot\");\n",
       "(function(tables, context_menu, io, owner_id, key, label, names, columns, filename)\n",
       "        {\n",
       "            tables.set(owner_id, key, names, columns);\n",
       "\n",
       "            var owner = document.querySelector(\"#\" + owner_id);\n",
       "            function show_item(e)\n",
       "            {\n",
       "                return owner.contains(e.target);\n",
       "            }\n",
       "\n",
       "            function choose_item()\n",
       "            {\n",
       "                io.save_file(\"text/csv\", \"utf-8\", tables.get_csv(owner_id, key), filename + \".csv\");\n",
       "            }\n",
       "\n",
       "            context_menu.add_item(\"Save \" + label + \" as CSV\", show_item, choose_item);\n",
       "        })(modules[\"toyplot/tables\"],modules[\"toyplot/menus/context\"],modules[\"toyplot/io\"],\"td316f6e3bfbc4675bc735c64d9ca484e\",\"data\",\"plot data\",[\"x\", \"y0\"],[[7.5, 8.25], [2.0, 3.0]],\"toyplot\");\n",
       "(function(tables, context_menu, io, owner_id, key, label, names, columns, filename)\n",
       "        {\n",
       "            tables.set(owner_id, key, names, columns);\n",
       "\n",
       "            var owner = document.querySelector(\"#\" + owner_id);\n",
       "            function show_item(e)\n",
       "            {\n",
       "                return owner.contains(e.target);\n",
       "            }\n",
       "\n",
       "            function choose_item()\n",
       "            {\n",
       "                io.save_file(\"text/csv\", \"utf-8\", tables.get_csv(owner_id, key), filename + \".csv\");\n",
       "            }\n",
       "\n",
       "            context_menu.add_item(\"Save \" + label + \" as CSV\", show_item, choose_item);\n",
       "        })(modules[\"toyplot/tables\"],modules[\"toyplot/menus/context\"],modules[\"toyplot/io\"],\"tdb2b891c37ca439aae5582603ccdbde1\",\"data\",\"plot data\",[\"x\", \"y0\"],[[8.25, 9.75], [3.0, 4.0]],\"toyplot\");\n",
       "(function(tables, context_menu, io, owner_id, key, label, names, columns, filename)\n",
       "        {\n",
       "            tables.set(owner_id, key, names, columns);\n",
       "\n",
       "            var owner = document.querySelector(\"#\" + owner_id);\n",
       "            function show_item(e)\n",
       "            {\n",
       "                return owner.contains(e.target);\n",
       "            }\n",
       "\n",
       "            function choose_item()\n",
       "            {\n",
       "                io.save_file(\"text/csv\", \"utf-8\", tables.get_csv(owner_id, key), filename + \".csv\");\n",
       "            }\n",
       "\n",
       "            context_menu.add_item(\"Save \" + label + \" as CSV\", show_item, choose_item);\n",
       "        })(modules[\"toyplot/tables\"],modules[\"toyplot/menus/context\"],modules[\"toyplot/io\"],\"ta401c4ebdfa8442883a950fbd803947e\",\"data\",\"plot data\",[\"x\", \"y0\"],[[10.5, 11.25], [2.0, 3.0]],\"toyplot\");\n",
       "(function(tables, context_menu, io, owner_id, key, label, names, columns, filename)\n",
       "        {\n",
       "            tables.set(owner_id, key, names, columns);\n",
       "\n",
       "            var owner = document.querySelector(\"#\" + owner_id);\n",
       "            function show_item(e)\n",
       "            {\n",
       "                return owner.contains(e.target);\n",
       "            }\n",
       "\n",
       "            function choose_item()\n",
       "            {\n",
       "                io.save_file(\"text/csv\", \"utf-8\", tables.get_csv(owner_id, key), filename + \".csv\");\n",
       "            }\n",
       "\n",
       "            context_menu.add_item(\"Save \" + label + \" as CSV\", show_item, choose_item);\n",
       "        })(modules[\"toyplot/tables\"],modules[\"toyplot/menus/context\"],modules[\"toyplot/io\"],\"ta634802d37bc4aaeac0fad720229d19a\",\"data\",\"plot data\",[\"x\", \"y0\"],[[11.25, 9.75], [3.0, 4.0]],\"toyplot\");\n",
       "(function(tables, context_menu, io, owner_id, key, label, names, columns, filename)\n",
       "        {\n",
       "            tables.set(owner_id, key, names, columns);\n",
       "\n",
       "            var owner = document.querySelector(\"#\" + owner_id);\n",
       "            function show_item(e)\n",
       "            {\n",
       "                return owner.contains(e.target);\n",
       "            }\n",
       "\n",
       "            function choose_item()\n",
       "            {\n",
       "                io.save_file(\"text/csv\", \"utf-8\", tables.get_csv(owner_id, key), filename + \".csv\");\n",
       "            }\n",
       "\n",
       "            context_menu.add_item(\"Save \" + label + \" as CSV\", show_item, choose_item);\n",
       "        })(modules[\"toyplot/tables\"],modules[\"toyplot/menus/context\"],modules[\"toyplot/io\"],\"t6d1a012c183643e3afb8b7ba5af651ee\",\"data\",\"plot data\",[\"x\", \"y0\"],[[9.75, 12.15625], [4.0, 5.0]],\"toyplot\");\n",
       "(function(tables, context_menu, io, owner_id, key, label, names, columns, filename)\n",
       "        {\n",
       "            tables.set(owner_id, key, names, columns);\n",
       "\n",
       "            var owner = document.querySelector(\"#\" + owner_id);\n",
       "            function show_item(e)\n",
       "            {\n",
       "                return owner.contains(e.target);\n",
       "            }\n",
       "\n",
       "            function choose_item()\n",
       "            {\n",
       "                io.save_file(\"text/csv\", \"utf-8\", tables.get_csv(owner_id, key), filename + \".csv\");\n",
       "            }\n",
       "\n",
       "            context_menu.add_item(\"Save \" + label + \" as CSV\", show_item, choose_item);\n",
       "        })(modules[\"toyplot/tables\"],modules[\"toyplot/menus/context\"],modules[\"toyplot/io\"],\"t49e3cf7b1410491a911977bbeec7e37a\",\"data\",\"plot data\",[\"x\", \"y0\"],[[15.5, 14.75], [1.0, 2.0]],\"toyplot\");\n",
       "(function(tables, context_menu, io, owner_id, key, label, names, columns, filename)\n",
       "        {\n",
       "            tables.set(owner_id, key, names, columns);\n",
       "\n",
       "            var owner = document.querySelector(\"#\" + owner_id);\n",
       "            function show_item(e)\n",
       "            {\n",
       "                return owner.contains(e.target);\n",
       "            }\n",
       "\n",
       "            function choose_item()\n",
       "            {\n",
       "                io.save_file(\"text/csv\", \"utf-8\", tables.get_csv(owner_id, key), filename + \".csv\");\n",
       "            }\n",
       "\n",
       "            context_menu.add_item(\"Save \" + label + \" as CSV\", show_item, choose_item);\n",
       "        })(modules[\"toyplot/tables\"],modules[\"toyplot/menus/context\"],modules[\"toyplot/io\"],\"tbd0427d6816842958a128d764094dd41\",\"data\",\"plot data\",[\"x\", \"y0\"],[[14.75, 16.125], [2.0, 3.0]],\"toyplot\");\n",
       "(function(tables, context_menu, io, owner_id, key, label, names, columns, filename)\n",
       "        {\n",
       "            tables.set(owner_id, key, names, columns);\n",
       "\n",
       "            var owner = document.querySelector(\"#\" + owner_id);\n",
       "            function show_item(e)\n",
       "            {\n",
       "                return owner.contains(e.target);\n",
       "            }\n",
       "\n",
       "            function choose_item()\n",
       "            {\n",
       "                io.save_file(\"text/csv\", \"utf-8\", tables.get_csv(owner_id, key), filename + \".csv\");\n",
       "            }\n",
       "\n",
       "            context_menu.add_item(\"Save \" + label + \" as CSV\", show_item, choose_item);\n",
       "        })(modules[\"toyplot/tables\"],modules[\"toyplot/menus/context\"],modules[\"toyplot/io\"],\"td62a9025013c40d88fec9a2439335517\",\"data\",\"plot data\",[\"x\", \"y0\"],[[17.5, 16.125], [2.0, 3.0]],\"toyplot\");\n",
       "(function(tables, context_menu, io, owner_id, key, label, names, columns, filename)\n",
       "        {\n",
       "            tables.set(owner_id, key, names, columns);\n",
       "\n",
       "            var owner = document.querySelector(\"#\" + owner_id);\n",
       "            function show_item(e)\n",
       "            {\n",
       "                return owner.contains(e.target);\n",
       "            }\n",
       "\n",
       "            function choose_item()\n",
       "            {\n",
       "                io.save_file(\"text/csv\", \"utf-8\", tables.get_csv(owner_id, key), filename + \".csv\");\n",
       "            }\n",
       "\n",
       "            context_menu.add_item(\"Save \" + label + \" as CSV\", show_item, choose_item);\n",
       "        })(modules[\"toyplot/tables\"],modules[\"toyplot/menus/context\"],modules[\"toyplot/io\"],\"t6a0668de3a984287a76b9bf4226f206f\",\"data\",\"plot data\",[\"x\", \"y0\"],[[16.125, 14.5625], [3.0, 4.0]],\"toyplot\");\n",
       "(function(tables, context_menu, io, owner_id, key, label, names, columns, filename)\n",
       "        {\n",
       "            tables.set(owner_id, key, names, columns);\n",
       "\n",
       "            var owner = document.querySelector(\"#\" + owner_id);\n",
       "            function show_item(e)\n",
       "            {\n",
       "                return owner.contains(e.target);\n",
       "            }\n",
       "\n",
       "            function choose_item()\n",
       "            {\n",
       "                io.save_file(\"text/csv\", \"utf-8\", tables.get_csv(owner_id, key), filename + \".csv\");\n",
       "            }\n",
       "\n",
       "            context_menu.add_item(\"Save \" + label + \" as CSV\", show_item, choose_item);\n",
       "        })(modules[\"toyplot/tables\"],modules[\"toyplot/menus/context\"],modules[\"toyplot/io\"],\"tcb84dc5ed4d34680be24f0b5d9de4364\",\"data\",\"plot data\",[\"x\", \"y0\"],[[14.5625, 12.15625], [4.0, 5.0]],\"toyplot\");\n",
       "(function(tables, context_menu, io, owner_id, key, label, names, columns, filename)\n",
       "        {\n",
       "            tables.set(owner_id, key, names, columns);\n",
       "\n",
       "            var owner = document.querySelector(\"#\" + owner_id);\n",
       "            function show_item(e)\n",
       "            {\n",
       "                return owner.contains(e.target);\n",
       "            }\n",
       "\n",
       "            function choose_item()\n",
       "            {\n",
       "                io.save_file(\"text/csv\", \"utf-8\", tables.get_csv(owner_id, key), filename + \".csv\");\n",
       "            }\n",
       "\n",
       "            context_menu.add_item(\"Save \" + label + \" as CSV\", show_item, choose_item);\n",
       "        })(modules[\"toyplot/tables\"],modules[\"toyplot/menus/context\"],modules[\"toyplot/io\"],\"t52f7eec44acb4f7fa167834de93e44c3\",\"data\",\"plot data\",[\"x\", \"y0\"],[[12.15625, 9.078125], [5.0, 6.0]],\"toyplot\");\n",
       "(function(tables, context_menu, io, owner_id, key, label, names, columns, filename)\n",
       "        {\n",
       "            tables.set(owner_id, key, names, columns);\n",
       "\n",
       "            var owner = document.querySelector(\"#\" + owner_id);\n",
       "            function show_item(e)\n",
       "            {\n",
       "                return owner.contains(e.target);\n",
       "            }\n",
       "\n",
       "            function choose_item()\n",
       "            {\n",
       "                io.save_file(\"text/csv\", \"utf-8\", tables.get_csv(owner_id, key), filename + \".csv\");\n",
       "            }\n",
       "\n",
       "            context_menu.add_item(\"Save \" + label + \" as CSV\", show_item, choose_item);\n",
       "        })(modules[\"toyplot/tables\"],modules[\"toyplot/menus/context\"],modules[\"toyplot/io\"],\"t712cb03bcdcc44d1ac4afaf373c4d2df\",\"data\",\"plot data\",[\"x\", \"y0\"],[[9.078125, 5.8515625], [6.0, 7.0]],\"toyplot\");\n",
       "(function(tables, context_menu, io, owner_id, key, label, names, columns, filename)\n",
       "        {\n",
       "            tables.set(owner_id, key, names, columns);\n",
       "\n",
       "            var owner = document.querySelector(\"#\" + owner_id);\n",
       "            function show_item(e)\n",
       "            {\n",
       "                return owner.contains(e.target);\n",
       "            }\n",
       "\n",
       "            function choose_item()\n",
       "            {\n",
       "                io.save_file(\"text/csv\", \"utf-8\", tables.get_csv(owner_id, key), filename + \".csv\");\n",
       "            }\n",
       "\n",
       "            context_menu.add_item(\"Save \" + label + \" as CSV\", show_item, choose_item);\n",
       "        })(modules[\"toyplot/tables\"],modules[\"toyplot/menus/context\"],modules[\"toyplot/io\"],\"tb0b57df530c842a0a5760bee8fd1f5d8\",\"data\",\"plot data\",[\"x\", \"y0\"],[[5.8515625, 12.42578125], [7.0, 8.0]],\"toyplot\");\n",
       "(function(tables, context_menu, io, owner_id, key, label, names, columns, filename)\n",
       "        {\n",
       "            tables.set(owner_id, key, names, columns);\n",
       "\n",
       "            var owner = document.querySelector(\"#\" + owner_id);\n",
       "            function show_item(e)\n",
       "            {\n",
       "                return owner.contains(e.target);\n",
       "            }\n",
       "\n",
       "            function choose_item()\n",
       "            {\n",
       "                io.save_file(\"text/csv\", \"utf-8\", tables.get_csv(owner_id, key), filename + \".csv\");\n",
       "            }\n",
       "\n",
       "            context_menu.add_item(\"Save \" + label + \" as CSV\", show_item, choose_item);\n",
       "        })(modules[\"toyplot/tables\"],modules[\"toyplot/menus/context\"],modules[\"toyplot/io\"],\"t3a6bc8f96dbd495b8c1eceeacbe1a227\",\"data\",\"plot data\",[\"x\", \"y0\"],[[12.42578125, 6.212890625], [8.0, 9.0]],\"toyplot\");\n",
       "(function(axis, axis_id, projection)\n",
       "        {\n",
       "            axis.show_coordinates(axis_id, projection);\n",
       "        })(modules[\"toyplot.coordinates.Axis\"],\"t975da991fea24620b09df386615c6bf8\",[{\"domain\": {\"bounds\": {\"max\": Infinity, \"min\": -Infinity}, \"max\": 20.0, \"min\": 0.0}, \"range\": {\"bounds\": {\"max\": Infinity, \"min\": -Infinity}, \"max\": 250.0, \"min\": 0.0}, \"scale\": \"linear\"}]);\n",
       "(function(axis, axis_id, projection)\n",
       "        {\n",
       "            axis.show_coordinates(axis_id, projection);\n",
       "        })(modules[\"toyplot.coordinates.Axis\"],\"t558c160f22324839b051f0813280b329\",[{\"domain\": {\"bounds\": {\"max\": Infinity, \"min\": -Infinity}, \"max\": 9.0, \"min\": 0.0}, \"range\": {\"bounds\": {\"max\": Infinity, \"min\": -Infinity}, \"max\": 250.0, \"min\": 0.0}, \"scale\": \"linear\"}]);\n",
       "})();</script></div></div>"
      ]
     },
     "metadata": {},
     "output_type": "display_data"
    }
   ],
   "source": []
  },
  {
   "cell_type": "code",
   "execution_count": 32,
   "id": "bcf87556",
   "metadata": {},
   "outputs": [
    {
     "name": "stdout",
     "output_type": "stream",
     "text": [
      "295 µs ± 10.7 µs per loop (mean ± std. dev. of 7 runs, 1,000 loops each)\n"
     ]
    }
   ],
   "source": [
    "%%timeit\n",
    "tree._update()"
   ]
  },
  {
   "cell_type": "code",
   "execution_count": 94,
   "id": "960ab66c",
   "metadata": {},
   "outputs": [],
   "source": [
    "tree = toytree.rtree.unittree(10)"
   ]
  },
  {
   "cell_type": "code",
   "execution_count": 111,
   "id": "ae8e6c52",
   "metadata": {},
   "outputs": [
    {
     "data": {
      "text/html": [
       "<div class=\"toyplot\" id=\"t9a33298b1e3b4368aebc31ae6288de3f\" style=\"text-align:center\"><svg class=\"toyplot-canvas-Canvas\" xmlns:toyplot=\"http://www.sandia.gov/toyplot\" xmlns:xlink=\"http://www.w3.org/1999/xlink\" xmlns=\"http://www.w3.org/2000/svg\" width=\"260.0px\" height=\"275.0px\" viewBox=\"0 0 260.0 275.0\" preserveAspectRatio=\"xMidYMid meet\" style=\"background-color:transparent;border-color:#292724;border-style:none;border-width:1.0;fill:rgb(16.1%,15.3%,14.1%);fill-opacity:1.0;font-family:Helvetica;font-size:12px;opacity:1.0;stroke:rgb(16.1%,15.3%,14.1%);stroke-opacity:1.0;stroke-width:1.0\" id=\"t242045e2cdcb40a6a0b8e90d90d15f59\"><g class=\"toyplot-coordinates-Cartesian\" id=\"t9777e10cac074d73a55f1de610565693\"><clipPath id=\"t5a92d156ea464523bd483ab542396ecf\"><rect x=\"35.0\" y=\"35.0\" width=\"190.0\" height=\"205.0\"></rect></clipPath><g clip-path=\"url(#t5a92d156ea464523bd483ab542396ecf)\"><g class=\"toytree-mark-Toytree\" id=\"t3107816ed77f41d18e41d76aefb7c362\"><g class=\"toytree-Edges\" style=\"fill:none;stroke:rgba(16.1%,15.3%,14.1%,1.000);stroke-linecap:round;stroke-width:2.0\"><path d=\"M 98.9 205.3 L 98.9 218.9 L 172.2 218.9\" id=\"11,0\" style=\"stroke-width:nan\"></path><path d=\"M 123.3 191.7 L 123.3 200.8 L 172.2 200.8\" id=\"10,1\" style=\"stroke-width:nan\"></path><path d=\"M 123.3 191.7 L 123.3 182.7 L 172.2 182.7\" id=\"10,2\" style=\"stroke-width:nan\"></path><path d=\"M 147.7 155.6 L 147.7 164.6 L 172.2 164.6\" id=\"12,3\" style=\"stroke-width:nan\"></path><path d=\"M 147.7 155.6 L 147.7 146.5 L 172.2 146.5\" id=\"12,4\" style=\"stroke-width:nan\"></path><path d=\"M 123.3 142.0 L 123.3 128.5 L 172.2 128.5\" id=\"13,5\" style=\"stroke-width:nan\"></path><path d=\"M 123.3 101.3 L 123.3 110.4 L 172.2 110.4\" id=\"14,6\" style=\"stroke-width:nan\"></path><path d=\"M 123.3 101.3 L 123.3 92.3 L 172.2 92.3\" id=\"14,7\" style=\"stroke-width:nan\"></path><path d=\"M 74.4 65.2 L 74.4 74.2 L 172.2 74.2\" id=\"17,8\" style=\"stroke-width:nan\"></path><path d=\"M 74.4 65.2 L 74.4 56.1 L 172.2 56.1\" id=\"17,9\" style=\"stroke-width:nan\"></path><path d=\"M 98.9 205.3 L 98.9 191.7 L 123.3 191.7\" id=\"11,10\" style=\"stroke-width:nan\"></path><path d=\"M 74.4 163.5 L 74.4 205.3 L 98.9 205.3\" id=\"16,11\" style=\"stroke-width:nan\"></path><path d=\"M 123.3 142.0 L 123.3 155.6 L 147.7 155.6\" id=\"13,12\" style=\"stroke-width:nan\"></path><path d=\"M 98.9 121.7 L 98.9 142.0 L 123.3 142.0\" id=\"15,13\" style=\"stroke-width:nan\"></path><path d=\"M 98.9 121.7 L 98.9 101.3 L 123.3 101.3\" id=\"15,14\" style=\"stroke-width:nan\"></path><path d=\"M 74.4 163.5 L 74.4 121.7 L 98.9 121.7\" id=\"16,15\" style=\"stroke-width:nan\"></path><path d=\"M 50.0 114.3 L 50.0 163.5 L 74.4 163.5\" id=\"18,16\" style=\"stroke-width:nan\"></path><path d=\"M 50.0 114.3 L 50.0 65.2 L 74.4 65.2\" id=\"18,17\" style=\"stroke-width:nan\"></path></g><g class=\"toytree-TipLabels\" style=\"fill:rgb(16.1%,15.3%,14.1%);fill-opacity:1.0;font-family:Helvetica;font-size:11.0px;font-weight:300;stroke:none;vertical-align:baseline;white-space:pre\"><g class=\"toytree-TipLabel\" transform=\"translate(172.1618835835425,218.86291179596174)\"><text x=\"15.0\" y=\"2.8104999999999993\" style=\"\">r0</text></g><g class=\"toytree-TipLabel\" transform=\"translate(172.1618835835425,200.78226473019248)\"><text x=\"15.0\" y=\"2.8104999999999993\" style=\"\">r1</text></g><g class=\"toytree-TipLabel\" transform=\"translate(172.1618835835425,182.70161766442322)\"><text x=\"15.0\" y=\"2.8104999999999993\" style=\"\">r2</text></g><g class=\"toytree-TipLabel\" transform=\"translate(172.1618835835425,164.6209705986539)\"><text x=\"15.0\" y=\"2.8104999999999993\" style=\"\">r3</text></g><g class=\"toytree-TipLabel\" transform=\"translate(172.1618835835425,146.54032353288463)\"><text x=\"15.0\" y=\"2.8104999999999993\" style=\"\">r4</text></g><g class=\"toytree-TipLabel\" transform=\"translate(172.1618835835425,128.45967646711534)\"><text x=\"15.0\" y=\"2.8104999999999993\" style=\"\">r5</text></g><g class=\"toytree-TipLabel\" transform=\"translate(172.1618835835425,110.37902940134609)\"><text x=\"15.0\" y=\"2.8104999999999993\" style=\"\">r6</text></g><g class=\"toytree-TipLabel\" transform=\"translate(172.1618835835425,92.2983823355768)\"><text x=\"15.0\" y=\"2.8104999999999993\" style=\"\">r7</text></g><g class=\"toytree-TipLabel\" transform=\"translate(172.1618835835425,74.2177352698075)\"><text x=\"15.0\" y=\"2.8104999999999993\" style=\"\">r8</text></g><g class=\"toytree-TipLabel\" transform=\"translate(172.1618835835425,56.137088204038236)\"><text x=\"15.0\" y=\"2.8104999999999993\" style=\"\">r9</text></g></g></g></g></g></svg><div class=\"toyplot-behavior\"><script>(function()\n",
       "{\n",
       "var modules={};\n",
       "})();</script></div></div>"
      ]
     },
     "metadata": {},
     "output_type": "display_data"
    }
   ],
   "source": [
    "tree.draw();"
   ]
  },
  {
   "cell_type": "code",
   "execution_count": 109,
   "id": "911fcdf3",
   "metadata": {},
   "outputs": [
    {
     "data": {
      "text/plain": [
       "[Node(0),\n",
       " Node(1),\n",
       " Node(2),\n",
       " Node(3),\n",
       " Node(4),\n",
       " Node(5),\n",
       " Node(6),\n",
       " Node(7),\n",
       " Node(8),\n",
       " Node(9),\n",
       " Node(10),\n",
       " Node(11),\n",
       " Node(12),\n",
       " Node(13),\n",
       " Node(14),\n",
       " Node(15),\n",
       " Node(16),\n",
       " Node(17),\n",
       " Node(18)]"
      ]
     },
     "execution_count": 109,
     "metadata": {},
     "output_type": "execute_result"
    }
   ],
   "source": [
    "[tree[i] for i in range(tree.nnodes)]"
   ]
  },
  {
   "cell_type": "code",
   "execution_count": 98,
   "id": "a61a7ada",
   "metadata": {},
   "outputs": [
    {
     "data": {
      "text/plain": [
       "[Node(18),\n",
       " Node(16),\n",
       " Node(17),\n",
       " Node(11),\n",
       " Node(15),\n",
       " Node(8),\n",
       " Node(9),\n",
       " Node(0),\n",
       " Node(10),\n",
       " Node(13),\n",
       " Node(14),\n",
       " Node(1),\n",
       " Node(2),\n",
       " Node(12),\n",
       " Node(5),\n",
       " Node(6),\n",
       " Node(7),\n",
       " Node(3),\n",
       " Node(4)]"
      ]
     },
     "execution_count": 98,
     "metadata": {},
     "output_type": "execute_result"
    }
   ],
   "source": [
    "list(tree.treenode.traverse(\"levelorder\"))"
   ]
  },
  {
   "cell_type": "code",
   "execution_count": null,
   "id": "707c0151",
   "metadata": {},
   "outputs": [],
   "source": []
  },
  {
   "cell_type": "code",
   "execution_count": null,
   "id": "b4291e22",
   "metadata": {},
   "outputs": [],
   "source": []
  },
  {
   "cell_type": "code",
   "execution_count": 91,
   "id": "b32aa784",
   "metadata": {},
   "outputs": [],
   "source": [
    "root_node = get_random_tree(10, seed=123)"
   ]
  },
  {
   "cell_type": "code",
   "execution_count": 92,
   "id": "d521bf6f",
   "metadata": {},
   "outputs": [],
   "source": [
    "gen = _traverse_levelorder(root_node)"
   ]
  },
  {
   "cell_type": "code",
   "execution_count": 93,
   "id": "5c66f127",
   "metadata": {},
   "outputs": [
    {
     "name": "stdout",
     "output_type": "stream",
     "text": [
      "['root']\n",
      "['left1', 'right1']\n",
      "['right1', 'left3', 'right3']\n",
      "['left3', 'right3', 'left2', 'right2']\n",
      "['right3', 'left2', 'right2', 'left5', 'right5']\n",
      "['left2', 'right2', 'left5', 'right5', 'left4', 'right4']\n",
      "['right2', 'left5', 'right5', 'left4', 'right4', 'left6', 'right6']\n",
      "['left5', 'right5', 'left4', 'right4', 'left6', 'right6', 'left8', 'right8']\n",
      "['right5', 'left4', 'right4', 'left6', 'right6', 'left8', 'right8']\n",
      "['left4', 'right4', 'left6', 'right6', 'left8', 'right8']\n",
      "['right4', 'left6', 'right6', 'left8', 'right8']\n",
      "['left6', 'right6', 'left8', 'right8']\n",
      "['right6', 'left8', 'right8']\n",
      "['left8', 'right8', 'left7', 'right7']\n",
      "['right8', 'left7', 'right7']\n",
      "['left7', 'right7']\n",
      "['right7']\n",
      "['left9', 'right9']\n",
      "['right9']\n"
     ]
    }
   ],
   "source": [
    "x = list(gen)"
   ]
  },
  {
   "cell_type": "code",
   "execution_count": 69,
   "id": "3380de0f",
   "metadata": {},
   "outputs": [
    {
     "name": "stdout",
     "output_type": "stream",
     "text": [
      "Node(root)\n",
      "Node(left1)\n",
      "Node(left3)\n",
      "Node(left5)\n",
      "Node(right5)\n",
      "Node(right3)\n",
      "Node(left4)\n",
      "Node(right4)\n",
      "Node(right1)\n",
      "Node(left2)\n",
      "Node(left6)\n",
      "Node(right6)\n",
      "Node(left7)\n",
      "Node(right7)\n",
      "Node(left9)\n",
      "Node(right9)\n",
      "Node(right2)\n",
      "Node(left8)\n",
      "Node(right8)\n"
     ]
    }
   ],
   "source": [
    "for item in gen:\n",
    "    print(item)"
   ]
  },
  {
   "cell_type": "code",
   "execution_count": 41,
   "id": "8d3b7f2e",
   "metadata": {},
   "outputs": [],
   "source": [
    "nodes = list(gen)"
   ]
  },
  {
   "cell_type": "code",
   "execution_count": 43,
   "id": "7225922f",
   "metadata": {},
   "outputs": [
    {
     "data": {
      "text/plain": [
       "[]"
      ]
     },
     "execution_count": 43,
     "metadata": {},
     "output_type": "execute_result"
    }
   ],
   "source": [
    "list(gen)"
   ]
  },
  {
   "cell_type": "raw",
   "id": "77ffc80f",
   "metadata": {},
   "source": [
    "x * y"
   ]
  },
  {
   "cell_type": "raw",
   "id": "d5bfee8c",
   "metadata": {},
   "source": []
  },
  {
   "cell_type": "raw",
   "id": "f310dfdd",
   "metadata": {},
   "source": [
    "\n",
    "    from typing import Tuple, Optional, Iterator\n",
    "    from collections import deque\n",
    "\n",
    "    class Node:\n",
    "        \"\"\"A Node instance that can connect with other Nodes to form a Tree.\n",
    "\n",
    "        Parameters\n",
    "        ----------\n",
    "        name: str\n",
    "            A name string associated with a Node when printed or visualized.\n",
    "        dist: float\n",
    "            A float value as the distance between this Node and its parent (up)\n",
    "\n",
    "        Attributes\n",
    "        ----------\n",
    "        children: Tuple\n",
    "            A tuple of Node instances that are descended from this Node.\n",
    "        up: Node or None\n",
    "            A Node that is ancestral to this Node, or None if this Node is root.\n",
    "\n",
    "        Examples\n",
    "        --------\n",
    "        >>> node = Node(\"A\")\n",
    "        >>> node.add_child(\"B\")\n",
    "        >>> print(node.name, node.children)\n",
    "        \"\"\"\n",
    "        def __init__(self, name: str=\"\", dist: float=0.):\n",
    "            self.name = str(name)\n",
    "            self.dist = float(dist)\n",
    "            self.children: Tuple['Node'] = ()\n",
    "            self.up: Optional['Node'] = None\n",
    "\n",
    "        def __repr__(self) -> str:\n",
    "            \"\"\"Return string representation as Node(name).\"\"\"\n",
    "            return f\"Node({self.name})\"\n",
    "\n",
    "        def is_leaf(self) -> bool:\n",
    "            \"\"\"Return True if Node is a leaf (i.e., has no children).\"\"\"\n",
    "            return not bool(self.children)\n",
    "\n",
    "        def is_root(self) -> bool:\n",
    "            \"\"\"Return True if Node is the root (i.e., has no ancestor).\"\"\"\n",
    "            return bool(self.up is None)\n",
    "\n",
    "        def add_child(self, name: str=\"\", dist: float=0.) -> \"Node\":\n",
    "            \"\"\"Add a Node as a child to this one.\"\"\"\n",
    "            new_node = Node(name=name, dist=dist)\n",
    "            new_node.up = self\n",
    "            self.children += (new_node,)\n",
    "            return new_node\n",
    "\n",
    "        ############################################################\n",
    "        ## TRAVERSAL FUNCTIONS                                    ##\n",
    "        ############################################################\n",
    "\n",
    "        def traverse(self, strategy: str=\"levelorder\") -> Iterator['Node']:\n",
    "            \"\"\"Return a generator over all Nodes using a tree traversal strategy.\n",
    "\n",
    "            Parameters\n",
    "            ----------\n",
    "            strategy: str\n",
    "                A traversal strategy for the order in which nodes will\n",
    "                be visited: 'preorder', 'postorder', 'levelorder',\n",
    "                'inorder', or 'idxorder'.\n",
    "\n",
    "            Notes\n",
    "            -----\n",
    "            preorder:\n",
    "                Parents are visited before children. Traverses all the way\n",
    "                down each left subtree before backtracking to right subtree.\n",
    "            postorder:\n",
    "                Children are visited before parents. The left subtree is\n",
    "                visited, then right, then the parent.\n",
    "            levelorder:\n",
    "                Nodes the same depth from root are visited left to\n",
    "                right, before descending to next level.\n",
    "            idxorder:\n",
    "                Leaf nodes are visited left to right, followed by internal\n",
    "                nodes in postorder traversal order.\n",
    "            \"\"\"\n",
    "            if strategy == \"preorder\":\n",
    "                return self._traverse_preorder()\n",
    "            if strategy == \"levelorder\":\n",
    "                return self._traverse_levelorder()\n",
    "            if strategy == \"postorder\":\n",
    "                return self._traverse_postorder()\n",
    "            if strategy == \"idxorder\":\n",
    "                return self._traverse_idxorder()\n",
    "            raise ValueError(\n",
    "                f\"strategy {strategy} is not a supported traversal algorithm\")\n",
    "\n",
    "        def _traverse_preorder(self) -> Iterator['Node']:\n",
    "            \"\"\"Iterate over all nodes by 'preorder' traversal.\"\"\"\n",
    "            queue = deque([self])\n",
    "            while queue:\n",
    "                node = queue.pop()\n",
    "                yield node\n",
    "                queue.extend(node.children[::-1])\n",
    "\n",
    "        def _traverse_levelorder(self) -> Iterator['Node']:\n",
    "            \"\"\"Iterate over all desdecendant nodes in levelorder.\"\"\"\n",
    "            queue = deque([self])\n",
    "            while queue:\n",
    "                node = queue.popleft()\n",
    "                yield node\n",
    "                queue.extend(node.children)\n",
    "\n",
    "        def _traverse_postorder(self) -> Iterator['Node']:\n",
    "            \"\"\"Iterate over all descendant nodes in tip-to-root order.\"\"\"\n",
    "            queue = deque([self])\n",
    "            stack = deque()\n",
    "            while queue:\n",
    "                # get node from queue and add to the output stack\n",
    "                node = queue.pop()\n",
    "                stack.append(node)\n",
    "                # add node's children to the queue\n",
    "                queue.extend(node.children)\n",
    "            # yield nodes in reverse order they were added to stack\n",
    "            while stack:\n",
    "                yield stack.pop()\n",
    "\n",
    "        def _traverse_idxorder(self) -> Iterator['Node']:\n",
    "            \"\"\"Iterates over all nodes in 'idx' order.\"\"\"\n",
    "            queue = deque([self])\n",
    "            inner_stack = deque()\n",
    "            outer_stack = deque()\n",
    "            node = self\n",
    "            while queue:\n",
    "\n",
    "                # get node from end of the queue\n",
    "                node = queue.pop()\n",
    "\n",
    "                # if node is leaf insert to output stack ntips from right\n",
    "                if node.is_leaf():\n",
    "                    outer_stack.append(node)\n",
    "\n",
    "                # if not leaf then insert to output stack...\n",
    "                else:\n",
    "                    inner_stack.append(node)\n",
    "\n",
    "                # add node's children to the queue\n",
    "                queue.extend(node.children)\n",
    "\n",
    "            # return nodes in reverse order they were added to stack\n",
    "            while outer_stack:\n",
    "                yield outer_stack.pop()\n",
    "            while inner_stack:\n",
    "                yield inner_stack.pop()\n",
    "\n",
    "        ######################################################\n",
    "        ## LEAF AND NAME RETRIEVAL                          ##\n",
    "        ######################################################\n",
    "\n",
    "        def _iter_leaves(self) -> Iterator['Node']:\n",
    "            \"\"\"Return a Generator of leaves descended from this node in\n",
    "            idxorder.\"\"\"\n",
    "            for node in self.traverse(strategy=\"idxorder\"):\n",
    "                if not node.children:\n",
    "                    yield node\n",
    "\n",
    "        def get_leaves(self) -> Tuple['Node']:\n",
    "            \"\"\"Return a list of leaf nodes descended from this node in\n",
    "            idxorder.\"\"\"\n",
    "            return tuple(self._iter_leaves())\n",
    "\n",
    "        def _iter_leaf_names(self) -> Iterator[str]:\n",
    "            \"\"\"Return a Generator of names of Nodes descended from this\n",
    "            node in idxorder.\"\"\"\n",
    "            for node in self._iter_leaves():\n",
    "                yield node.name\n",
    "\n",
    "        def get_leaf_names(self) -> Tuple[str]:\n",
    "            \"\"\"Return a list of names of Nodes descended from this node\n",
    "            in idxorder.\"\"\"\n",
    "            return tuple(self._iter_leaf_names())\n",
    "\n",
    "        #################################################\n",
    "        ## NODE RELATIVE RETRIEVAL / TRAVERSAL\n",
    "        #################################################\n",
    "\n",
    "        def _iter_sisters(self) -> Iterator['Node']:\n",
    "            \"\"\"Return a Generator to iterate over sister nodes.\"\"\"\n",
    "            if self.up:\n",
    "                for child in self.up.children:\n",
    "                    if child != self:\n",
    "                        yield child\n",
    "\n",
    "        def get_sisters(self) -> Tuple['Node']:\n",
    "            \"\"\"Return list of other Nodes that are children of same parent.\"\"\"\n",
    "            return tuple(self._iter_sisters())\n",
    "\n",
    "        def _iter_descendants(self, strategy: str=\"levelorder\") -> Iterator['Node']:\n",
    "            \"\"\"Return a Generator of descendant Nodes (not including self).\"\"\"\n",
    "            for node in self.traverse(strategy=strategy):\n",
    "                yield node\n",
    "\n",
    "        def get_descendants(self, strategy: str=\"levelorder\") -> Tuple['Node']:\n",
    "            \"\"\"Return a list of descendant Nodes (not including self).\"\"\"\n",
    "            return tuple(self._iter_descendants(strategy=strategy))\n",
    "\n",
    "        def _iter_ancestors(self) -> Iterator['Node']:\n",
    "            \"\"\"Return a Generator of Nodes on path from this node to root.\"\"\"\n",
    "            node = self\n",
    "            while node.up:\n",
    "                yield node\n",
    "\n",
    "        def get_ancestors(self) -> Tuple['Node']:\n",
    "            \"\"\"Return a list of Nodes on path from this node to root.\"\"\"\n",
    "            return tuple(self._iter_ancestors())            \n"
   ]
  },
  {
   "cell_type": "code",
   "execution_count": 19,
   "id": "de62f759",
   "metadata": {},
   "outputs": [
    {
     "name": "stdout",
     "output_type": "stream",
     "text": [
      "[Node(0), Node(1), Node(2), Node(3), Node(4), Node(5), Node(6), Node(7), Node(8), Node(9), Node(10), Node(11)]\n",
      "[Node(0), Node(1), Node(2), Node(3), Node(4), Node(5), Node(6), Node(7), Node(8), Node(9)]\n",
      "Node(idx=22, root)\n",
      "[Node(0), Node(1), Node(2), Node(3), Node(4), Node(5), Node(6), Node(7), Node(8), Node(9), Node(10), Node(11), Node(12), Node(13), Node(14), Node(15), Node(16), Node(17), Node(18), Node(19), Node(20), Node(21), Node(22)]\n",
      "[Node(22), Node(21), Node(20), Node(19), Node(18), Node(17), Node(16), Node(15), Node(14), Node(13), Node(12), Node(11), Node(10), Node(9), Node(8), Node(7), Node(6), Node(5), Node(4), Node(3), Node(2), Node(1), Node(0)]\n",
      "Node(idx=5, leaf)\n"
     ]
    }
   ],
   "source": [
    "print([tree[i] for i in range(tree.ntips)])\n",
    "print([tree[i] for i in range(10)])\n",
    "\n",
    "# get and print the root Node\n",
    "print(tree.treenode)\n",
    "\n",
    "# get and print all nodes in idxorder (topogically sorted)\n",
    "print([tree[i] for i in range(tree.nnodes)])\n",
    "\n",
    "# get and print all nodes in reverse idxorder (topogically sorted)\n",
    "print([tree[i] for i in range(tree.nnodes)[::-1]])\n",
    "\n",
    "# get a specific Node by its idx label\n",
    "print(tree[5])"
   ]
  },
  {
   "cell_type": "code",
   "execution_count": 4,
   "id": "efbba028",
   "metadata": {},
   "outputs": [
    {
     "data": {
      "text/html": [
       "<div class=\"toyplot\" id=\"tcd665fea08384d7b8e6fe3abac492cee\" style=\"text-align:center\"><svg class=\"toyplot-canvas-Canvas\" xmlns:toyplot=\"http://www.sandia.gov/toyplot\" xmlns:xlink=\"http://www.w3.org/1999/xlink\" xmlns=\"http://www.w3.org/2000/svg\" width=\"350.0px\" height=\"265.0px\" viewBox=\"0 0 350.0 265.0\" preserveAspectRatio=\"xMidYMid meet\" style=\"background-color:transparent;border-color:#292724;border-style:none;border-width:1.0;fill:rgb(16.1%,15.3%,14.1%);fill-opacity:1.0;font-family:Helvetica;font-size:12px;opacity:1.0;stroke:rgb(16.1%,15.3%,14.1%);stroke-opacity:1.0;stroke-width:1.0\" id=\"t683d14e25b5d456f8ff81b9c5ad95bc2\"><g class=\"toyplot-coordinates-Cartesian\" id=\"t348ec0a86e4147849402401852d34bf8\"><clipPath id=\"t983406966af94ff1bbcacdbb1261e6e3\"><rect x=\"35.0\" y=\"35.0\" width=\"280.0\" height=\"195.0\"></rect></clipPath><g clip-path=\"url(#t983406966af94ff1bbcacdbb1261e6e3)\"><g class=\"toytree-mark-Toytree\" id=\"teeff7170cffe428c8bfbb382a4cb1e88\"><g class=\"toytree-Edges\" style=\"fill:none;stroke:rgba(16.1%,15.3%,14.1%,1.000);stroke-linecap:round;stroke-width:2.0\"><path d=\"M 100.8 79.4 L 58.4 79.4 L 58.4 171.8\" id=\"17,0\" style=\"stroke-width:nan\"></path><path d=\"M 90.2 148.7 L 79.6 148.7 L 79.6 171.8\" id=\"12,1\" style=\"stroke-width:nan\"></path><path d=\"M 90.2 148.7 L 100.8 148.7 L 100.8 171.8\" id=\"12,2\" style=\"stroke-width:nan\"></path><path d=\"M 132.6 148.7 L 122.0 148.7 L 122.0 171.8\" id=\"13,3\" style=\"stroke-width:nan\"></path><path d=\"M 132.6 148.7 L 143.2 148.7 L 143.2 171.8\" id=\"13,4\" style=\"stroke-width:nan\"></path><path d=\"M 175.0 148.7 L 164.4 148.7 L 164.4 171.8\" id=\"15,5\" style=\"stroke-width:nan\"></path><path d=\"M 175.0 148.7 L 185.6 148.7 L 185.6 171.8\" id=\"15,6\" style=\"stroke-width:nan\"></path><path d=\"M 217.4 148.7 L 206.8 148.7 L 206.8 171.8\" id=\"18,7\" style=\"stroke-width:nan\"></path><path d=\"M 217.4 148.7 L 228.0 148.7 L 228.0 171.8\" id=\"18,8\" style=\"stroke-width:nan\"></path><path d=\"M 265.1 125.6 L 249.2 125.6 L 249.2 171.8\" id=\"20,9\" style=\"stroke-width:nan\"></path><path d=\"M 281.0 148.7 L 270.4 148.7 L 270.4 171.8\" id=\"19,10\" style=\"stroke-width:nan\"></path><path d=\"M 281.0 148.7 L 291.6 148.7 L 291.6 171.8\" id=\"19,11\" style=\"stroke-width:nan\"></path><path d=\"M 111.4 125.6 L 90.2 125.6 L 90.2 148.7\" id=\"14,12\" style=\"stroke-width:nan\"></path><path d=\"M 111.4 125.6 L 132.6 125.6 L 132.6 148.7\" id=\"14,13\" style=\"stroke-width:nan\"></path><path d=\"M 143.2 102.5 L 111.4 102.5 L 111.4 125.6\" id=\"16,14\" style=\"stroke-width:nan\"></path><path d=\"M 143.2 102.5 L 175.0 102.5 L 175.0 148.7\" id=\"16,15\" style=\"stroke-width:nan\"></path><path d=\"M 100.8 79.4 L 143.2 79.4 L 143.2 102.5\" id=\"17,16\" style=\"stroke-width:nan\"></path><path d=\"M 171.0 56.3 L 100.8 56.3 L 100.8 79.4\" id=\"22,17\" style=\"stroke-width:nan\"></path><path d=\"M 241.3 102.5 L 217.4 102.5 L 217.4 148.7\" id=\"21,18\" style=\"stroke-width:nan\"></path><path d=\"M 265.1 125.6 L 281.0 125.6 L 281.0 148.7\" id=\"20,19\" style=\"stroke-width:nan\"></path><path d=\"M 241.3 102.5 L 265.1 102.5 L 265.1 125.6\" id=\"21,20\" style=\"stroke-width:nan\"></path><path d=\"M 171.0 56.3 L 241.3 56.3 L 241.3 102.5\" id=\"22,21\" style=\"stroke-width:nan\"></path></g><g class=\"toytree-Nodes\" style=\"fill:rgba(82.7%,82.7%,82.7%,1.000);stroke:#262626;stroke-width:1.5\"><g id=\"node-0\" transform=\"translate(58.396,171.761)\"><circle r=\"9.0\"></circle></g><g id=\"node-1\" transform=\"translate(79.596,171.761)\"><circle r=\"9.0\"></circle></g><g id=\"node-2\" transform=\"translate(100.797,171.761)\"><circle r=\"9.0\"></circle></g><g id=\"node-3\" transform=\"translate(121.998,171.761)\"><circle r=\"9.0\"></circle></g><g id=\"node-4\" transform=\"translate(143.199,171.761)\"><circle r=\"9.0\"></circle></g><g id=\"node-5\" transform=\"translate(164.400,171.761)\"><circle r=\"9.0\"></circle></g><g id=\"node-6\" transform=\"translate(185.600,171.761)\"><circle r=\"9.0\"></circle></g><g id=\"node-7\" transform=\"translate(206.801,171.761)\"><circle r=\"9.0\"></circle></g><g id=\"node-8\" transform=\"translate(228.002,171.761)\"><circle r=\"9.0\"></circle></g><g id=\"node-9\" transform=\"translate(249.203,171.761)\"><circle r=\"9.0\"></circle></g><g id=\"node-10\" transform=\"translate(270.404,171.761)\"><circle r=\"9.0\"></circle></g><g id=\"node-11\" transform=\"translate(291.604,171.761)\"><circle r=\"9.0\"></circle></g><g id=\"node-12\" transform=\"translate(90.197,148.668)\"><circle r=\"9.0\"></circle></g><g id=\"node-13\" transform=\"translate(132.598,148.668)\"><circle r=\"9.0\"></circle></g><g id=\"node-14\" transform=\"translate(111.398,125.576)\"><circle r=\"9.0\"></circle></g><g id=\"node-15\" transform=\"translate(175.000,148.668)\"><circle r=\"9.0\"></circle></g><g id=\"node-16\" transform=\"translate(143.199,102.483)\"><circle r=\"9.0\"></circle></g><g id=\"node-17\" transform=\"translate(100.797,79.391)\"><circle r=\"9.0\"></circle></g><g id=\"node-18\" transform=\"translate(217.402,148.668)\"><circle r=\"9.0\"></circle></g><g id=\"node-19\" transform=\"translate(281.004,148.668)\"><circle r=\"9.0\"></circle></g><g id=\"node-20\" transform=\"translate(265.103,125.576)\"><circle r=\"9.0\"></circle></g><g id=\"node-21\" transform=\"translate(241.253,102.483)\"><circle r=\"9.0\"></circle></g><g id=\"node-22\" transform=\"translate(171.025,56.298)\"><circle r=\"9.0\"></circle></g></g><g class=\"toytree-NodeLabels\" style=\"font-family:Helvetica;font-size:9.0px;font-weight:300;stroke:none;vertical-align:baseline;white-space:pre\"><g class=\"toytree-NodeLabel\" transform=\"translate(58.395522388059696,171.7608889265872)\"><text x=\"-2.5020000000000002\" y=\"2.2995\" style=\"fill:rgb(16.1%,15.3%,14.1%);fill-opacity:1.0\">0</text></g><g class=\"toytree-NodeLabel\" transform=\"translate(79.59633649932158,171.7608889265872)\"><text x=\"-2.5020000000000002\" y=\"2.2995\" style=\"fill:rgb(16.1%,15.3%,14.1%);fill-opacity:1.0\">1</text></g><g class=\"toytree-NodeLabel\" transform=\"translate(100.79715061058343,171.7608889265872)\"><text x=\"-2.5020000000000002\" y=\"2.2995\" style=\"fill:rgb(16.1%,15.3%,14.1%);fill-opacity:1.0\">2</text></g><g class=\"toytree-NodeLabel\" transform=\"translate(121.9979647218453,171.7608889265872)\"><text x=\"-2.5020000000000002\" y=\"2.2995\" style=\"fill:rgb(16.1%,15.3%,14.1%);fill-opacity:1.0\">3</text></g><g class=\"toytree-NodeLabel\" transform=\"translate(143.19877883310718,171.7608889265872)\"><text x=\"-2.5020000000000002\" y=\"2.2995\" style=\"fill:rgb(16.1%,15.3%,14.1%);fill-opacity:1.0\">4</text></g><g class=\"toytree-NodeLabel\" transform=\"translate(164.39959294436906,171.7608889265872)\"><text x=\"-2.5020000000000002\" y=\"2.2995\" style=\"fill:rgb(16.1%,15.3%,14.1%);fill-opacity:1.0\">5</text></g><g class=\"toytree-NodeLabel\" transform=\"translate(185.6004070556309,171.7608889265872)\"><text x=\"-2.5020000000000002\" y=\"2.2995\" style=\"fill:rgb(16.1%,15.3%,14.1%);fill-opacity:1.0\">6</text></g><g class=\"toytree-NodeLabel\" transform=\"translate(206.80122116689282,171.7608889265872)\"><text x=\"-2.5020000000000002\" y=\"2.2995\" style=\"fill:rgb(16.1%,15.3%,14.1%);fill-opacity:1.0\">7</text></g><g class=\"toytree-NodeLabel\" transform=\"translate(228.00203527815466,171.7608889265872)\"><text x=\"-2.5020000000000002\" y=\"2.2995\" style=\"fill:rgb(16.1%,15.3%,14.1%);fill-opacity:1.0\">8</text></g><g class=\"toytree-NodeLabel\" transform=\"translate(249.20284938941654,171.7608889265872)\"><text x=\"-2.5020000000000002\" y=\"2.2995\" style=\"fill:rgb(16.1%,15.3%,14.1%);fill-opacity:1.0\">9</text></g><g class=\"toytree-NodeLabel\" transform=\"translate(270.4036635006784,171.7608889265872)\"><text x=\"-5.0040000000000004\" y=\"2.2995\" style=\"fill:rgb(16.1%,15.3%,14.1%);fill-opacity:1.0\">10</text></g><g class=\"toytree-NodeLabel\" transform=\"translate(291.6044776119403,171.7608889265872)\"><text x=\"-5.0040000000000004\" y=\"2.2995\" style=\"fill:rgb(16.1%,15.3%,14.1%);fill-opacity:1.0\">11</text></g><g class=\"toytree-NodeLabel\" transform=\"translate(90.19674355495249,148.6683065439586)\"><text x=\"-5.0040000000000004\" y=\"2.2995\" style=\"fill:rgb(16.1%,15.3%,14.1%);fill-opacity:1.0\">12</text></g><g class=\"toytree-NodeLabel\" transform=\"translate(132.59837177747625,148.6683065439586)\"><text x=\"-5.0040000000000004\" y=\"2.2995\" style=\"fill:rgb(16.1%,15.3%,14.1%);fill-opacity:1.0\">13</text></g><g class=\"toytree-NodeLabel\" transform=\"translate(111.39755766621437,125.57572416132999)\"><text x=\"-5.0040000000000004\" y=\"2.2995\" style=\"fill:rgb(16.1%,15.3%,14.1%);fill-opacity:1.0\">14</text></g><g class=\"toytree-NodeLabel\" transform=\"translate(174.99999999999997,148.6683065439586)\"><text x=\"-5.0040000000000004\" y=\"2.2995\" style=\"fill:rgb(16.1%,15.3%,14.1%);fill-opacity:1.0\">15</text></g><g class=\"toytree-NodeLabel\" transform=\"translate(143.19877883310718,102.48314177870137)\"><text x=\"-5.0040000000000004\" y=\"2.2995\" style=\"fill:rgb(16.1%,15.3%,14.1%);fill-opacity:1.0\">16</text></g><g class=\"toytree-NodeLabel\" transform=\"translate(100.79715061058343,79.39055939607277)\"><text x=\"-5.0040000000000004\" y=\"2.2995\" style=\"fill:rgb(16.1%,15.3%,14.1%);fill-opacity:1.0\">17</text></g><g class=\"toytree-NodeLabel\" transform=\"translate(217.40162822252373,148.6683065439586)\"><text x=\"-5.0040000000000004\" y=\"2.2995\" style=\"fill:rgb(16.1%,15.3%,14.1%);fill-opacity:1.0\">18</text></g><g class=\"toytree-NodeLabel\" transform=\"translate(281.00407055630933,148.6683065439586)\"><text x=\"-5.0040000000000004\" y=\"2.2995\" style=\"fill:rgb(16.1%,15.3%,14.1%);fill-opacity:1.0\">19</text></g><g class=\"toytree-NodeLabel\" transform=\"translate(265.10345997286294,125.57572416132999)\"><text x=\"-5.0040000000000004\" y=\"2.2995\" style=\"fill:rgb(16.1%,15.3%,14.1%);fill-opacity:1.0\">20</text></g><g class=\"toytree-NodeLabel\" transform=\"translate(241.25254409769335,102.48314177870137)\"><text x=\"-5.0040000000000004\" y=\"2.2995\" style=\"fill:rgb(16.1%,15.3%,14.1%);fill-opacity:1.0\">21</text></g><g class=\"toytree-NodeLabel\" transform=\"translate(171.0248473541384,56.297977013444154)\"><text x=\"-5.0040000000000004\" y=\"2.2995\" style=\"fill:rgb(16.1%,15.3%,14.1%);fill-opacity:1.0\">22</text></g></g><g class=\"toytree-TipLabels\" style=\"fill:rgb(16.1%,15.3%,14.1%);fill-opacity:1.0;font-family:Helvetica;font-size:11.0px;font-weight:300;stroke:none;vertical-align:baseline;white-space:pre\"><g class=\"toytree-TipLabel\" transform=\"translate(58.395522388059696,171.7608889265872)rotate(90.0)\"><text x=\"15.0\" y=\"2.8104999999999993\" style=\"\">r0</text></g><g class=\"toytree-TipLabel\" transform=\"translate(79.59633649932158,171.7608889265872)rotate(90.0)\"><text x=\"15.0\" y=\"2.8104999999999993\" style=\"\">r1</text></g><g class=\"toytree-TipLabel\" transform=\"translate(100.79715061058343,171.7608889265872)rotate(90.0)\"><text x=\"15.0\" y=\"2.8104999999999993\" style=\"\">r2</text></g><g class=\"toytree-TipLabel\" transform=\"translate(121.9979647218453,171.7608889265872)rotate(90.0)\"><text x=\"15.0\" y=\"2.8104999999999993\" style=\"\">r3</text></g><g class=\"toytree-TipLabel\" transform=\"translate(143.19877883310718,171.7608889265872)rotate(90.0)\"><text x=\"15.0\" y=\"2.8104999999999993\" style=\"\">r4</text></g><g class=\"toytree-TipLabel\" transform=\"translate(164.39959294436906,171.7608889265872)rotate(90.0)\"><text x=\"15.0\" y=\"2.8104999999999993\" style=\"\">r5</text></g><g class=\"toytree-TipLabel\" transform=\"translate(185.6004070556309,171.7608889265872)rotate(90.0)\"><text x=\"15.0\" y=\"2.8104999999999993\" style=\"\">r6</text></g><g class=\"toytree-TipLabel\" transform=\"translate(206.80122116689282,171.7608889265872)rotate(90.0)\"><text x=\"15.0\" y=\"2.8104999999999993\" style=\"\">r7</text></g><g class=\"toytree-TipLabel\" transform=\"translate(228.00203527815466,171.7608889265872)rotate(90.0)\"><text x=\"15.0\" y=\"2.8104999999999993\" style=\"\">r8</text></g><g class=\"toytree-TipLabel\" transform=\"translate(249.20284938941654,171.7608889265872)rotate(90.0)\"><text x=\"15.0\" y=\"2.8104999999999993\" style=\"\">r9</text></g><g class=\"toytree-TipLabel\" transform=\"translate(270.4036635006784,171.7608889265872)rotate(90.0)\"><text x=\"15.0\" y=\"2.8104999999999993\" style=\"\">r10</text></g><g class=\"toytree-TipLabel\" transform=\"translate(291.6044776119403,171.7608889265872)rotate(90.0)\"><text x=\"15.0\" y=\"2.8104999999999993\" style=\"\">r11</text></g></g></g></g></g></svg><div class=\"toyplot-behavior\"><script>(function()\n",
       "{\n",
       "var modules={};\n",
       "})();</script></div></div>"
      ]
     },
     "metadata": {},
     "output_type": "display_data"
    }
   ],
   "source": [
    "# tree._old_update()\n",
    "tree = toytree.rtree.rtree(12, seed=123)\n",
    "tree.draw('s', layout='d');"
   ]
  },
  {
   "cell_type": "code",
   "execution_count": null,
   "id": "66fc9a24",
   "metadata": {},
   "outputs": [],
   "source": [
    "# c        queue-at-end          # inner                        # outer\n",
    "# 22        [21, 15]              []                             [] \n",
    "# 15        [21, 14, 13]          [15]\n",
    "# 13        [21, 14, 9, 12]       [15, 13]\n",
    "# 12        [21, 14, 9, 10, 11]   [15, 13, 12]\n",
    "# 11        [21, 14, 9, 10]       [15, 13, 12]                        [11]\n",
    "# 10        [21, 14, 9]           [15, 13, 12]                        [11, 10]\n",
    "# 9         [21, 14]              [15, 13, 12]                        [11, 10, 9]\n",
    "# 14        [21, 7, 8]            [15, 13, 12, 14]                    [11, 10, 9]\n",
    "# 8         [21, 7]               [15, 13, 12, 14]                    [11, 10, 9, 8]\n",
    "# 7         [21]                  [15, 13, 12, 14]                    [11, 10, 9, 8, 7]\n",
    "# 21        [0, 20]               [15, 13, 12, 14, 21]                ''\n",
    "# 20        [0, 19, 16]           [15, 13, 12, 14, 21, 20]            ''\n",
    "# 16        [0, 19, 5, 6]         [15, 13, 12, 14, 21, 20, 16]        ''\n",
    "# 6         [0, 19, 5]            [15, 13, 12, 14, 21, 20, 16]                  [11, 10, 9, 8, 7, 6]\n",
    "# 5         [0, 19]               [15, 13, 12, 14, 21, 20, 16]                  [11, 10, 9, 8, 7, 6, 5]\n",
    "# 19        [0, 18, 17]           [15, 13, 12, 14, 21, 20, 16, 19]              [11-5]\n",
    "# 17        [0, 18, 3, 4]         [15, 13, 12, 14, 21, 20, 16, 19, 17]          [11-5]\n",
    "# 4         [0, 18, 3]             ''                                           [11-4]\n",
    "# 3         [0, 18]                ''                                           [11-3]\n",
    "# 18        [0, 1, 2]             [15, 13, 12, 14, 21, 20, 16, 19, 17, 18]\n",
    "# 2         [0, 1]\n",
    "# 1         [0]\n",
    "# 0         []                                                                  [11-0]\n",
    "\n",
    "\n",
    "# USING [::-1]\n",
    "# c        queue-at-end          # inner                        # outer\n",
    "# 22        [15, 21]              []                             [] \n",
    "# 21        [15, 20, 0]           [21]                           []\n",
    "# 0         [15, 20]              [21]                           [0]\n",
    "# 20        [15, 16, 19]          [21, 20]                       [0]\n",
    "# 19        [15, 16, 17, 18]      [21, 20, 19]                   [0]\n",
    "# 18        [15, 16, 17, 2, 1]    [21, 20, 19, 18]               [0]\n",
    "# 1         [15, 16, 17, 2]       [21, 20, 19, 18]               [0, 1]\n",
    "# 2         [15, 16, 17]          [21, 20, 19, 18]               [0, 1, 2]\n",
    "# 17        [15, 16, 6, 5]        [21, 20, 19, 18, 17]           [0, 1, 2]"
   ]
  },
  {
   "cell_type": "code",
   "execution_count": 28,
   "id": "1c409cc1",
   "metadata": {},
   "outputs": [
    {
     "data": {
      "text/html": [
       "<div class=\"toyplot\" id=\"tba59602263dd422ba9c0b69b554d1d29\" style=\"text-align:center\"><svg class=\"toyplot-canvas-Canvas\" xmlns:toyplot=\"http://www.sandia.gov/toyplot\" xmlns:xlink=\"http://www.w3.org/1999/xlink\" xmlns=\"http://www.w3.org/2000/svg\" width=\"255.0px\" height=\"275.0px\" viewBox=\"0 0 255.0 275.0\" preserveAspectRatio=\"xMidYMid meet\" style=\"background-color:transparent;border-color:#292724;border-style:none;border-width:1.0;fill:rgb(16.1%,15.3%,14.1%);fill-opacity:1.0;font-family:Helvetica;font-size:12px;opacity:1.0;stroke:rgb(16.1%,15.3%,14.1%);stroke-opacity:1.0;stroke-width:1.0\" id=\"t9120c3afb3284cada8fd849a299ee7d4\"><g class=\"toyplot-coordinates-Cartesian\" id=\"t1e7f0e5d7cae4f7e970186e3758d48b5\"><clipPath id=\"t3475b5d6e40f4e59959847372ebf4ef6\"><rect x=\"35.0\" y=\"35.0\" width=\"185.0\" height=\"205.0\"></rect></clipPath><g clip-path=\"url(#t3475b5d6e40f4e59959847372ebf4ef6)\"><g class=\"toytree-mark-Toytree\" id=\"ta0d09071b4c84166a9e8f0e6eaae30a0\"><g class=\"toytree-Edges\" style=\"fill:none;stroke:rgba(16.1%,15.3%,14.1%,1.000);stroke-linecap:round;stroke-width:2.0\"><path d=\"M 67.5 198.5 L 67.5 218.9 L 85.0 218.9\" id=\"7,0\" style=\"stroke-width:nan\"></path><path d=\"M 67.5 198.5 L 67.5 178.2 L 102.5 178.2\" id=\"7,1\" style=\"stroke-width:nan\"></path><path d=\"M 85.0 117.2 L 85.0 137.5 L 102.5 137.5\" id=\"5,2\" style=\"stroke-width:nan\"></path><path d=\"M 85.0 117.2 L 85.0 96.8 L 172.6 96.8\" id=\"5,3\" style=\"stroke-width:nan\"></path><path d=\"M 67.5 86.6 L 67.5 56.1 L 85.0 56.1\" id=\"6,4\" style=\"stroke-width:nan\"></path><path d=\"M 67.5 86.6 L 67.5 117.2 L 85.0 117.2\" id=\"6,5\" style=\"stroke-width:nan\"></path><path d=\"M 50.0 142.6 L 50.0 86.6 L 67.5 86.6\" id=\"8,6\" style=\"stroke-width:nan\"></path><path d=\"M 50.0 142.6 L 50.0 198.5 L 67.5 198.5\" id=\"8,7\" style=\"stroke-width:nan\"></path></g><g class=\"toytree-TipLabels\" style=\"fill:rgb(16.1%,15.3%,14.1%);fill-opacity:1.0;font-family:Helvetica;font-size:11.0px;font-weight:300;stroke:none;vertical-align:baseline;white-space:pre\"><g class=\"toytree-TipLabel\" transform=\"translate(85.02186588921282,218.86291179596174)\"><text x=\"15.0\" y=\"2.8104999999999993\" style=\"\">a</text></g><g class=\"toytree-TipLabel\" transform=\"translate(102.53279883381924,178.18145589798087)\"><text x=\"15.0\" y=\"2.8104999999999993\" style=\"\">b</text></g><g class=\"toytree-TipLabel\" transform=\"translate(102.53279883381924,137.49999999999997)\"><text x=\"15.0\" y=\"2.8104999999999993\" style=\"\">d</text></g><g class=\"toytree-TipLabel\" transform=\"translate(172.5765306122449,96.8185441020191)\"><text x=\"15.0\" y=\"2.8104999999999993\" style=\"\">c</text></g><g class=\"toytree-TipLabel\" transform=\"translate(85.02186588921282,56.137088204038236)\"><text x=\"15.0\" y=\"2.8104999999999993\" style=\"\">e</text></g></g></g></g></g></svg><div class=\"toyplot-behavior\"><script>(function()\n",
       "{\n",
       "var modules={};\n",
       "})();</script></div></div>"
      ]
     },
     "metadata": {},
     "output_type": "display_data"
    }
   ],
   "source": [
    "toytree.tree(\"((a,b:2),((d,c:5),e));\").draw();"
   ]
  },
  {
   "cell_type": "code",
   "execution_count": 8,
   "id": "b348f3ec",
   "metadata": {},
   "outputs": [
    {
     "data": {
      "text/plain": [
       "[Node(0),\n",
       " Node(1),\n",
       " Node(2),\n",
       " Node(3),\n",
       " Node(4),\n",
       " Node(5),\n",
       " Node(6),\n",
       " Node(7),\n",
       " Node(8),\n",
       " Node(9),\n",
       " Node(10),\n",
       " Node(11),\n",
       " Node(12),\n",
       " Node(13),\n",
       " Node(14),\n",
       " Node(15),\n",
       " Node(16),\n",
       " Node(17),\n",
       " Node(18),\n",
       " Node(19),\n",
       " Node(20),\n",
       " Node(21),\n",
       " Node(22)]"
      ]
     },
     "execution_count": 8,
     "metadata": {},
     "output_type": "execute_result"
    }
   ],
   "source": [
    "list(tree._new_update())"
   ]
  },
  {
   "cell_type": "code",
   "execution_count": 8,
   "id": "2085fcbf",
   "metadata": {},
   "outputs": [
    {
     "data": {
      "text/html": [
       "<div class=\"toyplot\" id=\"t578b7501edea4bc28f48e6927a59ce7d\" style=\"text-align:center\"><svg class=\"toyplot-canvas-Canvas\" xmlns:toyplot=\"http://www.sandia.gov/toyplot\" xmlns:xlink=\"http://www.w3.org/1999/xlink\" xmlns=\"http://www.w3.org/2000/svg\" width=\"350.0px\" height=\"265.0px\" viewBox=\"0 0 350.0 265.0\" preserveAspectRatio=\"xMidYMid meet\" style=\"background-color:transparent;border-color:#292724;border-style:none;border-width:1.0;fill:rgb(16.1%,15.3%,14.1%);fill-opacity:1.0;font-family:Helvetica;font-size:12px;opacity:1.0;stroke:rgb(16.1%,15.3%,14.1%);stroke-opacity:1.0;stroke-width:1.0\" id=\"tc5c7378bb164481da5e439c301df422e\"><g class=\"toyplot-coordinates-Cartesian\" id=\"tcf3a6e8e38bc4f1fa6b9112411d6183c\"><clipPath id=\"te3591c2bd98f40e39f1250b0328f80c8\"><rect x=\"35.0\" y=\"35.0\" width=\"280.0\" height=\"195.0\"></rect></clipPath><g clip-path=\"url(#te3591c2bd98f40e39f1250b0328f80c8)\"><g class=\"toytree-mark-Toytree\" id=\"ta0ea2272956a4a53a66ad71b252410d4\"><g class=\"toytree-Edges\" style=\"fill:none;stroke:rgba(16.1%,15.3%,14.1%,1.000);stroke-linecap:round;stroke-width:2.0\"><path d=\"M 69.0 148.7 L 58.4 148.7 L 58.4 171.8\" id=\"19,0\" style=\"stroke-width:nan\"></path><path d=\"M 69.0 148.7 L 79.6 148.7 L 79.6 171.8\" id=\"19,1\" style=\"stroke-width:nan\"></path><path d=\"M 84.9 125.6 L 100.8 125.6 L 100.8 171.8\" id=\"20,2\" style=\"stroke-width:nan\"></path><path d=\"M 132.6 148.7 L 122.0 148.7 L 122.0 171.8\" id=\"18,3\" style=\"stroke-width:nan\"></path><path d=\"M 132.6 148.7 L 143.2 148.7 L 143.2 171.8\" id=\"18,4\" style=\"stroke-width:nan\"></path><path d=\"M 175.0 148.7 L 164.4 148.7 L 164.4 171.8\" id=\"15,5\" style=\"stroke-width:nan\"></path><path d=\"M 175.0 148.7 L 185.6 148.7 L 185.6 171.8\" id=\"15,6\" style=\"stroke-width:nan\"></path><path d=\"M 217.4 148.7 L 206.8 148.7 L 206.8 171.8\" id=\"13,7\" style=\"stroke-width:nan\"></path><path d=\"M 217.4 148.7 L 228.0 148.7 L 228.0 171.8\" id=\"13,8\" style=\"stroke-width:nan\"></path><path d=\"M 259.8 148.7 L 249.2 148.7 L 249.2 171.8\" id=\"12,9\" style=\"stroke-width:nan\"></path><path d=\"M 259.8 148.7 L 270.4 148.7 L 270.4 171.8\" id=\"12,10\" style=\"stroke-width:nan\"></path><path d=\"M 249.2 79.4 L 291.6 79.4 L 291.6 171.8\" id=\"17,11\" style=\"stroke-width:nan\"></path><path d=\"M 238.6 125.6 L 259.8 125.6 L 259.8 148.7\" id=\"14,12\" style=\"stroke-width:nan\"></path><path d=\"M 238.6 125.6 L 217.4 125.6 L 217.4 148.7\" id=\"14,13\" style=\"stroke-width:nan\"></path><path d=\"M 206.8 102.5 L 238.6 102.5 L 238.6 125.6\" id=\"16,14\" style=\"stroke-width:nan\"></path><path d=\"M 206.8 102.5 L 175.0 102.5 L 175.0 148.7\" id=\"16,15\" style=\"stroke-width:nan\"></path><path d=\"M 249.2 79.4 L 206.8 79.4 L 206.8 102.5\" id=\"17,16\" style=\"stroke-width:nan\"></path><path d=\"M 179.0 56.3 L 249.2 56.3 L 249.2 79.4\" id=\"22,17\" style=\"stroke-width:nan\"></path><path d=\"M 108.7 102.5 L 132.6 102.5 L 132.6 148.7\" id=\"21,18\" style=\"stroke-width:nan\"></path><path d=\"M 84.9 125.6 L 69.0 125.6 L 69.0 148.7\" id=\"20,19\" style=\"stroke-width:nan\"></path><path d=\"M 108.7 102.5 L 84.9 102.5 L 84.9 125.6\" id=\"21,20\" style=\"stroke-width:nan\"></path><path d=\"M 179.0 56.3 L 108.7 56.3 L 108.7 102.5\" id=\"22,21\" style=\"stroke-width:nan\"></path></g><g class=\"toytree-Nodes\" style=\"fill:rgba(82.7%,82.7%,82.7%,1.000);stroke:#262626;stroke-width:1.5\"><g id=\"node-0\" transform=\"translate(58.396,171.761)\"><circle r=\"9.0\"></circle></g><g id=\"node-1\" transform=\"translate(79.596,171.761)\"><circle r=\"9.0\"></circle></g><g id=\"node-2\" transform=\"translate(100.797,171.761)\"><circle r=\"9.0\"></circle></g><g id=\"node-3\" transform=\"translate(121.998,171.761)\"><circle r=\"9.0\"></circle></g><g id=\"node-4\" transform=\"translate(143.199,171.761)\"><circle r=\"9.0\"></circle></g><g id=\"node-5\" transform=\"translate(164.400,171.761)\"><circle r=\"9.0\"></circle></g><g id=\"node-6\" transform=\"translate(185.600,171.761)\"><circle r=\"9.0\"></circle></g><g id=\"node-7\" transform=\"translate(206.801,171.761)\"><circle r=\"9.0\"></circle></g><g id=\"node-8\" transform=\"translate(228.002,171.761)\"><circle r=\"9.0\"></circle></g><g id=\"node-9\" transform=\"translate(249.203,171.761)\"><circle r=\"9.0\"></circle></g><g id=\"node-10\" transform=\"translate(270.404,171.761)\"><circle r=\"9.0\"></circle></g><g id=\"node-11\" transform=\"translate(291.604,171.761)\"><circle r=\"9.0\"></circle></g><g id=\"node-12\" transform=\"translate(259.803,148.668)\"><circle r=\"9.0\"></circle></g><g id=\"node-13\" transform=\"translate(217.402,148.668)\"><circle r=\"9.0\"></circle></g><g id=\"node-14\" transform=\"translate(238.602,125.576)\"><circle r=\"9.0\"></circle></g><g id=\"node-15\" transform=\"translate(175.000,148.668)\"><circle r=\"9.0\"></circle></g><g id=\"node-16\" transform=\"translate(206.801,102.483)\"><circle r=\"9.0\"></circle></g><g id=\"node-17\" transform=\"translate(249.203,79.391)\"><circle r=\"9.0\"></circle></g><g id=\"node-18\" transform=\"translate(132.598,148.668)\"><circle r=\"9.0\"></circle></g><g id=\"node-19\" transform=\"translate(68.996,148.668)\"><circle r=\"9.0\"></circle></g><g id=\"node-20\" transform=\"translate(84.897,125.576)\"><circle r=\"9.0\"></circle></g><g id=\"node-21\" transform=\"translate(108.747,102.483)\"><circle r=\"9.0\"></circle></g><g id=\"node-22\" transform=\"translate(178.975,56.298)\"><circle r=\"9.0\"></circle></g></g><g class=\"toytree-NodeLabels\" style=\"font-family:Helvetica;font-size:9.0px;font-weight:300;stroke:none;vertical-align:baseline;white-space:pre\"><g class=\"toytree-NodeLabel\" transform=\"translate(58.395522388059696,171.7608889265872)\"><text x=\"-2.5020000000000002\" y=\"2.2995\" style=\"fill:rgb(16.1%,15.3%,14.1%);fill-opacity:1.0\">0</text></g><g class=\"toytree-NodeLabel\" transform=\"translate(79.59633649932158,171.7608889265872)\"><text x=\"-2.5020000000000002\" y=\"2.2995\" style=\"fill:rgb(16.1%,15.3%,14.1%);fill-opacity:1.0\">1</text></g><g class=\"toytree-NodeLabel\" transform=\"translate(100.79715061058343,171.7608889265872)\"><text x=\"-2.5020000000000002\" y=\"2.2995\" style=\"fill:rgb(16.1%,15.3%,14.1%);fill-opacity:1.0\">2</text></g><g class=\"toytree-NodeLabel\" transform=\"translate(121.9979647218453,171.7608889265872)\"><text x=\"-2.5020000000000002\" y=\"2.2995\" style=\"fill:rgb(16.1%,15.3%,14.1%);fill-opacity:1.0\">3</text></g><g class=\"toytree-NodeLabel\" transform=\"translate(143.19877883310718,171.7608889265872)\"><text x=\"-2.5020000000000002\" y=\"2.2995\" style=\"fill:rgb(16.1%,15.3%,14.1%);fill-opacity:1.0\">4</text></g><g class=\"toytree-NodeLabel\" transform=\"translate(164.39959294436906,171.7608889265872)\"><text x=\"-2.5020000000000002\" y=\"2.2995\" style=\"fill:rgb(16.1%,15.3%,14.1%);fill-opacity:1.0\">5</text></g><g class=\"toytree-NodeLabel\" transform=\"translate(185.6004070556309,171.7608889265872)\"><text x=\"-2.5020000000000002\" y=\"2.2995\" style=\"fill:rgb(16.1%,15.3%,14.1%);fill-opacity:1.0\">6</text></g><g class=\"toytree-NodeLabel\" transform=\"translate(206.80122116689282,171.7608889265872)\"><text x=\"-2.5020000000000002\" y=\"2.2995\" style=\"fill:rgb(16.1%,15.3%,14.1%);fill-opacity:1.0\">7</text></g><g class=\"toytree-NodeLabel\" transform=\"translate(228.00203527815466,171.7608889265872)\"><text x=\"-2.5020000000000002\" y=\"2.2995\" style=\"fill:rgb(16.1%,15.3%,14.1%);fill-opacity:1.0\">8</text></g><g class=\"toytree-NodeLabel\" transform=\"translate(249.20284938941654,171.7608889265872)\"><text x=\"-2.5020000000000002\" y=\"2.2995\" style=\"fill:rgb(16.1%,15.3%,14.1%);fill-opacity:1.0\">9</text></g><g class=\"toytree-NodeLabel\" transform=\"translate(270.4036635006784,171.7608889265872)\"><text x=\"-5.0040000000000004\" y=\"2.2995\" style=\"fill:rgb(16.1%,15.3%,14.1%);fill-opacity:1.0\">10</text></g><g class=\"toytree-NodeLabel\" transform=\"translate(291.6044776119403,171.7608889265872)\"><text x=\"-5.0040000000000004\" y=\"2.2995\" style=\"fill:rgb(16.1%,15.3%,14.1%);fill-opacity:1.0\">11</text></g><g class=\"toytree-NodeLabel\" transform=\"translate(259.80325644504745,148.6683065439586)\"><text x=\"-5.0040000000000004\" y=\"2.2995\" style=\"fill:rgb(16.1%,15.3%,14.1%);fill-opacity:1.0\">12</text></g><g class=\"toytree-NodeLabel\" transform=\"translate(217.40162822252373,148.6683065439586)\"><text x=\"-5.0040000000000004\" y=\"2.2995\" style=\"fill:rgb(16.1%,15.3%,14.1%);fill-opacity:1.0\">13</text></g><g class=\"toytree-NodeLabel\" transform=\"translate(238.6024423337856,125.57572416132999)\"><text x=\"-5.0040000000000004\" y=\"2.2995\" style=\"fill:rgb(16.1%,15.3%,14.1%);fill-opacity:1.0\">14</text></g><g class=\"toytree-NodeLabel\" transform=\"translate(174.99999999999997,148.6683065439586)\"><text x=\"-5.0040000000000004\" y=\"2.2995\" style=\"fill:rgb(16.1%,15.3%,14.1%);fill-opacity:1.0\">15</text></g><g class=\"toytree-NodeLabel\" transform=\"translate(206.80122116689282,102.48314177870137)\"><text x=\"-5.0040000000000004\" y=\"2.2995\" style=\"fill:rgb(16.1%,15.3%,14.1%);fill-opacity:1.0\">16</text></g><g class=\"toytree-NodeLabel\" transform=\"translate(249.20284938941654,79.39055939607277)\"><text x=\"-5.0040000000000004\" y=\"2.2995\" style=\"fill:rgb(16.1%,15.3%,14.1%);fill-opacity:1.0\">17</text></g><g class=\"toytree-NodeLabel\" transform=\"translate(132.59837177747625,148.6683065439586)\"><text x=\"-5.0040000000000004\" y=\"2.2995\" style=\"fill:rgb(16.1%,15.3%,14.1%);fill-opacity:1.0\">18</text></g><g class=\"toytree-NodeLabel\" transform=\"translate(68.99592944369063,148.6683065439586)\"><text x=\"-5.0040000000000004\" y=\"2.2995\" style=\"fill:rgb(16.1%,15.3%,14.1%);fill-opacity:1.0\">19</text></g><g class=\"toytree-NodeLabel\" transform=\"translate(84.89654002713704,125.57572416132999)\"><text x=\"-5.0040000000000004\" y=\"2.2995\" style=\"fill:rgb(16.1%,15.3%,14.1%);fill-opacity:1.0\">20</text></g><g class=\"toytree-NodeLabel\" transform=\"translate(108.74745590230663,102.48314177870137)\"><text x=\"-5.0040000000000004\" y=\"2.2995\" style=\"fill:rgb(16.1%,15.3%,14.1%);fill-opacity:1.0\">21</text></g><g class=\"toytree-NodeLabel\" transform=\"translate(178.97515264586156,56.297977013444154)\"><text x=\"-5.0040000000000004\" y=\"2.2995\" style=\"fill:rgb(16.1%,15.3%,14.1%);fill-opacity:1.0\">22</text></g></g><g class=\"toytree-TipLabels\" style=\"fill:rgb(16.1%,15.3%,14.1%);fill-opacity:1.0;font-family:Helvetica;font-size:11.0px;font-weight:300;stroke:none;vertical-align:baseline;white-space:pre\"><g class=\"toytree-TipLabel\" transform=\"translate(58.395522388059696,171.7608889265872)rotate(90.0)\"><text x=\"15.0\" y=\"2.8104999999999993\" style=\"\">r0</text></g><g class=\"toytree-TipLabel\" transform=\"translate(79.59633649932158,171.7608889265872)rotate(90.0)\"><text x=\"15.0\" y=\"2.8104999999999993\" style=\"\">r1</text></g><g class=\"toytree-TipLabel\" transform=\"translate(100.79715061058343,171.7608889265872)rotate(90.0)\"><text x=\"15.0\" y=\"2.8104999999999993\" style=\"\">r2</text></g><g class=\"toytree-TipLabel\" transform=\"translate(121.9979647218453,171.7608889265872)rotate(90.0)\"><text x=\"15.0\" y=\"2.8104999999999993\" style=\"\">r3</text></g><g class=\"toytree-TipLabel\" transform=\"translate(143.19877883310718,171.7608889265872)rotate(90.0)\"><text x=\"15.0\" y=\"2.8104999999999993\" style=\"\">r4</text></g><g class=\"toytree-TipLabel\" transform=\"translate(164.39959294436906,171.7608889265872)rotate(90.0)\"><text x=\"15.0\" y=\"2.8104999999999993\" style=\"\">r5</text></g><g class=\"toytree-TipLabel\" transform=\"translate(185.6004070556309,171.7608889265872)rotate(90.0)\"><text x=\"15.0\" y=\"2.8104999999999993\" style=\"\">r6</text></g><g class=\"toytree-TipLabel\" transform=\"translate(206.80122116689282,171.7608889265872)rotate(90.0)\"><text x=\"15.0\" y=\"2.8104999999999993\" style=\"\">r7</text></g><g class=\"toytree-TipLabel\" transform=\"translate(228.00203527815466,171.7608889265872)rotate(90.0)\"><text x=\"15.0\" y=\"2.8104999999999993\" style=\"\">r8</text></g><g class=\"toytree-TipLabel\" transform=\"translate(249.20284938941654,171.7608889265872)rotate(90.0)\"><text x=\"15.0\" y=\"2.8104999999999993\" style=\"\">r9</text></g><g class=\"toytree-TipLabel\" transform=\"translate(270.4036635006784,171.7608889265872)rotate(90.0)\"><text x=\"15.0\" y=\"2.8104999999999993\" style=\"\">r10</text></g><g class=\"toytree-TipLabel\" transform=\"translate(291.6044776119403,171.7608889265872)rotate(90.0)\"><text x=\"15.0\" y=\"2.8104999999999993\" style=\"\">r11</text></g></g></g></g></g></svg><div class=\"toyplot-behavior\"><script>(function()\n",
       "{\n",
       "var modules={};\n",
       "})();</script></div></div>"
      ]
     },
     "metadata": {},
     "output_type": "display_data"
    }
   ],
   "source": [
    "# tree._old_update()\n",
    "tree.draw('s', layout='d');"
   ]
  },
  {
   "cell_type": "code",
   "execution_count": null,
   "id": "cdd7a8f9",
   "metadata": {},
   "outputs": [],
   "source": [
    "# [22, 21, x, 20, 19, 18, x, x, 17, x, x, 16, x, x, 15, 14, x, x, 13, x, 12, x, x, ]\n",
    "# []\n",
    "# [0, 1, 2, 3, ... 11, ]"
   ]
  },
  {
   "cell_type": "code",
   "execution_count": null,
   "id": "5494ac20",
   "metadata": {},
   "outputs": [],
   "source": [
    "[22, 21, 20, x, x, 19, x, 18, x, x, 17, x, 16, 15, x, x, 14, 13, x, x, 12, x, x]\n",
    "[20, 18, 19, 21, 15, 13, 12, 14, 16, 17, 22]\n",
    "\n"
   ]
  },
  {
   "cell_type": "code",
   "execution_count": 11,
   "id": "ee7e7803",
   "metadata": {},
   "outputs": [
    {
     "data": {
      "text/html": [
       "<div class=\"toyplot\" id=\"tb03e6b22cf914ddaadbded256d96b0da\" style=\"text-align:center\"><svg class=\"toyplot-canvas-Canvas\" xmlns:toyplot=\"http://www.sandia.gov/toyplot\" xmlns:xlink=\"http://www.w3.org/1999/xlink\" xmlns=\"http://www.w3.org/2000/svg\" width=\"350.0px\" height=\"265.0px\" viewBox=\"0 0 350.0 265.0\" preserveAspectRatio=\"xMidYMid meet\" style=\"background-color:transparent;border-color:#292724;border-style:none;border-width:1.0;fill:rgb(16.1%,15.3%,14.1%);fill-opacity:1.0;font-family:Helvetica;font-size:12px;opacity:1.0;stroke:rgb(16.1%,15.3%,14.1%);stroke-opacity:1.0;stroke-width:1.0\" id=\"t82ad9d3ed8614e4d924f6f03aae4cd7f\"><g class=\"toyplot-coordinates-Cartesian\" id=\"t8d40c22a937241418f9c446e6436f459\"><clipPath id=\"t6af3e14defd94b18acacbcc387c3af08\"><rect x=\"35.0\" y=\"35.0\" width=\"280.0\" height=\"195.0\"></rect></clipPath><g clip-path=\"url(#t6af3e14defd94b18acacbcc387c3af08)\"><g class=\"toytree-mark-Toytree\" id=\"te757b9588107422db6c4a73cc97dec47\"><g class=\"toytree-Edges\" style=\"fill:none;stroke:rgba(16.1%,15.3%,14.1%,1.000);stroke-linecap:round;stroke-width:2.0\"><path d=\"M 69.0 148.7 L 58.4 148.7 L 58.4 171.8\" id=\"20,0\" style=\"stroke-width:nan\"></path><path d=\"M 69.0 148.7 L 79.6 148.7 L 79.6 171.8\" id=\"20,1\" style=\"stroke-width:nan\"></path><path d=\"M 116.7 125.6 L 100.8 125.6 L 100.8 171.8\" id=\"19,2\" style=\"stroke-width:nan\"></path><path d=\"M 132.6 148.7 L 122.0 148.7 L 122.0 171.8\" id=\"18,3\" style=\"stroke-width:nan\"></path><path d=\"M 132.6 148.7 L 143.2 148.7 L 143.2 171.8\" id=\"18,4\" style=\"stroke-width:nan\"></path><path d=\"M 196.2 79.4 L 164.4 79.4 L 164.4 171.8\" id=\"17,5\" style=\"stroke-width:nan\"></path><path d=\"M 196.2 148.7 L 185.6 148.7 L 185.6 171.8\" id=\"15,6\" style=\"stroke-width:nan\"></path><path d=\"M 196.2 148.7 L 206.8 148.7 L 206.8 171.8\" id=\"15,7\" style=\"stroke-width:nan\"></path><path d=\"M 238.6 148.7 L 228.0 148.7 L 228.0 171.8\" id=\"13,8\" style=\"stroke-width:nan\"></path><path d=\"M 238.6 148.7 L 249.2 148.7 L 249.2 171.8\" id=\"13,9\" style=\"stroke-width:nan\"></path><path d=\"M 281.0 148.7 L 270.4 148.7 L 270.4 171.8\" id=\"12,10\" style=\"stroke-width:nan\"></path><path d=\"M 281.0 148.7 L 291.6 148.7 L 291.6 171.8\" id=\"12,11\" style=\"stroke-width:nan\"></path><path d=\"M 259.8 125.6 L 281.0 125.6 L 281.0 148.7\" id=\"14,12\" style=\"stroke-width:nan\"></path><path d=\"M 259.8 125.6 L 238.6 125.6 L 238.6 148.7\" id=\"14,13\" style=\"stroke-width:nan\"></path><path d=\"M 228.0 102.5 L 259.8 102.5 L 259.8 125.6\" id=\"16,14\" style=\"stroke-width:nan\"></path><path d=\"M 228.0 102.5 L 196.2 102.5 L 196.2 148.7\" id=\"16,15\" style=\"stroke-width:nan\"></path><path d=\"M 196.2 79.4 L 228.0 79.4 L 228.0 102.5\" id=\"17,16\" style=\"stroke-width:nan\"></path><path d=\"M 144.5 56.3 L 196.2 56.3 L 196.2 79.4\" id=\"22,17\" style=\"stroke-width:nan\"></path><path d=\"M 116.7 125.6 L 132.6 125.6 L 132.6 148.7\" id=\"19,18\" style=\"stroke-width:nan\"></path><path d=\"M 92.8 102.5 L 116.7 102.5 L 116.7 125.6\" id=\"21,19\" style=\"stroke-width:nan\"></path><path d=\"M 92.8 102.5 L 69.0 102.5 L 69.0 148.7\" id=\"21,20\" style=\"stroke-width:nan\"></path><path d=\"M 144.5 56.3 L 92.8 56.3 L 92.8 102.5\" id=\"22,21\" style=\"stroke-width:nan\"></path></g><g class=\"toytree-Nodes\" style=\"fill:rgba(82.7%,82.7%,82.7%,1.000);stroke:#262626;stroke-width:1.5\"><g id=\"node-0\" transform=\"translate(58.396,171.761)\"><circle r=\"9.0\"></circle></g><g id=\"node-1\" transform=\"translate(79.596,171.761)\"><circle r=\"9.0\"></circle></g><g id=\"node-2\" transform=\"translate(100.797,171.761)\"><circle r=\"9.0\"></circle></g><g id=\"node-3\" transform=\"translate(121.998,171.761)\"><circle r=\"9.0\"></circle></g><g id=\"node-4\" transform=\"translate(143.199,171.761)\"><circle r=\"9.0\"></circle></g><g id=\"node-5\" transform=\"translate(164.400,171.761)\"><circle r=\"9.0\"></circle></g><g id=\"node-6\" transform=\"translate(185.600,171.761)\"><circle r=\"9.0\"></circle></g><g id=\"node-7\" transform=\"translate(206.801,171.761)\"><circle r=\"9.0\"></circle></g><g id=\"node-8\" transform=\"translate(228.002,171.761)\"><circle r=\"9.0\"></circle></g><g id=\"node-9\" transform=\"translate(249.203,171.761)\"><circle r=\"9.0\"></circle></g><g id=\"node-10\" transform=\"translate(270.404,171.761)\"><circle r=\"9.0\"></circle></g><g id=\"node-11\" transform=\"translate(291.604,171.761)\"><circle r=\"9.0\"></circle></g><g id=\"node-12\" transform=\"translate(281.004,148.668)\"><circle r=\"9.0\"></circle></g><g id=\"node-13\" transform=\"translate(238.602,148.668)\"><circle r=\"9.0\"></circle></g><g id=\"node-14\" transform=\"translate(259.803,125.576)\"><circle r=\"9.0\"></circle></g><g id=\"node-15\" transform=\"translate(196.201,148.668)\"><circle r=\"9.0\"></circle></g><g id=\"node-16\" transform=\"translate(228.002,102.483)\"><circle r=\"9.0\"></circle></g><g id=\"node-17\" transform=\"translate(196.201,79.391)\"><circle r=\"9.0\"></circle></g><g id=\"node-18\" transform=\"translate(132.598,148.668)\"><circle r=\"9.0\"></circle></g><g id=\"node-19\" transform=\"translate(116.698,125.576)\"><circle r=\"9.0\"></circle></g><g id=\"node-20\" transform=\"translate(68.996,148.668)\"><circle r=\"9.0\"></circle></g><g id=\"node-21\" transform=\"translate(92.847,102.483)\"><circle r=\"9.0\"></circle></g><g id=\"node-22\" transform=\"translate(144.524,56.298)\"><circle r=\"9.0\"></circle></g></g><g class=\"toytree-NodeLabels\" style=\"font-family:Helvetica;font-size:9.0px;font-weight:300;stroke:none;vertical-align:baseline;white-space:pre\"><g class=\"toytree-NodeLabel\" transform=\"translate(58.395522388059696,171.7608889265872)\"><text x=\"-2.5020000000000002\" y=\"2.2995\" style=\"fill:rgb(16.1%,15.3%,14.1%);fill-opacity:1.0\">0</text></g><g class=\"toytree-NodeLabel\" transform=\"translate(79.59633649932158,171.7608889265872)\"><text x=\"-2.5020000000000002\" y=\"2.2995\" style=\"fill:rgb(16.1%,15.3%,14.1%);fill-opacity:1.0\">1</text></g><g class=\"toytree-NodeLabel\" transform=\"translate(100.79715061058343,171.7608889265872)\"><text x=\"-2.5020000000000002\" y=\"2.2995\" style=\"fill:rgb(16.1%,15.3%,14.1%);fill-opacity:1.0\">2</text></g><g class=\"toytree-NodeLabel\" transform=\"translate(121.9979647218453,171.7608889265872)\"><text x=\"-2.5020000000000002\" y=\"2.2995\" style=\"fill:rgb(16.1%,15.3%,14.1%);fill-opacity:1.0\">3</text></g><g class=\"toytree-NodeLabel\" transform=\"translate(143.19877883310718,171.7608889265872)\"><text x=\"-2.5020000000000002\" y=\"2.2995\" style=\"fill:rgb(16.1%,15.3%,14.1%);fill-opacity:1.0\">4</text></g><g class=\"toytree-NodeLabel\" transform=\"translate(164.39959294436906,171.7608889265872)\"><text x=\"-2.5020000000000002\" y=\"2.2995\" style=\"fill:rgb(16.1%,15.3%,14.1%);fill-opacity:1.0\">5</text></g><g class=\"toytree-NodeLabel\" transform=\"translate(185.6004070556309,171.7608889265872)\"><text x=\"-2.5020000000000002\" y=\"2.2995\" style=\"fill:rgb(16.1%,15.3%,14.1%);fill-opacity:1.0\">6</text></g><g class=\"toytree-NodeLabel\" transform=\"translate(206.80122116689282,171.7608889265872)\"><text x=\"-2.5020000000000002\" y=\"2.2995\" style=\"fill:rgb(16.1%,15.3%,14.1%);fill-opacity:1.0\">7</text></g><g class=\"toytree-NodeLabel\" transform=\"translate(228.00203527815466,171.7608889265872)\"><text x=\"-2.5020000000000002\" y=\"2.2995\" style=\"fill:rgb(16.1%,15.3%,14.1%);fill-opacity:1.0\">8</text></g><g class=\"toytree-NodeLabel\" transform=\"translate(249.20284938941654,171.7608889265872)\"><text x=\"-2.5020000000000002\" y=\"2.2995\" style=\"fill:rgb(16.1%,15.3%,14.1%);fill-opacity:1.0\">9</text></g><g class=\"toytree-NodeLabel\" transform=\"translate(270.4036635006784,171.7608889265872)\"><text x=\"-5.0040000000000004\" y=\"2.2995\" style=\"fill:rgb(16.1%,15.3%,14.1%);fill-opacity:1.0\">10</text></g><g class=\"toytree-NodeLabel\" transform=\"translate(291.6044776119403,171.7608889265872)\"><text x=\"-5.0040000000000004\" y=\"2.2995\" style=\"fill:rgb(16.1%,15.3%,14.1%);fill-opacity:1.0\">11</text></g><g class=\"toytree-NodeLabel\" transform=\"translate(281.00407055630933,148.6683065439586)\"><text x=\"-5.0040000000000004\" y=\"2.2995\" style=\"fill:rgb(16.1%,15.3%,14.1%);fill-opacity:1.0\">12</text></g><g class=\"toytree-NodeLabel\" transform=\"translate(238.6024423337856,148.6683065439586)\"><text x=\"-5.0040000000000004\" y=\"2.2995\" style=\"fill:rgb(16.1%,15.3%,14.1%);fill-opacity:1.0\">13</text></g><g class=\"toytree-NodeLabel\" transform=\"translate(259.80325644504745,125.57572416132999)\"><text x=\"-5.0040000000000004\" y=\"2.2995\" style=\"fill:rgb(16.1%,15.3%,14.1%);fill-opacity:1.0\">14</text></g><g class=\"toytree-NodeLabel\" transform=\"translate(196.20081411126185,148.6683065439586)\"><text x=\"-5.0040000000000004\" y=\"2.2995\" style=\"fill:rgb(16.1%,15.3%,14.1%);fill-opacity:1.0\">15</text></g><g class=\"toytree-NodeLabel\" transform=\"translate(228.00203527815466,102.48314177870137)\"><text x=\"-5.0040000000000004\" y=\"2.2995\" style=\"fill:rgb(16.1%,15.3%,14.1%);fill-opacity:1.0\">16</text></g><g class=\"toytree-NodeLabel\" transform=\"translate(196.20081411126185,79.39055939607277)\"><text x=\"-5.0040000000000004\" y=\"2.2995\" style=\"fill:rgb(16.1%,15.3%,14.1%);fill-opacity:1.0\">17</text></g><g class=\"toytree-NodeLabel\" transform=\"translate(132.59837177747625,148.6683065439586)\"><text x=\"-5.0040000000000004\" y=\"2.2995\" style=\"fill:rgb(16.1%,15.3%,14.1%);fill-opacity:1.0\">18</text></g><g class=\"toytree-NodeLabel\" transform=\"translate(116.69776119402985,125.57572416132999)\"><text x=\"-5.0040000000000004\" y=\"2.2995\" style=\"fill:rgb(16.1%,15.3%,14.1%);fill-opacity:1.0\">19</text></g><g class=\"toytree-NodeLabel\" transform=\"translate(68.99592944369063,148.6683065439586)\"><text x=\"-5.0040000000000004\" y=\"2.2995\" style=\"fill:rgb(16.1%,15.3%,14.1%);fill-opacity:1.0\">20</text></g><g class=\"toytree-NodeLabel\" transform=\"translate(92.84684531886023,102.48314177870137)\"><text x=\"-5.0040000000000004\" y=\"2.2995\" style=\"fill:rgb(16.1%,15.3%,14.1%);fill-opacity:1.0\">21</text></g><g class=\"toytree-NodeLabel\" transform=\"translate(144.52382971506103,56.297977013444154)\"><text x=\"-5.0040000000000004\" y=\"2.2995\" style=\"fill:rgb(16.1%,15.3%,14.1%);fill-opacity:1.0\">22</text></g></g><g class=\"toytree-TipLabels\" style=\"fill:rgb(16.1%,15.3%,14.1%);fill-opacity:1.0;font-family:Helvetica;font-size:11.0px;font-weight:300;stroke:none;vertical-align:baseline;white-space:pre\"><g class=\"toytree-TipLabel\" transform=\"translate(58.395522388059696,171.7608889265872)rotate(90.0)\"><text x=\"15.0\" y=\"2.8104999999999993\" style=\"\">r4</text></g><g class=\"toytree-TipLabel\" transform=\"translate(79.59633649932158,171.7608889265872)rotate(90.0)\"><text x=\"15.0\" y=\"2.8104999999999993\" style=\"\">r3</text></g><g class=\"toytree-TipLabel\" transform=\"translate(100.79715061058343,171.7608889265872)rotate(90.0)\"><text x=\"15.0\" y=\"2.8104999999999993\" style=\"\">r2</text></g><g class=\"toytree-TipLabel\" transform=\"translate(121.9979647218453,171.7608889265872)rotate(90.0)\"><text x=\"15.0\" y=\"2.8104999999999993\" style=\"\">r1</text></g><g class=\"toytree-TipLabel\" transform=\"translate(143.19877883310718,171.7608889265872)rotate(90.0)\"><text x=\"15.0\" y=\"2.8104999999999993\" style=\"\">r0</text></g><g class=\"toytree-TipLabel\" transform=\"translate(164.39959294436906,171.7608889265872)rotate(90.0)\"><text x=\"15.0\" y=\"2.8104999999999993\" style=\"\">r11</text></g><g class=\"toytree-TipLabel\" transform=\"translate(185.6004070556309,171.7608889265872)rotate(90.0)\"><text x=\"15.0\" y=\"2.8104999999999993\" style=\"\">r6</text></g><g class=\"toytree-TipLabel\" transform=\"translate(206.80122116689282,171.7608889265872)rotate(90.0)\"><text x=\"15.0\" y=\"2.8104999999999993\" style=\"\">r5</text></g><g class=\"toytree-TipLabel\" transform=\"translate(228.00203527815466,171.7608889265872)rotate(90.0)\"><text x=\"15.0\" y=\"2.8104999999999993\" style=\"\">r8</text></g><g class=\"toytree-TipLabel\" transform=\"translate(249.20284938941654,171.7608889265872)rotate(90.0)\"><text x=\"15.0\" y=\"2.8104999999999993\" style=\"\">r7</text></g><g class=\"toytree-TipLabel\" transform=\"translate(270.4036635006784,171.7608889265872)rotate(90.0)\"><text x=\"15.0\" y=\"2.8104999999999993\" style=\"\">r9</text></g><g class=\"toytree-TipLabel\" transform=\"translate(291.6044776119403,171.7608889265872)rotate(90.0)\"><text x=\"15.0\" y=\"2.8104999999999993\" style=\"\">r10</text></g></g></g></g></g></svg><div class=\"toyplot-behavior\"><script>(function()\n",
       "{\n",
       "var modules={};\n",
       "})();</script></div></div>"
      ]
     },
     "metadata": {},
     "output_type": "display_data"
    }
   ],
   "source": [
    "# tree._old_update()\n",
    "tree.mod.ladderize().draw('s', layout='d');"
   ]
  },
  {
   "cell_type": "code",
   "execution_count": 22,
   "id": "63ab7737",
   "metadata": {},
   "outputs": [
    {
     "ename": "NameError",
     "evalue": "name 'self' is not defined",
     "output_type": "error",
     "traceback": [
      "\u001b[0;31m---------------------------------------------------------------------------\u001b[0m",
      "\u001b[0;31mNameError\u001b[0m                                 Traceback (most recent call last)",
      "Input \u001b[0;32mIn [22]\u001b[0m, in \u001b[0;36m<module>\u001b[0;34m\u001b[0m\n\u001b[1;32m      2\u001b[0m idx \u001b[38;5;241m=\u001b[39m \u001b[38;5;241m0\u001b[39m\n\u001b[1;32m      3\u001b[0m max_depth \u001b[38;5;241m=\u001b[39m \u001b[38;5;241m0\u001b[39m\n\u001b[0;32m----> 4\u001b[0m \u001b[38;5;28;43mself\u001b[39;49m\u001b[38;5;241m.\u001b[39m_idx_dict\u001b[38;5;241m.\u001b[39mclear()\n\u001b[1;32m      5\u001b[0m \u001b[38;5;28mself\u001b[39m\u001b[38;5;241m.\u001b[39mtreenode\u001b[38;5;241m.\u001b[39m_depth \u001b[38;5;241m=\u001b[39m \u001b[38;5;241m0\u001b[39m\n\u001b[1;32m      7\u001b[0m \u001b[38;5;66;03m# queue starts with root children, and stack starts with root.\u001b[39;00m\n",
      "\u001b[0;31mNameError\u001b[0m: name 'self' is not defined"
     ]
    }
   ],
   "source": [
    "        # clear counters to count up idxs and depth/heights from.\n",
    "        idx = 0\n",
    "        max_depth = 0\n",
    "        self._idx_dict.clear()\n",
    "        self.treenode._depth = 0\n",
    "\n",
    "        # queue starts with root children, and stack starts with root.\n",
    "        queue = list(self.treenode._children[::-1])\n",
    "        inner_stack = [self.treenode]\n",
    "        outer_stack = deque([])\n",
    "\n",
    "        # traverse left then right subtrees to fill and pull from queue\n",
    "        while queue:\n",
    "            # get node from end of the queue\n",
    "            node = queue.pop()\n",
    "            \n",
    "            # set depth of this node from the root\n",
    "            node._depth = node._up._depth + node._dist\n",
    "            \n",
    "            # if leaf add to output stack and update farthest depth\n",
    "            if node.is_leaf():\n",
    "                outer_stack.append(node)\n",
    "                max_depth = max(max_depth, node._depth)\n",
    "                node._idx = idx\n",
    "                node._x = idx\n",
    "                idx += 1\n",
    "            else:\n",
    "                inner_stack.append(node)\n",
    "\n",
    "            # add node's children to the queue (left child on end)\n",
    "            queue.extend(node._children[::-1])\n",
    "\n",
    "        # return nodes in reverse order they were added to stack\n",
    "        while outer_stack:\n",
    "            node = outer_stack.popleft()\n",
    "            node._height = max_depth - node._depth\n",
    "            self._idx_dict[node._idx] = node\n",
    "        self.ntips = idx\n",
    "        while inner_stack:\n",
    "            node = inner_stack.pop()\n",
    "            node._height = max_depth - node._depth\n",
    "            node._x = sum(i._x for i in node._children) / 2            \n",
    "            node._idx = idx\n",
    "            self._idx_dict[idx] = node            \n",
    "            idx += 1\n",
    "        self.nnodes = idx"
   ]
  },
  {
   "cell_type": "code",
   "execution_count": 5,
   "id": "c3ae674b",
   "metadata": {},
   "outputs": [
    {
     "name": "stdout",
     "output_type": "stream",
     "text": [
      "22.3 µs ± 98.7 ns per loop (mean ± std. dev. of 7 runs, 10,000 loops each)\n"
     ]
    }
   ],
   "source": [
    "%%timeit\n",
    "tree._update()"
   ]
  },
  {
   "cell_type": "code",
   "execution_count": 10,
   "id": "c080716f",
   "metadata": {},
   "outputs": [],
   "source": [
    "idx = 3\n",
    "node = tree[0]"
   ]
  },
  {
   "cell_type": "code",
   "execution_count": 14,
   "id": "2572ac59",
   "metadata": {},
   "outputs": [
    {
     "data": {
      "text/plain": [
       "()"
      ]
     },
     "execution_count": 14,
     "metadata": {},
     "output_type": "execute_result"
    }
   ],
   "source": [
    "node._children"
   ]
  },
  {
   "cell_type": "code",
   "execution_count": 12,
   "id": "441fbdaf",
   "metadata": {},
   "outputs": [
    {
     "name": "stdout",
     "output_type": "stream",
     "text": [
      "66.3 ns ± 1.12 ns per loop (mean ± std. dev. of 7 runs, 10,000,000 loops each)\n"
     ]
    }
   ],
   "source": [
    "%%timeit\n",
    "node.idx"
   ]
  },
  {
   "cell_type": "code",
   "execution_count": 5,
   "id": "eb4be76c",
   "metadata": {},
   "outputs": [
    {
     "ename": "AttributeError",
     "evalue": "'ToyTree' object has no attribute '_new_traverse_idxorder'",
     "output_type": "error",
     "traceback": [
      "\u001b[0;31m---------------------------------------------------------------------------\u001b[0m",
      "\u001b[0;31mAttributeError\u001b[0m                            Traceback (most recent call last)",
      "Input \u001b[0;32mIn [5]\u001b[0m, in \u001b[0;36m<module>\u001b[0;34m\u001b[0m\n\u001b[0;32m----> 1\u001b[0m \u001b[38;5;28mlist\u001b[39m(\u001b[43mtree\u001b[49m\u001b[38;5;241;43m.\u001b[39;49m\u001b[43m_new_traverse_idxorder\u001b[49m())\n\u001b[1;32m      2\u001b[0m tree\u001b[38;5;241m.\u001b[39mget_edges()\n\u001b[1;32m      3\u001b[0m tree\u001b[38;5;241m.\u001b[39mmod\u001b[38;5;241m.\u001b[39mladderize()\u001b[38;5;241m.\u001b[39mdraw(\u001b[38;5;124m'\u001b[39m\u001b[38;5;124ms\u001b[39m\u001b[38;5;124m'\u001b[39m)\n",
      "\u001b[0;31mAttributeError\u001b[0m: 'ToyTree' object has no attribute '_new_traverse_idxorder'"
     ]
    }
   ],
   "source": [
    "list(tree._new_traverse_idxorder())\n",
    "tree.get_edges()\n",
    "tree.mod.ladderize().draw('s');"
   ]
  },
  {
   "cell_type": "code",
   "execution_count": 6,
   "id": "e4bd5d26",
   "metadata": {},
   "outputs": [
    {
     "data": {
      "text/html": [
       "<div class=\"toyplot\" id=\"ta0e465bc2cb54045b1c3895835dddbdb\" style=\"text-align:center\"><svg class=\"toyplot-canvas-Canvas\" xmlns:toyplot=\"http://www.sandia.gov/toyplot\" xmlns:xlink=\"http://www.w3.org/1999/xlink\" xmlns=\"http://www.w3.org/2000/svg\" width=\"255.0px\" height=\"275.0px\" viewBox=\"0 0 255.0 275.0\" preserveAspectRatio=\"xMidYMid meet\" style=\"background-color:transparent;border-color:#292724;border-style:none;border-width:1.0;fill:rgb(16.1%,15.3%,14.1%);fill-opacity:1.0;font-family:Helvetica;font-size:12px;opacity:1.0;stroke:rgb(16.1%,15.3%,14.1%);stroke-opacity:1.0;stroke-width:1.0\" id=\"t93eed0d19bff47669f9b84da0a94beeb\"><g class=\"toyplot-coordinates-Cartesian\" id=\"t616b419163f042dc99464847390884b9\"><clipPath id=\"tbf98aba3d81b49bfba6449100e801183\"><rect x=\"35.0\" y=\"35.0\" width=\"185.0\" height=\"205.0\"></rect></clipPath><g clip-path=\"url(#tbf98aba3d81b49bfba6449100e801183)\"><g class=\"toytree-mark-Toytree\" id=\"t52df139414b74b3791ba0798ea57711d\"><g class=\"toytree-Edges\" style=\"fill:none;stroke:rgba(16.1%,15.3%,14.1%,1.000);stroke-linecap:round;stroke-width:2.0\"><path d=\"M 115.0 177.2 L 115.0 216.8 L 173.3 216.8\" id=\"3,0\" style=\"stroke-width:nan\"></path><path d=\"M 115.0 177.2 L 115.0 137.5 L 173.3 137.5\" id=\"3,1\" style=\"stroke-width:nan\"></path><path d=\"M 56.8 117.7 L 56.8 58.2 L 173.3 58.2\" id=\"4,2\" style=\"stroke-width:nan\"></path><path d=\"M 56.8 117.7 L 56.8 177.2 L 115.0 177.2\" id=\"4,3\" style=\"stroke-width:nan\"></path></g><g class=\"toytree-Nodes\" style=\"fill:rgba(82.7%,82.7%,82.7%,1.000);stroke:#262626;stroke-width:1.5\"><g id=\"node-0\" transform=\"translate(173.259,216.839)\"><circle r=\"9.0\"></circle></g><g id=\"node-1\" transform=\"translate(173.259,137.500)\"><circle r=\"9.0\"></circle></g><g id=\"node-2\" transform=\"translate(173.259,58.161)\"><circle r=\"9.0\"></circle></g><g id=\"node-3\" transform=\"translate(115.012,177.170)\"><circle r=\"9.0\"></circle></g><g id=\"node-4\" transform=\"translate(56.764,117.665)\"><circle r=\"9.0\"></circle></g></g><g class=\"toytree-NodeLabels\" style=\"font-family:Helvetica;font-size:9.0px;font-weight:300;stroke:none;vertical-align:baseline;white-space:pre\"><g class=\"toytree-NodeLabel\" transform=\"translate(173.25924201869742,216.83937823834196)\"><text x=\"-2.5020000000000002\" y=\"2.2995\" style=\"fill:rgb(16.1%,15.3%,14.1%);fill-opacity:1.0\">0</text></g><g class=\"toytree-NodeLabel\" transform=\"translate(173.25924201869742,137.5)\"><text x=\"-2.5020000000000002\" y=\"2.2995\" style=\"fill:rgb(16.1%,15.3%,14.1%);fill-opacity:1.0\">1</text></g><g class=\"toytree-NodeLabel\" transform=\"translate(173.25924201869742,58.16062176165802)\"><text x=\"-2.5020000000000002\" y=\"2.2995\" style=\"fill:rgb(16.1%,15.3%,14.1%);fill-opacity:1.0\">2</text></g><g class=\"toytree-NodeLabel\" transform=\"translate(115.01173435742271,177.16968911917095)\"><text x=\"-2.5020000000000002\" y=\"2.2995\" style=\"fill:rgb(16.1%,15.3%,14.1%);fill-opacity:1.0\">3</text></g><g class=\"toytree-NodeLabel\" transform=\"translate(56.76422669614803,117.66515544041452)\"><text x=\"-2.5020000000000002\" y=\"2.2995\" style=\"fill:rgb(16.1%,15.3%,14.1%);fill-opacity:1.0\">4</text></g></g><g class=\"toytree-TipLabels\" style=\"fill:rgb(16.1%,15.3%,14.1%);fill-opacity:1.0;font-family:Helvetica;font-size:11.0px;font-weight:300;stroke:none;vertical-align:baseline;white-space:pre\"><g class=\"toytree-TipLabel\" transform=\"translate(173.25924201869742,216.83937823834196)\"><text x=\"15.0\" y=\"2.8104999999999993\" style=\"\">a</text></g><g class=\"toytree-TipLabel\" transform=\"translate(173.25924201869742,137.5)\"><text x=\"15.0\" y=\"2.8104999999999993\" style=\"\">b</text></g><g class=\"toytree-TipLabel\" transform=\"translate(173.25924201869742,58.16062176165802)\"><text x=\"15.0\" y=\"2.8104999999999993\" style=\"\">c</text></g></g></g></g></g></svg><div class=\"toyplot-behavior\"><script>(function()\n",
       "{\n",
       "var modules={};\n",
       "})();</script></div></div>"
      ]
     },
     "metadata": {},
     "output_type": "display_data"
    }
   ],
   "source": [
    "tree.mod.ladderize().draw('s');"
   ]
  },
  {
   "cell_type": "code",
   "execution_count": null,
   "id": "9586b0cb",
   "metadata": {},
   "outputs": [],
   "source": []
  },
  {
   "cell_type": "code",
   "execution_count": null,
   "id": "acda8982",
   "metadata": {},
   "outputs": [],
   "source": []
  },
  {
   "cell_type": "code",
   "execution_count": 11,
   "id": "381c5cc9",
   "metadata": {},
   "outputs": [],
   "source": [
    "from collections import deque\n",
    "        \n",
    "def new_idxorder(self):\n",
    "    idx = 0\n",
    "    max_depth = 0\n",
    "    self._depth = 0\n",
    "    queue = list(self.children)\n",
    "    inner_stack = [self]\n",
    "    outer_stack = deque([])\n",
    "    while queue:\n",
    "        # get node from end of the queue\n",
    "        node = queue.pop()\n",
    "        \n",
    "        # set depth of this node from the root\n",
    "        node._depth = node._up._depth + node._dist\n",
    "        \n",
    "        # if leaf add to output stack and update farthest depth\n",
    "        if node.is_leaf():\n",
    "            outer_stack.append(node)\n",
    "            max_depth = max(max_depth, node._depth)\n",
    "            #node._idx = idx\n",
    "            node._x = idx\n",
    "            idx += 1\n",
    "        else:\n",
    "            inner_stack.append(node)\n",
    "            node._x = sum(i._x for i in node.children) / 2\n",
    "\n",
    "        # add node's children to the queue (left child on end)\n",
    "        queue.extend(node.children)\n",
    "\n",
    "    # return nodes in reverse order they were added to stack\n",
    "    while outer_stack:\n",
    "        node = outer_stack.popleft()\n",
    "        node._height = max_depth - node._depth\n",
    "        yield node\n",
    "    while inner_stack:\n",
    "        node = inner_stack.pop()\n",
    "        node._height = max_depth - node._depth\n",
    "        #node._idx = idx\n",
    "        yield node\n",
    "        idx += 1\n"
   ]
  },
  {
   "cell_type": "code",
   "execution_count": 12,
   "id": "53ce2780",
   "metadata": {},
   "outputs": [
    {
     "data": {
      "text/plain": [
       "[Node(0),\n",
       " Node(1),\n",
       " Node(2),\n",
       " Node(3),\n",
       " Node(4),\n",
       " Node(5),\n",
       " Node(6),\n",
       " Node(7),\n",
       " Node(8),\n",
       " Node(9),\n",
       " Node(10),\n",
       " Node(11),\n",
       " Node(12),\n",
       " Node(13),\n",
       " Node(14),\n",
       " Node(15),\n",
       " Node(16),\n",
       " Node(17),\n",
       " Node(18),\n",
       " Node(19),\n",
       " Node(20),\n",
       " Node(21),\n",
       " Node(22)]"
      ]
     },
     "execution_count": 12,
     "metadata": {},
     "output_type": "execute_result"
    }
   ],
   "source": [
    "#%%timeit\n",
    "list(new_idxorder(tree.treenode))"
   ]
  },
  {
   "cell_type": "code",
   "execution_count": 15,
   "id": "80f12e5f",
   "metadata": {},
   "outputs": [
    {
     "data": {
      "text/plain": [
       "array([[5.        , 0.66666667],\n",
       "       [4.        , 0.66666667],\n",
       "       [3.        , 0.66666667],\n",
       "       [2.        , 0.66666667],\n",
       "       [1.        , 0.        ],\n",
       "       [0.        , 0.        ],\n",
       "       [4.5       , 1.        ],\n",
       "       [2.5       , 1.        ],\n",
       "       [0.5       , 0.66666667],\n",
       "       [2.5       , 1.33333333]])"
      ]
     },
     "execution_count": 15,
     "metadata": {},
     "output_type": "execute_result"
    }
   ],
   "source": [
    "tree._get_node_coordinates()"
   ]
  },
  {
   "cell_type": "code",
   "execution_count": 414,
   "id": "ea996436",
   "metadata": {},
   "outputs": [
    {
     "name": "stdout",
     "output_type": "stream",
     "text": [
      "0 0.0\n",
      "1 0.0\n",
      "2 0.0\n",
      "3 0.0\n",
      "4 0.0\n",
      "5 0.0\n",
      "6 0.0\n",
      "7 0.0\n",
      "8 0.0\n",
      "9 0.0\n",
      "10 0.0\n",
      "11 0.0\n",
      "12 0.6\n",
      "13 0.6\n",
      "14 0.8\n",
      "15 0.3999999999999999\n",
      "16 0.6\n",
      "17 0.3999999999999999\n",
      "18 0.19999999999999996\n",
      "19 0.3999999999999999\n",
      "20 0.6\n",
      "21 0.8\n",
      "22 1.0\n"
     ]
    }
   ],
   "source": [
    "for node in tree.traverse(\"idxorder\"):\n",
    "    print(node.idx, node.height)"
   ]
  },
  {
   "cell_type": "code",
   "execution_count": 359,
   "id": "657f4698",
   "metadata": {},
   "outputs": [
    {
     "name": "stdout",
     "output_type": "stream",
     "text": [
      "107 µs ± 436 ns per loop (mean ± std. dev. of 7 runs, 10,000 loops each)\n"
     ]
    }
   ],
   "source": [
    "%%timeit\n",
    "\n",
    "max_dist = 0\n",
    "for node in tree.traverse(\"preorder\"):\n",
    "    if node._up:\n",
    "        node._height = node._dist + node._up._height\n",
    "    else:\n",
    "        node._height = 0\n",
    "    if node.is_leaf():\n",
    "        max_dist = max(max_dist, node._height)"
   ]
  },
  {
   "cell_type": "code",
   "execution_count": 334,
   "id": "f4df3326",
   "metadata": {},
   "outputs": [
    {
     "name": "stdout",
     "output_type": "stream",
     "text": [
      "9.02 µs ± 76.4 ns per loop (mean ± std. dev. of 7 runs, 100,000 loops each)\n"
     ]
    }
   ],
   "source": [
    "%%timeit\n",
    "list(old_idxorder(tree.treenode))"
   ]
  },
  {
   "cell_type": "code",
   "execution_count": 324,
   "id": "14a56b5d",
   "metadata": {},
   "outputs": [
    {
     "ename": "SyntaxError",
     "evalue": "invalid syntax (3981575886.py, line 1)",
     "output_type": "error",
     "traceback": [
      "\u001b[0;36m  Input \u001b[0;32mIn [324]\u001b[0;36m\u001b[0m\n\u001b[0;31m    [22, 14, 12, , , ]\u001b[0m\n\u001b[0m                 ^\u001b[0m\n\u001b[0;31mSyntaxError\u001b[0m\u001b[0;31m:\u001b[0m invalid syntax\n"
     ]
    }
   ],
   "source": [
    "[22, 14, 12, 13, 21, 16, 15, 20, 17, 19, 18]"
   ]
  },
  {
   "cell_type": "code",
   "execution_count": 308,
   "id": "35a1ca62",
   "metadata": {},
   "outputs": [
    {
     "data": {
      "text/html": [
       "<div class=\"toyplot\" id=\"ta9e28907c3fd4eea9546ea36b42065b2\" style=\"text-align:center\"><svg class=\"toyplot-canvas-Canvas\" xmlns:toyplot=\"http://www.sandia.gov/toyplot\" xmlns:xlink=\"http://www.w3.org/1999/xlink\" xmlns=\"http://www.w3.org/2000/svg\" width=\"265.0px\" height=\"400.0px\" viewBox=\"0 0 265.0 400.0\" preserveAspectRatio=\"xMidYMid meet\" style=\"background-color:transparent;border-color:#292724;border-style:none;border-width:1.0;fill:rgb(16.1%,15.3%,14.1%);fill-opacity:1.0;font-family:Helvetica;font-size:12px;opacity:1.0;stroke:rgb(16.1%,15.3%,14.1%);stroke-opacity:1.0;stroke-width:1.0\" id=\"tc2ad17db10bd4414a550cd54a6545915\"><g class=\"toyplot-coordinates-Cartesian\" id=\"t4ef6912186424f8493011c38ac16c0a7\"><clipPath id=\"te1856fd33aaf4fdd85879c95723a8d8e\"><rect x=\"35.0\" y=\"35.0\" width=\"195.0\" height=\"330.0\"></rect></clipPath><g clip-path=\"url(#te1856fd33aaf4fdd85879c95723a8d8e)\"><g class=\"toytree-mark-Toytree\" id=\"t6e40f76d466c4e25b963fdd4e1ce8198\"><g class=\"toytree-Edges\" style=\"fill:none;stroke:rgba(16.1%,15.3%,14.1%,1.000);stroke-linecap:round;stroke-width:2.0\"><path d=\"M 148.7 328.6 L 148.7 341.5 L 171.8 341.5\" id=\"12,0\" style=\"stroke-width:nan\"></path><path d=\"M 148.7 328.6 L 148.7 315.8 L 171.8 315.8\" id=\"12,1\" style=\"stroke-width:nan\"></path><path d=\"M 148.7 277.2 L 148.7 290.1 L 171.8 290.1\" id=\"13,2\" style=\"stroke-width:nan\"></path><path d=\"M 148.7 277.2 L 148.7 264.3 L 171.8 264.3\" id=\"13,3\" style=\"stroke-width:nan\"></path><path d=\"M 125.6 219.3 L 125.6 238.6 L 171.8 238.6\" id=\"16,4\" style=\"stroke-width:nan\"></path><path d=\"M 148.7 200.0 L 148.7 212.9 L 171.8 212.9\" id=\"15,5\" style=\"stroke-width:nan\"></path><path d=\"M 148.7 200.0 L 148.7 187.1 L 171.8 187.1\" id=\"15,6\" style=\"stroke-width:nan\"></path><path d=\"M 148.7 148.5 L 148.7 161.4 L 171.8 161.4\" id=\"17,7\" style=\"stroke-width:nan\"></path><path d=\"M 148.7 148.5 L 148.7 135.7 L 171.8 135.7\" id=\"17,8\" style=\"stroke-width:nan\"></path><path d=\"M 148.7 97.1 L 148.7 109.9 L 171.8 109.9\" id=\"18,9\" style=\"stroke-width:nan\"></path><path d=\"M 148.7 97.1 L 148.7 84.2 L 171.8 84.2\" id=\"18,10\" style=\"stroke-width:nan\"></path><path d=\"M 125.6 77.8 L 125.6 58.5 L 171.8 58.5\" id=\"19,11\" style=\"stroke-width:nan\"></path><path d=\"M 125.6 302.9 L 125.6 328.6 L 148.7 328.6\" id=\"14,12\" style=\"stroke-width:nan\"></path><path d=\"M 125.6 302.9 L 125.6 277.2 L 148.7 277.2\" id=\"14,13\" style=\"stroke-width:nan\"></path><path d=\"M 56.3 234.6 L 56.3 302.9 L 125.6 302.9\" id=\"22,14\" style=\"stroke-width:nan\"></path><path d=\"M 125.6 219.3 L 125.6 200.0 L 148.7 200.0\" id=\"16,15\" style=\"stroke-width:nan\"></path><path d=\"M 79.4 166.2 L 79.4 219.3 L 125.6 219.3\" id=\"21,16\" style=\"stroke-width:nan\"></path><path d=\"M 102.5 113.2 L 102.5 148.5 L 148.7 148.5\" id=\"20,17\" style=\"stroke-width:nan\"></path><path d=\"M 125.6 77.8 L 125.6 97.1 L 148.7 97.1\" id=\"19,18\" style=\"stroke-width:nan\"></path><path d=\"M 102.5 113.2 L 102.5 77.8 L 125.6 77.8\" id=\"20,19\" style=\"stroke-width:nan\"></path><path d=\"M 79.4 166.2 L 79.4 113.2 L 102.5 113.2\" id=\"21,20\" style=\"stroke-width:nan\"></path><path d=\"M 56.3 234.6 L 56.3 166.2 L 79.4 166.2\" id=\"22,21\" style=\"stroke-width:nan\"></path></g><g class=\"toytree-Nodes\" style=\"fill:rgba(82.7%,82.7%,82.7%,1.000);stroke:#262626;stroke-width:1.5\"><g id=\"node-0\" transform=\"translate(171.761,341.509)\"><circle r=\"9.0\"></circle></g><g id=\"node-1\" transform=\"translate(171.761,315.780)\"><circle r=\"9.0\"></circle></g><g id=\"node-2\" transform=\"translate(171.761,290.051)\"><circle r=\"9.0\"></circle></g><g id=\"node-3\" transform=\"translate(171.761,264.322)\"><circle r=\"9.0\"></circle></g><g id=\"node-4\" transform=\"translate(171.761,238.593)\"><circle r=\"9.0\"></circle></g><g id=\"node-5\" transform=\"translate(171.761,212.864)\"><circle r=\"9.0\"></circle></g><g id=\"node-6\" transform=\"translate(171.761,187.136)\"><circle r=\"9.0\"></circle></g><g id=\"node-7\" transform=\"translate(171.761,161.407)\"><circle r=\"9.0\"></circle></g><g id=\"node-8\" transform=\"translate(171.761,135.678)\"><circle r=\"9.0\"></circle></g><g id=\"node-9\" transform=\"translate(171.761,109.949)\"><circle r=\"9.0\"></circle></g><g id=\"node-10\" transform=\"translate(171.761,84.220)\"><circle r=\"9.0\"></circle></g><g id=\"node-11\" transform=\"translate(171.761,58.491)\"><circle r=\"9.0\"></circle></g><g id=\"node-12\" transform=\"translate(148.668,328.645)\"><circle r=\"9.0\"></circle></g><g id=\"node-13\" transform=\"translate(148.668,277.187)\"><circle r=\"9.0\"></circle></g><g id=\"node-14\" transform=\"translate(125.576,302.916)\"><circle r=\"9.0\"></circle></g><g id=\"node-15\" transform=\"translate(148.668,200.000)\"><circle r=\"9.0\"></circle></g><g id=\"node-16\" transform=\"translate(125.576,219.297)\"><circle r=\"9.0\"></circle></g><g id=\"node-17\" transform=\"translate(148.668,148.542)\"><circle r=\"9.0\"></circle></g><g id=\"node-18\" transform=\"translate(148.668,97.084)\"><circle r=\"9.0\"></circle></g><g id=\"node-19\" transform=\"translate(125.576,77.787)\"><circle r=\"9.0\"></circle></g><g id=\"node-20\" transform=\"translate(102.483,113.165)\"><circle r=\"9.0\"></circle></g><g id=\"node-21\" transform=\"translate(79.391,166.231)\"><circle r=\"9.0\"></circle></g><g id=\"node-22\" transform=\"translate(56.298,234.573)\"><circle r=\"9.0\"></circle></g></g><g class=\"toytree-NodeLabels\" style=\"font-family:Helvetica;font-size:9.0px;font-weight:300;stroke:none;vertical-align:baseline;white-space:pre\"><g class=\"toytree-NodeLabel\" transform=\"translate(171.7608889265872,341.50943396226415)\"><text x=\"-2.5020000000000002\" y=\"2.2995\" style=\"fill:rgb(16.1%,15.3%,14.1%);fill-opacity:1.0\">0</text></g><g class=\"toytree-NodeLabel\" transform=\"translate(171.7608889265872,315.7804459691252)\"><text x=\"-2.5020000000000002\" y=\"2.2995\" style=\"fill:rgb(16.1%,15.3%,14.1%);fill-opacity:1.0\">1</text></g><g class=\"toytree-NodeLabel\" transform=\"translate(171.7608889265872,290.0514579759863)\"><text x=\"-2.5020000000000002\" y=\"2.2995\" style=\"fill:rgb(16.1%,15.3%,14.1%);fill-opacity:1.0\">2</text></g><g class=\"toytree-NodeLabel\" transform=\"translate(171.7608889265872,264.32246998284734)\"><text x=\"-2.5020000000000002\" y=\"2.2995\" style=\"fill:rgb(16.1%,15.3%,14.1%);fill-opacity:1.0\">3</text></g><g class=\"toytree-NodeLabel\" transform=\"translate(171.7608889265872,238.5934819897084)\"><text x=\"-2.5020000000000002\" y=\"2.2995\" style=\"fill:rgb(16.1%,15.3%,14.1%);fill-opacity:1.0\">4</text></g><g class=\"toytree-NodeLabel\" transform=\"translate(171.7608889265872,212.86449399656948)\"><text x=\"-2.5020000000000002\" y=\"2.2995\" style=\"fill:rgb(16.1%,15.3%,14.1%);fill-opacity:1.0\">5</text></g><g class=\"toytree-NodeLabel\" transform=\"translate(171.7608889265872,187.13550600343052)\"><text x=\"-2.5020000000000002\" y=\"2.2995\" style=\"fill:rgb(16.1%,15.3%,14.1%);fill-opacity:1.0\">6</text></g><g class=\"toytree-NodeLabel\" transform=\"translate(171.7608889265872,161.4065180102916)\"><text x=\"-2.5020000000000002\" y=\"2.2995\" style=\"fill:rgb(16.1%,15.3%,14.1%);fill-opacity:1.0\">7</text></g><g class=\"toytree-NodeLabel\" transform=\"translate(171.7608889265872,135.67753001715266)\"><text x=\"-2.5020000000000002\" y=\"2.2995\" style=\"fill:rgb(16.1%,15.3%,14.1%);fill-opacity:1.0\">8</text></g><g class=\"toytree-NodeLabel\" transform=\"translate(171.7608889265872,109.94854202401372)\"><text x=\"-2.5020000000000002\" y=\"2.2995\" style=\"fill:rgb(16.1%,15.3%,14.1%);fill-opacity:1.0\">9</text></g><g class=\"toytree-NodeLabel\" transform=\"translate(171.7608889265872,84.2195540308748)\"><text x=\"-5.0040000000000004\" y=\"2.2995\" style=\"fill:rgb(16.1%,15.3%,14.1%);fill-opacity:1.0\">10</text></g><g class=\"toytree-NodeLabel\" transform=\"translate(171.7608889265872,58.490566037735846)\"><text x=\"-5.0040000000000004\" y=\"2.2995\" style=\"fill:rgb(16.1%,15.3%,14.1%);fill-opacity:1.0\">11</text></g><g class=\"toytree-NodeLabel\" transform=\"translate(148.6683065439586,328.64493996569473)\"><text x=\"-5.0040000000000004\" y=\"2.2995\" style=\"fill:rgb(16.1%,15.3%,14.1%);fill-opacity:1.0\">12</text></g><g class=\"toytree-NodeLabel\" transform=\"translate(148.6683065439586,277.1869639794168)\"><text x=\"-5.0040000000000004\" y=\"2.2995\" style=\"fill:rgb(16.1%,15.3%,14.1%);fill-opacity:1.0\">13</text></g><g class=\"toytree-NodeLabel\" transform=\"translate(125.57572416132999,302.9159519725557)\"><text x=\"-5.0040000000000004\" y=\"2.2995\" style=\"fill:rgb(16.1%,15.3%,14.1%);fill-opacity:1.0\">14</text></g><g class=\"toytree-NodeLabel\" transform=\"translate(148.6683065439586,200.0)\"><text x=\"-5.0040000000000004\" y=\"2.2995\" style=\"fill:rgb(16.1%,15.3%,14.1%);fill-opacity:1.0\">15</text></g><g class=\"toytree-NodeLabel\" transform=\"translate(125.57572416132999,219.2967409948542)\"><text x=\"-5.0040000000000004\" y=\"2.2995\" style=\"fill:rgb(16.1%,15.3%,14.1%);fill-opacity:1.0\">16</text></g><g class=\"toytree-NodeLabel\" transform=\"translate(148.6683065439586,148.54202401372214)\"><text x=\"-5.0040000000000004\" y=\"2.2995\" style=\"fill:rgb(16.1%,15.3%,14.1%);fill-opacity:1.0\">17</text></g><g class=\"toytree-NodeLabel\" transform=\"translate(148.6683065439586,97.08404802744425)\"><text x=\"-5.0040000000000004\" y=\"2.2995\" style=\"fill:rgb(16.1%,15.3%,14.1%);fill-opacity:1.0\">18</text></g><g class=\"toytree-NodeLabel\" transform=\"translate(125.57572416132999,77.78730703259006)\"><text x=\"-5.0040000000000004\" y=\"2.2995\" style=\"fill:rgb(16.1%,15.3%,14.1%);fill-opacity:1.0\">19</text></g><g class=\"toytree-NodeLabel\" transform=\"translate(102.48314177870137,113.16466552315609)\"><text x=\"-5.0040000000000004\" y=\"2.2995\" style=\"fill:rgb(16.1%,15.3%,14.1%);fill-opacity:1.0\">20</text></g><g class=\"toytree-NodeLabel\" transform=\"translate(79.39055939607277,166.23070325900514)\"><text x=\"-5.0040000000000004\" y=\"2.2995\" style=\"fill:rgb(16.1%,15.3%,14.1%);fill-opacity:1.0\">21</text></g><g class=\"toytree-NodeLabel\" transform=\"translate(56.29797701344416,234.57332761578047)\"><text x=\"-5.0040000000000004\" y=\"2.2995\" style=\"fill:rgb(16.1%,15.3%,14.1%);fill-opacity:1.0\">22</text></g></g><g class=\"toytree-TipLabels\" style=\"fill:rgb(16.1%,15.3%,14.1%);fill-opacity:1.0;font-family:Helvetica;font-size:11.0px;font-weight:300;stroke:none;vertical-align:baseline;white-space:pre\"><g class=\"toytree-TipLabel\" transform=\"translate(171.7608889265872,341.50943396226415)\"><text x=\"15.0\" y=\"2.8104999999999993\" style=\"\">r0</text></g><g class=\"toytree-TipLabel\" transform=\"translate(171.7608889265872,315.7804459691252)\"><text x=\"15.0\" y=\"2.8104999999999993\" style=\"\">r1</text></g><g class=\"toytree-TipLabel\" transform=\"translate(171.7608889265872,290.0514579759863)\"><text x=\"15.0\" y=\"2.8104999999999993\" style=\"\">r2</text></g><g class=\"toytree-TipLabel\" transform=\"translate(171.7608889265872,264.32246998284734)\"><text x=\"15.0\" y=\"2.8104999999999993\" style=\"\">r3</text></g><g class=\"toytree-TipLabel\" transform=\"translate(171.7608889265872,238.5934819897084)\"><text x=\"15.0\" y=\"2.8104999999999993\" style=\"\">r4</text></g><g class=\"toytree-TipLabel\" transform=\"translate(171.7608889265872,212.86449399656948)\"><text x=\"15.0\" y=\"2.8104999999999993\" style=\"\">r5</text></g><g class=\"toytree-TipLabel\" transform=\"translate(171.7608889265872,187.13550600343052)\"><text x=\"15.0\" y=\"2.8104999999999993\" style=\"\">r6</text></g><g class=\"toytree-TipLabel\" transform=\"translate(171.7608889265872,161.4065180102916)\"><text x=\"15.0\" y=\"2.8104999999999993\" style=\"\">r7</text></g><g class=\"toytree-TipLabel\" transform=\"translate(171.7608889265872,135.67753001715266)\"><text x=\"15.0\" y=\"2.8104999999999993\" style=\"\">r8</text></g><g class=\"toytree-TipLabel\" transform=\"translate(171.7608889265872,109.94854202401372)\"><text x=\"15.0\" y=\"2.8104999999999993\" style=\"\">r9</text></g><g class=\"toytree-TipLabel\" transform=\"translate(171.7608889265872,84.2195540308748)\"><text x=\"15.0\" y=\"2.8104999999999993\" style=\"\">r10</text></g><g class=\"toytree-TipLabel\" transform=\"translate(171.7608889265872,58.490566037735846)\"><text x=\"15.0\" y=\"2.8104999999999993\" style=\"\">r11</text></g></g></g></g></g></svg><div class=\"toyplot-behavior\"><script>(function()\n",
       "{\n",
       "var modules={};\n",
       "})();</script></div></div>"
      ]
     },
     "metadata": {},
     "output_type": "display_data"
    }
   ],
   "source": [
    "tree.draw('s', height=400);"
   ]
  },
  {
   "cell_type": "code",
   "execution_count": 283,
   "id": "4f649505",
   "metadata": {},
   "outputs": [
    {
     "data": {
      "text/plain": [
       "[Node(0),\n",
       " Node(1),\n",
       " Node(2),\n",
       " Node(3),\n",
       " Node(4),\n",
       " Node(5),\n",
       " Node(6),\n",
       " Node(7),\n",
       " Node(8),\n",
       " Node(9),\n",
       " Node(10)]"
      ]
     },
     "execution_count": 283,
     "metadata": {},
     "output_type": "execute_result"
    }
   ],
   "source": [
    "list(idxorder(tree.treenode))"
   ]
  },
  {
   "cell_type": "code",
   "execution_count": null,
   "id": "db35e4c4",
   "metadata": {},
   "outputs": [],
   "source": []
  },
  {
   "cell_type": "code",
   "execution_count": null,
   "id": "419b6b3d",
   "metadata": {},
   "outputs": [],
   "source": []
  },
  {
   "cell_type": "code",
   "execution_count": null,
   "id": "95eed288",
   "metadata": {},
   "outputs": [],
   "source": []
  },
  {
   "cell_type": "code",
   "execution_count": 151,
   "id": "ca60ef3b",
   "metadata": {},
   "outputs": [
    {
     "data": {
      "text/html": [
       "<div class=\"toyplot\" id=\"tcd80a8949cc049028a9577df31325d02\" style=\"text-align:center\"><svg class=\"toyplot-canvas-Canvas\" xmlns:toyplot=\"http://www.sandia.gov/toyplot\" xmlns:xlink=\"http://www.w3.org/1999/xlink\" xmlns=\"http://www.w3.org/2000/svg\" width=\"265.0px\" height=\"275.0px\" viewBox=\"0 0 265.0 275.0\" preserveAspectRatio=\"xMidYMid meet\" style=\"background-color:transparent;border-color:#292724;border-style:none;border-width:1.0;fill:rgb(16.1%,15.3%,14.1%);fill-opacity:1.0;font-family:Helvetica;font-size:12px;opacity:1.0;stroke:rgb(16.1%,15.3%,14.1%);stroke-opacity:1.0;stroke-width:1.0\" id=\"t1f6773af11984c10b72378499cefea95\"><g class=\"toyplot-coordinates-Cartesian\" id=\"t696825ba549540659ec4b70cd107ddde\"><clipPath id=\"t970c542515b54bc69a25be8760d383f9\"><rect x=\"35.0\" y=\"35.0\" width=\"195.0\" height=\"205.0\"></rect></clipPath><g clip-path=\"url(#t970c542515b54bc69a25be8760d383f9)\"><g class=\"toytree-mark-Toytree\" id=\"tc8e1c0714d33442baa2765437f7aaea0\"><g class=\"toytree-Edges\" style=\"fill:none;stroke:rgba(16.1%,15.3%,14.1%,1.000);stroke-linecap:round;stroke-width:2.0\"><path d=\"M 50.0 199.6 L 50.0 218.9 L 57.1 218.9\" id=\"22,0\" style=\"stroke-width:nan\"></path><path d=\"M 57.1 180.4 L 57.1 204.1 L 71.2 204.1\" id=\"21,1\" style=\"stroke-width:nan\"></path><path d=\"M 85.3 181.9 L 85.3 189.3 L 99.4 189.3\" id=\"12,2\" style=\"stroke-width:nan\"></path><path d=\"M 85.3 181.9 L 85.3 174.5 L 99.4 174.5\" id=\"12,3\" style=\"stroke-width:nan\"></path><path d=\"M 99.4 152.3 L 99.4 159.7 L 113.6 159.7\" id=\"13,4\" style=\"stroke-width:nan\"></path><path d=\"M 99.4 152.3 L 99.4 144.9 L 113.6 144.9\" id=\"13,5\" style=\"stroke-width:nan\"></path><path d=\"M 99.4 110.7 L 99.4 130.1 L 113.6 130.1\" id=\"18,6\" style=\"stroke-width:nan\"></path><path d=\"M 141.8 107.9 L 141.8 115.3 L 155.9 115.3\" id=\"14,7\" style=\"stroke-width:nan\"></path><path d=\"M 141.8 107.9 L 141.8 100.5 L 155.9 100.5\" id=\"14,8\" style=\"stroke-width:nan\"></path><path d=\"M 141.8 74.6 L 141.8 85.7 L 155.9 85.7\" id=\"16,9\" style=\"stroke-width:nan\"></path><path d=\"M 155.9 63.5 L 155.9 70.9 L 170.0 70.9\" id=\"15,10\" style=\"stroke-width:nan\"></path><path d=\"M 155.9 63.5 L 155.9 56.1 L 170.0 56.1\" id=\"15,11\" style=\"stroke-width:nan\"></path><path d=\"M 71.2 156.7 L 71.2 181.9 L 85.3 181.9\" id=\"20,12\" style=\"stroke-width:nan\"></path><path d=\"M 85.3 131.5 L 85.3 152.3 L 99.4 152.3\" id=\"19,13\" style=\"stroke-width:nan\"></path><path d=\"M 127.7 91.3 L 127.7 107.9 L 141.8 107.9\" id=\"17,14\" style=\"stroke-width:nan\"></path><path d=\"M 141.8 74.6 L 141.8 63.5 L 155.9 63.5\" id=\"16,15\" style=\"stroke-width:nan\"></path><path d=\"M 127.7 91.3 L 127.7 74.6 L 141.8 74.6\" id=\"17,16\" style=\"stroke-width:nan\"></path><path d=\"M 99.4 110.7 L 99.4 91.3 L 127.7 91.3\" id=\"18,17\" style=\"stroke-width:nan\"></path><path d=\"M 85.3 131.5 L 85.3 110.7 L 99.4 110.7\" id=\"19,18\" style=\"stroke-width:nan\"></path><path d=\"M 71.2 156.7 L 71.2 131.5 L 85.3 131.5\" id=\"20,19\" style=\"stroke-width:nan\"></path><path d=\"M 57.1 180.4 L 57.1 156.7 L 71.2 156.7\" id=\"21,20\" style=\"stroke-width:nan\"></path><path d=\"M 50.0 199.6 L 50.0 180.4 L 57.1 180.4\" id=\"22,21\" style=\"stroke-width:nan\"></path></g><g class=\"toytree-TipLabels\" style=\"fill:rgb(16.1%,15.3%,14.1%);fill-opacity:1.0;font-family:Helvetica;font-size:11.0px;font-weight:300;stroke:none;vertical-align:baseline;white-space:pre\"><g class=\"toytree-TipLabel\" transform=\"translate(57.06146914870715,218.86291179596174)\"><text x=\"15.0\" y=\"2.8104999999999993\" style=\"\">r2</text></g><g class=\"toytree-TipLabel\" transform=\"translate(71.18440744612144,204.06965510578686)\"><text x=\"15.0\" y=\"2.8104999999999993\" style=\"\">r1</text></g><g class=\"toytree-TipLabel\" transform=\"translate(99.43028404095003,189.276398415612)\"><text x=\"15.0\" y=\"2.8104999999999993\" style=\"\">r3</text></g><g class=\"toytree-TipLabel\" transform=\"translate(99.43028404095003,174.48314172543715)\"><text x=\"15.0\" y=\"2.8104999999999993\" style=\"\">r4</text></g><g class=\"toytree-TipLabel\" transform=\"translate(113.55322233836434,159.68988503526228)\"><text x=\"15.0\" y=\"2.8104999999999993\" style=\"\">r5</text></g><g class=\"toytree-TipLabel\" transform=\"translate(113.55322233836434,144.8966283450874)\"><text x=\"15.0\" y=\"2.8104999999999993\" style=\"\">r6</text></g><g class=\"toytree-TipLabel\" transform=\"translate(113.55322233836434,130.10337165491254)\"><text x=\"15.0\" y=\"2.8104999999999993\" style=\"\">r0</text></g><g class=\"toytree-TipLabel\" transform=\"translate(155.92203723060723,115.31011496473768)\"><text x=\"15.0\" y=\"2.8104999999999993\" style=\"\">r7</text></g><g class=\"toytree-TipLabel\" transform=\"translate(155.92203723060723,100.51685827456282)\"><text x=\"15.0\" y=\"2.8104999999999993\" style=\"\">r8</text></g><g class=\"toytree-TipLabel\" transform=\"translate(155.92203723060723,85.72360158438796)\"><text x=\"15.0\" y=\"2.8104999999999993\" style=\"\">r9</text></g><g class=\"toytree-TipLabel\" transform=\"translate(170.04497552802152,70.9303448942131)\"><text x=\"15.0\" y=\"2.8104999999999993\" style=\"\">r10</text></g><g class=\"toytree-TipLabel\" transform=\"translate(170.04497552802152,56.137088204038236)\"><text x=\"15.0\" y=\"2.8104999999999993\" style=\"\">r11</text></g></g></g></g></g></svg><div class=\"toyplot-behavior\"><script>(function()\n",
       "{\n",
       "var modules={};\n",
       "})();</script></div></div>"
      ]
     },
     "metadata": {},
     "output_type": "display_data"
    }
   ],
   "source": [
    "tree = tree.root(2)\n",
    "tree.draw();"
   ]
  },
  {
   "cell_type": "code",
   "execution_count": 25,
   "id": "48b7bbc2",
   "metadata": {},
   "outputs": [
    {
     "data": {
      "text/plain": [
       "<toytree.ToyTree at 0x7f25e30b8370>"
      ]
     },
     "execution_count": 25,
     "metadata": {},
     "output_type": "execute_result"
    }
   ],
   "source": [
    "import toytree\n",
    "\n",
    "# a six tip tree\n",
    "tree = toytree.tree(\"(((alpha,delta),gamma),(beta,epsilon));\")\n",
    "tree.mod.edges_extend_tips_to_align(inplace=True)\n",
    "\n",
    "# an example binary trait for species alpha-epsilon\n",
    "trait = {\n",
    "    \"alpha\": 1,\n",
    "    \"beta\": 0,\n",
    "    \"delta\": 1,\n",
    "    \"epsilon\": 0,\n",
    "    \"gamma\": 1,\n",
    "}\n",
    "\n",
    "# set traits on the tree to make them easy to color\n",
    "tree.set_node_data(\n",
    "    feature=\"trait\",\n",
    "    mapping=trait,\n",
    "    inplace=True,\n",
    ")"
   ]
  },
  {
   "cell_type": "code",
   "execution_count": 26,
   "id": "b7fb0519",
   "metadata": {},
   "outputs": [
    {
     "name": "stdout",
     "output_type": "stream",
     "text": [
      "|    | name    | trait   |\n",
      "|---:|:--------|:--------|\n",
      "|  0 | alpha   | 1       |\n",
      "|  1 | delta   | 1       |\n",
      "|  2 | gamma   | 1       |\n",
      "|  3 | beta    | 0       |\n",
      "|  4 | epsilon | 0       |\n",
      "|  5 |         |         |\n",
      "|  6 |         |         |\n",
      "|  7 |         |         |\n",
      "|  8 |         |         |\n"
     ]
    }
   ],
   "source": [
    "print(tree.get_node_data(['name', \"trait\"]).to_markdown())"
   ]
  },
  {
   "cell_type": "code",
   "execution_count": 27,
   "id": "f62c5eea",
   "metadata": {},
   "outputs": [
    {
     "data": {
      "text/html": [
       "<div class=\"toyplot\" id=\"ted49b86e25bd4bc48017041e163c405c\" style=\"text-align:center\"><svg class=\"toyplot-canvas-Canvas\" xmlns:toyplot=\"http://www.sandia.gov/toyplot\" xmlns:xlink=\"http://www.w3.org/1999/xlink\" xmlns=\"http://www.w3.org/2000/svg\" width=\"285.0px\" height=\"275.0px\" viewBox=\"0 0 285.0 275.0\" preserveAspectRatio=\"xMidYMid meet\" style=\"background-color:white;border-color:#292724;border-style:none;border-width:1.0;fill:rgb(16.1%,15.3%,14.1%);fill-opacity:1.0;font-family:Helvetica;font-size:12px;opacity:1.0;stroke:rgb(16.1%,15.3%,14.1%);stroke-opacity:1.0;stroke-width:1.0\" id=\"t333e903837df460a8e5f809914bf5ce8\"><g class=\"toyplot-coordinates-Cartesian\" id=\"t45e8f7bdabfa4002af52258606062253\"><clipPath id=\"t86ec062ced924a75b8aed51bd6a6e677\"><rect x=\"35.0\" y=\"35.0\" width=\"215.0\" height=\"205.0\"></rect></clipPath><g clip-path=\"url(#t86ec062ced924a75b8aed51bd6a6e677)\"><g class=\"toytree-mark-Toytree\" id=\"t5208adb900344880823b0b919d05f672\"><g class=\"toytree-Edges\" style=\"fill:none;stroke:rgba(16.1%,15.3%,14.1%,1.000);stroke-linecap:round;stroke-width:2.0\"><path d=\"M 121.2 195.9 L 121.2 215.4 L 154.3 215.4\" id=\"5,0\" style=\"stroke-width:nan\"></path><path d=\"M 121.2 195.9 L 121.2 176.4 L 154.3 176.4\" id=\"5,1\" style=\"stroke-width:nan\"></path><path d=\"M 88.0 166.7 L 88.0 137.5 L 154.3 137.5\" id=\"6,2\" style=\"stroke-width:nan\"></path><path d=\"M 121.2 79.1 L 121.2 98.6 L 154.3 98.6\" id=\"7,3\" style=\"stroke-width:nan\"></path><path d=\"M 121.2 79.1 L 121.2 59.6 L 154.3 59.6\" id=\"7,4\" style=\"stroke-width:nan\"></path><path d=\"M 88.0 166.7 L 88.0 195.9 L 121.2 195.9\" id=\"6,5\" style=\"stroke-width:nan\"></path><path d=\"M 54.8 122.9 L 54.8 166.7 L 88.0 166.7\" id=\"8,6\" style=\"stroke-width:nan\"></path><path d=\"M 54.8 122.9 L 54.8 79.1 L 121.2 79.1\" id=\"8,7\" style=\"stroke-width:nan\"></path></g><g class=\"toytree-Nodes\" style=\"stroke:#262626;stroke-width:1.5\"><g id=\"node-0\" style=\"fill:rgb(98.8%,55.3%,38.4%);fill-opacity:1.0\" transform=\"translate(154.324,215.387)\"><circle r=\"9.0\"></circle></g><g id=\"node-1\" style=\"fill:rgb(98.8%,55.3%,38.4%);fill-opacity:1.0\" transform=\"translate(154.324,176.443)\"><circle r=\"9.0\"></circle></g><g id=\"node-2\" style=\"fill:rgb(98.8%,55.3%,38.4%);fill-opacity:1.0\" transform=\"translate(154.324,137.500)\"><circle r=\"9.0\"></circle></g><g id=\"node-3\" style=\"fill:rgb(40%,76.1%,64.7%);fill-opacity:1.0\" transform=\"translate(154.324,98.557)\"><circle r=\"9.0\"></circle></g><g id=\"node-4\" style=\"fill:rgb(40%,76.1%,64.7%);fill-opacity:1.0\" transform=\"translate(154.324,59.613)\"><circle r=\"9.0\"></circle></g><g id=\"node-5\" style=\"fill:rgb(82.7%,82.7%,82.7%);fill-opacity:1.0\" transform=\"translate(121.163,195.915)\"><circle r=\"9.0\"></circle></g><g id=\"node-6\" style=\"fill:rgb(82.7%,82.7%,82.7%);fill-opacity:1.0\" transform=\"translate(88.001,166.707)\"><circle r=\"9.0\"></circle></g><g id=\"node-7\" style=\"fill:rgb(82.7%,82.7%,82.7%);fill-opacity:1.0\" transform=\"translate(121.163,79.085)\"><circle r=\"9.0\"></circle></g><g id=\"node-8\" style=\"fill:rgb(82.7%,82.7%,82.7%);fill-opacity:1.0\" transform=\"translate(54.840,122.896)\"><circle r=\"9.0\"></circle></g></g><g class=\"toytree-NodeLabels\" style=\"font-family:Helvetica;font-size:9.0px;font-weight:300;stroke:none;vertical-align:baseline;white-space:pre\"><g class=\"toytree-NodeLabel\" transform=\"translate(154.3241169220752,215.38657171922685)\"><text x=\"-2.5020000000000002\" y=\"2.2995\" style=\"fill:rgb(16.1%,15.3%,14.1%);fill-opacity:1.0\">1</text></g><g class=\"toytree-NodeLabel\" transform=\"translate(154.3241169220752,176.44328585961344)\"><text x=\"-2.5020000000000002\" y=\"2.2995\" style=\"fill:rgb(16.1%,15.3%,14.1%);fill-opacity:1.0\">1</text></g><g class=\"toytree-NodeLabel\" transform=\"translate(154.3241169220752,137.5)\"><text x=\"-2.5020000000000002\" y=\"2.2995\" style=\"fill:rgb(16.1%,15.3%,14.1%);fill-opacity:1.0\">1</text></g><g class=\"toytree-NodeLabel\" transform=\"translate(154.3241169220752,98.55671414038659)\"><text x=\"-2.5020000000000002\" y=\"2.2995\" style=\"fill:rgb(16.1%,15.3%,14.1%);fill-opacity:1.0\">0</text></g><g class=\"toytree-NodeLabel\" transform=\"translate(154.3241169220752,59.61342828077315)\"><text x=\"-2.5020000000000002\" y=\"2.2995\" style=\"fill:rgb(16.1%,15.3%,14.1%);fill-opacity:1.0\">0</text></g><g class=\"toytree-NodeLabel\" transform=\"translate(121.16267082141556,195.91492878942014)\"></g><g class=\"toytree-NodeLabel\" transform=\"translate(88.00122472075591,166.7074643947101)\"></g><g class=\"toytree-NodeLabel\" transform=\"translate(121.16267082141556,79.08507121057988)\"></g><g class=\"toytree-NodeLabel\" transform=\"translate(54.83977862009627,122.89626780264497)\"></g></g><g class=\"toytree-TipLabels\" style=\"fill:rgb(16.1%,15.3%,14.1%);fill-opacity:1.0;font-family:Helvetica;font-size:18.0px;font-weight:300;stroke:none;vertical-align:baseline;white-space:pre\"><g class=\"toytree-TipLabel\" transform=\"translate(154.3241169220752,215.38657171922685)\"><text x=\"15.0\" y=\"4.599\" style=\"\">alpha</text></g><g class=\"toytree-TipLabel\" transform=\"translate(154.3241169220752,176.44328585961344)\"><text x=\"15.0\" y=\"4.599\" style=\"\">delta</text></g><g class=\"toytree-TipLabel\" transform=\"translate(154.3241169220752,137.5)\"><text x=\"15.0\" y=\"4.599\" style=\"\">gamma</text></g><g class=\"toytree-TipLabel\" transform=\"translate(154.3241169220752,98.55671414038659)\"><text x=\"15.0\" y=\"4.599\" style=\"\">beta</text></g><g class=\"toytree-TipLabel\" transform=\"translate(154.3241169220752,59.61342828077315)\"><text x=\"15.0\" y=\"4.599\" style=\"\">epsilon</text></g></g></g></g></g></svg><div class=\"toyplot-behavior\"><script>(function()\n",
       "{\n",
       "var modules={};\n",
       "})();</script></div></div>"
      ]
     },
     "metadata": {},
     "output_type": "display_data"
    }
   ],
   "source": [
    "c, a, m = tree.draw(\n",
    "    tree_style='s',\n",
    "    use_edge_lengths=False, \n",
    "    tip_labels_style={\"font-size\": 18},\n",
    "    node_labels=\"trait\",\n",
    "    node_colors=[\n",
    "        toytree.color.COLORS1[i] if i !=\"\" else \"lightgrey\" \n",
    "        for i in tree.get_node_data(\"trait\")\n",
    "    ],\n",
    ");\n",
    "\n",
    "import toyplot.svg\n",
    "c.style[\"background-color\"] = \"white\"\n",
    "# toyplot.svg.render(c, \"./fig-6.1.svg\")"
   ]
  },
  {
   "cell_type": "code",
   "execution_count": 47,
   "id": "a970c593",
   "metadata": {},
   "outputs": [
    {
     "data": {
      "image/png": "[encoded data removed]",
      "text/html": [
       "<div class=\"toyplot\" id=\"t610de89b23814f09b493a886f6617cba\" style=\"text-align:center\"><svg class=\"toyplot-canvas-Canvas\" xmlns:toyplot=\"http://www.sandia.gov/toyplot\" xmlns:xlink=\"http://www.w3.org/1999/xlink\" xmlns=\"http://www.w3.org/2000/svg\" width=\"600.0px\" height=\"300.0px\" viewBox=\"0 0 600.0 300.0\" preserveAspectRatio=\"xMidYMid meet\" style=\"background-color:white;border-color:#292724;border-style:none;border-width:1.0;fill:rgb(16.1%,15.3%,14.1%);fill-opacity:1.0;font-family:Helvetica;font-size:12px;opacity:1.0;stroke:rgb(16.1%,15.3%,14.1%);stroke-opacity:1.0;stroke-width:1.0\" id=\"t43252bcbdda74402bc66d704d79b53b5\"><g class=\"toyplot-coordinates-Cartesian\" id=\"tf2d81f6a388844e6bc51d5f26eb9de26\"><clipPath id=\"t2fb1bd4972de4f5ea4544f3993c4f818\"><rect x=\"40.0\" y=\"40.0\" width=\"220.0\" height=\"220.0\"></rect></clipPath><g clip-path=\"url(#t2fb1bd4972de4f5ea4544f3993c4f818)\"><g class=\"toytree-mark-Toytree\" id=\"tec9e2c0c767848e6a62b2945c3bd29af\"><g class=\"toytree-Edges\" style=\"fill:none;stroke:rgba(16.1%,15.3%,14.1%,1.000);stroke-linecap:round;stroke-width:2.0\"><path d=\"M 129.3 217.7 L 129.3 240.3 L 166.4 240.3\" id=\"5,0\" style=\"stroke-width:nan\"></path><path d=\"M 129.3 217.7 L 129.3 195.1 L 166.4 195.1\" id=\"5,1\" style=\"stroke-width:nan\"></path><path d=\"M 92.2 183.8 L 92.2 150.0 L 166.4 150.0\" id=\"6,2\" style=\"stroke-width:nan\"></path><path d=\"M 129.3 82.3 L 129.3 104.9 L 166.4 104.9\" id=\"7,3\" style=\"stroke-width:nan\"></path><path d=\"M 129.3 82.3 L 129.3 59.7 L 166.4 59.7\" id=\"7,4\" style=\"stroke-width:nan\"></path><path d=\"M 92.2 183.8 L 92.2 217.7 L 129.3 217.7\" id=\"6,5\" style=\"stroke-width:nan\"></path><path d=\"M 55.0 133.1 L 55.0 183.8 L 92.2 183.8\" id=\"8,6\" style=\"stroke-width:nan\"></path><path d=\"M 55.0 133.1 L 55.0 82.3 L 129.3 82.3\" id=\"8,7\" style=\"stroke-width:nan\"></path></g><g class=\"toytree-Nodes\" style=\"stroke:#262626;stroke-width:1.5\"><g id=\"node-0\" style=\"fill:rgb(98.8%,55.3%,38.4%);fill-opacity:1.0\" transform=\"translate(166.427,240.253)\"><circle r=\"9.0\"></circle></g><g id=\"node-1\" style=\"fill:rgb(98.8%,55.3%,38.4%);fill-opacity:1.0\" transform=\"translate(166.427,195.126)\"><circle r=\"9.0\"></circle></g><g id=\"node-2\" style=\"fill:rgb(98.8%,55.3%,38.4%);fill-opacity:1.0\" transform=\"translate(166.427,150.000)\"><circle r=\"9.0\"></circle></g><g id=\"node-3\" style=\"fill:rgb(40%,76.1%,64.7%);fill-opacity:1.0\" transform=\"translate(166.427,104.874)\"><circle r=\"9.0\"></circle></g><g id=\"node-4\" style=\"fill:rgb(40%,76.1%,64.7%);fill-opacity:1.0\" transform=\"translate(166.427,59.747)\"><circle r=\"9.0\"></circle></g><g id=\"node-5\" style=\"fill:rgb(98.8%,55.3%,38.4%);fill-opacity:1.0\" transform=\"translate(129.289,217.690)\"><circle r=\"9.0\"></circle></g><g id=\"node-6\" style=\"fill:rgb(98.8%,55.3%,38.4%);fill-opacity:1.0\" transform=\"translate(92.151,183.845)\"><circle r=\"9.0\"></circle></g><g id=\"node-7\" style=\"fill:rgb(40%,76.1%,64.7%);fill-opacity:1.0\" transform=\"translate(129.289,82.310)\"><circle r=\"9.0\"></circle></g><g id=\"node-8\" style=\"fill:rgb(98.8%,55.3%,38.4%);fill-opacity:1.0\" transform=\"translate(55.014,133.078)\"><circle r=\"9.0\"></circle></g></g><g class=\"toytree-NodeLabels\" style=\"font-family:Helvetica;font-size:9.0px;font-weight:300;stroke:none;vertical-align:baseline;white-space:pre\"><g class=\"toytree-NodeLabel\" transform=\"translate(166.42675698560544,240.2527075812274)\"><text x=\"-2.5020000000000002\" y=\"2.2995\" style=\"fill:rgb(16.1%,15.3%,14.1%);fill-opacity:1.0\">1</text></g><g class=\"toytree-NodeLabel\" transform=\"translate(166.42675698560544,195.1263537906137)\"><text x=\"-2.5020000000000002\" y=\"2.2995\" style=\"fill:rgb(16.1%,15.3%,14.1%);fill-opacity:1.0\">1</text></g><g class=\"toytree-NodeLabel\" transform=\"translate(166.42675698560544,150.0)\"><text x=\"-2.5020000000000002\" y=\"2.2995\" style=\"fill:rgb(16.1%,15.3%,14.1%);fill-opacity:1.0\">1</text></g><g class=\"toytree-NodeLabel\" transform=\"translate(166.42675698560544,104.8736462093863)\"><text x=\"-2.5020000000000002\" y=\"2.2995\" style=\"fill:rgb(16.1%,15.3%,14.1%);fill-opacity:1.0\">0</text></g><g class=\"toytree-NodeLabel\" transform=\"translate(166.42675698560544,59.747292418772574)\"><text x=\"-2.5020000000000002\" y=\"2.2995\" style=\"fill:rgb(16.1%,15.3%,14.1%);fill-opacity:1.0\">0</text></g><g class=\"toytree-NodeLabel\" transform=\"translate(129.2890354590965,217.68953068592057)\"><text x=\"-2.5020000000000002\" y=\"2.2995\" style=\"fill:rgb(16.1%,15.3%,14.1%);fill-opacity:1.0\">1</text></g><g class=\"toytree-NodeLabel\" transform=\"translate(92.15131393258761,183.84476534296027)\"><text x=\"-2.5020000000000002\" y=\"2.2995\" style=\"fill:rgb(16.1%,15.3%,14.1%);fill-opacity:1.0\">1</text></g><g class=\"toytree-NodeLabel\" transform=\"translate(129.2890354590965,82.31046931407944)\"><text x=\"-2.5020000000000002\" y=\"2.2995\" style=\"fill:rgb(16.1%,15.3%,14.1%);fill-opacity:1.0\">0</text></g><g class=\"toytree-NodeLabel\" transform=\"translate(55.013592406078686,133.07761732851986)\"><text x=\"-2.5020000000000002\" y=\"2.2995\" style=\"fill:rgb(16.1%,15.3%,14.1%);fill-opacity:1.0\">1</text></g></g><g class=\"toytree-TipLabels\" style=\"fill:rgb(16.1%,15.3%,14.1%);fill-opacity:1.0;font-family:Helvetica;font-size:18.0px;font-weight:300;stroke:none;vertical-align:baseline;white-space:pre\"><g class=\"toytree-TipLabel\" transform=\"translate(166.42675698560544,240.2527075812274)\"><text x=\"15.0\" y=\"4.599\" style=\"\">alpha</text></g><g class=\"toytree-TipLabel\" transform=\"translate(166.42675698560544,195.1263537906137)\"><text x=\"15.0\" y=\"4.599\" style=\"\">delta</text></g><g class=\"toytree-TipLabel\" transform=\"translate(166.42675698560544,150.0)\"><text x=\"15.0\" y=\"4.599\" style=\"\">gamma</text></g><g class=\"toytree-TipLabel\" transform=\"translate(166.42675698560544,104.8736462093863)\"><text x=\"15.0\" y=\"4.599\" style=\"\">beta</text></g><g class=\"toytree-TipLabel\" transform=\"translate(166.42675698560544,59.747292418772574)\"><text x=\"15.0\" y=\"4.599\" style=\"\">epsilon</text></g></g></g><g class=\"toyplot-mark-Point\" id=\"tb86e654950f14b638f3ffa9aa3d8dc6a\"><g class=\"toyplot-Series\"><g style=\"fill:rgb(40%,76.1%,64.7%);fill-opacity:1.0;opacity:1.0;stroke:rgb(40%,76.1%,64.7%);stroke-opacity:1.0;stroke-width:3\" class=\"toyplot-Datum\" transform=\"translate(92.15131393258761, 82.31046931407944)\"><line y1=\"-10.0\" y2=\"10.0\" transform=\"rotate(45)\"></line><line y1=\"-10.0\" y2=\"10.0\" transform=\"rotate(-45)\"></line></g></g></g></g></g><g class=\"toyplot-coordinates-Cartesian\" id=\"td34eb13269e34c26a72deb3c4c0a5945\"><clipPath id=\"t4e59df1bef5b4434a33106200fd09b02\"><rect x=\"340.0\" y=\"40.0\" width=\"220.0\" height=\"220.0\"></rect></clipPath><g clip-path=\"url(#t4e59df1bef5b4434a33106200fd09b02)\"><g class=\"toytree-mark-Toytree\" id=\"t14b09e44006748abb7afe5532be8b838\"><g class=\"toytree-Edges\" style=\"fill:none;stroke:rgba(16.1%,15.3%,14.1%,1.000);stroke-linecap:round;stroke-width:2.0\"><path d=\"M 429.3 217.7 L 429.3 240.3 L 466.4 240.3\" id=\"5,0\" style=\"stroke-width:nan\"></path><path d=\"M 429.3 217.7 L 429.3 195.1 L 466.4 195.1\" id=\"5,1\" style=\"stroke-width:nan\"></path><path d=\"M 392.2 183.8 L 392.2 150.0 L 466.4 150.0\" id=\"6,2\" style=\"stroke-width:nan\"></path><path d=\"M 429.3 82.3 L 429.3 104.9 L 466.4 104.9\" id=\"7,3\" style=\"stroke-width:nan\"></path><path d=\"M 429.3 82.3 L 429.3 59.7 L 466.4 59.7\" id=\"7,4\" style=\"stroke-width:nan\"></path><path d=\"M 392.2 183.8 L 392.2 217.7 L 429.3 217.7\" id=\"6,5\" style=\"stroke-width:nan\"></path><path d=\"M 355.0 133.1 L 355.0 183.8 L 392.2 183.8\" id=\"8,6\" style=\"stroke-width:nan\"></path><path d=\"M 355.0 133.1 L 355.0 82.3 L 429.3 82.3\" id=\"8,7\" style=\"stroke-width:nan\"></path></g><g class=\"toytree-Nodes\" style=\"stroke:#262626;stroke-width:1.5\"><g id=\"node-0\" style=\"fill:rgb(98.8%,55.3%,38.4%);fill-opacity:1.0\" transform=\"translate(466.427,240.253)\"><circle r=\"9.0\"></circle></g><g id=\"node-1\" style=\"fill:rgb(98.8%,55.3%,38.4%);fill-opacity:1.0\" transform=\"translate(466.427,195.126)\"><circle r=\"9.0\"></circle></g><g id=\"node-2\" style=\"fill:rgb(98.8%,55.3%,38.4%);fill-opacity:1.0\" transform=\"translate(466.427,150.000)\"><circle r=\"9.0\"></circle></g><g id=\"node-3\" style=\"fill:rgb(40%,76.1%,64.7%);fill-opacity:1.0\" transform=\"translate(466.427,104.874)\"><circle r=\"9.0\"></circle></g><g id=\"node-4\" style=\"fill:rgb(40%,76.1%,64.7%);fill-opacity:1.0\" transform=\"translate(466.427,59.747)\"><circle r=\"9.0\"></circle></g><g id=\"node-5\" style=\"fill:rgb(98.8%,55.3%,38.4%);fill-opacity:1.0\" transform=\"translate(429.289,217.690)\"><circle r=\"9.0\"></circle></g><g id=\"node-6\" style=\"fill:rgb(98.8%,55.3%,38.4%);fill-opacity:1.0\" transform=\"translate(392.151,183.845)\"><circle r=\"9.0\"></circle></g><g id=\"node-7\" style=\"fill:rgb(40%,76.1%,64.7%);fill-opacity:1.0\" transform=\"translate(429.289,82.310)\"><circle r=\"9.0\"></circle></g><g id=\"node-8\" style=\"fill:rgb(40%,76.1%,64.7%);fill-opacity:1.0\" transform=\"translate(355.014,133.078)\"><circle r=\"9.0\"></circle></g></g><g class=\"toytree-NodeLabels\" style=\"font-family:Helvetica;font-size:9.0px;font-weight:300;stroke:none;vertical-align:baseline;white-space:pre\"><g class=\"toytree-NodeLabel\" transform=\"translate(466.4267569856054,240.2527075812274)\"><text x=\"-2.5020000000000002\" y=\"2.2995\" style=\"fill:rgb(16.1%,15.3%,14.1%);fill-opacity:1.0\">1</text></g><g class=\"toytree-NodeLabel\" transform=\"translate(466.4267569856054,195.1263537906137)\"><text x=\"-2.5020000000000002\" y=\"2.2995\" style=\"fill:rgb(16.1%,15.3%,14.1%);fill-opacity:1.0\">1</text></g><g class=\"toytree-NodeLabel\" transform=\"translate(466.4267569856054,150.0)\"><text x=\"-2.5020000000000002\" y=\"2.2995\" style=\"fill:rgb(16.1%,15.3%,14.1%);fill-opacity:1.0\">1</text></g><g class=\"toytree-NodeLabel\" transform=\"translate(466.4267569856054,104.8736462093863)\"><text x=\"-2.5020000000000002\" y=\"2.2995\" style=\"fill:rgb(16.1%,15.3%,14.1%);fill-opacity:1.0\">0</text></g><g class=\"toytree-NodeLabel\" transform=\"translate(466.4267569856054,59.747292418772574)\"><text x=\"-2.5020000000000002\" y=\"2.2995\" style=\"fill:rgb(16.1%,15.3%,14.1%);fill-opacity:1.0\">0</text></g><g class=\"toytree-NodeLabel\" transform=\"translate(429.2890354590965,217.68953068592057)\"><text x=\"-2.5020000000000002\" y=\"2.2995\" style=\"fill:rgb(16.1%,15.3%,14.1%);fill-opacity:1.0\">1</text></g><g class=\"toytree-NodeLabel\" transform=\"translate(392.15131393258764,183.84476534296027)\"><text x=\"-2.5020000000000002\" y=\"2.2995\" style=\"fill:rgb(16.1%,15.3%,14.1%);fill-opacity:1.0\">1</text></g><g class=\"toytree-NodeLabel\" transform=\"translate(429.2890354590965,82.31046931407944)\"><text x=\"-2.5020000000000002\" y=\"2.2995\" style=\"fill:rgb(16.1%,15.3%,14.1%);fill-opacity:1.0\">0</text></g><g class=\"toytree-NodeLabel\" transform=\"translate(355.01359240607866,133.07761732851986)\"><text x=\"-2.5020000000000002\" y=\"2.2995\" style=\"fill:rgb(16.1%,15.3%,14.1%);fill-opacity:1.0\">0</text></g></g><g class=\"toytree-TipLabels\" style=\"fill:rgb(16.1%,15.3%,14.1%);fill-opacity:1.0;font-family:Helvetica;font-size:18.0px;font-weight:300;stroke:none;vertical-align:baseline;white-space:pre\"><g class=\"toytree-TipLabel\" transform=\"translate(466.4267569856054,240.2527075812274)\"><text x=\"15.0\" y=\"4.599\" style=\"\">alpha</text></g><g class=\"toytree-TipLabel\" transform=\"translate(466.4267569856054,195.1263537906137)\"><text x=\"15.0\" y=\"4.599\" style=\"\">delta</text></g><g class=\"toytree-TipLabel\" transform=\"translate(466.4267569856054,150.0)\"><text x=\"15.0\" y=\"4.599\" style=\"\">gamma</text></g><g class=\"toytree-TipLabel\" transform=\"translate(466.4267569856054,104.8736462093863)\"><text x=\"15.0\" y=\"4.599\" style=\"\">beta</text></g><g class=\"toytree-TipLabel\" transform=\"translate(466.4267569856054,59.747292418772574)\"><text x=\"15.0\" y=\"4.599\" style=\"\">epsilon</text></g></g></g><g class=\"toyplot-mark-Point\" id=\"t6688774e741842b5b31685e92c595b20\"><g class=\"toyplot-Series\"><g style=\"fill:rgb(98.8%,55.3%,38.4%);fill-opacity:1.0;opacity:1.0;stroke:rgb(98.8%,55.3%,38.4%);stroke-opacity:1.0;stroke-width:3\" class=\"toyplot-Datum\" transform=\"translate(373.5824531693331, 183.84476534296027)\"><line y1=\"-10.0\" y2=\"10.0\" transform=\"rotate(45)\"></line><line y1=\"-10.0\" y2=\"10.0\" transform=\"rotate(-45)\"></line></g></g></g></g></g></svg><div class=\"toyplot-behavior\"><script>(function()\n",
       "{\n",
       "var modules={};\n",
       "modules[\"toyplot/tables\"] = (function()\n",
       "    {\n",
       "        var tables = [];\n",
       "\n",
       "        var module = {};\n",
       "\n",
       "        module.set = function(owner, key, names, columns)\n",
       "        {\n",
       "            tables.push({owner: owner, key: key, names: names, columns: columns});\n",
       "        }\n",
       "\n",
       "        module.get = function(owner, key)\n",
       "        {\n",
       "            for(var i = 0; i != tables.length; ++i)\n",
       "            {\n",
       "                var table = tables[i];\n",
       "                if(table.owner != owner)\n",
       "                    continue;\n",
       "                if(table.key != key)\n",
       "                    continue;\n",
       "                return {names: table.names, columns: table.columns};\n",
       "            }\n",
       "        }\n",
       "\n",
       "        module.get_csv = function(owner, key)\n",
       "        {\n",
       "            var table = module.get(owner, key);\n",
       "            if(table != undefined)\n",
       "            {\n",
       "                var csv = \"\";\n",
       "                csv += table.names.join(\",\") + \"\\n\";\n",
       "                for(var i = 0; i != table.columns[0].length; ++i)\n",
       "                {\n",
       "                  for(var j = 0; j != table.columns.length; ++j)\n",
       "                  {\n",
       "                    if(j)\n",
       "                      csv += \",\";\n",
       "                    csv += table.columns[j][i];\n",
       "                  }\n",
       "                  csv += \"\\n\";\n",
       "                }\n",
       "                return csv;\n",
       "            }\n",
       "        }\n",
       "\n",
       "        return module;\n",
       "    })();\n",
       "modules[\"toyplot/root/id\"] = \"t610de89b23814f09b493a886f6617cba\";\n",
       "modules[\"toyplot/root\"] = (function(root_id)\n",
       "    {\n",
       "        return document.querySelector(\"#\" + root_id);\n",
       "    })(modules[\"toyplot/root/id\"]);\n",
       "modules[\"toyplot/canvas/id\"] = \"t43252bcbdda74402bc66d704d79b53b5\";\n",
       "modules[\"toyplot/canvas\"] = (function(canvas_id)\n",
       "    {\n",
       "        return document.querySelector(\"#\" + canvas_id);\n",
       "    })(modules[\"toyplot/canvas/id\"]);\n",
       "modules[\"toyplot/menus/context\"] = (function(root, canvas)\n",
       "    {\n",
       "        var wrapper = document.createElement(\"div\");\n",
       "        wrapper.innerHTML = \"<ul class='toyplot-context-menu' style='background:#eee; border:1px solid #b8b8b8; border-radius:5px; box-shadow: 0px 0px 8px rgba(0%,0%,0%,0.25); margin:0; padding:3px 0; position:fixed; visibility:hidden;'></ul>\"\n",
       "        var menu = wrapper.firstChild;\n",
       "\n",
       "        root.appendChild(menu);\n",
       "\n",
       "        var items = [];\n",
       "\n",
       "        var ignore_mouseup = null;\n",
       "        function open_menu(e)\n",
       "        {\n",
       "            var show_menu = false;\n",
       "            for(var index=0; index != items.length; ++index)\n",
       "            {\n",
       "                var item = items[index];\n",
       "                if(item.show(e))\n",
       "                {\n",
       "                    item.item.style.display = \"block\";\n",
       "                    show_menu = true;\n",
       "                }\n",
       "                else\n",
       "                {\n",
       "                    item.item.style.display = \"none\";\n",
       "                }\n",
       "            }\n",
       "\n",
       "            if(show_menu)\n",
       "            {\n",
       "                ignore_mouseup = true;\n",
       "                menu.style.left = (e.clientX + 1) + \"px\";\n",
       "                menu.style.top = (e.clientY - 5) + \"px\";\n",
       "                menu.style.visibility = \"visible\";\n",
       "                e.stopPropagation();\n",
       "                e.preventDefault();\n",
       "            }\n",
       "        }\n",
       "\n",
       "        function close_menu()\n",
       "        {\n",
       "            menu.style.visibility = \"hidden\";\n",
       "        }\n",
       "\n",
       "        function contextmenu(e)\n",
       "        {\n",
       "            open_menu(e);\n",
       "        }\n",
       "\n",
       "        function mousemove(e)\n",
       "        {\n",
       "            ignore_mouseup = false;\n",
       "        }\n",
       "\n",
       "        function mouseup(e)\n",
       "        {\n",
       "            if(ignore_mouseup)\n",
       "            {\n",
       "                ignore_mouseup = false;\n",
       "                return;\n",
       "            }\n",
       "            close_menu();\n",
       "        }\n",
       "\n",
       "        function keydown(e)\n",
       "        {\n",
       "            if(e.key == \"Escape\" || e.key == \"Esc\" || e.keyCode == 27)\n",
       "            {\n",
       "                close_menu();\n",
       "            }\n",
       "        }\n",
       "\n",
       "        canvas.addEventListener(\"contextmenu\", contextmenu);\n",
       "        canvas.addEventListener(\"mousemove\", mousemove);\n",
       "        document.addEventListener(\"mouseup\", mouseup);\n",
       "        document.addEventListener(\"keydown\", keydown);\n",
       "\n",
       "        var module = {};\n",
       "        module.add_item = function(label, show, activate)\n",
       "        {\n",
       "            var wrapper = document.createElement(\"div\");\n",
       "            wrapper.innerHTML = \"<li class='toyplot-context-menu-item' style='background:#eee; color:#333; padding:2px 20px; list-style:none; margin:0; text-align:left;'>\" + label + \"</li>\"\n",
       "            var item = wrapper.firstChild;\n",
       "\n",
       "            items.push({item: item, show: show});\n",
       "\n",
       "            function mouseover()\n",
       "            {\n",
       "                this.style.background = \"steelblue\";\n",
       "                this.style.color = \"white\";\n",
       "            }\n",
       "\n",
       "            function mouseout()\n",
       "            {\n",
       "                this.style.background = \"#eee\";\n",
       "                this.style.color = \"#333\";\n",
       "            }\n",
       "\n",
       "            function choose_item(e)\n",
       "            {\n",
       "                close_menu();\n",
       "                activate();\n",
       "\n",
       "                e.stopPropagation();\n",
       "                e.preventDefault();\n",
       "            }\n",
       "\n",
       "            item.addEventListener(\"mouseover\", mouseover);\n",
       "            item.addEventListener(\"mouseout\", mouseout);\n",
       "            item.addEventListener(\"mouseup\", choose_item);\n",
       "            item.addEventListener(\"contextmenu\", choose_item);\n",
       "\n",
       "            menu.appendChild(item);\n",
       "        };\n",
       "        return module;\n",
       "    })(modules[\"toyplot/root\"],modules[\"toyplot/canvas\"]);\n",
       "modules[\"toyplot/io\"] = (function()\n",
       "    {\n",
       "        var module = {};\n",
       "        module.save_file = function(mime_type, charset, data, filename)\n",
       "        {\n",
       "            var uri = \"data:\" + mime_type + \";charset=\" + charset + \",\" + data;\n",
       "            uri = encodeURI(uri);\n",
       "\n",
       "            var link = document.createElement(\"a\");\n",
       "            if(typeof link.download != \"undefined\")\n",
       "            {\n",
       "              link.href = uri;\n",
       "              link.style = \"visibility:hidden\";\n",
       "              link.download = filename;\n",
       "\n",
       "              document.body.appendChild(link);\n",
       "              link.click();\n",
       "              document.body.removeChild(link);\n",
       "            }\n",
       "            else\n",
       "            {\n",
       "              window.open(uri);\n",
       "            }\n",
       "        };\n",
       "        return module;\n",
       "    })();\n",
       "(function(tables, context_menu, io, owner_id, key, label, names, columns, filename)\n",
       "        {\n",
       "            tables.set(owner_id, key, names, columns);\n",
       "\n",
       "            var owner = document.querySelector(\"#\" + owner_id);\n",
       "            function show_item(e)\n",
       "            {\n",
       "                return owner.contains(e.target);\n",
       "            }\n",
       "\n",
       "            function choose_item()\n",
       "            {\n",
       "                io.save_file(\"text/csv\", \"utf-8\", tables.get_csv(owner_id, key), filename + \".csv\");\n",
       "            }\n",
       "\n",
       "            context_menu.add_item(\"Save \" + label + \" as CSV\", show_item, choose_item);\n",
       "        })(modules[\"toyplot/tables\"],modules[\"toyplot/menus/context\"],modules[\"toyplot/io\"],\"tb86e654950f14b638f3ffa9aa3d8dc6a\",\"data\",\"point\",[\"x\", \"y0\"],[[-2.0], [3.5]],\"toyplot\");\n",
       "(function(tables, context_menu, io, owner_id, key, label, names, columns, filename)\n",
       "        {\n",
       "            tables.set(owner_id, key, names, columns);\n",
       "\n",
       "            var owner = document.querySelector(\"#\" + owner_id);\n",
       "            function show_item(e)\n",
       "            {\n",
       "                return owner.contains(e.target);\n",
       "            }\n",
       "\n",
       "            function choose_item()\n",
       "            {\n",
       "                io.save_file(\"text/csv\", \"utf-8\", tables.get_csv(owner_id, key), filename + \".csv\");\n",
       "            }\n",
       "\n",
       "            context_menu.add_item(\"Save \" + label + \" as CSV\", show_item, choose_item);\n",
       "        })(modules[\"toyplot/tables\"],modules[\"toyplot/menus/context\"],modules[\"toyplot/io\"],\"t6688774e741842b5b31685e92c595b20\",\"data\",\"point\",[\"x\", \"y0\"],[[-2.5], [1.25]],\"toyplot\");\n",
       "})();</script></div></div>"
      ],
      "text/plain": [
       "<toyplot.canvas.Canvas at 0x7f25e2ff3a00>"
      ]
     },
     "execution_count": 47,
     "metadata": {},
     "output_type": "execute_result"
    }
   ],
   "source": [
    "import toyplot\n",
    "\n",
    "# create a canvas and cartesian axes\n",
    "canvas = toyplot.Canvas(width=600, height=300)\n",
    "ax0 = canvas.cartesian(show=False, grid=(1, 2, 0))\n",
    "ax1 = canvas.cartesian(show=False, grid=(1, 2, 1))\n",
    "\n",
    "# make two copies of tree, each filled w/ ancestral states but diff root.\n",
    "tree1 = tree.set_node_data(\n",
    "    \"trait\",\n",
    "    mapping={8: 1, 7: 0},\n",
    "    inherit=True,\n",
    ")\n",
    "tree2 = tree.set_node_data(\n",
    "    \"trait\",\n",
    "    mapping={8: 0, 6: 1},\n",
    "    inherit=True,\n",
    ")\n",
    "\n",
    "# draw the tree with colored Node states\n",
    "tree1.draw(\n",
    "    axes=ax0,\n",
    "    tree_style='s',\n",
    "    tip_labels_style={\"font-size\": 18},\n",
    "    node_labels=\"trait\",\n",
    "    node_colors=[\n",
    "        toytree.color.COLORS1[i] if i !=\"\" else \"lightgrey\" \n",
    "        for i in tree1.get_node_data(\"trait\")\n",
    "    ],\n",
    ");\n",
    "\n",
    "# add an X marker to show the transition event above a Node\n",
    "node = tree1.get_mrca_node('epsilon', 'beta')\n",
    "ax0.scatterplot(-node.height, node._x, marker=\"x\", size=20, \n",
    "                mstyle={\"stroke-width\": 3}, color=toytree.color.COLORS1[0])\n",
    "\n",
    "# draw the tree with colored Node states\n",
    "tree2.draw(\n",
    "    axes=ax1,\n",
    "    tree_style='s',\n",
    "    tip_labels_style={\"font-size\": 18},\n",
    "    node_labels=\"trait\",\n",
    "    node_colors=[\n",
    "        toytree.color.COLORS1[i] if i !=\"\" else \"lightgrey\" \n",
    "        for i in tree2.get_node_data(\"trait\")\n",
    "    ],\n",
    ");\n",
    "\n",
    "# add an X marker to show the transition event above a Node\n",
    "node = tree2.get_mrca_node('gamma', 'delta', 'alpha')\n",
    "ax1.scatterplot(-node.height - node.dist / 2, node._x, marker=\"x\", size=20, \n",
    "                mstyle={\"stroke-width\": 3},  color=toytree.color.COLORS1[1])\n",
    "\n",
    "canvas.style[\"background-color\"] = \"white\"\n",
    "toyplot.svg.render(canvas, \"./fig-6.2.svg\")\n",
    "canvas"
   ]
  },
  {
   "cell_type": "code",
   "execution_count": null,
   "id": "a4566b20",
   "metadata": {},
   "outputs": [],
   "source": [
    "c, a, m = tree.draw(\n",
    "    tree_style='s',\n",
    "    use_edge_lengths=False, \n",
    "    tip_labels_style={\"font-size\": 18},\n",
    "    node_labels=\"trait\",\n",
    "    node_colors=[\n",
    "        toytree.color.COLORS1[i] if i !=\"\" else \"lightgrey\" \n",
    "        for i in tree.get_node_data(\"trait\")\n",
    "    ],\n",
    ");\n",
    "\n",
    "\n",
    "\n",
    "import toyplot.svg\n",
    "# toyplot.svg.render(c, \"./fig-6.1.svg\")"
   ]
  },
  {
   "cell_type": "code",
   "execution_count": 231,
   "id": "9862264d",
   "metadata": {},
   "outputs": [
    {
     "data": {
      "text/html": [
       "<div class=\"toyplot\" id=\"tdb46aebb446d43b3939a354f6a83165f\" style=\"text-align:center\"><svg class=\"toyplot-canvas-Canvas\" xmlns:toyplot=\"http://www.sandia.gov/toyplot\" xmlns:xlink=\"http://www.w3.org/1999/xlink\" xmlns=\"http://www.w3.org/2000/svg\" width=\"285.0px\" height=\"275.0px\" viewBox=\"0 0 285.0 275.0\" preserveAspectRatio=\"xMidYMid meet\" style=\"background-color:transparent;border-color:#292724;border-style:none;border-width:1.0;fill:rgb(16.1%,15.3%,14.1%);fill-opacity:1.0;font-family:Helvetica;font-size:12px;opacity:1.0;stroke:rgb(16.1%,15.3%,14.1%);stroke-opacity:1.0;stroke-width:1.0\" id=\"t157120519c794dd19aa8f6e9805b6d6f\"><g class=\"toyplot-coordinates-Cartesian\" id=\"t3e2be6c69a244d8bb1217f0d4a57093b\"><clipPath id=\"t541fec6c48304e8aab2f6f28eea21446\"><rect x=\"35.0\" y=\"35.0\" width=\"215.0\" height=\"205.0\"></rect></clipPath><g clip-path=\"url(#t541fec6c48304e8aab2f6f28eea21446)\"><g class=\"toytree-mark-Toytree\" id=\"t0c13e76d07df4abda343324286ba5e92\"><g class=\"toytree-Edges\" style=\"fill:none;stroke:rgba(16.1%,15.3%,14.1%,1.000);stroke-linecap:round;stroke-width:2.0\"><path d=\"M 104.6 195.9 L 104.6 215.4 L 154.3 215.4\" id=\"5,0\" style=\"stroke-width:nan\"></path><path d=\"M 104.6 195.9 L 104.6 176.4 L 154.3 176.4\" id=\"5,1\" style=\"stroke-width:nan\"></path><path d=\"M 54.8 98.6 L 54.8 137.5 L 154.3 137.5\" id=\"7,2\" style=\"stroke-width:nan\"></path><path d=\"M 104.6 79.1 L 104.6 98.6 L 154.3 98.6\" id=\"6,3\" style=\"stroke-width:nan\"></path><path d=\"M 104.6 79.1 L 104.6 59.6 L 154.3 59.6\" id=\"6,4\" style=\"stroke-width:nan\"></path><path d=\"M 54.8 98.6 L 54.8 195.9 L 104.6 195.9\" id=\"7,5\" style=\"stroke-width:nan\"></path><path d=\"M 54.8 98.6 L 54.8 79.1 L 104.6 79.1\" id=\"7,6\" style=\"stroke-width:nan\"></path></g><g class=\"toytree-Nodes\" style=\"stroke:#262626;stroke-width:1.5\"><g id=\"node-0\" style=\"fill:rgb(98.8%,55.3%,38.4%);fill-opacity:1.0\" transform=\"translate(154.324,215.387)\"><circle r=\"9.0\"></circle></g><g id=\"node-1\" style=\"fill:rgb(40%,76.1%,64.7%);fill-opacity:1.0\" transform=\"translate(154.324,176.443)\"><circle r=\"9.0\"></circle></g><g id=\"node-2\" style=\"fill:rgb(40%,76.1%,64.7%);fill-opacity:1.0\" transform=\"translate(154.324,137.500)\"><circle r=\"9.0\"></circle></g><g id=\"node-3\" style=\"fill:rgb(98.8%,55.3%,38.4%);fill-opacity:1.0\" transform=\"translate(154.324,98.557)\"><circle r=\"9.0\"></circle></g><g id=\"node-4\" style=\"fill:rgb(98.8%,55.3%,38.4%);fill-opacity:1.0\" transform=\"translate(154.324,59.613)\"><circle r=\"9.0\"></circle></g><g id=\"node-5\" style=\"fill:rgb(100%,100%,100%);fill-opacity:1.0\" transform=\"translate(104.582,195.915)\"><circle r=\"9.0\"></circle></g><g id=\"node-6\" style=\"fill:rgb(100%,100%,100%);fill-opacity:1.0\" transform=\"translate(104.582,79.085)\"><circle r=\"9.0\"></circle></g><g id=\"node-7\" style=\"fill:rgb(100%,100%,100%);fill-opacity:1.0\" transform=\"translate(54.840,98.557)\"><circle r=\"9.0\"></circle></g></g><g class=\"toytree-NodeLabels\" style=\"font-family:Helvetica;font-size:9.0px;font-weight:300;stroke:none;vertical-align:baseline;white-space:pre\"><g class=\"toytree-NodeLabel\" transform=\"translate(154.3241169220752,215.38657171922685)\"><text x=\"-2.5020000000000002\" y=\"2.2995\" style=\"fill:rgb(16.1%,15.3%,14.1%);fill-opacity:1.0\">0</text></g><g class=\"toytree-NodeLabel\" transform=\"translate(154.3241169220752,176.44328585961344)\"><text x=\"-2.5020000000000002\" y=\"2.2995\" style=\"fill:rgb(16.1%,15.3%,14.1%);fill-opacity:1.0\">1</text></g><g class=\"toytree-NodeLabel\" transform=\"translate(154.3241169220752,137.5)\"><text x=\"-2.5020000000000002\" y=\"2.2995\" style=\"fill:rgb(16.1%,15.3%,14.1%);fill-opacity:1.0\">2</text></g><g class=\"toytree-NodeLabel\" transform=\"translate(154.3241169220752,98.55671414038659)\"><text x=\"-2.5020000000000002\" y=\"2.2995\" style=\"fill:rgb(16.1%,15.3%,14.1%);fill-opacity:1.0\">3</text></g><g class=\"toytree-NodeLabel\" transform=\"translate(154.3241169220752,59.61342828077315)\"><text x=\"-2.5020000000000002\" y=\"2.2995\" style=\"fill:rgb(16.1%,15.3%,14.1%);fill-opacity:1.0\">4</text></g><g class=\"toytree-NodeLabel\" transform=\"translate(104.58194777108574,195.91492878942014)\"><text x=\"-2.5020000000000002\" y=\"2.2995\" style=\"fill:rgb(16.1%,15.3%,14.1%);fill-opacity:1.0\">5</text></g><g class=\"toytree-NodeLabel\" transform=\"translate(104.58194777108574,79.08507121057988)\"><text x=\"-2.5020000000000002\" y=\"2.2995\" style=\"fill:rgb(16.1%,15.3%,14.1%);fill-opacity:1.0\">6</text></g><g class=\"toytree-NodeLabel\" transform=\"translate(54.83977862009627,98.55671414038659)\"><text x=\"-2.5020000000000002\" y=\"2.2995\" style=\"fill:rgb(16.1%,15.3%,14.1%);fill-opacity:1.0\">7</text></g></g><g class=\"toytree-TipLabels\" style=\"fill:rgb(16.1%,15.3%,14.1%);fill-opacity:1.0;font-family:Helvetica;font-size:18.0px;font-weight:300;stroke:none;vertical-align:baseline;white-space:pre\"><g class=\"toytree-TipLabel\" transform=\"translate(154.3241169220752,215.38657171922685)\"><text x=\"15.0\" y=\"4.599\" style=\"\">alpha</text></g><g class=\"toytree-TipLabel\" transform=\"translate(154.3241169220752,176.44328585961344)\"><text x=\"15.0\" y=\"4.599\" style=\"\">delta</text></g><g class=\"toytree-TipLabel\" transform=\"translate(154.3241169220752,137.5)\"><text x=\"15.0\" y=\"4.599\" style=\"\">gamma</text></g><g class=\"toytree-TipLabel\" transform=\"translate(154.3241169220752,98.55671414038659)\"><text x=\"15.0\" y=\"4.599\" style=\"\">beta</text></g><g class=\"toytree-TipLabel\" transform=\"translate(154.3241169220752,59.61342828077315)\"><text x=\"15.0\" y=\"4.599\" style=\"\">epsilon</text></g></g></g></g></g></svg><div class=\"toyplot-behavior\"><script>(function()\n",
       "{\n",
       "var modules={};\n",
       "})();</script></div></div>"
      ]
     },
     "metadata": {},
     "output_type": "display_data"
    }
   ],
   "source": [
    "tree = tree.unroot()\n",
    "tree.draw(\n",
    "    ts='s', \n",
    "    use_edge_lengths=False, \n",
    "    #layout='unroot', \n",
    "    node_colors=tree.get_node_data(\"character\"),\n",
    "    tip_labels_style={\"font-size\": 18});"
   ]
  },
  {
   "cell_type": "markdown",
   "id": "86df140c",
   "metadata": {},
   "source": [
    "### Get tip data for a given trait/site"
   ]
  },
  {
   "cell_type": "code",
   "execution_count": 60,
   "id": "dbb2e7b6",
   "metadata": {},
   "outputs": [],
   "source": [
    "site = [\"C\", \"A\", \"G\", \"A\", \"C\"]"
   ]
  },
  {
   "cell_type": "markdown",
   "id": "3e056c51",
   "metadata": {},
   "source": [
    "### Set data on tree Nodes"
   ]
  },
  {
   "cell_type": "code",
   "execution_count": 61,
   "id": "6436ed4f",
   "metadata": {},
   "outputs": [
    {
     "name": "stdout",
     "output_type": "stream",
     "text": [
      "0    {C}\n",
      "1    {A}\n",
      "2    {G}\n",
      "3    {A}\n",
      "4    {C}\n",
      "5      -\n",
      "6      -\n",
      "7      -\n",
      "8      -\n",
      "Name: trait, dtype: object\n"
     ]
    }
   ],
   "source": [
    "tree = tree.set_node_data(\n",
    "    feature=\"trait\",\n",
    "    mapping={i: {j} for (i, j) in enumerate(site)},\n",
    "    default=\"-\"\n",
    ")\n",
    "\n",
    "print(tree.get_node_data(\"trait\"))"
   ]
  },
  {
   "cell_type": "markdown",
   "id": "eb1d2b36",
   "metadata": {},
   "source": [
    "### Draw data on the tree"
   ]
  },
  {
   "cell_type": "code",
   "execution_count": 62,
   "id": "f74c917e",
   "metadata": {},
   "outputs": [
    {
     "data": {
      "text/html": [
       "<div class=\"toyplot\" id=\"tb18a0188fe65458ca022b3c5d53397b8\" style=\"text-align:center\"><svg class=\"toyplot-canvas-Canvas\" xmlns:toyplot=\"http://www.sandia.gov/toyplot\" xmlns:xlink=\"http://www.w3.org/1999/xlink\" xmlns=\"http://www.w3.org/2000/svg\" width=\"450.0px\" height=\"400.0px\" viewBox=\"0 0 450.0 400.0\" preserveAspectRatio=\"xMidYMid meet\" style=\"background-color:transparent;border-color:#292724;border-style:none;border-width:1.0;fill:rgb(16.1%,15.3%,14.1%);fill-opacity:1.0;font-family:Helvetica;font-size:12px;opacity:1.0;stroke:rgb(16.1%,15.3%,14.1%);stroke-opacity:1.0;stroke-width:1.0\" id=\"tc3ad632a4ba2441fb3ade6fa51ad807c\"><g class=\"toyplot-coordinates-Cartesian\" id=\"t2f634e427af64eb5858880e5e3bc525a\"><clipPath id=\"tc403d7176dfd46168870332611a103cc\"><rect x=\"35.0\" y=\"35.0\" width=\"380.0\" height=\"330.0\"></rect></clipPath><g clip-path=\"url(#tc403d7176dfd46168870332611a103cc)\"><g class=\"toytree-mark-Toytree\" id=\"tfc41211f6dbf42ff80b49518da9995de\"><g class=\"toytree-Edges\" style=\"fill:none;stroke:rgba(16.1%,15.3%,14.1%,1.000);stroke-linecap:round;stroke-width:2.0\"><path d=\"M 277.4 305.5 L 277.4 340.6 L 382.1 340.6\" id=\"5,0\" style=\"stroke-width:nan\"></path><path d=\"M 277.4 305.5 L 277.4 270.3 L 382.1 270.3\" id=\"5,1\" style=\"stroke-width:nan\"></path><path d=\"M 172.6 252.7 L 172.6 200.0 L 382.1 200.0\" id=\"6,2\" style=\"stroke-width:nan\"></path><path d=\"M 277.4 94.5 L 277.4 129.7 L 382.1 129.7\" id=\"7,3\" style=\"stroke-width:nan\"></path><path d=\"M 277.4 94.5 L 277.4 59.4 L 382.1 59.4\" id=\"7,4\" style=\"stroke-width:nan\"></path><path d=\"M 172.6 252.7 L 172.6 305.5 L 277.4 305.5\" id=\"6,5\" style=\"stroke-width:nan\"></path><path d=\"M 67.9 173.6 L 67.9 252.7 L 172.6 252.7\" id=\"8,6\" style=\"stroke-width:nan\"></path><path d=\"M 67.9 173.6 L 67.9 94.5 L 277.4 94.5\" id=\"8,7\" style=\"stroke-width:nan\"></path></g><g class=\"toytree-Nodes\" style=\"fill:rgba(82.7%,82.7%,82.7%,1.000);stroke:#262626;stroke-width:1.0\"><g id=\"node-0\" transform=\"translate(382.051,340.625)\"><rect x=\"-20.0\" y=\"-10.0\" width=\"40.0\" height=\"20.0\"></rect></g><g id=\"node-1\" transform=\"translate(382.051,270.312)\"><rect x=\"-20.0\" y=\"-10.0\" width=\"40.0\" height=\"20.0\"></rect></g><g id=\"node-2\" transform=\"translate(382.051,200.000)\"><rect x=\"-20.0\" y=\"-10.0\" width=\"40.0\" height=\"20.0\"></rect></g><g id=\"node-3\" transform=\"translate(382.051,129.688)\"><rect x=\"-20.0\" y=\"-10.0\" width=\"40.0\" height=\"20.0\"></rect></g><g id=\"node-4\" transform=\"translate(382.051,59.375)\"><rect x=\"-20.0\" y=\"-10.0\" width=\"40.0\" height=\"20.0\"></rect></g><g id=\"node-5\" transform=\"translate(277.350,305.469)\"><rect x=\"-20.0\" y=\"-10.0\" width=\"40.0\" height=\"20.0\"></rect></g><g id=\"node-6\" transform=\"translate(172.650,252.734)\"><rect x=\"-20.0\" y=\"-10.0\" width=\"40.0\" height=\"20.0\"></rect></g><g id=\"node-7\" transform=\"translate(277.350,94.531)\"><rect x=\"-20.0\" y=\"-10.0\" width=\"40.0\" height=\"20.0\"></rect></g><g id=\"node-8\" transform=\"translate(67.949,173.633)\"><rect x=\"-20.0\" y=\"-10.0\" width=\"40.0\" height=\"20.0\"></rect></g></g><g class=\"toytree-NodeLabels\" style=\"font-family:Helvetica;font-size:14.0px;font-weight:300;stroke:none;vertical-align:baseline;white-space:pre\"><g class=\"toytree-NodeLabel\" transform=\"translate(382.051282051282,340.625)\"><text x=\"-12.404000000000002\" y=\"3.577\" style=\"fill:rgb(16.1%,15.3%,14.1%);fill-opacity:1.0\">{'C'}</text></g><g class=\"toytree-NodeLabel\" transform=\"translate(382.051282051282,270.3125)\"><text x=\"-12.019\" y=\"3.577\" style=\"fill:rgb(16.1%,15.3%,14.1%);fill-opacity:1.0\">{'A'}</text></g><g class=\"toytree-NodeLabel\" transform=\"translate(382.051282051282,200.00000000000003)\"><text x=\"-12.796\" y=\"3.577\" style=\"fill:rgb(16.1%,15.3%,14.1%);fill-opacity:1.0\">{'G'}</text></g><g class=\"toytree-NodeLabel\" transform=\"translate(382.051282051282,129.68750000000003)\"><text x=\"-12.019\" y=\"3.577\" style=\"fill:rgb(16.1%,15.3%,14.1%);fill-opacity:1.0\">{'A'}</text></g><g class=\"toytree-NodeLabel\" transform=\"translate(382.051282051282,59.37500000000003)\"><text x=\"-12.404000000000002\" y=\"3.577\" style=\"fill:rgb(16.1%,15.3%,14.1%);fill-opacity:1.0\">{'C'}</text></g><g class=\"toytree-NodeLabel\" transform=\"translate(277.3504273504273,305.46875)\"><text x=\"-2.331\" y=\"3.577\" style=\"fill:rgb(16.1%,15.3%,14.1%);fill-opacity:1.0\">-</text></g><g class=\"toytree-NodeLabel\" transform=\"translate(172.64957264957266,252.734375)\"><text x=\"-2.331\" y=\"3.577\" style=\"fill:rgb(16.1%,15.3%,14.1%);fill-opacity:1.0\">-</text></g><g class=\"toytree-NodeLabel\" transform=\"translate(277.3504273504273,94.53125000000006)\"><text x=\"-2.331\" y=\"3.577\" style=\"fill:rgb(16.1%,15.3%,14.1%);fill-opacity:1.0\">-</text></g><g class=\"toytree-NodeLabel\" transform=\"translate(67.94871794871797,173.63281250000003)\"><text x=\"-2.331\" y=\"3.577\" style=\"fill:rgb(16.1%,15.3%,14.1%);fill-opacity:1.0\">-</text></g></g></g></g></g></svg><div class=\"toyplot-behavior\"><script>(function()\n",
       "{\n",
       "var modules={};\n",
       "})();</script></div></div>"
      ]
     },
     "metadata": {},
     "output_type": "display_data"
    }
   ],
   "source": [
    "tree.draw(\n",
    "#     layout='unr',\n",
    "    width=450,\n",
    "    height=400,\n",
    "    use_edge_lengths=False,\n",
    "    node_sizes=20, \n",
    "    node_mask=False,\n",
    "    node_colors=\"lightgrey\",\n",
    "    node_markers=\"r2x1\",\n",
    "    node_labels=tree.get_node_data(\"trait\"),\n",
    "    node_labels_style={\"font-size\": 14},\n",
    "    tip_labels=False,\n",
    ");"
   ]
  },
  {
   "cell_type": "markdown",
   "id": "1b39bac8",
   "metadata": {},
   "source": [
    "### Perform postorder traversal"
   ]
  },
  {
   "cell_type": "code",
   "execution_count": 94,
   "id": "2c2d8db1",
   "metadata": {},
   "outputs": [
    {
     "data": {
      "text/plain": [
       "0    0\n",
       "1    1\n",
       "2    2\n",
       "3    3\n",
       "4    4\n",
       "5    5\n",
       "6    6\n",
       "7    7\n",
       "8    8\n",
       "Name: idx, dtype: object"
      ]
     },
     "execution_count": 94,
     "metadata": {},
     "output_type": "execute_result"
    }
   ],
   "source": [
    "tree.get_node_data(\"\")"
   ]
  },
  {
   "cell_type": "code",
   "execution_count": 91,
   "id": "46f0e1a7",
   "metadata": {},
   "outputs": [
    {
     "data": {
      "text/plain": [
       "range(4, -1, -1)"
      ]
     },
     "execution_count": 91,
     "metadata": {},
     "output_type": "execute_result"
    }
   ],
   "source": [
    "range(5)[::-1]"
   ]
  },
  {
   "cell_type": "code",
   "execution_count": 69,
   "id": "77d2edf2",
   "metadata": {},
   "outputs": [],
   "source": [
    "from typing import Tuple, Collection\n",
    "\n",
    "def fitch_parsimony_example(tree: toytree.ToyTree) -> int:\n",
    "    \"\"\"Return Fitch parsimony score given a tree with data 'state'. \n",
    "    \n",
    "    This function will update the .state attribute of each \n",
    "    internal Node on the tree, which can be visualized afterwards.\n",
    "    \n",
    "    Parameters\n",
    "    ----------\n",
    "    tree: ToyTree\n",
    "        A tree with data 'state' on each tip Node rom which to\n",
    "        calculate the Fitch parsimony score. \n",
    "        \n",
    "    Returns\n",
    "    -------\n",
    "    int\n",
    "        The Fitch parsimony score as minimum number of changes\n",
    "        required for this data to evolve on the tree.\n",
    "    \"\"\"\n",
    "    nchanges = 0\n",
    "    for node in tree.traverse(\"postorder\"):\n",
    "        if not node.is_leaf():\n",
    "\n",
    "            # start by setting an empty set for this node.\n",
    "            node.trait = set()\n",
    "\n",
    "            # get the intersection of its children\n",
    "            shared = set.intersection(*(i.trait for i in node.children))\n",
    "\n",
    "            # set shared state set as ancestral if it exists\n",
    "            if shared:\n",
    "                node.trait = shared\n",
    "\n",
    "            # else, store the union and increment change counter\n",
    "            else:\n",
    "                node.trait = set.union(*(i.trait for i in node.children))\n",
    "                nchanges += 1\n",
    "    return nchanges"
   ]
  },
  {
   "cell_type": "code",
   "execution_count": 70,
   "id": "0d19e8d4",
   "metadata": {},
   "outputs": [
    {
     "data": {
      "text/plain": [
       "3"
      ]
     },
     "execution_count": 70,
     "metadata": {},
     "output_type": "execute_result"
    }
   ],
   "source": [
    "fitch_parsimony_example(tree)"
   ]
  },
  {
   "cell_type": "code",
   "execution_count": null,
   "id": "9ef92368",
   "metadata": {},
   "outputs": [],
   "source": []
  },
  {
   "cell_type": "code",
   "execution_count": null,
   "id": "56ef1728",
   "metadata": {},
   "outputs": [],
   "source": []
  },
  {
   "cell_type": "code",
   "execution_count": null,
   "id": "7a07a088",
   "metadata": {},
   "outputs": [],
   "source": []
  },
  {
   "cell_type": "code",
   "execution_count": 275,
   "id": "b5e75641",
   "metadata": {},
   "outputs": [
    {
     "data": {
      "text/html": [
       "<div class=\"toyplot\" id=\"tb48ba0a2d1734ad4b70c24682580521e\" style=\"text-align:center\"><svg class=\"toyplot-canvas-Canvas\" xmlns:toyplot=\"http://www.sandia.gov/toyplot\" xmlns:xlink=\"http://www.w3.org/1999/xlink\" xmlns=\"http://www.w3.org/2000/svg\" width=\"450.0px\" height=\"400.0px\" viewBox=\"0 0 450.0 400.0\" preserveAspectRatio=\"xMidYMid meet\" style=\"background-color:transparent;border-color:#292724;border-style:none;border-width:1.0;fill:rgb(16.1%,15.3%,14.1%);fill-opacity:1.0;font-family:Helvetica;font-size:12px;opacity:1.0;stroke:rgb(16.1%,15.3%,14.1%);stroke-opacity:1.0;stroke-width:1.0\" id=\"td570fc7705324d6a8eef1a33d4c737d2\"><g class=\"toyplot-coordinates-Cartesian\" id=\"tbc4190f115a6412c962505e771ee66c1\"><clipPath id=\"tafa4d1cd083e473d869930e5bdd12d21\"><rect x=\"35.0\" y=\"35.0\" width=\"380.0\" height=\"330.0\"></rect></clipPath><g clip-path=\"url(#tafa4d1cd083e473d869930e5bdd12d21)\"><g class=\"toytree-mark-Toytree\" id=\"ta9809ec7d9b147e4aa3bd94312571916\"><g class=\"toytree-Edges\" style=\"fill:none;stroke:rgba(16.1%,15.3%,14.1%,1.000);stroke-linecap:round;stroke-width:2.0\"><path d=\"M 67.9 277.3 L 67.9 340.6 L 96.5 340.6\" id=\"10,0\" style=\"stroke-width:nan\"></path><path d=\"M 96.5 214.1 L 96.5 284.4 L 153.6 284.4\" id=\"9,1\" style=\"stroke-width:nan\"></path><path d=\"M 210.7 200.0 L 210.7 228.1 L 267.8 228.1\" id=\"6,2\" style=\"stroke-width:nan\"></path><path d=\"M 210.7 200.0 L 210.7 171.9 L 267.8 171.9\" id=\"6,3\" style=\"stroke-width:nan\"></path><path d=\"M 267.8 87.5 L 267.8 115.6 L 382.1 115.6\" id=\"7,4\" style=\"stroke-width:nan\"></path><path d=\"M 267.8 87.5 L 267.8 59.4 L 382.1 59.4\" id=\"7,5\" style=\"stroke-width:nan\"></path><path d=\"M 153.6 143.8 L 153.6 200.0 L 210.7 200.0\" id=\"8,6\" style=\"stroke-width:nan\"></path><path d=\"M 153.6 143.8 L 153.6 87.5 L 267.8 87.5\" id=\"8,7\" style=\"stroke-width:nan\"></path><path d=\"M 96.5 214.1 L 96.5 143.8 L 153.6 143.8\" id=\"9,8\" style=\"stroke-width:nan\"></path><path d=\"M 67.9 277.3 L 67.9 214.1 L 96.5 214.1\" id=\"10,9\" style=\"stroke-width:nan\"></path></g><g class=\"toytree-Nodes\" style=\"fill:rgba(82.7%,82.7%,82.7%,1.000);stroke:#262626;stroke-width:1.0\"><g id=\"node-0\" transform=\"translate(96.503,340.625)\"><rect x=\"-20.0\" y=\"-10.0\" width=\"40.0\" height=\"20.0\"></rect></g><g id=\"node-1\" transform=\"translate(153.613,284.375)\"><rect x=\"-20.0\" y=\"-10.0\" width=\"40.0\" height=\"20.0\"></rect></g><g id=\"node-2\" transform=\"translate(267.832,228.125)\"><rect x=\"-20.0\" y=\"-10.0\" width=\"40.0\" height=\"20.0\"></rect></g><g id=\"node-3\" transform=\"translate(267.832,171.875)\"><rect x=\"-20.0\" y=\"-10.0\" width=\"40.0\" height=\"20.0\"></rect></g><g id=\"node-4\" transform=\"translate(382.051,115.625)\"><rect x=\"-20.0\" y=\"-10.0\" width=\"40.0\" height=\"20.0\"></rect></g><g id=\"node-5\" transform=\"translate(382.051,59.375)\"><rect x=\"-20.0\" y=\"-10.0\" width=\"40.0\" height=\"20.0\"></rect></g><g id=\"node-6\" transform=\"translate(210.723,200.000)\"><rect x=\"-20.0\" y=\"-10.0\" width=\"40.0\" height=\"20.0\"></rect></g><g id=\"node-7\" transform=\"translate(267.832,87.500)\"><rect x=\"-20.0\" y=\"-10.0\" width=\"40.0\" height=\"20.0\"></rect></g><g id=\"node-8\" transform=\"translate(153.613,143.750)\"><rect x=\"-20.0\" y=\"-10.0\" width=\"40.0\" height=\"20.0\"></rect></g><g id=\"node-9\" transform=\"translate(96.503,214.062)\"><rect x=\"-20.0\" y=\"-10.0\" width=\"40.0\" height=\"20.0\"></rect></g><g id=\"node-10\" transform=\"translate(67.949,277.344)\"><rect x=\"-20.0\" y=\"-10.0\" width=\"40.0\" height=\"20.0\"></rect></g></g><g class=\"toytree-NodeLabels\" style=\"font-family:Helvetica;font-size:9.0px;font-weight:300;stroke:none;vertical-align:baseline;white-space:pre\"><g class=\"toytree-NodeLabel\" transform=\"translate(96.50349650349654,340.625)\"><text x=\"-7.974\" y=\"2.2995\" style=\"fill:rgb(16.1%,15.3%,14.1%);fill-opacity:1.0\">{'C'}</text></g><g class=\"toytree-NodeLabel\" transform=\"translate(153.61305361305364,284.375)\"><text x=\"-7.726500000000001\" y=\"2.2995\" style=\"fill:rgb(16.1%,15.3%,14.1%);fill-opacity:1.0\">{'A'}</text></g><g class=\"toytree-NodeLabel\" transform=\"translate(267.83216783216784,228.125)\"><text x=\"-7.974\" y=\"2.2995\" style=\"fill:rgb(16.1%,15.3%,14.1%);fill-opacity:1.0\">{'C'}</text></g><g class=\"toytree-NodeLabel\" transform=\"translate(267.83216783216784,171.87500000000003)\"><text x=\"-7.726500000000001\" y=\"2.2995\" style=\"fill:rgb(16.1%,15.3%,14.1%);fill-opacity:1.0\">{'A'}</text></g><g class=\"toytree-NodeLabel\" transform=\"translate(382.051282051282,115.625)\"><text x=\"-7.974\" y=\"2.2995\" style=\"fill:rgb(16.1%,15.3%,14.1%);fill-opacity:1.0\">{'C'}</text></g><g class=\"toytree-NodeLabel\" transform=\"translate(382.051282051282,59.375)\"><text x=\"-8.226\" y=\"2.2995\" style=\"fill:rgb(16.1%,15.3%,14.1%);fill-opacity:1.0\">{'G'}</text></g><g class=\"toytree-NodeLabel\" transform=\"translate(210.72261072261074,200.0)\"><text x=\"-15.1965\" y=\"2.2995\" style=\"fill:rgb(16.1%,15.3%,14.1%);fill-opacity:1.0\">{'A', 'C'}</text></g><g class=\"toytree-NodeLabel\" transform=\"translate(267.83216783216784,87.5)\"><text x=\"-15.696\" y=\"2.2995\" style=\"fill:rgb(16.1%,15.3%,14.1%);fill-opacity:1.0\">{'G', 'C'}</text></g><g class=\"toytree-NodeLabel\" transform=\"translate(153.61305361305364,143.75000000000003)\"><text x=\"-7.974\" y=\"2.2995\" style=\"fill:rgb(16.1%,15.3%,14.1%);fill-opacity:1.0\">{'C'}</text></g><g class=\"toytree-NodeLabel\" transform=\"translate(96.50349650349654,214.0625)\"><text x=\"-15.1965\" y=\"2.2995\" style=\"fill:rgb(16.1%,15.3%,14.1%);fill-opacity:1.0\">{'A', 'C'}</text></g><g class=\"toytree-NodeLabel\" transform=\"translate(67.94871794871796,277.34375)\"><text x=\"-7.974\" y=\"2.2995\" style=\"fill:rgb(16.1%,15.3%,14.1%);fill-opacity:1.0\">{'C'}</text></g></g></g></g></g></svg><div class=\"toyplot-behavior\"><script>(function()\n",
       "{\n",
       "var modules={};\n",
       "})();</script></div></div>"
      ]
     },
     "metadata": {},
     "output_type": "display_data"
    }
   ],
   "source": [
    "tree.draw(\n",
    "    width=450, \n",
    "    height=400,\n",
    "    node_sizes=20, \n",
    "    node_mask=False,\n",
    "    node_colors=\"lightgrey\",\n",
    "    node_markers=\"r2x1\",\n",
    "    node_labels=tree.get_node_data(\"state\"),\n",
    "    tip_labels=False,\n",
    ");"
   ]
  },
  {
   "cell_type": "code",
   "execution_count": null,
   "id": "898840a6",
   "metadata": {},
   "outputs": [],
   "source": []
  },
  {
   "cell_type": "code",
   "execution_count": null,
   "id": "95df6e9b",
   "metadata": {},
   "outputs": [],
   "source": []
  },
  {
   "cell_type": "code",
   "execution_count": 24,
   "id": "e376a4c4",
   "metadata": {},
   "outputs": [
    {
     "data": {
      "text/plain": [
       "<toyplot.mark.Text at 0x7f7d5141a700>"
      ]
     },
     "execution_count": 24,
     "metadata": {},
     "output_type": "execute_result"
    },
    {
     "data": {
      "text/html": [
       "<div class=\"toyplot\" id=\"tb2bf25d96ded49c8b24bddb448b0739a\" style=\"text-align:center\"><svg class=\"toyplot-canvas-Canvas\" xmlns:toyplot=\"http://www.sandia.gov/toyplot\" xmlns:xlink=\"http://www.w3.org/1999/xlink\" xmlns=\"http://www.w3.org/2000/svg\" width=\"400.0px\" height=\"275.0px\" viewBox=\"0 0 400.0 275.0\" preserveAspectRatio=\"xMidYMid meet\" style=\"background-color:transparent;border-color:#292724;border-style:none;border-width:1.0;fill:rgb(16.1%,15.3%,14.1%);fill-opacity:1.0;font-family:Helvetica;font-size:12px;opacity:1.0;stroke:rgb(16.1%,15.3%,14.1%);stroke-opacity:1.0;stroke-width:1.0\" id=\"t9c1888d48f8646f1827fc5c803c33b40\"><g class=\"toyplot-coordinates-Cartesian\" id=\"t6cdedc859d5248e98e1ae381f34c58a5\"><clipPath id=\"t18abefcef8ed4f9fa92c98a26affc8f6\"><rect x=\"35.0\" y=\"35.0\" width=\"330.0\" height=\"205.0\"></rect></clipPath><g clip-path=\"url(#t18abefcef8ed4f9fa92c98a26affc8f6)\"><g class=\"toytree-mark-Toytree\" id=\"t44de992b80e74db3b5e78ac851a8e250\"><g class=\"toytree-Edges\" style=\"fill:none;stroke:rgba(16.1%,15.3%,14.1%,1.000);stroke-linecap:round;stroke-width:2.0\"><path d=\"M 50.0 170.6 L 50.0 218.3 L 250.5 218.3\" id=\"18,0\" style=\"stroke-width:nan\"></path><path d=\"M 170.3 186.9 L 170.3 200.4 L 250.5 200.4\" id=\"11,1\" style=\"stroke-width:nan\"></path><path d=\"M 210.4 173.4 L 210.4 182.4 L 250.5 182.4\" id=\"10,2\" style=\"stroke-width:nan\"></path><path d=\"M 210.4 173.4 L 210.4 164.4 L 250.5 164.4\" id=\"10,3\" style=\"stroke-width:nan\"></path><path d=\"M 170.3 137.5 L 170.3 146.5 L 250.5 146.5\" id=\"12,4\" style=\"stroke-width:nan\"></path><path d=\"M 170.3 137.5 L 170.3 128.5 L 250.5 128.5\" id=\"12,5\" style=\"stroke-width:nan\"></path><path d=\"M 170.3 101.6 L 170.3 110.6 L 250.5 110.6\" id=\"14,6\" style=\"stroke-width:nan\"></path><path d=\"M 170.3 101.6 L 170.3 92.6 L 250.5 92.6\" id=\"14,7\" style=\"stroke-width:nan\"></path><path d=\"M 170.3 65.6 L 170.3 74.6 L 250.5 74.6\" id=\"15,8\" style=\"stroke-width:nan\"></path><path d=\"M 170.3 65.6 L 170.3 56.7 L 250.5 56.7\" id=\"15,9\" style=\"stroke-width:nan\"></path><path d=\"M 170.3 186.9 L 170.3 173.4 L 210.4 173.4\" id=\"11,10\" style=\"stroke-width:nan\"></path><path d=\"M 130.2 162.2 L 130.2 186.9 L 170.3 186.9\" id=\"13,11\" style=\"stroke-width:nan\"></path><path d=\"M 130.2 162.2 L 130.2 137.5 L 170.3 137.5\" id=\"13,12\" style=\"stroke-width:nan\"></path><path d=\"M 90.1 122.9 L 90.1 162.2 L 130.2 162.2\" id=\"17,13\" style=\"stroke-width:nan\"></path><path d=\"M 130.2 83.6 L 130.2 101.6 L 170.3 101.6\" id=\"16,14\" style=\"stroke-width:nan\"></path><path d=\"M 130.2 83.6 L 130.2 65.6 L 170.3 65.6\" id=\"16,15\" style=\"stroke-width:nan\"></path><path d=\"M 90.1 122.9 L 90.1 83.6 L 130.2 83.6\" id=\"17,16\" style=\"stroke-width:nan\"></path><path d=\"M 50.0 170.6 L 50.0 122.9 L 90.1 122.9\" id=\"18,17\" style=\"stroke-width:nan\"></path></g><g class=\"toytree-TipLabels\" style=\"fill:rgb(16.1%,15.3%,14.1%);fill-opacity:1.0;font-family:Helvetica;font-size:11.0px;font-weight:300;stroke:none;vertical-align:baseline;white-space:pre\"><g class=\"toytree-TipLabel\" transform=\"translate(250.5012531328321,218.34741288278775)\"><text x=\"15.0\" y=\"2.8104999999999993\" style=\"\">r0</text></g><g class=\"toytree-TipLabel\" transform=\"translate(250.5012531328321,200.38132113105718)\"><text x=\"15.0\" y=\"2.8104999999999993\" style=\"\">r1</text></g><g class=\"toytree-TipLabel\" transform=\"translate(250.5012531328321,182.41522937932652)\"><text x=\"15.0\" y=\"2.8104999999999993\" style=\"\">r2</text></g><g class=\"toytree-TipLabel\" transform=\"translate(250.5012531328321,164.44913762759592)\"><text x=\"15.0\" y=\"2.8104999999999993\" style=\"\">r3</text></g><g class=\"toytree-TipLabel\" transform=\"translate(250.5012531328321,146.4830458758653)\"><text x=\"15.0\" y=\"2.8104999999999993\" style=\"\">r4</text></g><g class=\"toytree-TipLabel\" transform=\"translate(250.5012531328321,128.5169541241347)\"><text x=\"15.0\" y=\"2.8104999999999993\" style=\"\">r5</text></g><g class=\"toytree-TipLabel\" transform=\"translate(250.5012531328321,110.55086237240408)\"><text x=\"15.0\" y=\"2.8104999999999993\" style=\"\">r6</text></g><g class=\"toytree-TipLabel\" transform=\"translate(250.5012531328321,92.58477062067348)\"><text x=\"15.0\" y=\"2.8104999999999993\" style=\"\">r7</text></g><g class=\"toytree-TipLabel\" transform=\"translate(250.5012531328321,74.61867886894285)\"><text x=\"15.0\" y=\"2.8104999999999993\" style=\"\">r8</text></g><g class=\"toytree-TipLabel\" transform=\"translate(250.5012531328321,56.65258711721224)\"><text x=\"15.0\" y=\"2.8104999999999993\" style=\"\">r9</text></g></g></g><g class=\"toyplot-mark-Text\" id=\"t819d9fa3f6d04943bf3bc1fb63d72be2\"><g class=\"toyplot-Series\"><g class=\"toyplot-Datum\" transform=\"translate(300.62656641604013,218.34741288278775)\"><text x=\"0\" y=\"3.066\" style=\"fill:rgb(0%,0%,0%);fill-opacity:1.0;font-family:helvetica;font-size:12.0px;font-weight:normal;opacity:1;stroke:none;vertical-align:baseline;white-space:pre\">['-', 0, '-', '-']</text></g><g class=\"toyplot-Datum\" transform=\"translate(300.62656641604013,200.38132113105718)\"><text x=\"0\" y=\"3.066\" style=\"fill:rgb(0%,0%,0%);fill-opacity:1.0;font-family:helvetica;font-size:12.0px;font-weight:normal;opacity:1;stroke:none;vertical-align:baseline;white-space:pre\">['-', 0, '-', '-']</text></g><g class=\"toyplot-Datum\" transform=\"translate(300.62656641604013,182.41522937932652)\"><text x=\"0\" y=\"3.066\" style=\"fill:rgb(0%,0%,0%);fill-opacity:1.0;font-family:helvetica;font-size:12.0px;font-weight:normal;opacity:1;stroke:none;vertical-align:baseline;white-space:pre\">['-', 0, '-', '-']</text></g><g class=\"toyplot-Datum\" transform=\"translate(300.62656641604013,164.44913762759592)\"><text x=\"0\" y=\"3.066\" style=\"fill:rgb(0%,0%,0%);fill-opacity:1.0;font-family:helvetica;font-size:12.0px;font-weight:normal;opacity:1;stroke:none;vertical-align:baseline;white-space:pre\">['-', 0, '-', '-']</text></g><g class=\"toyplot-Datum\" transform=\"translate(300.62656641604013,146.4830458758653)\"><text x=\"0\" y=\"3.066\" style=\"fill:rgb(0%,0%,0%);fill-opacity:1.0;font-family:helvetica;font-size:12.0px;font-weight:normal;opacity:1;stroke:none;vertical-align:baseline;white-space:pre\">['-', 0, '-', '-']</text></g><g class=\"toyplot-Datum\" transform=\"translate(300.62656641604013,128.5169541241347)\"><text x=\"0\" y=\"3.066\" style=\"fill:rgb(0%,0%,0%);fill-opacity:1.0;font-family:helvetica;font-size:12.0px;font-weight:normal;opacity:1;stroke:none;vertical-align:baseline;white-space:pre\">['-', 0, '-', '-']</text></g><g class=\"toyplot-Datum\" transform=\"translate(300.62656641604013,110.55086237240408)\"><text x=\"0\" y=\"3.066\" style=\"fill:rgb(0%,0%,0%);fill-opacity:1.0;font-family:helvetica;font-size:12.0px;font-weight:normal;opacity:1;stroke:none;vertical-align:baseline;white-space:pre\">['-', 0, '-', '-']</text></g><g class=\"toyplot-Datum\" transform=\"translate(300.62656641604013,92.58477062067348)\"><text x=\"0\" y=\"3.066\" style=\"fill:rgb(0%,0%,0%);fill-opacity:1.0;font-family:helvetica;font-size:12.0px;font-weight:normal;opacity:1;stroke:none;vertical-align:baseline;white-space:pre\">['-', 0, '-', '-']</text></g><g class=\"toyplot-Datum\" transform=\"translate(300.62656641604013,74.61867886894285)\"><text x=\"0\" y=\"3.066\" style=\"fill:rgb(0%,0%,0%);fill-opacity:1.0;font-family:helvetica;font-size:12.0px;font-weight:normal;opacity:1;stroke:none;vertical-align:baseline;white-space:pre\">['-', 0, '-', '-']</text></g><g class=\"toyplot-Datum\" transform=\"translate(300.62656641604013,56.65258711721224)\"><text x=\"0\" y=\"3.066\" style=\"fill:rgb(0%,0%,0%);fill-opacity:1.0;font-family:helvetica;font-size:12.0px;font-weight:normal;opacity:1;stroke:none;vertical-align:baseline;white-space:pre\">['-', 0, '-', '-']</text></g></g></g></g><g class=\"toyplot-coordinates-Axis\" id=\"t9b462a39e18a4376a761929926a812c3\" transform=\"translate(50.0,225.0)translate(0,15.0)\"><line x1=\"0\" y1=\"0\" x2=\"200.50125313283206\" y2=\"0\" style=\"\"></line><g><line x1=\"0.0\" y1=\"0\" x2=\"0.0\" y2=\"-5\" style=\"\"></line><line x1=\"100.25062656641603\" y1=\"0\" x2=\"100.25062656641603\" y2=\"-5\" style=\"\"></line><line x1=\"200.50125313283206\" y1=\"0\" x2=\"200.50125313283206\" y2=\"-5\" style=\"\"></line></g><g><g transform=\"translate(0.0,6)\"><text x=\"-2.78\" y=\"8.555\" style=\"fill:rgb(16.1%,15.3%,14.1%);fill-opacity:1.0;font-family:helvetica;font-size:10.0px;font-weight:normal;stroke:none;vertical-align:baseline;white-space:pre\">1</text></g><g transform=\"translate(100.25062656641603,6)\"><text x=\"-6.95\" y=\"8.555\" style=\"fill:rgb(16.1%,15.3%,14.1%);fill-opacity:1.0;font-family:helvetica;font-size:10.0px;font-weight:normal;stroke:none;vertical-align:baseline;white-space:pre\">0.5</text></g><g transform=\"translate(200.50125313283206,6)\"><text x=\"-2.78\" y=\"8.555\" style=\"fill:rgb(16.1%,15.3%,14.1%);fill-opacity:1.0;font-family:helvetica;font-size:10.0px;font-weight:normal;stroke:none;vertical-align:baseline;white-space:pre\">0</text></g></g><g class=\"toyplot-coordinates-Axis-coordinates\" style=\"visibility:hidden\" transform=\"\"><line x1=\"0\" x2=\"0\" y1=\"-3.0\" y2=\"4.5\" style=\"stroke:rgb(43.9%,50.2%,56.5%);stroke-opacity:1.0;stroke-width:1.0\"></line><text x=\"0\" y=\"-6\" style=\"alignment-baseline:alphabetic;fill:rgb(43.9%,50.2%,56.5%);fill-opacity:1.0;font-size:10px;font-weight:normal;stroke:none;text-anchor:middle\"></text></g></g></g></svg><div class=\"toyplot-behavior\"><script>(function()\n",
       "{\n",
       "var modules={};\n",
       "modules[\"toyplot/canvas/id\"] = \"t9c1888d48f8646f1827fc5c803c33b40\";\n",
       "modules[\"toyplot/canvas\"] = (function(canvas_id)\n",
       "    {\n",
       "        return document.querySelector(\"#\" + canvas_id);\n",
       "    })(modules[\"toyplot/canvas/id\"]);\n",
       "modules[\"toyplot.coordinates.Axis\"] = (\n",
       "        function(canvas)\n",
       "        {\n",
       "            function sign(x)\n",
       "            {\n",
       "                return x < 0 ? -1 : x > 0 ? 1 : 0;\n",
       "            }\n",
       "\n",
       "            function mix(a, b, amount)\n",
       "            {\n",
       "                return ((1.0 - amount) * a) + (amount * b);\n",
       "            }\n",
       "\n",
       "            function log(x, base)\n",
       "            {\n",
       "                return Math.log(Math.abs(x)) / Math.log(base);\n",
       "            }\n",
       "\n",
       "            function in_range(a, x, b)\n",
       "            {\n",
       "                var left = Math.min(a, b);\n",
       "                var right = Math.max(a, b);\n",
       "                return left <= x && x <= right;\n",
       "            }\n",
       "\n",
       "            function inside(range, projection)\n",
       "            {\n",
       "                for(var i = 0; i != projection.length; ++i)\n",
       "                {\n",
       "                    var segment = projection[i];\n",
       "                    if(in_range(segment.range.min, range, segment.range.max))\n",
       "                        return true;\n",
       "                }\n",
       "                return false;\n",
       "            }\n",
       "\n",
       "            function to_domain(range, projection)\n",
       "            {\n",
       "                for(var i = 0; i != projection.length; ++i)\n",
       "                {\n",
       "                    var segment = projection[i];\n",
       "                    if(in_range(segment.range.bounds.min, range, segment.range.bounds.max))\n",
       "                    {\n",
       "                        if(segment.scale == \"linear\")\n",
       "                        {\n",
       "                            var amount = (range - segment.range.min) / (segment.range.max - segment.range.min);\n",
       "                            return mix(segment.domain.min, segment.domain.max, amount)\n",
       "                        }\n",
       "                        else if(segment.scale[0] == \"log\")\n",
       "                        {\n",
       "                            var amount = (range - segment.range.min) / (segment.range.max - segment.range.min);\n",
       "                            var base = segment.scale[1];\n",
       "                            return sign(segment.domain.min) * Math.pow(base, mix(log(segment.domain.min, base), log(segment.domain.max, base), amount));\n",
       "                        }\n",
       "                    }\n",
       "                }\n",
       "            }\n",
       "\n",
       "            var axes = {};\n",
       "\n",
       "            function display_coordinates(e)\n",
       "            {\n",
       "                var current = canvas.createSVGPoint();\n",
       "                current.x = e.clientX;\n",
       "                current.y = e.clientY;\n",
       "\n",
       "                for(var axis_id in axes)\n",
       "                {\n",
       "                    var axis = document.querySelector(\"#\" + axis_id);\n",
       "                    var coordinates = axis.querySelector(\".toyplot-coordinates-Axis-coordinates\");\n",
       "                    if(coordinates)\n",
       "                    {\n",
       "                        var projection = axes[axis_id];\n",
       "                        var local = current.matrixTransform(axis.getScreenCTM().inverse());\n",
       "                        if(inside(local.x, projection))\n",
       "                        {\n",
       "                            var domain = to_domain(local.x, projection);\n",
       "                            coordinates.style.visibility = \"visible\";\n",
       "                            coordinates.setAttribute(\"transform\", \"translate(\" + local.x + \")\");\n",
       "                            var text = coordinates.querySelector(\"text\");\n",
       "                            text.textContent = domain.toFixed(2);\n",
       "                        }\n",
       "                        else\n",
       "                        {\n",
       "                            coordinates.style.visibility= \"hidden\";\n",
       "                        }\n",
       "                    }\n",
       "                }\n",
       "            }\n",
       "\n",
       "            canvas.addEventListener(\"click\", display_coordinates);\n",
       "\n",
       "            var module = {};\n",
       "            module.show_coordinates = function(axis_id, projection)\n",
       "            {\n",
       "                axes[axis_id] = projection;\n",
       "            }\n",
       "\n",
       "            return module;\n",
       "        })(modules[\"toyplot/canvas\"]);\n",
       "(function(axis, axis_id, projection)\n",
       "        {\n",
       "            axis.show_coordinates(axis_id, projection);\n",
       "        })(modules[\"toyplot.coordinates.Axis\"],\"t9b462a39e18a4376a761929926a812c3\",[{\"domain\": {\"bounds\": {\"max\": Infinity, \"min\": -Infinity}, \"max\": 0.4962500000000001, \"min\": -1.0}, \"range\": {\"bounds\": {\"max\": Infinity, \"min\": -Infinity}, \"max\": 300.0, \"min\": 0.0}, \"scale\": \"linear\"}]);\n",
       "})();</script></div></div>"
      ]
     },
     "metadata": {},
     "output_type": "display_data"
    }
   ],
   "source": [
    "c, a, m = tree.draw(scale_bar=True, width=400)\n",
    "a.text(\n",
    "    np.repeat(0.25, tree.ntips),\n",
    "    np.arange(tree.ntips),\n",
    "    [str(i) for i in tree.get_tip_data('state')],\n",
    "    style={\"text-anchor\": 'start', 'fill': 'black'}\n",
    ")"
   ]
  }
 ],
 "metadata": {
  "kernelspec": {
   "display_name": "Python 3 (ipykernel)",
   "language": "python",
   "name": "python3"
  },
  "language_info": {
   "codemirror_mode": {
    "name": "ipython",
    "version": 3
   },
   "file_extension": ".py",
   "mimetype": "text/x-python",
   "name": "python",
   "nbconvert_exporter": "python",
   "pygments_lexer": "ipython3",
   "version": "3.9.12"
  }
 },
 "nbformat": 4,
 "nbformat_minor": 5
}
