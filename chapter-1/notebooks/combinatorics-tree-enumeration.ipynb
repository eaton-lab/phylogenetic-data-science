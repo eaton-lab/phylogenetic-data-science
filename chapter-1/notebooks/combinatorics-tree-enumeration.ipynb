{
 "cells": [
  {
   "cell_type": "markdown",
   "id": "aedb2086-393e-440a-af38-646affe03be5",
   "metadata": {
    "tags": []
   },
   "source": [
    "# Tree enumeration\n",
    "As we saw in Chapter 3 of Inferring Phylogenies (Felsenstein, 2004), calculating the number of total possible trees, given a number of tips, has attracted the attention of mathematicians since the XIX century.\n",
    "\n",
    "Having a clear image of how many trees we can have in specific scenarios can help us understand the problem it constitutes and the importance of some algorithms we will learn during this course."
   ]
  },
  {
   "cell_type": "markdown",
   "id": "e878842f-03cb-4d7a-ba25-2e442bd470d5",
   "metadata": {},
   "source": [
    "## Number of possible places where a new tip can be added\n",
    "\n",
    "Considering that we have a tree with `n_tips` we can calculate the maximum possible places where a new tip could be inserted using the simple formula $2n-3$. \n",
    "\n",
    "For example"
   ]
  },
  {
   "cell_type": "code",
   "execution_count": null,
   "id": "a996f7c0-24f7-43dd-8593-e19a26c7c27e",
   "metadata": {},
   "outputs": [],
   "source": [
    "n_tips = 3 # defines size of current tree (in number of tips)\n",
    "n = n_tips + 1 # calculates the number of tips that we want in our final tree (just one at the time)\n",
    "n_places = 2 * n - 3 # calculates the possible number of places where we can put our tip in our n-1 tree\n",
    "\n",
    "n_places"
   ]
  },
  {
   "cell_type": "markdown",
   "id": "c6c8b30a-2622-427f-8bae-561d56dfa70a",
   "metadata": {},
   "source": [
    "We can transform this into a function to reuse this code as much as we want."
   ]
  },
  {
   "cell_type": "code",
   "execution_count": 88,
   "id": "b487679f-188d-483a-9231-8fbab3fe199c",
   "metadata": {},
   "outputs": [],
   "source": [
    "# A suggestion for Function 1.1.2.A\n",
    "def calculate_nplaces(n_tips: int) -> int:\n",
    "    \"\"\"Calculate the number of possible places in a n_tips tree to put an \n",
    "    additional tip.\n",
    "    \"\"\"\n",
    "    n = n_tips + 1 # number of tips that we want in our final tree\n",
    "    n_places = 2 * n - 3 # possible number of places where we can put our tip in our n_tips tree\n",
    "    return n_places"
   ]
  },
  {
   "cell_type": "code",
   "execution_count": null,
   "id": "45e32a8a-e00f-49e2-bd9e-4bbf35031c1b",
   "metadata": {},
   "outputs": [],
   "source": [
    "print(calculate_nplaces(2))\n",
    "print(calculate_nplaces(n_tips=3))"
   ]
  },
  {
   "cell_type": "code",
   "execution_count": 93,
   "id": "784f7e2b-0f17-4c72-a17e-5a7d4c355d50",
   "metadata": {},
   "outputs": [
    {
     "data": {
      "text/plain": [
       "199"
      ]
     },
     "execution_count": 93,
     "metadata": {},
     "output_type": "execute_result"
    }
   ],
   "source": [
    "calculate_nplaces(100)"
   ]
  },
  {
   "cell_type": "markdown",
   "id": "a1102630-46a8-49a0-b42e-16c4a8490241",
   "metadata": {},
   "source": [
    "Following Felsenstein's logic, the total number of branches in our tree represents the total places where a new tip can be inserted. Using this argument, in Toytree, we can count the number of branches that a given tree has and return this number.\n",
    "\n",
    "Let's generate a random tree in Toytree and count the branches."
   ]
  },
  {
   "cell_type": "code",
   "execution_count": null,
   "id": "a44a8362-dba0-4aca-ba6f-5c39f7b982b0",
   "metadata": {},
   "outputs": [],
   "source": [
    "import toytree # imports the module toytree\n",
    "\n",
    "random_tree = toytree.rtree.rtree(ntips=3) # calls the method rtree(), which is inside the submodule rtree (part of toytree)\n",
    "random_tree.draw(); # draws our randomly generated tree"
   ]
  },
  {
   "cell_type": "markdown",
   "id": "702c5dd0-3e74-4ce7-b124-c0f1376018d8",
   "metadata": {},
   "source": [
    "We can use the method `get_edges()` to get a `DataFrame` with all the edges in our tree. Let's put it in a variable:"
   ]
  },
  {
   "cell_type": "code",
   "execution_count": null,
   "id": "516323bf-2a2b-493f-a9da-c7913aa4ac0d",
   "metadata": {},
   "outputs": [],
   "source": [
    "all_edges = random_tree.get_edges()"
   ]
  },
  {
   "cell_type": "markdown",
   "id": "bde61132-f1ca-4ae1-afb1-11407b6420d5",
   "metadata": {},
   "source": [
    "Now we can just count the number of edges we have. This can be done using the function `len()` (native in Python) or the attribute `shape` part of the `DataFrame` type. The attribute `shape` is a tuple of 2 elements, the number of rows and columns, respectively."
   ]
  },
  {
   "cell_type": "code",
   "execution_count": null,
   "id": "91e46420-4797-4908-a714-bf39fea3096e",
   "metadata": {},
   "outputs": [],
   "source": [
    "all_edges.shape[0] # alternative using shape attribute \n",
    "len(all_edges) # alternative using len() function"
   ]
  },
  {
   "cell_type": "markdown",
   "id": "467c39cf-195e-4a21-b284-406fdcb5dc8b",
   "metadata": {},
   "source": [
    "Note the number of places is different from what we had before; this is because our tree has not an explicit branch in the root. So, we should add another extra edge to our count. \n",
    "\n",
    "We can put it in a function to calculate it easily:"
   ]
  },
  {
   "cell_type": "code",
   "execution_count": null,
   "id": "6411d007-0489-47ea-a49c-d6c12f76ba74",
   "metadata": {},
   "outputs": [],
   "source": [
    "def calculate_nplaces_toytree(n_tips: int) -> int:\n",
    "    \"\"\"Calculate the number of possible places in a n_tips tree to put an \n",
    "    additional tip using Toytree.\n",
    "    \"\"\"\n",
    "    random_tree = toytree.rtree.rtree(ntips=n_tips) \n",
    "    all_edges = random_tree.get_edges()\n",
    "    result = len(all_edges) + 1 # do not forget add one extra branch that represent our root\n",
    "    return result"
   ]
  },
  {
   "cell_type": "markdown",
   "id": "1786aaa0-a056-4dec-82b0-0e4222849e3f",
   "metadata": {},
   "source": [
    "Now compare this new result using Toytree with the result in our function calculate_n_places()."
   ]
  },
  {
   "cell_type": "code",
   "execution_count": null,
   "id": "0cffcb25-59b1-4fb8-bdc2-46e56083c5de",
   "metadata": {},
   "outputs": [],
   "source": [
    "n_tips = 3\n",
    "calculate_nplaces(n_tips) == calculate_nplaces_toytree(n_tips)"
   ]
  },
  {
   "cell_type": "markdown",
   "id": "64e9724e-4a5e-4660-a4f7-f1d3f1b2d46a",
   "metadata": {
    "tags": []
   },
   "source": [
    "## Number of trees of a given number of tips\n",
    "\n",
    "### Rooted trees\n",
    "\n",
    "As discussed in Felsenstein (2004), there are a couple of ways to get the possible number of bifurcating rooted trees considering the places where a *n*-tip can be added. \n",
    "\n",
    "Considering one of the methods mentioned, we can create a list of successive odds (places where a new tip can be added) and use it to get the number of possible tips.\n",
    "\n",
    "We can take advantage of the function we previously declared and use it to get our list of odd numbers in the following way:"
   ]
  },
  {
   "cell_type": "code",
   "execution_count": null,
   "id": "6a7e9ab7-0132-47f1-b6fc-28e2df1a05e1",
   "metadata": {},
   "outputs": [],
   "source": [
    "ntips = 4\n",
    "\n",
    "successive_odds = [] # To save our list of odd sucessive odd integers we can declare an empty list\n",
    "\n",
    "# Creates a list of successive odds considering the size of the tree using our previous function\n",
    "for i in range(1, ntips):\n",
    "    successive_odds.append(calculate_nplaces(i))\n",
    "    \n",
    "total_possible_trees = 1  \n",
    "for o in successive_odds:  \n",
    "    total_possible_trees *= o  \n",
    "\n",
    "total_possible_trees, successive_odds"
   ]
  },
  {
   "cell_type": "markdown",
   "id": "1b529add-e956-42ce-9159-87af5b839ac0",
   "metadata": {},
   "source": [
    "We can put this in a function:"
   ]
  },
  {
   "cell_type": "code",
   "execution_count": null,
   "id": "3c3d9a11-143f-4405-93d9-4eeef838f871",
   "metadata": {},
   "outputs": [],
   "source": [
    "# A suggestion for Function 1.1.2.B\n",
    "def calculate_max_bifurcating_trees(ntips: int) -> tuple:\n",
    "    \"\"\"Calculates the maximum number of trees given a number of tips\"\"\"\n",
    "    \n",
    "    successive_odds = [] # To save our list of odd sucessive odd integers we can declare an empty list\n",
    "\n",
    "    # Creates a list of successive odds considering the size of the tree using our previous function\n",
    "    for i in range(2, ntips):\n",
    "        successive_odds.append(calculate_nplaces(i))\n",
    "\n",
    "    total_possible_trees = 1  \n",
    "    for o in successive_odds:  \n",
    "        total_possible_trees *= o  \n",
    "\n",
    "    # return the result and the successive list of possible places\n",
    "    return (total_possible_trees, successive_odds)\n",
    "\n",
    "# Test the function getting the number of trees with 50 tips\n",
    "calculate_max_bifurcating_trees(50)[0]"
   ]
  },
  {
   "cell_type": "code",
   "execution_count": null,
   "id": "238c8c9b-7c0d-4b16-9c80-45d27183bf7e",
   "metadata": {},
   "outputs": [],
   "source": [
    "# Using f-strings we can easily format big numbers with scientific notation\n",
    "f\"The number of possible rooted trees having 50 tips is: {calculate_max_bifurcating_trees(50)[0]:e}\""
   ]
  },
  {
   "cell_type": "markdown",
   "id": "94e03051-49a0-4659-a985-330f0ca00b1a",
   "metadata": {},
   "source": [
    "Alternativelly, we can calculate the total number of trees using the formula:\n",
    "$$\n",
    "\\frac{\\left( 2n - 3 \\right)!}{2^{n - 2}\\left(n - 2 \\right)!}\n",
    "$$"
   ]
  },
  {
   "cell_type": "markdown",
   "id": "ed6f72ed-83a5-4bee-9a59-efca305c4ad5",
   "metadata": {},
   "source": [
    "<div class=\"alert alert-block alert-info\">\n",
    "    <b><i class=\"fa fa-info-circle\" aria-hidden=\"true\"></i>&nbsp; Info</b><br>\n",
    "    <p style=\"color: black\">\n",
    "        Note that the formula in some editions of Felsenstein (2004) does not produce the expected result. Instead you can use the formula from Felsenstein (1978).\n",
    "    </p>\n",
    "<div>"
   ]
  },
  {
   "cell_type": "code",
   "execution_count": null,
   "id": "1f1a26e2-f57c-418a-b573-80c77aac0b42",
   "metadata": {},
   "outputs": [],
   "source": [
    "import math\n",
    "def n_trees(n_tips):\n",
    "    \"\"\"Calculate the number of bifucated rooted trees using one formula\"\"\"\n",
    "    den = math.factorial(2*n_tips - 3)\n",
    "    num = 2**(n_tips-2) * math.factorial(n_tips - 2)\n",
    "    return int(den / num)\n",
    "\n",
    "n_trees(50)"
   ]
  },
  {
   "cell_type": "markdown",
   "id": "a0f4ac2b-694c-4f88-9c14-bf4015976139",
   "metadata": {},
   "source": [
    "### Unrooted trees\n",
    "\n",
    "As Felsenstein (2004) described, we can calculate in the same way as we did in for rooted trees the number of possible places and the maximum number of trees considering that our tree is unrooted. In this case, $2n - 5$ is the maximum possible places where a new tip could be inserted in an unrooted tree.\n",
    "\n",
    "So, let's update our previously defined function to add this capability.\n",
    "\n",
    "We can add a new parameter to both functions that indicate if we are considering a rooted or unrooted tree. We can state rooted as default value. Because both functions are communicated, we could explicitly add this parameter in our second function; in other words, add in `calculate_max_bifurcating_trees()` the parameter rooted. "
   ]
  },
  {
   "cell_type": "code",
   "execution_count": 4,
   "id": "1199dfbb-4544-4d46-a02c-d5d8d82e46f5",
   "metadata": {},
   "outputs": [],
   "source": [
    "def calculate_nplaces(n_tips: int, \n",
    "                      rooted: bool = True) -> int:\n",
    "    \"\"\"Calculate the number of possible places in a n_tips tree to put an \n",
    "    additional tip.\n",
    "    \"\"\"\n",
    "    \n",
    "    # determine the factor in the n_places calculation\n",
    "    # the same result can be achieved, reducing by one the number of tips when it unrooted\n",
    "    if rooted:\n",
    "        factor = 3\n",
    "    else:\n",
    "        factor = 5\n",
    "    \n",
    "    n = n_tips + 1 # number of tips that we want in our final tree\n",
    "    n_places = 2 * n - factor # possible number of places where we can put our tip in our n_tips tree\n",
    "    return n_places\n",
    "\n",
    "\n",
    "def calculate_max_bifurcating_trees(ntips: int,\n",
    "                       rooted: bool = True) -> tuple:\n",
    "    \"\"\"Calculates the maximum number of trees given a number of tips\"\"\"\n",
    "    \n",
    "    successive_odds = [] # To save our list of odd sucessive odd integers we can declare an empty list\n",
    "\n",
    "    # Creates a list of successive odds considering the size of the tree using our previous function\n",
    "    for i in range(2, ntips):\n",
    "        successive_odds.append(calculate_nplaces(i, rooted))\n",
    "\n",
    "    total_possible_trees = 1  \n",
    "    for o in successive_odds:  \n",
    "        total_possible_trees *= o  \n",
    "\n",
    "    return (total_possible_trees, successive_odds)"
   ]
  },
  {
   "cell_type": "markdown",
   "id": "eadec222-fddd-4c84-bf60-31fd16b7c759",
   "metadata": {},
   "source": [
    "We can test this function by calculating the number of unrooted trees possible for 10 tips:"
   ]
  },
  {
   "cell_type": "code",
   "execution_count": null,
   "id": "6dbffbea-1ed4-4d75-b036-d830f2f2d5b6",
   "metadata": {},
   "outputs": [],
   "source": [
    "calculate_max_bifurcating_trees(10, rooted=False)[0]"
   ]
  },
  {
   "cell_type": "markdown",
   "id": "a625a403-e2dc-4562-b786-096970a5bb2e",
   "metadata": {},
   "source": [
    "Now compare the previous result with the same calculation, but now for rooted trees"
   ]
  },
  {
   "cell_type": "code",
   "execution_count": null,
   "id": "39d1471b-88d8-48bd-a4b9-b7e94a7a206d",
   "metadata": {},
   "outputs": [],
   "source": [
    "calculate_max_bifurcating_trees(10)[0]"
   ]
  },
  {
   "cell_type": "markdown",
   "id": "f34047c9-8f52-494c-a3a1-ae2b019c25f1",
   "metadata": {},
   "source": [
    "You can see how the number of unrooted trees is smaller than rooted trees, but the maximum possible number of trees is still large enough. In the following test, the number is so large that Python refuses to operate with it."
   ]
  },
  {
   "cell_type": "code",
   "execution_count": null,
   "id": "5469fd4c-49ed-43d4-8e63-459a5cd8507d",
   "metadata": {},
   "outputs": [],
   "source": [
    "print(\"Tips\\t# rooted trees\\t# unr. trees\\tRatio (r/unr)\") # print headings\n",
    "\n",
    "# Calculate the number \n",
    "for i in range(1,200,10):\n",
    "    t_rooted = calculate_max_bifurcating_trees(i)[0]\n",
    "    t_unrooted = calculate_max_bifurcating_trees(i, False)[0]\n",
    "    print(i, \"{:e}\".format(t_rooted), \"{:e}\".format(t_unrooted), (t_rooted/t_unrooted), sep=\"\\t\")"
   ]
  },
  {
   "cell_type": "markdown",
   "id": "21626d80-4dcd-49a2-bdee-c6f6a1f0c638",
   "metadata": {
    "tags": []
   },
   "source": [
    "## Why the number of possible trees is important?"
   ]
  },
  {
   "cell_type": "markdown",
   "id": "02c74313-3907-4e2b-aab2-0b2025099998",
   "metadata": {},
   "source": [
    "Imagine that we can compute, evaluate, and process 1,000,000,000 trees in only one ns. How long can we take to explore all the possible topologies having 30 tips tree? Let's calculate it!"
   ]
  },
  {
   "cell_type": "code",
   "execution_count": 8,
   "id": "3aa3d121-8b68-49be-af4a-a062b45ce236",
   "metadata": {},
   "outputs": [
    {
     "name": "stdout",
     "output_type": "stream",
     "text": [
      "1.570205e+13 years\n"
     ]
    }
   ],
   "source": [
    "# Calculating the total nanoseconds we need for computing ALL possible trees \n",
    "#with 30 tips at a rate of 1e+9 trees each nanosecond \n",
    "nanoseconds = calculate_max_bifurcating_trees(30)[0] / 1e+9\n",
    "\n",
    "ns_in_one_day = 8.64E+13 # 1 day =  8.64E+13 ns\n",
    "\n",
    "# First calculate days\n",
    "days = nanoseconds / ns_in_one_day\n",
    "\n",
    "d_in_y = 365 # 1 year = 365 d\n",
    "\n",
    "# Now calculate years\n",
    "years = days / d_in_y\n",
    "print(f\"{years:e} years\")"
   ]
  },
  {
   "cell_type": "markdown",
   "id": "7de3b25e-8b1e-4eb6-8aab-e13a56c71c6b",
   "metadata": {},
   "source": [
    "This number is still so big. To put some context, the estimated age of the universe is about **1.37e+10 years**. In other words, if you started this exploration at the same time of the Big Bang, your \"computer\" still would be exploring all possible trees. \n",
    "\n",
    "Consider that 1 billion of trees per nanosecond would require an incredible machine. To illustrate this check in the following code how long Python takes to create a list of 1 billion zeros. It is simply, exploring all possible trees if we have 30 tips is technologically impossible. "
   ]
  },
  {
   "cell_type": "code",
   "execution_count": 1,
   "id": "83dc1a85-d25e-4b0a-a560-2114fa7a80d0",
   "metadata": {},
   "outputs": [
    {
     "name": "stdout",
     "output_type": "stream",
     "text": [
      "19.7 s ± 228 ms per loop (mean ± std. dev. of 7 runs, 1 loop each)\n"
     ]
    }
   ],
   "source": [
    "%%timeit\n",
    "[0 for i in range(int(1e+9))]"
   ]
  },
  {
   "cell_type": "markdown",
   "id": "6004e7a6-2694-4de9-8d57-e0f12948c4c6",
   "metadata": {},
   "source": [
    "## Number of multifurcating trees (rooted and unrooted)\n",
    "\n",
    "The numbers we saw previously are not the maximum possible, considering other factors. For example, when we have a multifurcating tree, a tree of 4 tips with only two nodes, the number of possible trees will increase considerably. \n",
    "\n",
    "Enumerating this kind of tree is a little more complex than perfectly bifurcated trees, and we should consider the number of internal nodes that can also be variable (e.g., four-tips trees with 3, 2, and 1 node).\n",
    "\n",
    "Let's put the Felsenstein (2004) logic in a Python function and explore the results."
   ]
  },
  {
   "cell_type": "code",
   "execution_count": 10,
   "id": "9854df4a-aef2-45b8-a70c-200701c2afac",
   "metadata": {},
   "outputs": [],
   "source": [
    "import numpy as np\n",
    "def calculate_max_multifurcating_trees(n_tips: int, \n",
    "                                       n_internal_nodes: int = None, \n",
    "                                       rooted: bool = True):\n",
    "    \"\"\"Calculate the number of possible of multifurcating trees given  \n",
    "    a number of tips.\n",
    "    \"\"\"\n",
    "        \n",
    "    # reduce one possible tip in unrooted trees\n",
    "    if not rooted:\n",
    "        n_tips = n_tips - 1\n",
    "    \n",
    "    # calculate n_nodes to create matrix\n",
    "    n_nodes = n_tips - 1\n",
    "    \n",
    "    # create an empty numpy array to store the progressive results\n",
    "    matrix_ntrees = np.zeros(shape=(n_nodes + 1, n_tips + 1))\n",
    "   \n",
    "    # iterate over each n and each m\n",
    "    for m in range(1, n_nodes+1):\n",
    "        for n in range(2, n_tips+1):\n",
    "\n",
    "            # fill diagonal that is equal to the bifurcating trees\n",
    "            if m == n - 1:\n",
    "                matrix_ntrees[m, n] = calculate_max_bifurcating_trees(n)[0]\n",
    "\n",
    "            # if it is a different m than n-1, fill the multifurcating trees counts\n",
    "            else:\n",
    "                # m = 1 is an especial case because the number of trees is always 1\n",
    "                if m == 1:\n",
    "                    matrix_ntrees[m,n] = 1\n",
    "\n",
    "                # if not m =1 them apply the following formula\n",
    "                else: \n",
    "                    matrix_ntrees[m,n] = (n + m - 2) * matrix_ntrees[m-1, n-1] + m * matrix_ntrees[m, n-1]\n",
    "    \n",
    "    # if n_internal_nodes is passed get position in matrix that store n_tips and n_internal_nodes and store it as int\n",
    "    if n_internal_nodes:\n",
    "        result = int(matrix_ntrees[n_internal_nodes, n_tips])\n",
    "    else:\n",
    "        # get max multifurcating trees\n",
    "        result = int(np.sum(matrix_ntrees[:, n_tips]))\n",
    "    \n",
    "    return result, matrix_ntrees"
   ]
  },
  {
   "cell_type": "markdown",
   "id": "d34aa478-9b9b-4de8-9527-62d10970dd1e",
   "metadata": {},
   "source": [
    "We can see the expected number of trees considering multifurcation for a 5 tips rooted tree."
   ]
  },
  {
   "cell_type": "code",
   "execution_count": 126,
   "id": "dba97a17-a9cc-43b2-94cd-3e825bae782c",
   "metadata": {},
   "outputs": [
    {
     "data": {
      "text/plain": [
       "(236,\n",
       " array([[  0.,   0.,   0.,   0.,   0.,   0.],\n",
       "        [  0.,   0.,   1.,   1.,   1.,   1.],\n",
       "        [  0.,   0.,   0.,   3.,  10.,  25.],\n",
       "        [  0.,   0.,   0.,   0.,  15., 105.],\n",
       "        [  0.,   0.,   0.,   0.,   0., 105.]]))"
      ]
     },
     "execution_count": 126,
     "metadata": {},
     "output_type": "execute_result"
    }
   ],
   "source": [
    "calculate_max_multifurcating_trees(n_tips=5)"
   ]
  },
  {
   "cell_type": "markdown",
   "id": "09bfdf56-2fd1-4cab-b9f4-5b2cc0625175",
   "metadata": {},
   "source": [
    "Or unrooted tree"
   ]
  },
  {
   "cell_type": "code",
   "execution_count": null,
   "id": "1cc98c66-babf-4fe2-b855-50f6b7bc3e70",
   "metadata": {},
   "outputs": [],
   "source": [
    "calculate_max_multifurcating_trees(n_tips=5, rooted=False)"
   ]
  },
  {
   "cell_type": "markdown",
   "id": "d4617f8d-3915-4c90-8452-3a4dfd5d8a6d",
   "metadata": {},
   "source": [
    "Let's compare the numbers with the bifurcating trees for 10 tips:"
   ]
  },
  {
   "cell_type": "code",
   "execution_count": 11,
   "id": "bb90912e-4739-40fa-b35b-0d57264eae7e",
   "metadata": {},
   "outputs": [
    {
     "name": "stdout",
     "output_type": "stream",
     "text": [
      "34459425\n",
      "282137824\n"
     ]
    }
   ],
   "source": [
    "print(calculate_max_bifurcating_trees(10)[0])\n",
    "print(calculate_max_multifurcating_trees(n_tips=10)[0])"
   ]
  },
  {
   "cell_type": "markdown",
   "id": "56f4d647-4d42-40f3-8a87-5bee8a4df43e",
   "metadata": {},
   "source": [
    "## Number of shapes"
   ]
  },
  {
   "cell_type": "code",
   "execution_count": 187,
   "id": "60d29fd2-7799-48c2-8ab4-9bc3fefa493b",
   "metadata": {},
   "outputs": [
    {
     "data": {
      "text/plain": [
       "{0: 0,\n",
       " 1: 1,\n",
       " 2: 3.0,\n",
       " 3: 6.0,\n",
       " 4: 18.0,\n",
       " 5: 36.0,\n",
       " 6: 93.0,\n",
       " 7: 201.0,\n",
       " 8: 573.0,\n",
       " 9: 1221.0,\n",
       " 10: 3108.0,\n",
       " 11: 6456.0,\n",
       " 12: 17283.0}"
      ]
     },
     "execution_count": 187,
     "metadata": {},
     "output_type": "execute_result"
    }
   ],
   "source": [
    "# create a dictionary with the two known calculation \n",
    "S = {0: 0, 1: 1}\n",
    "\n",
    "n_tips = 12\n",
    "\n",
    "for n in range(2, n_tips + 1):\n",
    "    S[n] = S[n-1]\n",
    "    if n % 2 == 0:\n",
    "        #even\n",
    "        S[n] += S[1] * S[n-1] + S[n / 2] * (S[n / 2] + 1) / 2\n",
    "    else:\n",
    "        #odd\n",
    "        S[n] += S[(n - 1) / 2] * S[(n + 1) / 2]\n",
    "            \n",
    "\n",
    "S "
   ]
  },
  {
   "cell_type": "code",
   "execution_count": 184,
   "id": "eb79470b-d1b5-4251-957f-95d9f732e18a",
   "metadata": {},
   "outputs": [],
   "source": [
    "def a(n):\n",
    "    if n == 0:\n",
    "        return 0\n",
    "    elif n == 1:\n",
    "        return 1\n",
    "    elif n % 2 == 0:\n",
    "        return a(n / 2) * (a(n / 2) + 1) / 2\n",
    "    else:\n",
    "        return a((n - 1) / 2) * a((n + 1) / 2)\n",
    "\n",
    "\n",
    "\n"
   ]
  },
  {
   "cell_type": "code",
   "execution_count": 185,
   "id": "2758643f-fcfa-4831-8b3a-1ac17bf75715",
   "metadata": {},
   "outputs": [
    {
     "data": {
      "text/plain": [
       "1.0"
      ]
     },
     "execution_count": 185,
     "metadata": {},
     "output_type": "execute_result"
    }
   ],
   "source": [
    "p(10)"
   ]
  },
  {
   "cell_type": "code",
   "execution_count": 112,
   "id": "c9195484-d70b-48c8-8f8d-4c6801bab60c",
   "metadata": {},
   "outputs": [],
   "source": [
    "cache = {0: 0, 1: 1}\n",
    "\n",
    "def fibonacci_of(n):\n",
    "    if n in cache:  # Base case\n",
    "        return cache[n]\n",
    "    # Compute and cache the Fibonacci number\n",
    "    cache[n] = fibonacci_of(n - 1) + fibonacci_of(n - 2)  # Recursive case\n",
    "    return cache[n]\n",
    "\n"
   ]
  },
  {
   "cell_type": "code",
   "execution_count": 113,
   "id": "d22fb13f-d1fa-4671-a649-f4321a2c4154",
   "metadata": {},
   "outputs": [],
   "source": [
    "def fib(n):\n",
    "    a, b = 0, 1\n",
    "    for _ in range(n):\n",
    "        yield a\n",
    "        a, b = b, a + b"
   ]
  },
  {
   "cell_type": "code",
   "execution_count": 114,
   "id": "bff87aff-b2a6-49ca-bf6c-34c3d95047e5",
   "metadata": {},
   "outputs": [
    {
     "name": "stdout",
     "output_type": "stream",
     "text": [
      "8.94 µs ± 108 ns per loop (mean ± std. dev. of 7 runs, 100000 loops each)\n"
     ]
    }
   ],
   "source": [
    "%%timeit\n",
    "[fibonacci_of(n) for n in range(100)][-1]"
   ]
  },
  {
   "cell_type": "code",
   "execution_count": 115,
   "id": "9ca60bfe-4080-43fa-800b-7653eb2e000f",
   "metadata": {},
   "outputs": [
    {
     "name": "stdout",
     "output_type": "stream",
     "text": [
      "5.06 µs ± 10.7 ns per loop (mean ± std. dev. of 7 runs, 100000 loops each)\n"
     ]
    }
   ],
   "source": [
    "%%timeit\n",
    "list(fib(100))[-1]"
   ]
  },
  {
   "cell_type": "code",
   "execution_count": null,
   "id": "937d0e30-d36f-47d6-85d8-4dafaf2b82c1",
   "metadata": {},
   "outputs": [],
   "source": []
  },
  {
   "cell_type": "code",
   "execution_count": null,
   "id": "933d4ee8-b4e3-4070-a550-703f4520075f",
   "metadata": {},
   "outputs": [],
   "source": []
  },
  {
   "cell_type": "code",
   "execution_count": 188,
   "id": "8eb70066-3c6a-4410-8ad8-5b48e0aea399",
   "metadata": {},
   "outputs": [],
   "source": [
    "def fact(n):\n",
    "    if n == 0:\n",
    "        return 1\n",
    "    return n * fact(n - 1)"
   ]
  },
  {
   "cell_type": "code",
   "execution_count": 191,
   "id": "e9ccd5d8-903c-4561-b619-50d023d65f4b",
   "metadata": {},
   "outputs": [
    {
     "data": {
      "text/plain": [
       "6"
      ]
     },
     "execution_count": 191,
     "metadata": {},
     "output_type": "execute_result"
    }
   ],
   "source": [
    "fact(3)"
   ]
  }
 ],
 "metadata": {
  "kernelspec": {
   "display_name": "Python 3 (ipykernel)",
   "language": "python",
   "name": "python3"
  },
  "language_info": {
   "codemirror_mode": {
    "name": "ipython",
    "version": 3
   },
   "file_extension": ".py",
   "mimetype": "text/x-python",
   "name": "python",
   "nbconvert_exporter": "python",
   "pygments_lexer": "ipython3",
   "version": "3.8.10"
  }
 },
 "nbformat": 4,
 "nbformat_minor": 5
}
