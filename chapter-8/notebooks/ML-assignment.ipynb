{
 "cells": [
  {
   "cell_type": "markdown",
   "id": "f0448f9e",
   "metadata": {},
   "source": [
    "## Maximum likelihood assignment"
   ]
  },
  {
   "cell_type": "code",
   "execution_count": 1,
   "id": "158fdc7b",
   "metadata": {},
   "outputs": [],
   "source": [
    "import toytree\n",
    "import ipcoal\n",
    "import msprime"
   ]
  },
  {
   "cell_type": "code",
   "execution_count": 2,
   "id": "56f937b4",
   "metadata": {},
   "outputs": [],
   "source": [
    "# conda install raxml-ng phylip -c conda-forge -c bioconda"
   ]
  },
  {
   "cell_type": "markdown",
   "id": "be12952c",
   "metadata": {},
   "source": [
    "### Select a true tree on which to generate data\n",
    "\n",
    "Generate a random tree topology for any number of tips using functions from the `toytree.rtree` subpackage. The tree can be ultrametric or not, it is up to you. You can modify the total height, or specific edge lengths of the tree by using functions in the `toytree.mod` subpackage. **Set the heights to some non-default height, consider trying very long or very short.** Store the tree as a ToyTree object named `true_tree` and draw it with a scale bar. "
   ]
  },
  {
   "cell_type": "code",
   "execution_count": null,
   "id": "3f83afe2",
   "metadata": {},
   "outputs": [],
   "source": []
  },
  {
   "cell_type": "markdown",
   "id": "6e9a1ca1",
   "metadata": {},
   "source": [
    "### Simulate sequences on the true tree\n",
    "\n",
    "Simulate sequence data on your `true_tree` topology using `ipcoal`. For this, create two separate Model objects and simulated sequence datasets. The first should follow the assumptions similar to the previous notebook, where Ne and recombination rate are very small. This should lead to an accurately inferred tree. In the second dataset modify any parameters you like to try to make a more challenging dataset. (Tip: you can assign data to each Node of your tree as a feature named \"Ne\" using tree.set_node_data() to assign variable Ne values rather than use a fixed Ne argument.) You can use any substitution model that you like, or leave it at the default JC69. Make sure the amount of sequence data is sufficiently long that it is likely to contain sufficient variation to infer your tree. You can check this by examining the `Model.df` summary after simulating. \n"
   ]
  },
  {
   "cell_type": "code",
   "execution_count": null,
   "id": "60e7becf",
   "metadata": {},
   "outputs": [],
   "source": []
  },
  {
   "cell_type": "markdown",
   "id": "88c8f07d",
   "metadata": {},
   "source": [
    "### Writing sequence data to files\n",
    "\n",
    "Write the concatenated sequence data to a file in phylip format for each of your two Model objects. "
   ]
  },
  {
   "cell_type": "code",
   "execution_count": null,
   "id": "2eaa06e6",
   "metadata": {},
   "outputs": [],
   "source": []
  },
  {
   "cell_type": "markdown",
   "id": "4a2ad093",
   "metadata": {},
   "source": [
    "### Infer a ML tree with 100 bootstrap replicates using raxml\n",
    "Do this for both of your datasets using the `raxml-ng --all` method. "
   ]
  },
  {
   "cell_type": "code",
   "execution_count": null,
   "id": "e879508f",
   "metadata": {},
   "outputs": [],
   "source": []
  },
  {
   "cell_type": "markdown",
   "id": "60aa4bee",
   "metadata": {},
   "source": [
    "### Draw your inferred phylogenetic trees\n",
    "Use toytree to draw the inferred trees and show bootstrap support values. "
   ]
  },
  {
   "cell_type": "code",
   "execution_count": null,
   "id": "b748dc5f",
   "metadata": {},
   "outputs": [],
   "source": []
  },
  {
   "cell_type": "markdown",
   "id": "df2c789c",
   "metadata": {},
   "source": [
    "### Questions: \n",
    "\n",
    "- did both of your datasets recover the true tree topology and/or branch lengths?\n",
    "- how do you think the differences between your two tree/simulation datasets affected your results (e.g., which parameter affected edge lengths, or topology, or model parameters, etc.)?"
   ]
  },
  {
   "cell_type": "markdown",
   "id": "d19d7fe0",
   "metadata": {},
   "source": [
    "### Save this notebook: \n",
    "Go to `[File]/[Downlad as]/HTML` to save an HTML document of this notebook."
   ]
  }
 ],
 "metadata": {
  "kernelspec": {
   "display_name": "Python 3",
   "language": "python",
   "name": "python3"
  },
  "language_info": {
   "codemirror_mode": {
    "name": "ipython",
    "version": 3
   },
   "file_extension": ".py",
   "mimetype": "text/x-python",
   "name": "python",
   "nbconvert_exporter": "python",
   "pygments_lexer": "ipython3",
   "version": "3.9.7"
  }
 },
 "nbformat": 4,
 "nbformat_minor": 5
}
