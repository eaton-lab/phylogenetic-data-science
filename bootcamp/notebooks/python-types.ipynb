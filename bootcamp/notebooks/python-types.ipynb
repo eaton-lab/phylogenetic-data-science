{
 "cells": [
  {
   "cell_type": "markdown",
   "id": "c3a15a8a-fba4-4d08-89fb-da97722b4afe",
   "metadata": {},
   "source": [
    "# Diving into Python types"
   ]
  },
  {
   "cell_type": "markdown",
   "id": "82347f67-3be6-461e-bbb6-a07848c27348",
   "metadata": {},
   "source": [
    "An complete introduction to basic types in Python is outside of the scope of this textbook. If needed, I refer readers to the [official Python tutorial](https://docs.python.org/3/tutorial/), or this great [tutorial by Jake Vanderplas](https://jakevdp.github.io/WhirlwindTourOfPython/03-semantics-variables.html).\n",
    "Instead, this section will focus on describing differences among \n",
    "commonly used types and specifically why some types are used over others\n",
    "in certain situations. As this comes up in coding exercises in the \n",
    "textbook, this section will be referred back to."
   ]
  },
  {
   "cell_type": "markdown",
   "id": "bdeaf96c",
   "metadata": {},
   "source": [
    "### Standard types\n",
    "\n",
    "What do we mean by *types*?\n",
    "As a programming language, Python contains a set of core building blocks that are used to store and modify information to accomplish an amazing array of possible computational tasks. The most fundamental of these building blocks are the Python types. These are *objects* that can be created, with specific attributes and methods. You have seen several of these already. They include objects for storing boolean and numeric data, such as `bool`, `int` and `float`; objects for storing text data, such as `str` and `bytes`; objects for storing collections of objects, such as `list`, `tuple`; and hashed collections (more on this later), such as `set` and `dict`. \n",
    "\n",
    "Each of these can be created by using the type name as a constructor function, which will return the object that can then be stored as a variable. Or, there is also a shortcut syntax to creating each of these types, such as the use of square brackets to create a list. A few examples of creating objects using either approach are shown below."
   ]
  },
  {
   "cell_type": "code",
   "execution_count": null,
   "id": "7fd7fc61",
   "metadata": {},
   "outputs": [],
   "source": [
    "x = int(1)           # x is an integer\n",
    "x = str(\"hello\")     # x is a string\n",
    "x = list([1, 2, 3])  # x is a list"
   ]
  },
  {
   "cell_type": "code",
   "execution_count": null,
   "id": "b8e0f8e3",
   "metadata": {},
   "outputs": [],
   "source": [
    "x = 1                # x is an integer\n",
    "x = \"hello\"          # x is a string\n",
    "x = [1, 2, 3]        # x is a list"
   ]
  },
  {
   "cell_type": "markdown",
   "id": "7bb2bf3c",
   "metadata": {},
   "source": [
    "You can use the builtin method `type` to query an object's type. This will return one of the above types if it is one of the core Python type objects. The example below shows that this object is of the class type `int`. "
   ]
  },
  {
   "cell_type": "code",
   "execution_count": null,
   "id": "a2450baa",
   "metadata": {},
   "outputs": [],
   "source": [
    "# create an int object and return the type\n",
    "x = 3\n",
    "print(type(x))"
   ]
  },
  {
   "cell_type": "markdown",
   "id": "c93a5f4c",
   "metadata": {},
   "source": [
    "The `type` function can also return the type of custom objects. Everything in Python is an object, and in addition to the core object types, you can also create custom *classes*, which represent new object types. These are created in Python using the `Class` statement. A simple example is below; we will discuss the creation of custom class objects much more in a later tutorial. "
   ]
  },
  {
   "cell_type": "code",
   "execution_count": null,
   "id": "8cd36f7e",
   "metadata": {},
   "outputs": [],
   "source": [
    "# create a custom class object and return the type\n",
    "class CustomInt:\n",
    "    def __init__(self, value):\n",
    "        self.value = value\n",
    "    \n",
    "x = CustomInt(3)\n",
    "print(type(x))"
   ]
  },
  {
   "cell_type": "markdown",
   "id": "0882f952",
   "metadata": {},
   "source": [
    "I named this class `CustomInt` and it stores an integer. If we added more code to this class we could define additional methods and attributes of this class that operate on the integer data that it has stored. In this way, you can see that my custom class uses and relies on the existence of the `int` class. Similarly, you might be surprised to learn that `str` and `list` objects internally store data using a `dict` object. In fact, it turns out that all of the core Python objects rely on `dict`. This is the basis for a common saying, **everything in Python is a dictionary**. From this simple object all other core and custom objects can be created in Python. Pretty cool. We'll return to this later as we delve deeper into the design and construction of classes."
   ]
  },
  {
   "cell_type": "markdown",
   "id": "5df29fa2-e931-48e8-b800-82657674dc93",
   "metadata": {},
   "source": [
    "### Mutable versus Immutable\n",
    "\n",
    "An important concept in Python that differentiates several of the core object types, and which can be additionally applied to custom classes, is whether or not the object is *mutable*. If an object is mutable its values can be changed; it is immutable then its values cannot. \n",
    "\n",
    "Let's look at a simple example. Two popular ways of storing a collection of objects in Python is using either a `list` or `tuple`. The main difference is that Lists are mutable and Tuples are not. This means that elements can be replaced, added, or removed from lists, with the operation returning the same list, but modified. By contrast, the objects in a tuple are fixed, and can only be changed by creating a new tuple with a different collection of objects."
   ]
  },
  {
   "cell_type": "code",
   "execution_count": null,
   "id": "bc4c0efb-e1e0-41c4-a8a9-a5af45b97513",
   "metadata": {},
   "outputs": [],
   "source": [
    "# create a list, mutate the first element, and print.\n",
    "my_list = [1, 2, 'a', 'b', 'b', 0]\n",
    "my_list[0] = 'x' # note that here 1 is and string and not an numeric\n",
    "print(my_list)"
   ]
  },
  {
   "cell_type": "markdown",
   "id": "8b1d82b5-3117-4bdd-bd9c-908c2e503ae0",
   "metadata": {},
   "source": [
    "However, elements **CANNOT** be replaced, added, or removed from tuples. The example below will raise `TypeError`.\n"
   ]
  },
  {
   "cell_type": "code",
   "execution_count": null,
   "id": "f99e64e4-d0d9-45ac-9e6f-f1038bc47c3b",
   "metadata": {},
   "outputs": [],
   "source": [
    "my_tup = (1, 2, 'a', 'b', 'b', 0)\n",
    "my_tup[0] = '1' # raises a TypeError"
   ]
  },
  {
   "cell_type": "markdown",
   "id": "17329250-a590-4c65-9894-3677c9e6fc94",
   "metadata": {},
   "source": [
    "For this reason, tuples lack most of the methods that are found in the list, except for `index` and `count`. Using tab-completion in a notebook you can see that list objects have many more methods available to them than tuples do, because there isn't all that much you can do with immutable objects. Many of the methods available to a `list` are intended for storing elements that COULD be updated in future instructions."
   ]
  },
  {
   "cell_type": "code",
   "execution_count": null,
   "id": "93a7c02c-76dc-4a2e-83e1-0113e4ddf0a6",
   "metadata": {},
   "outputs": [],
   "source": [
    "my_list = [1, 2, 'a', 'b', 'b', 0]\n",
    "my_list.remove('a') # remove a specific element from the list\n",
    "my_list.append('c') # append a new element at the end of the list\n",
    "my_list.insert(1, \"n\") # insert a new element in the index 1, moving all elements one index\n",
    "print(my_list)"
   ]
  },
  {
   "cell_type": "markdown",
   "id": "31a2f376-86ba-4549-b212-bfeb7a364b5f",
   "metadata": {},
   "source": [
    "So why do tuples even exist? There are several reasons. First off, the lack of mutation methods in tuples make them a \"lighter\" type than a list (in terms of bytes), because they need to store less information about their contents. Below we use a function from the Python standard library module `sys` to measure the size of each object in memory in number of bytes."
   ]
  },
  {
   "cell_type": "code",
   "execution_count": null,
   "id": "db01d255-9e51-4581-b2e3-336b3a795cda",
   "metadata": {},
   "outputs": [],
   "source": [
    "from sys import getsizeof \n",
    "\n",
    "my_list = [1, 2, 3, 4, 5, 6]\n",
    "my_tup = (1, 2, 3, 4, 5, 6)\n",
    "\n",
    "print(f\"Size of my_list: {getsizeof(my_list)} bytes\")\n",
    "print(f\"Size of my_tup: {getsizeof(my_tup)} bytes\")"
   ]
  },
  {
   "cell_type": "markdown",
   "id": "74dd95f5-8187-4343-8a0d-87e84c16faf1",
   "metadata": {},
   "source": [
    "This characteristic of tuples and their immutability makes them suitable for other uses.\n",
    "They work perfectly to maintain the integrity of a list of elements that you do not\n",
    "want to modify, reducing conflicts with other parts of your code. This is particularly beneficial if you are storing designing a custom class object and storing data in an attribute that you *do not want to allow users to modify*. It easily enforces this constraint. Because they are lighter, they are the best option in big projects (or big lists)\n",
    "in terms of reducing running times and memory optimization.\n",
    "Finally, another important feature of tuples is that they are *hashable*. This feature will be explored in the following section about hashing, sets, and dictionaries. \n",
    "\n",
    "In summary, if your list of elements will be static once you create it, it is recommended to use `tuple` instead of a `list`.\n",
    "\n",
    "**Additional note**: Some implicit declarations in Python can be tricky. \n",
    "For example, the following code will result in a tuple of one element \n",
    "instead of a variable storing a string."
   ]
  },
  {
   "cell_type": "code",
   "execution_count": null,
   "id": "bd2594fc-a27b-4725-8be6-8f0ce6c284f0",
   "metadata": {},
   "outputs": [],
   "source": [
    "var = \"anything\", # note the trailing comma\n",
    "print(type(var))"
   ]
  },
  {
   "cell_type": "markdown",
   "id": "5b9bec38",
   "metadata": {},
   "source": [
    "## Hashing, Sets and Dictionaries\n",
    "\n",
    "Following from our earlier anecdote that \"everything in Python is a dictionary\", you might expect that dictionaries are a particularly powerful and useful object type, and that is definitely true. And the reason for this is *hashing*. \n",
    "\n",
    "This is a process by which any immutable object in Python can be represented by a number in a table, which then acts a pointer to the place in memory where that item exists. Once it is represented by a number we can easily find it to ask if it exists, since its in an ordered table, and we can quickly perform several types of operations, such as asking whether the number is the same as another number. This is the way in which hash tables can turn complex questions (is this object the same as that object) into a simple question, is this number the same as that number. This simplification comes with enormous speed benefits.\n"
   ]
  },
  {
   "cell_type": "code",
   "execution_count": null,
   "id": "d565d900-610a-4cf5-9045-2a070351c153",
   "metadata": {},
   "outputs": [],
   "source": [
    "# an example, the hash function returns a number for a string object\n",
    "hash(\"anything\")"
   ]
  },
  {
   "cell_type": "markdown",
   "id": "eb0e7b26",
   "metadata": {},
   "source": [
    "\n",
    "Two core object types in Python that use hashing are `set` and `dict`. Both are declared using `{}` (curly brackets), but they are intended for different purposes. A `set` will store objects which are hashed, whereas a `dict` will store *keys* which are hashed, which act as pointers to other objects, termed *values*.\n",
    "\n",
    "Fully understanding hash algorithms is complex. But understanding that operations that use hash algorithms are fast is an important lesson. In general, you should prefer the use of `dict` and `set` objects, which use hashing, as the fastest method for working with collections of data from which you want to mutate, index, or compare elements. \n",
    "\n",
    "\n",
    "You should be aware that not all types of data can be hashed, and this limits what type of data can be used inside of `set` or `dict` objects. \n",
    "Specifically, mutable objects, or objects that contain mutable objects, cannot be hashed (trying will raise a TypeError). This means mutable objects cannot be stored inside a `set`, and they cannot be used keys of a `dict`. "
   ]
  },
  {
   "cell_type": "code",
   "execution_count": null,
   "id": "f0ea5659-2fe6-4c24-b8d4-7956fd08495d",
   "metadata": {},
   "outputs": [],
   "source": [
    "# try to hash a mutable object (list) raises a TypeError\n",
    "hash([1, 2, 3])"
   ]
  },
  {
   "cell_type": "markdown",
   "id": "56809028",
   "metadata": {},
   "source": [
    "### Dictionaries\n",
    "\n",
    "Dictionaries are also a useful type that provides a structured way of storing data (`value`) by associated it with an identifier (`key`), which can be hashed. The processing time to perform a search for a key in a dictionary is one of the fastest things you can do in Python. It is simply a query to a hash table (See Performance section below.)\n",
    "\n",
    "One of the ways to define a dictionary is using `{}` to enclose one or more keys and their values. Keys must be pointed to their values using a `:` separator. You can also create a dictionary using the `dict` function by entering keys as arguments assigned to values. Any object can be stored as values in a dictionary, but keys must be immutable."
   ]
  },
  {
   "cell_type": "code",
   "execution_count": null,
   "id": "ca320668",
   "metadata": {},
   "outputs": [],
   "source": [
    "# using curly brackets to create a dict\n",
    "my_dict = {'a': 1, 'b': 2}\n",
    "print(my_dict)"
   ]
  },
  {
   "cell_type": "code",
   "execution_count": null,
   "id": "bc6141c5",
   "metadata": {},
   "outputs": [],
   "source": [
    "# using the `dict` function to create a dict\n",
    "my_dict = dict(a=1, b=2)\n",
    "print(my_dict)"
   ]
  },
  {
   "cell_type": "code",
   "execution_count": null,
   "id": "1b250f45",
   "metadata": {},
   "outputs": [],
   "source": [
    "# many different types of values\n",
    "my_dict = {\n",
    "    'key1': 'A',\n",
    "    '2': 1,\n",
    "    'three': [0,1,2,3],\n",
    "    4: 1, # opposite to keys, values can be duplicated in a dictionary\n",
    "    'key5': {\"inner_key1\": 33, \"inner_key2\": 66} # little dict inside a dict\n",
    "}"
   ]
  },
  {
   "cell_type": "markdown",
   "id": "15d89b05",
   "metadata": {},
   "source": [
    "Dictionaries do not allow duplicated keys in the same way that sets do; nevertheless, Python does not return it as an error. Instead, it updates the previous value for a given key, as shown in the following code."
   ]
  },
  {
   "cell_type": "code",
   "execution_count": null,
   "id": "28d0e91b",
   "metadata": {},
   "outputs": [],
   "source": [
    "my_dict = {\n",
    "    'key1': (9,5,6),\n",
    "    'key1': 1,\n",
    "    'key1': 'Last' # this is the value that maintain under the key1\n",
    "}\n",
    "\n",
    "my_dict"
   ]
  },
  {
   "cell_type": "markdown",
   "id": "74e52609",
   "metadata": {},
   "source": [
    "Keys in a `dict` must be a hashable type; for that reason, a `list` cannot be a key in a dictionary (it can be a value though). However, as mentioned before, tuples are hashable, and so tuples are the best replacement when you wish to store a type of collection as a key in a dictionary."
   ]
  },
  {
   "cell_type": "code",
   "execution_count": null,
   "id": "7ae8df9b",
   "metadata": {},
   "outputs": [],
   "source": [
    "dict_a = {\n",
    "    (1,2,3): 'Success',\n",
    "}\n",
    "\n",
    "dict_a"
   ]
  },
  {
   "cell_type": "code",
   "execution_count": null,
   "id": "bbc786c0",
   "metadata": {},
   "outputs": [],
   "source": [
    "dict_b = {\n",
    "    [1,2,3]: 'Failure'  # raises a TypeError\n",
    "}"
   ]
  },
  {
   "cell_type": "markdown",
   "id": "46abe26d",
   "metadata": {},
   "source": [
    "One of the great potentials of dictionaries is their accessibility (speed and simplicity). To access a given `value` in a dictionary, you can `index` its `key` object by entering it using square brackets, like below. Another option is to use the `.get` method function of dictionaries. "
   ]
  },
  {
   "cell_type": "code",
   "execution_count": null,
   "id": "a034fdd3",
   "metadata": {},
   "outputs": [],
   "source": [
    "# get value by indexing with key\n",
    "my_dict['key1']"
   ]
  },
  {
   "cell_type": "code",
   "execution_count": null,
   "id": "24d8b2be",
   "metadata": {},
   "outputs": [],
   "source": [
    "# get value by querying with .get function\n",
    "my_dict.get(\"key1\")"
   ]
  },
  {
   "cell_type": "markdown",
   "id": "58f9fbcc",
   "metadata": {},
   "source": [
    "In the same way as other types discussed in this document, dictionaries have multiple other methods to perform some operations. For example, using the method `keys()`, you can get all the keys inside a given `dict`, and similar, `.items()` returns tuples of (key, value) pairs. "
   ]
  },
  {
   "cell_type": "code",
   "execution_count": null,
   "id": "f79b2882",
   "metadata": {},
   "outputs": [],
   "source": [
    "my_dict.keys()"
   ]
  },
  {
   "cell_type": "code",
   "execution_count": null,
   "id": "a6e4f70f",
   "metadata": {},
   "outputs": [],
   "source": [
    "my_dict.items()"
   ]
  },
  {
   "cell_type": "markdown",
   "id": "5609c8b7-e294-43a2-81d4-d3ca0b8e71ef",
   "metadata": {},
   "source": [
    "### Sets\n",
    "Sets are similar to lists, and are mutable; however, sets are \n",
    "unordered, and DO NOT store duplicated values. Similar to dictionaries, sets store data using a hash table, where each item is mapped to a unique number. Unlike a dictionary, the items in a set (similar to the keys of a dict) are not used to fetch other items. Instead, the main purpose of sets is for *comparing* collections of objects.\n",
    "\n",
    "Let's think again about hashing. Each item is mapped to a unique number (hash) in a hash table. This makes it a super efficient method for *comparing* objects, by asking whether their items are identical, or if they are subsets of each other, or which items are unique. Each of these queries simply involves getting the hash numbers and then asking whether the numbers are the same or not.\n",
    "\n",
    "Sets can be created using curly brackets or the `set` function. A key feature is that they only store unique objects, duplicates are excluded. "
   ]
  },
  {
   "cell_type": "code",
   "execution_count": null,
   "id": "ae158b01",
   "metadata": {},
   "outputs": [],
   "source": [
    "# create a set using curly brackets or set()\n",
    "my_set = {1, 2, 3, 4}\n",
    "my_set = set([1, 2, 3, 4])"
   ]
  },
  {
   "cell_type": "code",
   "execution_count": null,
   "id": "7cc2b4a0-d88b-4638-bbe5-2d2e8702251d",
   "metadata": {},
   "outputs": [],
   "source": [
    "# sets store only unique values (only one 'b' will be stored)\n",
    "my_set = {1, 2, 'a', 'b', 'b', 0}\n",
    "my_set"
   ]
  },
  {
   "cell_type": "markdown",
   "id": "a8f5f79f",
   "metadata": {},
   "source": [
    "The order of objects in a set is arbitrary, but when printed will display in a sorted order. However, comparison methods on sets ask about the overlap in their contents, and not their order. The example below reports that the two sets contain the same items, and so the `==` operator return True. Set objects include several functions for performing comparisons, and similarly Python operators (e.g., `-`, `|`), can be used to compare sets in a syntax similar to mathematical notation. "
   ]
  },
  {
   "cell_type": "code",
   "execution_count": null,
   "id": "bb9d19cf",
   "metadata": {},
   "outputs": [],
   "source": [
    "# are they equal? The order of objects in a set does not matter, \n",
    "{\"a\", \"b\"} == {\"b\", \"a\"}"
   ]
  },
  {
   "cell_type": "code",
   "execution_count": null,
   "id": "71085962",
   "metadata": {},
   "outputs": [],
   "source": [
    "# is one subset of the other?\n",
    "my_set1 = {\"a\", \"b\"}\n",
    "my_set2 = {\"b\", \"a\"}\n",
    "my_set1.issubset(my_set2)"
   ]
  },
  {
   "cell_type": "code",
   "execution_count": null,
   "id": "dfded116",
   "metadata": {},
   "outputs": [],
   "source": [
    "my_set1 = {\"a\", \"b\", \"c\"}\n",
    "my_set2 = {\"c\", \"d\"}\n",
    "\n",
    "# which items are unique to set1\n",
    "print(my_set1 - my_set2)\n",
    "print(my_set1.difference(my_set2))"
   ]
  },
  {
   "cell_type": "code",
   "execution_count": null,
   "id": "06d85c7e",
   "metadata": {},
   "outputs": [],
   "source": [
    "my_set1 = {\"a\", \"b\", \"c\"}\n",
    "my_set2 = {\"c\", \"d\"}\n",
    "\n",
    "# which items are not shared\n",
    "print(my_set1 ^ my_set2)\n",
    "print(my_set1.symmetric_difference(my_set2))"
   ]
  },
  {
   "cell_type": "markdown",
   "id": "414dca8a-3907-4a1e-bce9-9ed8fef6ca9f",
   "metadata": {},
   "source": [
    "Similar to lists, sets have multiple methods for replacing, adding or removing elements. "
   ]
  },
  {
   "cell_type": "code",
   "execution_count": null,
   "id": "08da66b3-87db-4188-aeee-510e03d3bac5",
   "metadata": {},
   "outputs": [],
   "source": [
    "my_set = {\"a\", \"b\", \"c\"}\n",
    "my_set.remove('a')\n",
    "my_set.add('c')\n",
    "my_set"
   ]
  },
  {
   "cell_type": "markdown",
   "id": "c31b91b9-7e9b-41ae-9859-323e40d13c65",
   "metadata": {},
   "source": [
    "### Performance of hashing\n",
    "\n",
    "As discussed before, hashing is *fast*. As a demonstration let's compare the performance of some operations in a collection of data. Let's calculate how long Python takes to find an element in a long `list`, `tuple`, `set` or `dict`? Below we create an object containing 100K integers for each of these object types. "
   ]
  },
  {
   "cell_type": "code",
   "execution_count": null,
   "id": "ade8f6aa-86c2-4413-b88a-6ba462681f58",
   "metadata": {},
   "outputs": [],
   "source": [
    "# create a list \n",
    "long_list = list(range(100000)) # this is a different way to declare a list, using the function list()\n",
    "\n",
    "# create a tuple \n",
    "long_tuple = tuple(long_list) # same as list, tuples can be declared with the function tuple()\n",
    "\n",
    "# create a set\n",
    "long_set = set(long_list) \n",
    "\n",
    "# create a dict\n",
    "long_dict = dict(zip(range(100000), range(100000)))"
   ]
  },
  {
   "cell_type": "markdown",
   "id": "c2d4c018",
   "metadata": {},
   "source": [
    "To measure performance here we use a feature of jupyter/IPython called a *magic function*. The `%%timeit` header in the cell below will tell the cell to run many thousands of times and to report back, how long it took to run each iteration on average. This is an easy to way to compare the speed of different operations, and to find an optimal solution.\n",
    "\n",
    "The operation we perform in each of the cells below is to ask `X in Y`: is this object in that collection. This will return True or False. In all cases the answer is True, because of each of these objects contains the integer. However, the cells below will return the time it takes to perform the operation, rather than the solution to the query. \n",
    "\n",
    "As you can see, the query on `set` and `dict` were similar, and about 20X faster than the same operation in `list` or `tuple`. Furthermore, the speed of the hashed operation will remain the same *no matter how large the dictionary or set is*, whereas the operation on the list or tuple would become slower if the collection were larger. This demonstrates the utility of using hashed object types."
   ]
  },
  {
   "cell_type": "code",
   "execution_count": null,
   "id": "b95902fe-218d-45cd-a417-0126434fd1a1",
   "metadata": {},
   "outputs": [],
   "source": [
    "%%timeit\n",
    "99999 in long_list"
   ]
  },
  {
   "cell_type": "code",
   "execution_count": null,
   "id": "f4f164ba-a00b-4d72-89bb-d7c4ddf47149",
   "metadata": {},
   "outputs": [],
   "source": [
    "%%timeit \n",
    "99999 in long_tuple"
   ]
  },
  {
   "cell_type": "code",
   "execution_count": null,
   "id": "7f6ba00e-6d11-49f3-8b1c-2bdfd2301556",
   "metadata": {},
   "outputs": [],
   "source": [
    "%%timeit \n",
    "99999 in long_set"
   ]
  },
  {
   "cell_type": "code",
   "execution_count": null,
   "id": "6c86ae51",
   "metadata": {},
   "outputs": [],
   "source": [
    "%%timeit \n",
    "99999 in long_dict"
   ]
  },
  {
   "cell_type": "markdown",
   "id": "fa7637fd-8be6-4d72-a7b9-04084c108b86",
   "metadata": {
    "tags": []
   },
   "source": [
    "## Arrays and DataFrames (non-native data types)\n",
    "There is a lot of ways to store data in Python; some of them came from third-party libraries. This means that they are not available with pure Python installation. Due to their efficiency and variety of included methods, two of the most popular data types are Arrays and DataFrames, which are available, respectively, in two of the most popular third-party libraries for doing data science in Python: numpy and pandas.\n",
    "\n",
    "### Arrays\n",
    "Numpy Arrays (also referred to as ndarrays) are included in the library [NumPy](https://numpy.org/). This library adds support to Python to manage very large and multidimensional arrays and multiple mathematical functions useful to operate on this type. This data type is highly efficient in terms of memory and running times. Arrays may be variable in the number of dimensions, form 1D-array, similar to a `list`; 2D-array, similar to a matrix or table; to a high n-dimensional array.\n",
    "\n",
    "In contrast to other data types explored in this document, NumPy arrays are homogenous (e.g., strings and integer cannot be in the same collection), being limited in the data you can store in a given array. Nonetheless, this does not mean that arrays cannot keep some type of data. On the contrary, Numpy arrays can store a wide variety of data types. As you may expect, some of the handy functions included in this library are limited by the type of data stored inside each array.\n",
    "\n",
    "The following code shows how to create a 1D-array with NumPy."
   ]
  },
  {
   "cell_type": "code",
   "execution_count": null,
   "id": "4e08e343-8333-4b62-aa63-44bfe26edf6d",
   "metadata": {},
   "outputs": [],
   "source": [
    "import numpy as np\n",
    "\n",
    "my_arr = np.array([1, 2, 3, 4, 5])\n",
    "my_arr"
   ]
  },
  {
   "cell_type": "markdown",
   "id": "34bf7095-bfdc-4239-a0db-753e6e45958a",
   "metadata": {},
   "source": [
    "In our previous example, all elements in our input list are integer; nonetheless, if one of the elements is a different type (string, float, etc.), NumPy will try to perform an automatic transformation to homogenize all elements inside the array."
   ]
  },
  {
   "cell_type": "code",
   "execution_count": null,
   "id": "7b9b67c3-e5cf-4633-8d12-dfa4550c34c4",
   "metadata": {},
   "outputs": [],
   "source": [
    "homogenized_arr = np.array([1, 2, 'string', 4, 5])\n",
    "homogenized_arr # note in this array, all integers are now strings"
   ]
  },
  {
   "cell_type": "code",
   "execution_count": null,
   "id": "06bad893-0715-4075-a1d7-f6dd6e02e0ce",
   "metadata": {},
   "outputs": [],
   "source": [
    "homogenized_arr = np.array([1, 2, 3.2, 4, 5])\n",
    "homogenized_arr # same happens here where NumPy convert all integers into floats"
   ]
  },
  {
   "cell_type": "markdown",
   "id": "91cb6173-b6ff-4a8d-8328-ce378ee525e6",
   "metadata": {},
   "source": [
    "As we mentioned above, arrays can be multidimensional. Below is how a 2D-array can be declared. The exact usage of indentation can vary depending on your preference, and is a stylistic choice that does not affect the outcome."
   ]
  },
  {
   "cell_type": "code",
   "execution_count": null,
   "id": "b982471b-4ff1-49d7-b4b4-c9352a4871a0",
   "metadata": {},
   "outputs": [],
   "source": [
    "# align indentation at function opening\n",
    "my_2darr = np.array([[1, 2],\n",
    "                    [1, 3],\n",
    "                    [1, 1]])"
   ]
  },
  {
   "cell_type": "code",
   "execution_count": null,
   "id": "cc129624",
   "metadata": {},
   "outputs": [],
   "source": [
    "# or, align indentation using 1 indent\n",
    "my_2darr = np.array([\n",
    "    [1, 2],\n",
    "    [1, 3],\n",
    "    [1, 1],\n",
    "])"
   ]
  },
  {
   "cell_type": "markdown",
   "id": "d26b9df9-00e4-44ee-8d7d-5e3b6854530a",
   "metadata": {},
   "source": [
    "Functions included in this library are very powerful and can perform operations on individual cells of an array, over entire rows or columns, or over every element in an array. The latter operations, which affect multiple cells of the array are super efficient, using code that internally that is written in compiled languages (C or Fortran). Thus, in contrast to many standard Python coding routines, such as using for-loops, operating over many elements of a numpy array can be done at the much faster speed of compiled languages. This is type of operation which uses compiled code to operate over arrays is called *broadcasting*. "
   ]
  },
  {
   "cell_type": "code",
   "execution_count": null,
   "id": "2539bdb3-806c-4cc1-8655-43bca271ae03",
   "metadata": {},
   "outputs": [],
   "source": [
    "original_arr = np.array([[0, 0, 0],\n",
    "                        [2, 0, 3]])\n",
    "\n",
    "print(original_arr + 100)       # add 100 to every cell of the 2D-array using broadcasting"
   ]
  },
  {
   "cell_type": "markdown",
   "id": "1ad39c39-392d-4544-b677-c202f8bef975",
   "metadata": {},
   "source": [
    "Some of those functions handle matrix operations efficiently. For example, the two arrays below can be summed cell-by-cell using either the `+` operator, or the numpy function call."
   ]
  },
  {
   "cell_type": "code",
   "execution_count": null,
   "id": "813eb48c",
   "metadata": {},
   "outputs": [],
   "source": [
    "arr1 = np.array([[0, 0, 1],\n",
    "               [3, 1, 2],\n",
    "               [1, 0, 1]])\n",
    "\n",
    "arr2 = np.array([[1, 1, 1],\n",
    "               [1, 3, 2],\n",
    "               [0, 1, 1]])"
   ]
  },
  {
   "cell_type": "code",
   "execution_count": null,
   "id": "42472cea-0bf1-4698-9743-565e5699dec9",
   "metadata": {},
   "outputs": [],
   "source": [
    "np.add(arr1, arr2)"
   ]
  },
  {
   "cell_type": "code",
   "execution_count": null,
   "id": "97c89d07",
   "metadata": {},
   "outputs": [],
   "source": [
    "arr1 + arr2"
   ]
  },
  {
   "cell_type": "markdown",
   "id": "a81f2055-b398-4b74-b98d-b100008b94d8",
   "metadata": {},
   "source": [
    "There is a vast amount of functions in this library. Understanding all of them is out of this course's scope, but it is helpful to be familiar with the documentation to know the potential of this data type."
   ]
  },
  {
   "cell_type": "markdown",
   "id": "709f0354-eb39-46ff-b88a-645399931e75",
   "metadata": {},
   "source": [
    "**Additional note**: You should know that a data type can be found natively in Python in the [module `array`](https://docs.python.org/3.8/library/array.html). This data type is intended to compactly store arrays of numeric values by encoding them accordingly to its values characteristics. It shares some attributes with NumPy arrays but lacks some functionalities found in the latter. \n",
    "\n",
    "The word array can be tricky, not only in Python but also in other programming languages. Some of them are simple lists, but for others they share some characteristics described above in the NumPy definition. \n",
    "\n",
    "The following is an example of array definition in the native Python module. "
   ]
  },
  {
   "cell_type": "code",
   "execution_count": null,
   "id": "2f3a0bf2-4b57-4ff4-8c42-7ada991a2fc4",
   "metadata": {},
   "outputs": [],
   "source": [
    "import array\n",
    "native_array = array.array('d', [1.0, 2.0, 3.14]) # d is the type of value, being double in this case"
   ]
  },
  {
   "cell_type": "markdown",
   "id": "1f7e2916-58b4-4e38-8c98-1d7385681889",
   "metadata": {
    "tags": []
   },
   "source": [
    "### DataFrames\n",
    "Similar to the previous data type, **DataFrames** are a specific type of data included in the library [Pandas](https://pandas.pydata.org/). This library provides a powerful and highly performant data structure and includes useful functions for manipulating numerical tables and data series. Tables are composed of columns and rows, and every cell is indexed. \n",
    "\n",
    "DataFrames has some benefits over other data types described in this document. Their structure allows an easy interpretation and reduces abstraction by allowing labeling axes (row and columns). They are much easier to read and understand than lists or arrays.\n",
    "\n",
    "There are multiple ways to create a DataFrame; one of the most common is using a `dict` where `keys` are the column names and a list in its `value` is the data located in each cell. "
   ]
  },
  {
   "cell_type": "code",
   "execution_count": null,
   "id": "9b96f533-6f7a-41ab-a41a-572482b832a0",
   "metadata": {},
   "outputs": [],
   "source": [
    "import pandas as pd\n",
    "dict1 = {\n",
    "    'Column+one': ['A', 'B', 'C', 'D', 'E', 'F'],\n",
    "    'Column_2': ['s', 't', 'r', 'i', 'n', 'g'],\n",
    "    'Column*3': [1, 2, 3, 4, 4, 3],\n",
    "}\n",
    "  \n",
    "my_df = pd.DataFrame(dict1) # creates the dataframe from our dictionary\n",
    "\n",
    "my_df"
   ]
  },
  {
   "cell_type": "markdown",
   "id": "93477d0f-a626-45eb-b87f-98971cf67512",
   "metadata": {},
   "source": [
    "Jupyter notebooks have a very clear and appealing graphical representation of DataFrames, favoring the reduction of the abstraction needed to operate some tables."
   ]
  },
  {
   "cell_type": "code",
   "execution_count": null,
   "id": "a9da18c6-3c24-4e36-9ced-966fab2300b0",
   "metadata": {},
   "outputs": [],
   "source": [
    "list_of_lists = [['E','n', 4],['F', 'g', 3]]\n",
    "\n",
    "my_df2 = pd.DataFrame(list_of_lists, columns=['Column+one', 'Column_2', 'Column*3']) # creates a dataframe from a list\n",
    "\n",
    "pd.concat([my_df, my_df2]) # concatenate both dataframes"
   ]
  },
  {
   "cell_type": "markdown",
   "id": "23ad48c5-6ed4-4adc-b83b-7d050dd5c1dc",
   "metadata": {},
   "source": [
    "In the same way as NumPy arrays, the whole Pandas module includes a multitude of functions, methods, and properties for managing data in very efficient ways. However, exploring all of them is not the main scope of this unit. "
   ]
  }
 ],
 "metadata": {
  "kernelspec": {
   "display_name": "Python 3 (ipykernel)",
   "language": "python",
   "name": "python3"
  },
  "language_info": {
   "codemirror_mode": {
    "name": "ipython",
    "version": 3
   },
   "file_extension": ".py",
   "mimetype": "text/x-python",
   "name": "python",
   "nbconvert_exporter": "python",
   "pygments_lexer": "ipython3",
   "version": "3.8.10"
  }
 },
 "nbformat": 4,
 "nbformat_minor": 5
}
