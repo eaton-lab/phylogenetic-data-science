{
 "cells": [
  {
   "cell_type": "markdown",
   "id": "f597614c-c603-48df-93a1-1f066780a15a",
   "metadata": {},
   "source": [
    "# Python classes"
   ]
  },
  {
   "cell_type": "markdown",
   "id": "178fedf0-4a46-4a56-883f-338660d96d84",
   "metadata": {},
   "source": [
    "Python is an object-oriented programming (OOP) language in which everything is based on objects. Every object can contain its own attributes (any type of data related to itself, either static or variable) and methods (any function that the object can perform). For example, as we saw before, a `list` is an object in Python, and it contains methods (such as `index`, `count`, `add`) that permit access or modify the information it has.\n",
    "\n",
    "Classes are like an object constructor plan; they contain the instructions, properties, and methods we want to maintain in each object produced (instances). \n",
    "\n",
    "Creating custom classes is not fundamental to write a Python program. It is possible to write an entire program without using them. They are a design choice. Nonetheless, by implementing custom classes in your code, you will be able to write a more organized code and easier to use. Big projects may become unmanageable without the proper use of classes.\n",
    "\n",
    "Custom classes allow developers to define their own objects, entities containing valuable information that can be used by the object or by other parts of the program. In the following code snippets, we will learn how to define a class and show an example of the object it can produce."
   ]
  },
  {
   "cell_type": "markdown",
   "id": "2345f4a1-96df-4c6f-aad0-d5fdddcb480d",
   "metadata": {},
   "source": [
    "## Defining classes\n",
    "To define a class, we need to use the keyword `class` followed by the name. Some styling guidelines suggest that class names should follow CapWords convention (e.g., Box, BoxCreator, ClosedBoxCreator)."
   ]
  },
  {
   "cell_type": "code",
   "execution_count": null,
   "id": "96e4656e-4528-438e-837e-b6855f11a6a9",
   "metadata": {},
   "outputs": [],
   "source": [
    "# Dot class definition (blueprint for creating dots)\n",
    "# In this case we used the statement `pass` considering it an empty class\n",
    "class Dot:\n",
    "    pass"
   ]
  },
  {
   "cell_type": "markdown",
   "id": "529722c8-615a-446d-be4f-f0ee31296d9e",
   "metadata": {},
   "source": [
    "With this class `Dot`, we can create an `object`. In this case, this is an empty object because it does not have any attribute or method."
   ]
  },
  {
   "cell_type": "code",
   "execution_count": null,
   "id": "b0a87684-db45-4d3c-9cfe-e7b8ff3b5bf4",
   "metadata": {},
   "outputs": [],
   "source": [
    "# Creating a dot object (an actual dot)\n",
    "dot_obj = Dot()"
   ]
  },
  {
   "cell_type": "markdown",
   "id": "505f5445-2140-48bc-9e2a-0b5820391d6b",
   "metadata": {},
   "source": [
    "You can create multiple objects. Each one will be a separate instance and will not be linked with another object of this class; they are even allocated in different parts of the memory. You can verify it when you print the object."
   ]
  },
  {
   "cell_type": "code",
   "execution_count": null,
   "id": "a673c246-4e34-4515-9f3b-5c491d328af2",
   "metadata": {},
   "outputs": [],
   "source": [
    "dot_obj2= Dot()\n",
    "dot_obj3 = Dot()\n",
    "\n",
    "print(dot_obj2)\n",
    "print(dot_obj3)"
   ]
  },
  {
   "cell_type": "markdown",
   "id": "dab6db26-7e07-4b12-88c2-41832871bdf6",
   "metadata": {},
   "source": [
    "Even being an empty object, it can be useful as a container and can store data as an attribute. If you set an attribute in this way, it will be only available for that object and not other objects you create with your class. \n",
    "\n",
    "For example:"
   ]
  },
  {
   "cell_type": "code",
   "execution_count": null,
   "id": "e47cc466-a374-4474-89eb-4fef158868b2",
   "metadata": {},
   "outputs": [],
   "source": [
    "# storing 22 as an attribute named size in this particular object\n",
    "dot_obj2.size = 22\n",
    "\n",
    "print(dot_obj2.size)"
   ]
  },
  {
   "cell_type": "markdown",
   "id": "01076e07-698a-4952-a923-72a896b1fc8f",
   "metadata": {},
   "source": [
    "The attribute we just added to our previous object will not be declared in other objects. As we mentioned before, they are not linked."
   ]
  },
  {
   "cell_type": "code",
   "execution_count": null,
   "id": "0113a3a6-d5a9-4c2e-bc2e-4ed8db6a09cd",
   "metadata": {},
   "outputs": [],
   "source": [
    "print(dot_obj3.size)"
   ]
  },
  {
   "cell_type": "markdown",
   "id": "93e6ace6-7825-41c4-ad32-ebdc182176d5",
   "metadata": {},
   "source": [
    "## `__init__` method and `self` argument"
   ]
  },
  {
   "cell_type": "markdown",
   "id": "4a71cd73-a5c3-45b9-a4e8-e07aa5dd0bac",
   "metadata": {},
   "source": [
    "To have one or multiple attributes in all our objects of our `class` we need to code it in our class definition. We use a particular function `__init__` to achieve this. This function is triggered when the object is created:"
   ]
  },
  {
   "cell_type": "code",
   "execution_count": null,
   "id": "2d2aee41-756c-4e22-a03b-ae2b996aaa02",
   "metadata": {},
   "outputs": [],
   "source": [
    "# this class definition allows us to define what we want to include when an \n",
    "# object is created using this class.\n",
    "class Dot:\n",
    "    def __init__(self):\n",
    "        pass"
   ]
  },
  {
   "cell_type": "markdown",
   "id": "3616d0f2-3336-417b-8fc8-264c278fcccb",
   "metadata": {},
   "source": [
    "We use the argument `self` as the first parameter in our previous example. `__init__()` always takes it. This argument is a reference to the current instance (the object that is being created at this point). \n",
    "\n",
    "This argument can be any word; however, it is ***strongly*** recommended always to use the word `self`. This style guide is one of the most broadly accepted by the community, and it facilitates communication between developers. "
   ]
  },
  {
   "cell_type": "markdown",
   "id": "87a9bde9-02a7-47b3-9bf0-90bc737c6787",
   "metadata": {},
   "source": [
    "## Class attributes\n",
    "The instance method `__init__()` can take other arguments besides `self`; they are useful to define the values of the attributes in our objects of this class. In the following example, we add another argument and use it to add such information to our object."
   ]
  },
  {
   "cell_type": "code",
   "execution_count": null,
   "id": "7c096dcc-aea7-40dc-9b66-c1506c7c33c6",
   "metadata": {},
   "outputs": [],
   "source": [
    "# all object created with this new class will include the attribute size with \n",
    "# the default size of 0\n",
    "class Dot:\n",
    "    def __init__(self, size=0):\n",
    "        self.size = size"
   ]
  },
  {
   "cell_type": "markdown",
   "id": "82d6eb20-45ec-49b8-bfa4-0df0556741ef",
   "metadata": {},
   "source": [
    "Now, all objects will contain the attribute called `size` using this new class. Because we define a default value for that argument, it is optional when we use the class."
   ]
  },
  {
   "cell_type": "code",
   "execution_count": null,
   "id": "efa9b050-8f65-4e3f-9e96-afdab4fd7d00",
   "metadata": {},
   "outputs": [],
   "source": [
    "dot_obj4= Dot() # because we set a default value, it is not a mandatory parameter\n",
    "dot_obj5 = Dot(size=10)\n",
    "\n",
    "print(dot_obj4.size)\n",
    "print(dot_obj5.size)"
   ]
  },
  {
   "cell_type": "markdown",
   "id": "6965a48a-c857-4912-b73a-3e9666e5722f",
   "metadata": {},
   "source": [
    "We can also create attributes that are not intended to be declared when the object is created. These attributes are just defined in our class and can be declared in other instructions in our program. In this way, we can be sure that all our objects will have a particular attribute.\n",
    "\n",
    "Note that the method `__init__()` does not have an additional argument in the following example."
   ]
  },
  {
   "cell_type": "code",
   "execution_count": null,
   "id": "0cccb05a-5f72-4ebe-9388-c58bf1ebfefa",
   "metadata": {},
   "outputs": [],
   "source": [
    "# all object created with this new class will include the attribute size with \n",
    "# the default size of 0\n",
    "class Dot:\n",
    "    def __init__(self, size=0):\n",
    "        self.size = size\n",
    "        self.color = \"black\" # we define this attribute with a default value"
   ]
  },
  {
   "cell_type": "markdown",
   "id": "b2181b28-d06b-4de0-b6d1-240e6f46da19",
   "metadata": {},
   "source": [
    "Now objects will have this attribute, but the value stored in it cannot be changed when we create the object. Still, this value can be changed in future instructions."
   ]
  },
  {
   "cell_type": "code",
   "execution_count": null,
   "id": "ef98b095-6692-405a-b2fe-cd0412e138a6",
   "metadata": {},
   "outputs": [],
   "source": [
    "dot_obj6= Dot()\n",
    "\n",
    "print(f'Default color: {dot_obj6.color}')\n",
    "\n",
    "dot_obj6.color = \"pink\"\n",
    "\n",
    "print(f'Updated color: {dot_obj6.color}')"
   ]
  },
  {
   "cell_type": "markdown",
   "id": "03ed3af2-3ee7-4fae-9f75-4653d4df113b",
   "metadata": {
    "tags": []
   },
   "source": [
    "## Class methods\n",
    "As mentioned before, an object may contain methods (a common term used for functions inside an object) and must be coded inside the class. Defining methods are similar to what we see in the Functions part of this Bootcamp, with a subtle difference. Methods need to have the attribute `self` to access the previously declared information for the current object.\n",
    "\n",
    "It must be outside `__init__()` method to be considered a class method. Otherwise, that function will only be executed in the object's initialization, but it will not be part of the object as a method. \n",
    "\n",
    "Let's update our class to add one method:"
   ]
  },
  {
   "cell_type": "code",
   "execution_count": null,
   "id": "178540c6-1110-48a3-bf8e-5f6c278bcb27",
   "metadata": {},
   "outputs": [],
   "source": [
    "# now we add one method (function) outside __init__.\n",
    "class Dot:\n",
    "    def __init__(self, size=0):\n",
    "        self.size = size\n",
    "        self.color = \"black\" # we define this attribute with a default value\n",
    "    \n",
    "    def detect_color_change(self):\n",
    "        \"\"\"Detect if this dot changed its color\"\"\"\n",
    "        if self.color != \"black\":\n",
    "            print(f'This dot does not have the default color. Now it is {self.color}!')\n",
    "        else:\n",
    "            print(f'This dot has the default color.')"
   ]
  },
  {
   "cell_type": "code",
   "execution_count": null,
   "id": "dcc5b6e6-0e3f-40ae-8a76-2e7e9351f9c6",
   "metadata": {},
   "outputs": [],
   "source": [
    "# create an object of our Dot class\n",
    "changing_dot = Dot(size=55)\n",
    "\n",
    "# check if it change of color\n",
    "changing_dot.detect_color_change()\n",
    "\n",
    "# we can change the attribute color\n",
    "changing_dot.color = \"yellow\"\n",
    "\n",
    "# now we can use again the method to see if this dot changed its color\n",
    "changing_dot.detect_color_change()"
   ]
  },
  {
   "cell_type": "markdown",
   "id": "89dbbc47-3b8d-410d-96a8-da947f473d53",
   "metadata": {},
   "source": [
    "We can store objects in `list`, `dict`, or other types and integrate them into our program logic.\n",
    "For example, in the following code, we will create 5 different objects dot and store them in a list:"
   ]
  },
  {
   "cell_type": "code",
   "execution_count": null,
   "id": "85350453-34de-440e-805c-e602e9c7d55e",
   "metadata": {},
   "outputs": [],
   "source": [
    "dots = []\n",
    "for i in range(5):\n",
    "    dot = Dot()\n",
    "    dots.append(dot)"
   ]
  },
  {
   "cell_type": "markdown",
   "id": "a0cc303e-c354-4522-8ec9-503daaf7d8ed",
   "metadata": {},
   "source": [
    "Now let's change the color to only one of the dots:"
   ]
  },
  {
   "cell_type": "code",
   "execution_count": null,
   "id": "2bda12c8-1525-48f2-93c5-09cf9f95c3cd",
   "metadata": {},
   "outputs": [],
   "source": [
    "dots[3].color = \"brown\""
   ]
  },
  {
   "cell_type": "markdown",
   "id": "c4bc966e-3ca7-42a0-896f-2cf8f63ad266",
   "metadata": {},
   "source": [
    "Finally, we can use the class method to detect the dot object that changed its color: "
   ]
  },
  {
   "cell_type": "code",
   "execution_count": null,
   "id": "ae77c5db-0c92-4e4c-8008-342db5f428b4",
   "metadata": {},
   "outputs": [],
   "source": [
    "for dot in dots:\n",
    "    dot.detect_color_change()"
   ]
  }
 ],
 "metadata": {
  "kernelspec": {
   "display_name": "Python 3 (ipykernel)",
   "language": "python",
   "name": "python3"
  },
  "language_info": {
   "codemirror_mode": {
    "name": "ipython",
    "version": 3
   },
   "file_extension": ".py",
   "mimetype": "text/x-python",
   "name": "python",
   "nbconvert_exporter": "python",
   "pygments_lexer": "ipython3",
   "version": "3.8.10"
  }
 },
 "nbformat": 4,
 "nbformat_minor": 5
}
