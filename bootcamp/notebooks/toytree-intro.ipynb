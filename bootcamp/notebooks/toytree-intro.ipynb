{
 "cells": [
  {
   "cell_type": "markdown",
   "id": "2f917e60",
   "metadata": {},
   "source": [
    "# Introduction to toytree\n",
    "\n",
    "### Learning objectives\n",
    "This notebook provides an introduction to working with phylogenetic trees in Python. By the end of this notebook you will:\n",
    "\n",
    "1. Be familiar with the `toytree` Python package.\n",
    "2. Know how to load and plot phylogenetic trees from newick files.\n",
    "3. Understand that phylogenetic trees can be represented as ToyTree objects in Python, from which many things can be done, including visualization, modification, analysis, and comparisons."
   ]
  },
  {
   "cell_type": "markdown",
   "id": "24622103",
   "metadata": {},
   "source": [
    "### Introduction to working with trees in `toytree`\n",
    "\n",
    "`toytree` is a Python tree plotting library designed for use inside \n",
    "jupyter notebooks. In fact, this entire tutorial was created using notebooks, and assumes that you are following along in a notebook of your own. To begin, we will import `toytree`, and the plotting library it is built on, `toyplot`, as well as `numpy` for generating some numerical data. "
   ]
  },
  {
   "cell_type": "code",
   "execution_count": null,
   "id": "fb1f1461",
   "metadata": {},
   "outputs": [],
   "source": [
    "import toytree       # a tree plotting library\n",
    "import toyplot       # a general plotting library\n",
    "import numpy as np   # numerical library"
   ]
  },
  {
   "cell_type": "code",
   "execution_count": null,
   "id": "18f16e08",
   "metadata": {},
   "outputs": [],
   "source": [
    "print(\"toytree\", toytree.__version__)\n",
    "print(\"toyplot\", toyplot.__version__)\n",
    "print(\"numpy\", np.__version__)"
   ]
  },
  {
   "cell_type": "markdown",
   "id": "c8babca8",
   "metadata": {},
   "source": [
    "### Load and draw your first tree\n",
    "The main Class object in toytree is a `ToyTree`, which provides plotting functionality as well as many useful functions and attributes for returning information and statistics about trees. As we'll see below, you can generate a `ToyTree` object in many ways, but generally it is done by reading in a newick formatted string of text. The example below shows the simplest way to load a `ToyTree` which is to use the `toytree.tree()` convenience function to parse a file, URL, or string."
   ]
  },
  {
   "cell_type": "code",
   "execution_count": null,
   "id": "73b6dfd2",
   "metadata": {},
   "outputs": [],
   "source": [
    "# load a toytree from a newick file from a public URL\n",
    "tre = toytree.tree(\"https://eaton-lab.org/data/Cyathophora.tre\")"
   ]
  },
  {
   "cell_type": "code",
   "execution_count": null,
   "id": "c075e015",
   "metadata": {},
   "outputs": [],
   "source": [
    "# root and draw the tree (more details on this later)\n",
    "rtre = tre.root(\"prz\", regex=True)\n",
    "rtre.draw(tip_labels_align=True);"
   ]
  },
  {
   "cell_type": "markdown",
   "id": "78b10b2a",
   "metadata": {},
   "source": [
    "### Newick, Nexus, and other tree file formats \n",
    "Trees can be flexibly loaded from a range of text formats, including newick, nexus, and various types of extended newick (NHX) format. All of these formats use the basic newick format as a way of representing a phylogenetic tree in text, where relationships are stored as sets of nested parentheses. (We will discuss more details of newick format later.)\n",
    "\n",
    "Below are two examples of newick format, each representing the same tree topology and branch lengths, but with different types of meta-data stored as internal node labels. The first stores integer values, which are usually a type of *support* measurement, the second has string values, which are likely to be internal name labels."
   ]
  },
  {
   "cell_type": "code",
   "execution_count": null,
   "id": "42c315b4",
   "metadata": {},
   "outputs": [],
   "source": [
    "# newick with edge-lengths & int support values\n",
    "newick1 = \"((a:1,b:1)90:3,(c:3,(d:1, e:1)100:2)100:1)100;\"\n",
    "\n",
    "# newick with edge-lengths & string node-labels\n",
    "newick2 = \"((a:1,b:1)A:3,(c:3,(d:1, e:1)B:2)C:1)root;\""
   ]
  },
  {
   "cell_type": "markdown",
   "id": "9c99c39e",
   "metadata": {},
   "source": [
    "`toytree.tree` will automatically detect whether to store the internal node labels as 'support' or 'name' attributes, or, if they are something else (rarely, but sometimes the case) this can be indicated to the function as an option. This function will return a `ToyTree` class object which we save as a variable, and then plot."
   ]
  },
  {
   "cell_type": "code",
   "execution_count": null,
   "id": "82e20b7c",
   "metadata": {
    "scrolled": true
   },
   "outputs": [],
   "source": [
    "# parse newick, loading internal labels as support values\n",
    "tre1 = toytree.tree(newick1)\n",
    "tre1.draw(node_labels=\"support\", node_sizes=25);"
   ]
  },
  {
   "cell_type": "code",
   "execution_count": null,
   "id": "26c9360b",
   "metadata": {},
   "outputs": [],
   "source": [
    "# parse newick, loading internal labels as name strings\n",
    "tre2 = toytree.tree(newick2)\n",
    "tre2.draw(node_labels=\"name\", node_sizes=25);"
   ]
  },
  {
   "cell_type": "markdown",
   "id": "4aa539ec",
   "metadata": {},
   "source": [
    "### Tree functions and attributes\n",
    "\n",
    "The `toytree` package is designed to be user-friendly, and to be used interactively. One aspect of this design is to make it easy to learn about objects using tab-completion in a jupyter-notebook. This will show you all of the possible functions or attributes that can be accessed from a particular object. Let's try it with a ToyTree object.\n",
    "\n",
    "Start by typing in the cell below the name of one of our tree variables from above (`rtre`) followed by a dot (`rtre.`) and then pressing `<tab>`. You should see a small window pop-up listing the many attributes and functions available."
   ]
  },
  {
   "cell_type": "code",
   "execution_count": null,
   "id": "c87e7a0e",
   "metadata": {},
   "outputs": [],
   "source": [
    "# try out tab-completion on a ToyTree object here.\n"
   ]
  },
  {
   "cell_type": "markdown",
   "id": "237b4626",
   "metadata": {},
   "source": [
    "### Accessing tree information\n",
    "Many of the attributes and functions of ToyTrees are used to access information about the tree itself, such as how many tips or nodes it has, whether it is rooted, which tips are descended from which nodes, and what their names are, etc.  A few examples are shown below.\n"
   ]
  },
  {
   "cell_type": "code",
   "execution_count": null,
   "id": "c44a9d48",
   "metadata": {},
   "outputs": [],
   "source": [
    "rtre.ntips"
   ]
  },
  {
   "cell_type": "code",
   "execution_count": null,
   "id": "68bf6a72",
   "metadata": {},
   "outputs": [],
   "source": [
    "rtre.nnodes"
   ]
  },
  {
   "cell_type": "code",
   "execution_count": null,
   "id": "cc1a90c0",
   "metadata": {},
   "outputs": [],
   "source": [
    "tre.is_rooted(), rtre.is_rooted()"
   ]
  },
  {
   "cell_type": "code",
   "execution_count": null,
   "id": "83b266ef",
   "metadata": {},
   "outputs": [],
   "source": [
    "rtre.get_tip_labels()"
   ]
  },
  {
   "cell_type": "code",
   "execution_count": null,
   "id": "4e47bc76",
   "metadata": {},
   "outputs": [],
   "source": [
    "rtre.get_edges()"
   ]
  },
  {
   "cell_type": "markdown",
   "id": "29854109",
   "metadata": {},
   "source": [
    "### Drawing trees: basics\n",
    "\n",
    "When you call `.draw()` on a tree it returns **three** objects, a `Canvas`, a `Cartesian` axes object, and a `Mark`. This follows the design principle of the `toyplot` plotting library on which toytree is based. The Canvas describes the plot space, and the Cartesian coordinates define how to project points onto that space. One canvas can have multiple cartesian coordinates, and each cartesian object can have multiple Marks. This will be demonstrated more later.\n",
    "\n",
    "As you will see below, I end many toytree drawing commands with a semicolon (`;`), this simply hides the printed return statement showing that the Canvas and Cartesian objects were returned. The Canvas will automatically render in the cell below the plot even if you do not save the return Canvas as a variable. Below I do not use a semicolon and so the three returned objects are shown as text (e.g., `<toyplot.canvas.Canvas...>`), and the plot is displayed. "
   ]
  },
  {
   "cell_type": "code",
   "execution_count": null,
   "id": "af6c6763",
   "metadata": {},
   "outputs": [],
   "source": [
    "rtre.draw()"
   ]
  },
  {
   "cell_type": "code",
   "execution_count": null,
   "id": "92fdce98",
   "metadata": {},
   "outputs": [],
   "source": [
    "# the semicolon hides the returned text of the Canvas and Cartesian objects\n",
    "rtre.draw();"
   ]
  },
  {
   "cell_type": "code",
   "execution_count": null,
   "id": "2f39462e",
   "metadata": {},
   "outputs": [],
   "source": [
    "# or, we can store them as variables (this allows more editing on them later)\n",
    "canvas, axes, mark = rtre.draw()"
   ]
  },
  {
   "cell_type": "markdown",
   "id": "d3c10eb6",
   "metadata": {},
   "source": [
    "### Drawing trees: styles\n",
    "There are innumerous ways in which to style ToyTree drawings. `toytree` also provides a number of pre-built `tree_style` types (normal, dark, coalescent, multitree), and users can also create their own style dictionaries that can be easily reused. Below are some examples. "
   ]
  },
  {
   "cell_type": "code",
   "execution_count": null,
   "id": "60a31d27",
   "metadata": {},
   "outputs": [],
   "source": [
    "# drawing with pre-built `tree_style`s (you can also use `ts` as a shortcut)\n",
    "rtre.draw(tree_style='n');  # normal-style\n",
    "rtre.draw(tree_style='d');  # dark-style\n",
    "rtre.draw(ts='o');          # umlaut-style"
   ]
  },
  {
   "cell_type": "code",
   "execution_count": null,
   "id": "6a588d59",
   "metadata": {},
   "outputs": [],
   "source": [
    "# define a custom style dictionary\n",
    "mystyle = {\n",
    "    \"layout\": 'd',\n",
    "    \"edge_type\": 'p',\n",
    "    \"edge_style\": {\n",
    "        \"stroke\": toytree.color.COLORS1[2],\n",
    "        \"stroke-width\": 2.5,\n",
    "    },\n",
    "    \"tip_labels_align\": True, \n",
    "    \"tip_labels_colors\": toytree.color.COLORS2[0],\n",
    "    \"tip_labels_style\": {\n",
    "        \"font-size\": \"10px\"\n",
    "    },\n",
    "    \"node_labels\": False,\n",
    "    \"node_sizes\": 8,\n",
    "    \"node_colors\": toytree.color.COLORS1[2],\n",
    "}"
   ]
  },
  {
   "cell_type": "code",
   "execution_count": null,
   "id": "c165cc3e",
   "metadata": {},
   "outputs": [],
   "source": [
    "# use your custom style dictionary in one or more tree drawings\n",
    "rtre.draw(height=400, **mystyle);"
   ]
  },
  {
   "cell_type": "markdown",
   "id": "b69f500b",
   "metadata": {},
   "source": [
    "### Node data\n",
    "\n",
    "As we saw briefly before, ToyTrees can store additional data (which we term *features*) on Nodes of a tree. These features can be parsed directly from the input data (e.g., newick file), like in the example earlier where we loaded either 'support' or 'name' data on internal nodes. Or, we can also create and add *any* arbitrary data to Nodes on a tree, and then use those data either for visualization or analyses. \n",
    "\n"
   ]
  },
  {
   "cell_type": "code",
   "execution_count": null,
   "id": "239fe8d2",
   "metadata": {},
   "outputs": [],
   "source": [
    "# data associated tree `rtre` loaded from newick string\n",
    "rtre.get_node_data()"
   ]
  },
  {
   "cell_type": "markdown",
   "id": "b4b03348",
   "metadata": {},
   "source": [
    "We can add a new feature to this tree using the `set_node_data` function, which can assign specific values to individual Nodes or a single value as a default to all Nodes. Let's create a feature called 'color' that will take string values. \n",
    "\n",
    "\n"
   ]
  },
  {
   "cell_type": "code",
   "execution_count": null,
   "id": "893b8b9e",
   "metadata": {},
   "outputs": [],
   "source": [
    "# returns a copy of the tree with new data added to Nodes\n",
    "color_tree = rtre.set_node_data(\n",
    "    feature=\"color\", \n",
    "    mapping={i: 'green' for i in (0, 1, 13, 24)},\n",
    "    default=\"red\",\n",
    ")"
   ]
  },
  {
   "cell_type": "code",
   "execution_count": null,
   "id": "e5a9777b",
   "metadata": {},
   "outputs": [],
   "source": [
    "# see that 'color' is now present in the tree data.\n",
    "color_tree.get_node_data()"
   ]
  },
  {
   "cell_type": "code",
   "execution_count": null,
   "id": "a23b1bb6",
   "metadata": {},
   "outputs": [],
   "source": [
    "# you can fetch just the color data by entering it to .get_node_data()\n",
    "color_tree.get_node_data(\"color\")"
   ]
  },
  {
   "cell_type": "code",
   "execution_count": null,
   "id": "f31a8b84",
   "metadata": {},
   "outputs": [],
   "source": [
    "# and you can pass this as a argument to .draw()\n",
    "color_tree.draw(\n",
    "    node_sizes=8,\n",
    "    node_colors=color_tree.get_node_data(\"color\"),\n",
    "    node_mask=False,\n",
    ");"
   ]
  },
  {
   "cell_type": "markdown",
   "id": "9e8f4573",
   "metadata": {},
   "source": [
    "This design in `toytree` of assigning data to Nodes on a tree, and then extracting those data from the tree to enter as arguments when plotting, is much more fool-proof than simply entering a list of colors, or any other data, since you may be uncertain about which order they should be entered, e.g., from root to tips, tips-root, etc. (we'll cover much more on traversal orders later). Thus it greatly reduces errors in your code.\n"
   ]
  },
  {
   "cell_type": "markdown",
   "id": "2021d986",
   "metadata": {},
   "source": [
    "### Subpackages\n",
    "\n",
    "In addition to visualization `toytree` has many additional uses for working with trees. Many of these functions are located in subpackages that are accessed in `toytree.distance`, `toytree.rtree`, `toytree.mod`, and more. Below these are breifly demonstrated.\n"
   ]
  },
  {
   "cell_type": "code",
   "execution_count": null,
   "id": "b6394a45",
   "metadata": {},
   "outputs": [],
   "source": [
    "# distance: various measures of distances between Nodes or Trees\n",
    "toytree.distance.get_treedist_rf(rtre, tre)"
   ]
  },
  {
   "cell_type": "code",
   "execution_count": null,
   "id": "af7edb52",
   "metadata": {},
   "outputs": [],
   "source": [
    "# rtree: generate random trees under a number of generative methods\n",
    "random_tree = toytree.rtree.bdtree(ntips=10)\n",
    "random_tree.draw();"
   ]
  },
  {
   "cell_type": "code",
   "execution_count": null,
   "id": "438e3505",
   "metadata": {},
   "outputs": [],
   "source": [
    "# mod: modify tree relationships or features -- this scales the root height to 1000\n",
    "random_tree2 = random_tree.mod.edges_scale_to_root_height(1000)\n",
    "random_tree2.draw(scale_bar=True);"
   ]
  },
  {
   "cell_type": "markdown",
   "id": "3a343b67",
   "metadata": {},
   "source": [
    "### Conclusion\n",
    "\n",
    "This was a very brief introduction to the `toytree` Python package. See the complete documentation for further details on the methods shown here, as well as many more. "
   ]
  }
 ],
 "metadata": {
  "kernelspec": {
   "display_name": "Python 3",
   "language": "python",
   "name": "python3"
  },
  "language_info": {
   "codemirror_mode": {
    "name": "ipython",
    "version": 3
   },
   "file_extension": ".py",
   "mimetype": "text/x-python",
   "name": "python",
   "nbconvert_exporter": "python",
   "pygments_lexer": "ipython3",
   "version": "3.9.7"
  }
 },
 "nbformat": 4,
 "nbformat_minor": 5
}
