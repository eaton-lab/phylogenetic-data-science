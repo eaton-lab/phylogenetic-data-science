{
 "cells": [
  {
   "cell_type": "markdown",
   "metadata": {},
   "source": [
    "# An introduction to Jupyter notebooks\n",
    "\n",
    "### Learning objectives\n",
    "This notebook provides an introduction to using jupyter notebooks. By the end of this notebook you will: \n",
    "\n",
    "1. Recognize the difference between Markdown and Code cells.\n",
    "2. Know how to switch between Markdown and Code cell types.\n",
    "3. Know how to execute code, including using keyboard shortcuts.\n",
    "4. Know how to enter and edit Markdown (i.e., formatted text blocks).\n",
    "5. Know how to save completed notebooks."
   ]
  },
  {
   "cell_type": "markdown",
   "metadata": {},
   "source": [
    "<div class=\"alert alert-success\">\n",
    "    Note: <b>Actions</b> that request for you to interact with the notebook by editing or executing code will be highlighted on a green background, like this one. In addition to these special alerts, you should always execute all code blocks in a notebook in order from top to the bottom.\n",
    "</div>"
   ]
  },
  {
   "cell_type": "markdown",
   "metadata": {},
   "source": [
    "### Jupyter notebooks \n",
    "Jupyter Notebooks are a powerful tool for interactively developing and presenting data science projects. They allow you to use a web browser (as opposed to a terminal or other software) to interact with a computer language interpreter (typically Python) to send commands and receive outputs. It then displays the outputs in HTML below the executed cells, and allows users to add rich text comments or annotations around code cells using [Markdown](https://en.wikipedia.org/wiki/Markdown). "
   ]
  },
  {
   "cell_type": "markdown",
   "metadata": {},
   "source": [
    "### How we will use notebooks\n",
    "\n",
    "In this textbook we will use notebooks in several contexts. First, we will use cloud-based instances of notebooks, like this one, to drop users into an environment that already has any software that they need installed. This is convenient for teaching since users do not need to spend time on setup. \n",
    "\n",
    "However, following the *ethos* of this textbook, our goal is not only to learn to use software, but also to understand *how* and *why* it works. I encourage you to complete the *Coding Bootcamp* introduction which includes instructions for installing and runnign jupyter on your own computer, which will allow you to explore coding in Python greatly beyond the exercises in this textbook."
   ]
  },
  {
   "cell_type": "markdown",
   "metadata": {},
   "source": [
    "### Notebook cells\n",
    "A notebook is made of `cells`, which are discrete blocks that can be created, edited, re-ordered, and removed. With your pointer click on few different paragraphs of text or code in this notebook. You should notice that as you do so a thin blue rectangle will appear highlighting the boundaries of each cell. \n",
    "\n",
    "The two main types of cells in notebooks are `Markdown` and `Code` cells which we will learn about in turn."
   ]
  },
  {
   "cell_type": "markdown",
   "metadata": {},
   "source": [
    "### Markdown cells\n",
    "\n",
    "Double click on the text below that says \"Hello world\" to open up the Markdown cell to see the code inside of it. When you do you this you should see the text that says Hello World but with some additional hash marks at the beginning. Click inside the textbox of the cell and you will notice that the rectangle around the cell will change from blue to green. This means that you have entered *editing mode* for that cell. \n",
    "\n",
    "This cell is set up to execute a type of code called *Markdown*, which is a language for formatting text, much like HTML (which is called a *MarkUp* language). Markdown is much easier to learn and read than HTML, and for that reason has become a very popular tool for simple formatting and styling of text. To transform the cell back into *rendered text* you must *execute it*, which can be done by pressing the 'Run' button in the notebook tool bar while the cell is selected, or, by **holding down the control key and pressing enter (<kbd>ctrl+enter</kbd>)**. I strongly recommend that you learn and use the keyboard shortcut commands, since it will make you a more efficient notebook user. \n",
    "\n",
    "You can click on the keyboard icon in the toolbar to find a list of hotkey commands, or find many additional resources online ([like this one](https://towardsdatascience.com/jypyter-notebook-shortcuts-bf0101a98330)). \n",
    "\n",
    "After executing the cell you should see it convert back into its *rendered* form, where Hello World will appear a bit larger than normal text, and bold. This is because of the three hash marks before the text in the Markdown code, which indicates that it should be formatted as a level-3 header. To learn more about how to format text with Markdown you can find many tutorials online."
   ]
  },
  {
   "cell_type": "markdown",
   "metadata": {},
   "source": [
    "### Hello World"
   ]
  },
  {
   "cell_type": "markdown",
   "metadata": {},
   "source": [
    "<div class=\"alert alert-success\">\n",
    "    <b>Action:</b> In the markdown cell below convert the top line of text into a level-3 header (large and bold text) by double clicking on the cell so that you can interact with the text, and then adding three hash marks (#) before the first line without any spaces separating the hash marks, and with one space between the hashes and the text (like in the Hello World cell above). Then hold control and press enter to execute the cell. You should see large bold formatted text on the first line, followed by normal formatted text for the second line. If not, try editing the text again, you may have included spaces, or other errors. \n",
    "</div>"
   ]
  },
  {
   "cell_type": "markdown",
   "metadata": {},
   "source": [
    "My first executed Markdown cell\n",
    "\n",
    "The text on the line above this is a level-3 header."
   ]
  },
  {
   "cell_type": "markdown",
   "metadata": {},
   "source": [
    "### Code cells\n",
    "In the menu and tool bar you can find options to change the *type* of cells. The two main types we are interested in are Markdown cells, as you just saw above, and *Code* cells, which are used to execute code. *Most* of the time code cells will produce some kind of output which is returned when the code is executed. In jupyter notebooks the returned code will be saved in the output area at the bottom of an executed code cell.\n",
    "\n",
    "As an example, let's execute the cell below which contains two Python commands, one storing an integer as a variable `x`, and a second command to print the variable's value. The code also includes lines that start with hash marks (#) which are comment lines (notes that are not executed)."
   ]
  },
  {
   "cell_type": "code",
   "execution_count": null,
   "metadata": {},
   "outputs": [],
   "source": [
    "# store value to the variable x\n",
    "x = 3\n",
    "\n",
    "# print the variable x\n",
    "print(x)"
   ]
  },
  {
   "cell_type": "markdown",
   "metadata": {},
   "source": [
    "The default language in Jupyter notebooks is Python, but we can execute some other languages as well. The bash language is one of several related languages used in a command line terminal to execute programs. We can use it in Jupyter notebooks by simply appending `%%bash` to the top of the cell. You can see that the syntax to perform the same task we did above in Python is similar but a little different in bash. Learning the idiosyncracies of different coding languages takes time, and it is easiest to learn by example. "
   ]
  },
  {
   "cell_type": "code",
   "execution_count": null,
   "metadata": {
    "scrolled": true
   },
   "outputs": [],
   "source": [
    "%%bash\n",
    "\n",
    "# store value to a variable x\n",
    "x=3\n",
    "\n",
    "# print the variable\n",
    "echo $x"
   ]
  },
  {
   "cell_type": "markdown",
   "metadata": {},
   "source": [
    "### Changing cell types\n",
    "\n",
    "<div class=\"alert alert-success\">\n",
    "    <b>Action:</b> The cell below is currently set to execute as a markdown cell, meaning the contents are formatted as text when it is executed. However, the content of the cell is actually proper Python code (which is why it looks quite jumbled as Markdown). Therefore, to make it display properly you need to change the cell type so it will execute as a code cell instead of markdown. Convert the cell type to a Code cell and execute it. If done correctly it should return an output message telling you that you did it correctly. Understanding the actual Python code itself within the cell is not of particular concern for now.\n",
    "</div>"
   ]
  },
  {
   "cell_type": "markdown",
   "metadata": {},
   "source": [
    "from IPython.display import HTML\n",
    "def success_message():\n",
    "    msg = \"Great job, you completed the tutorial\"\n",
    "    fmt = \"<p style='font-size:24px;font-weight:800;margin:20px;'>{}</p>\"\n",
    "    return HTML(fmt.format(msg))\n",
    "    \n",
    "success_message()"
   ]
  },
  {
   "cell_type": "markdown",
   "metadata": {},
   "source": [
    "### Saving notebooks\n",
    "\n",
    "Jupyter notebooks can be saved by clicking on the disk icon in the upper left. They also auto-save every few minutes, which helps to keep you from losing your progress if you disconnect from the notebook, or accidentally delete something important. You can always restart a notebook  from the toolbar on top if you somehow crash it. Note: this will remove all saved variables, so you will need to start executing the notebook again from the top. "
   ]
  },
  {
   "cell_type": "markdown",
   "metadata": {},
   "source": [
    "### Viewing notebooks\n",
    "\n",
    "Notebooks are saved in a JSON-like format with the suffix `.ipynb`. You can open this file type in a text-editor or browser to view its raw (unrendered) contents, and you will see that it is relatively simple, but not that easy to read. Of course, notebooks are meant to be viewed as raw text, that is like reading the raw HTML of a website. Instead, notebooks are intended to be viewed in *rendered* form. \n",
    "\n",
    "Notebooks are displayed in their rendered form (like the one you are looking at right now) when they are opened by a `jupyter` server and displayed through a browser. And that is the most common way that you will view notebooks. However, sometimes you may wish to just take a quick look at a notebook without having to start `jupyter`, and it turns out there are convenient ways to do that as well. The easiest way is to save your notebooks in a place like GitHub that automatically renders them to HTML for viewing. For example, this notebook is hosted on GitHub and can be viewed at this [GitHub link](https://github.com/eaton-lab/phylogenetic-data-science/blob/main/docs/bootcamp/notebooks/jupyter-intro.ipynb). Another popular option is the website *nbviewer.org*, which can accept any URI link to a publicly available .ipynb file, and it will render it to HTML. Here is an example of the same link above entered to [nbviewer.org](https://nbviewer.org/github/eaton-lab/phylogenetic-data-science/blob/main/docs/bootcamp/notebooks/jupyter-intro.ipynb)."
   ]
  },
  {
   "cell_type": "markdown",
   "metadata": {},
   "source": [
    "### Sharing notebooks\n",
    "\n",
    "As stated above, the *best* way is to save your notebook .ipynb file to GitHub and share a link to the notebook, where it will be auto-rendered. \n",
    "\n",
    "However, if you simply want to share a *static* version of your notebook (i.e., one they can easily read but not execute) you can do so by clicking on File in the upper left of the toolbar and selecting Download As, where you will see there are several options to download the notebook in a form converted to PDF, HTML, Markdown, etc. "
   ]
  }
 ],
 "metadata": {
  "kernelspec": {
   "display_name": "Python 3 (ipykernel)",
   "language": "python",
   "name": "python3"
  },
  "language_info": {
   "codemirror_mode": {
    "name": "ipython",
    "version": 3
   },
   "file_extension": ".py",
   "mimetype": "text/x-python",
   "name": "python",
   "nbconvert_exporter": "python",
   "pygments_lexer": "ipython3",
   "version": "3.9.7"
  }
 },
 "nbformat": 4,
 "nbformat_minor": 2
}
