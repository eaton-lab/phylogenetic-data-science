{
 "cells": [
  {
   "cell_type": "markdown",
   "id": "769da0ab-602d-4800-a622-36ef76ed4f4b",
   "metadata": {},
   "source": [
    "# Functions"
   ]
  },
  {
   "cell_type": "markdown",
   "id": "0666ed34-bdc4-4946-81a7-a4189d4300e0",
   "metadata": {},
   "source": [
    "Functions are encapsulated pieces of code that are callable \n",
    "and identified by a name. They allow passing some information from \n",
    "other parts of the code as arguments and optionally return the result.\n",
    "Most of the time, we create a function when we want to run a piece of code \n",
    "more than once or to be consistent in some process we need.\n",
    "\n",
    "Declaration of functions in Python is relatively easy. The first line includes the keyword `def` followed \n",
    "by a name and none, one or more arguments enclosed in \n",
    "parenthesis. Finally, a colon indicates the start of the\n",
    "executable code. Following some naming conventions, using only\n",
    "lowercase with words separated by underscores is recommended.\n",
    "\n",
    "To maintain your code well documented, you should add a `docstring` to every function\n",
    "you create. Even if it is a function not intended to share with other developers. That will help \n",
    "you and other developers to know what is the purpose of your function.\n",
    "\n",
    "Following the previous optional (but recommended) part is where the code \n",
    "starts. Here you write the instructions you want Python to follow using the\n",
    "arguments you passed in the first line of your function. "
   ]
  },
  {
   "cell_type": "code",
   "execution_count": 17,
   "id": "e5c3054c-0d92-432c-a5b5-ba2460724584",
   "metadata": {},
   "outputs": [],
   "source": [
    "def simple_function(argument):  # first line\n",
    "    '''Prints the argument passed'''  # using triple ', line breaks are maintained in the documentation string \n",
    "    print(argument)"
   ]
  },
  {
   "cell_type": "markdown",
   "id": "5630cb94-f1ee-4125-af3e-a44b4f8e8679",
   "metadata": {},
   "source": [
    "Some functions are designed to return a result after the execution of the code.\n",
    "In this case, you can use the keyword `return` to send back the information \n",
    "outside your function. "
   ]
  },
  {
   "cell_type": "code",
   "execution_count": 17,
   "id": "8cdaaf24-ccf3-468b-b669-eed24614c647",
   "metadata": {},
   "outputs": [],
   "source": [
    "def function_example(argument):  # first line\n",
    "    '''Adds 1 to the argument passed'''  \n",
    "    result = argument + 1\n",
    "    return result #optional returning"
   ]
  },
  {
   "cell_type": "markdown",
   "id": "4ab34edf-04b9-492d-b1b5-12fd627cf0d2",
   "metadata": {},
   "source": [
    "A return statement is not required in all functions as we saw in our first example.\n",
    "However, returning the result is helpful because you can store it in a variable\n",
    "and use it later in your code."
   ]
  },
  {
   "cell_type": "code",
   "execution_count": null,
   "id": "00b4d1bf-8824-47a4-b00a-f793769186a2",
   "metadata": {},
   "outputs": [],
   "source": [
    "my_operation = function_example(10) # execute the function previously defined and store the result\n",
    "my_operation"
   ]
  },
  {
   "cell_type": "markdown",
   "id": "26261701-1aee-4627-96e9-43ab0ded2bab",
   "metadata": {},
   "source": [
    "## Arguments"
   ]
  },
  {
   "cell_type": "markdown",
   "id": "1a526b80-6b6e-41da-984a-f56071e041c5",
   "metadata": {},
   "source": [
    "Functions can have multiple arguments, and some of these arguments can have a default\n",
    "value specified. When you declare default values, these arguments become optional \n",
    "when the function is executed. If there is no default value specified for a given\n",
    "argument, this will be considered mandatory.\n",
    "\n",
    "For example:"
   ]
  },
  {
   "cell_type": "code",
   "execution_count": null,
   "id": "6e2b5d0c-3597-4eeb-b992-d46934e63645",
   "metadata": {},
   "outputs": [],
   "source": [
    "def function_example2(argument1, argument2, argument3='third arg.'):  \n",
    "    '''Print all arguments'''  \n",
    "    result = f\"{argument1} and {argument2} are required; {argument3} isn't\" # notice the use of f-strings, they are very useful whem you combine strings and variables\n",
    "    return result \n",
    "\n",
    "my_string = function_example2('first arg.', 'second arg.')\n",
    "print(my_string)"
   ]
  },
  {
   "cell_type": "markdown",
   "id": "22343629-c572-4088-a091-daaf2e2d1a3c",
   "metadata": {},
   "source": [
    "Sometimes it is useful to pass an  arbitrary number of arguments\n",
    "in a function, for these particular cases, Python \n",
    "has two special parameters (`*` and `**`). \n",
    "\n",
    "`*` is helpful to pass arguments without names; they are usually called `*args`"
   ]
  },
  {
   "cell_type": "code",
   "execution_count": null,
   "id": "f224f7e1-1479-498b-ac84-ed4651df9f04",
   "metadata": {},
   "outputs": [],
   "source": [
    "def function_example3(*elements):\n",
    "    '''Print the first element'''\n",
    "    print('The first element is ' + elements[0])\n",
    "\n",
    "function_example3('1','2','3','4')"
   ]
  },
  {
   "cell_type": "markdown",
   "id": "e10c55c9-8982-4af0-9b85-eba5a0b368c8",
   "metadata": {},
   "source": [
    "`**` is useful to pass named arguments (as a dictionary); they are also called `**kwargs` "
   ]
  },
  {
   "cell_type": "code",
   "execution_count": null,
   "id": "45b3be3a-b337-400e-89a5-de549b2a82ac",
   "metadata": {},
   "outputs": [],
   "source": [
    "def function_example4(**named_elements):\n",
    "    '''Print only the element named `first`'''\n",
    "    print('The first named element is ' + named_elements['first'])\n",
    "\n",
    "function_example4(first = \"1st\", second = \"2nd\")"
   ]
  },
  {
   "cell_type": "markdown",
   "id": "d3d51ce5-1947-478f-9816-b30e11691d1d",
   "metadata": {},
   "source": [
    "## Scope"
   ]
  },
  {
   "cell_type": "markdown",
   "id": "6da6659e-b035-4567-a52c-dc350df3d928",
   "metadata": {},
   "source": [
    "Functions can be declared inside other definitions in Python, for example, classes or even other functions (nested functions)."
   ]
  },
  {
   "cell_type": "code",
   "execution_count": null,
   "id": "03f50e56-d5d1-4891-a43b-964ba419452a",
   "metadata": {},
   "outputs": [],
   "source": [
    "def first_level(access_inner=True):\n",
    "    print('Inside first level')\n",
    "    \n",
    "    # defines second level function before call it\n",
    "    def second_level():\n",
    "         print('Inside second level')\n",
    "    \n",
    "    if access_inner:\n",
    "               second_level()\n",
    "        \n",
    "first_level(True)     "
   ]
  },
  {
   "cell_type": "code",
   "execution_count": 38,
   "id": "5f83cf04-5736-40b0-ab6f-dd9ff90457ce",
   "metadata": {},
   "outputs": [
    {
     "name": "stdout",
     "output_type": "stream",
     "text": [
      "Inside first level\n"
     ]
    }
   ],
   "source": [
    "first_level(access_inner = False)  "
   ]
  },
  {
   "cell_type": "markdown",
   "id": "ec53b6da-cdcd-476f-bff0-a850897f5eb8",
   "metadata": {},
   "source": [
    "Functions limit the accessibility of variables declared inside them; this is known as the scope of the variables.\n",
    "There are two main scopes where a variable is accessible, local and global. \n",
    "Any variable defined inside a function is considered local, and it is only accessible inside\n",
    "that function.\n",
    "\n",
    "Try to call a local variable outside its scope:"
   ]
  },
  {
   "cell_type": "code",
   "execution_count": null,
   "id": "7380d4e3-77e4-492b-b0f5-374f593db2d1",
   "metadata": {},
   "outputs": [],
   "source": [
    "global_variable = \"This is a variable defined outside of a function\"\n",
    "\n",
    "def regular_function():\n",
    "    local_variable = \"This is a variable defined INSIDE of a function\" # this variable has a limited scope and it is only accesable inside this function\n",
    "\n",
    "regular_function()\n",
    "\n",
    "print(global_variable)\n",
    "print(local_variable) # if you try to access this variable it will be not defined,  even after executing the function"
   ]
  },
  {
   "cell_type": "markdown",
   "id": "1d92246d-ac2f-4a9f-80f1-0e1e6731551b",
   "metadata": {},
   "source": [
    "## Hints and documentation"
   ]
  },
  {
   "cell_type": "markdown",
   "id": "83407fc7-590c-42ff-9bdb-46c2ebcfea37",
   "metadata": {},
   "source": [
    "Other programming languages can use an explicit definition in their variables; \n",
    "for example, a variable that only accepts integers.\n",
    "This is not possible in Python because it is a dynamic-typed language, \n",
    "which means that you do not need to declare the type of data that goes into the variable,\n",
    "and Python dynamically defines or changes the type given the data in real-time.\n",
    " \n",
    "However, recently, Python incorporated type annotations or type hints. \n",
    "These annotations help users and developers to know what data type \n",
    "is expected in a specific argument in a function or a particular variable.\n",
    "\n",
    "You should take into consideration that this does not enforce the verification of the type,\n",
    "for that reason, this is just intended for documentation rather than functionality.\n",
    "\n",
    "Also, it is worth mentioning that some complex data types (List, Dict, Set, or Optional) are not in the Python core;\n",
    "they are in the module `Typing`\n",
    "\n",
    "Types can be annotated as follows:"
   ]
  },
  {
   "cell_type": "code",
   "execution_count": 46,
   "id": "6306485a-8425-43e3-bdf4-2799b47ffec0",
   "metadata": {},
   "outputs": [],
   "source": [
    "def multiply_by_two(x: float) -> float:\n",
    "    '''Multiply x by two'''\n",
    "    return x*2"
   ]
  },
  {
   "cell_type": "code",
   "execution_count": null,
   "id": "7e078bbc-e55b-48af-8fa3-eeefac5a1264",
   "metadata": {},
   "outputs": [],
   "source": [
    "help(multiply_by_two)"
   ]
  },
  {
   "cell_type": "markdown",
   "id": "a35a478a-ed64-4ac6-9d97-dcb9bb447667",
   "metadata": {},
   "source": [
    "## Example of a function in a real implementation\n",
    "\n",
    "```python\n",
    "from typing import Dict, Tuple, TypeVar\n",
    "import numpy as np\n",
    "import toyplot\n",
    "\n",
    "ToyTree = TypeVar(\"ToyTree\")\n",
    "\n",
    "def node_height_confidence_intervals(\n",
    "    tree: ToyTree,\n",
    "    axes: toyplot.coordinates.Cartesian, \n",
    "    mapping: Dict[int,Tuple[float,float]],\n",
    "    **kwargs,\n",
    "    ) -> 'Mark':\n",
    "    \"\"\"Returns a toyplot marker to add confidence intervals on Nodes.\n",
    "    Takes an input dictionary mapping node idxs to a tuple of lower\n",
    "    and upper confidence intervals for node heights.\n",
    "    Parameters\n",
    "    ----------\n",
    "    ...\n",
    "    Example\n",
    "    -------\n",
    "    >>> tree = toytree.rtree.unittree(10, treeheight=1e5)\n",
    "    >>> ages_ci = {\n",
    "    >>>     nidx: (node.dist - 1000, node.dist + 1000) \n",
    "    >>>     for nidx, node in enumerate(tree)\n",
    "    >>> }\n",
    "    >>> canvas, axes, mark0 = tree.draw()\n",
    "    >>> tree.annotate.node_height_confidence_intervals(axes, ages_ci)\n",
    "    >>> \n",
    "    >>> mark = toytree.annotate.node_height_confidence_intervals(\n",
    "    >>>     tree=tree, axes=axes, mapping=ages_ci)\n",
    "    \"\"\"\n",
    "    # edge connecting each node to a copy of itself\n",
    "    edges = np.column_stack([\n",
    "        np.arange(tree.nnodes - tree.ntips), \n",
    "        np.arange(tree.nnodes - tree.ntips, (tree.nnodes - tree.ntips) * 2),\n",
    "    ])\n",
    "\n",
    "    # vertex for each node -/+ the conf interv.\n",
    "    vertices = [(-mapping[i][0], tree[i].x) for i in mapping]\n",
    "    vertices += [(-mapping[i][1], tree[i].x) for i in mapping]\n",
    "\n",
    "    # draw the graph and return the mark\n",
    "    kwargs[\"vlabel\"] = kwargs.get(\"vlabel\", False)\n",
    "    kwargs[\"vsize\"] = kwargs.get(\"vsize\", 0)\n",
    "    kwargs[\"ewidth\"] = kwargs.get(\"ewidth\", 7)\n",
    "    mark = axes.graph(\n",
    "        edges,\n",
    "        vcoordinates=vertices,\n",
    "        **kwargs,\n",
    "    )\n",
    "    return mark\n",
    "```"
   ]
  }
 ],
 "metadata": {
  "kernelspec": {
   "display_name": "Python 3 (ipykernel)",
   "language": "python",
   "name": "python3"
  },
  "language_info": {
   "codemirror_mode": {
    "name": "ipython",
    "version": 3
   },
   "file_extension": ".py",
   "mimetype": "text/x-python",
   "name": "python",
   "nbconvert_exporter": "python",
   "pygments_lexer": "ipython3",
   "version": "3.8.10"
  }
 },
 "nbformat": 4,
 "nbformat_minor": 5
}
