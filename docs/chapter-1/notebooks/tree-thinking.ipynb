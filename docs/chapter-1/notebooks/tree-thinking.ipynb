{
 "cells": [
  {
   "cell_type": "markdown",
   "metadata": {},
   "source": [
    "# Tree thinking: interpreting phylogenetic trees\n",
    "\n",
    "\n",
    "## Learning objectives:\n",
    "\n",
    "By the end of this notebook you will:\n",
    "\n",
    "1. Be able to interpret relationships on a phylogenetic tree. \n",
    "2. Have increased understanding of the newick format for storing tree data. \n",
    "3. Know how to root, unroot, and re-root phylogenetic trees.\n",
    "4. Be more familiar with the `toytree` Python package."
   ]
  },
  {
   "cell_type": "markdown",
   "metadata": {},
   "source": [
    "### Understanding evolution using tree-thinking\n",
    "\n",
    "The philosopher of science Robert O'Hara stated, \"*It is impossible to really understand evolution without an ability to accurately interpret phylogenetic trees*\", and that \"*evolution itself is a theory of evolutionary trees*\" (O'Hara 1988, 1997). In biology generally, and in this book already, you have seen several examples of phylogenetic trees. But have you thought carefully about how to interpret these trees, and what information is being presented? There are actually several common pitfalls that most beginners make when interpreting phylogenetic trees, and that even practiced biologists often commit as well. Recognizing and avoiding these mistakes will make you a better biologist, by allowing you to better question and interpret hypotheses about evolutionary relationships from trees. "
   ]
  },
  {
   "cell_type": "markdown",
   "metadata": {},
   "source": [
    "### Phylogenetic trees\n",
    "A phylogenetic tree is a hypothesis of the inferred evolutionary relationships among a set of samples; the units represented at the tips. Sometimes, when we have fossil or ancient DNA data, we may have additional information about ancestral (internal) nodes in a tree. At the extreme, we may even have historical samples that are direct ancestors of later samples, such as in experimental evolution studies. However, most of the time the observed samples are represented at the tips, and all of other information in a tree represents a hypothesis. It is an attempt to describe a model of how a set of samples are related through evolutionary history.\n",
    "\n",
    "The way we interact with phylogenetic trees most frequently is as images. Most people have seen a phylogeny in a museum, or television program, or in the news. Phylogenies are ubiquitous throughout biology, where they are used to describe the relationships among species, populations, individuals (genealogies), genes, and gene copies. However, not all tree diagrams are phylogenies. Many other types of hierarchically structured data can also be visualized as trees, but often with a very different interpretation.\n",
    "\n",
    "Phylogenetic trees are distinct in that they are explicitly intended to represent evolution. This has consequence for how internal nodes in phylogenetic trees should be interpreted (as common ancestors), for the directionality in which they should read (root-to-tip, or vice versa), and for the types of relationships and information that can be extracted (i.e., how to describe evolutionary relationships)."
   ]
  },
  {
   "cell_type": "markdown",
   "metadata": {},
   "source": [
    "### More than an image\n",
    "\n",
    "Although we most often see phylogenetic trees as images, they can also be interpreted as statistical models. At its minimum, a phylogenetic tree represents a set of ancestor-descendant relationships. In addition, it may include information such as edge lengths that describe the magnitude of divergence between sets of samples. It may also include probabilities or weights as measures of confidence or support for the relationships. Many additional types of information can be contained in a phylogenetic tree that together represent a rich description of evolution, and often relate to parameters of the statistical inference method that was used to infer the phylogeny.\n",
    "\n",
    "The best way to start to understand phylogenies as a type of data, as opposed to simply a drawing, is to explore the use of trees as data objects. Below we will use the `toytree` Python package to load, manipulate, draw, and deconstruct trees to better understand the type of information contained in phylogenetic trees."
   ]
  },
  {
   "cell_type": "code",
   "execution_count": 1,
   "metadata": {},
   "outputs": [],
   "source": [
    "import toytree"
   ]
  },
  {
   "cell_type": "markdown",
   "metadata": {},
   "source": [
    "### Newick tree format\n",
    "\n",
    "The text string below defines a tree in [newick format](https://en.wikipedia.org/wiki/Newick_format). When researchers are working with phylogenetic trees as data, this is the main type of data they are working with: simple text files!\n",
    "\n",
    "This format could contain just the relationships -- described by nested parentheses like below -- or it can contain additional information such as branch lengths and/or support values, which we'll see later. You can see how the *nested* hierarchical relationship of a phylogeny (clades nested within clades) is easily represented by a *nested* set of parentheses. \n",
    "\n",
    "In the Python code block below, a <b>string</b> (the text contained within quotations) is <b>stored</b> to a <b>variable</b> called `newick1`. The name of the variable is arbitrary, we could have named it anything. Now we can reuse this object by referring to <i>newick1</i>, as we will see below."
   ]
  },
  {
   "cell_type": "code",
   "execution_count": 2,
   "metadata": {},
   "outputs": [],
   "source": [
    "# create a string variable storing a tree in newick format.\n",
    "newick1 = \"(gibbon, (orangutan, (gorilla, (chimp, human))));\""
   ]
  },
  {
   "cell_type": "markdown",
   "metadata": {},
   "source": [
    "### A tree object\n",
    "We can now parse this newick string to represent it as a `ToyTree` object in Python by using the function `toytree.tree`. This object has many functions associated with it for manipulating, drawings, comparing, and extracting information about trees. As you can see below, the ToyTree itself is just a Python class object in memory. Next we will start to call functions of this object to investigate its structure. "
   ]
  },
  {
   "cell_type": "code",
   "execution_count": 3,
   "metadata": {},
   "outputs": [],
   "source": [
    "# parse the 'newick1' string into a ToyTree object named 'tree1'\n",
    "tree1 = toytree.tree(newick1)"
   ]
  },
  {
   "cell_type": "code",
   "execution_count": 4,
   "metadata": {},
   "outputs": [
    {
     "data": {
      "text/plain": [
       "<toytree.ToyTree at 0x7f8143621fa0>"
      ]
     },
     "execution_count": 4,
     "metadata": {},
     "output_type": "execute_result"
    }
   ],
   "source": [
    "# this ToyTree is just a Python class object in memory.\n",
    "tree1"
   ]
  },
  {
   "cell_type": "markdown",
   "metadata": {},
   "source": [
    "### Drawing and interpreting trees\n",
    "Below is visualization of this tree created by calling the `.draw` function of the `ToyTree` object with a styling argument that shows an integer label for every node. \n",
    "\n",
    "This tree is rooted, with the gibbon as the outgroup (more on what this means in a minute). Because we know that the tree is rooted, we can interpret the evolutionary relationships by reading from the tips towards the root of the tree. To do so, select any two tips and trace back along their edges until you find the node where they meet. That is their *most recent common ancestor* (MRCA). Ancestors are by definition older than their descendants. Two samples which share a younger MRCA  are more closely related than two samples that share an older MRCA. \n",
    "Using this method, we can identify which samples are more closely related to each other than others."
   ]
  },
  {
   "cell_type": "code",
   "execution_count": 5,
   "metadata": {},
   "outputs": [
    {
     "data": {
      "text/html": [
       "<div class=\"toyplot\" id=\"tb3a1d02d033145a09cb8f4cc9f4f0b5c\" style=\"text-align:center\"><svg class=\"toyplot-canvas-Canvas\" xmlns:toyplot=\"http://www.sandia.gov/toyplot\" xmlns:xlink=\"http://www.w3.org/1999/xlink\" xmlns=\"http://www.w3.org/2000/svg\" width=\"295.0px\" height=\"275.0px\" viewBox=\"0 0 295.0 275.0\" preserveAspectRatio=\"xMidYMid meet\" style=\"background-color:transparent;border-color:#292724;border-style:none;border-width:1.0;fill:rgb(16.1%,15.3%,14.1%);fill-opacity:1.0;font-family:Helvetica;font-size:12px;opacity:1.0;stroke:rgb(16.1%,15.3%,14.1%);stroke-opacity:1.0;stroke-width:1.0\" id=\"tf667f0f135b44846963a709f52b43f1e\"><g class=\"toyplot-coordinates-Cartesian\" id=\"tf604d4b757d24c56ac5b7775cfd265ae\"><clipPath id=\"tc81644861a184c01a6bb16bbeb26d0c4\"><rect x=\"35.0\" y=\"35.0\" width=\"225.0\" height=\"205.0\"></rect></clipPath><g clip-path=\"url(#tc81644861a184c01a6bb16bbeb26d0c4)\"><g class=\"toytree-mark-Toytree\" id=\"t1db9be2da96049ff978ad644972915ca\"><g class=\"toytree-Edges\" style=\"fill:none;stroke:rgba(16.1%,15.3%,14.1%,1.000);stroke-linecap:round;stroke-width:2.0\"><path d=\"M 55.3 179.6 L 55.3 216.8 L 169.4 216.8\" id=\"8,0\" style=\"stroke-width:nan\"></path><path d=\"M 83.8 142.5 L 83.8 177.2 L 169.4 177.2\" id=\"7,1\" style=\"stroke-width:nan\"></path><path d=\"M 112.4 107.7 L 112.4 137.5 L 169.4 137.5\" id=\"6,2\" style=\"stroke-width:nan\"></path><path d=\"M 140.9 78.0 L 140.9 97.8 L 169.4 97.8\" id=\"5,3\" style=\"stroke-width:nan\"></path><path d=\"M 140.9 78.0 L 140.9 58.2 L 169.4 58.2\" id=\"5,4\" style=\"stroke-width:nan\"></path><path d=\"M 112.4 107.7 L 112.4 78.0 L 140.9 78.0\" id=\"6,5\" style=\"stroke-width:nan\"></path><path d=\"M 83.8 142.5 L 83.8 107.7 L 112.4 107.7\" id=\"7,6\" style=\"stroke-width:nan\"></path><path d=\"M 55.3 179.6 L 55.3 142.5 L 83.8 142.5\" id=\"8,7\" style=\"stroke-width:nan\"></path></g><g class=\"toytree-Nodes\" style=\"fill:rgba(82.7%,82.7%,82.7%,1.000);stroke:#262626;stroke-width:1.5\"><g id=\"node-0\" transform=\"translate(169.436,216.839)\"><circle r=\"9.0\"></circle></g><g id=\"node-1\" transform=\"translate(169.436,177.170)\"><circle r=\"9.0\"></circle></g><g id=\"node-2\" transform=\"translate(169.436,137.500)\"><circle r=\"9.0\"></circle></g><g id=\"node-3\" transform=\"translate(169.436,97.830)\"><circle r=\"9.0\"></circle></g><g id=\"node-4\" transform=\"translate(169.436,58.161)\"><circle r=\"9.0\"></circle></g><g id=\"node-5\" transform=\"translate(140.894,77.995)\"><circle r=\"9.0\"></circle></g><g id=\"node-6\" transform=\"translate(112.353,107.748)\"><circle r=\"9.0\"></circle></g><g id=\"node-7\" transform=\"translate(83.811,142.459)\"><circle r=\"9.0\"></circle></g><g id=\"node-8\" transform=\"translate(55.269,179.649)\"><circle r=\"9.0\"></circle></g></g><g class=\"toytree-NodeLabels\" style=\"font-family:Helvetica;font-size:9.0px;font-weight:300;stroke:none;vertical-align:baseline;white-space:pre\"><g class=\"toytree-NodeLabel\" transform=\"translate(169.43578750157627,216.83937823834196)\"><text x=\"-2.5020000000000002\" y=\"2.2995\" style=\"fill:rgb(16.1%,15.3%,14.1%);fill-opacity:1.0\">0</text></g><g class=\"toytree-NodeLabel\" transform=\"translate(169.43578750157627,177.16968911917095)\"><text x=\"-2.5020000000000002\" y=\"2.2995\" style=\"fill:rgb(16.1%,15.3%,14.1%);fill-opacity:1.0\">1</text></g><g class=\"toytree-NodeLabel\" transform=\"translate(169.43578750157627,137.5)\"><text x=\"-2.5020000000000002\" y=\"2.2995\" style=\"fill:rgb(16.1%,15.3%,14.1%);fill-opacity:1.0\">2</text></g><g class=\"toytree-NodeLabel\" transform=\"translate(169.43578750157627,97.83031088082902)\"><text x=\"-2.5020000000000002\" y=\"2.2995\" style=\"fill:rgb(16.1%,15.3%,14.1%);fill-opacity:1.0\">3</text></g><g class=\"toytree-NodeLabel\" transform=\"translate(169.43578750157627,58.16062176165802)\"><text x=\"-2.5020000000000002\" y=\"2.2995\" style=\"fill:rgb(16.1%,15.3%,14.1%);fill-opacity:1.0\">4</text></g><g class=\"toytree-NodeLabel\" transform=\"translate(140.89414710597902,77.99546632124353)\"><text x=\"-2.5020000000000002\" y=\"2.2995\" style=\"fill:rgb(16.1%,15.3%,14.1%);fill-opacity:1.0\">5</text></g><g class=\"toytree-NodeLabel\" transform=\"translate(112.35250671038173,107.74773316062175)\"><text x=\"-2.5020000000000002\" y=\"2.2995\" style=\"fill:rgb(16.1%,15.3%,14.1%);fill-opacity:1.0\">6</text></g><g class=\"toytree-NodeLabel\" transform=\"translate(83.81086631478446,142.45871113989637)\"><text x=\"-2.5020000000000002\" y=\"2.2995\" style=\"fill:rgb(16.1%,15.3%,14.1%);fill-opacity:1.0\">7</text></g><g class=\"toytree-NodeLabel\" transform=\"translate(55.26922591918719,179.64904468911917)\"><text x=\"-2.5020000000000002\" y=\"2.2995\" style=\"fill:rgb(16.1%,15.3%,14.1%);fill-opacity:1.0\">8</text></g></g><g class=\"toytree-TipLabels\" style=\"fill:rgb(16.1%,15.3%,14.1%);fill-opacity:1.0;font-family:Helvetica;font-size:11.0px;font-weight:300;stroke:none;vertical-align:baseline;white-space:pre\"><g class=\"toytree-TipLabel\" transform=\"translate(169.43578750157627,216.83937823834196)\"><text x=\"15.0\" y=\"2.8104999999999993\" style=\"\">gibbon</text></g><g class=\"toytree-TipLabel\" transform=\"translate(169.43578750157627,177.16968911917095)\"><text x=\"15.0\" y=\"2.8104999999999993\" style=\"\">orangutan</text></g><g class=\"toytree-TipLabel\" transform=\"translate(169.43578750157627,137.5)\"><text x=\"15.0\" y=\"2.8104999999999993\" style=\"\">gorilla</text></g><g class=\"toytree-TipLabel\" transform=\"translate(169.43578750157627,97.83031088082902)\"><text x=\"15.0\" y=\"2.8104999999999993\" style=\"\">chimp</text></g><g class=\"toytree-TipLabel\" transform=\"translate(169.43578750157627,58.16062176165802)\"><text x=\"15.0\" y=\"2.8104999999999993\" style=\"\">human</text></g></g></g></g></g></svg><div class=\"toyplot-behavior\"><script>(function()\n",
       "{\n",
       "var modules={};\n",
       "})();</script></div></div>"
      ]
     },
     "metadata": {},
     "output_type": "display_data"
    }
   ],
   "source": [
    "# call .draw function of tree1 to return a drawing that will display\n",
    "tree1.draw(tree_style='s');"
   ]
  },
  {
   "cell_type": "markdown",
   "metadata": {},
   "source": [
    "<div class=\"alert alert-success\">\n",
    "    <h3>Action 1:</h3> \n",
    "    \n",
    "In terms of the numbered labels on nodes: (1) which node represents the common ancestor of chimp and human? (2) Which is the common ancestor of orangutan and gibbon? (3) Which of those pairs is more closely related, and why? \n",
    "</div>"
   ]
  },
  {
   "cell_type": "markdown",
   "metadata": {},
   "source": [
    "<div class=\"alert alert-warning\">\n",
    "\n",
    "<details>\n",
    "  <summary><h3>Click for answer.</h3></summary>\n",
    "  \n",
    "1. Node 5 is common ancestor of Chimp and Human.\n",
    "2. Node 8 is common ancestor of Orangutan and Gibbon.\n",
    "3. The Chimp and Human are more closely related, because they share a more recent common ancestor. This is known because Node 8 is an ancestor of Node 5.\n",
    "</details>\n",
    "\n",
    "\n",
    "<div>"
   ]
  },
  {
   "cell_type": "markdown",
   "metadata": {},
   "source": [
    "### Pitfall #1: thinking the order of the tips is relevant\n",
    "\n",
    "A common pitfall when reading phylogenies is to think that because two tips are close to each other visually on the tree that they must also be closely related. This is wrong. As we just learned, the proper way to interpret evolutionary relationships on a tree is to trace back along the edges from the tips towards the root to find common ancestors. \n",
    "\n",
    "This point can be made clear by examining the same tree as above with nodes arbitrarily rotated such that the tip order changes, but the tree topology itself remains the same. The tree below is one such example, where node 7 has been rotated. One might erroneously read this tree to think that it now shows the Orangutan and Human are more closely related than in the previous tree, when in fact the tree still shows the exact same relationships it did before.\n",
    "\n",
    "<i> The tree looks different, but if we read it correctly we can see that the relationships have not changed</i>."
   ]
  },
  {
   "cell_type": "code",
   "execution_count": 6,
   "metadata": {},
   "outputs": [
    {
     "data": {
      "text/html": [
       "<div class=\"toyplot\" id=\"tff779cab2ae64b8dbed80358cb19dca9\" style=\"text-align:center\"><svg class=\"toyplot-canvas-Canvas\" xmlns:toyplot=\"http://www.sandia.gov/toyplot\" xmlns:xlink=\"http://www.w3.org/1999/xlink\" xmlns=\"http://www.w3.org/2000/svg\" width=\"295.0px\" height=\"275.0px\" viewBox=\"0 0 295.0 275.0\" preserveAspectRatio=\"xMidYMid meet\" style=\"background-color:transparent;border-color:#292724;border-style:none;border-width:1.0;fill:rgb(16.1%,15.3%,14.1%);fill-opacity:1.0;font-family:Helvetica;font-size:12px;opacity:1.0;stroke:rgb(16.1%,15.3%,14.1%);stroke-opacity:1.0;stroke-width:1.0\" id=\"tdadb903d286549d38c6cbac668e0255d\"><g class=\"toyplot-coordinates-Cartesian\" id=\"t65caee0bd07140e18e618dd0128509e6\"><clipPath id=\"t047bf92e9954487a9038b89f55cc3055\"><rect x=\"35.0\" y=\"35.0\" width=\"225.0\" height=\"205.0\"></rect></clipPath><g clip-path=\"url(#t047bf92e9954487a9038b89f55cc3055)\"><g class=\"toytree-mark-Toytree\" id=\"t76176c9e8c274a03bcc22dc04ce3add4\"><g class=\"toytree-Edges\" style=\"fill:none;stroke:rgba(16.1%,15.3%,14.1%,1.000);stroke-linecap:round;stroke-width:2.0\"><path d=\"M 55.3 159.8 L 55.3 216.8 L 169.4 216.8\" id=\"8,0\" style=\"stroke-width:nan\"></path><path d=\"M 112.4 147.4 L 112.4 177.2 L 169.4 177.2\" id=\"6,1\" style=\"stroke-width:nan\"></path><path d=\"M 140.9 117.7 L 140.9 137.5 L 169.4 137.5\" id=\"5,2\" style=\"stroke-width:nan\"></path><path d=\"M 140.9 117.7 L 140.9 97.8 L 169.4 97.8\" id=\"5,3\" style=\"stroke-width:nan\"></path><path d=\"M 83.8 102.8 L 83.8 58.2 L 169.4 58.2\" id=\"7,4\" style=\"stroke-width:nan\"></path><path d=\"M 112.4 147.4 L 112.4 117.7 L 140.9 117.7\" id=\"6,5\" style=\"stroke-width:nan\"></path><path d=\"M 83.8 102.8 L 83.8 147.4 L 112.4 147.4\" id=\"7,6\" style=\"stroke-width:nan\"></path><path d=\"M 55.3 159.8 L 55.3 102.8 L 83.8 102.8\" id=\"8,7\" style=\"stroke-width:nan\"></path></g><g class=\"toytree-Nodes\" style=\"fill:rgba(82.7%,82.7%,82.7%,1.000);stroke:#262626;stroke-width:1.5\"><g id=\"node-0\" transform=\"translate(169.436,216.839)\"><circle r=\"9.0\"></circle></g><g id=\"node-1\" transform=\"translate(169.436,177.170)\"><circle r=\"9.0\"></circle></g><g id=\"node-2\" transform=\"translate(169.436,137.500)\"><circle r=\"9.0\"></circle></g><g id=\"node-3\" transform=\"translate(169.436,97.830)\"><circle r=\"9.0\"></circle></g><g id=\"node-4\" transform=\"translate(169.436,58.161)\"><circle r=\"9.0\"></circle></g><g id=\"node-5\" transform=\"translate(140.894,117.665)\"><circle r=\"9.0\"></circle></g><g id=\"node-6\" transform=\"translate(112.353,147.417)\"><circle r=\"9.0\"></circle></g><g id=\"node-7\" transform=\"translate(83.811,102.789)\"><circle r=\"9.0\"></circle></g><g id=\"node-8\" transform=\"translate(55.269,159.814)\"><circle r=\"9.0\"></circle></g></g><g class=\"toytree-NodeLabels\" style=\"font-family:Helvetica;font-size:9.0px;font-weight:300;stroke:none;vertical-align:baseline;white-space:pre\"><g class=\"toytree-NodeLabel\" transform=\"translate(169.43578750157627,216.83937823834196)\"><text x=\"-2.5020000000000002\" y=\"2.2995\" style=\"fill:rgb(16.1%,15.3%,14.1%);fill-opacity:1.0\">0</text></g><g class=\"toytree-NodeLabel\" transform=\"translate(169.43578750157627,177.16968911917095)\"><text x=\"-2.5020000000000002\" y=\"2.2995\" style=\"fill:rgb(16.1%,15.3%,14.1%);fill-opacity:1.0\">1</text></g><g class=\"toytree-NodeLabel\" transform=\"translate(169.43578750157627,137.5)\"><text x=\"-2.5020000000000002\" y=\"2.2995\" style=\"fill:rgb(16.1%,15.3%,14.1%);fill-opacity:1.0\">2</text></g><g class=\"toytree-NodeLabel\" transform=\"translate(169.43578750157627,97.83031088082902)\"><text x=\"-2.5020000000000002\" y=\"2.2995\" style=\"fill:rgb(16.1%,15.3%,14.1%);fill-opacity:1.0\">3</text></g><g class=\"toytree-NodeLabel\" transform=\"translate(169.43578750157627,58.16062176165802)\"><text x=\"-2.5020000000000002\" y=\"2.2995\" style=\"fill:rgb(16.1%,15.3%,14.1%);fill-opacity:1.0\">4</text></g><g class=\"toytree-NodeLabel\" transform=\"translate(140.89414710597902,117.66515544041452)\"><text x=\"-2.5020000000000002\" y=\"2.2995\" style=\"fill:rgb(16.1%,15.3%,14.1%);fill-opacity:1.0\">5</text></g><g class=\"toytree-NodeLabel\" transform=\"translate(112.35250671038173,147.41742227979273)\"><text x=\"-2.5020000000000002\" y=\"2.2995\" style=\"fill:rgb(16.1%,15.3%,14.1%);fill-opacity:1.0\">6</text></g><g class=\"toytree-NodeLabel\" transform=\"translate(83.81086631478446,102.78902202072538)\"><text x=\"-2.5020000000000002\" y=\"2.2995\" style=\"fill:rgb(16.1%,15.3%,14.1%);fill-opacity:1.0\">7</text></g><g class=\"toytree-NodeLabel\" transform=\"translate(55.26922591918719,159.81420012953367)\"><text x=\"-2.5020000000000002\" y=\"2.2995\" style=\"fill:rgb(16.1%,15.3%,14.1%);fill-opacity:1.0\">8</text></g></g><g class=\"toytree-TipLabels\" style=\"fill:rgb(16.1%,15.3%,14.1%);fill-opacity:1.0;font-family:Helvetica;font-size:11.0px;font-weight:300;stroke:none;vertical-align:baseline;white-space:pre\"><g class=\"toytree-TipLabel\" transform=\"translate(169.43578750157627,216.83937823834196)\"><text x=\"15.0\" y=\"2.8104999999999993\" style=\"\">gibbon</text></g><g class=\"toytree-TipLabel\" transform=\"translate(169.43578750157627,177.16968911917095)\"><text x=\"15.0\" y=\"2.8104999999999993\" style=\"\">gorilla</text></g><g class=\"toytree-TipLabel\" transform=\"translate(169.43578750157627,137.5)\"><text x=\"15.0\" y=\"2.8104999999999993\" style=\"\">chimp</text></g><g class=\"toytree-TipLabel\" transform=\"translate(169.43578750157627,97.83031088082902)\"><text x=\"15.0\" y=\"2.8104999999999993\" style=\"\">human</text></g><g class=\"toytree-TipLabel\" transform=\"translate(169.43578750157627,58.16062176165802)\"><text x=\"15.0\" y=\"2.8104999999999993\" style=\"\">orangutan</text></g></g></g></g></g></svg><div class=\"toyplot-behavior\"><script>(function()\n",
       "{\n",
       "var modules={};\n",
       "})();</script></div></div>"
      ]
     },
     "metadata": {},
     "output_type": "display_data"
    }
   ],
   "source": [
    "tree1.mod.rotate_node(7).draw(tree_style='s');"
   ]
  },
  {
   "cell_type": "markdown",
   "metadata": {},
   "source": [
    "Consider also the following tree, in which the tip order has been greatly changed. This is of course not a standard way to visualize trees, since the overlapping edges makes it harder to interpret, but nevertheless, the tree topology remains the same. This is a clear example where intepreting the closeness of the tips would be misleading, since one might think that the Gibbon is most closely related to Humans, when in fact we know that this tree still shown Human and Chimp to be most closely related, and that the Gibbon is most distant, and equally related to all other samples. "
   ]
  },
  {
   "cell_type": "code",
   "execution_count": 9,
   "metadata": {},
   "outputs": [
    {
     "data": {
      "text/html": [
       "<div class=\"toyplot\" id=\"t6fea4d29bce74e6ca2f91d0fe2388023\" style=\"text-align:center\"><svg class=\"toyplot-canvas-Canvas\" xmlns:toyplot=\"http://www.sandia.gov/toyplot\" xmlns:xlink=\"http://www.w3.org/1999/xlink\" xmlns=\"http://www.w3.org/2000/svg\" width=\"295.0px\" height=\"275.0px\" viewBox=\"0 0 295.0 275.0\" preserveAspectRatio=\"xMidYMid meet\" style=\"background-color:transparent;border-color:#292724;border-style:none;border-width:1.0;fill:rgb(16.1%,15.3%,14.1%);fill-opacity:1.0;font-family:Helvetica;font-size:12px;opacity:1.0;stroke:rgb(16.1%,15.3%,14.1%);stroke-opacity:1.0;stroke-width:1.0\" id=\"t7220dd55a3d9402f9e9b9b50c442aaef\"><g class=\"toyplot-coordinates-Cartesian\" id=\"t24a51e44610d41f79df24bb7b12bc6b4\"><clipPath id=\"t043344883de54f6cb712bca977a018b5\"><rect x=\"35.0\" y=\"35.0\" width=\"225.0\" height=\"205.0\"></rect></clipPath><g clip-path=\"url(#t043344883de54f6cb712bca977a018b5)\"><g class=\"toytree-mark-Toytree\" id=\"t6c4b9ec81b7a4939a5dfd646ade345fb\"><g class=\"toytree-Edges\" style=\"fill:none;stroke:rgba(16.1%,15.3%,14.1%,1.000);stroke-linecap:round;stroke-width:2.0\"><path d=\"M 55.3 132.5 L 169.4 97.8\" id=\"8,0\" style=\"stroke-width:nan\"></path><path d=\"M 83.8 167.3 L 169.4 177.2\" id=\"7,1\" style=\"stroke-width:nan\"></path><path d=\"M 112.4 157.3 L 169.4 216.8\" id=\"6,2\" style=\"stroke-width:nan\"></path><path d=\"M 140.9 97.8 L 169.4 137.5\" id=\"5,3\" style=\"stroke-width:nan\"></path><path d=\"M 140.9 97.8 L 169.4 58.2\" id=\"5,4\" style=\"stroke-width:nan\"></path><path d=\"M 112.4 157.3 L 140.9 97.8\" id=\"6,5\" style=\"stroke-width:nan\"></path><path d=\"M 83.8 167.3 L 112.4 157.3\" id=\"7,6\" style=\"stroke-width:nan\"></path><path d=\"M 55.3 132.5 L 83.8 167.3\" id=\"8,7\" style=\"stroke-width:nan\"></path></g><g class=\"toytree-Nodes\" style=\"fill:rgba(82.7%,82.7%,82.7%,1.000);stroke:#262626;stroke-width:1.5\"><g id=\"node-0\" transform=\"translate(169.436,97.830)\"><circle r=\"9.0\"></circle></g><g id=\"node-1\" transform=\"translate(169.436,177.170)\"><circle r=\"9.0\"></circle></g><g id=\"node-2\" transform=\"translate(169.436,216.839)\"><circle r=\"9.0\"></circle></g><g id=\"node-3\" transform=\"translate(169.436,137.500)\"><circle r=\"9.0\"></circle></g><g id=\"node-4\" transform=\"translate(169.436,58.161)\"><circle r=\"9.0\"></circle></g><g id=\"node-5\" transform=\"translate(140.894,97.830)\"><circle r=\"9.0\"></circle></g><g id=\"node-6\" transform=\"translate(112.353,157.335)\"><circle r=\"9.0\"></circle></g><g id=\"node-7\" transform=\"translate(83.811,167.252)\"><circle r=\"9.0\"></circle></g><g id=\"node-8\" transform=\"translate(55.269,132.541)\"><circle r=\"9.0\"></circle></g></g><g class=\"toytree-NodeLabels\" style=\"font-family:Helvetica;font-size:9.0px;font-weight:300;stroke:none;vertical-align:baseline;white-space:pre\"><g class=\"toytree-NodeLabel\" transform=\"translate(169.43578750157627,97.83031088082902)\"><text x=\"-2.5020000000000002\" y=\"2.2995\" style=\"fill:rgb(16.1%,15.3%,14.1%);fill-opacity:1.0\">0</text></g><g class=\"toytree-NodeLabel\" transform=\"translate(169.43578750157627,177.16968911917095)\"><text x=\"-2.5020000000000002\" y=\"2.2995\" style=\"fill:rgb(16.1%,15.3%,14.1%);fill-opacity:1.0\">1</text></g><g class=\"toytree-NodeLabel\" transform=\"translate(169.43578750157627,216.83937823834196)\"><text x=\"-2.5020000000000002\" y=\"2.2995\" style=\"fill:rgb(16.1%,15.3%,14.1%);fill-opacity:1.0\">2</text></g><g class=\"toytree-NodeLabel\" transform=\"translate(169.43578750157627,137.5)\"><text x=\"-2.5020000000000002\" y=\"2.2995\" style=\"fill:rgb(16.1%,15.3%,14.1%);fill-opacity:1.0\">3</text></g><g class=\"toytree-NodeLabel\" transform=\"translate(169.43578750157627,58.16062176165802)\"><text x=\"-2.5020000000000002\" y=\"2.2995\" style=\"fill:rgb(16.1%,15.3%,14.1%);fill-opacity:1.0\">4</text></g><g class=\"toytree-NodeLabel\" transform=\"translate(140.89414710597902,97.83031088082902)\"><text x=\"-2.5020000000000002\" y=\"2.2995\" style=\"fill:rgb(16.1%,15.3%,14.1%);fill-opacity:1.0\">5</text></g><g class=\"toytree-NodeLabel\" transform=\"translate(112.35250671038173,157.3348445595855)\"><text x=\"-2.5020000000000002\" y=\"2.2995\" style=\"fill:rgb(16.1%,15.3%,14.1%);fill-opacity:1.0\">6</text></g><g class=\"toytree-NodeLabel\" transform=\"translate(83.81086631478446,167.25226683937822)\"><text x=\"-2.5020000000000002\" y=\"2.2995\" style=\"fill:rgb(16.1%,15.3%,14.1%);fill-opacity:1.0\">7</text></g><g class=\"toytree-NodeLabel\" transform=\"translate(55.26922591918719,132.54128886010363)\"><text x=\"-2.5020000000000002\" y=\"2.2995\" style=\"fill:rgb(16.1%,15.3%,14.1%);fill-opacity:1.0\">8</text></g></g><g class=\"toytree-TipLabels\" style=\"fill:rgb(16.1%,15.3%,14.1%);fill-opacity:1.0;font-family:Helvetica;font-size:11.0px;font-weight:300;stroke:none;vertical-align:baseline;white-space:pre\"><g class=\"toytree-TipLabel\" transform=\"translate(169.43578750157627,97.83031088082902)\"><text x=\"15.0\" y=\"2.8104999999999993\" style=\"\">gibbon</text></g><g class=\"toytree-TipLabel\" transform=\"translate(169.43578750157627,177.16968911917095)\"><text x=\"15.0\" y=\"2.8104999999999993\" style=\"\">orangutan</text></g><g class=\"toytree-TipLabel\" transform=\"translate(169.43578750157627,216.83937823834196)\"><text x=\"15.0\" y=\"2.8104999999999993\" style=\"\">gorilla</text></g><g class=\"toytree-TipLabel\" transform=\"translate(169.43578750157627,137.5)\"><text x=\"15.0\" y=\"2.8104999999999993\" style=\"\">chimp</text></g><g class=\"toytree-TipLabel\" transform=\"translate(169.43578750157627,58.16062176165802)\"><text x=\"15.0\" y=\"2.8104999999999993\" style=\"\">human</text></g></g></g></g></g></svg><div class=\"toyplot-behavior\"><script>(function()\n",
       "{\n",
       "var modules={};\n",
       "})();</script></div></div>"
      ]
     },
     "metadata": {},
     "output_type": "display_data"
    }
   ],
   "source": [
    "tree1.draw(tree_style='s', edge_type='c', fixed_position=[3, 1, 0, 2, 4],);"
   ]
  },
  {
   "cell_type": "markdown",
   "metadata": {},
   "source": [
    "So far we have been finding the MRCA visually, but of course this task can be automated with code when our tree is represented as a data object, and not just a drawing. This becomes quite useful when working with very large trees, and is used frequently in computational tasks involving tree data. Below we use the function `get_mrca_node` of a ToyTree object which can take any number tip node names as arguments and returns the Node object that is the MRCA."
   ]
  },
  {
   "cell_type": "code",
   "execution_count": 10,
   "metadata": {},
   "outputs": [
    {
     "name": "stdout",
     "output_type": "stream",
     "text": [
      "Node(idx=5)\n",
      "Node(idx=6)\n",
      "Node(idx=8)\n"
     ]
    }
   ],
   "source": [
    "# the .get_mrca_node function will return the common ancestor \n",
    "print(tree1.get_mrca_node(\"human\", \"chimp\"))\n",
    "print(tree1.get_mrca_node(\"human\", \"chimp\", \"gorilla\"))\n",
    "print(tree1.get_mrca_node(\"gorilla\", \"gibbon\"))"
   ]
  },
  {
   "cell_type": "markdown",
   "metadata": {},
   "source": [
    "### Internal labels and clades\n",
    "Before proceeding we will digress to discuss the node labels that we have been using thus far to refer to the internal nodes of the tree. If you look back at the newick string that was used to create the trees that we have been working with so far you will see that they do not have these integer labels in the data. So where did they come from? \n",
    "\n",
    "`toytree` assigns a unique integer label to every node when a ToyTree object is created. This is simply a way to uniquely refer to every node. The numbers are assigned in order, first to the tips, and then to internal nodes in increasing order until the root is reached. However, if the tree topology *is changed* then the internal node numbering will change as well. As we just saw, rotating nodes does not change the topology, however, an actual change to the relationships would change the topology. So beware when reading the integer labels (referred to as *node idx labels*). \n",
    "\n",
    "A safer, and more evolutionary way to refer to internal nodes of a tree is to refer to *who they are a common ancestor of*. In other words, to refer to a node by the **clade** that it forms. By definition, a clade is a group of all samples in a tree that descend from a MRCA. Another term associated with this is to say that the group of samples is **monophyletic**. \n",
    "\n",
    "For example, we would refer to Node 5 from above as the common ancestor of the clade that includes Human and Chimp. This is in code below by getting the MRCA of a set of taxa and then printing which samples are members of the clade descended from that node. As you can see in the last example, we find the MRCA of Gorilla and Gibbon (just 2 samples), but the clade descended from this MRCA node includes all samples (5 samples). This is because Gorilla and Gibbon alone do not form a monophyletic clade. "
   ]
  },
  {
   "cell_type": "code",
   "execution_count": 11,
   "metadata": {},
   "outputs": [
    {
     "name": "stdout",
     "output_type": "stream",
     "text": [
      "Node(idx=5) ['chimp', 'human']\n",
      "Node(idx=6) ['gorilla', 'chimp', 'human']\n",
      "Node(idx=8) ['gibbon', 'orangutan', 'gorilla', 'chimp', 'human']\n"
     ]
    }
   ],
   "source": [
    "# print the MRCA Node object, and the tip names descended from it.\n",
    "mrca = tree1.get_mrca_node(\"human\", \"chimp\")\n",
    "print(mrca, mrca.get_leaf_names())\n",
    "\n",
    "mrca = tree1.get_mrca_node(\"human\", \"chimp\", \"gorilla\")\n",
    "print(mrca, mrca.get_leaf_names())\n",
    "\n",
    "mrca = tree1.get_mrca_node(\"gorilla\", \"gibbon\")\n",
    "print(mrca, mrca.get_leaf_names())"
   ]
  },
  {
   "cell_type": "markdown",
   "metadata": {},
   "source": [
    "<div class=\"alert alert-success\">\n",
    "    <h3>Action 2:</h3> \n",
    "    \n",
    "Which of the four trees below shows a different phylogenetic relationship from the other?\n",
    "</div>"
   ]
  },
  {
   "cell_type": "code",
   "execution_count": 12,
   "metadata": {},
   "outputs": [
    {
     "data": {
      "text/html": [
       "<div class=\"toyplot\" id=\"t4e7f4e2bcfe2408cbb17ed25af1343d5\" style=\"text-align:center\"><svg class=\"toyplot-canvas-Canvas\" xmlns:toyplot=\"http://www.sandia.gov/toyplot\" xmlns:xlink=\"http://www.w3.org/1999/xlink\" xmlns=\"http://www.w3.org/2000/svg\" width=\"750.0px\" height=\"250.0px\" viewBox=\"0 0 750.0 250.0\" preserveAspectRatio=\"xMidYMid meet\" style=\"background-color:transparent;border-color:#292724;border-style:none;border-width:1.0;fill:rgb(16.1%,15.3%,14.1%);fill-opacity:1.0;font-family:Helvetica;font-size:12px;opacity:1.0;stroke:rgb(16.1%,15.3%,14.1%);stroke-opacity:1.0;stroke-width:1.0\" id=\"t7d9c9c08d4824cdc8cba4f05e40a8fdf\"><g class=\"toyplot-coordinates-Cartesian\" id=\"t8c79f9ead102444da15b5c6ee5d0cd72\"><clipPath id=\"t37124bab95ab4ba1897ad05a96e8f7b9\"><rect x=\"20.0\" y=\"40.0\" width=\"167.5\" height=\"170.0\"></rect></clipPath><g clip-path=\"url(#t37124bab95ab4ba1897ad05a96e8f7b9)\"><g class=\"toytree-mark-Toytree\" id=\"t9f3ec4b79f8849e2a304bc250e4d689c\"><g class=\"toytree-Edges\" style=\"fill:none;stroke:rgba(16.1%,15.3%,14.1%,1.000);stroke-linecap:round;stroke-width:2.0\"><path d=\"M 34.2 161.2 L 34.2 193.2 L 116.3 193.2\" id=\"8,0\" style=\"stroke-width:nan\"></path><path d=\"M 54.7 129.3 L 54.7 159.1 L 116.3 159.1\" id=\"7,1\" style=\"stroke-width:nan\"></path><path d=\"M 75.2 99.4 L 75.2 125.0 L 116.3 125.0\" id=\"6,2\" style=\"stroke-width:nan\"></path><path d=\"M 95.7 73.9 L 95.7 90.9 L 116.3 90.9\" id=\"5,3\" style=\"stroke-width:nan\"></path><path d=\"M 95.7 73.9 L 95.7 56.8 L 116.3 56.8\" id=\"5,4\" style=\"stroke-width:nan\"></path><path d=\"M 75.2 99.4 L 75.2 73.9 L 95.7 73.9\" id=\"6,5\" style=\"stroke-width:nan\"></path><path d=\"M 54.7 129.3 L 54.7 99.4 L 75.2 99.4\" id=\"7,6\" style=\"stroke-width:nan\"></path><path d=\"M 34.2 161.2 L 34.2 129.3 L 54.7 129.3\" id=\"8,7\" style=\"stroke-width:nan\"></path></g><g class=\"toytree-Nodes\" style=\"fill:rgba(82.7%,82.7%,82.7%,1.000);stroke:#262626;stroke-width:1.5\"><g id=\"node-0\" transform=\"translate(116.254,193.182)\"><circle r=\"7.5\"></circle></g><g id=\"node-1\" transform=\"translate(116.254,159.091)\"><circle r=\"7.5\"></circle></g><g id=\"node-2\" transform=\"translate(116.254,125.000)\"><circle r=\"7.5\"></circle></g><g id=\"node-3\" transform=\"translate(116.254,90.909)\"><circle r=\"7.5\"></circle></g><g id=\"node-4\" transform=\"translate(116.254,56.818)\"><circle r=\"7.5\"></circle></g><g id=\"node-5\" transform=\"translate(95.734,73.864)\"><circle r=\"7.5\"></circle></g><g id=\"node-6\" transform=\"translate(75.214,99.432)\"><circle r=\"7.5\"></circle></g><g id=\"node-7\" transform=\"translate(54.694,129.261)\"><circle r=\"7.5\"></circle></g><g id=\"node-8\" transform=\"translate(34.174,161.222)\"><circle r=\"7.5\"></circle></g></g><g class=\"toytree-NodeLabels\" style=\"font-family:Helvetica;font-size:9.0px;font-weight:300;stroke:none;vertical-align:baseline;white-space:pre\"><g class=\"toytree-NodeLabel\" transform=\"translate(116.25405568550516,193.1818181818182)\"><text x=\"-2.5020000000000002\" y=\"2.2995\" style=\"fill:rgb(16.1%,15.3%,14.1%);fill-opacity:1.0\">0</text></g><g class=\"toytree-NodeLabel\" transform=\"translate(116.25405568550516,159.0909090909091)\"><text x=\"-2.5020000000000002\" y=\"2.2995\" style=\"fill:rgb(16.1%,15.3%,14.1%);fill-opacity:1.0\">1</text></g><g class=\"toytree-NodeLabel\" transform=\"translate(116.25405568550516,125.0)\"><text x=\"-2.5020000000000002\" y=\"2.2995\" style=\"fill:rgb(16.1%,15.3%,14.1%);fill-opacity:1.0\">2</text></g><g class=\"toytree-NodeLabel\" transform=\"translate(116.25405568550516,90.9090909090909)\"><text x=\"-2.5020000000000002\" y=\"2.2995\" style=\"fill:rgb(16.1%,15.3%,14.1%);fill-opacity:1.0\">3</text></g><g class=\"toytree-NodeLabel\" transform=\"translate(116.25405568550516,56.81818181818183)\"><text x=\"-2.5020000000000002\" y=\"2.2995\" style=\"fill:rgb(16.1%,15.3%,14.1%);fill-opacity:1.0\">4</text></g><g class=\"toytree-NodeLabel\" transform=\"translate(95.73393759903418,73.86363636363637)\"><text x=\"-2.5020000000000002\" y=\"2.2995\" style=\"fill:rgb(16.1%,15.3%,14.1%);fill-opacity:1.0\">5</text></g><g class=\"toytree-NodeLabel\" transform=\"translate(75.2138195125632,99.43181818181819)\"><text x=\"-2.5020000000000002\" y=\"2.2995\" style=\"fill:rgb(16.1%,15.3%,14.1%);fill-opacity:1.0\">6</text></g><g class=\"toytree-NodeLabel\" transform=\"translate(54.693701426092204,129.26136363636363)\"><text x=\"-2.5020000000000002\" y=\"2.2995\" style=\"fill:rgb(16.1%,15.3%,14.1%);fill-opacity:1.0\">7</text></g><g class=\"toytree-NodeLabel\" transform=\"translate(34.173583339621224,161.2215909090909)\"><text x=\"-2.5020000000000002\" y=\"2.2995\" style=\"fill:rgb(16.1%,15.3%,14.1%);fill-opacity:1.0\">8</text></g></g><g class=\"toytree-TipLabels\" style=\"fill:rgb(16.1%,15.3%,14.1%);fill-opacity:1.0;font-family:Helvetica;font-size:10.0px;font-weight:300;stroke:none;vertical-align:baseline;white-space:pre\"><g class=\"toytree-TipLabel\" transform=\"translate(116.25405568550516,193.1818181818182)\"><text x=\"10.0\" y=\"2.5549999999999997\" style=\"\">gibbon</text></g><g class=\"toytree-TipLabel\" transform=\"translate(116.25405568550516,159.0909090909091)\"><text x=\"10.0\" y=\"2.5549999999999997\" style=\"\">orangutan</text></g><g class=\"toytree-TipLabel\" transform=\"translate(116.25405568550516,125.0)\"><text x=\"10.0\" y=\"2.5549999999999997\" style=\"\">gorilla</text></g><g class=\"toytree-TipLabel\" transform=\"translate(116.25405568550516,90.9090909090909)\"><text x=\"10.0\" y=\"2.5549999999999997\" style=\"\">chimp</text></g><g class=\"toytree-TipLabel\" transform=\"translate(116.25405568550516,56.81818181818183)\"><text x=\"10.0\" y=\"2.5549999999999997\" style=\"\">human</text></g></g></g></g></g><g class=\"toyplot-coordinates-Cartesian\" id=\"t222fe4f818754ea995c1ba8cfe8d51d5\"><clipPath id=\"td157bcaec4a04bff901a70a3c1d40214\"><rect x=\"207.5\" y=\"40.0\" width=\"167.5\" height=\"170.0\"></rect></clipPath><g clip-path=\"url(#td157bcaec4a04bff901a70a3c1d40214)\"><g class=\"toytree-mark-Toytree\" id=\"tb6bf6e8add3b4b4dabe7961de4506d8c\"><g class=\"toytree-Edges\" style=\"fill:none;stroke:rgba(16.1%,15.3%,14.1%,1.000);stroke-linecap:round;stroke-width:2.0\"><path d=\"M 283.2 176.1 L 283.2 193.2 L 303.8 193.2\" id=\"5,0\" style=\"stroke-width:nan\"></path><path d=\"M 283.2 176.1 L 283.2 159.1 L 303.8 159.1\" id=\"5,1\" style=\"stroke-width:nan\"></path><path d=\"M 262.7 150.6 L 262.7 125.0 L 303.8 125.0\" id=\"6,2\" style=\"stroke-width:nan\"></path><path d=\"M 242.2 120.7 L 242.2 90.9 L 303.8 90.9\" id=\"7,3\" style=\"stroke-width:nan\"></path><path d=\"M 221.7 88.8 L 221.7 56.8 L 303.8 56.8\" id=\"8,4\" style=\"stroke-width:nan\"></path><path d=\"M 262.7 150.6 L 262.7 176.1 L 283.2 176.1\" id=\"6,5\" style=\"stroke-width:nan\"></path><path d=\"M 242.2 120.7 L 242.2 150.6 L 262.7 150.6\" id=\"7,6\" style=\"stroke-width:nan\"></path><path d=\"M 221.7 88.8 L 221.7 120.7 L 242.2 120.7\" id=\"8,7\" style=\"stroke-width:nan\"></path></g><g class=\"toytree-Nodes\" style=\"fill:rgba(82.7%,82.7%,82.7%,1.000);stroke:#262626;stroke-width:1.5\"><g id=\"node-0\" transform=\"translate(303.754,193.182)\"><circle r=\"7.5\"></circle></g><g id=\"node-1\" transform=\"translate(303.754,159.091)\"><circle r=\"7.5\"></circle></g><g id=\"node-2\" transform=\"translate(303.754,125.000)\"><circle r=\"7.5\"></circle></g><g id=\"node-3\" transform=\"translate(303.754,90.909)\"><circle r=\"7.5\"></circle></g><g id=\"node-4\" transform=\"translate(303.754,56.818)\"><circle r=\"7.5\"></circle></g><g id=\"node-5\" transform=\"translate(283.234,176.136)\"><circle r=\"7.5\"></circle></g><g id=\"node-6\" transform=\"translate(262.714,150.568)\"><circle r=\"7.5\"></circle></g><g id=\"node-7\" transform=\"translate(242.194,120.739)\"><circle r=\"7.5\"></circle></g><g id=\"node-8\" transform=\"translate(221.674,88.778)\"><circle r=\"7.5\"></circle></g></g><g class=\"toytree-NodeLabels\" style=\"font-family:Helvetica;font-size:9.0px;font-weight:300;stroke:none;vertical-align:baseline;white-space:pre\"><g class=\"toytree-NodeLabel\" transform=\"translate(303.75405568550514,193.1818181818182)\"><text x=\"-2.5020000000000002\" y=\"2.2995\" style=\"fill:rgb(16.1%,15.3%,14.1%);fill-opacity:1.0\">0</text></g><g class=\"toytree-NodeLabel\" transform=\"translate(303.75405568550514,159.0909090909091)\"><text x=\"-2.5020000000000002\" y=\"2.2995\" style=\"fill:rgb(16.1%,15.3%,14.1%);fill-opacity:1.0\">1</text></g><g class=\"toytree-NodeLabel\" transform=\"translate(303.75405568550514,125.0)\"><text x=\"-2.5020000000000002\" y=\"2.2995\" style=\"fill:rgb(16.1%,15.3%,14.1%);fill-opacity:1.0\">2</text></g><g class=\"toytree-NodeLabel\" transform=\"translate(303.75405568550514,90.9090909090909)\"><text x=\"-2.5020000000000002\" y=\"2.2995\" style=\"fill:rgb(16.1%,15.3%,14.1%);fill-opacity:1.0\">3</text></g><g class=\"toytree-NodeLabel\" transform=\"translate(303.75405568550514,56.81818181818183)\"><text x=\"-2.5020000000000002\" y=\"2.2995\" style=\"fill:rgb(16.1%,15.3%,14.1%);fill-opacity:1.0\">4</text></g><g class=\"toytree-NodeLabel\" transform=\"translate(283.2339375990342,176.13636363636363)\"><text x=\"-2.5020000000000002\" y=\"2.2995\" style=\"fill:rgb(16.1%,15.3%,14.1%);fill-opacity:1.0\">5</text></g><g class=\"toytree-NodeLabel\" transform=\"translate(262.7138195125632,150.5681818181818)\"><text x=\"-2.5020000000000002\" y=\"2.2995\" style=\"fill:rgb(16.1%,15.3%,14.1%);fill-opacity:1.0\">6</text></g><g class=\"toytree-NodeLabel\" transform=\"translate(242.1937014260922,120.73863636363636)\"><text x=\"-2.5020000000000002\" y=\"2.2995\" style=\"fill:rgb(16.1%,15.3%,14.1%);fill-opacity:1.0\">7</text></g><g class=\"toytree-NodeLabel\" transform=\"translate(221.67358333962122,88.7784090909091)\"><text x=\"-2.5020000000000002\" y=\"2.2995\" style=\"fill:rgb(16.1%,15.3%,14.1%);fill-opacity:1.0\">8</text></g></g><g class=\"toytree-TipLabels\" style=\"fill:rgb(16.1%,15.3%,14.1%);fill-opacity:1.0;font-family:Helvetica;font-size:10.0px;font-weight:300;stroke:none;vertical-align:baseline;white-space:pre\"><g class=\"toytree-TipLabel\" transform=\"translate(303.75405568550514,193.1818181818182)\"><text x=\"10.0\" y=\"2.5549999999999997\" style=\"\">human</text></g><g class=\"toytree-TipLabel\" transform=\"translate(303.75405568550514,159.0909090909091)\"><text x=\"10.0\" y=\"2.5549999999999997\" style=\"\">chimp</text></g><g class=\"toytree-TipLabel\" transform=\"translate(303.75405568550514,125.0)\"><text x=\"10.0\" y=\"2.5549999999999997\" style=\"\">gorilla</text></g><g class=\"toytree-TipLabel\" transform=\"translate(303.75405568550514,90.9090909090909)\"><text x=\"10.0\" y=\"2.5549999999999997\" style=\"\">orangutan</text></g><g class=\"toytree-TipLabel\" transform=\"translate(303.75405568550514,56.81818181818183)\"><text x=\"10.0\" y=\"2.5549999999999997\" style=\"\">gibbon</text></g></g></g></g></g><g class=\"toyplot-coordinates-Cartesian\" id=\"t3c4023da22ac4b5bbaa4cc329009e45d\"><clipPath id=\"taf383ec25cf14526b986ceff9ef6344f\"><rect x=\"395.0\" y=\"40.0\" width=\"167.5\" height=\"170.0\"></rect></clipPath><g clip-path=\"url(#taf383ec25cf14526b986ceff9ef6344f)\"><g class=\"toytree-mark-Toytree\" id=\"tc4fc9614295c47e39ac60e61d32bb90b\"><g class=\"toytree-Edges\" style=\"fill:none;stroke:rgba(16.1%,15.3%,14.1%,1.000);stroke-linecap:round;stroke-width:2.0\"><path d=\"M 470.7 176.1 L 470.7 193.2 L 491.3 193.2\" id=\"5,0\" style=\"stroke-width:nan\"></path><path d=\"M 470.7 176.1 L 470.7 159.1 L 491.3 159.1\" id=\"5,1\" style=\"stroke-width:nan\"></path><path d=\"M 450.2 150.6 L 450.2 125.0 L 491.3 125.0\" id=\"6,2\" style=\"stroke-width:nan\"></path><path d=\"M 429.7 120.7 L 429.7 90.9 L 491.3 90.9\" id=\"7,3\" style=\"stroke-width:nan\"></path><path d=\"M 409.2 88.8 L 409.2 56.8 L 491.3 56.8\" id=\"8,4\" style=\"stroke-width:nan\"></path><path d=\"M 450.2 150.6 L 450.2 176.1 L 470.7 176.1\" id=\"6,5\" style=\"stroke-width:nan\"></path><path d=\"M 429.7 120.7 L 429.7 150.6 L 450.2 150.6\" id=\"7,6\" style=\"stroke-width:nan\"></path><path d=\"M 409.2 88.8 L 409.2 120.7 L 429.7 120.7\" id=\"8,7\" style=\"stroke-width:nan\"></path></g><g class=\"toytree-Nodes\" style=\"fill:rgba(82.7%,82.7%,82.7%,1.000);stroke:#262626;stroke-width:1.5\"><g id=\"node-0\" transform=\"translate(491.254,193.182)\"><circle r=\"7.5\"></circle></g><g id=\"node-1\" transform=\"translate(491.254,159.091)\"><circle r=\"7.5\"></circle></g><g id=\"node-2\" transform=\"translate(491.254,125.000)\"><circle r=\"7.5\"></circle></g><g id=\"node-3\" transform=\"translate(491.254,90.909)\"><circle r=\"7.5\"></circle></g><g id=\"node-4\" transform=\"translate(491.254,56.818)\"><circle r=\"7.5\"></circle></g><g id=\"node-5\" transform=\"translate(470.734,176.136)\"><circle r=\"7.5\"></circle></g><g id=\"node-6\" transform=\"translate(450.214,150.568)\"><circle r=\"7.5\"></circle></g><g id=\"node-7\" transform=\"translate(429.694,120.739)\"><circle r=\"7.5\"></circle></g><g id=\"node-8\" transform=\"translate(409.174,88.778)\"><circle r=\"7.5\"></circle></g></g><g class=\"toytree-NodeLabels\" style=\"font-family:Helvetica;font-size:9.0px;font-weight:300;stroke:none;vertical-align:baseline;white-space:pre\"><g class=\"toytree-NodeLabel\" transform=\"translate(491.25405568550525,193.1818181818182)\"><text x=\"-2.5020000000000002\" y=\"2.2995\" style=\"fill:rgb(16.1%,15.3%,14.1%);fill-opacity:1.0\">0</text></g><g class=\"toytree-NodeLabel\" transform=\"translate(491.25405568550525,159.0909090909091)\"><text x=\"-2.5020000000000002\" y=\"2.2995\" style=\"fill:rgb(16.1%,15.3%,14.1%);fill-opacity:1.0\">1</text></g><g class=\"toytree-NodeLabel\" transform=\"translate(491.25405568550525,125.0)\"><text x=\"-2.5020000000000002\" y=\"2.2995\" style=\"fill:rgb(16.1%,15.3%,14.1%);fill-opacity:1.0\">2</text></g><g class=\"toytree-NodeLabel\" transform=\"translate(491.25405568550525,90.9090909090909)\"><text x=\"-2.5020000000000002\" y=\"2.2995\" style=\"fill:rgb(16.1%,15.3%,14.1%);fill-opacity:1.0\">3</text></g><g class=\"toytree-NodeLabel\" transform=\"translate(491.25405568550525,56.81818181818183)\"><text x=\"-2.5020000000000002\" y=\"2.2995\" style=\"fill:rgb(16.1%,15.3%,14.1%);fill-opacity:1.0\">4</text></g><g class=\"toytree-NodeLabel\" transform=\"translate(470.7339375990342,176.13636363636363)\"><text x=\"-2.5020000000000002\" y=\"2.2995\" style=\"fill:rgb(16.1%,15.3%,14.1%);fill-opacity:1.0\">5</text></g><g class=\"toytree-NodeLabel\" transform=\"translate(450.2138195125632,150.5681818181818)\"><text x=\"-2.5020000000000002\" y=\"2.2995\" style=\"fill:rgb(16.1%,15.3%,14.1%);fill-opacity:1.0\">6</text></g><g class=\"toytree-NodeLabel\" transform=\"translate(429.6937014260922,120.73863636363636)\"><text x=\"-2.5020000000000002\" y=\"2.2995\" style=\"fill:rgb(16.1%,15.3%,14.1%);fill-opacity:1.0\">7</text></g><g class=\"toytree-NodeLabel\" transform=\"translate(409.1735833396212,88.7784090909091)\"><text x=\"-2.5020000000000002\" y=\"2.2995\" style=\"fill:rgb(16.1%,15.3%,14.1%);fill-opacity:1.0\">8</text></g></g><g class=\"toytree-TipLabels\" style=\"fill:rgb(16.1%,15.3%,14.1%);fill-opacity:1.0;font-family:Helvetica;font-size:10.0px;font-weight:300;stroke:none;vertical-align:baseline;white-space:pre\"><g class=\"toytree-TipLabel\" transform=\"translate(491.25405568550525,193.1818181818182)\"><text x=\"10.0\" y=\"2.5549999999999997\" style=\"\">human</text></g><g class=\"toytree-TipLabel\" transform=\"translate(491.25405568550525,159.0909090909091)\"><text x=\"10.0\" y=\"2.5549999999999997\" style=\"\">chimp</text></g><g class=\"toytree-TipLabel\" transform=\"translate(491.25405568550525,125.0)\"><text x=\"10.0\" y=\"2.5549999999999997\" style=\"\">orangutan</text></g><g class=\"toytree-TipLabel\" transform=\"translate(491.25405568550525,90.9090909090909)\"><text x=\"10.0\" y=\"2.5549999999999997\" style=\"\">gorilla</text></g><g class=\"toytree-TipLabel\" transform=\"translate(491.25405568550525,56.81818181818183)\"><text x=\"10.0\" y=\"2.5549999999999997\" style=\"\">gibbon</text></g></g></g></g></g><g class=\"toyplot-coordinates-Cartesian\" id=\"tf225e9f32aa14da5aef816da851537cd\"><clipPath id=\"t5dcc2ec7a7e946ba83731299de50e110\"><rect x=\"582.5\" y=\"40.0\" width=\"167.5\" height=\"170.0\"></rect></clipPath><g clip-path=\"url(#t5dcc2ec7a7e946ba83731299de50e110)\"><g class=\"toytree-mark-Toytree\" id=\"t93dc4ea5e46c429a84b70f3d9bfa7727\"><g class=\"toytree-Edges\" style=\"fill:none;stroke:rgba(16.1%,15.3%,14.1%,1.000);stroke-linecap:round;stroke-width:2.0\"><path d=\"M 637.7 167.6 L 637.7 193.2 L 678.8 193.2\" id=\"6,0\" style=\"stroke-width:nan\"></path><path d=\"M 658.2 142.0 L 658.2 159.1 L 678.8 159.1\" id=\"5,1\" style=\"stroke-width:nan\"></path><path d=\"M 658.2 142.0 L 658.2 125.0 L 678.8 125.0\" id=\"5,2\" style=\"stroke-width:nan\"></path><path d=\"M 617.2 129.3 L 617.2 90.9 L 678.8 90.9\" id=\"7,3\" style=\"stroke-width:nan\"></path><path d=\"M 596.7 93.0 L 596.7 56.8 L 678.8 56.8\" id=\"8,4\" style=\"stroke-width:nan\"></path><path d=\"M 637.7 167.6 L 637.7 142.0 L 658.2 142.0\" id=\"6,5\" style=\"stroke-width:nan\"></path><path d=\"M 617.2 129.3 L 617.2 167.6 L 637.7 167.6\" id=\"7,6\" style=\"stroke-width:nan\"></path><path d=\"M 596.7 93.0 L 596.7 129.3 L 617.2 129.3\" id=\"8,7\" style=\"stroke-width:nan\"></path></g><g class=\"toytree-Nodes\" style=\"fill:rgba(82.7%,82.7%,82.7%,1.000);stroke:#262626;stroke-width:1.5\"><g id=\"node-0\" transform=\"translate(678.754,193.182)\"><circle r=\"7.5\"></circle></g><g id=\"node-1\" transform=\"translate(678.754,159.091)\"><circle r=\"7.5\"></circle></g><g id=\"node-2\" transform=\"translate(678.754,125.000)\"><circle r=\"7.5\"></circle></g><g id=\"node-3\" transform=\"translate(678.754,90.909)\"><circle r=\"7.5\"></circle></g><g id=\"node-4\" transform=\"translate(678.754,56.818)\"><circle r=\"7.5\"></circle></g><g id=\"node-5\" transform=\"translate(658.234,142.045)\"><circle r=\"7.5\"></circle></g><g id=\"node-6\" transform=\"translate(637.714,167.614)\"><circle r=\"7.5\"></circle></g><g id=\"node-7\" transform=\"translate(617.194,129.261)\"><circle r=\"7.5\"></circle></g><g id=\"node-8\" transform=\"translate(596.674,93.040)\"><circle r=\"7.5\"></circle></g></g><g class=\"toytree-NodeLabels\" style=\"font-family:Helvetica;font-size:9.0px;font-weight:300;stroke:none;vertical-align:baseline;white-space:pre\"><g class=\"toytree-NodeLabel\" transform=\"translate(678.7540556855051,193.1818181818182)\"><text x=\"-2.5020000000000002\" y=\"2.2995\" style=\"fill:rgb(16.1%,15.3%,14.1%);fill-opacity:1.0\">0</text></g><g class=\"toytree-NodeLabel\" transform=\"translate(678.7540556855051,159.0909090909091)\"><text x=\"-2.5020000000000002\" y=\"2.2995\" style=\"fill:rgb(16.1%,15.3%,14.1%);fill-opacity:1.0\">1</text></g><g class=\"toytree-NodeLabel\" transform=\"translate(678.7540556855051,125.0)\"><text x=\"-2.5020000000000002\" y=\"2.2995\" style=\"fill:rgb(16.1%,15.3%,14.1%);fill-opacity:1.0\">2</text></g><g class=\"toytree-NodeLabel\" transform=\"translate(678.7540556855051,90.9090909090909)\"><text x=\"-2.5020000000000002\" y=\"2.2995\" style=\"fill:rgb(16.1%,15.3%,14.1%);fill-opacity:1.0\">3</text></g><g class=\"toytree-NodeLabel\" transform=\"translate(678.7540556855051,56.81818181818183)\"><text x=\"-2.5020000000000002\" y=\"2.2995\" style=\"fill:rgb(16.1%,15.3%,14.1%);fill-opacity:1.0\">4</text></g><g class=\"toytree-NodeLabel\" transform=\"translate(658.2339375990341,142.04545454545456)\"><text x=\"-2.5020000000000002\" y=\"2.2995\" style=\"fill:rgb(16.1%,15.3%,14.1%);fill-opacity:1.0\">5</text></g><g class=\"toytree-NodeLabel\" transform=\"translate(637.7138195125632,167.61363636363637)\"><text x=\"-2.5020000000000002\" y=\"2.2995\" style=\"fill:rgb(16.1%,15.3%,14.1%);fill-opacity:1.0\">6</text></g><g class=\"toytree-NodeLabel\" transform=\"translate(617.1937014260923,129.26136363636363)\"><text x=\"-2.5020000000000002\" y=\"2.2995\" style=\"fill:rgb(16.1%,15.3%,14.1%);fill-opacity:1.0\">7</text></g><g class=\"toytree-NodeLabel\" transform=\"translate(596.6735833396212,93.03977272727273)\"><text x=\"-2.5020000000000002\" y=\"2.2995\" style=\"fill:rgb(16.1%,15.3%,14.1%);fill-opacity:1.0\">8</text></g></g><g class=\"toytree-TipLabels\" style=\"fill:rgb(16.1%,15.3%,14.1%);fill-opacity:1.0;font-family:Helvetica;font-size:10.0px;font-weight:300;stroke:none;vertical-align:baseline;white-space:pre\"><g class=\"toytree-TipLabel\" transform=\"translate(678.7540556855051,193.1818181818182)\"><text x=\"10.0\" y=\"2.5549999999999997\" style=\"\">gorilla</text></g><g class=\"toytree-TipLabel\" transform=\"translate(678.7540556855051,159.0909090909091)\"><text x=\"10.0\" y=\"2.5549999999999997\" style=\"\">human</text></g><g class=\"toytree-TipLabel\" transform=\"translate(678.7540556855051,125.0)\"><text x=\"10.0\" y=\"2.5549999999999997\" style=\"\">chimp</text></g><g class=\"toytree-TipLabel\" transform=\"translate(678.7540556855051,90.9090909090909)\"><text x=\"10.0\" y=\"2.5549999999999997\" style=\"\">orangutan</text></g><g class=\"toytree-TipLabel\" transform=\"translate(678.7540556855051,56.81818181818183)\"><text x=\"10.0\" y=\"2.5549999999999997\" style=\"\">gibbon</text></g></g></g></g></g></svg><div class=\"toyplot-behavior\"><script>(function()\n",
       "{\n",
       "var modules={};\n",
       "})();</script></div></div>"
      ]
     },
     "metadata": {},
     "output_type": "display_data"
    }
   ],
   "source": [
    "# load and draw trees (.mtree is used to work w/ multiple trees)\n",
    "test1 = '(gibbon,(orangutan,(gorilla,(chimp,human))));'\n",
    "test2 = '((((human,chimp),gorilla),orangutan),gibbon);'\n",
    "test3 = '((((human,chimp),orangutan),gorilla),gibbon);'\n",
    "test4 = '(((gorilla,(human,chimp)),orangutan),gibbon);'\n",
    "toytree.mtree([test1, test2, test3, test4]).draw(ts='s', node_sizes=15);"
   ]
  },
  {
   "cell_type": "markdown",
   "metadata": {},
   "source": [
    "<div class=\"alert alert-warning\">\n",
    "\n",
    "<details>\n",
    "  <summary><h3>Click for answer.</h3></summary>\n",
    "  \n",
    "Only the third tree is different. In this tree the Orangutan forms a clade with Human and Chimp, whereas in the other three trees the Gorilla forms a clade with Human and Chimp, and the drawing simply differ by rotations of nodes.\n",
    "    \n",
    "</details>\n",
    "\n",
    "\n",
    "<div>"
   ]
  },
  {
   "cell_type": "markdown",
   "metadata": {},
   "source": [
    "### Rooting trees: polarizing evolution\n",
    "\n",
    "Earlier I mentioned that we would assume the tree was rooted, we'll now dive deeper into what that means. A phylogenetic tree can be rooted or unrooted, which indicates whether or not *we know* the direction of evolution on the tree, i.e., which node is the root (common ancestor to all samples the tree).\n",
    "\n",
    "It turns out that most of the methods that we have for inferring phylogenetic trees are only able to infer an unrooted tree, and rely on additional evidence afterwards to identify the rooting. As an example, consider a data set composed of morphological measurements on many different mammals that is used to infer a phylogeny using the method of parsimony. This would involve proposing a phylogenetic tree hypothesis, and then counting how many evolutionary *changes* of each character are required to explain the observed trait data at the tips of the tree. Because we simply count the number of *changes*, it is not required for us to know whether each change represents a gain or a loss of each character. This turns out to be a strength of many phylogenetic inference methods, they can yield a tree hypothesis without requiring knowledge of the rooting of a tree. However, as evolutionary biologists, we *do want to know* how a tree should be rooted. \n",
    "\n",
    "So, the most frequent solution is to use an *outgroup*. That is to say, we include a sample in the phylogenetic analysis that we *know* (strongly believe) is more distantly related to all of the other samples. Such information may come from alternative data (DNA versus morphology), previous analyses, from fossils, or other sources. With an outgroup decided, and using the unrooted tree that we inferred, we can then root the tree by inserting a Node on the branch between the ingroup and outgroup samples, since we know that they must all share a MRCA together. Let's walk through this process visually to better understand it."
   ]
  },
  {
   "cell_type": "markdown",
   "metadata": {},
   "source": [
    "### Unrooted versus rooted trees\n",
    "What is the difference between a rooted and unrooted tree? In truth, they can be hard to distinguish visually, and so it is actually best practice to state whether a tree is rooted or not when it is shown. However, most of the time, it is generally assumed from the style in which the tree is visualized whether it is rooted or not. For example, unrooted trees are generally shown using an \"undirected\" layout style, where a direction of root to tips is not shown, like below."
   ]
  },
  {
   "cell_type": "code",
   "execution_count": 17,
   "metadata": {},
   "outputs": [],
   "source": [
    "# a style dict that we will use on style unrooted tree drawings\n",
    "style = {\n",
    "    \"layout\": \"unrooted\",\n",
    "    \"tip_labels_style\": {\"font-size\": 12},\n",
    "    \"node_sizes\": 16,\n",
    "    \"node_labels\": \"idx\",\n",
    "    \"node_colors\": \"lightgrey\",\n",
    "}"
   ]
  },
  {
   "cell_type": "code",
   "execution_count": 19,
   "metadata": {},
   "outputs": [
    {
     "data": {
      "text/html": [
       "<div class=\"toyplot\" id=\"tedab79657e704e3998d57a16f663a231\" style=\"text-align:center\"><svg class=\"toyplot-canvas-Canvas\" xmlns:toyplot=\"http://www.sandia.gov/toyplot\" xmlns:xlink=\"http://www.w3.org/1999/xlink\" xmlns=\"http://www.w3.org/2000/svg\" width=\"350.0px\" height=\"295.0px\" viewBox=\"0 0 350.0 295.0\" preserveAspectRatio=\"xMidYMid meet\" style=\"background-color:transparent;border-color:#292724;border-style:none;border-width:1.0;fill:rgb(16.1%,15.3%,14.1%);fill-opacity:1.0;font-family:Helvetica;font-size:12px;opacity:1.0;stroke:rgb(16.1%,15.3%,14.1%);stroke-opacity:1.0;stroke-width:1.0\" id=\"t9b48cef4373d4300a7af84acbb6128d3\"><g class=\"toyplot-coordinates-Cartesian\" id=\"t7749a245f7b6469ebad3ec0fc00da87a\"><clipPath id=\"tcf711c778e614eb79daf74277760ecab\"><rect x=\"35.0\" y=\"35.0\" width=\"280.0\" height=\"225.0\"></rect></clipPath><g clip-path=\"url(#tcf711c778e614eb79daf74277760ecab)\"><g class=\"toytree-mark-Toytree\" id=\"t8fef8769a9dd461cac43d4f0707a4b6a\"><g class=\"toytree-Edges\" style=\"fill:none;stroke:rgba(16.1%,15.3%,14.1%,1.000);stroke-linecap:round;stroke-width:2.0\"><path d=\"M 204.3 166.3 L 257.6 185.4\" id=\"7,0\" style=\"stroke-width:nan\"></path><path d=\"M 202.2 134.1 L 262.3 120.6\" id=\"6,1\" style=\"stroke-width:nan\"></path><path d=\"M 150.9 113.7 L 159.9 81.7\" id=\"5,2\" style=\"stroke-width:nan\"></path><path d=\"M 150.9 113.7 L 85.5 109.0\" id=\"5,3\" style=\"stroke-width:nan\"></path><path d=\"M 204.3 166.3 L 118.2 215.3\" id=\"7,4\" style=\"stroke-width:nan\"></path><path d=\"M 202.2 134.1 L 150.9 113.7\" id=\"6,5\" style=\"stroke-width:nan\"></path><path d=\"M 204.3 166.3 L 202.2 134.1\" id=\"7,6\" style=\"stroke-width:nan\"></path></g><g class=\"toytree-Nodes\" style=\"fill:rgba(82.7%,82.7%,82.7%,1.000);stroke:#262626;stroke-width:1.0\"><g id=\"node-5\" transform=\"translate(150.931,113.700)\"><circle r=\"8.0\"></circle></g><g id=\"node-6\" transform=\"translate(202.227,134.053)\"><circle r=\"8.0\"></circle></g><g id=\"node-7\" transform=\"translate(204.279,166.289)\"><circle r=\"8.0\"></circle></g></g><g class=\"toytree-NodeLabels\" style=\"font-family:Helvetica;font-size:9.0px;font-weight:300;stroke:none;vertical-align:baseline;white-space:pre\"><g class=\"toytree-NodeLabel\" transform=\"translate(150.93120609393145,113.70012209429939)\"><text x=\"-2.5020000000000002\" y=\"2.2995\" style=\"fill:rgb(16.1%,15.3%,14.1%);fill-opacity:1.0\">5</text></g><g class=\"toytree-NodeLabel\" transform=\"translate(202.22730411737402,134.05271267453588)\"><text x=\"-2.5020000000000002\" y=\"2.2995\" style=\"fill:rgb(16.1%,15.3%,14.1%);fill-opacity:1.0\">6</text></g><g class=\"toytree-NodeLabel\" transform=\"translate(204.27893864148865,166.28862733977925)\"><text x=\"-2.5020000000000002\" y=\"2.2995\" style=\"fill:rgb(16.1%,15.3%,14.1%);fill-opacity:1.0\">7</text></g></g><g class=\"toytree-TipLabels\" style=\"fill:rgb(16.1%,15.3%,14.1%);fill-opacity:1.0;font-family:Helvetica;font-size:12.0px;font-weight:300;stroke:none;vertical-align:baseline;white-space:pre\"><g class=\"toytree-TipLabel\" transform=\"translate(257.6119119064748,185.35514560135246)rotate(36.241034126429895)\"><text x=\"15.0\" y=\"3.066\" style=\"\">orangutan</text></g><g class=\"toytree-TipLabel\" transform=\"translate(262.3117892982583,120.58500638156505)rotate(-58.23007220022231)\"><text x=\"15.0\" y=\"3.066\" style=\"\">gorilla</text></g><g class=\"toytree-TipLabel\" transform=\"translate(159.89586718782377,81.74643178933994)rotate(-111.5400388965775)\"><text x=\"15.0\" y=\"3.066\" style=\"\">chimp</text></g><g class=\"toytree-TipLabel\" transform=\"translate(85.50798522809966,109.01098969860435)rotate(-156.25580171978288)\"><text x=\"15.0\" y=\"3.066\" style=\"\">human</text></g><g class=\"toytree-TipLabel\" transform=\"translate(118.21543933777365,215.2648731435596)rotate(-229.40144360258657)\"><text x=\"15.0\" y=\"3.066\" style=\"\">gibbon</text></g></g></g></g></g></svg><div class=\"toyplot-behavior\"><script>(function()\n",
       "{\n",
       "var modules={};\n",
       "})();</script></div></div>"
      ]
     },
     "metadata": {},
     "output_type": "display_data"
    }
   ],
   "source": [
    "# draw tree1 as an unrooted tree.\n",
    "tree1.unroot().draw(**style);"
   ]
  },
  {
   "cell_type": "markdown",
   "metadata": {},
   "source": [
    "While the visual layout of a tree can indicate whether or not the rooting is known (or is being emphasized), a tree data object (ToyTree) is explicit in whether or not it is rooted. To understand this, let's start from how trees are stored and loaded from newick strings. \n",
    "\n",
    "The primary way in which a tree is represented as rooted versus unrooted *when working with trees as data* is in whether or not the top level Node (root) is dichotomous (branching into 2 child clades), or non-dichotomous (branching into >2 child clades). This is coded into the newick strings below, where one has two clades in the outer-most parentheses `(x,y);`, and the other has three `(x,y,z);`."
   ]
  },
  {
   "cell_type": "code",
   "execution_count": 20,
   "metadata": {},
   "outputs": [
    {
     "data": {
      "text/html": [
       "<div class=\"toyplot\" id=\"t1347c27c7c1b4d74bbb4479f14bd4e0b\" style=\"text-align:center\"><svg class=\"toyplot-canvas-Canvas\" xmlns:toyplot=\"http://www.sandia.gov/toyplot\" xmlns:xlink=\"http://www.w3.org/1999/xlink\" xmlns=\"http://www.w3.org/2000/svg\" width=\"450.0px\" height=\"250.0px\" viewBox=\"0 0 450.0 250.0\" preserveAspectRatio=\"xMidYMid meet\" style=\"background-color:transparent;border-color:#292724;border-style:none;border-width:1.0;fill:rgb(16.1%,15.3%,14.1%);fill-opacity:1.0;font-family:Helvetica;font-size:12px;opacity:1.0;stroke:rgb(16.1%,15.3%,14.1%);stroke-opacity:1.0;stroke-width:1.0\" id=\"tba0b7b1393594cb1b13c2cdf161c1dd2\"><g class=\"toyplot-coordinates-Cartesian\" id=\"t9fc84a40275146e1bb52bacc97880104\"><clipPath id=\"t168dffe341704d9e8a8aefa73ebdc130\"><rect x=\"20.0\" y=\"40.0\" width=\"205.0\" height=\"170.0\"></rect></clipPath><g clip-path=\"url(#t168dffe341704d9e8a8aefa73ebdc130)\"><g class=\"toytree-mark-Toytree\" id=\"td61d88445e224691b5b14b8b4a4599a2\"><g class=\"toytree-Edges\" style=\"fill:none;stroke:rgba(16.1%,15.3%,14.1%,1.000);stroke-linecap:round;stroke-width:2.0\"><path d=\"M 112.5 170.7 L 112.5 193.6 L 189.2 193.6\" id=\"4,0\" style=\"stroke-width:nan\"></path><path d=\"M 112.5 170.7 L 112.5 147.9 L 189.2 147.9\" id=\"4,1\" style=\"stroke-width:nan\"></path><path d=\"M 112.5 79.3 L 112.5 102.1 L 189.2 102.1\" id=\"5,2\" style=\"stroke-width:nan\"></path><path d=\"M 112.5 79.3 L 112.5 56.4 L 189.2 56.4\" id=\"5,3\" style=\"stroke-width:nan\"></path><path d=\"M 35.8 125.0 L 35.8 170.7 L 112.5 170.7\" id=\"6,4\" style=\"stroke-width:nan\"></path><path d=\"M 35.8 125.0 L 35.8 79.3 L 112.5 79.3\" id=\"6,5\" style=\"stroke-width:nan\"></path></g><g class=\"toytree-Nodes\" style=\"fill:rgba(82.7%,82.7%,82.7%,1.000);stroke:#262626;stroke-width:1.5\"><g id=\"node-0\" transform=\"translate(189.197,193.598)\"><circle r=\"7.0\"></circle></g><g id=\"node-1\" transform=\"translate(189.197,147.866)\"><circle r=\"7.0\"></circle></g><g id=\"node-2\" transform=\"translate(189.197,102.134)\"><circle r=\"7.0\"></circle></g><g id=\"node-3\" transform=\"translate(189.197,56.402)\"><circle r=\"7.0\"></circle></g><g id=\"node-4\" transform=\"translate(112.500,170.732)\"><circle r=\"7.0\"></circle></g><g id=\"node-5\" transform=\"translate(112.500,79.268)\"><circle r=\"7.0\"></circle></g><g id=\"node-6\" transform=\"translate(35.804,125.000)\"><circle r=\"7.0\"></circle></g></g><g class=\"toytree-NodeLabels\" style=\"font-family:Helvetica;font-size:9.0px;font-weight:300;stroke:none;vertical-align:baseline;white-space:pre\"><g class=\"toytree-NodeLabel\" transform=\"translate(189.19684474722123,193.59756097560975)\"><text x=\"-2.5020000000000002\" y=\"2.2995\" style=\"fill:rgb(16.1%,15.3%,14.1%);fill-opacity:1.0\">0</text></g><g class=\"toytree-NodeLabel\" transform=\"translate(189.19684474722123,147.86585365853657)\"><text x=\"-2.5020000000000002\" y=\"2.2995\" style=\"fill:rgb(16.1%,15.3%,14.1%);fill-opacity:1.0\">1</text></g><g class=\"toytree-NodeLabel\" transform=\"translate(189.19684474722123,102.1341463414634)\"><text x=\"-2.5020000000000002\" y=\"2.2995\" style=\"fill:rgb(16.1%,15.3%,14.1%);fill-opacity:1.0\">2</text></g><g class=\"toytree-NodeLabel\" transform=\"translate(189.19684474722123,56.40243902439023)\"><text x=\"-2.5020000000000002\" y=\"2.2995\" style=\"fill:rgb(16.1%,15.3%,14.1%);fill-opacity:1.0\">3</text></g><g class=\"toytree-NodeLabel\" transform=\"translate(112.50044818931516,170.7317073170732)\"><text x=\"-2.5020000000000002\" y=\"2.2995\" style=\"fill:rgb(16.1%,15.3%,14.1%);fill-opacity:1.0\">4</text></g><g class=\"toytree-NodeLabel\" transform=\"translate(112.50044818931516,79.26829268292683)\"><text x=\"-2.5020000000000002\" y=\"2.2995\" style=\"fill:rgb(16.1%,15.3%,14.1%);fill-opacity:1.0\">5</text></g><g class=\"toytree-NodeLabel\" transform=\"translate(35.804051631409116,124.99999999999997)\"><text x=\"-2.5020000000000002\" y=\"2.2995\" style=\"fill:rgb(16.1%,15.3%,14.1%);fill-opacity:1.0\">6</text></g></g><g class=\"toytree-TipLabels\" style=\"fill:rgb(16.1%,15.3%,14.1%);fill-opacity:1.0;font-family:Helvetica;font-size:10.0px;font-weight:300;stroke:none;vertical-align:baseline;white-space:pre\"><g class=\"toytree-TipLabel\" transform=\"translate(189.19684474722123,193.59756097560975)\"><text x=\"10.0\" y=\"2.5549999999999997\" style=\"\">a</text></g><g class=\"toytree-TipLabel\" transform=\"translate(189.19684474722123,147.86585365853657)\"><text x=\"10.0\" y=\"2.5549999999999997\" style=\"\">b</text></g><g class=\"toytree-TipLabel\" transform=\"translate(189.19684474722123,102.1341463414634)\"><text x=\"10.0\" y=\"2.5549999999999997\" style=\"\">c</text></g><g class=\"toytree-TipLabel\" transform=\"translate(189.19684474722123,56.40243902439023)\"><text x=\"10.0\" y=\"2.5549999999999997\" style=\"\">d</text></g></g></g></g></g><g class=\"toyplot-coordinates-Cartesian\" id=\"t69d87d9eb3744624bbf6bb0d1de4edc4\"><clipPath id=\"tf4627f389deb43c092cee00ded6791d4\"><rect x=\"245.0\" y=\"40.0\" width=\"205.0\" height=\"170.0\"></rect></clipPath><g clip-path=\"url(#tf4627f389deb43c092cee00ded6791d4)\"><g class=\"toytree-mark-Toytree\" id=\"t1bb4eaee489b4092b94a25c93339f104\"><g class=\"toytree-Edges\" style=\"fill:none;stroke:rgba(16.1%,15.3%,14.1%,1.000);stroke-linecap:round;stroke-width:2.0\"><path d=\"M 260.8 140.2 L 260.8 193.6 L 414.2 193.6\" id=\"5,0\" style=\"stroke-width:nan\"></path><path d=\"M 260.8 140.2 L 260.8 147.9 L 414.2 147.9\" id=\"5,1\" style=\"stroke-width:nan\"></path><path d=\"M 337.5 79.3 L 337.5 102.1 L 414.2 102.1\" id=\"4,2\" style=\"stroke-width:nan\"></path><path d=\"M 337.5 79.3 L 337.5 56.4 L 414.2 56.4\" id=\"4,3\" style=\"stroke-width:nan\"></path><path d=\"M 260.8 140.2 L 260.8 79.3 L 337.5 79.3\" id=\"5,4\" style=\"stroke-width:nan\"></path></g><g class=\"toytree-Nodes\" style=\"fill:rgba(82.7%,82.7%,82.7%,1.000);stroke:#262626;stroke-width:1.5\"><g id=\"node-0\" transform=\"translate(414.197,193.598)\"><circle r=\"7.0\"></circle></g><g id=\"node-1\" transform=\"translate(414.197,147.866)\"><circle r=\"7.0\"></circle></g><g id=\"node-2\" transform=\"translate(414.197,102.134)\"><circle r=\"7.0\"></circle></g><g id=\"node-3\" transform=\"translate(414.197,56.402)\"><circle r=\"7.0\"></circle></g><g id=\"node-4\" transform=\"translate(337.500,79.268)\"><circle r=\"7.0\"></circle></g><g id=\"node-5\" transform=\"translate(260.804,140.244)\"><circle r=\"7.0\"></circle></g></g><g class=\"toytree-NodeLabels\" style=\"font-family:Helvetica;font-size:9.0px;font-weight:300;stroke:none;vertical-align:baseline;white-space:pre\"><g class=\"toytree-NodeLabel\" transform=\"translate(414.19684474722123,193.59756097560975)\"><text x=\"-2.5020000000000002\" y=\"2.2995\" style=\"fill:rgb(16.1%,15.3%,14.1%);fill-opacity:1.0\">0</text></g><g class=\"toytree-NodeLabel\" transform=\"translate(414.19684474722123,147.86585365853657)\"><text x=\"-2.5020000000000002\" y=\"2.2995\" style=\"fill:rgb(16.1%,15.3%,14.1%);fill-opacity:1.0\">1</text></g><g class=\"toytree-NodeLabel\" transform=\"translate(414.19684474722123,102.1341463414634)\"><text x=\"-2.5020000000000002\" y=\"2.2995\" style=\"fill:rgb(16.1%,15.3%,14.1%);fill-opacity:1.0\">2</text></g><g class=\"toytree-NodeLabel\" transform=\"translate(414.19684474722123,56.40243902439023)\"><text x=\"-2.5020000000000002\" y=\"2.2995\" style=\"fill:rgb(16.1%,15.3%,14.1%);fill-opacity:1.0\">3</text></g><g class=\"toytree-NodeLabel\" transform=\"translate(337.5004481893152,79.26829268292683)\"><text x=\"-2.5020000000000002\" y=\"2.2995\" style=\"fill:rgb(16.1%,15.3%,14.1%);fill-opacity:1.0\">4</text></g><g class=\"toytree-NodeLabel\" transform=\"translate(260.80405163140915,140.24390243902437)\"><text x=\"-2.5020000000000002\" y=\"2.2995\" style=\"fill:rgb(16.1%,15.3%,14.1%);fill-opacity:1.0\">5</text></g></g><g class=\"toytree-TipLabels\" style=\"fill:rgb(16.1%,15.3%,14.1%);fill-opacity:1.0;font-family:Helvetica;font-size:10.0px;font-weight:300;stroke:none;vertical-align:baseline;white-space:pre\"><g class=\"toytree-TipLabel\" transform=\"translate(414.19684474722123,193.59756097560975)\"><text x=\"10.0\" y=\"2.5549999999999997\" style=\"\">a</text></g><g class=\"toytree-TipLabel\" transform=\"translate(414.19684474722123,147.86585365853657)\"><text x=\"10.0\" y=\"2.5549999999999997\" style=\"\">b</text></g><g class=\"toytree-TipLabel\" transform=\"translate(414.19684474722123,102.1341463414634)\"><text x=\"10.0\" y=\"2.5549999999999997\" style=\"\">c</text></g><g class=\"toytree-TipLabel\" transform=\"translate(414.19684474722123,56.40243902439023)\"><text x=\"10.0\" y=\"2.5549999999999997\" style=\"\">d</text></g></g></g></g></g></svg><div class=\"toyplot-behavior\"><script>(function()\n",
       "{\n",
       "var modules={};\n",
       "})();</script></div></div>"
      ]
     },
     "metadata": {},
     "output_type": "display_data"
    }
   ],
   "source": [
    "# create a rooted and unrooted tree with 4 samples\n",
    "rooted = toytree.tree(\"((a, b), (c, d));\")\n",
    "unrooted = toytree.tree(\"(a, b, (c, d));\")\n",
    "toytree.mtree([rooted, unrooted]).draw(ts='s', node_sizes=14);"
   ]
  },
  {
   "cell_type": "markdown",
   "metadata": {},
   "source": [
    "As you can see above, even though the tree on the right *can* be drawn using a directed layout (left to right), it is still in fact an unrooted tree, and so the drawing is misleading, as we may interpret it to show that samples \"c\" and \"d\" share a most recent common ancestor, as they do in the rooted tree on the left, but we don't actually know that for the tree on the right, since there is not a known root. (The node labeled 5 in the tree on the right is simply indicating that there is a node representing the trichotomy in the tree object.\n",
    "\n",
    "This means that *we don't actually know* which nodes are descended from whom. This is easier to understand if we draw the same trees using the undirected layout, below. As you can see, the rooted tree on the left contains an extra node (6) that represents the root. By contrast, the unrooted tree on the right contains no such node."
   ]
  },
  {
   "cell_type": "code",
   "execution_count": 21,
   "metadata": {},
   "outputs": [
    {
     "data": {
      "text/html": [
       "<div class=\"toyplot\" id=\"t7a12443cf79a4d0f8b3e8cfb3e1f7e46\" style=\"text-align:center\"><svg class=\"toyplot-canvas-Canvas\" xmlns:toyplot=\"http://www.sandia.gov/toyplot\" xmlns:xlink=\"http://www.w3.org/1999/xlink\" xmlns=\"http://www.w3.org/2000/svg\" width=\"450.0px\" height=\"250.0px\" viewBox=\"0 0 450.0 250.0\" preserveAspectRatio=\"xMidYMid meet\" style=\"background-color:transparent;border-color:#292724;border-style:none;border-width:1.0;fill:rgb(16.1%,15.3%,14.1%);fill-opacity:1.0;font-family:Helvetica;font-size:12px;opacity:1.0;stroke:rgb(16.1%,15.3%,14.1%);stroke-opacity:1.0;stroke-width:1.0\" id=\"t9d6645345526472fa4fbafd878727cc4\"><g class=\"toyplot-coordinates-Cartesian\" id=\"t1f18e67978b443dc9e6041da20c93db9\"><clipPath id=\"t4e239c989d9f40a580516ec11a9fb00b\"><rect x=\"20.0\" y=\"40.0\" width=\"205.0\" height=\"170.0\"></rect></clipPath><g clip-path=\"url(#t4e239c989d9f40a580516ec11a9fb00b)\"><g class=\"toytree-mark-Toytree\" id=\"t5039dd315c064758a6a362e1e8b3390a\"><g class=\"toytree-Edges\" style=\"fill:none;stroke:rgba(16.1%,15.3%,14.1%,1.000);stroke-linecap:round;stroke-width:2.0\"><path d=\"M 167.8 125.0 L 199.8 188.9\" id=\"4,0\" style=\"stroke-width:nan\"></path><path d=\"M 167.8 125.0 L 199.8 61.1\" id=\"4,1\" style=\"stroke-width:nan\"></path><path d=\"M 77.2 125.0 L 45.2 61.1\" id=\"5,2\" style=\"stroke-width:nan\"></path><path d=\"M 77.2 125.0 L 45.2 188.9\" id=\"5,3\" style=\"stroke-width:nan\"></path><path d=\"M 122.5 125.0 L 167.8 125.0\" id=\"6,4\" style=\"stroke-width:nan\"></path><path d=\"M 122.5 125.0 L 77.2 125.0\" id=\"6,5\" style=\"stroke-width:nan\"></path></g><g class=\"toytree-Nodes\" style=\"fill:rgba(82.7%,82.7%,82.7%,1.000);stroke:#262626;stroke-width:1.0\"><g id=\"node-4\" transform=\"translate(167.794,125.000)\"><circle r=\"8.0\"></circle></g><g id=\"node-5\" transform=\"translate(77.206,125.000)\"><circle r=\"8.0\"></circle></g><g id=\"node-6\" transform=\"translate(122.500,125.000)\"><circle r=\"8.0\"></circle></g></g><g class=\"toytree-NodeLabels\" style=\"font-family:Helvetica;font-size:9.0px;font-weight:300;stroke:none;vertical-align:baseline;white-space:pre\"><g class=\"toytree-NodeLabel\" transform=\"translate(167.79382714116593,124.99999999999997)\"><text x=\"-2.5020000000000002\" y=\"2.2995\" style=\"fill:rgb(16.1%,15.3%,14.1%);fill-opacity:1.0\">4</text></g><g class=\"toytree-NodeLabel\" transform=\"translate(77.20617285883407,124.99999999999997)\"><text x=\"-2.5020000000000002\" y=\"2.2995\" style=\"fill:rgb(16.1%,15.3%,14.1%);fill-opacity:1.0\">5</text></g><g class=\"toytree-NodeLabel\" transform=\"translate(122.5,124.99999999999997)\"><text x=\"-2.5020000000000002\" y=\"2.2995\" style=\"fill:rgb(16.1%,15.3%,14.1%);fill-opacity:1.0\">6</text></g></g><g class=\"toytree-TipLabels\" style=\"fill:rgb(16.1%,15.3%,14.1%);fill-opacity:1.0;font-family:Helvetica;font-size:12.0px;font-weight:300;stroke:none;vertical-align:baseline;white-space:pre\"><g class=\"toytree-TipLabel\" transform=\"translate(199.82139945857568,188.89719682372348)rotate(22.500000000000007)\"><text x=\"10.0\" y=\"3.066\" style=\"\">a</text></g><g class=\"toytree-TipLabel\" transform=\"translate(199.82139945857568,61.102803176276495)rotate(-22.499999999999996)\"><text x=\"10.0\" y=\"3.066\" style=\"\">b</text></g><g class=\"toytree-TipLabel\" transform=\"translate(45.178600541424345,61.10280317627647)rotate(-157.49999999999997)\"><text x=\"10.0\" y=\"3.066\" style=\"\">c</text></g><g class=\"toytree-TipLabel\" transform=\"translate(45.178600541424345,188.89719682372342)rotate(-202.49999999999997)\"><text x=\"10.0\" y=\"3.066\" style=\"\">d</text></g></g></g></g></g><g class=\"toyplot-coordinates-Cartesian\" id=\"t20b8011801e44dea8b433d7f0b7b565c\"><clipPath id=\"t789969b8dd774633bcfccf802c88fb26\"><rect x=\"245.0\" y=\"40.0\" width=\"205.0\" height=\"170.0\"></rect></clipPath><g clip-path=\"url(#t789969b8dd774633bcfccf802c88fb26)\"><g class=\"toytree-mark-Toytree\" id=\"t8b05d59b9c7d486ab35b15dd71a41bc9\"><g class=\"toytree-Edges\" style=\"fill:none;stroke:rgba(16.1%,15.3%,14.1%,1.000);stroke-linecap:round;stroke-width:2.0\"><path d=\"M 380.3 125.0 L 425.8 186.2\" id=\"5,0\" style=\"stroke-width:nan\"></path><path d=\"M 380.3 125.0 L 425.8 63.8\" id=\"5,1\" style=\"stroke-width:nan\"></path><path d=\"M 315.8 125.0 L 270.3 63.8\" id=\"4,2\" style=\"stroke-width:nan\"></path><path d=\"M 315.8 125.0 L 270.3 186.2\" id=\"4,3\" style=\"stroke-width:nan\"></path><path d=\"M 380.3 125.0 L 315.8 125.0\" id=\"5,4\" style=\"stroke-width:nan\"></path></g><g class=\"toytree-Nodes\" style=\"fill:rgba(82.7%,82.7%,82.7%,1.000);stroke:#262626;stroke-width:1.0\"><g id=\"node-4\" transform=\"translate(315.824,125.000)\"><circle r=\"8.0\"></circle></g><g id=\"node-5\" transform=\"translate(380.251,125.000)\"><circle r=\"8.0\"></circle></g></g><g class=\"toytree-NodeLabels\" style=\"font-family:Helvetica;font-size:9.0px;font-weight:300;stroke:none;vertical-align:baseline;white-space:pre\"><g class=\"toytree-NodeLabel\" transform=\"translate(315.82370782456144,124.99999999999997)\"><text x=\"-2.5020000000000002\" y=\"2.2995\" style=\"fill:rgb(16.1%,15.3%,14.1%);fill-opacity:1.0\">4</text></g><g class=\"toytree-NodeLabel\" transform=\"translate(380.25094435586317,125.0)\"><text x=\"-2.5020000000000002\" y=\"2.2995\" style=\"fill:rgb(16.1%,15.3%,14.1%);fill-opacity:1.0\">5</text></g></g><g class=\"toytree-TipLabels\" style=\"fill:rgb(16.1%,15.3%,14.1%);fill-opacity:1.0;font-family:Helvetica;font-size:12.0px;font-weight:300;stroke:none;vertical-align:baseline;white-space:pre\"><g class=\"toytree-TipLabel\" transform=\"translate(425.8078802002563,186.22112266383434)rotate(45.00000000000001)\"><text x=\"10.0\" y=\"3.066\" style=\"\">a</text></g><g class=\"toytree-TipLabel\" transform=\"translate(425.8078802002563,63.77887733616565)rotate(-45.0)\"><text x=\"10.0\" y=\"3.066\" style=\"\">b</text></g><g class=\"toytree-TipLabel\" transform=\"translate(270.26677198016836,63.77887733616562)rotate(-157.49999999999997)\"><text x=\"10.0\" y=\"3.066\" style=\"\">c</text></g><g class=\"toytree-TipLabel\" transform=\"translate(270.2667719801683,186.22112266383434)rotate(-202.49999999999997)\"><text x=\"10.0\" y=\"3.066\" style=\"\">d</text></g></g></g></g></g></svg><div class=\"toyplot-behavior\"><script>(function()\n",
       "{\n",
       "var modules={};\n",
       "})();</script></div></div>"
      ]
     },
     "metadata": {},
     "output_type": "display_data"
    }
   ],
   "source": [
    "toytree.mtree([rooted, unrooted]).draw(**style);"
   ]
  },
  {
   "cell_type": "markdown",
   "metadata": {},
   "source": [
    "### \"Pinching\" to root trees\n",
    "The best way to think about rooting of evolutionary trees is to think of the edges as lengths of string connecting the nodes of the tree. The process of rooting is analagous to selecting some point along a string (edge), pinching it, and pulling it back to form a new node that will be the root. Let's try this on our unrooted tree by inserting the root node at different edges of the tree. \n",
    "\n",
    "In the first example below we insert a node to make \"a\" and \"b\" form a clade, which makes this tree topology the same as the rooted tree above.\n",
    "We can now plot this \"re-rooted\" tree in both layout styles, and see that it is rooted, and that we can interpret that \"a\" and \"b\" share a MRCA. "
   ]
  },
  {
   "cell_type": "code",
   "execution_count": 22,
   "metadata": {},
   "outputs": [
    {
     "data": {
      "text/html": [
       "<div class=\"toyplot\" id=\"t43e2277ddf6d49ba814a3b7f35f9d062\" style=\"text-align:center\"><svg class=\"toyplot-canvas-Canvas\" xmlns:toyplot=\"http://www.sandia.gov/toyplot\" xmlns:xlink=\"http://www.w3.org/1999/xlink\" xmlns=\"http://www.w3.org/2000/svg\" width=\"350.0px\" height=\"255.0px\" viewBox=\"0 0 350.0 255.0\" preserveAspectRatio=\"xMidYMid meet\" style=\"background-color:transparent;border-color:#292724;border-style:none;border-width:1.0;fill:rgb(16.1%,15.3%,14.1%);fill-opacity:1.0;font-family:Helvetica;font-size:12px;opacity:1.0;stroke:rgb(16.1%,15.3%,14.1%);stroke-opacity:1.0;stroke-width:1.0\" id=\"tf56e15d8ca4b4cfba8d7e73f27043b5f\"><g class=\"toyplot-coordinates-Cartesian\" id=\"t03d71b52f2ea4f5c842bd3a0a0926c3d\"><clipPath id=\"tc825f2af6dd3403898189026772de75b\"><rect x=\"35.0\" y=\"35.0\" width=\"280.0\" height=\"185.0\"></rect></clipPath><g clip-path=\"url(#tc825f2af6dd3403898189026772de75b)\"><g class=\"toytree-mark-Toytree\" id=\"tc2e675e03fe8417d96b73e84d313f278\"><g class=\"toytree-Edges\" style=\"fill:none;stroke:rgba(16.1%,15.3%,14.1%,1.000);stroke-linecap:round;stroke-width:2.0\"><path d=\"M 220.3 127.5 L 284.2 192.7\" id=\"4,0\" style=\"stroke-width:nan\"></path><path d=\"M 220.3 127.5 L 284.2 62.3\" id=\"4,1\" style=\"stroke-width:nan\"></path><path d=\"M 129.7 127.5 L 65.8 62.3\" id=\"5,2\" style=\"stroke-width:nan\"></path><path d=\"M 129.7 127.5 L 65.8 192.7\" id=\"5,3\" style=\"stroke-width:nan\"></path><path d=\"M 175.0 127.5 L 220.3 127.5\" id=\"6,4\" style=\"stroke-width:nan\"></path><path d=\"M 175.0 127.5 L 129.7 127.5\" id=\"6,5\" style=\"stroke-width:nan\"></path></g><g class=\"toytree-Nodes\" style=\"fill:rgba(82.7%,82.7%,82.7%,1.000);stroke:#262626;stroke-width:1.0\"><g id=\"node-4\" transform=\"translate(220.252,127.500)\"><circle r=\"8.0\"></circle></g><g id=\"node-5\" transform=\"translate(129.748,127.500)\"><circle r=\"8.0\"></circle></g><g id=\"node-6\" transform=\"translate(175.000,127.500)\"><circle r=\"8.0\"></circle></g></g><g class=\"toytree-NodeLabels\" style=\"font-family:Helvetica;font-size:9.0px;font-weight:300;stroke:none;vertical-align:baseline;white-space:pre\"><g class=\"toytree-NodeLabel\" transform=\"translate(220.25150917262553,127.50000000000003)\"><text x=\"-2.5020000000000002\" y=\"2.2995\" style=\"fill:rgb(16.1%,15.3%,14.1%);fill-opacity:1.0\">4</text></g><g class=\"toytree-NodeLabel\" transform=\"translate(129.74849082737452,127.50000000000003)\"><text x=\"-2.5020000000000002\" y=\"2.2995\" style=\"fill:rgb(16.1%,15.3%,14.1%);fill-opacity:1.0\">5</text></g><g class=\"toytree-NodeLabel\" transform=\"translate(175.00000000000003,127.50000000000003)\"><text x=\"-2.5020000000000002\" y=\"2.2995\" style=\"fill:rgb(16.1%,15.3%,14.1%);fill-opacity:1.0\">6</text></g></g><g class=\"toytree-TipLabels\" style=\"fill:rgb(16.1%,15.3%,14.1%);fill-opacity:1.0;font-family:Helvetica;font-size:12.0px;font-weight:300;stroke:none;vertical-align:baseline;white-space:pre\"><g class=\"toytree-TipLabel\" transform=\"translate(284.24680716240306,192.68654141673264)rotate(30.361193404821723)\"><text x=\"10.0\" y=\"3.066\" style=\"\">c</text></g><g class=\"toytree-TipLabel\" transform=\"translate(284.24680716240306,62.313458583267405)rotate(-30.361193404821716)\"><text x=\"10.0\" y=\"3.066\" style=\"\">d</text></g><g class=\"toytree-TipLabel\" transform=\"translate(65.75319283759703,62.313458583267376)rotate(-149.6388065951783)\"><text x=\"10.0\" y=\"3.066\" style=\"\">a</text></g><g class=\"toytree-TipLabel\" transform=\"translate(65.753192837597,192.68654141673264)rotate(-210.3611934048217)\"><text x=\"10.0\" y=\"3.066\" style=\"\">b</text></g></g></g></g></g></svg><div class=\"toyplot-behavior\"><script>(function()\n",
       "{\n",
       "var modules={};\n",
       "})();</script></div></div>"
      ]
     },
     "metadata": {},
     "output_type": "display_data"
    },
    {
     "data": {
      "text/html": [
       "<div class=\"toyplot\" id=\"t8a1eb6675ca5430782ff0f0e7eef0413\" style=\"text-align:center\"><svg class=\"toyplot-canvas-Canvas\" xmlns:toyplot=\"http://www.sandia.gov/toyplot\" xmlns:xlink=\"http://www.w3.org/1999/xlink\" xmlns=\"http://www.w3.org/2000/svg\" width=\"255.0px\" height=\"275.0px\" viewBox=\"0 0 255.0 275.0\" preserveAspectRatio=\"xMidYMid meet\" style=\"background-color:transparent;border-color:#292724;border-style:none;border-width:1.0;fill:rgb(16.1%,15.3%,14.1%);fill-opacity:1.0;font-family:Helvetica;font-size:12px;opacity:1.0;stroke:rgb(16.1%,15.3%,14.1%);stroke-opacity:1.0;stroke-width:1.0\" id=\"t7cc571e427424e4ca65b5851f9f7e639\"><g class=\"toyplot-coordinates-Cartesian\" id=\"tfa3f91b8a0f04616b8c8d176260abca0\"><clipPath id=\"t4784b8b30acb49988402e730ece1b6b1\"><rect x=\"35.0\" y=\"35.0\" width=\"185.0\" height=\"205.0\"></rect></clipPath><g clip-path=\"url(#t4784b8b30acb49988402e730ece1b6b1)\"><g class=\"toytree-mark-Toytree\" id=\"t9744bb0ec2fa45d9a327ee06093e458d\"><g class=\"toytree-Edges\" style=\"fill:none;stroke:rgba(16.1%,15.3%,14.1%,1.000);stroke-linecap:round;stroke-width:2.0\"><path d=\"M 115.0 190.4 L 115.0 216.8 L 173.3 216.8\" id=\"4,0\" style=\"stroke-width:nan\"></path><path d=\"M 115.0 190.4 L 115.0 163.9 L 173.3 163.9\" id=\"4,1\" style=\"stroke-width:nan\"></path><path d=\"M 115.0 84.6 L 115.0 111.1 L 173.3 111.1\" id=\"5,2\" style=\"stroke-width:nan\"></path><path d=\"M 115.0 84.6 L 115.0 58.2 L 173.3 58.2\" id=\"5,3\" style=\"stroke-width:nan\"></path><path d=\"M 56.8 137.5 L 56.8 190.4 L 115.0 190.4\" id=\"6,4\" style=\"stroke-width:nan\"></path><path d=\"M 56.8 137.5 L 56.8 84.6 L 115.0 84.6\" id=\"6,5\" style=\"stroke-width:nan\"></path></g><g class=\"toytree-Nodes\" style=\"fill:rgba(82.7%,82.7%,82.7%,1.000);stroke:#262626;stroke-width:1.5\"><g id=\"node-0\" transform=\"translate(173.259,216.839)\"><circle r=\"9.0\"></circle></g><g id=\"node-1\" transform=\"translate(173.259,163.946)\"><circle r=\"9.0\"></circle></g><g id=\"node-2\" transform=\"translate(173.259,111.054)\"><circle r=\"9.0\"></circle></g><g id=\"node-3\" transform=\"translate(173.259,58.161)\"><circle r=\"9.0\"></circle></g><g id=\"node-4\" transform=\"translate(115.012,190.393)\"><circle r=\"9.0\"></circle></g><g id=\"node-5\" transform=\"translate(115.012,84.607)\"><circle r=\"9.0\"></circle></g><g id=\"node-6\" transform=\"translate(56.764,137.500)\"><circle r=\"9.0\"></circle></g></g><g class=\"toytree-NodeLabels\" style=\"font-family:Helvetica;font-size:9.0px;font-weight:300;stroke:none;vertical-align:baseline;white-space:pre\"><g class=\"toytree-NodeLabel\" transform=\"translate(173.25924201869742,216.839378238342)\"><text x=\"-2.5020000000000002\" y=\"2.2995\" style=\"fill:rgb(16.1%,15.3%,14.1%);fill-opacity:1.0\">0</text></g><g class=\"toytree-NodeLabel\" transform=\"translate(173.25924201869742,163.94645941278065)\"><text x=\"-2.5020000000000002\" y=\"2.2995\" style=\"fill:rgb(16.1%,15.3%,14.1%);fill-opacity:1.0\">1</text></g><g class=\"toytree-NodeLabel\" transform=\"translate(173.25924201869742,111.05354058721932)\"><text x=\"-2.5020000000000002\" y=\"2.2995\" style=\"fill:rgb(16.1%,15.3%,14.1%);fill-opacity:1.0\">2</text></g><g class=\"toytree-NodeLabel\" transform=\"translate(173.25924201869742,58.16062176165802)\"><text x=\"-2.5020000000000002\" y=\"2.2995\" style=\"fill:rgb(16.1%,15.3%,14.1%);fill-opacity:1.0\">3</text></g><g class=\"toytree-NodeLabel\" transform=\"translate(115.01173435742271,190.3929188255613)\"><text x=\"-2.5020000000000002\" y=\"2.2995\" style=\"fill:rgb(16.1%,15.3%,14.1%);fill-opacity:1.0\">4</text></g><g class=\"toytree-NodeLabel\" transform=\"translate(115.01173435742271,84.60708117443866)\"><text x=\"-2.5020000000000002\" y=\"2.2995\" style=\"fill:rgb(16.1%,15.3%,14.1%);fill-opacity:1.0\">5</text></g><g class=\"toytree-NodeLabel\" transform=\"translate(56.76422669614803,137.49999999999997)\"><text x=\"-2.5020000000000002\" y=\"2.2995\" style=\"fill:rgb(16.1%,15.3%,14.1%);fill-opacity:1.0\">6</text></g></g><g class=\"toytree-TipLabels\" style=\"fill:rgb(16.1%,15.3%,14.1%);fill-opacity:1.0;font-family:Helvetica;font-size:11.0px;font-weight:300;stroke:none;vertical-align:baseline;white-space:pre\"><g class=\"toytree-TipLabel\" transform=\"translate(173.25924201869742,216.839378238342)\"><text x=\"15.0\" y=\"2.8104999999999993\" style=\"\">c</text></g><g class=\"toytree-TipLabel\" transform=\"translate(173.25924201869742,163.94645941278065)\"><text x=\"15.0\" y=\"2.8104999999999993\" style=\"\">d</text></g><g class=\"toytree-TipLabel\" transform=\"translate(173.25924201869742,111.05354058721932)\"><text x=\"15.0\" y=\"2.8104999999999993\" style=\"\">a</text></g><g class=\"toytree-TipLabel\" transform=\"translate(173.25924201869742,58.16062176165802)\"><text x=\"15.0\" y=\"2.8104999999999993\" style=\"\">b</text></g></g></g></g></g></svg><div class=\"toyplot-behavior\"><script>(function()\n",
       "{\n",
       "var modules={};\n",
       "})();</script></div></div>"
      ]
     },
     "metadata": {},
     "output_type": "display_data"
    }
   ],
   "source": [
    "# root the tree by inserting a node along an edge that \"a\", \"b\" a clade.\n",
    "unrooted.root(\"a\", \"b\").draw(**style);\n",
    "unrooted.root(\"a\", \"b\").draw(ts='s');"
   ]
  },
  {
   "cell_type": "markdown",
   "metadata": {},
   "source": [
    "But what if we rooted it elsewhere? This is key to my statement above that \"we don't actually know which nodes are descended from which\" on an unrooted tree. For example, if we rooted the tree on sample \"a\", then \"a\" shares a MRCA with a clade formed by \"b\", \"c\" and \"d\". In other words, given this rooting, \"a\" and \"b\" *do not* share a MRCA as they do in the other example above."
   ]
  },
  {
   "cell_type": "code",
   "execution_count": 23,
   "metadata": {},
   "outputs": [
    {
     "data": {
      "text/html": [
       "<div class=\"toyplot\" id=\"t83bb89d497c24e1fb7125915b057ffa9\" style=\"text-align:center\"><svg class=\"toyplot-canvas-Canvas\" xmlns:toyplot=\"http://www.sandia.gov/toyplot\" xmlns:xlink=\"http://www.w3.org/1999/xlink\" xmlns=\"http://www.w3.org/2000/svg\" width=\"350.0px\" height=\"255.0px\" viewBox=\"0 0 350.0 255.0\" preserveAspectRatio=\"xMidYMid meet\" style=\"background-color:transparent;border-color:#292724;border-style:none;border-width:1.0;fill:rgb(16.1%,15.3%,14.1%);fill-opacity:1.0;font-family:Helvetica;font-size:12px;opacity:1.0;stroke:rgb(16.1%,15.3%,14.1%);stroke-opacity:1.0;stroke-width:1.0\" id=\"t72e67878a9d14266b47dbe4720b35d13\"><g class=\"toyplot-coordinates-Cartesian\" id=\"t743621a5257444d7828a9fc70326e2ad\"><clipPath id=\"tf4400ba73f5b41c988eed3390912c96f\"><rect x=\"35.0\" y=\"35.0\" width=\"280.0\" height=\"185.0\"></rect></clipPath><g clip-path=\"url(#tf4400ba73f5b41c988eed3390912c96f)\"><g class=\"toytree-mark-Toytree\" id=\"t98240df453814a6ca06e018bcda7b0b3\"><g class=\"toytree-Edges\" style=\"fill:none;stroke:rgba(16.1%,15.3%,14.1%,1.000);stroke-linecap:round;stroke-width:2.0\"><path d=\"M 253.1 159.6 L 285.2 191.2\" id=\"6,0\" style=\"stroke-width:nan\"></path><path d=\"M 221.0 128.0 L 285.2 64.8\" id=\"5,1\" style=\"stroke-width:nan\"></path><path d=\"M 130.1 128.0 L 65.9 64.8\" id=\"4,2\" style=\"stroke-width:nan\"></path><path d=\"M 130.1 128.0 L 65.9 191.2\" id=\"4,3\" style=\"stroke-width:nan\"></path><path d=\"M 221.0 128.0 L 130.1 128.0\" id=\"5,4\" style=\"stroke-width:nan\"></path><path d=\"M 253.1 159.6 L 221.0 128.0\" id=\"6,5\" style=\"stroke-width:nan\"></path></g><g class=\"toytree-Nodes\" style=\"fill:rgba(82.7%,82.7%,82.7%,1.000);stroke:#262626;stroke-width:1.0\"><g id=\"node-4\" transform=\"translate(130.148,127.995)\"><circle r=\"8.0\"></circle></g><g id=\"node-5\" transform=\"translate(220.973,127.995)\"><circle r=\"8.0\"></circle></g><g id=\"node-6\" transform=\"translate(253.084,159.611)\"><circle r=\"8.0\"></circle></g></g><g class=\"toytree-NodeLabels\" style=\"font-family:Helvetica;font-size:9.0px;font-weight:300;stroke:none;vertical-align:baseline;white-space:pre\"><g class=\"toytree-NodeLabel\" transform=\"translate(130.14848102106842,127.994941526949)\"><text x=\"-2.5020000000000002\" y=\"2.2995\" style=\"fill:rgb(16.1%,15.3%,14.1%);fill-opacity:1.0\">4</text></g><g class=\"toytree-NodeLabel\" transform=\"translate(220.97258519034003,127.99494152694903)\"><text x=\"-2.5020000000000002\" y=\"2.2995\" style=\"fill:rgb(16.1%,15.3%,14.1%);fill-opacity:1.0\">5</text></g><g class=\"toytree-NodeLabel\" transform=\"translate(253.08375516698268,159.61121973868177)\"><text x=\"-2.5020000000000002\" y=\"2.2995\" style=\"fill:rgb(16.1%,15.3%,14.1%);fill-opacity:1.0\">6</text></g></g><g class=\"toytree-TipLabels\" style=\"fill:rgb(16.1%,15.3%,14.1%);fill-opacity:1.0;font-family:Helvetica;font-size:12.0px;font-weight:300;stroke:none;vertical-align:baseline;white-space:pre\"><g class=\"toytree-TipLabel\" transform=\"translate(285.19492514362537,191.2274979504145)rotate(45.00000000000001)\"><text x=\"10.0\" y=\"3.066\" style=\"\">a</text></g><g class=\"toytree-TipLabel\" transform=\"translate(285.19492514362537,64.76238510348354)rotate(-71.56505117707799)\"><text x=\"10.0\" y=\"3.066\" style=\"\">b</text></g><g class=\"toytree-TipLabel\" transform=\"translate(65.92614106778313,64.76238510348354)rotate(-157.5)\"><text x=\"10.0\" y=\"3.066\" style=\"\">c</text></g><g class=\"toytree-TipLabel\" transform=\"translate(65.92614106778309,191.22749795041446)rotate(-202.5)\"><text x=\"10.0\" y=\"3.066\" style=\"\">d</text></g></g></g></g></g></svg><div class=\"toyplot-behavior\"><script>(function()\n",
       "{\n",
       "var modules={};\n",
       "})();</script></div></div>"
      ]
     },
     "metadata": {},
     "output_type": "display_data"
    },
    {
     "data": {
      "text/html": [
       "<div class=\"toyplot\" id=\"tc365f141308b45f0b781260fcad50cfa\" style=\"text-align:center\"><svg class=\"toyplot-canvas-Canvas\" xmlns:toyplot=\"http://www.sandia.gov/toyplot\" xmlns:xlink=\"http://www.w3.org/1999/xlink\" xmlns=\"http://www.w3.org/2000/svg\" width=\"255.0px\" height=\"275.0px\" viewBox=\"0 0 255.0 275.0\" preserveAspectRatio=\"xMidYMid meet\" style=\"background-color:transparent;border-color:#292724;border-style:none;border-width:1.0;fill:rgb(16.1%,15.3%,14.1%);fill-opacity:1.0;font-family:Helvetica;font-size:12px;opacity:1.0;stroke:rgb(16.1%,15.3%,14.1%);stroke-opacity:1.0;stroke-width:1.0\" id=\"t7f474f46e0994e2e957d4457cce9a287\"><g class=\"toyplot-coordinates-Cartesian\" id=\"tce1681444d0646a89e0b894c36d153ac\"><clipPath id=\"t97934387dae54a4b91dbbb066bdcc436\"><rect x=\"35.0\" y=\"35.0\" width=\"185.0\" height=\"205.0\"></rect></clipPath><g clip-path=\"url(#t97934387dae54a4b91dbbb066bdcc436)\"><g class=\"toytree-mark-Toytree\" id=\"t17dcf96a28eb454ca9705dd1e1ecc90a\"><g class=\"toytree-Edges\" style=\"fill:none;stroke:rgba(16.1%,15.3%,14.1%,1.000);stroke-linecap:round;stroke-width:2.0\"><path d=\"M 56.8 170.6 L 56.8 216.8 L 173.3 216.8\" id=\"6,0\" style=\"stroke-width:nan\"></path><path d=\"M 95.6 124.3 L 95.6 163.9 L 173.3 163.9\" id=\"5,1\" style=\"stroke-width:nan\"></path><path d=\"M 134.4 84.6 L 134.4 111.1 L 173.3 111.1\" id=\"4,2\" style=\"stroke-width:nan\"></path><path d=\"M 134.4 84.6 L 134.4 58.2 L 173.3 58.2\" id=\"4,3\" style=\"stroke-width:nan\"></path><path d=\"M 95.6 124.3 L 95.6 84.6 L 134.4 84.6\" id=\"5,4\" style=\"stroke-width:nan\"></path><path d=\"M 56.8 170.6 L 56.8 124.3 L 95.6 124.3\" id=\"6,5\" style=\"stroke-width:nan\"></path></g><g class=\"toytree-Nodes\" style=\"fill:rgba(82.7%,82.7%,82.7%,1.000);stroke:#262626;stroke-width:1.5\"><g id=\"node-0\" transform=\"translate(173.259,216.839)\"><circle r=\"9.0\"></circle></g><g id=\"node-1\" transform=\"translate(173.259,163.946)\"><circle r=\"9.0\"></circle></g><g id=\"node-2\" transform=\"translate(173.259,111.054)\"><circle r=\"9.0\"></circle></g><g id=\"node-3\" transform=\"translate(173.259,58.161)\"><circle r=\"9.0\"></circle></g><g id=\"node-4\" transform=\"translate(134.428,84.607)\"><circle r=\"9.0\"></circle></g><g id=\"node-5\" transform=\"translate(95.596,124.277)\"><circle r=\"9.0\"></circle></g><g id=\"node-6\" transform=\"translate(56.764,170.558)\"><circle r=\"9.0\"></circle></g></g><g class=\"toytree-NodeLabels\" style=\"font-family:Helvetica;font-size:9.0px;font-weight:300;stroke:none;vertical-align:baseline;white-space:pre\"><g class=\"toytree-NodeLabel\" transform=\"translate(173.25924201869742,216.839378238342)\"><text x=\"-2.5020000000000002\" y=\"2.2995\" style=\"fill:rgb(16.1%,15.3%,14.1%);fill-opacity:1.0\">0</text></g><g class=\"toytree-NodeLabel\" transform=\"translate(173.25924201869742,163.94645941278065)\"><text x=\"-2.5020000000000002\" y=\"2.2995\" style=\"fill:rgb(16.1%,15.3%,14.1%);fill-opacity:1.0\">1</text></g><g class=\"toytree-NodeLabel\" transform=\"translate(173.25924201869742,111.05354058721932)\"><text x=\"-2.5020000000000002\" y=\"2.2995\" style=\"fill:rgb(16.1%,15.3%,14.1%);fill-opacity:1.0\">2</text></g><g class=\"toytree-NodeLabel\" transform=\"translate(173.25924201869742,58.16062176165802)\"><text x=\"-2.5020000000000002\" y=\"2.2995\" style=\"fill:rgb(16.1%,15.3%,14.1%);fill-opacity:1.0\">3</text></g><g class=\"toytree-NodeLabel\" transform=\"translate(134.42757024451427,84.60708117443866)\"><text x=\"-2.5020000000000002\" y=\"2.2995\" style=\"fill:rgb(16.1%,15.3%,14.1%);fill-opacity:1.0\">4</text></g><g class=\"toytree-NodeLabel\" transform=\"translate(95.59589847033115,124.27677029360964)\"><text x=\"-2.5020000000000002\" y=\"2.2995\" style=\"fill:rgb(16.1%,15.3%,14.1%);fill-opacity:1.0\">5</text></g><g class=\"toytree-NodeLabel\" transform=\"translate(56.76422669614803,170.55807426597582)\"><text x=\"-2.5020000000000002\" y=\"2.2995\" style=\"fill:rgb(16.1%,15.3%,14.1%);fill-opacity:1.0\">6</text></g></g><g class=\"toytree-TipLabels\" style=\"fill:rgb(16.1%,15.3%,14.1%);fill-opacity:1.0;font-family:Helvetica;font-size:11.0px;font-weight:300;stroke:none;vertical-align:baseline;white-space:pre\"><g class=\"toytree-TipLabel\" transform=\"translate(173.25924201869742,216.839378238342)\"><text x=\"15.0\" y=\"2.8104999999999993\" style=\"\">a</text></g><g class=\"toytree-TipLabel\" transform=\"translate(173.25924201869742,163.94645941278065)\"><text x=\"15.0\" y=\"2.8104999999999993\" style=\"\">b</text></g><g class=\"toytree-TipLabel\" transform=\"translate(173.25924201869742,111.05354058721932)\"><text x=\"15.0\" y=\"2.8104999999999993\" style=\"\">c</text></g><g class=\"toytree-TipLabel\" transform=\"translate(173.25924201869742,58.16062176165802)\"><text x=\"15.0\" y=\"2.8104999999999993\" style=\"\">d</text></g></g></g></g></g></svg><div class=\"toyplot-behavior\"><script>(function()\n",
       "{\n",
       "var modules={};\n",
       "})();</script></div></div>"
      ]
     },
     "metadata": {},
     "output_type": "display_data"
    }
   ],
   "source": [
    "# root the tree by inserting a node along an edge that \"a\", \"b\" a clade.\n",
    "unrooted.root(\"a\").draw(**style);\n",
    "unrooted.root(\"a\").draw(ts='s');"
   ]
  },
  {
   "cell_type": "markdown",
   "metadata": {},
   "source": [
    "**Aside:** \n",
    "As a way of storing tree information, the newick format alone has a shortcoming in that a trichotomy at the root of the tree can actually have two different meanings: (1) the tree is unrooted; or (2) the tree is rooted but the deepest splits is unresolved (it is a polytomy). As we've just learned, these two scenarios would lead to trees that should be interpreted differently. Fortunately, other tree file formats such as NEXUS can include additional metadata that indicates whether or not the tree a tree is rooted, and additionally, researchers will typically be able to use their taxonomic knowledge of a system to infer this as well. "
   ]
  },
  {
   "cell_type": "markdown",
   "metadata": {},
   "source": [
    "### Edge length information (Divergence times, i.e., ages of clades)\n",
    "Additional information such as the ages of clades is easy to include in the newick format. Below you can see that the lengths of branches are simply numeric values placed next to parentheses or tips (nodes of the tree). Below we use a different tree style for plotting (`tree_style='n'`) since this style will show branch length differences. \n",
    "\n",
    "The units of this plot are not indicated. Thus we do not know if it is thousands of years, millions of years, or if the units are even meant to represent time. **Branch lengths on a tree can represent different things**. Sometimes we represent the number of *character differences* separating taxa as units of branch lengths, and these characters could be counted from morphological data, or genetic substitutions, or even by counting other features of the genome such as inversions or transposable elements. \n",
    "\n",
    "If a tree is inferred from DNA sequence data then the branch lengths could represent the number of observed DNA differences between species. Converting units of nucleotide or amino acid substitutions into units of time is a tricky business that involves making assumptions about the rate of mutations and the generation times of organisms."
   ]
  },
  {
   "cell_type": "code",
   "execution_count": 24,
   "metadata": {},
   "outputs": [
    {
     "data": {
      "text/html": [
       "<div class=\"toyplot\" id=\"t3fa91e6e7def4db089b0fbd2eeb3c676\" style=\"text-align:center\"><svg class=\"toyplot-canvas-Canvas\" xmlns:toyplot=\"http://www.sandia.gov/toyplot\" xmlns:xlink=\"http://www.w3.org/1999/xlink\" xmlns=\"http://www.w3.org/2000/svg\" width=\"295.0px\" height=\"275.0px\" viewBox=\"0 0 295.0 275.0\" preserveAspectRatio=\"xMidYMid meet\" style=\"background-color:transparent;border-color:#292724;border-style:none;border-width:1.0;fill:rgb(16.1%,15.3%,14.1%);fill-opacity:1.0;font-family:Helvetica;font-size:12px;opacity:1.0;stroke:rgb(16.1%,15.3%,14.1%);stroke-opacity:1.0;stroke-width:1.0\" id=\"t31052f356bea42ac8ee87153a66224fa\"><g class=\"toyplot-coordinates-Cartesian\" id=\"t820d23d2cc0a483488b03cdc3afe7de7\"><clipPath id=\"t495ecddb05c34f079ee7c607481965b1\"><rect x=\"35.0\" y=\"35.0\" width=\"225.0\" height=\"205.0\"></rect></clipPath><g clip-path=\"url(#t495ecddb05c34f079ee7c607481965b1)\"><g class=\"toytree-mark-Toytree\" id=\"t1b9860de3e6b4eb2a9eade97ef88eb9f\"><g class=\"toytree-Edges\" style=\"fill:none;stroke:rgba(16.1%,15.3%,14.1%,1.000);stroke-linecap:round;stroke-width:2.0\"><path d=\"M 50.0 180.7 L 50.0 218.9 L 167.3 218.9\" id=\"8,0\" style=\"stroke-width:nan\"></path><path d=\"M 89.1 142.6 L 89.1 178.2 L 167.3 178.2\" id=\"7,1\" style=\"stroke-width:nan\"></path><path d=\"M 128.2 107.0 L 128.2 137.5 L 167.3 137.5\" id=\"6,2\" style=\"stroke-width:nan\"></path><path d=\"M 157.6 76.5 L 157.6 96.8 L 167.3 96.8\" id=\"5,3\" style=\"stroke-width:nan\"></path><path d=\"M 157.6 76.5 L 157.6 56.1 L 167.3 56.1\" id=\"5,4\" style=\"stroke-width:nan\"></path><path d=\"M 128.2 107.0 L 128.2 76.5 L 157.6 76.5\" id=\"6,5\" style=\"stroke-width:nan\"></path><path d=\"M 89.1 142.6 L 89.1 107.0 L 128.2 107.0\" id=\"7,6\" style=\"stroke-width:nan\"></path><path d=\"M 50.0 180.7 L 50.0 142.6 L 89.1 142.6\" id=\"8,7\" style=\"stroke-width:nan\"></path></g><g class=\"toytree-TipLabels\" style=\"fill:rgb(16.1%,15.3%,14.1%);fill-opacity:1.0;font-family:Helvetica;font-size:11.0px;font-weight:300;stroke:none;vertical-align:baseline;white-space:pre\"><g class=\"toytree-TipLabel\" transform=\"translate(167.33720908703782,218.86291179596174)\"><text x=\"15.0\" y=\"2.8104999999999993\" style=\"\">gibbon</text></g><g class=\"toytree-TipLabel\" transform=\"translate(167.33720908703782,178.18145589798087)\"><text x=\"15.0\" y=\"2.8104999999999993\" style=\"\">orangutan</text></g><g class=\"toytree-TipLabel\" transform=\"translate(167.33720908703782,137.49999999999997)\"><text x=\"15.0\" y=\"2.8104999999999993\" style=\"\">gorilla</text></g><g class=\"toytree-TipLabel\" transform=\"translate(167.33720908703782,96.8185441020191)\"><text x=\"15.0\" y=\"2.8104999999999993\" style=\"\">chimp</text></g><g class=\"toytree-TipLabel\" transform=\"translate(167.33720908703782,56.137088204038236)\"><text x=\"15.0\" y=\"2.8104999999999993\" style=\"\">human</text></g></g></g></g><g class=\"toyplot-coordinates-Axis\" id=\"t349f88c154464ef49baaec06e21f800c\" transform=\"translate(50.0,225.0)translate(0,15.0)\"><line x1=\"0\" y1=\"0\" x2=\"117.33720908703782\" y2=\"0\" style=\"\"></line><g><line x1=\"0.0\" y1=\"0\" x2=\"0.0\" y2=\"-5\" style=\"\"></line><line x1=\"39.11240302901261\" y1=\"0\" x2=\"39.11240302901261\" y2=\"-5\" style=\"\"></line><line x1=\"78.22480605802522\" y1=\"0\" x2=\"78.22480605802522\" y2=\"-5\" style=\"\"></line><line x1=\"117.33720908703782\" y1=\"0\" x2=\"117.33720908703782\" y2=\"-5\" style=\"\"></line></g><g><g transform=\"translate(0.0,6)\"><text x=\"-2.78\" y=\"8.555\" style=\"fill:rgb(16.1%,15.3%,14.1%);fill-opacity:1.0;font-family:helvetica;font-size:10.0px;font-weight:normal;stroke:none;vertical-align:baseline;white-space:pre\">3</text></g><g transform=\"translate(39.11240302901261,6)\"><text x=\"-2.78\" y=\"8.555\" style=\"fill:rgb(16.1%,15.3%,14.1%);fill-opacity:1.0;font-family:helvetica;font-size:10.0px;font-weight:normal;stroke:none;vertical-align:baseline;white-space:pre\">2</text></g><g transform=\"translate(78.22480605802522,6)\"><text x=\"-2.78\" y=\"8.555\" style=\"fill:rgb(16.1%,15.3%,14.1%);fill-opacity:1.0;font-family:helvetica;font-size:10.0px;font-weight:normal;stroke:none;vertical-align:baseline;white-space:pre\">1</text></g><g transform=\"translate(117.33720908703782,6)\"><text x=\"-2.78\" y=\"8.555\" style=\"fill:rgb(16.1%,15.3%,14.1%);fill-opacity:1.0;font-family:helvetica;font-size:10.0px;font-weight:normal;stroke:none;vertical-align:baseline;white-space:pre\">0</text></g></g><g class=\"toyplot-coordinates-Axis-coordinates\" style=\"visibility:hidden\" transform=\"\"><line x1=\"0\" x2=\"0\" y1=\"-3.0\" y2=\"4.5\" style=\"stroke:rgb(43.9%,50.2%,56.5%);stroke-opacity:1.0;stroke-width:1.0\"></line><text x=\"0\" y=\"-6\" style=\"alignment-baseline:alphabetic;fill:rgb(43.9%,50.2%,56.5%);fill-opacity:1.0;font-size:10px;font-weight:normal;stroke:none;text-anchor:middle\"></text></g></g></g></svg><div class=\"toyplot-behavior\"><script>(function()\n",
       "{\n",
       "var modules={};\n",
       "modules[\"toyplot/canvas/id\"] = \"t31052f356bea42ac8ee87153a66224fa\";\n",
       "modules[\"toyplot/canvas\"] = (function(canvas_id)\n",
       "    {\n",
       "        return document.querySelector(\"#\" + canvas_id);\n",
       "    })(modules[\"toyplot/canvas/id\"]);\n",
       "modules[\"toyplot.coordinates.Axis\"] = (\n",
       "        function(canvas)\n",
       "        {\n",
       "            function sign(x)\n",
       "            {\n",
       "                return x < 0 ? -1 : x > 0 ? 1 : 0;\n",
       "            }\n",
       "\n",
       "            function mix(a, b, amount)\n",
       "            {\n",
       "                return ((1.0 - amount) * a) + (amount * b);\n",
       "            }\n",
       "\n",
       "            function log(x, base)\n",
       "            {\n",
       "                return Math.log(Math.abs(x)) / Math.log(base);\n",
       "            }\n",
       "\n",
       "            function in_range(a, x, b)\n",
       "            {\n",
       "                var left = Math.min(a, b);\n",
       "                var right = Math.max(a, b);\n",
       "                return left <= x && x <= right;\n",
       "            }\n",
       "\n",
       "            function inside(range, projection)\n",
       "            {\n",
       "                for(var i = 0; i != projection.length; ++i)\n",
       "                {\n",
       "                    var segment = projection[i];\n",
       "                    if(in_range(segment.range.min, range, segment.range.max))\n",
       "                        return true;\n",
       "                }\n",
       "                return false;\n",
       "            }\n",
       "\n",
       "            function to_domain(range, projection)\n",
       "            {\n",
       "                for(var i = 0; i != projection.length; ++i)\n",
       "                {\n",
       "                    var segment = projection[i];\n",
       "                    if(in_range(segment.range.bounds.min, range, segment.range.bounds.max))\n",
       "                    {\n",
       "                        if(segment.scale == \"linear\")\n",
       "                        {\n",
       "                            var amount = (range - segment.range.min) / (segment.range.max - segment.range.min);\n",
       "                            return mix(segment.domain.min, segment.domain.max, amount)\n",
       "                        }\n",
       "                        else if(segment.scale[0] == \"log\")\n",
       "                        {\n",
       "                            var amount = (range - segment.range.min) / (segment.range.max - segment.range.min);\n",
       "                            var base = segment.scale[1];\n",
       "                            return sign(segment.domain.min) * Math.pow(base, mix(log(segment.domain.min, base), log(segment.domain.max, base), amount));\n",
       "                        }\n",
       "                    }\n",
       "                }\n",
       "            }\n",
       "\n",
       "            var axes = {};\n",
       "\n",
       "            function display_coordinates(e)\n",
       "            {\n",
       "                var current = canvas.createSVGPoint();\n",
       "                current.x = e.clientX;\n",
       "                current.y = e.clientY;\n",
       "\n",
       "                for(var axis_id in axes)\n",
       "                {\n",
       "                    var axis = document.querySelector(\"#\" + axis_id);\n",
       "                    var coordinates = axis.querySelector(\".toyplot-coordinates-Axis-coordinates\");\n",
       "                    if(coordinates)\n",
       "                    {\n",
       "                        var projection = axes[axis_id];\n",
       "                        var local = current.matrixTransform(axis.getScreenCTM().inverse());\n",
       "                        if(inside(local.x, projection))\n",
       "                        {\n",
       "                            var domain = to_domain(local.x, projection);\n",
       "                            coordinates.style.visibility = \"visible\";\n",
       "                            coordinates.setAttribute(\"transform\", \"translate(\" + local.x + \")\");\n",
       "                            var text = coordinates.querySelector(\"text\");\n",
       "                            text.textContent = domain.toFixed(2);\n",
       "                        }\n",
       "                        else\n",
       "                        {\n",
       "                            coordinates.style.visibility= \"hidden\";\n",
       "                        }\n",
       "                    }\n",
       "                }\n",
       "            }\n",
       "\n",
       "            canvas.addEventListener(\"click\", display_coordinates);\n",
       "\n",
       "            var module = {};\n",
       "            module.show_coordinates = function(axis_id, projection)\n",
       "            {\n",
       "                axes[axis_id] = projection;\n",
       "            }\n",
       "\n",
       "            return module;\n",
       "        })(modules[\"toyplot/canvas\"]);\n",
       "(function(axis, axis_id, projection)\n",
       "        {\n",
       "            axis.show_coordinates(axis_id, projection);\n",
       "        })(modules[\"toyplot.coordinates.Axis\"],\"t349f88c154464ef49baaec06e21f800c\",[{\"domain\": {\"bounds\": {\"max\": Infinity, \"min\": -Infinity}, \"max\": 1.985630769230769, \"min\": -3.0}, \"range\": {\"bounds\": {\"max\": Infinity, \"min\": -Infinity}, \"max\": 195.0, \"min\": 0.0}, \"scale\": \"linear\"}]);\n",
       "})();</script></div></div>"
      ]
     },
     "metadata": {},
     "output_type": "display_data"
    }
   ],
   "source": [
    "newick2 = \"(gibbon:3,(orangutan:2,(gorilla:1,(chimp:0.25,human:0.25):0.75):1):1);\"\n",
    "toytree.tree(newick2).draw(tree_style='n', scale_bar=True);"
   ]
  },
  {
   "cell_type": "markdown",
   "metadata": {},
   "source": [
    "In a tree where branch lengths represent DNA substitutions, as opposed to time, is unlikely to have all the tips align. This is because different lineages may have different rates of evolution, or, even if their rates are the same, some may have accumulated more mutations by chance. \n",
    "\n",
    "Below is a mock example of what an inferred tree might look like when the edges are substitutions instead of time. This is sometimes called a phylogram while the above tree is a chronogram. Generally, though, we refer to both as phylogenies and simply label the axes and figure legends to describe what they represent. "
   ]
  },
  {
   "cell_type": "code",
   "execution_count": 25,
   "metadata": {},
   "outputs": [
    {
     "data": {
      "text/html": [
       "<div class=\"toyplot\" id=\"tff84afa041d04f5c8bfd826d03e8a947\" style=\"text-align:center\"><svg class=\"toyplot-canvas-Canvas\" xmlns:toyplot=\"http://www.sandia.gov/toyplot\" xmlns:xlink=\"http://www.w3.org/1999/xlink\" xmlns=\"http://www.w3.org/2000/svg\" width=\"295.0px\" height=\"275.0px\" viewBox=\"0 0 295.0 275.0\" preserveAspectRatio=\"xMidYMid meet\" style=\"background-color:transparent;border-color:#292724;border-style:none;border-width:1.0;fill:rgb(16.1%,15.3%,14.1%);fill-opacity:1.0;font-family:Helvetica;font-size:12px;opacity:1.0;stroke:rgb(16.1%,15.3%,14.1%);stroke-opacity:1.0;stroke-width:1.0\" id=\"t4849b2f0c9c94c858c84e7bef09fd007\"><g class=\"toyplot-coordinates-Cartesian\" id=\"tfb48b09f64ce477590b5a9f92fb5fe93\"><clipPath id=\"td94c8667f2be4f45a2a90ba6179bc205\"><rect x=\"35.0\" y=\"35.0\" width=\"225.0\" height=\"205.0\"></rect></clipPath><g clip-path=\"url(#td94c8667f2be4f45a2a90ba6179bc205)\"><g class=\"toytree-mark-Toytree\" id=\"t53f551c81bc2469b86b687808ead546c\"><g class=\"toytree-Edges\" style=\"fill:none;stroke:rgba(16.1%,15.3%,14.1%,1.000);stroke-linecap:round;stroke-width:2.0\"><path d=\"M 50.0 180.7 L 50.0 218.9 L 180.7 218.9\" id=\"8,0\" style=\"stroke-width:nan\"></path><path d=\"M 54.4 142.6 L 54.4 178.2 L 141.5 178.2\" id=\"7,1\" style=\"stroke-width:nan\"></path><path d=\"M 58.7 107.0 L 58.7 137.5 L 102.3 137.5\" id=\"6,2\" style=\"stroke-width:nan\"></path><path d=\"M 91.4 76.5 L 91.4 96.8 L 124.0 96.8\" id=\"5,3\" style=\"stroke-width:nan\"></path><path d=\"M 91.4 76.5 L 91.4 56.1 L 102.3 56.1\" id=\"5,4\" style=\"stroke-width:nan\"></path><path d=\"M 58.7 107.0 L 58.7 76.5 L 91.4 76.5\" id=\"6,5\" style=\"stroke-width:nan\"></path><path d=\"M 54.4 142.6 L 54.4 107.0 L 58.7 107.0\" id=\"7,6\" style=\"stroke-width:nan\"></path><path d=\"M 50.0 180.7 L 50.0 142.6 L 54.4 142.6\" id=\"8,7\" style=\"stroke-width:nan\"></path></g><g class=\"toytree-TipLabels\" style=\"fill:rgb(16.1%,15.3%,14.1%);fill-opacity:1.0;font-family:Helvetica;font-size:11.0px;font-weight:300;stroke:none;vertical-align:baseline;white-space:pre\"><g class=\"toytree-TipLabel\" transform=\"translate(180.65034840092906,218.86291179596174)\"><text x=\"15.0\" y=\"2.8104999999999993\" style=\"\">gibbon</text></g><g class=\"toytree-TipLabel\" transform=\"translate(141.45524388065036,178.18145589798087)\"><text x=\"15.0\" y=\"2.8104999999999993\" style=\"\">orangutan</text></g><g class=\"toytree-TipLabel\" transform=\"translate(102.26013936037162,137.49999999999997)\"><text x=\"15.0\" y=\"2.8104999999999993\" style=\"\">gorilla</text></g><g class=\"toytree-TipLabel\" transform=\"translate(124.03519742719315,96.8185441020191)\"><text x=\"15.0\" y=\"2.8104999999999993\" style=\"\">chimp</text></g><g class=\"toytree-TipLabel\" transform=\"translate(102.26013936037162,56.137088204038236)\"><text x=\"15.0\" y=\"2.8104999999999993\" style=\"\">human</text></g></g></g></g><g class=\"toyplot-coordinates-Axis\" id=\"t51b370dbaff34fac8d03a6b25c251877\" transform=\"translate(50.0,225.0)translate(0,15.0)\"><line x1=\"0\" y1=\"0\" x2=\"130.6503484009291\" y2=\"0\" style=\"\"></line><g><line x1=\"0.0\" y1=\"0\" x2=\"0.0\" y2=\"-5\" style=\"\"></line><line x1=\"43.55011613364304\" y1=\"0\" x2=\"43.55011613364304\" y2=\"-5\" style=\"\"></line><line x1=\"87.10023226728606\" y1=\"0\" x2=\"87.10023226728606\" y2=\"-5\" style=\"\"></line><line x1=\"130.6503484009291\" y1=\"0\" x2=\"130.6503484009291\" y2=\"-5\" style=\"\"></line></g><g><g transform=\"translate(0.0,6)\"><text x=\"-9.729999999999999\" y=\"8.555\" style=\"fill:rgb(16.1%,15.3%,14.1%);fill-opacity:1.0;font-family:helvetica;font-size:10.0px;font-weight:normal;stroke:none;vertical-align:baseline;white-space:pre\">0.03</text></g><g transform=\"translate(43.55011613364304,6)\"><text x=\"-9.729999999999999\" y=\"8.555\" style=\"fill:rgb(16.1%,15.3%,14.1%);fill-opacity:1.0;font-family:helvetica;font-size:10.0px;font-weight:normal;stroke:none;vertical-align:baseline;white-space:pre\">0.02</text></g><g transform=\"translate(87.10023226728606,6)\"><text x=\"-9.729999999999999\" y=\"8.555\" style=\"fill:rgb(16.1%,15.3%,14.1%);fill-opacity:1.0;font-family:helvetica;font-size:10.0px;font-weight:normal;stroke:none;vertical-align:baseline;white-space:pre\">0.01</text></g><g transform=\"translate(130.6503484009291,6)\"><text x=\"-2.78\" y=\"8.555\" style=\"fill:rgb(16.1%,15.3%,14.1%);fill-opacity:1.0;font-family:helvetica;font-size:10.0px;font-weight:normal;stroke:none;vertical-align:baseline;white-space:pre\">0</text></g></g><g transform=\"translate(97.5,22)\"><text x=\"-106.68599999999999\" y=\"10.265999999999998\" style=\"fill:rgb(16.1%,15.3%,14.1%);fill-opacity:1.0;font-family:helvetica;font-size:12.0px;font-weight:bold;stroke:none;vertical-align:baseline;white-space:pre\">divergence (nucleotide substitutions)</text></g><g class=\"toyplot-coordinates-Axis-coordinates\" style=\"visibility:hidden\" transform=\"\"><line x1=\"0\" x2=\"0\" y1=\"-3.0\" y2=\"4.5\" style=\"stroke:rgb(43.9%,50.2%,56.5%);stroke-opacity:1.0;stroke-width:1.0\"></line><text x=\"0\" y=\"-6\" style=\"alignment-baseline:alphabetic;fill:rgb(43.9%,50.2%,56.5%);fill-opacity:1.0;font-size:10px;font-weight:normal;stroke:none;text-anchor:middle\"></text></g></g></g></svg><div class=\"toyplot-behavior\"><script>(function()\n",
       "{\n",
       "var modules={};\n",
       "modules[\"toyplot/canvas/id\"] = \"t4849b2f0c9c94c858c84e7bef09fd007\";\n",
       "modules[\"toyplot/canvas\"] = (function(canvas_id)\n",
       "    {\n",
       "        return document.querySelector(\"#\" + canvas_id);\n",
       "    })(modules[\"toyplot/canvas/id\"]);\n",
       "modules[\"toyplot.coordinates.Axis\"] = (\n",
       "        function(canvas)\n",
       "        {\n",
       "            function sign(x)\n",
       "            {\n",
       "                return x < 0 ? -1 : x > 0 ? 1 : 0;\n",
       "            }\n",
       "\n",
       "            function mix(a, b, amount)\n",
       "            {\n",
       "                return ((1.0 - amount) * a) + (amount * b);\n",
       "            }\n",
       "\n",
       "            function log(x, base)\n",
       "            {\n",
       "                return Math.log(Math.abs(x)) / Math.log(base);\n",
       "            }\n",
       "\n",
       "            function in_range(a, x, b)\n",
       "            {\n",
       "                var left = Math.min(a, b);\n",
       "                var right = Math.max(a, b);\n",
       "                return left <= x && x <= right;\n",
       "            }\n",
       "\n",
       "            function inside(range, projection)\n",
       "            {\n",
       "                for(var i = 0; i != projection.length; ++i)\n",
       "                {\n",
       "                    var segment = projection[i];\n",
       "                    if(in_range(segment.range.min, range, segment.range.max))\n",
       "                        return true;\n",
       "                }\n",
       "                return false;\n",
       "            }\n",
       "\n",
       "            function to_domain(range, projection)\n",
       "            {\n",
       "                for(var i = 0; i != projection.length; ++i)\n",
       "                {\n",
       "                    var segment = projection[i];\n",
       "                    if(in_range(segment.range.bounds.min, range, segment.range.bounds.max))\n",
       "                    {\n",
       "                        if(segment.scale == \"linear\")\n",
       "                        {\n",
       "                            var amount = (range - segment.range.min) / (segment.range.max - segment.range.min);\n",
       "                            return mix(segment.domain.min, segment.domain.max, amount)\n",
       "                        }\n",
       "                        else if(segment.scale[0] == \"log\")\n",
       "                        {\n",
       "                            var amount = (range - segment.range.min) / (segment.range.max - segment.range.min);\n",
       "                            var base = segment.scale[1];\n",
       "                            return sign(segment.domain.min) * Math.pow(base, mix(log(segment.domain.min, base), log(segment.domain.max, base), amount));\n",
       "                        }\n",
       "                    }\n",
       "                }\n",
       "            }\n",
       "\n",
       "            var axes = {};\n",
       "\n",
       "            function display_coordinates(e)\n",
       "            {\n",
       "                var current = canvas.createSVGPoint();\n",
       "                current.x = e.clientX;\n",
       "                current.y = e.clientY;\n",
       "\n",
       "                for(var axis_id in axes)\n",
       "                {\n",
       "                    var axis = document.querySelector(\"#\" + axis_id);\n",
       "                    var coordinates = axis.querySelector(\".toyplot-coordinates-Axis-coordinates\");\n",
       "                    if(coordinates)\n",
       "                    {\n",
       "                        var projection = axes[axis_id];\n",
       "                        var local = current.matrixTransform(axis.getScreenCTM().inverse());\n",
       "                        if(inside(local.x, projection))\n",
       "                        {\n",
       "                            var domain = to_domain(local.x, projection);\n",
       "                            coordinates.style.visibility = \"visible\";\n",
       "                            coordinates.setAttribute(\"transform\", \"translate(\" + local.x + \")\");\n",
       "                            var text = coordinates.querySelector(\"text\");\n",
       "                            text.textContent = domain.toFixed(2);\n",
       "                        }\n",
       "                        else\n",
       "                        {\n",
       "                            coordinates.style.visibility= \"hidden\";\n",
       "                        }\n",
       "                    }\n",
       "                }\n",
       "            }\n",
       "\n",
       "            canvas.addEventListener(\"click\", display_coordinates);\n",
       "\n",
       "            var module = {};\n",
       "            module.show_coordinates = function(axis_id, projection)\n",
       "            {\n",
       "                axes[axis_id] = projection;\n",
       "            }\n",
       "\n",
       "            return module;\n",
       "        })(modules[\"toyplot/canvas\"]);\n",
       "(function(axis, axis_id, projection)\n",
       "        {\n",
       "            axis.show_coordinates(axis_id, projection);\n",
       "        })(modules[\"toyplot.coordinates.Axis\"],\"t51b370dbaff34fac8d03a6b25c251877\",[{\"domain\": {\"bounds\": {\"max\": Infinity, \"min\": -Infinity}, \"max\": 0.014775999999999997, \"min\": -0.03}, \"range\": {\"bounds\": {\"max\": Infinity, \"min\": -Infinity}, \"max\": 195.0, \"min\": 0.0}, \"scale\": \"linear\"}]);\n",
       "})();</script></div></div>"
      ]
     },
     "metadata": {},
     "output_type": "display_data"
    }
   ],
   "source": [
    "newick3 = \"(gibbon:0.03,(orangutan:0.02,(gorilla:0.01,(chimp:0.0075,human:0.0025):0.0075):0.001):0.001);\"\n",
    "tree3 = toytree.tree(newick3)\n",
    "c, a, m = tree3.draw(tree_style='n', scale_bar=True);\n",
    "a.x.label.text = \"divergence (nucleotide substitutions)\""
   ]
  },
  {
   "cell_type": "markdown",
   "metadata": {},
   "source": [
    "<div class=\"alert alert-success\">\n",
    "    <h3>Action 3:</h3> \n",
    "    \n",
    "Try to write a newick string for the relationships of six taxa using letters for names (a-f), and plot the tree. Try to write it so that `'a'` and `'b'` are sister taxa (share an exclusive MRCA), and so that `'f'` is the outgroup sample. Look back at previous examples for guidance. \n",
    "\n",
    "If your newick string is malformed then the `toytree.tree` function will raise an Error. If this happens modify your newick string and try again. \n",
    "\n",
    "</div>"
   ]
  },
  {
   "cell_type": "markdown",
   "metadata": {},
   "source": [
    "<div class=\"alert alert-warning\">\n",
    "\n",
    "<details>\n",
    "  <summary><h3>Click for answer.</h3></summary>\n",
    "  \n",
    "```python\n",
    "\n",
    "# simple solution: only create minimum requested clades\n",
    "newick = \"(f,((a,b),(c,d,e)));\" \n",
    "toytree.tree(newick).draw(ts='s');\n",
    "    \n",
    "# full solution: added random resolution of other samples\n",
    "newick = \"(f,((a,b),(c,(d,e))));\" \n",
    "toytree.tree(newick).draw(ts='s'); \n",
    "```\n",
    "    \n",
    "</details>\n",
    "\n",
    "\n",
    "<div>"
   ]
  }
 ],
 "metadata": {
  "kernelspec": {
   "display_name": "Python 3 (ipykernel)",
   "language": "python",
   "name": "python3"
  },
  "language_info": {
   "codemirror_mode": {
    "name": "ipython",
    "version": 3
   },
   "file_extension": ".py",
   "mimetype": "text/x-python",
   "name": "python",
   "nbconvert_exporter": "python",
   "pygments_lexer": "ipython3",
   "version": "3.9.12"
  }
 },
 "nbformat": 4,
 "nbformat_minor": 2
}
